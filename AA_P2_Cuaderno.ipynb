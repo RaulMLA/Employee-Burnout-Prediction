{
  "nbformat": 4,
  "nbformat_minor": 0,
  "metadata": {
    "colab": {
      "provenance": []
    },
    "kernelspec": {
      "name": "python3",
      "display_name": "Python 3"
    },
    "language_info": {
      "name": "python"
    }
  },
  "cells": [
    {
      "cell_type": "markdown",
      "source": [
        "![LogoUC3M](https://upload.wikimedia.org/wikipedia/commons/4/47/Acronimo_y_nombre_uc3m.png)\n",
        "\n",
        "Aprendizaje Automático · Grado en Ingeniería Informática · Curso 2022/23\n",
        "---\n",
        "**Cuaderno** - Práctica 2: Predicción del abandono (burnout) de empleados\n",
        "<br><br>\n",
        "***Grupo Reducido 82 - Grupo de laboratorio 13***"
      ],
      "metadata": {
        "id": "4Zg6lzjIRM8W"
      }
    },
    {
      "cell_type": "markdown",
      "source": [
        "# **Carga de datos**\n",
        "Para comenzar, importaremos las bibliotecas que necesitamos:\n",
        "\n",
        "+ `biblioteca`: Definición."
      ],
      "metadata": {
        "id": "DLK890XpZQO8"
      }
    },
    {
      "cell_type": "markdown",
      "source": [
        " ################################### <br>\n",
        "**(AQUÍ VAN LAS BIBLIOTECAS NECESARIAS)<br>\n",
        "(AQUÍ VAN LAS BIBLIOTECAS NECESARIAS)<br>\n",
        "(AQUÍ VAN LAS BIBLIOTECAS NECESARIAS)<br>\n",
        "(AQUÍ VAN LAS BIBLIOTECAS NECESARIAS)<br>\n",
        "(AQUÍ VAN LAS BIBLIOTECAS NECESARIAS)**<br>\n",
        " ################################### <br>"
      ],
      "metadata": {
        "id": "fpX3dkaNYsew"
      }
    },
    {
      "cell_type": "markdown",
      "source": [
        "Una vez instaladas las bibliotecas necesarias, importamos **Numpy** y **Pandas** ya que los necesitaremos para el desarrollo de la práctica.\n",
        "Destacar que nos referiremos a **Numpy** como *np* y a **Pandas** como *pd* por simplicidad."
      ],
      "metadata": {
        "id": "u8-9pA4sYxg8"
      }
    },
    {
      "cell_type": "code",
      "source": [
        "import numpy as np\n",
        "import pandas as pd"
      ],
      "metadata": {
        "id": "SHJtOGN7YvSJ"
      },
      "execution_count": 8,
      "outputs": []
    },
    {
      "cell_type": "markdown",
      "source": [
        "A continuación, cargaremos los datos necesarios. Dado que somos el **grupo 13**, usaremos los dos conjuntos de datos correspondientes.</br></br>Los datos serán divididos en un conjunto de **train** para entrenar y ajustar hiperparámetros, y un conjunto de **test** en el que evaluaremos las distintas posibilidades que se probarán en la práctica.</br></br>"
      ],
      "metadata": {
        "id": "p1e9JjuNZa7L"
      }
    },
    {
      "cell_type": "code",
      "source": [
        "import pickle\n",
        "\n",
        "# Datos disponibles.\n",
        "with open('attrition_available_13.pkl', 'rb') as f:\n",
        "    data = pickle.load(f)\n",
        "\n",
        "df = pd.DataFrame(data)\n",
        "\n",
        "print(df)\n",
        "\n",
        "# Mostramos la información del conjunto de datos.\n",
        "print(f\"El conjunto de datos tiene {len(df)} instancias.\")"
      ],
      "metadata": {
        "colab": {
          "base_uri": "https://localhost:8080/"
        },
        "id": "6slH0IAEVEQJ",
        "outputId": "e889dc5f-4b05-44a9-c2eb-b5da22a1e293"
      },
      "execution_count": 9,
      "outputs": [
        {
          "output_type": "stream",
          "name": "stdout",
          "text": [
            "           hrs  absences  JobInvolvement  PerformanceRating  \\\n",
            "1     7.315971      13.0             2.0                4.0   \n",
            "6     6.450877      17.0             3.0                4.0   \n",
            "13         NaN      14.0             NaN                3.0   \n",
            "28         NaN       NaN             2.0                3.0   \n",
            "30    9.662808      11.0             NaN                3.0   \n",
            "...        ...       ...             ...                ...   \n",
            "4405  8.316921       6.0             3.0                3.0   \n",
            "4406  5.897197       8.0             2.0                3.0   \n",
            "4407  7.149526      18.0             3.0                NaN   \n",
            "4408  9.187612       NaN             NaN                3.0   \n",
            "4409  6.511790      17.0             NaN                3.0   \n",
            "\n",
            "      EnvironmentSatisfaction  JobSatisfaction  WorkLifeBalance   Age  \\\n",
            "1                         3.0              2.0              NaN   NaN   \n",
            "6                         1.0              3.0              1.0  28.0   \n",
            "13                        NaN              2.0              2.0  47.0   \n",
            "28                        NaN              3.0              1.0  44.0   \n",
            "30                        1.0              2.0              3.0  26.0   \n",
            "...                       ...              ...              ...   ...   \n",
            "4405                      4.0              1.0              3.0  42.0   \n",
            "4406                      4.0              NaN              3.0   NaN   \n",
            "4407                      1.0              3.0              3.0  25.0   \n",
            "4408                      4.0              1.0              3.0  42.0   \n",
            "4409                      1.0              3.0              NaN  40.0   \n",
            "\n",
            "     Attrition     BusinessTravel  ... NumCompaniesWorked  Over18  \\\n",
            "1          Yes  Travel_Frequently  ...                0.0       Y   \n",
            "6          Yes      Travel_Rarely  ...                2.0       Y   \n",
            "13         Yes         Non-Travel  ...                NaN     NaN   \n",
            "28         Yes  Travel_Frequently  ...                3.0       Y   \n",
            "30         Yes      Travel_Rarely  ...                2.0       Y   \n",
            "...        ...                ...  ...                ...     ...   \n",
            "4405        No      Travel_Rarely  ...                3.0       Y   \n",
            "4406        No      Travel_Rarely  ...                2.0       Y   \n",
            "4407        No      Travel_Rarely  ...                0.0     NaN   \n",
            "4408        No      Travel_Rarely  ...                0.0       Y   \n",
            "4409        No      Travel_Rarely  ...                0.0       Y   \n",
            "\n",
            "      PercentSalaryHike StandardHours  StockOptionLevel  TotalWorkingYears  \\\n",
            "1                   NaN           8.0               1.0                6.0   \n",
            "6                  20.0           8.0               1.0                5.0   \n",
            "13                  NaN           8.0               2.0               10.0   \n",
            "28                 14.0           8.0               1.0                NaN   \n",
            "30                 11.0           8.0               NaN                5.0   \n",
            "...                 ...           ...               ...                ...   \n",
            "4405                NaN           8.0               1.0               10.0   \n",
            "4406               15.0           8.0               0.0               10.0   \n",
            "4407                NaN           8.0               0.0                5.0   \n",
            "4408               14.0           8.0               1.0               10.0   \n",
            "4409               12.0           8.0               0.0                NaN   \n",
            "\n",
            "     TrainingTimesLastYear  YearsAtCompany YearsSinceLastPromotion  \\\n",
            "1                      3.0             5.0                       1   \n",
            "6                      2.0             NaN                       0   \n",
            "13                     4.0            10.0                       9   \n",
            "28                     2.0             NaN                       0   \n",
            "30                     5.0             3.0                       0   \n",
            "...                    ...             ...                     ...   \n",
            "4405                   NaN             3.0                       0   \n",
            "4406                   2.0             NaN                       0   \n",
            "4407                   4.0             4.0                       1   \n",
            "4408                   2.0             NaN                       7   \n",
            "4409                   6.0            21.0                       3   \n",
            "\n",
            "     YearsWithCurrManager  \n",
            "1                     NaN  \n",
            "6                     0.0  \n",
            "13                    9.0  \n",
            "28                    0.0  \n",
            "30                    2.0  \n",
            "...                   ...  \n",
            "4405                  2.0  \n",
            "4406                  NaN  \n",
            "4407                  2.0  \n",
            "4408                  8.0  \n",
            "4409                  9.0  \n",
            "\n",
            "[4410 rows x 31 columns]\n",
            "El conjunto de datos tiene 4410 instancias.\n"
          ]
        }
      ]
    },
    {
      "cell_type": "markdown",
      "source": [
        "A continuación, separamos la **matriz de atributos** (**X**) y el **vector de la variable de respuesta** *salida* (**y**)."
      ],
      "metadata": {
        "id": "eAJdBXFTbzlR"
      }
    },
    {
      "cell_type": "code",
      "source": [
        "# Datos.\n",
        "X = df.drop('Attrition', axis=1)\n",
        "\n",
        "# Etiquetas.\n",
        "y = df.Attrition\n",
        "\n",
        "print(y)"
      ],
      "metadata": {
        "colab": {
          "base_uri": "https://localhost:8080/"
        },
        "id": "8-XNPp1Cb0XD",
        "outputId": "6d87def9-31dd-44a0-c994-665f1cf3aa8e"
      },
      "execution_count": 11,
      "outputs": [
        {
          "output_type": "stream",
          "name": "stdout",
          "text": [
            "1       Yes\n",
            "6       Yes\n",
            "13      Yes\n",
            "28      Yes\n",
            "30      Yes\n",
            "       ... \n",
            "4405     No\n",
            "4406     No\n",
            "4407     No\n",
            "4408     No\n",
            "4409     No\n",
            "Name: Attrition, Length: 4410, dtype: object\n"
          ]
        }
      ]
    },
    {
      "cell_type": "markdown",
      "source": [
        "# **Análisis Exploratorio de Datos (EDA)**\n",
        "Antes de comenzar, destacar que dado que los resultados deben ser reproducibles, hemos fijado la **semilla de números aleatorios** en los lugares adecuados. Para ello, hemos seleccionado como semilla el número del grupo de prácticas (*13*).</br></br>\n",
        "Para poder realizar el análisis exploratorio de datos, llevaremos a cabo los siguientes pasos:\n",
        "\n",
        "+ Número de instancias y atributos.\n",
        "+ Tipo de atributos (numéricos o categóricos).\n",
        "+ Columnas constantes o innecesarias.\n",
        "+ Proporción de *missing values*.\n",
        "+ Tipo de problema (clasificación o regresión).\n",
        "+ Desbalance."
      ],
      "metadata": {
        "id": "stD5IojGVU9E"
      }
    },
    {
      "cell_type": "markdown",
      "source": [
        "## **Número de instancias y atributos**\n",
        "\n",
        "## **Número de instancias y atributos**\n",
        "Los **datos** cuentan con 30 atributos y la variable de respuesta *Attrition*. En total, contamos con un total de **4410 instancias**.</br></br>\n",
        "\n",
        "A continuación, profundizaremos más en los atributos, su significado y nomenclatura.</br></br>\n",
        "\n",
        "Como podemos ver en la siguiente tabla, contamos con **30 atributos** diferentes, cada uno de ellos con su respectivo nombre (identificador) y con su unidad concreta. Estos atributos corresponden con **variables sobre empleados de la empresa recopilados por el departamento de recursos humanos**. El último valor que podemos observar es la predicción de abandono de empleados (burnout) o, de otra forma, la variable de salida de nuestros datos.</br></br>\n",
        "\n",
        "| Columna | Descripción | Tipo de dato |\n",
        "| :- | :- | -: |\n",
        "| `hrs` | Número de horas trabajadas. | $float64$ |\n",
        "| `absences` | Descripción. | $float64$ |\n",
        "| `JobInvolvement` | Descripción. | $float64$ |\n",
        "| `PerformanceRating` | Descripción. | $float64$ |\n",
        "| `EnvironmentSatisfaction`\t | Descripción. | $float64$ |\n",
        "| `JobSatisfaction`\t | Descripción. | $float64$ |\n",
        "| `WorkLifeBalance`\t | Descripción. | $float64$ |\n",
        "| `Age` | Descripción. | $float64$ |\n",
        "| `BusinessTravel` | Descripción. | $object$ |\n",
        "| `Department` | Descripción.\t| $object$ |\n",
        "| `DistanceFromHome` | Descripción. | $float64$ |\n",
        "| `Education` | Descripción. | $int64$ |\n",
        "| `EducationField` | Descripción. | $object$ |\n",
        "| `EmployeeCount` | Descripción. | $float64$ |\n",
        "| `EmployeeID` | Descripción. | $int64$ |\n",
        "| `Gender` | Descripción. | $object$ |\n",
        "| `JobLevel` | Descripción. | $float64$ |\n",
        "| `JobRole` | Descripción. | $object$ |\n",
        "| `MaritalStatus` | Descripción. | $object$ |\n",
        "| `MonthlyIncome` | Descripción. | $float64$ |\n",
        "| `NumCompaniesWorked` | Descripción. | $float64$ |\n",
        "| `Over18` | Descripción. | $object$ |\n",
        "| `PercentSalaryHike` | Descripción. | $float64$ |\n",
        "| `StandardHours` | Descripción. | $float64$ |\n",
        "| `StackOptionLevel` | Descripción. | $float64$ |\n",
        "| `TotalWorkingYears` | Descripción. | $float64$ |\n",
        "| `TrainingTimesLastYear` | Descripción. | $float64$ |\n",
        "| `YearsAtCompany` | Descripción. | $float64$ |\n",
        "| `YearsSinceLastPromotion` | Descripción. | $float64$ |\n",
        "| `YearsWithCurrManager` | Descripción. | $float64$ |\n",
        "| `Attrition` | Descripción. | $object$ |\n"
      ],
      "metadata": {
        "id": "CZyRhuKuVeWT"
      }
    },
    {
      "cell_type": "code",
      "source": [],
      "metadata": {
        "id": "so9lZbnoVVsS"
      },
      "execution_count": null,
      "outputs": []
    },
    {
      "cell_type": "markdown",
      "source": [
        "## **Tipo de atributos**\n",
        "\n",
        "Dentro de los diferentes tipos de atributos de los datos podemos encontrar los categóricos, numéricos u ordinales.</br></br>\n",
        "\n",
        "En el caso de nuestros datos, podemos ver como claramente como cada uno de ellos es de un tipo diferente como indicamos en la siguiente tabla.</br></br>\n",
        "\n",
        "| Columna | Tipo de atributo |\n",
        "| :- | -: |\n",
        "| `hrs` | $(tipo)$ |\n",
        "| `absences` | $(tipo)$ |\n",
        "| `JobInvolvement` | $(tipo)$ |\n",
        "| `PerformanceRating` | $(tipo)$ |\n",
        "| `EnvironmentSatisfaction` | $(tipo)$ |\n",
        "| `JobSatisfaction` | $(tipo)$ |\n",
        "| `WorkLifeBalance` | $(tipo)$ |\n",
        "| `Age` | $(tipo)$ |\n",
        "| `BusinessTravel` | $(tipo)$ |\n",
        "| `Department` | $(tipo)$ |\n",
        "| `DistanceFromHome` | $(tipo)$ |\n",
        "| `Education` | $(tipo)$ |\n",
        "| `EducationField` | $(tipo)$ |\n",
        "| `EmployeeCount` | $(tipo)$ |\n",
        "| `EmployeeID` | $(tipo)$ |\n",
        "| `Gender` | $(tipo)$ |\n",
        "| `JobLevel` | $(tipo)$ |\n",
        "| `JobRole` | $(tipo)$ |\n",
        "| `MaritalStatus` | $(tipo)$ |\n",
        "| `MonthlyIncome` | $(tipo)$ |\n",
        "| `NumCompaniesWorked` | $(tipo)$ |\n",
        "| `Over18` | $(tipo)$ |\n",
        "| `PercentSalaryHike` | $(tipo)$ |\n",
        "| `StandardHours` | $(tipo)$ |\n",
        "| `StackOptionLevel` | $(tipo)$ |\n",
        "| `TotalWorkingYears` | $(tipo)$ |\n",
        "| `TrainingTimesLastYear` | $(tipo)$ |\n",
        "| `YearsAtCompany` | $(tipo)$ |\n",
        "| `YearsSinceLastPromotion` | $(tipo)$ |\n",
        "| `YearsWithCurrManager` | $(tipo)$ |\n",
        "| `Attrition` | $(tipo)$ |\n",
        "\n",
        "<br><br>\n",
        "Por tanto, dado que no todos los datos con los que vamos a tratar son atributos numéricos, tendremos que transformar las variables categóricas en **one-hot-encoding** y las variables ordinales en numéricas."
      ],
      "metadata": {
        "id": "Y042xoUAVVJw"
      }
    },
    {
      "cell_type": "code",
      "source": [],
      "metadata": {
        "id": "5M7m_TlaVWMc"
      },
      "execution_count": null,
      "outputs": []
    },
    {
      "cell_type": "markdown",
      "source": [
        "## **Columnas constantes o innecesarias**"
      ],
      "metadata": {
        "id": "nxB3xy13byJg"
      }
    },
    {
      "cell_type": "code",
      "source": [],
      "metadata": {
        "id": "2IdNJyk-byQk"
      },
      "execution_count": null,
      "outputs": []
    },
    {
      "cell_type": "markdown",
      "source": [
        "## **Proporción de missing values**\n",
        "\n",
        "A continuación, comprobaremos los **missings values** que existen en nuestros datos. Para ello, tomaremos el dataframe de datos creado anteriormente y haremos una suma por atributo de los missing values y lo compararemos con el número total de valores. Tras esto, crearemos una tabla para poder ver de manera clara las proporciones de missing values de cada atributo."
      ],
      "metadata": {
        "id": "RrXpXw-BbyXS"
      }
    },
    {
      "cell_type": "code",
      "source": [
        "# Función que cuenta el número de missing values por atributos,\n",
        "def missing_values_table(df):\n",
        "    mis_val = df.isnull().sum()\n",
        "    mis_val_percent = 100 * df.isnull().sum() / len(df)\n",
        "    mis_val_percent_rounded = mis_val_percent.round(2).astype(str) + '%'\n",
        "    mis_val_table = pd.concat([mis_val, mis_val_percent_rounded], axis=1)\n",
        "    mis_val_table_ren_columns = mis_val_table.rename(\n",
        "    columns = {0 : 'Missing Values', 1 : 'Proporción'})\n",
        "    return mis_val_table_ren_columns\n",
        "  \n",
        "# Generamos las proporciones de missing values.\n",
        "missing_values_table(df)"
      ],
      "metadata": {
        "id": "Dix754XKbydi",
        "colab": {
          "base_uri": "https://localhost:8080/",
          "height": 1000
        },
        "outputId": "659f7fab-9e67-4736-9b70-5190e7290dfd"
      },
      "execution_count": 20,
      "outputs": [
        {
          "output_type": "execute_result",
          "data": {
            "text/plain": [
              "                         Missing Values Proporción\n",
              "hrs                                 943     21.38%\n",
              "absences                            755     17.12%\n",
              "JobInvolvement                      884     20.05%\n",
              "PerformanceRating                   962     21.81%\n",
              "EnvironmentSatisfaction             811     18.39%\n",
              "JobSatisfaction                     904      20.5%\n",
              "WorkLifeBalance                     935      21.2%\n",
              "Age                                 825     18.71%\n",
              "Attrition                             0       0.0%\n",
              "BusinessTravel                      852     19.32%\n",
              "Department                            0       0.0%\n",
              "DistanceFromHome                    884     20.05%\n",
              "Education                           910     20.63%\n",
              "EducationField                      769     17.44%\n",
              "EmployeeCount                       897     20.34%\n",
              "EmployeeID                          964     21.86%\n",
              "Gender                                0       0.0%\n",
              "JobLevel                            779     17.66%\n",
              "JobRole                               0       0.0%\n",
              "MaritalStatus                       932     21.13%\n",
              "MonthlyIncome                       755     17.12%\n",
              "NumCompaniesWorked                  816      18.5%\n",
              "Over18                              822     18.64%\n",
              "PercentSalaryHike                   868     19.68%\n",
              "StandardHours                       708     16.05%\n",
              "StockOptionLevel                    755     17.12%\n",
              "TotalWorkingYears                   915     20.75%\n",
              "TrainingTimesLastYear               790     17.91%\n",
              "YearsAtCompany                      729     16.53%\n",
              "YearsSinceLastPromotion               0       0.0%\n",
              "YearsWithCurrManager                747     16.94%"
            ],
            "text/html": [
              "\n",
              "  <div id=\"df-3e55af49-215e-494d-9988-43217a4f1d7f\">\n",
              "    <div class=\"colab-df-container\">\n",
              "      <div>\n",
              "<style scoped>\n",
              "    .dataframe tbody tr th:only-of-type {\n",
              "        vertical-align: middle;\n",
              "    }\n",
              "\n",
              "    .dataframe tbody tr th {\n",
              "        vertical-align: top;\n",
              "    }\n",
              "\n",
              "    .dataframe thead th {\n",
              "        text-align: right;\n",
              "    }\n",
              "</style>\n",
              "<table border=\"1\" class=\"dataframe\">\n",
              "  <thead>\n",
              "    <tr style=\"text-align: right;\">\n",
              "      <th></th>\n",
              "      <th>Missing Values</th>\n",
              "      <th>Proporción</th>\n",
              "    </tr>\n",
              "  </thead>\n",
              "  <tbody>\n",
              "    <tr>\n",
              "      <th>hrs</th>\n",
              "      <td>943</td>\n",
              "      <td>21.38%</td>\n",
              "    </tr>\n",
              "    <tr>\n",
              "      <th>absences</th>\n",
              "      <td>755</td>\n",
              "      <td>17.12%</td>\n",
              "    </tr>\n",
              "    <tr>\n",
              "      <th>JobInvolvement</th>\n",
              "      <td>884</td>\n",
              "      <td>20.05%</td>\n",
              "    </tr>\n",
              "    <tr>\n",
              "      <th>PerformanceRating</th>\n",
              "      <td>962</td>\n",
              "      <td>21.81%</td>\n",
              "    </tr>\n",
              "    <tr>\n",
              "      <th>EnvironmentSatisfaction</th>\n",
              "      <td>811</td>\n",
              "      <td>18.39%</td>\n",
              "    </tr>\n",
              "    <tr>\n",
              "      <th>JobSatisfaction</th>\n",
              "      <td>904</td>\n",
              "      <td>20.5%</td>\n",
              "    </tr>\n",
              "    <tr>\n",
              "      <th>WorkLifeBalance</th>\n",
              "      <td>935</td>\n",
              "      <td>21.2%</td>\n",
              "    </tr>\n",
              "    <tr>\n",
              "      <th>Age</th>\n",
              "      <td>825</td>\n",
              "      <td>18.71%</td>\n",
              "    </tr>\n",
              "    <tr>\n",
              "      <th>Attrition</th>\n",
              "      <td>0</td>\n",
              "      <td>0.0%</td>\n",
              "    </tr>\n",
              "    <tr>\n",
              "      <th>BusinessTravel</th>\n",
              "      <td>852</td>\n",
              "      <td>19.32%</td>\n",
              "    </tr>\n",
              "    <tr>\n",
              "      <th>Department</th>\n",
              "      <td>0</td>\n",
              "      <td>0.0%</td>\n",
              "    </tr>\n",
              "    <tr>\n",
              "      <th>DistanceFromHome</th>\n",
              "      <td>884</td>\n",
              "      <td>20.05%</td>\n",
              "    </tr>\n",
              "    <tr>\n",
              "      <th>Education</th>\n",
              "      <td>910</td>\n",
              "      <td>20.63%</td>\n",
              "    </tr>\n",
              "    <tr>\n",
              "      <th>EducationField</th>\n",
              "      <td>769</td>\n",
              "      <td>17.44%</td>\n",
              "    </tr>\n",
              "    <tr>\n",
              "      <th>EmployeeCount</th>\n",
              "      <td>897</td>\n",
              "      <td>20.34%</td>\n",
              "    </tr>\n",
              "    <tr>\n",
              "      <th>EmployeeID</th>\n",
              "      <td>964</td>\n",
              "      <td>21.86%</td>\n",
              "    </tr>\n",
              "    <tr>\n",
              "      <th>Gender</th>\n",
              "      <td>0</td>\n",
              "      <td>0.0%</td>\n",
              "    </tr>\n",
              "    <tr>\n",
              "      <th>JobLevel</th>\n",
              "      <td>779</td>\n",
              "      <td>17.66%</td>\n",
              "    </tr>\n",
              "    <tr>\n",
              "      <th>JobRole</th>\n",
              "      <td>0</td>\n",
              "      <td>0.0%</td>\n",
              "    </tr>\n",
              "    <tr>\n",
              "      <th>MaritalStatus</th>\n",
              "      <td>932</td>\n",
              "      <td>21.13%</td>\n",
              "    </tr>\n",
              "    <tr>\n",
              "      <th>MonthlyIncome</th>\n",
              "      <td>755</td>\n",
              "      <td>17.12%</td>\n",
              "    </tr>\n",
              "    <tr>\n",
              "      <th>NumCompaniesWorked</th>\n",
              "      <td>816</td>\n",
              "      <td>18.5%</td>\n",
              "    </tr>\n",
              "    <tr>\n",
              "      <th>Over18</th>\n",
              "      <td>822</td>\n",
              "      <td>18.64%</td>\n",
              "    </tr>\n",
              "    <tr>\n",
              "      <th>PercentSalaryHike</th>\n",
              "      <td>868</td>\n",
              "      <td>19.68%</td>\n",
              "    </tr>\n",
              "    <tr>\n",
              "      <th>StandardHours</th>\n",
              "      <td>708</td>\n",
              "      <td>16.05%</td>\n",
              "    </tr>\n",
              "    <tr>\n",
              "      <th>StockOptionLevel</th>\n",
              "      <td>755</td>\n",
              "      <td>17.12%</td>\n",
              "    </tr>\n",
              "    <tr>\n",
              "      <th>TotalWorkingYears</th>\n",
              "      <td>915</td>\n",
              "      <td>20.75%</td>\n",
              "    </tr>\n",
              "    <tr>\n",
              "      <th>TrainingTimesLastYear</th>\n",
              "      <td>790</td>\n",
              "      <td>17.91%</td>\n",
              "    </tr>\n",
              "    <tr>\n",
              "      <th>YearsAtCompany</th>\n",
              "      <td>729</td>\n",
              "      <td>16.53%</td>\n",
              "    </tr>\n",
              "    <tr>\n",
              "      <th>YearsSinceLastPromotion</th>\n",
              "      <td>0</td>\n",
              "      <td>0.0%</td>\n",
              "    </tr>\n",
              "    <tr>\n",
              "      <th>YearsWithCurrManager</th>\n",
              "      <td>747</td>\n",
              "      <td>16.94%</td>\n",
              "    </tr>\n",
              "  </tbody>\n",
              "</table>\n",
              "</div>\n",
              "      <button class=\"colab-df-convert\" onclick=\"convertToInteractive('df-3e55af49-215e-494d-9988-43217a4f1d7f')\"\n",
              "              title=\"Convert this dataframe to an interactive table.\"\n",
              "              style=\"display:none;\">\n",
              "        \n",
              "  <svg xmlns=\"http://www.w3.org/2000/svg\" height=\"24px\"viewBox=\"0 0 24 24\"\n",
              "       width=\"24px\">\n",
              "    <path d=\"M0 0h24v24H0V0z\" fill=\"none\"/>\n",
              "    <path d=\"M18.56 5.44l.94 2.06.94-2.06 2.06-.94-2.06-.94-.94-2.06-.94 2.06-2.06.94zm-11 1L8.5 8.5l.94-2.06 2.06-.94-2.06-.94L8.5 2.5l-.94 2.06-2.06.94zm10 10l.94 2.06.94-2.06 2.06-.94-2.06-.94-.94-2.06-.94 2.06-2.06.94z\"/><path d=\"M17.41 7.96l-1.37-1.37c-.4-.4-.92-.59-1.43-.59-.52 0-1.04.2-1.43.59L10.3 9.45l-7.72 7.72c-.78.78-.78 2.05 0 2.83L4 21.41c.39.39.9.59 1.41.59.51 0 1.02-.2 1.41-.59l7.78-7.78 2.81-2.81c.8-.78.8-2.07 0-2.86zM5.41 20L4 18.59l7.72-7.72 1.47 1.35L5.41 20z\"/>\n",
              "  </svg>\n",
              "      </button>\n",
              "      \n",
              "  <style>\n",
              "    .colab-df-container {\n",
              "      display:flex;\n",
              "      flex-wrap:wrap;\n",
              "      gap: 12px;\n",
              "    }\n",
              "\n",
              "    .colab-df-convert {\n",
              "      background-color: #E8F0FE;\n",
              "      border: none;\n",
              "      border-radius: 50%;\n",
              "      cursor: pointer;\n",
              "      display: none;\n",
              "      fill: #1967D2;\n",
              "      height: 32px;\n",
              "      padding: 0 0 0 0;\n",
              "      width: 32px;\n",
              "    }\n",
              "\n",
              "    .colab-df-convert:hover {\n",
              "      background-color: #E2EBFA;\n",
              "      box-shadow: 0px 1px 2px rgba(60, 64, 67, 0.3), 0px 1px 3px 1px rgba(60, 64, 67, 0.15);\n",
              "      fill: #174EA6;\n",
              "    }\n",
              "\n",
              "    [theme=dark] .colab-df-convert {\n",
              "      background-color: #3B4455;\n",
              "      fill: #D2E3FC;\n",
              "    }\n",
              "\n",
              "    [theme=dark] .colab-df-convert:hover {\n",
              "      background-color: #434B5C;\n",
              "      box-shadow: 0px 1px 3px 1px rgba(0, 0, 0, 0.15);\n",
              "      filter: drop-shadow(0px 1px 2px rgba(0, 0, 0, 0.3));\n",
              "      fill: #FFFFFF;\n",
              "    }\n",
              "  </style>\n",
              "\n",
              "      <script>\n",
              "        const buttonEl =\n",
              "          document.querySelector('#df-3e55af49-215e-494d-9988-43217a4f1d7f button.colab-df-convert');\n",
              "        buttonEl.style.display =\n",
              "          google.colab.kernel.accessAllowed ? 'block' : 'none';\n",
              "\n",
              "        async function convertToInteractive(key) {\n",
              "          const element = document.querySelector('#df-3e55af49-215e-494d-9988-43217a4f1d7f');\n",
              "          const dataTable =\n",
              "            await google.colab.kernel.invokeFunction('convertToInteractive',\n",
              "                                                     [key], {});\n",
              "          if (!dataTable) return;\n",
              "\n",
              "          const docLinkHtml = 'Like what you see? Visit the ' +\n",
              "            '<a target=\"_blank\" href=https://colab.research.google.com/notebooks/data_table.ipynb>data table notebook</a>'\n",
              "            + ' to learn more about interactive tables.';\n",
              "          element.innerHTML = '';\n",
              "          dataTable['output_type'] = 'display_data';\n",
              "          await google.colab.output.renderOutput(dataTable, element);\n",
              "          const docLink = document.createElement('div');\n",
              "          docLink.innerHTML = docLinkHtml;\n",
              "          element.appendChild(docLink);\n",
              "        }\n",
              "      </script>\n",
              "    </div>\n",
              "  </div>\n",
              "  "
            ]
          },
          "metadata": {},
          "execution_count": 20
        }
      ]
    },
    {
      "cell_type": "markdown",
      "source": [
        "## **Tipo de problema**"
      ],
      "metadata": {
        "id": "8oxHUUtGbyif"
      }
    },
    {
      "cell_type": "code",
      "source": [],
      "metadata": {
        "id": "epNjpbB1bymr"
      },
      "execution_count": null,
      "outputs": []
    },
    {
      "cell_type": "markdown",
      "source": [
        "## **Desbalance**"
      ],
      "metadata": {
        "id": "h6RyqiEEbyrL"
      }
    },
    {
      "cell_type": "code",
      "source": [],
      "metadata": {
        "id": "ODa5ZsZTbyvg"
      },
      "execution_count": null,
      "outputs": []
    },
    {
      "cell_type": "markdown",
      "source": [
        "## **Análisis de atributos**"
      ],
      "metadata": {
        "id": "Yh_JMc2hdMJN"
      }
    },
    {
      "cell_type": "markdown",
      "source": [
        "# **Construcción de modelos**\n",
        "\n",
        " ################################### <br>\n",
        "**(ENUNCIADO - BORRAR LUEGO)<br>\n",
        "(ENUNCIADO - BORRAR LUEGO)<br>\n",
        "(ENUNCIADO - BORRAR LUEGO)<br>\n",
        "(ENUNCIADO - BORRAR LUEGO)<br>\n",
        "(ENUNCIADO - BORRAR LUEGO)**<br>\n",
        " ################################### <br>\n",
        "\n",
        "**Construcción de modelos**: para esta práctica usaremos **LogisticRegression** como método base (sin ajustar hiper-parámetros) y Boosting como método avanzado (ajustando hiper-parámetros), a elegir. Es importante realizar los preprocesos que los datos necesiten, usando preferentemente **pipelines**. Como método de boosting, se puede elegir uno de entre los métodos de **boosting** disponibles en scikit-learn.\n",
        "<br><br>\n",
        "**EXTRA**: Si además se usa uno de entre las **librerías externas** xgboost, lightgbm o catboost, se pueden sacar +0.35 puntos adicionales."
      ],
      "metadata": {
        "id": "aUdRsQ62cRjU"
      }
    },
    {
      "cell_type": "code",
      "source": [],
      "metadata": {
        "id": "7tN044LadX8i"
      },
      "execution_count": null,
      "outputs": []
    },
    {
      "cell_type": "markdown",
      "source": [
        "# **Mejora de resultados**\n",
        "\n",
        " ################################### <br>\n",
        "**(ENUNCIADO - BORRAR LUEGO)<br>\n",
        "(ENUNCIADO - BORRAR LUEGO)<br>\n",
        "(ENUNCIADO - BORRAR LUEGO)<br>\n",
        "(ENUNCIADO - BORRAR LUEGO)<br>\n",
        "(ENUNCIADO - BORRAR LUEGO)**<br>\n",
        " ################################### <br>\n",
        "\n",
        "Usando algún **método de selección de atributos de tipo filter (SelectKBest)** de entre los disponibles en sklearn **(f_classif, mutual_info_classif o chi2)**, comprobad si se pueden mejorar los resultados del apartado anterior y extraer conclusiones sobre qué atributos son más importantes, al menos de acuerdo a estos métodos."
      ],
      "metadata": {
        "id": "aQI9prJ9dWJt"
      }
    },
    {
      "cell_type": "code",
      "source": [],
      "metadata": {
        "id": "ac43Fl2YdXlc"
      },
      "execution_count": null,
      "outputs": []
    }
  ]
}