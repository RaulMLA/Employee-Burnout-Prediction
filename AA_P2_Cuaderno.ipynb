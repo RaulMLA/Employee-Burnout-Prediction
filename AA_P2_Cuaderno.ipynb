{
  "nbformat": 4,
  "nbformat_minor": 0,
  "metadata": {
    "colab": {
      "provenance": []
    },
    "kernelspec": {
      "name": "python3",
      "display_name": "Python 3"
    },
    "language_info": {
      "name": "python"
    }
  },
  "cells": [
    {
      "cell_type": "markdown",
      "source": [
        "![LogoUC3M](https://upload.wikimedia.org/wikipedia/commons/4/47/Acronimo_y_nombre_uc3m.png)\n",
        "\n",
        "Aprendizaje Automático · Grado en Ingeniería Informática · Curso 2022/23\n",
        "---\n",
        "**Cuaderno** - Práctica 2: Predicción del abandono (burnout) de empleados\n",
        "<br><br>\n",
        "***Grupo Reducido 82 - Grupo de laboratorio 13***"
      ],
      "metadata": {
        "id": "4Zg6lzjIRM8W"
      }
    },
    {
      "cell_type": "markdown",
      "source": [
        "# **Carga de datos**\n",
        "Para comenzar, importaremos las bibliotecas que necesitamos:\n",
        "\n",
        "+ `biblioteca`: Definición."
      ],
      "metadata": {
        "id": "DLK890XpZQO8"
      }
    },
    {
      "cell_type": "markdown",
      "source": [
        " ################################### <br>\n",
        "**(AQUÍ VAN LAS BIBLIOTECAS NECESARIAS)<br>\n",
        "(AQUÍ VAN LAS BIBLIOTECAS NECESARIAS)<br>\n",
        "(AQUÍ VAN LAS BIBLIOTECAS NECESARIAS)<br>\n",
        "(AQUÍ VAN LAS BIBLIOTECAS NECESARIAS)<br>\n",
        "(AQUÍ VAN LAS BIBLIOTECAS NECESARIAS)**<br>\n",
        " ################################### <br>"
      ],
      "metadata": {
        "id": "fpX3dkaNYsew"
      }
    },
    {
      "cell_type": "markdown",
      "source": [
        "Una vez instaladas las bibliotecas necesarias, importamos **Numpy** y **Pandas** ya que los necesitaremos para el desarrollo de la práctica.\n",
        "Destacar que nos referiremos a **Numpy** como *np* y a **Pandas** como *pd* por simplicidad."
      ],
      "metadata": {
        "id": "u8-9pA4sYxg8"
      }
    },
    {
      "cell_type": "code",
      "source": [
        "import numpy as np\n",
        "import pandas as pd"
      ],
      "metadata": {
        "id": "SHJtOGN7YvSJ"
      },
      "execution_count": 1,
      "outputs": []
    },
    {
      "cell_type": "markdown",
      "source": [
        "A continuación, cargaremos los datos necesarios. Dado que somos el **grupo 13**, usaremos los dos conjuntos de datos correspondientes.</br></br>Los datos serán divididos en un conjunto de **train** para entrenar y ajustar hiperparámetros, y un conjunto de **test** en el que evaluaremos las distintas posibilidades que se probarán en la práctica.</br></br>"
      ],
      "metadata": {
        "id": "p1e9JjuNZa7L"
      }
    },
    {
      "cell_type": "code",
      "source": [
        "import pickle\n",
        "\n",
        "# Datos disponibles.\n",
        "with open('attrition_available_13.pkl', 'rb') as f:\n",
        "    data = pickle.load(f)\n",
        "\n",
        "df = pd.DataFrame(data)\n",
        "\n",
        "print(df)\n",
        "\n",
        "# Mostramos la información del conjunto de datos.\n",
        "print(f\"El conjunto de datos tiene {len(df)} instancias.\")"
      ],
      "metadata": {
        "colab": {
          "base_uri": "https://localhost:8080/"
        },
        "id": "6slH0IAEVEQJ",
        "outputId": "1b29bf49-ebd4-4aaf-9b29-ccee0dcd244c"
      },
      "execution_count": 8,
      "outputs": [
        {
          "output_type": "stream",
          "name": "stdout",
          "text": [
            "           hrs  absences  JobInvolvement  PerformanceRating  \\\n",
            "1     7.315971      13.0             2.0                4.0   \n",
            "6     6.450877      17.0             3.0                4.0   \n",
            "13         NaN      14.0             NaN                3.0   \n",
            "28         NaN       NaN             2.0                3.0   \n",
            "30    9.662808      11.0             NaN                3.0   \n",
            "...        ...       ...             ...                ...   \n",
            "4405  8.316921       6.0             3.0                3.0   \n",
            "4406  5.897197       8.0             2.0                3.0   \n",
            "4407  7.149526      18.0             3.0                NaN   \n",
            "4408  9.187612       NaN             NaN                3.0   \n",
            "4409  6.511790      17.0             NaN                3.0   \n",
            "\n",
            "      EnvironmentSatisfaction  JobSatisfaction  WorkLifeBalance   Age  \\\n",
            "1                         3.0              2.0              NaN   NaN   \n",
            "6                         1.0              3.0              1.0  28.0   \n",
            "13                        NaN              2.0              2.0  47.0   \n",
            "28                        NaN              3.0              1.0  44.0   \n",
            "30                        1.0              2.0              3.0  26.0   \n",
            "...                       ...              ...              ...   ...   \n",
            "4405                      4.0              1.0              3.0  42.0   \n",
            "4406                      4.0              NaN              3.0   NaN   \n",
            "4407                      1.0              3.0              3.0  25.0   \n",
            "4408                      4.0              1.0              3.0  42.0   \n",
            "4409                      1.0              3.0              NaN  40.0   \n",
            "\n",
            "     Attrition     BusinessTravel  ... NumCompaniesWorked  Over18  \\\n",
            "1          Yes  Travel_Frequently  ...                0.0       Y   \n",
            "6          Yes      Travel_Rarely  ...                2.0       Y   \n",
            "13         Yes         Non-Travel  ...                NaN     NaN   \n",
            "28         Yes  Travel_Frequently  ...                3.0       Y   \n",
            "30         Yes      Travel_Rarely  ...                2.0       Y   \n",
            "...        ...                ...  ...                ...     ...   \n",
            "4405        No      Travel_Rarely  ...                3.0       Y   \n",
            "4406        No      Travel_Rarely  ...                2.0       Y   \n",
            "4407        No      Travel_Rarely  ...                0.0     NaN   \n",
            "4408        No      Travel_Rarely  ...                0.0       Y   \n",
            "4409        No      Travel_Rarely  ...                0.0       Y   \n",
            "\n",
            "      PercentSalaryHike StandardHours  StockOptionLevel  TotalWorkingYears  \\\n",
            "1                   NaN           8.0               1.0                6.0   \n",
            "6                  20.0           8.0               1.0                5.0   \n",
            "13                  NaN           8.0               2.0               10.0   \n",
            "28                 14.0           8.0               1.0                NaN   \n",
            "30                 11.0           8.0               NaN                5.0   \n",
            "...                 ...           ...               ...                ...   \n",
            "4405                NaN           8.0               1.0               10.0   \n",
            "4406               15.0           8.0               0.0               10.0   \n",
            "4407                NaN           8.0               0.0                5.0   \n",
            "4408               14.0           8.0               1.0               10.0   \n",
            "4409               12.0           8.0               0.0                NaN   \n",
            "\n",
            "     TrainingTimesLastYear  YearsAtCompany YearsSinceLastPromotion  \\\n",
            "1                      3.0             5.0                       1   \n",
            "6                      2.0             NaN                       0   \n",
            "13                     4.0            10.0                       9   \n",
            "28                     2.0             NaN                       0   \n",
            "30                     5.0             3.0                       0   \n",
            "...                    ...             ...                     ...   \n",
            "4405                   NaN             3.0                       0   \n",
            "4406                   2.0             NaN                       0   \n",
            "4407                   4.0             4.0                       1   \n",
            "4408                   2.0             NaN                       7   \n",
            "4409                   6.0            21.0                       3   \n",
            "\n",
            "     YearsWithCurrManager  \n",
            "1                     NaN  \n",
            "6                     0.0  \n",
            "13                    9.0  \n",
            "28                    0.0  \n",
            "30                    2.0  \n",
            "...                   ...  \n",
            "4405                  2.0  \n",
            "4406                  NaN  \n",
            "4407                  2.0  \n",
            "4408                  8.0  \n",
            "4409                  9.0  \n",
            "\n",
            "[4410 rows x 31 columns]\n",
            "El conjunto de datos tiene 4410 instancias.\n"
          ]
        }
      ]
    },
    {
      "cell_type": "markdown",
      "source": [
        "# **Análisis Exploratorio de Datos (EDA)**\n",
        "Antes de comenzar, destacar que dado que los resultados deben ser reproducibles, hemos fijado la **semilla de números aleatorios** en los lugares adecuados. Para ello, hemos seleccionado como semilla el número del grupo de prácticas (*13*).</br></br>\n",
        "Para poder realizar el análisis exploratorio de datos, llevaremos a cabo los siguientes pasos:\n",
        "\n",
        "+ Número de instancias y atributos.\n",
        "+ Tipo de atributos (numéricos o categóricos).\n",
        "+ Columnas constantes o innecesarias.\n",
        "+ Proporción de *missing values*.\n",
        "+ Tipo de problema (clasificación o regresión).\n",
        "+ Desbalance."
      ],
      "metadata": {
        "id": "stD5IojGVU9E"
      }
    },
    {
      "cell_type": "markdown",
      "source": [
        "## **Número de instancias y atributos**"
      ],
      "metadata": {
        "id": "CZyRhuKuVeWT"
      }
    },
    {
      "cell_type": "code",
      "source": [],
      "metadata": {
        "id": "so9lZbnoVVsS"
      },
      "execution_count": null,
      "outputs": []
    },
    {
      "cell_type": "markdown",
      "source": [
        "## **Tipo de atributos**"
      ],
      "metadata": {
        "id": "Y042xoUAVVJw"
      }
    },
    {
      "cell_type": "code",
      "source": [],
      "metadata": {
        "id": "5M7m_TlaVWMc"
      },
      "execution_count": null,
      "outputs": []
    },
    {
      "cell_type": "markdown",
      "source": [
        "## **Columnas constantes o innecesarias**"
      ],
      "metadata": {
        "id": "nxB3xy13byJg"
      }
    },
    {
      "cell_type": "code",
      "source": [],
      "metadata": {
        "id": "2IdNJyk-byQk"
      },
      "execution_count": null,
      "outputs": []
    },
    {
      "cell_type": "markdown",
      "source": [
        "## **Proporción de missing values**"
      ],
      "metadata": {
        "id": "RrXpXw-BbyXS"
      }
    },
    {
      "cell_type": "code",
      "source": [],
      "metadata": {
        "id": "Dix754XKbydi"
      },
      "execution_count": null,
      "outputs": []
    },
    {
      "cell_type": "markdown",
      "source": [
        "## **Tipo de problema**"
      ],
      "metadata": {
        "id": "8oxHUUtGbyif"
      }
    },
    {
      "cell_type": "code",
      "source": [],
      "metadata": {
        "id": "epNjpbB1bymr"
      },
      "execution_count": null,
      "outputs": []
    },
    {
      "cell_type": "markdown",
      "source": [
        "## **Desbalance**"
      ],
      "metadata": {
        "id": "h6RyqiEEbyrL"
      }
    },
    {
      "cell_type": "code",
      "source": [],
      "metadata": {
        "id": "ODa5ZsZTbyvg"
      },
      "execution_count": null,
      "outputs": []
    },
    {
      "cell_type": "markdown",
      "source": [
        "## **Análisis de atributos**"
      ],
      "metadata": {
        "id": "Yh_JMc2hdMJN"
      }
    },
    {
      "cell_type": "markdown",
      "source": [
        "# **Construcción de modelos**\n",
        "\n",
        " ################################### <br>\n",
        "**(ENUNCIADO - BORRAR LUEGO)<br>\n",
        "(ENUNCIADO - BORRAR LUEGO)<br>\n",
        "(ENUNCIADO - BORRAR LUEGO)<br>\n",
        "(ENUNCIADO - BORRAR LUEGO)<br>\n",
        "(ENUNCIADO - BORRAR LUEGO)**<br>\n",
        " ################################### <br>\n",
        "\n",
        "**Construcción de modelos**: para esta práctica usaremos **LogisticRegression** como método base (sin ajustar hiper-parámetros) y Boosting como método avanzado (ajustando hiper-parámetros), a elegir. Es importante realizar los preprocesos que los datos necesiten, usando preferentemente **pipelines**. Como método de boosting, se puede elegir uno de entre los métodos de **boosting** disponibles en scikit-learn.\n",
        "<br><br>\n",
        "**EXTRA**: Si además se usa uno de entre las **librerías externas** xgboost, lightgbm o catboost, se pueden sacar +0.35 puntos adicionales."
      ],
      "metadata": {
        "id": "aUdRsQ62cRjU"
      }
    },
    {
      "cell_type": "code",
      "source": [],
      "metadata": {
        "id": "7tN044LadX8i"
      },
      "execution_count": null,
      "outputs": []
    },
    {
      "cell_type": "markdown",
      "source": [
        "# **Mejora de resultados**\n",
        "\n",
        " ################################### <br>\n",
        "**(ENUNCIADO - BORRAR LUEGO)<br>\n",
        "(ENUNCIADO - BORRAR LUEGO)<br>\n",
        "(ENUNCIADO - BORRAR LUEGO)<br>\n",
        "(ENUNCIADO - BORRAR LUEGO)<br>\n",
        "(ENUNCIADO - BORRAR LUEGO)**<br>\n",
        " ################################### <br>\n",
        "\n",
        "Usando algún **método de selección de atributos de tipo filter (SelectKBest)** de entre los disponibles en sklearn **(f_classif, mutual_info_classif o chi2)**, comprobad si se pueden mejorar los resultados del apartado anterior y extraer conclusiones sobre qué atributos son más importantes, al menos de acuerdo a estos métodos."
      ],
      "metadata": {
        "id": "aQI9prJ9dWJt"
      }
    },
    {
      "cell_type": "code",
      "source": [],
      "metadata": {
        "id": "ac43Fl2YdXlc"
      },
      "execution_count": null,
      "outputs": []
    }
  ]
}