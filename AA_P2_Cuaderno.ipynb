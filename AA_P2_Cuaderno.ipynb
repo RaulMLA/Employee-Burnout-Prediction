{
  "nbformat": 4,
  "nbformat_minor": 0,
  "metadata": {
    "colab": {
      "provenance": [],
      "toc_visible": true
    },
    "kernelspec": {
      "name": "python3",
      "display_name": "Python 3"
    },
    "language_info": {
      "name": "python"
    }
  },
  "cells": [
    {
      "cell_type": "markdown",
      "source": [
        "![LogoUC3M](https://upload.wikimedia.org/wikipedia/commons/4/47/Acronimo_y_nombre_uc3m.png)\n",
        "\n",
        "Aprendizaje Automático · Grado en Ingeniería Informática · Curso 2022/23\n",
        "---\n",
        "**Cuaderno** - Práctica 2: Predicción del abandono (burnout) de empleados\n",
        "<br><br>\n",
        "***Grupo Reducido 82 - Grupo de laboratorio 13***"
      ],
      "metadata": {
        "id": "4Zg6lzjIRM8W"
      }
    },
    {
      "cell_type": "markdown",
      "source": [
        "# **Carga de datos**\n",
        "Para comenzar, importaremos las bibliotecas que necesitamos:\n",
        "\n",
        "+ `xgboost`: Para poder usar XGBoost en Boosting.\n",
        "+ `lightgbm`: Para poder usar LightGBM en Boosting."
      ],
      "metadata": {
        "id": "DLK890XpZQO8"
      }
    },
    {
      "cell_type": "code",
      "source": [
        "! pip install xgboost\n",
        "! pip install lightgbm"
      ],
      "metadata": {
        "colab": {
          "base_uri": "https://localhost:8080/"
        },
        "id": "BtIXVq4OHA59",
        "outputId": "5fda0c9a-b44e-4055-ec70-645351c69b50"
      },
      "execution_count": 1,
      "outputs": [
        {
          "output_type": "stream",
          "name": "stdout",
          "text": [
            "Looking in indexes: https://pypi.org/simple, https://us-python.pkg.dev/colab-wheels/public/simple/\n",
            "Requirement already satisfied: xgboost in /usr/local/lib/python3.10/dist-packages (1.7.5)\n",
            "Requirement already satisfied: numpy in /usr/local/lib/python3.10/dist-packages (from xgboost) (1.22.4)\n",
            "Requirement already satisfied: scipy in /usr/local/lib/python3.10/dist-packages (from xgboost) (1.10.1)\n",
            "Looking in indexes: https://pypi.org/simple, https://us-python.pkg.dev/colab-wheels/public/simple/\n",
            "Requirement already satisfied: lightgbm in /usr/local/lib/python3.10/dist-packages (3.3.5)\n",
            "Requirement already satisfied: wheel in /usr/local/lib/python3.10/dist-packages (from lightgbm) (0.40.0)\n",
            "Requirement already satisfied: numpy in /usr/local/lib/python3.10/dist-packages (from lightgbm) (1.22.4)\n",
            "Requirement already satisfied: scipy in /usr/local/lib/python3.10/dist-packages (from lightgbm) (1.10.1)\n",
            "Requirement already satisfied: scikit-learn!=0.22.0 in /usr/local/lib/python3.10/dist-packages (from lightgbm) (1.2.2)\n",
            "Requirement already satisfied: joblib>=1.1.1 in /usr/local/lib/python3.10/dist-packages (from scikit-learn!=0.22.0->lightgbm) (1.2.0)\n",
            "Requirement already satisfied: threadpoolctl>=2.0.0 in /usr/local/lib/python3.10/dist-packages (from scikit-learn!=0.22.0->lightgbm) (3.1.0)\n"
          ]
        }
      ]
    },
    {
      "cell_type": "markdown",
      "source": [
        "Una vez instaladas las bibliotecas necesarias, importamos **Numpy** y **Pandas** ya que los necesitaremos para el desarrollo de la práctica.\n",
        "Destacar que nos referiremos a **Numpy** como *np* y a **Pandas** como *pd* por simplicidad."
      ],
      "metadata": {
        "id": "u8-9pA4sYxg8"
      }
    },
    {
      "cell_type": "code",
      "source": [
        "import numpy as np\n",
        "import pandas as pd"
      ],
      "metadata": {
        "id": "SHJtOGN7YvSJ"
      },
      "execution_count": 2,
      "outputs": []
    },
    {
      "cell_type": "markdown",
      "source": [
        "A continuación, cargaremos los datos necesarios. Dado que somos el **grupo 13**, usaremos los dos conjuntos de datos correspondientes.</br></br>Los datos serán divididos en un conjunto de **train** para entrenar y ajustar hiperparámetros, y un conjunto de **test** en el que evaluaremos las distintas posibilidades que se probarán en la práctica.</br></br>"
      ],
      "metadata": {
        "id": "p1e9JjuNZa7L"
      }
    },
    {
      "cell_type": "code",
      "source": [
        "import pickle\n",
        "from rich import print\n",
        "\n",
        "# Datos disponibles.\n",
        "with open('attrition_available_13.pkl', 'rb') as f:\n",
        "    data = pickle.load(f)\n",
        "\n",
        "df = pd.DataFrame(data)\n",
        "\n",
        "print(df)\n",
        "\n",
        "# Mostramos la información del conjunto de datos.\n",
        "print(f\"El conjunto de datos tiene {len(df)} instancias.\")"
      ],
      "metadata": {
        "colab": {
          "base_uri": "https://localhost:8080/",
          "height": 1000
        },
        "id": "6slH0IAEVEQJ",
        "outputId": "b8fa8493-4048-4608-b5f1-6174467ae51a"
      },
      "execution_count": 29,
      "outputs": [
        {
          "output_type": "display_data",
          "data": {
            "text/plain": [
              "           hrs  absences  JobInvolvement  PerformanceRating  \\\n",
              "\u001b[1;36m1\u001b[0m     \u001b[1;36m7.315971\u001b[0m      \u001b[1;36m13.0\u001b[0m             \u001b[1;36m2.0\u001b[0m                \u001b[1;36m4.0\u001b[0m   \n",
              "\u001b[1;36m6\u001b[0m     \u001b[1;36m6.450877\u001b[0m      \u001b[1;36m17.0\u001b[0m             \u001b[1;36m3.0\u001b[0m                \u001b[1;36m4.0\u001b[0m   \n",
              "\u001b[1;36m13\u001b[0m         NaN      \u001b[1;36m14.0\u001b[0m             NaN                \u001b[1;36m3.0\u001b[0m   \n",
              "\u001b[1;36m28\u001b[0m         NaN       NaN             \u001b[1;36m2.0\u001b[0m                \u001b[1;36m3.0\u001b[0m   \n",
              "\u001b[1;36m30\u001b[0m    \u001b[1;36m9.662808\u001b[0m      \u001b[1;36m11.0\u001b[0m             NaN                \u001b[1;36m3.0\u001b[0m   \n",
              "\u001b[33m...\u001b[0m        \u001b[33m...\u001b[0m       \u001b[33m...\u001b[0m             \u001b[33m...\u001b[0m                \u001b[33m...\u001b[0m   \n",
              "\u001b[1;36m4405\u001b[0m  \u001b[1;36m8.316921\u001b[0m       \u001b[1;36m6.0\u001b[0m             \u001b[1;36m3.0\u001b[0m                \u001b[1;36m3.0\u001b[0m   \n",
              "\u001b[1;36m4406\u001b[0m  \u001b[1;36m5.897197\u001b[0m       \u001b[1;36m8.0\u001b[0m             \u001b[1;36m2.0\u001b[0m                \u001b[1;36m3.0\u001b[0m   \n",
              "\u001b[1;36m4407\u001b[0m  \u001b[1;36m7.149526\u001b[0m      \u001b[1;36m18.0\u001b[0m             \u001b[1;36m3.0\u001b[0m                NaN   \n",
              "\u001b[1;36m4408\u001b[0m  \u001b[1;36m9.187612\u001b[0m       NaN             NaN                \u001b[1;36m3.0\u001b[0m   \n",
              "\u001b[1;36m4409\u001b[0m  \u001b[1;36m6.511790\u001b[0m      \u001b[1;36m17.0\u001b[0m             NaN                \u001b[1;36m3.0\u001b[0m   \n",
              "\n",
              "      EnvironmentSatisfaction  JobSatisfaction  WorkLifeBalance   Age  \\\n",
              "\u001b[1;36m1\u001b[0m                         \u001b[1;36m3.0\u001b[0m              \u001b[1;36m2.0\u001b[0m              NaN   NaN   \n",
              "\u001b[1;36m6\u001b[0m                         \u001b[1;36m1.0\u001b[0m              \u001b[1;36m3.0\u001b[0m              \u001b[1;36m1.0\u001b[0m  \u001b[1;36m28.0\u001b[0m   \n",
              "\u001b[1;36m13\u001b[0m                        NaN              \u001b[1;36m2.0\u001b[0m              \u001b[1;36m2.0\u001b[0m  \u001b[1;36m47.0\u001b[0m   \n",
              "\u001b[1;36m28\u001b[0m                        NaN              \u001b[1;36m3.0\u001b[0m              \u001b[1;36m1.0\u001b[0m  \u001b[1;36m44.0\u001b[0m   \n",
              "\u001b[1;36m30\u001b[0m                        \u001b[1;36m1.0\u001b[0m              \u001b[1;36m2.0\u001b[0m              \u001b[1;36m3.0\u001b[0m  \u001b[1;36m26.0\u001b[0m   \n",
              "\u001b[33m...\u001b[0m                       \u001b[33m...\u001b[0m              \u001b[33m...\u001b[0m              \u001b[33m...\u001b[0m   \u001b[33m...\u001b[0m   \n",
              "\u001b[1;36m4405\u001b[0m                      \u001b[1;36m4.0\u001b[0m              \u001b[1;36m1.0\u001b[0m              \u001b[1;36m3.0\u001b[0m  \u001b[1;36m42.0\u001b[0m   \n",
              "\u001b[1;36m4406\u001b[0m                      \u001b[1;36m4.0\u001b[0m              NaN              \u001b[1;36m3.0\u001b[0m   NaN   \n",
              "\u001b[1;36m4407\u001b[0m                      \u001b[1;36m1.0\u001b[0m              \u001b[1;36m3.0\u001b[0m              \u001b[1;36m3.0\u001b[0m  \u001b[1;36m25.0\u001b[0m   \n",
              "\u001b[1;36m4408\u001b[0m                      \u001b[1;36m4.0\u001b[0m              \u001b[1;36m1.0\u001b[0m              \u001b[1;36m3.0\u001b[0m  \u001b[1;36m42.0\u001b[0m   \n",
              "\u001b[1;36m4409\u001b[0m                      \u001b[1;36m1.0\u001b[0m              \u001b[1;36m3.0\u001b[0m              NaN  \u001b[1;36m40.0\u001b[0m   \n",
              "\n",
              "     Attrition     BusinessTravel  \u001b[33m...\u001b[0m NumCompaniesWorked  Over18  \\\n",
              "\u001b[1;36m1\u001b[0m          Yes  Travel_Frequently  \u001b[33m...\u001b[0m                \u001b[1;36m0.0\u001b[0m       Y   \n",
              "\u001b[1;36m6\u001b[0m          Yes      Travel_Rarely  \u001b[33m...\u001b[0m                \u001b[1;36m2.0\u001b[0m       Y   \n",
              "\u001b[1;36m13\u001b[0m         Yes         Non-Travel  \u001b[33m...\u001b[0m                NaN     NaN   \n",
              "\u001b[1;36m28\u001b[0m         Yes  Travel_Frequently  \u001b[33m...\u001b[0m                \u001b[1;36m3.0\u001b[0m       Y   \n",
              "\u001b[1;36m30\u001b[0m         Yes      Travel_Rarely  \u001b[33m...\u001b[0m                \u001b[1;36m2.0\u001b[0m       Y   \n",
              "\u001b[33m...\u001b[0m        \u001b[33m...\u001b[0m                \u001b[33m...\u001b[0m  \u001b[33m...\u001b[0m                \u001b[33m...\u001b[0m     \u001b[33m...\u001b[0m   \n",
              "\u001b[1;36m4405\u001b[0m        No      Travel_Rarely  \u001b[33m...\u001b[0m                \u001b[1;36m3.0\u001b[0m       Y   \n",
              "\u001b[1;36m4406\u001b[0m        No      Travel_Rarely  \u001b[33m...\u001b[0m                \u001b[1;36m2.0\u001b[0m       Y   \n",
              "\u001b[1;36m4407\u001b[0m        No      Travel_Rarely  \u001b[33m...\u001b[0m                \u001b[1;36m0.0\u001b[0m     NaN   \n",
              "\u001b[1;36m4408\u001b[0m        No      Travel_Rarely  \u001b[33m...\u001b[0m                \u001b[1;36m0.0\u001b[0m       Y   \n",
              "\u001b[1;36m4409\u001b[0m        No      Travel_Rarely  \u001b[33m...\u001b[0m                \u001b[1;36m0.0\u001b[0m       Y   \n",
              "\n",
              "      PercentSalaryHike StandardHours  StockOptionLevel  TotalWorkingYears  \\\n",
              "\u001b[1;36m1\u001b[0m                   NaN           \u001b[1;36m8.0\u001b[0m               \u001b[1;36m1.0\u001b[0m                \u001b[1;36m6.0\u001b[0m   \n",
              "\u001b[1;36m6\u001b[0m                  \u001b[1;36m20.0\u001b[0m           \u001b[1;36m8.0\u001b[0m               \u001b[1;36m1.0\u001b[0m                \u001b[1;36m5.0\u001b[0m   \n",
              "\u001b[1;36m13\u001b[0m                  NaN           \u001b[1;36m8.0\u001b[0m               \u001b[1;36m2.0\u001b[0m               \u001b[1;36m10.0\u001b[0m   \n",
              "\u001b[1;36m28\u001b[0m                 \u001b[1;36m14.0\u001b[0m           \u001b[1;36m8.0\u001b[0m               \u001b[1;36m1.0\u001b[0m                NaN   \n",
              "\u001b[1;36m30\u001b[0m                 \u001b[1;36m11.0\u001b[0m           \u001b[1;36m8.0\u001b[0m               NaN                \u001b[1;36m5.0\u001b[0m   \n",
              "\u001b[33m...\u001b[0m                 \u001b[33m...\u001b[0m           \u001b[33m...\u001b[0m               \u001b[33m...\u001b[0m                \u001b[33m...\u001b[0m   \n",
              "\u001b[1;36m4405\u001b[0m                NaN           \u001b[1;36m8.0\u001b[0m               \u001b[1;36m1.0\u001b[0m               \u001b[1;36m10.0\u001b[0m   \n",
              "\u001b[1;36m4406\u001b[0m               \u001b[1;36m15.0\u001b[0m           \u001b[1;36m8.0\u001b[0m               \u001b[1;36m0.0\u001b[0m               \u001b[1;36m10.0\u001b[0m   \n",
              "\u001b[1;36m4407\u001b[0m                NaN           \u001b[1;36m8.0\u001b[0m               \u001b[1;36m0.0\u001b[0m                \u001b[1;36m5.0\u001b[0m   \n",
              "\u001b[1;36m4408\u001b[0m               \u001b[1;36m14.0\u001b[0m           \u001b[1;36m8.0\u001b[0m               \u001b[1;36m1.0\u001b[0m               \u001b[1;36m10.0\u001b[0m   \n",
              "\u001b[1;36m4409\u001b[0m               \u001b[1;36m12.0\u001b[0m           \u001b[1;36m8.0\u001b[0m               \u001b[1;36m0.0\u001b[0m                NaN   \n",
              "\n",
              "     TrainingTimesLastYear  YearsAtCompany YearsSinceLastPromotion  \\\n",
              "\u001b[1;36m1\u001b[0m                      \u001b[1;36m3.0\u001b[0m             \u001b[1;36m5.0\u001b[0m                       \u001b[1;36m1\u001b[0m   \n",
              "\u001b[1;36m6\u001b[0m                      \u001b[1;36m2.0\u001b[0m             NaN                       \u001b[1;36m0\u001b[0m   \n",
              "\u001b[1;36m13\u001b[0m                     \u001b[1;36m4.0\u001b[0m            \u001b[1;36m10.0\u001b[0m                       \u001b[1;36m9\u001b[0m   \n",
              "\u001b[1;36m28\u001b[0m                     \u001b[1;36m2.0\u001b[0m             NaN                       \u001b[1;36m0\u001b[0m   \n",
              "\u001b[1;36m30\u001b[0m                     \u001b[1;36m5.0\u001b[0m             \u001b[1;36m3.0\u001b[0m                       \u001b[1;36m0\u001b[0m   \n",
              "\u001b[33m...\u001b[0m                    \u001b[33m...\u001b[0m             \u001b[33m...\u001b[0m                     \u001b[33m...\u001b[0m   \n",
              "\u001b[1;36m4405\u001b[0m                   NaN             \u001b[1;36m3.0\u001b[0m                       \u001b[1;36m0\u001b[0m   \n",
              "\u001b[1;36m4406\u001b[0m                   \u001b[1;36m2.0\u001b[0m             NaN                       \u001b[1;36m0\u001b[0m   \n",
              "\u001b[1;36m4407\u001b[0m                   \u001b[1;36m4.0\u001b[0m             \u001b[1;36m4.0\u001b[0m                       \u001b[1;36m1\u001b[0m   \n",
              "\u001b[1;36m4408\u001b[0m                   \u001b[1;36m2.0\u001b[0m             NaN                       \u001b[1;36m7\u001b[0m   \n",
              "\u001b[1;36m4409\u001b[0m                   \u001b[1;36m6.0\u001b[0m            \u001b[1;36m21.0\u001b[0m                       \u001b[1;36m3\u001b[0m   \n",
              "\n",
              "     YearsWithCurrManager  \n",
              "\u001b[1;36m1\u001b[0m                     NaN  \n",
              "\u001b[1;36m6\u001b[0m                     \u001b[1;36m0.0\u001b[0m  \n",
              "\u001b[1;36m13\u001b[0m                    \u001b[1;36m9.0\u001b[0m  \n",
              "\u001b[1;36m28\u001b[0m                    \u001b[1;36m0.0\u001b[0m  \n",
              "\u001b[1;36m30\u001b[0m                    \u001b[1;36m2.0\u001b[0m  \n",
              "\u001b[33m...\u001b[0m                   \u001b[33m...\u001b[0m  \n",
              "\u001b[1;36m4405\u001b[0m                  \u001b[1;36m2.0\u001b[0m  \n",
              "\u001b[1;36m4406\u001b[0m                  NaN  \n",
              "\u001b[1;36m4407\u001b[0m                  \u001b[1;36m2.0\u001b[0m  \n",
              "\u001b[1;36m4408\u001b[0m                  \u001b[1;36m8.0\u001b[0m  \n",
              "\u001b[1;36m4409\u001b[0m                  \u001b[1;36m9.0\u001b[0m  \n",
              "\n",
              "\u001b[1m[\u001b[0m\u001b[1;36m4410\u001b[0m rows x \u001b[1;36m31\u001b[0m columns\u001b[1m]\u001b[0m\n"
            ],
            "text/html": [
              "<pre style=\"white-space:pre;overflow-x:auto;line-height:normal;font-family:Menlo,'DejaVu Sans Mono',consolas,'Courier New',monospace\">           hrs  absences  JobInvolvement  PerformanceRating  \\\n",
              "<span style=\"color: #008080; text-decoration-color: #008080; font-weight: bold\">1</span>     <span style=\"color: #008080; text-decoration-color: #008080; font-weight: bold\">7.315971</span>      <span style=\"color: #008080; text-decoration-color: #008080; font-weight: bold\">13.0</span>             <span style=\"color: #008080; text-decoration-color: #008080; font-weight: bold\">2.0</span>                <span style=\"color: #008080; text-decoration-color: #008080; font-weight: bold\">4.0</span>   \n",
              "<span style=\"color: #008080; text-decoration-color: #008080; font-weight: bold\">6</span>     <span style=\"color: #008080; text-decoration-color: #008080; font-weight: bold\">6.450877</span>      <span style=\"color: #008080; text-decoration-color: #008080; font-weight: bold\">17.0</span>             <span style=\"color: #008080; text-decoration-color: #008080; font-weight: bold\">3.0</span>                <span style=\"color: #008080; text-decoration-color: #008080; font-weight: bold\">4.0</span>   \n",
              "<span style=\"color: #008080; text-decoration-color: #008080; font-weight: bold\">13</span>         NaN      <span style=\"color: #008080; text-decoration-color: #008080; font-weight: bold\">14.0</span>             NaN                <span style=\"color: #008080; text-decoration-color: #008080; font-weight: bold\">3.0</span>   \n",
              "<span style=\"color: #008080; text-decoration-color: #008080; font-weight: bold\">28</span>         NaN       NaN             <span style=\"color: #008080; text-decoration-color: #008080; font-weight: bold\">2.0</span>                <span style=\"color: #008080; text-decoration-color: #008080; font-weight: bold\">3.0</span>   \n",
              "<span style=\"color: #008080; text-decoration-color: #008080; font-weight: bold\">30</span>    <span style=\"color: #008080; text-decoration-color: #008080; font-weight: bold\">9.662808</span>      <span style=\"color: #008080; text-decoration-color: #008080; font-weight: bold\">11.0</span>             NaN                <span style=\"color: #008080; text-decoration-color: #008080; font-weight: bold\">3.0</span>   \n",
              "<span style=\"color: #808000; text-decoration-color: #808000\">...</span>        <span style=\"color: #808000; text-decoration-color: #808000\">...</span>       <span style=\"color: #808000; text-decoration-color: #808000\">...</span>             <span style=\"color: #808000; text-decoration-color: #808000\">...</span>                <span style=\"color: #808000; text-decoration-color: #808000\">...</span>   \n",
              "<span style=\"color: #008080; text-decoration-color: #008080; font-weight: bold\">4405</span>  <span style=\"color: #008080; text-decoration-color: #008080; font-weight: bold\">8.316921</span>       <span style=\"color: #008080; text-decoration-color: #008080; font-weight: bold\">6.0</span>             <span style=\"color: #008080; text-decoration-color: #008080; font-weight: bold\">3.0</span>                <span style=\"color: #008080; text-decoration-color: #008080; font-weight: bold\">3.0</span>   \n",
              "<span style=\"color: #008080; text-decoration-color: #008080; font-weight: bold\">4406</span>  <span style=\"color: #008080; text-decoration-color: #008080; font-weight: bold\">5.897197</span>       <span style=\"color: #008080; text-decoration-color: #008080; font-weight: bold\">8.0</span>             <span style=\"color: #008080; text-decoration-color: #008080; font-weight: bold\">2.0</span>                <span style=\"color: #008080; text-decoration-color: #008080; font-weight: bold\">3.0</span>   \n",
              "<span style=\"color: #008080; text-decoration-color: #008080; font-weight: bold\">4407</span>  <span style=\"color: #008080; text-decoration-color: #008080; font-weight: bold\">7.149526</span>      <span style=\"color: #008080; text-decoration-color: #008080; font-weight: bold\">18.0</span>             <span style=\"color: #008080; text-decoration-color: #008080; font-weight: bold\">3.0</span>                NaN   \n",
              "<span style=\"color: #008080; text-decoration-color: #008080; font-weight: bold\">4408</span>  <span style=\"color: #008080; text-decoration-color: #008080; font-weight: bold\">9.187612</span>       NaN             NaN                <span style=\"color: #008080; text-decoration-color: #008080; font-weight: bold\">3.0</span>   \n",
              "<span style=\"color: #008080; text-decoration-color: #008080; font-weight: bold\">4409</span>  <span style=\"color: #008080; text-decoration-color: #008080; font-weight: bold\">6.511790</span>      <span style=\"color: #008080; text-decoration-color: #008080; font-weight: bold\">17.0</span>             NaN                <span style=\"color: #008080; text-decoration-color: #008080; font-weight: bold\">3.0</span>   \n",
              "\n",
              "      EnvironmentSatisfaction  JobSatisfaction  WorkLifeBalance   Age  \\\n",
              "<span style=\"color: #008080; text-decoration-color: #008080; font-weight: bold\">1</span>                         <span style=\"color: #008080; text-decoration-color: #008080; font-weight: bold\">3.0</span>              <span style=\"color: #008080; text-decoration-color: #008080; font-weight: bold\">2.0</span>              NaN   NaN   \n",
              "<span style=\"color: #008080; text-decoration-color: #008080; font-weight: bold\">6</span>                         <span style=\"color: #008080; text-decoration-color: #008080; font-weight: bold\">1.0</span>              <span style=\"color: #008080; text-decoration-color: #008080; font-weight: bold\">3.0</span>              <span style=\"color: #008080; text-decoration-color: #008080; font-weight: bold\">1.0</span>  <span style=\"color: #008080; text-decoration-color: #008080; font-weight: bold\">28.0</span>   \n",
              "<span style=\"color: #008080; text-decoration-color: #008080; font-weight: bold\">13</span>                        NaN              <span style=\"color: #008080; text-decoration-color: #008080; font-weight: bold\">2.0</span>              <span style=\"color: #008080; text-decoration-color: #008080; font-weight: bold\">2.0</span>  <span style=\"color: #008080; text-decoration-color: #008080; font-weight: bold\">47.0</span>   \n",
              "<span style=\"color: #008080; text-decoration-color: #008080; font-weight: bold\">28</span>                        NaN              <span style=\"color: #008080; text-decoration-color: #008080; font-weight: bold\">3.0</span>              <span style=\"color: #008080; text-decoration-color: #008080; font-weight: bold\">1.0</span>  <span style=\"color: #008080; text-decoration-color: #008080; font-weight: bold\">44.0</span>   \n",
              "<span style=\"color: #008080; text-decoration-color: #008080; font-weight: bold\">30</span>                        <span style=\"color: #008080; text-decoration-color: #008080; font-weight: bold\">1.0</span>              <span style=\"color: #008080; text-decoration-color: #008080; font-weight: bold\">2.0</span>              <span style=\"color: #008080; text-decoration-color: #008080; font-weight: bold\">3.0</span>  <span style=\"color: #008080; text-decoration-color: #008080; font-weight: bold\">26.0</span>   \n",
              "<span style=\"color: #808000; text-decoration-color: #808000\">...</span>                       <span style=\"color: #808000; text-decoration-color: #808000\">...</span>              <span style=\"color: #808000; text-decoration-color: #808000\">...</span>              <span style=\"color: #808000; text-decoration-color: #808000\">...</span>   <span style=\"color: #808000; text-decoration-color: #808000\">...</span>   \n",
              "<span style=\"color: #008080; text-decoration-color: #008080; font-weight: bold\">4405</span>                      <span style=\"color: #008080; text-decoration-color: #008080; font-weight: bold\">4.0</span>              <span style=\"color: #008080; text-decoration-color: #008080; font-weight: bold\">1.0</span>              <span style=\"color: #008080; text-decoration-color: #008080; font-weight: bold\">3.0</span>  <span style=\"color: #008080; text-decoration-color: #008080; font-weight: bold\">42.0</span>   \n",
              "<span style=\"color: #008080; text-decoration-color: #008080; font-weight: bold\">4406</span>                      <span style=\"color: #008080; text-decoration-color: #008080; font-weight: bold\">4.0</span>              NaN              <span style=\"color: #008080; text-decoration-color: #008080; font-weight: bold\">3.0</span>   NaN   \n",
              "<span style=\"color: #008080; text-decoration-color: #008080; font-weight: bold\">4407</span>                      <span style=\"color: #008080; text-decoration-color: #008080; font-weight: bold\">1.0</span>              <span style=\"color: #008080; text-decoration-color: #008080; font-weight: bold\">3.0</span>              <span style=\"color: #008080; text-decoration-color: #008080; font-weight: bold\">3.0</span>  <span style=\"color: #008080; text-decoration-color: #008080; font-weight: bold\">25.0</span>   \n",
              "<span style=\"color: #008080; text-decoration-color: #008080; font-weight: bold\">4408</span>                      <span style=\"color: #008080; text-decoration-color: #008080; font-weight: bold\">4.0</span>              <span style=\"color: #008080; text-decoration-color: #008080; font-weight: bold\">1.0</span>              <span style=\"color: #008080; text-decoration-color: #008080; font-weight: bold\">3.0</span>  <span style=\"color: #008080; text-decoration-color: #008080; font-weight: bold\">42.0</span>   \n",
              "<span style=\"color: #008080; text-decoration-color: #008080; font-weight: bold\">4409</span>                      <span style=\"color: #008080; text-decoration-color: #008080; font-weight: bold\">1.0</span>              <span style=\"color: #008080; text-decoration-color: #008080; font-weight: bold\">3.0</span>              NaN  <span style=\"color: #008080; text-decoration-color: #008080; font-weight: bold\">40.0</span>   \n",
              "\n",
              "     Attrition     BusinessTravel  <span style=\"color: #808000; text-decoration-color: #808000\">...</span> NumCompaniesWorked  Over18  \\\n",
              "<span style=\"color: #008080; text-decoration-color: #008080; font-weight: bold\">1</span>          Yes  Travel_Frequently  <span style=\"color: #808000; text-decoration-color: #808000\">...</span>                <span style=\"color: #008080; text-decoration-color: #008080; font-weight: bold\">0.0</span>       Y   \n",
              "<span style=\"color: #008080; text-decoration-color: #008080; font-weight: bold\">6</span>          Yes      Travel_Rarely  <span style=\"color: #808000; text-decoration-color: #808000\">...</span>                <span style=\"color: #008080; text-decoration-color: #008080; font-weight: bold\">2.0</span>       Y   \n",
              "<span style=\"color: #008080; text-decoration-color: #008080; font-weight: bold\">13</span>         Yes         Non-Travel  <span style=\"color: #808000; text-decoration-color: #808000\">...</span>                NaN     NaN   \n",
              "<span style=\"color: #008080; text-decoration-color: #008080; font-weight: bold\">28</span>         Yes  Travel_Frequently  <span style=\"color: #808000; text-decoration-color: #808000\">...</span>                <span style=\"color: #008080; text-decoration-color: #008080; font-weight: bold\">3.0</span>       Y   \n",
              "<span style=\"color: #008080; text-decoration-color: #008080; font-weight: bold\">30</span>         Yes      Travel_Rarely  <span style=\"color: #808000; text-decoration-color: #808000\">...</span>                <span style=\"color: #008080; text-decoration-color: #008080; font-weight: bold\">2.0</span>       Y   \n",
              "<span style=\"color: #808000; text-decoration-color: #808000\">...</span>        <span style=\"color: #808000; text-decoration-color: #808000\">...</span>                <span style=\"color: #808000; text-decoration-color: #808000\">...</span>  <span style=\"color: #808000; text-decoration-color: #808000\">...</span>                <span style=\"color: #808000; text-decoration-color: #808000\">...</span>     <span style=\"color: #808000; text-decoration-color: #808000\">...</span>   \n",
              "<span style=\"color: #008080; text-decoration-color: #008080; font-weight: bold\">4405</span>        No      Travel_Rarely  <span style=\"color: #808000; text-decoration-color: #808000\">...</span>                <span style=\"color: #008080; text-decoration-color: #008080; font-weight: bold\">3.0</span>       Y   \n",
              "<span style=\"color: #008080; text-decoration-color: #008080; font-weight: bold\">4406</span>        No      Travel_Rarely  <span style=\"color: #808000; text-decoration-color: #808000\">...</span>                <span style=\"color: #008080; text-decoration-color: #008080; font-weight: bold\">2.0</span>       Y   \n",
              "<span style=\"color: #008080; text-decoration-color: #008080; font-weight: bold\">4407</span>        No      Travel_Rarely  <span style=\"color: #808000; text-decoration-color: #808000\">...</span>                <span style=\"color: #008080; text-decoration-color: #008080; font-weight: bold\">0.0</span>     NaN   \n",
              "<span style=\"color: #008080; text-decoration-color: #008080; font-weight: bold\">4408</span>        No      Travel_Rarely  <span style=\"color: #808000; text-decoration-color: #808000\">...</span>                <span style=\"color: #008080; text-decoration-color: #008080; font-weight: bold\">0.0</span>       Y   \n",
              "<span style=\"color: #008080; text-decoration-color: #008080; font-weight: bold\">4409</span>        No      Travel_Rarely  <span style=\"color: #808000; text-decoration-color: #808000\">...</span>                <span style=\"color: #008080; text-decoration-color: #008080; font-weight: bold\">0.0</span>       Y   \n",
              "\n",
              "      PercentSalaryHike StandardHours  StockOptionLevel  TotalWorkingYears  \\\n",
              "<span style=\"color: #008080; text-decoration-color: #008080; font-weight: bold\">1</span>                   NaN           <span style=\"color: #008080; text-decoration-color: #008080; font-weight: bold\">8.0</span>               <span style=\"color: #008080; text-decoration-color: #008080; font-weight: bold\">1.0</span>                <span style=\"color: #008080; text-decoration-color: #008080; font-weight: bold\">6.0</span>   \n",
              "<span style=\"color: #008080; text-decoration-color: #008080; font-weight: bold\">6</span>                  <span style=\"color: #008080; text-decoration-color: #008080; font-weight: bold\">20.0</span>           <span style=\"color: #008080; text-decoration-color: #008080; font-weight: bold\">8.0</span>               <span style=\"color: #008080; text-decoration-color: #008080; font-weight: bold\">1.0</span>                <span style=\"color: #008080; text-decoration-color: #008080; font-weight: bold\">5.0</span>   \n",
              "<span style=\"color: #008080; text-decoration-color: #008080; font-weight: bold\">13</span>                  NaN           <span style=\"color: #008080; text-decoration-color: #008080; font-weight: bold\">8.0</span>               <span style=\"color: #008080; text-decoration-color: #008080; font-weight: bold\">2.0</span>               <span style=\"color: #008080; text-decoration-color: #008080; font-weight: bold\">10.0</span>   \n",
              "<span style=\"color: #008080; text-decoration-color: #008080; font-weight: bold\">28</span>                 <span style=\"color: #008080; text-decoration-color: #008080; font-weight: bold\">14.0</span>           <span style=\"color: #008080; text-decoration-color: #008080; font-weight: bold\">8.0</span>               <span style=\"color: #008080; text-decoration-color: #008080; font-weight: bold\">1.0</span>                NaN   \n",
              "<span style=\"color: #008080; text-decoration-color: #008080; font-weight: bold\">30</span>                 <span style=\"color: #008080; text-decoration-color: #008080; font-weight: bold\">11.0</span>           <span style=\"color: #008080; text-decoration-color: #008080; font-weight: bold\">8.0</span>               NaN                <span style=\"color: #008080; text-decoration-color: #008080; font-weight: bold\">5.0</span>   \n",
              "<span style=\"color: #808000; text-decoration-color: #808000\">...</span>                 <span style=\"color: #808000; text-decoration-color: #808000\">...</span>           <span style=\"color: #808000; text-decoration-color: #808000\">...</span>               <span style=\"color: #808000; text-decoration-color: #808000\">...</span>                <span style=\"color: #808000; text-decoration-color: #808000\">...</span>   \n",
              "<span style=\"color: #008080; text-decoration-color: #008080; font-weight: bold\">4405</span>                NaN           <span style=\"color: #008080; text-decoration-color: #008080; font-weight: bold\">8.0</span>               <span style=\"color: #008080; text-decoration-color: #008080; font-weight: bold\">1.0</span>               <span style=\"color: #008080; text-decoration-color: #008080; font-weight: bold\">10.0</span>   \n",
              "<span style=\"color: #008080; text-decoration-color: #008080; font-weight: bold\">4406</span>               <span style=\"color: #008080; text-decoration-color: #008080; font-weight: bold\">15.0</span>           <span style=\"color: #008080; text-decoration-color: #008080; font-weight: bold\">8.0</span>               <span style=\"color: #008080; text-decoration-color: #008080; font-weight: bold\">0.0</span>               <span style=\"color: #008080; text-decoration-color: #008080; font-weight: bold\">10.0</span>   \n",
              "<span style=\"color: #008080; text-decoration-color: #008080; font-weight: bold\">4407</span>                NaN           <span style=\"color: #008080; text-decoration-color: #008080; font-weight: bold\">8.0</span>               <span style=\"color: #008080; text-decoration-color: #008080; font-weight: bold\">0.0</span>                <span style=\"color: #008080; text-decoration-color: #008080; font-weight: bold\">5.0</span>   \n",
              "<span style=\"color: #008080; text-decoration-color: #008080; font-weight: bold\">4408</span>               <span style=\"color: #008080; text-decoration-color: #008080; font-weight: bold\">14.0</span>           <span style=\"color: #008080; text-decoration-color: #008080; font-weight: bold\">8.0</span>               <span style=\"color: #008080; text-decoration-color: #008080; font-weight: bold\">1.0</span>               <span style=\"color: #008080; text-decoration-color: #008080; font-weight: bold\">10.0</span>   \n",
              "<span style=\"color: #008080; text-decoration-color: #008080; font-weight: bold\">4409</span>               <span style=\"color: #008080; text-decoration-color: #008080; font-weight: bold\">12.0</span>           <span style=\"color: #008080; text-decoration-color: #008080; font-weight: bold\">8.0</span>               <span style=\"color: #008080; text-decoration-color: #008080; font-weight: bold\">0.0</span>                NaN   \n",
              "\n",
              "     TrainingTimesLastYear  YearsAtCompany YearsSinceLastPromotion  \\\n",
              "<span style=\"color: #008080; text-decoration-color: #008080; font-weight: bold\">1</span>                      <span style=\"color: #008080; text-decoration-color: #008080; font-weight: bold\">3.0</span>             <span style=\"color: #008080; text-decoration-color: #008080; font-weight: bold\">5.0</span>                       <span style=\"color: #008080; text-decoration-color: #008080; font-weight: bold\">1</span>   \n",
              "<span style=\"color: #008080; text-decoration-color: #008080; font-weight: bold\">6</span>                      <span style=\"color: #008080; text-decoration-color: #008080; font-weight: bold\">2.0</span>             NaN                       <span style=\"color: #008080; text-decoration-color: #008080; font-weight: bold\">0</span>   \n",
              "<span style=\"color: #008080; text-decoration-color: #008080; font-weight: bold\">13</span>                     <span style=\"color: #008080; text-decoration-color: #008080; font-weight: bold\">4.0</span>            <span style=\"color: #008080; text-decoration-color: #008080; font-weight: bold\">10.0</span>                       <span style=\"color: #008080; text-decoration-color: #008080; font-weight: bold\">9</span>   \n",
              "<span style=\"color: #008080; text-decoration-color: #008080; font-weight: bold\">28</span>                     <span style=\"color: #008080; text-decoration-color: #008080; font-weight: bold\">2.0</span>             NaN                       <span style=\"color: #008080; text-decoration-color: #008080; font-weight: bold\">0</span>   \n",
              "<span style=\"color: #008080; text-decoration-color: #008080; font-weight: bold\">30</span>                     <span style=\"color: #008080; text-decoration-color: #008080; font-weight: bold\">5.0</span>             <span style=\"color: #008080; text-decoration-color: #008080; font-weight: bold\">3.0</span>                       <span style=\"color: #008080; text-decoration-color: #008080; font-weight: bold\">0</span>   \n",
              "<span style=\"color: #808000; text-decoration-color: #808000\">...</span>                    <span style=\"color: #808000; text-decoration-color: #808000\">...</span>             <span style=\"color: #808000; text-decoration-color: #808000\">...</span>                     <span style=\"color: #808000; text-decoration-color: #808000\">...</span>   \n",
              "<span style=\"color: #008080; text-decoration-color: #008080; font-weight: bold\">4405</span>                   NaN             <span style=\"color: #008080; text-decoration-color: #008080; font-weight: bold\">3.0</span>                       <span style=\"color: #008080; text-decoration-color: #008080; font-weight: bold\">0</span>   \n",
              "<span style=\"color: #008080; text-decoration-color: #008080; font-weight: bold\">4406</span>                   <span style=\"color: #008080; text-decoration-color: #008080; font-weight: bold\">2.0</span>             NaN                       <span style=\"color: #008080; text-decoration-color: #008080; font-weight: bold\">0</span>   \n",
              "<span style=\"color: #008080; text-decoration-color: #008080; font-weight: bold\">4407</span>                   <span style=\"color: #008080; text-decoration-color: #008080; font-weight: bold\">4.0</span>             <span style=\"color: #008080; text-decoration-color: #008080; font-weight: bold\">4.0</span>                       <span style=\"color: #008080; text-decoration-color: #008080; font-weight: bold\">1</span>   \n",
              "<span style=\"color: #008080; text-decoration-color: #008080; font-weight: bold\">4408</span>                   <span style=\"color: #008080; text-decoration-color: #008080; font-weight: bold\">2.0</span>             NaN                       <span style=\"color: #008080; text-decoration-color: #008080; font-weight: bold\">7</span>   \n",
              "<span style=\"color: #008080; text-decoration-color: #008080; font-weight: bold\">4409</span>                   <span style=\"color: #008080; text-decoration-color: #008080; font-weight: bold\">6.0</span>            <span style=\"color: #008080; text-decoration-color: #008080; font-weight: bold\">21.0</span>                       <span style=\"color: #008080; text-decoration-color: #008080; font-weight: bold\">3</span>   \n",
              "\n",
              "     YearsWithCurrManager  \n",
              "<span style=\"color: #008080; text-decoration-color: #008080; font-weight: bold\">1</span>                     NaN  \n",
              "<span style=\"color: #008080; text-decoration-color: #008080; font-weight: bold\">6</span>                     <span style=\"color: #008080; text-decoration-color: #008080; font-weight: bold\">0.0</span>  \n",
              "<span style=\"color: #008080; text-decoration-color: #008080; font-weight: bold\">13</span>                    <span style=\"color: #008080; text-decoration-color: #008080; font-weight: bold\">9.0</span>  \n",
              "<span style=\"color: #008080; text-decoration-color: #008080; font-weight: bold\">28</span>                    <span style=\"color: #008080; text-decoration-color: #008080; font-weight: bold\">0.0</span>  \n",
              "<span style=\"color: #008080; text-decoration-color: #008080; font-weight: bold\">30</span>                    <span style=\"color: #008080; text-decoration-color: #008080; font-weight: bold\">2.0</span>  \n",
              "<span style=\"color: #808000; text-decoration-color: #808000\">...</span>                   <span style=\"color: #808000; text-decoration-color: #808000\">...</span>  \n",
              "<span style=\"color: #008080; text-decoration-color: #008080; font-weight: bold\">4405</span>                  <span style=\"color: #008080; text-decoration-color: #008080; font-weight: bold\">2.0</span>  \n",
              "<span style=\"color: #008080; text-decoration-color: #008080; font-weight: bold\">4406</span>                  NaN  \n",
              "<span style=\"color: #008080; text-decoration-color: #008080; font-weight: bold\">4407</span>                  <span style=\"color: #008080; text-decoration-color: #008080; font-weight: bold\">2.0</span>  \n",
              "<span style=\"color: #008080; text-decoration-color: #008080; font-weight: bold\">4408</span>                  <span style=\"color: #008080; text-decoration-color: #008080; font-weight: bold\">8.0</span>  \n",
              "<span style=\"color: #008080; text-decoration-color: #008080; font-weight: bold\">4409</span>                  <span style=\"color: #008080; text-decoration-color: #008080; font-weight: bold\">9.0</span>  \n",
              "\n",
              "<span style=\"font-weight: bold\">[</span><span style=\"color: #008080; text-decoration-color: #008080; font-weight: bold\">4410</span> rows x <span style=\"color: #008080; text-decoration-color: #008080; font-weight: bold\">31</span> columns<span style=\"font-weight: bold\">]</span>\n",
              "</pre>\n"
            ]
          },
          "metadata": {}
        },
        {
          "output_type": "display_data",
          "data": {
            "text/plain": [
              "El conjunto de datos tiene \u001b[1;36m4410\u001b[0m instancias.\n"
            ],
            "text/html": [
              "<pre style=\"white-space:pre;overflow-x:auto;line-height:normal;font-family:Menlo,'DejaVu Sans Mono',consolas,'Courier New',monospace\">El conjunto de datos tiene <span style=\"color: #008080; text-decoration-color: #008080; font-weight: bold\">4410</span> instancias.\n",
              "</pre>\n"
            ]
          },
          "metadata": {}
        }
      ]
    },
    {
      "cell_type": "markdown",
      "source": [
        "A continuación, separamos la **matriz de atributos** (**X**) y el **vector de la variable de respuesta** *salida* (**y**)."
      ],
      "metadata": {
        "id": "eAJdBXFTbzlR"
      }
    },
    {
      "cell_type": "code",
      "source": [
        "# Datos.\n",
        "X = df.drop('Attrition', axis=1)\n",
        "\n",
        "# Etiquetas.\n",
        "y = df.Attrition\n",
        "\n",
        "print(y)"
      ],
      "metadata": {
        "colab": {
          "base_uri": "https://localhost:8080/",
          "height": 215
        },
        "id": "8-XNPp1Cb0XD",
        "outputId": "62210672-59f5-4871-f171-c878c70fb06f"
      },
      "execution_count": 30,
      "outputs": [
        {
          "output_type": "display_data",
          "data": {
            "text/plain": [
              "\u001b[1;36m1\u001b[0m       Yes\n",
              "\u001b[1;36m6\u001b[0m       Yes\n",
              "\u001b[1;36m13\u001b[0m      Yes\n",
              "\u001b[1;36m28\u001b[0m      Yes\n",
              "\u001b[1;36m30\u001b[0m      Yes\n",
              "       \u001b[33m...\u001b[0m \n",
              "\u001b[1;36m4405\u001b[0m     No\n",
              "\u001b[1;36m4406\u001b[0m     No\n",
              "\u001b[1;36m4407\u001b[0m     No\n",
              "\u001b[1;36m4408\u001b[0m     No\n",
              "\u001b[1;36m4409\u001b[0m     No\n",
              "Name: Attrition, Length: \u001b[1;36m4410\u001b[0m, dtype: object\n"
            ],
            "text/html": [
              "<pre style=\"white-space:pre;overflow-x:auto;line-height:normal;font-family:Menlo,'DejaVu Sans Mono',consolas,'Courier New',monospace\"><span style=\"color: #008080; text-decoration-color: #008080; font-weight: bold\">1</span>       Yes\n",
              "<span style=\"color: #008080; text-decoration-color: #008080; font-weight: bold\">6</span>       Yes\n",
              "<span style=\"color: #008080; text-decoration-color: #008080; font-weight: bold\">13</span>      Yes\n",
              "<span style=\"color: #008080; text-decoration-color: #008080; font-weight: bold\">28</span>      Yes\n",
              "<span style=\"color: #008080; text-decoration-color: #008080; font-weight: bold\">30</span>      Yes\n",
              "       <span style=\"color: #808000; text-decoration-color: #808000\">...</span> \n",
              "<span style=\"color: #008080; text-decoration-color: #008080; font-weight: bold\">4405</span>     No\n",
              "<span style=\"color: #008080; text-decoration-color: #008080; font-weight: bold\">4406</span>     No\n",
              "<span style=\"color: #008080; text-decoration-color: #008080; font-weight: bold\">4407</span>     No\n",
              "<span style=\"color: #008080; text-decoration-color: #008080; font-weight: bold\">4408</span>     No\n",
              "<span style=\"color: #008080; text-decoration-color: #008080; font-weight: bold\">4409</span>     No\n",
              "Name: Attrition, Length: <span style=\"color: #008080; text-decoration-color: #008080; font-weight: bold\">4410</span>, dtype: object\n",
              "</pre>\n"
            ]
          },
          "metadata": {}
        }
      ]
    },
    {
      "cell_type": "markdown",
      "source": [
        "# **Análisis Exploratorio de Datos (EDA)**\n",
        "Antes de comenzar, destacar que dado que los resultados deben ser reproducibles, hemos fijado la **semilla de números aleatorios** en los lugares adecuados. Para ello, hemos seleccionado como semilla el número del grupo de prácticas (*13*).</br></br>\n",
        "Para poder realizar el análisis exploratorio de datos, llevaremos a cabo los siguientes pasos:\n",
        "\n",
        "+ Número de instancias y atributos.\n",
        "+ Tipo de atributos (numéricos o categóricos).\n",
        "+ Columnas constantes o innecesarias.\n",
        "+ Proporción de *missing values*.\n",
        "+ Tipo de problema (clasificación o regresión).\n",
        "+ Desbalance."
      ],
      "metadata": {
        "id": "stD5IojGVU9E"
      }
    },
    {
      "cell_type": "markdown",
      "source": [
        "## **Número de instancias y atributos**\n",
        "\n",
        "## **Número de instancias y atributos**\n",
        "Los **datos** cuentan con 30 atributos y la variable de respuesta *Attrition*. En total, contamos con un total de **4410 instancias**.</br></br>\n",
        "\n",
        "A continuación, profundizaremos más en los atributos, su significado y nomenclatura.</br></br>\n",
        "\n",
        "Como podemos ver en la siguiente tabla, contamos con **30 atributos** diferentes, cada uno de ellos con su respectivo nombre (identificador) y con su unidad concreta. Estos atributos corresponden con **variables sobre empleados de la empresa recopilados por el departamento de recursos humanos**. El último valor que podemos observar es la predicción de abandono de empleados (burnout) o, de otra forma, la variable de salida de nuestros datos.</br></br>\n",
        "\n",
        "| Columna | Descripción | Tipo de dato |\n",
        "| :- | :- | -: |\n",
        "| `hrs` | Número de horas trabajadas. | $float64$ |\n",
        "| `absences` | El número de ausencias tomadas por el empleado. | $float64$ |\n",
        "| `JobInvolvement` | El nivel de compromiso que tiene el empleado con su trabajo. | $float64$ |\n",
        "| `PerformanceRating` | La evaluación de desempeño del empleado. | $float64$ |\n",
        "| `EnvironmentSatisfaction`\t | El nivel de satisfacción que el empleado tiene con su entorno laboral. | $float64$ |\n",
        "| `JobSatisfaction`\t | El nivel de satisfacción que el empleado tiene con su trabajo. | $float64$ |\n",
        "| `WorkLifeBalance`\t | El equilibrio entre la vida laboral y personal del empleado. | $float64$ |\n",
        "| `Age` | La edad del empleado. | $float64$ |\n",
        "| `BusinessTravel` | La frecuencia de los viajes de negocios del empleado. | $object$ |\n",
        "| `Department` | El departamento en el que trabaja el empleado..\t| $object$ |\n",
        "| `DistanceFromHome` | La distancia desde la casa del empleado. | $float64$ |\n",
        "| `Education` | El nivel más alto de educación alcanzado por el empleado. | $int64$ |\n",
        "| `EducationField` | El campo de estudio en el que el empleado se especializó. | $object$ |\n",
        "| `EmployeeCount` | El número de empleados en la empresa. | $float64$ |\n",
        "| `EmployeeID` | Un identificador único para cada empleado. | $int64$ |\n",
        "| `Gender` | El genero del empleado. | $object$ |\n",
        "| `JobLevel` | El nivel de trabajo del empleado en la jerarquía de la empresa. | $float64$ |\n",
        "| `JobRole` | El rol específico que el empleado tiene en su departamento. | $object$ |\n",
        "| `MaritalStatus` | El estado civil del empleado. | $object$ |\n",
        "| `MonthlyIncome` | El ingreso mensual del empleado. | $float64$ |\n",
        "| `NumCompaniesWorked` | El número de empresas para las que el empleado ha trabajado antes de unirse a la empresa actual. | $float64$ |\n",
        "| `Over18` | Si el empleado es mayor de 18 años (presumiblemente todos los empleados lo son). | $object$ |\n",
        "| `PercentSalaryHike` | El porcentaje de aumento salarial que recibió el empleado en su último aumento de sueldo. | $float64$ |\n",
        "| `StandardHours` | El número estándar de horas de trabajo en la empresa. | $float64$ |\n",
        "| `StackOptionLevel` | El nivel de opción de compra de acciones que tiene el empleado. | $float64$ |\n",
        "| `TotalWorkingYears` | El número total de años que el empleado ha trabajado. | $float64$ |\n",
        "| `TrainingTimesLastYear` | El número de veces que el empleado recibió capacitación en el último año. | $float64$ |\n",
        "| `YearsAtCompany` | El número de años que el empleado ha estado en la empresa. | $float64$ |\n",
        "| `YearsSinceLastPromotion` | El número de años desde la última promoción del empleado. | $float64$ |\n",
        "| `YearsWithCurrManager` | El número de años que el empleado ha estado con su gerente actual. | $float64$ |\n",
        "| `Attrition` | Si el empleado ha dejado la empresa o no. | $object$ |\n"
      ],
      "metadata": {
        "id": "CZyRhuKuVeWT"
      }
    },
    {
      "cell_type": "markdown",
      "source": [
        "## **Tipo de atributos**\n",
        "\n",
        "Dentro de los diferentes tipos de atributos de los datos podemos encontrar los categóricos, numéricos u ordinales.</br></br>\n",
        "\n",
        "En el caso de nuestros datos, podemos ver como claramente como cada uno de ellos es de un tipo diferente.</br></br>\n",
        "\n",
        "Por tanto, dado que no todos los datos con los que vamos a tratar son atributos numéricos, tendremos que transformar las variables categóricas en **one-hot-encoding** y las variables ordinales en numéricas."
      ],
      "metadata": {
        "id": "Y042xoUAVVJw"
      }
    },
    {
      "cell_type": "code",
      "source": [
        "print(df.dtypes)"
      ],
      "metadata": {
        "id": "5M7m_TlaVWMc",
        "colab": {
          "base_uri": "https://localhost:8080/",
          "height": 545
        },
        "outputId": "bb5a6163-6ab0-41f3-a99c-7901bec401c9"
      },
      "execution_count": 31,
      "outputs": [
        {
          "output_type": "display_data",
          "data": {
            "text/plain": [
              "hrs                        float64\n",
              "absences                   float64\n",
              "JobInvolvement             float64\n",
              "PerformanceRating          float64\n",
              "EnvironmentSatisfaction    float64\n",
              "JobSatisfaction            float64\n",
              "WorkLifeBalance            float64\n",
              "Age                        float64\n",
              "Attrition                   object\n",
              "BusinessTravel              object\n",
              "Department                  object\n",
              "DistanceFromHome           float64\n",
              "Education                  float64\n",
              "EducationField              object\n",
              "EmployeeCount              float64\n",
              "EmployeeID                 float64\n",
              "Gender                      object\n",
              "JobLevel                   float64\n",
              "JobRole                     object\n",
              "MaritalStatus               object\n",
              "MonthlyIncome              float64\n",
              "NumCompaniesWorked         float64\n",
              "Over18                      object\n",
              "PercentSalaryHike          float64\n",
              "StandardHours              float64\n",
              "StockOptionLevel           float64\n",
              "TotalWorkingYears          float64\n",
              "TrainingTimesLastYear      float64\n",
              "YearsAtCompany             float64\n",
              "YearsSinceLastPromotion      int64\n",
              "YearsWithCurrManager       float64\n",
              "dtype: object\n"
            ],
            "text/html": [
              "<pre style=\"white-space:pre;overflow-x:auto;line-height:normal;font-family:Menlo,'DejaVu Sans Mono',consolas,'Courier New',monospace\">hrs                        float64\n",
              "absences                   float64\n",
              "JobInvolvement             float64\n",
              "PerformanceRating          float64\n",
              "EnvironmentSatisfaction    float64\n",
              "JobSatisfaction            float64\n",
              "WorkLifeBalance            float64\n",
              "Age                        float64\n",
              "Attrition                   object\n",
              "BusinessTravel              object\n",
              "Department                  object\n",
              "DistanceFromHome           float64\n",
              "Education                  float64\n",
              "EducationField              object\n",
              "EmployeeCount              float64\n",
              "EmployeeID                 float64\n",
              "Gender                      object\n",
              "JobLevel                   float64\n",
              "JobRole                     object\n",
              "MaritalStatus               object\n",
              "MonthlyIncome              float64\n",
              "NumCompaniesWorked         float64\n",
              "Over18                      object\n",
              "PercentSalaryHike          float64\n",
              "StandardHours              float64\n",
              "StockOptionLevel           float64\n",
              "TotalWorkingYears          float64\n",
              "TrainingTimesLastYear      float64\n",
              "YearsAtCompany             float64\n",
              "YearsSinceLastPromotion      int64\n",
              "YearsWithCurrManager       float64\n",
              "dtype: object\n",
              "</pre>\n"
            ]
          },
          "metadata": {}
        }
      ]
    },
    {
      "cell_type": "markdown",
      "source": [
        "## **Columnas constantes o innecesarias**"
      ],
      "metadata": {
        "id": "nxB3xy13byJg"
      }
    },
    {
      "cell_type": "markdown",
      "source": [
        "La primera observación que podemos hacer es que la columna EmployeeID es irrelevante para nuestro estudio, ya que la información que recoge no aporta nada a nuestro estudio; por tanto la eliminaremos.\n",
        "\n",
        "Esto es debido a que una variable que indica un identificador para cada empleado no tendrá ningun tipo de relevancia para predecir el burnout."
      ],
      "metadata": {
        "id": "nLhX9Qj_jGOU"
      }
    },
    {
      "cell_type": "code",
      "source": [
        "X.drop('EmployeeID', axis=1)"
      ],
      "metadata": {
        "id": "2IdNJyk-byQk",
        "colab": {
          "base_uri": "https://localhost:8080/",
          "height": 644
        },
        "outputId": "ff83cbf8-cde4-4de6-998f-4d47d3852047"
      },
      "execution_count": 32,
      "outputs": [
        {
          "output_type": "execute_result",
          "data": {
            "text/plain": [
              "           hrs  absences  JobInvolvement  PerformanceRating  \\\n",
              "1     7.315971      13.0             2.0                4.0   \n",
              "6     6.450877      17.0             3.0                4.0   \n",
              "13         NaN      14.0             NaN                3.0   \n",
              "28         NaN       NaN             2.0                3.0   \n",
              "30    9.662808      11.0             NaN                3.0   \n",
              "...        ...       ...             ...                ...   \n",
              "4405  8.316921       6.0             3.0                3.0   \n",
              "4406  5.897197       8.0             2.0                3.0   \n",
              "4407  7.149526      18.0             3.0                NaN   \n",
              "4408  9.187612       NaN             NaN                3.0   \n",
              "4409  6.511790      17.0             NaN                3.0   \n",
              "\n",
              "      EnvironmentSatisfaction  JobSatisfaction  WorkLifeBalance   Age  \\\n",
              "1                         3.0              2.0              NaN   NaN   \n",
              "6                         1.0              3.0              1.0  28.0   \n",
              "13                        NaN              2.0              2.0  47.0   \n",
              "28                        NaN              3.0              1.0  44.0   \n",
              "30                        1.0              2.0              3.0  26.0   \n",
              "...                       ...              ...              ...   ...   \n",
              "4405                      4.0              1.0              3.0  42.0   \n",
              "4406                      4.0              NaN              3.0   NaN   \n",
              "4407                      1.0              3.0              3.0  25.0   \n",
              "4408                      4.0              1.0              3.0  42.0   \n",
              "4409                      1.0              3.0              NaN  40.0   \n",
              "\n",
              "         BusinessTravel              Department  ...  NumCompaniesWorked  \\\n",
              "1     Travel_Frequently  Research & Development  ...                 0.0   \n",
              "6         Travel_Rarely  Research & Development  ...                 2.0   \n",
              "13           Non-Travel  Research & Development  ...                 NaN   \n",
              "28    Travel_Frequently  Research & Development  ...                 3.0   \n",
              "30        Travel_Rarely  Research & Development  ...                 2.0   \n",
              "...                 ...                     ...  ...                 ...   \n",
              "4405      Travel_Rarely  Research & Development  ...                 3.0   \n",
              "4406      Travel_Rarely  Research & Development  ...                 2.0   \n",
              "4407      Travel_Rarely  Research & Development  ...                 0.0   \n",
              "4408      Travel_Rarely                   Sales  ...                 0.0   \n",
              "4409      Travel_Rarely  Research & Development  ...                 0.0   \n",
              "\n",
              "      Over18 PercentSalaryHike  StandardHours StockOptionLevel  \\\n",
              "1          Y               NaN            8.0              1.0   \n",
              "6          Y              20.0            8.0              1.0   \n",
              "13       NaN               NaN            8.0              2.0   \n",
              "28         Y              14.0            8.0              1.0   \n",
              "30         Y              11.0            8.0              NaN   \n",
              "...      ...               ...            ...              ...   \n",
              "4405       Y               NaN            8.0              1.0   \n",
              "4406       Y              15.0            8.0              0.0   \n",
              "4407     NaN               NaN            8.0              0.0   \n",
              "4408       Y              14.0            8.0              1.0   \n",
              "4409       Y              12.0            8.0              0.0   \n",
              "\n",
              "      TotalWorkingYears TrainingTimesLastYear YearsAtCompany  \\\n",
              "1                   6.0                   3.0            5.0   \n",
              "6                   5.0                   2.0            NaN   \n",
              "13                 10.0                   4.0           10.0   \n",
              "28                  NaN                   2.0            NaN   \n",
              "30                  5.0                   5.0            3.0   \n",
              "...                 ...                   ...            ...   \n",
              "4405               10.0                   NaN            3.0   \n",
              "4406               10.0                   2.0            NaN   \n",
              "4407                5.0                   4.0            4.0   \n",
              "4408               10.0                   2.0            NaN   \n",
              "4409                NaN                   6.0           21.0   \n",
              "\n",
              "      YearsSinceLastPromotion  YearsWithCurrManager  \n",
              "1                           1                   NaN  \n",
              "6                           0                   0.0  \n",
              "13                          9                   9.0  \n",
              "28                          0                   0.0  \n",
              "30                          0                   2.0  \n",
              "...                       ...                   ...  \n",
              "4405                        0                   2.0  \n",
              "4406                        0                   NaN  \n",
              "4407                        1                   2.0  \n",
              "4408                        7                   8.0  \n",
              "4409                        3                   9.0  \n",
              "\n",
              "[4410 rows x 29 columns]"
            ],
            "text/html": [
              "\n",
              "  <div id=\"df-2e87e1fb-7791-47c5-b35e-09907dc082a5\">\n",
              "    <div class=\"colab-df-container\">\n",
              "      <div>\n",
              "<style scoped>\n",
              "    .dataframe tbody tr th:only-of-type {\n",
              "        vertical-align: middle;\n",
              "    }\n",
              "\n",
              "    .dataframe tbody tr th {\n",
              "        vertical-align: top;\n",
              "    }\n",
              "\n",
              "    .dataframe thead th {\n",
              "        text-align: right;\n",
              "    }\n",
              "</style>\n",
              "<table border=\"1\" class=\"dataframe\">\n",
              "  <thead>\n",
              "    <tr style=\"text-align: right;\">\n",
              "      <th></th>\n",
              "      <th>hrs</th>\n",
              "      <th>absences</th>\n",
              "      <th>JobInvolvement</th>\n",
              "      <th>PerformanceRating</th>\n",
              "      <th>EnvironmentSatisfaction</th>\n",
              "      <th>JobSatisfaction</th>\n",
              "      <th>WorkLifeBalance</th>\n",
              "      <th>Age</th>\n",
              "      <th>BusinessTravel</th>\n",
              "      <th>Department</th>\n",
              "      <th>...</th>\n",
              "      <th>NumCompaniesWorked</th>\n",
              "      <th>Over18</th>\n",
              "      <th>PercentSalaryHike</th>\n",
              "      <th>StandardHours</th>\n",
              "      <th>StockOptionLevel</th>\n",
              "      <th>TotalWorkingYears</th>\n",
              "      <th>TrainingTimesLastYear</th>\n",
              "      <th>YearsAtCompany</th>\n",
              "      <th>YearsSinceLastPromotion</th>\n",
              "      <th>YearsWithCurrManager</th>\n",
              "    </tr>\n",
              "  </thead>\n",
              "  <tbody>\n",
              "    <tr>\n",
              "      <th>1</th>\n",
              "      <td>7.315971</td>\n",
              "      <td>13.0</td>\n",
              "      <td>2.0</td>\n",
              "      <td>4.0</td>\n",
              "      <td>3.0</td>\n",
              "      <td>2.0</td>\n",
              "      <td>NaN</td>\n",
              "      <td>NaN</td>\n",
              "      <td>Travel_Frequently</td>\n",
              "      <td>Research &amp; Development</td>\n",
              "      <td>...</td>\n",
              "      <td>0.0</td>\n",
              "      <td>Y</td>\n",
              "      <td>NaN</td>\n",
              "      <td>8.0</td>\n",
              "      <td>1.0</td>\n",
              "      <td>6.0</td>\n",
              "      <td>3.0</td>\n",
              "      <td>5.0</td>\n",
              "      <td>1</td>\n",
              "      <td>NaN</td>\n",
              "    </tr>\n",
              "    <tr>\n",
              "      <th>6</th>\n",
              "      <td>6.450877</td>\n",
              "      <td>17.0</td>\n",
              "      <td>3.0</td>\n",
              "      <td>4.0</td>\n",
              "      <td>1.0</td>\n",
              "      <td>3.0</td>\n",
              "      <td>1.0</td>\n",
              "      <td>28.0</td>\n",
              "      <td>Travel_Rarely</td>\n",
              "      <td>Research &amp; Development</td>\n",
              "      <td>...</td>\n",
              "      <td>2.0</td>\n",
              "      <td>Y</td>\n",
              "      <td>20.0</td>\n",
              "      <td>8.0</td>\n",
              "      <td>1.0</td>\n",
              "      <td>5.0</td>\n",
              "      <td>2.0</td>\n",
              "      <td>NaN</td>\n",
              "      <td>0</td>\n",
              "      <td>0.0</td>\n",
              "    </tr>\n",
              "    <tr>\n",
              "      <th>13</th>\n",
              "      <td>NaN</td>\n",
              "      <td>14.0</td>\n",
              "      <td>NaN</td>\n",
              "      <td>3.0</td>\n",
              "      <td>NaN</td>\n",
              "      <td>2.0</td>\n",
              "      <td>2.0</td>\n",
              "      <td>47.0</td>\n",
              "      <td>Non-Travel</td>\n",
              "      <td>Research &amp; Development</td>\n",
              "      <td>...</td>\n",
              "      <td>NaN</td>\n",
              "      <td>NaN</td>\n",
              "      <td>NaN</td>\n",
              "      <td>8.0</td>\n",
              "      <td>2.0</td>\n",
              "      <td>10.0</td>\n",
              "      <td>4.0</td>\n",
              "      <td>10.0</td>\n",
              "      <td>9</td>\n",
              "      <td>9.0</td>\n",
              "    </tr>\n",
              "    <tr>\n",
              "      <th>28</th>\n",
              "      <td>NaN</td>\n",
              "      <td>NaN</td>\n",
              "      <td>2.0</td>\n",
              "      <td>3.0</td>\n",
              "      <td>NaN</td>\n",
              "      <td>3.0</td>\n",
              "      <td>1.0</td>\n",
              "      <td>44.0</td>\n",
              "      <td>Travel_Frequently</td>\n",
              "      <td>Research &amp; Development</td>\n",
              "      <td>...</td>\n",
              "      <td>3.0</td>\n",
              "      <td>Y</td>\n",
              "      <td>14.0</td>\n",
              "      <td>8.0</td>\n",
              "      <td>1.0</td>\n",
              "      <td>NaN</td>\n",
              "      <td>2.0</td>\n",
              "      <td>NaN</td>\n",
              "      <td>0</td>\n",
              "      <td>0.0</td>\n",
              "    </tr>\n",
              "    <tr>\n",
              "      <th>30</th>\n",
              "      <td>9.662808</td>\n",
              "      <td>11.0</td>\n",
              "      <td>NaN</td>\n",
              "      <td>3.0</td>\n",
              "      <td>1.0</td>\n",
              "      <td>2.0</td>\n",
              "      <td>3.0</td>\n",
              "      <td>26.0</td>\n",
              "      <td>Travel_Rarely</td>\n",
              "      <td>Research &amp; Development</td>\n",
              "      <td>...</td>\n",
              "      <td>2.0</td>\n",
              "      <td>Y</td>\n",
              "      <td>11.0</td>\n",
              "      <td>8.0</td>\n",
              "      <td>NaN</td>\n",
              "      <td>5.0</td>\n",
              "      <td>5.0</td>\n",
              "      <td>3.0</td>\n",
              "      <td>0</td>\n",
              "      <td>2.0</td>\n",
              "    </tr>\n",
              "    <tr>\n",
              "      <th>...</th>\n",
              "      <td>...</td>\n",
              "      <td>...</td>\n",
              "      <td>...</td>\n",
              "      <td>...</td>\n",
              "      <td>...</td>\n",
              "      <td>...</td>\n",
              "      <td>...</td>\n",
              "      <td>...</td>\n",
              "      <td>...</td>\n",
              "      <td>...</td>\n",
              "      <td>...</td>\n",
              "      <td>...</td>\n",
              "      <td>...</td>\n",
              "      <td>...</td>\n",
              "      <td>...</td>\n",
              "      <td>...</td>\n",
              "      <td>...</td>\n",
              "      <td>...</td>\n",
              "      <td>...</td>\n",
              "      <td>...</td>\n",
              "      <td>...</td>\n",
              "    </tr>\n",
              "    <tr>\n",
              "      <th>4405</th>\n",
              "      <td>8.316921</td>\n",
              "      <td>6.0</td>\n",
              "      <td>3.0</td>\n",
              "      <td>3.0</td>\n",
              "      <td>4.0</td>\n",
              "      <td>1.0</td>\n",
              "      <td>3.0</td>\n",
              "      <td>42.0</td>\n",
              "      <td>Travel_Rarely</td>\n",
              "      <td>Research &amp; Development</td>\n",
              "      <td>...</td>\n",
              "      <td>3.0</td>\n",
              "      <td>Y</td>\n",
              "      <td>NaN</td>\n",
              "      <td>8.0</td>\n",
              "      <td>1.0</td>\n",
              "      <td>10.0</td>\n",
              "      <td>NaN</td>\n",
              "      <td>3.0</td>\n",
              "      <td>0</td>\n",
              "      <td>2.0</td>\n",
              "    </tr>\n",
              "    <tr>\n",
              "      <th>4406</th>\n",
              "      <td>5.897197</td>\n",
              "      <td>8.0</td>\n",
              "      <td>2.0</td>\n",
              "      <td>3.0</td>\n",
              "      <td>4.0</td>\n",
              "      <td>NaN</td>\n",
              "      <td>3.0</td>\n",
              "      <td>NaN</td>\n",
              "      <td>Travel_Rarely</td>\n",
              "      <td>Research &amp; Development</td>\n",
              "      <td>...</td>\n",
              "      <td>2.0</td>\n",
              "      <td>Y</td>\n",
              "      <td>15.0</td>\n",
              "      <td>8.0</td>\n",
              "      <td>0.0</td>\n",
              "      <td>10.0</td>\n",
              "      <td>2.0</td>\n",
              "      <td>NaN</td>\n",
              "      <td>0</td>\n",
              "      <td>NaN</td>\n",
              "    </tr>\n",
              "    <tr>\n",
              "      <th>4407</th>\n",
              "      <td>7.149526</td>\n",
              "      <td>18.0</td>\n",
              "      <td>3.0</td>\n",
              "      <td>NaN</td>\n",
              "      <td>1.0</td>\n",
              "      <td>3.0</td>\n",
              "      <td>3.0</td>\n",
              "      <td>25.0</td>\n",
              "      <td>Travel_Rarely</td>\n",
              "      <td>Research &amp; Development</td>\n",
              "      <td>...</td>\n",
              "      <td>0.0</td>\n",
              "      <td>NaN</td>\n",
              "      <td>NaN</td>\n",
              "      <td>8.0</td>\n",
              "      <td>0.0</td>\n",
              "      <td>5.0</td>\n",
              "      <td>4.0</td>\n",
              "      <td>4.0</td>\n",
              "      <td>1</td>\n",
              "      <td>2.0</td>\n",
              "    </tr>\n",
              "    <tr>\n",
              "      <th>4408</th>\n",
              "      <td>9.187612</td>\n",
              "      <td>NaN</td>\n",
              "      <td>NaN</td>\n",
              "      <td>3.0</td>\n",
              "      <td>4.0</td>\n",
              "      <td>1.0</td>\n",
              "      <td>3.0</td>\n",
              "      <td>42.0</td>\n",
              "      <td>Travel_Rarely</td>\n",
              "      <td>Sales</td>\n",
              "      <td>...</td>\n",
              "      <td>0.0</td>\n",
              "      <td>Y</td>\n",
              "      <td>14.0</td>\n",
              "      <td>8.0</td>\n",
              "      <td>1.0</td>\n",
              "      <td>10.0</td>\n",
              "      <td>2.0</td>\n",
              "      <td>NaN</td>\n",
              "      <td>7</td>\n",
              "      <td>8.0</td>\n",
              "    </tr>\n",
              "    <tr>\n",
              "      <th>4409</th>\n",
              "      <td>6.511790</td>\n",
              "      <td>17.0</td>\n",
              "      <td>NaN</td>\n",
              "      <td>3.0</td>\n",
              "      <td>1.0</td>\n",
              "      <td>3.0</td>\n",
              "      <td>NaN</td>\n",
              "      <td>40.0</td>\n",
              "      <td>Travel_Rarely</td>\n",
              "      <td>Research &amp; Development</td>\n",
              "      <td>...</td>\n",
              "      <td>0.0</td>\n",
              "      <td>Y</td>\n",
              "      <td>12.0</td>\n",
              "      <td>8.0</td>\n",
              "      <td>0.0</td>\n",
              "      <td>NaN</td>\n",
              "      <td>6.0</td>\n",
              "      <td>21.0</td>\n",
              "      <td>3</td>\n",
              "      <td>9.0</td>\n",
              "    </tr>\n",
              "  </tbody>\n",
              "</table>\n",
              "<p>4410 rows × 29 columns</p>\n",
              "</div>\n",
              "      <button class=\"colab-df-convert\" onclick=\"convertToInteractive('df-2e87e1fb-7791-47c5-b35e-09907dc082a5')\"\n",
              "              title=\"Convert this dataframe to an interactive table.\"\n",
              "              style=\"display:none;\">\n",
              "        \n",
              "  <svg xmlns=\"http://www.w3.org/2000/svg\" height=\"24px\"viewBox=\"0 0 24 24\"\n",
              "       width=\"24px\">\n",
              "    <path d=\"M0 0h24v24H0V0z\" fill=\"none\"/>\n",
              "    <path d=\"M18.56 5.44l.94 2.06.94-2.06 2.06-.94-2.06-.94-.94-2.06-.94 2.06-2.06.94zm-11 1L8.5 8.5l.94-2.06 2.06-.94-2.06-.94L8.5 2.5l-.94 2.06-2.06.94zm10 10l.94 2.06.94-2.06 2.06-.94-2.06-.94-.94-2.06-.94 2.06-2.06.94z\"/><path d=\"M17.41 7.96l-1.37-1.37c-.4-.4-.92-.59-1.43-.59-.52 0-1.04.2-1.43.59L10.3 9.45l-7.72 7.72c-.78.78-.78 2.05 0 2.83L4 21.41c.39.39.9.59 1.41.59.51 0 1.02-.2 1.41-.59l7.78-7.78 2.81-2.81c.8-.78.8-2.07 0-2.86zM5.41 20L4 18.59l7.72-7.72 1.47 1.35L5.41 20z\"/>\n",
              "  </svg>\n",
              "      </button>\n",
              "      \n",
              "  <style>\n",
              "    .colab-df-container {\n",
              "      display:flex;\n",
              "      flex-wrap:wrap;\n",
              "      gap: 12px;\n",
              "    }\n",
              "\n",
              "    .colab-df-convert {\n",
              "      background-color: #E8F0FE;\n",
              "      border: none;\n",
              "      border-radius: 50%;\n",
              "      cursor: pointer;\n",
              "      display: none;\n",
              "      fill: #1967D2;\n",
              "      height: 32px;\n",
              "      padding: 0 0 0 0;\n",
              "      width: 32px;\n",
              "    }\n",
              "\n",
              "    .colab-df-convert:hover {\n",
              "      background-color: #E2EBFA;\n",
              "      box-shadow: 0px 1px 2px rgba(60, 64, 67, 0.3), 0px 1px 3px 1px rgba(60, 64, 67, 0.15);\n",
              "      fill: #174EA6;\n",
              "    }\n",
              "\n",
              "    [theme=dark] .colab-df-convert {\n",
              "      background-color: #3B4455;\n",
              "      fill: #D2E3FC;\n",
              "    }\n",
              "\n",
              "    [theme=dark] .colab-df-convert:hover {\n",
              "      background-color: #434B5C;\n",
              "      box-shadow: 0px 1px 3px 1px rgba(0, 0, 0, 0.15);\n",
              "      filter: drop-shadow(0px 1px 2px rgba(0, 0, 0, 0.3));\n",
              "      fill: #FFFFFF;\n",
              "    }\n",
              "  </style>\n",
              "\n",
              "      <script>\n",
              "        const buttonEl =\n",
              "          document.querySelector('#df-2e87e1fb-7791-47c5-b35e-09907dc082a5 button.colab-df-convert');\n",
              "        buttonEl.style.display =\n",
              "          google.colab.kernel.accessAllowed ? 'block' : 'none';\n",
              "\n",
              "        async function convertToInteractive(key) {\n",
              "          const element = document.querySelector('#df-2e87e1fb-7791-47c5-b35e-09907dc082a5');\n",
              "          const dataTable =\n",
              "            await google.colab.kernel.invokeFunction('convertToInteractive',\n",
              "                                                     [key], {});\n",
              "          if (!dataTable) return;\n",
              "\n",
              "          const docLinkHtml = 'Like what you see? Visit the ' +\n",
              "            '<a target=\"_blank\" href=https://colab.research.google.com/notebooks/data_table.ipynb>data table notebook</a>'\n",
              "            + ' to learn more about interactive tables.';\n",
              "          element.innerHTML = '';\n",
              "          dataTable['output_type'] = 'display_data';\n",
              "          await google.colab.output.renderOutput(dataTable, element);\n",
              "          const docLink = document.createElement('div');\n",
              "          docLink.innerHTML = docLinkHtml;\n",
              "          element.appendChild(docLink);\n",
              "        }\n",
              "      </script>\n",
              "    </div>\n",
              "  </div>\n",
              "  "
            ]
          },
          "metadata": {},
          "execution_count": 32
        }
      ]
    },
    {
      "cell_type": "markdown",
      "source": [
        "A continuación, buscaremos que columnas son constantes o inecesarias (valores nulos) y las eliminaremos."
      ],
      "metadata": {
        "id": "sRN8MuuOj2-e"
      }
    },
    {
      "cell_type": "code",
      "source": [
        "drop_cols = []\n",
        "for col in X.columns:\n",
        "    if X[col].nunique() == 1:\n",
        "        # la columna es constante\n",
        "        print(f'Columna {col} es constante y será eliminada')\n",
        "        drop_cols.append(col)\n",
        "\n",
        "    if X[col].isna().sum() == len(data):\n",
        "        # la columna tiene todos los valores nulos\n",
        "        print(f'Columna {col} tiene todos los valores nulos y será eliminada')\n",
        "        drop_cols.append(col)\n",
        "\n",
        "# Eliminar las columnas constantes o innecesarias\n",
        "X.drop(drop_cols, axis=1, inplace=True)"
      ],
      "metadata": {
        "colab": {
          "base_uri": "https://localhost:8080/",
          "height": 67
        },
        "id": "idDJsHC8kJ3E",
        "outputId": "9be6af18-e9a8-4cc0-ca0c-2f30df3ca571"
      },
      "execution_count": 33,
      "outputs": [
        {
          "output_type": "display_data",
          "data": {
            "text/plain": [
              "Columna EmployeeCount es constante y será eliminada\n"
            ],
            "text/html": [
              "<pre style=\"white-space:pre;overflow-x:auto;line-height:normal;font-family:Menlo,'DejaVu Sans Mono',consolas,'Courier New',monospace\">Columna EmployeeCount es constante y será eliminada\n",
              "</pre>\n"
            ]
          },
          "metadata": {}
        },
        {
          "output_type": "display_data",
          "data": {
            "text/plain": [
              "Columna Over18 es constante y será eliminada\n"
            ],
            "text/html": [
              "<pre style=\"white-space:pre;overflow-x:auto;line-height:normal;font-family:Menlo,'DejaVu Sans Mono',consolas,'Courier New',monospace\">Columna Over18 es constante y será eliminada\n",
              "</pre>\n"
            ]
          },
          "metadata": {}
        },
        {
          "output_type": "display_data",
          "data": {
            "text/plain": [
              "Columna StandardHours es constante y será eliminada\n"
            ],
            "text/html": [
              "<pre style=\"white-space:pre;overflow-x:auto;line-height:normal;font-family:Menlo,'DejaVu Sans Mono',consolas,'Courier New',monospace\">Columna StandardHours es constante y será eliminada\n",
              "</pre>\n"
            ]
          },
          "metadata": {}
        }
      ]
    },
    {
      "cell_type": "markdown",
      "source": [
        "Por último, usaremos el método describe() para observar la naturaleza de las columnas constantes. Observaremos los valores de la media, la desviación estándar y los percentiles para cada atributo. Si un atributo tiene una media, una desviación estándar y percentiles iguales, esto puede indicar que todos sus valores son iguales, lo que significa que la columna es constante y puede ser eliminada."
      ],
      "metadata": {
        "id": "jQbVAJ-OlSQQ"
      }
    },
    {
      "cell_type": "code",
      "source": [
        "X.describe()"
      ],
      "metadata": {
        "colab": {
          "base_uri": "https://localhost:8080/",
          "height": 394
        },
        "id": "qYiWTvNtlkEV",
        "outputId": "1e8c7796-74dc-429b-ea2c-8462b212a5c8"
      },
      "execution_count": 34,
      "outputs": [
        {
          "output_type": "execute_result",
          "data": {
            "text/plain": [
              "               hrs     absences  JobInvolvement  PerformanceRating  \\\n",
              "count  3467.000000  3655.000000     3526.000000        3448.000000   \n",
              "mean      7.312232    12.766895        2.730856           3.156903   \n",
              "std       1.327228     5.508400        0.707324           0.363762   \n",
              "min       5.416880     1.000000        1.000000           3.000000   \n",
              "25%       6.281109     8.000000        2.000000           3.000000   \n",
              "50%       7.006571    13.000000        3.000000           3.000000   \n",
              "75%       7.899147    17.000000        3.000000           3.000000   \n",
              "max      10.907255    24.000000        4.000000           4.000000   \n",
              "\n",
              "       EnvironmentSatisfaction  JobSatisfaction  WorkLifeBalance          Age  \\\n",
              "count              3599.000000      3506.000000      3475.000000  3585.000000   \n",
              "mean                  2.720478         2.730462         2.768921    36.969038   \n",
              "std                   1.091022         1.101715         0.701886     9.158292   \n",
              "min                   1.000000         1.000000         1.000000    18.000000   \n",
              "25%                   2.000000         2.000000         2.000000    30.000000   \n",
              "50%                   3.000000         3.000000         3.000000    36.000000   \n",
              "75%                   4.000000         4.000000         3.000000    43.000000   \n",
              "max                   4.000000         4.000000         4.000000    60.000000   \n",
              "\n",
              "       DistanceFromHome    Education  ...     JobLevel  MonthlyIncome  \\\n",
              "count       3526.000000  3500.000000  ...  3631.000000    3655.000000   \n",
              "mean           9.147192     2.915143  ...     2.050124   65260.393981   \n",
              "std            8.063764     1.029404  ...     1.100072   47135.959457   \n",
              "min            1.000000     1.000000  ...     1.000000   10090.000000   \n",
              "25%            2.000000     2.000000  ...     1.000000   29260.000000   \n",
              "50%            7.000000     3.000000  ...     2.000000   49360.000000   \n",
              "75%           14.000000     4.000000  ...     3.000000   83940.000000   \n",
              "max           29.000000     5.000000  ...     5.000000  199990.000000   \n",
              "\n",
              "       NumCompaniesWorked  PercentSalaryHike  StockOptionLevel  \\\n",
              "count         3594.000000        3542.000000       3655.000000   \n",
              "mean             2.693656          15.149068          0.792339   \n",
              "std              2.489930           3.640018          0.854074   \n",
              "min              0.000000          11.000000          0.000000   \n",
              "25%              1.000000          12.000000          0.000000   \n",
              "50%              2.000000          14.000000          1.000000   \n",
              "75%              4.000000          18.000000          1.000000   \n",
              "max              9.000000          25.000000          3.000000   \n",
              "\n",
              "       TotalWorkingYears  TrainingTimesLastYear  YearsAtCompany  \\\n",
              "count        3495.000000            3620.000000     3681.000000   \n",
              "mean           11.300715               2.795856        7.086661   \n",
              "std             7.853680               1.288045        6.194303   \n",
              "min             0.000000               0.000000        0.000000   \n",
              "25%             6.000000               2.000000        3.000000   \n",
              "50%            10.000000               3.000000        5.000000   \n",
              "75%            15.000000               3.000000       10.000000   \n",
              "max            40.000000               6.000000       40.000000   \n",
              "\n",
              "       YearsSinceLastPromotion  YearsWithCurrManager  \n",
              "count              4410.000000           3663.000000  \n",
              "mean                  2.187755              4.114387  \n",
              "std                   3.221699              3.534687  \n",
              "min                   0.000000              0.000000  \n",
              "25%                   0.000000              2.000000  \n",
              "50%                   1.000000              3.000000  \n",
              "75%                   3.000000              7.000000  \n",
              "max                  15.000000             17.000000  \n",
              "\n",
              "[8 rows x 21 columns]"
            ],
            "text/html": [
              "\n",
              "  <div id=\"df-6f742792-56a7-4cdb-8d38-735cd26e4b93\">\n",
              "    <div class=\"colab-df-container\">\n",
              "      <div>\n",
              "<style scoped>\n",
              "    .dataframe tbody tr th:only-of-type {\n",
              "        vertical-align: middle;\n",
              "    }\n",
              "\n",
              "    .dataframe tbody tr th {\n",
              "        vertical-align: top;\n",
              "    }\n",
              "\n",
              "    .dataframe thead th {\n",
              "        text-align: right;\n",
              "    }\n",
              "</style>\n",
              "<table border=\"1\" class=\"dataframe\">\n",
              "  <thead>\n",
              "    <tr style=\"text-align: right;\">\n",
              "      <th></th>\n",
              "      <th>hrs</th>\n",
              "      <th>absences</th>\n",
              "      <th>JobInvolvement</th>\n",
              "      <th>PerformanceRating</th>\n",
              "      <th>EnvironmentSatisfaction</th>\n",
              "      <th>JobSatisfaction</th>\n",
              "      <th>WorkLifeBalance</th>\n",
              "      <th>Age</th>\n",
              "      <th>DistanceFromHome</th>\n",
              "      <th>Education</th>\n",
              "      <th>...</th>\n",
              "      <th>JobLevel</th>\n",
              "      <th>MonthlyIncome</th>\n",
              "      <th>NumCompaniesWorked</th>\n",
              "      <th>PercentSalaryHike</th>\n",
              "      <th>StockOptionLevel</th>\n",
              "      <th>TotalWorkingYears</th>\n",
              "      <th>TrainingTimesLastYear</th>\n",
              "      <th>YearsAtCompany</th>\n",
              "      <th>YearsSinceLastPromotion</th>\n",
              "      <th>YearsWithCurrManager</th>\n",
              "    </tr>\n",
              "  </thead>\n",
              "  <tbody>\n",
              "    <tr>\n",
              "      <th>count</th>\n",
              "      <td>3467.000000</td>\n",
              "      <td>3655.000000</td>\n",
              "      <td>3526.000000</td>\n",
              "      <td>3448.000000</td>\n",
              "      <td>3599.000000</td>\n",
              "      <td>3506.000000</td>\n",
              "      <td>3475.000000</td>\n",
              "      <td>3585.000000</td>\n",
              "      <td>3526.000000</td>\n",
              "      <td>3500.000000</td>\n",
              "      <td>...</td>\n",
              "      <td>3631.000000</td>\n",
              "      <td>3655.000000</td>\n",
              "      <td>3594.000000</td>\n",
              "      <td>3542.000000</td>\n",
              "      <td>3655.000000</td>\n",
              "      <td>3495.000000</td>\n",
              "      <td>3620.000000</td>\n",
              "      <td>3681.000000</td>\n",
              "      <td>4410.000000</td>\n",
              "      <td>3663.000000</td>\n",
              "    </tr>\n",
              "    <tr>\n",
              "      <th>mean</th>\n",
              "      <td>7.312232</td>\n",
              "      <td>12.766895</td>\n",
              "      <td>2.730856</td>\n",
              "      <td>3.156903</td>\n",
              "      <td>2.720478</td>\n",
              "      <td>2.730462</td>\n",
              "      <td>2.768921</td>\n",
              "      <td>36.969038</td>\n",
              "      <td>9.147192</td>\n",
              "      <td>2.915143</td>\n",
              "      <td>...</td>\n",
              "      <td>2.050124</td>\n",
              "      <td>65260.393981</td>\n",
              "      <td>2.693656</td>\n",
              "      <td>15.149068</td>\n",
              "      <td>0.792339</td>\n",
              "      <td>11.300715</td>\n",
              "      <td>2.795856</td>\n",
              "      <td>7.086661</td>\n",
              "      <td>2.187755</td>\n",
              "      <td>4.114387</td>\n",
              "    </tr>\n",
              "    <tr>\n",
              "      <th>std</th>\n",
              "      <td>1.327228</td>\n",
              "      <td>5.508400</td>\n",
              "      <td>0.707324</td>\n",
              "      <td>0.363762</td>\n",
              "      <td>1.091022</td>\n",
              "      <td>1.101715</td>\n",
              "      <td>0.701886</td>\n",
              "      <td>9.158292</td>\n",
              "      <td>8.063764</td>\n",
              "      <td>1.029404</td>\n",
              "      <td>...</td>\n",
              "      <td>1.100072</td>\n",
              "      <td>47135.959457</td>\n",
              "      <td>2.489930</td>\n",
              "      <td>3.640018</td>\n",
              "      <td>0.854074</td>\n",
              "      <td>7.853680</td>\n",
              "      <td>1.288045</td>\n",
              "      <td>6.194303</td>\n",
              "      <td>3.221699</td>\n",
              "      <td>3.534687</td>\n",
              "    </tr>\n",
              "    <tr>\n",
              "      <th>min</th>\n",
              "      <td>5.416880</td>\n",
              "      <td>1.000000</td>\n",
              "      <td>1.000000</td>\n",
              "      <td>3.000000</td>\n",
              "      <td>1.000000</td>\n",
              "      <td>1.000000</td>\n",
              "      <td>1.000000</td>\n",
              "      <td>18.000000</td>\n",
              "      <td>1.000000</td>\n",
              "      <td>1.000000</td>\n",
              "      <td>...</td>\n",
              "      <td>1.000000</td>\n",
              "      <td>10090.000000</td>\n",
              "      <td>0.000000</td>\n",
              "      <td>11.000000</td>\n",
              "      <td>0.000000</td>\n",
              "      <td>0.000000</td>\n",
              "      <td>0.000000</td>\n",
              "      <td>0.000000</td>\n",
              "      <td>0.000000</td>\n",
              "      <td>0.000000</td>\n",
              "    </tr>\n",
              "    <tr>\n",
              "      <th>25%</th>\n",
              "      <td>6.281109</td>\n",
              "      <td>8.000000</td>\n",
              "      <td>2.000000</td>\n",
              "      <td>3.000000</td>\n",
              "      <td>2.000000</td>\n",
              "      <td>2.000000</td>\n",
              "      <td>2.000000</td>\n",
              "      <td>30.000000</td>\n",
              "      <td>2.000000</td>\n",
              "      <td>2.000000</td>\n",
              "      <td>...</td>\n",
              "      <td>1.000000</td>\n",
              "      <td>29260.000000</td>\n",
              "      <td>1.000000</td>\n",
              "      <td>12.000000</td>\n",
              "      <td>0.000000</td>\n",
              "      <td>6.000000</td>\n",
              "      <td>2.000000</td>\n",
              "      <td>3.000000</td>\n",
              "      <td>0.000000</td>\n",
              "      <td>2.000000</td>\n",
              "    </tr>\n",
              "    <tr>\n",
              "      <th>50%</th>\n",
              "      <td>7.006571</td>\n",
              "      <td>13.000000</td>\n",
              "      <td>3.000000</td>\n",
              "      <td>3.000000</td>\n",
              "      <td>3.000000</td>\n",
              "      <td>3.000000</td>\n",
              "      <td>3.000000</td>\n",
              "      <td>36.000000</td>\n",
              "      <td>7.000000</td>\n",
              "      <td>3.000000</td>\n",
              "      <td>...</td>\n",
              "      <td>2.000000</td>\n",
              "      <td>49360.000000</td>\n",
              "      <td>2.000000</td>\n",
              "      <td>14.000000</td>\n",
              "      <td>1.000000</td>\n",
              "      <td>10.000000</td>\n",
              "      <td>3.000000</td>\n",
              "      <td>5.000000</td>\n",
              "      <td>1.000000</td>\n",
              "      <td>3.000000</td>\n",
              "    </tr>\n",
              "    <tr>\n",
              "      <th>75%</th>\n",
              "      <td>7.899147</td>\n",
              "      <td>17.000000</td>\n",
              "      <td>3.000000</td>\n",
              "      <td>3.000000</td>\n",
              "      <td>4.000000</td>\n",
              "      <td>4.000000</td>\n",
              "      <td>3.000000</td>\n",
              "      <td>43.000000</td>\n",
              "      <td>14.000000</td>\n",
              "      <td>4.000000</td>\n",
              "      <td>...</td>\n",
              "      <td>3.000000</td>\n",
              "      <td>83940.000000</td>\n",
              "      <td>4.000000</td>\n",
              "      <td>18.000000</td>\n",
              "      <td>1.000000</td>\n",
              "      <td>15.000000</td>\n",
              "      <td>3.000000</td>\n",
              "      <td>10.000000</td>\n",
              "      <td>3.000000</td>\n",
              "      <td>7.000000</td>\n",
              "    </tr>\n",
              "    <tr>\n",
              "      <th>max</th>\n",
              "      <td>10.907255</td>\n",
              "      <td>24.000000</td>\n",
              "      <td>4.000000</td>\n",
              "      <td>4.000000</td>\n",
              "      <td>4.000000</td>\n",
              "      <td>4.000000</td>\n",
              "      <td>4.000000</td>\n",
              "      <td>60.000000</td>\n",
              "      <td>29.000000</td>\n",
              "      <td>5.000000</td>\n",
              "      <td>...</td>\n",
              "      <td>5.000000</td>\n",
              "      <td>199990.000000</td>\n",
              "      <td>9.000000</td>\n",
              "      <td>25.000000</td>\n",
              "      <td>3.000000</td>\n",
              "      <td>40.000000</td>\n",
              "      <td>6.000000</td>\n",
              "      <td>40.000000</td>\n",
              "      <td>15.000000</td>\n",
              "      <td>17.000000</td>\n",
              "    </tr>\n",
              "  </tbody>\n",
              "</table>\n",
              "<p>8 rows × 21 columns</p>\n",
              "</div>\n",
              "      <button class=\"colab-df-convert\" onclick=\"convertToInteractive('df-6f742792-56a7-4cdb-8d38-735cd26e4b93')\"\n",
              "              title=\"Convert this dataframe to an interactive table.\"\n",
              "              style=\"display:none;\">\n",
              "        \n",
              "  <svg xmlns=\"http://www.w3.org/2000/svg\" height=\"24px\"viewBox=\"0 0 24 24\"\n",
              "       width=\"24px\">\n",
              "    <path d=\"M0 0h24v24H0V0z\" fill=\"none\"/>\n",
              "    <path d=\"M18.56 5.44l.94 2.06.94-2.06 2.06-.94-2.06-.94-.94-2.06-.94 2.06-2.06.94zm-11 1L8.5 8.5l.94-2.06 2.06-.94-2.06-.94L8.5 2.5l-.94 2.06-2.06.94zm10 10l.94 2.06.94-2.06 2.06-.94-2.06-.94-.94-2.06-.94 2.06-2.06.94z\"/><path d=\"M17.41 7.96l-1.37-1.37c-.4-.4-.92-.59-1.43-.59-.52 0-1.04.2-1.43.59L10.3 9.45l-7.72 7.72c-.78.78-.78 2.05 0 2.83L4 21.41c.39.39.9.59 1.41.59.51 0 1.02-.2 1.41-.59l7.78-7.78 2.81-2.81c.8-.78.8-2.07 0-2.86zM5.41 20L4 18.59l7.72-7.72 1.47 1.35L5.41 20z\"/>\n",
              "  </svg>\n",
              "      </button>\n",
              "      \n",
              "  <style>\n",
              "    .colab-df-container {\n",
              "      display:flex;\n",
              "      flex-wrap:wrap;\n",
              "      gap: 12px;\n",
              "    }\n",
              "\n",
              "    .colab-df-convert {\n",
              "      background-color: #E8F0FE;\n",
              "      border: none;\n",
              "      border-radius: 50%;\n",
              "      cursor: pointer;\n",
              "      display: none;\n",
              "      fill: #1967D2;\n",
              "      height: 32px;\n",
              "      padding: 0 0 0 0;\n",
              "      width: 32px;\n",
              "    }\n",
              "\n",
              "    .colab-df-convert:hover {\n",
              "      background-color: #E2EBFA;\n",
              "      box-shadow: 0px 1px 2px rgba(60, 64, 67, 0.3), 0px 1px 3px 1px rgba(60, 64, 67, 0.15);\n",
              "      fill: #174EA6;\n",
              "    }\n",
              "\n",
              "    [theme=dark] .colab-df-convert {\n",
              "      background-color: #3B4455;\n",
              "      fill: #D2E3FC;\n",
              "    }\n",
              "\n",
              "    [theme=dark] .colab-df-convert:hover {\n",
              "      background-color: #434B5C;\n",
              "      box-shadow: 0px 1px 3px 1px rgba(0, 0, 0, 0.15);\n",
              "      filter: drop-shadow(0px 1px 2px rgba(0, 0, 0, 0.3));\n",
              "      fill: #FFFFFF;\n",
              "    }\n",
              "  </style>\n",
              "\n",
              "      <script>\n",
              "        const buttonEl =\n",
              "          document.querySelector('#df-6f742792-56a7-4cdb-8d38-735cd26e4b93 button.colab-df-convert');\n",
              "        buttonEl.style.display =\n",
              "          google.colab.kernel.accessAllowed ? 'block' : 'none';\n",
              "\n",
              "        async function convertToInteractive(key) {\n",
              "          const element = document.querySelector('#df-6f742792-56a7-4cdb-8d38-735cd26e4b93');\n",
              "          const dataTable =\n",
              "            await google.colab.kernel.invokeFunction('convertToInteractive',\n",
              "                                                     [key], {});\n",
              "          if (!dataTable) return;\n",
              "\n",
              "          const docLinkHtml = 'Like what you see? Visit the ' +\n",
              "            '<a target=\"_blank\" href=https://colab.research.google.com/notebooks/data_table.ipynb>data table notebook</a>'\n",
              "            + ' to learn more about interactive tables.';\n",
              "          element.innerHTML = '';\n",
              "          dataTable['output_type'] = 'display_data';\n",
              "          await google.colab.output.renderOutput(dataTable, element);\n",
              "          const docLink = document.createElement('div');\n",
              "          docLink.innerHTML = docLinkHtml;\n",
              "          element.appendChild(docLink);\n",
              "        }\n",
              "      </script>\n",
              "    </div>\n",
              "  </div>\n",
              "  "
            ]
          },
          "metadata": {},
          "execution_count": 34
        }
      ]
    },
    {
      "cell_type": "markdown",
      "source": [
        "En conclusión, las columnas restantes son suficientemente relevantes para permanecer en nuestros datos de estudio. Con ```X.describe()```sólo se muestran las variables numéricas, pero imprimiendo X podemos ver como hemos pasado de 30 columnas a 27, dado que hemos eliminado 3 de ellas.\n",
        "\n"
      ],
      "metadata": {
        "id": "ukKcOP75mNzy"
      }
    },
    {
      "cell_type": "code",
      "source": [
        "X"
      ],
      "metadata": {
        "colab": {
          "base_uri": "https://localhost:8080/",
          "height": 644
        },
        "id": "L3mIaMyub_Qx",
        "outputId": "703a1e1a-05cd-46b2-d2ed-41c7058b139d"
      },
      "execution_count": 35,
      "outputs": [
        {
          "output_type": "execute_result",
          "data": {
            "text/plain": [
              "           hrs  absences  JobInvolvement  PerformanceRating  \\\n",
              "1     7.315971      13.0             2.0                4.0   \n",
              "6     6.450877      17.0             3.0                4.0   \n",
              "13         NaN      14.0             NaN                3.0   \n",
              "28         NaN       NaN             2.0                3.0   \n",
              "30    9.662808      11.0             NaN                3.0   \n",
              "...        ...       ...             ...                ...   \n",
              "4405  8.316921       6.0             3.0                3.0   \n",
              "4406  5.897197       8.0             2.0                3.0   \n",
              "4407  7.149526      18.0             3.0                NaN   \n",
              "4408  9.187612       NaN             NaN                3.0   \n",
              "4409  6.511790      17.0             NaN                3.0   \n",
              "\n",
              "      EnvironmentSatisfaction  JobSatisfaction  WorkLifeBalance   Age  \\\n",
              "1                         3.0              2.0              NaN   NaN   \n",
              "6                         1.0              3.0              1.0  28.0   \n",
              "13                        NaN              2.0              2.0  47.0   \n",
              "28                        NaN              3.0              1.0  44.0   \n",
              "30                        1.0              2.0              3.0  26.0   \n",
              "...                       ...              ...              ...   ...   \n",
              "4405                      4.0              1.0              3.0  42.0   \n",
              "4406                      4.0              NaN              3.0   NaN   \n",
              "4407                      1.0              3.0              3.0  25.0   \n",
              "4408                      4.0              1.0              3.0  42.0   \n",
              "4409                      1.0              3.0              NaN  40.0   \n",
              "\n",
              "         BusinessTravel              Department  ...  MaritalStatus  \\\n",
              "1     Travel_Frequently  Research & Development  ...         Single   \n",
              "6         Travel_Rarely  Research & Development  ...         Single   \n",
              "13           Non-Travel  Research & Development  ...        Married   \n",
              "28    Travel_Frequently  Research & Development  ...       Divorced   \n",
              "30        Travel_Rarely  Research & Development  ...            NaN   \n",
              "...                 ...                     ...  ...            ...   \n",
              "4405      Travel_Rarely  Research & Development  ...         Single   \n",
              "4406      Travel_Rarely  Research & Development  ...            NaN   \n",
              "4407      Travel_Rarely  Research & Development  ...        Married   \n",
              "4408      Travel_Rarely                   Sales  ...       Divorced   \n",
              "4409      Travel_Rarely  Research & Development  ...       Divorced   \n",
              "\n",
              "      MonthlyIncome NumCompaniesWorked  PercentSalaryHike StockOptionLevel  \\\n",
              "1           41890.0                0.0                NaN              1.0   \n",
              "6           58130.0                2.0               20.0              1.0   \n",
              "13          57620.0                NaN                NaN              2.0   \n",
              "28         103330.0                3.0               14.0              1.0   \n",
              "30          68540.0                2.0               11.0              NaN   \n",
              "...             ...                ...                ...              ...   \n",
              "4405        60290.0                3.0                NaN              1.0   \n",
              "4406            NaN                2.0               15.0              0.0   \n",
              "4407        37020.0                0.0                NaN              0.0   \n",
              "4408            NaN                0.0               14.0              1.0   \n",
              "4409        54680.0                0.0               12.0              0.0   \n",
              "\n",
              "      TotalWorkingYears TrainingTimesLastYear YearsAtCompany  \\\n",
              "1                   6.0                   3.0            5.0   \n",
              "6                   5.0                   2.0            NaN   \n",
              "13                 10.0                   4.0           10.0   \n",
              "28                  NaN                   2.0            NaN   \n",
              "30                  5.0                   5.0            3.0   \n",
              "...                 ...                   ...            ...   \n",
              "4405               10.0                   NaN            3.0   \n",
              "4406               10.0                   2.0            NaN   \n",
              "4407                5.0                   4.0            4.0   \n",
              "4408               10.0                   2.0            NaN   \n",
              "4409                NaN                   6.0           21.0   \n",
              "\n",
              "      YearsSinceLastPromotion  YearsWithCurrManager  \n",
              "1                           1                   NaN  \n",
              "6                           0                   0.0  \n",
              "13                          9                   9.0  \n",
              "28                          0                   0.0  \n",
              "30                          0                   2.0  \n",
              "...                       ...                   ...  \n",
              "4405                        0                   2.0  \n",
              "4406                        0                   NaN  \n",
              "4407                        1                   2.0  \n",
              "4408                        7                   8.0  \n",
              "4409                        3                   9.0  \n",
              "\n",
              "[4410 rows x 27 columns]"
            ],
            "text/html": [
              "\n",
              "  <div id=\"df-71a11364-00fa-4c6c-87e3-e8735a5c3101\">\n",
              "    <div class=\"colab-df-container\">\n",
              "      <div>\n",
              "<style scoped>\n",
              "    .dataframe tbody tr th:only-of-type {\n",
              "        vertical-align: middle;\n",
              "    }\n",
              "\n",
              "    .dataframe tbody tr th {\n",
              "        vertical-align: top;\n",
              "    }\n",
              "\n",
              "    .dataframe thead th {\n",
              "        text-align: right;\n",
              "    }\n",
              "</style>\n",
              "<table border=\"1\" class=\"dataframe\">\n",
              "  <thead>\n",
              "    <tr style=\"text-align: right;\">\n",
              "      <th></th>\n",
              "      <th>hrs</th>\n",
              "      <th>absences</th>\n",
              "      <th>JobInvolvement</th>\n",
              "      <th>PerformanceRating</th>\n",
              "      <th>EnvironmentSatisfaction</th>\n",
              "      <th>JobSatisfaction</th>\n",
              "      <th>WorkLifeBalance</th>\n",
              "      <th>Age</th>\n",
              "      <th>BusinessTravel</th>\n",
              "      <th>Department</th>\n",
              "      <th>...</th>\n",
              "      <th>MaritalStatus</th>\n",
              "      <th>MonthlyIncome</th>\n",
              "      <th>NumCompaniesWorked</th>\n",
              "      <th>PercentSalaryHike</th>\n",
              "      <th>StockOptionLevel</th>\n",
              "      <th>TotalWorkingYears</th>\n",
              "      <th>TrainingTimesLastYear</th>\n",
              "      <th>YearsAtCompany</th>\n",
              "      <th>YearsSinceLastPromotion</th>\n",
              "      <th>YearsWithCurrManager</th>\n",
              "    </tr>\n",
              "  </thead>\n",
              "  <tbody>\n",
              "    <tr>\n",
              "      <th>1</th>\n",
              "      <td>7.315971</td>\n",
              "      <td>13.0</td>\n",
              "      <td>2.0</td>\n",
              "      <td>4.0</td>\n",
              "      <td>3.0</td>\n",
              "      <td>2.0</td>\n",
              "      <td>NaN</td>\n",
              "      <td>NaN</td>\n",
              "      <td>Travel_Frequently</td>\n",
              "      <td>Research &amp; Development</td>\n",
              "      <td>...</td>\n",
              "      <td>Single</td>\n",
              "      <td>41890.0</td>\n",
              "      <td>0.0</td>\n",
              "      <td>NaN</td>\n",
              "      <td>1.0</td>\n",
              "      <td>6.0</td>\n",
              "      <td>3.0</td>\n",
              "      <td>5.0</td>\n",
              "      <td>1</td>\n",
              "      <td>NaN</td>\n",
              "    </tr>\n",
              "    <tr>\n",
              "      <th>6</th>\n",
              "      <td>6.450877</td>\n",
              "      <td>17.0</td>\n",
              "      <td>3.0</td>\n",
              "      <td>4.0</td>\n",
              "      <td>1.0</td>\n",
              "      <td>3.0</td>\n",
              "      <td>1.0</td>\n",
              "      <td>28.0</td>\n",
              "      <td>Travel_Rarely</td>\n",
              "      <td>Research &amp; Development</td>\n",
              "      <td>...</td>\n",
              "      <td>Single</td>\n",
              "      <td>58130.0</td>\n",
              "      <td>2.0</td>\n",
              "      <td>20.0</td>\n",
              "      <td>1.0</td>\n",
              "      <td>5.0</td>\n",
              "      <td>2.0</td>\n",
              "      <td>NaN</td>\n",
              "      <td>0</td>\n",
              "      <td>0.0</td>\n",
              "    </tr>\n",
              "    <tr>\n",
              "      <th>13</th>\n",
              "      <td>NaN</td>\n",
              "      <td>14.0</td>\n",
              "      <td>NaN</td>\n",
              "      <td>3.0</td>\n",
              "      <td>NaN</td>\n",
              "      <td>2.0</td>\n",
              "      <td>2.0</td>\n",
              "      <td>47.0</td>\n",
              "      <td>Non-Travel</td>\n",
              "      <td>Research &amp; Development</td>\n",
              "      <td>...</td>\n",
              "      <td>Married</td>\n",
              "      <td>57620.0</td>\n",
              "      <td>NaN</td>\n",
              "      <td>NaN</td>\n",
              "      <td>2.0</td>\n",
              "      <td>10.0</td>\n",
              "      <td>4.0</td>\n",
              "      <td>10.0</td>\n",
              "      <td>9</td>\n",
              "      <td>9.0</td>\n",
              "    </tr>\n",
              "    <tr>\n",
              "      <th>28</th>\n",
              "      <td>NaN</td>\n",
              "      <td>NaN</td>\n",
              "      <td>2.0</td>\n",
              "      <td>3.0</td>\n",
              "      <td>NaN</td>\n",
              "      <td>3.0</td>\n",
              "      <td>1.0</td>\n",
              "      <td>44.0</td>\n",
              "      <td>Travel_Frequently</td>\n",
              "      <td>Research &amp; Development</td>\n",
              "      <td>...</td>\n",
              "      <td>Divorced</td>\n",
              "      <td>103330.0</td>\n",
              "      <td>3.0</td>\n",
              "      <td>14.0</td>\n",
              "      <td>1.0</td>\n",
              "      <td>NaN</td>\n",
              "      <td>2.0</td>\n",
              "      <td>NaN</td>\n",
              "      <td>0</td>\n",
              "      <td>0.0</td>\n",
              "    </tr>\n",
              "    <tr>\n",
              "      <th>30</th>\n",
              "      <td>9.662808</td>\n",
              "      <td>11.0</td>\n",
              "      <td>NaN</td>\n",
              "      <td>3.0</td>\n",
              "      <td>1.0</td>\n",
              "      <td>2.0</td>\n",
              "      <td>3.0</td>\n",
              "      <td>26.0</td>\n",
              "      <td>Travel_Rarely</td>\n",
              "      <td>Research &amp; Development</td>\n",
              "      <td>...</td>\n",
              "      <td>NaN</td>\n",
              "      <td>68540.0</td>\n",
              "      <td>2.0</td>\n",
              "      <td>11.0</td>\n",
              "      <td>NaN</td>\n",
              "      <td>5.0</td>\n",
              "      <td>5.0</td>\n",
              "      <td>3.0</td>\n",
              "      <td>0</td>\n",
              "      <td>2.0</td>\n",
              "    </tr>\n",
              "    <tr>\n",
              "      <th>...</th>\n",
              "      <td>...</td>\n",
              "      <td>...</td>\n",
              "      <td>...</td>\n",
              "      <td>...</td>\n",
              "      <td>...</td>\n",
              "      <td>...</td>\n",
              "      <td>...</td>\n",
              "      <td>...</td>\n",
              "      <td>...</td>\n",
              "      <td>...</td>\n",
              "      <td>...</td>\n",
              "      <td>...</td>\n",
              "      <td>...</td>\n",
              "      <td>...</td>\n",
              "      <td>...</td>\n",
              "      <td>...</td>\n",
              "      <td>...</td>\n",
              "      <td>...</td>\n",
              "      <td>...</td>\n",
              "      <td>...</td>\n",
              "      <td>...</td>\n",
              "    </tr>\n",
              "    <tr>\n",
              "      <th>4405</th>\n",
              "      <td>8.316921</td>\n",
              "      <td>6.0</td>\n",
              "      <td>3.0</td>\n",
              "      <td>3.0</td>\n",
              "      <td>4.0</td>\n",
              "      <td>1.0</td>\n",
              "      <td>3.0</td>\n",
              "      <td>42.0</td>\n",
              "      <td>Travel_Rarely</td>\n",
              "      <td>Research &amp; Development</td>\n",
              "      <td>...</td>\n",
              "      <td>Single</td>\n",
              "      <td>60290.0</td>\n",
              "      <td>3.0</td>\n",
              "      <td>NaN</td>\n",
              "      <td>1.0</td>\n",
              "      <td>10.0</td>\n",
              "      <td>NaN</td>\n",
              "      <td>3.0</td>\n",
              "      <td>0</td>\n",
              "      <td>2.0</td>\n",
              "    </tr>\n",
              "    <tr>\n",
              "      <th>4406</th>\n",
              "      <td>5.897197</td>\n",
              "      <td>8.0</td>\n",
              "      <td>2.0</td>\n",
              "      <td>3.0</td>\n",
              "      <td>4.0</td>\n",
              "      <td>NaN</td>\n",
              "      <td>3.0</td>\n",
              "      <td>NaN</td>\n",
              "      <td>Travel_Rarely</td>\n",
              "      <td>Research &amp; Development</td>\n",
              "      <td>...</td>\n",
              "      <td>NaN</td>\n",
              "      <td>NaN</td>\n",
              "      <td>2.0</td>\n",
              "      <td>15.0</td>\n",
              "      <td>0.0</td>\n",
              "      <td>10.0</td>\n",
              "      <td>2.0</td>\n",
              "      <td>NaN</td>\n",
              "      <td>0</td>\n",
              "      <td>NaN</td>\n",
              "    </tr>\n",
              "    <tr>\n",
              "      <th>4407</th>\n",
              "      <td>7.149526</td>\n",
              "      <td>18.0</td>\n",
              "      <td>3.0</td>\n",
              "      <td>NaN</td>\n",
              "      <td>1.0</td>\n",
              "      <td>3.0</td>\n",
              "      <td>3.0</td>\n",
              "      <td>25.0</td>\n",
              "      <td>Travel_Rarely</td>\n",
              "      <td>Research &amp; Development</td>\n",
              "      <td>...</td>\n",
              "      <td>Married</td>\n",
              "      <td>37020.0</td>\n",
              "      <td>0.0</td>\n",
              "      <td>NaN</td>\n",
              "      <td>0.0</td>\n",
              "      <td>5.0</td>\n",
              "      <td>4.0</td>\n",
              "      <td>4.0</td>\n",
              "      <td>1</td>\n",
              "      <td>2.0</td>\n",
              "    </tr>\n",
              "    <tr>\n",
              "      <th>4408</th>\n",
              "      <td>9.187612</td>\n",
              "      <td>NaN</td>\n",
              "      <td>NaN</td>\n",
              "      <td>3.0</td>\n",
              "      <td>4.0</td>\n",
              "      <td>1.0</td>\n",
              "      <td>3.0</td>\n",
              "      <td>42.0</td>\n",
              "      <td>Travel_Rarely</td>\n",
              "      <td>Sales</td>\n",
              "      <td>...</td>\n",
              "      <td>Divorced</td>\n",
              "      <td>NaN</td>\n",
              "      <td>0.0</td>\n",
              "      <td>14.0</td>\n",
              "      <td>1.0</td>\n",
              "      <td>10.0</td>\n",
              "      <td>2.0</td>\n",
              "      <td>NaN</td>\n",
              "      <td>7</td>\n",
              "      <td>8.0</td>\n",
              "    </tr>\n",
              "    <tr>\n",
              "      <th>4409</th>\n",
              "      <td>6.511790</td>\n",
              "      <td>17.0</td>\n",
              "      <td>NaN</td>\n",
              "      <td>3.0</td>\n",
              "      <td>1.0</td>\n",
              "      <td>3.0</td>\n",
              "      <td>NaN</td>\n",
              "      <td>40.0</td>\n",
              "      <td>Travel_Rarely</td>\n",
              "      <td>Research &amp; Development</td>\n",
              "      <td>...</td>\n",
              "      <td>Divorced</td>\n",
              "      <td>54680.0</td>\n",
              "      <td>0.0</td>\n",
              "      <td>12.0</td>\n",
              "      <td>0.0</td>\n",
              "      <td>NaN</td>\n",
              "      <td>6.0</td>\n",
              "      <td>21.0</td>\n",
              "      <td>3</td>\n",
              "      <td>9.0</td>\n",
              "    </tr>\n",
              "  </tbody>\n",
              "</table>\n",
              "<p>4410 rows × 27 columns</p>\n",
              "</div>\n",
              "      <button class=\"colab-df-convert\" onclick=\"convertToInteractive('df-71a11364-00fa-4c6c-87e3-e8735a5c3101')\"\n",
              "              title=\"Convert this dataframe to an interactive table.\"\n",
              "              style=\"display:none;\">\n",
              "        \n",
              "  <svg xmlns=\"http://www.w3.org/2000/svg\" height=\"24px\"viewBox=\"0 0 24 24\"\n",
              "       width=\"24px\">\n",
              "    <path d=\"M0 0h24v24H0V0z\" fill=\"none\"/>\n",
              "    <path d=\"M18.56 5.44l.94 2.06.94-2.06 2.06-.94-2.06-.94-.94-2.06-.94 2.06-2.06.94zm-11 1L8.5 8.5l.94-2.06 2.06-.94-2.06-.94L8.5 2.5l-.94 2.06-2.06.94zm10 10l.94 2.06.94-2.06 2.06-.94-2.06-.94-.94-2.06-.94 2.06-2.06.94z\"/><path d=\"M17.41 7.96l-1.37-1.37c-.4-.4-.92-.59-1.43-.59-.52 0-1.04.2-1.43.59L10.3 9.45l-7.72 7.72c-.78.78-.78 2.05 0 2.83L4 21.41c.39.39.9.59 1.41.59.51 0 1.02-.2 1.41-.59l7.78-7.78 2.81-2.81c.8-.78.8-2.07 0-2.86zM5.41 20L4 18.59l7.72-7.72 1.47 1.35L5.41 20z\"/>\n",
              "  </svg>\n",
              "      </button>\n",
              "      \n",
              "  <style>\n",
              "    .colab-df-container {\n",
              "      display:flex;\n",
              "      flex-wrap:wrap;\n",
              "      gap: 12px;\n",
              "    }\n",
              "\n",
              "    .colab-df-convert {\n",
              "      background-color: #E8F0FE;\n",
              "      border: none;\n",
              "      border-radius: 50%;\n",
              "      cursor: pointer;\n",
              "      display: none;\n",
              "      fill: #1967D2;\n",
              "      height: 32px;\n",
              "      padding: 0 0 0 0;\n",
              "      width: 32px;\n",
              "    }\n",
              "\n",
              "    .colab-df-convert:hover {\n",
              "      background-color: #E2EBFA;\n",
              "      box-shadow: 0px 1px 2px rgba(60, 64, 67, 0.3), 0px 1px 3px 1px rgba(60, 64, 67, 0.15);\n",
              "      fill: #174EA6;\n",
              "    }\n",
              "\n",
              "    [theme=dark] .colab-df-convert {\n",
              "      background-color: #3B4455;\n",
              "      fill: #D2E3FC;\n",
              "    }\n",
              "\n",
              "    [theme=dark] .colab-df-convert:hover {\n",
              "      background-color: #434B5C;\n",
              "      box-shadow: 0px 1px 3px 1px rgba(0, 0, 0, 0.15);\n",
              "      filter: drop-shadow(0px 1px 2px rgba(0, 0, 0, 0.3));\n",
              "      fill: #FFFFFF;\n",
              "    }\n",
              "  </style>\n",
              "\n",
              "      <script>\n",
              "        const buttonEl =\n",
              "          document.querySelector('#df-71a11364-00fa-4c6c-87e3-e8735a5c3101 button.colab-df-convert');\n",
              "        buttonEl.style.display =\n",
              "          google.colab.kernel.accessAllowed ? 'block' : 'none';\n",
              "\n",
              "        async function convertToInteractive(key) {\n",
              "          const element = document.querySelector('#df-71a11364-00fa-4c6c-87e3-e8735a5c3101');\n",
              "          const dataTable =\n",
              "            await google.colab.kernel.invokeFunction('convertToInteractive',\n",
              "                                                     [key], {});\n",
              "          if (!dataTable) return;\n",
              "\n",
              "          const docLinkHtml = 'Like what you see? Visit the ' +\n",
              "            '<a target=\"_blank\" href=https://colab.research.google.com/notebooks/data_table.ipynb>data table notebook</a>'\n",
              "            + ' to learn more about interactive tables.';\n",
              "          element.innerHTML = '';\n",
              "          dataTable['output_type'] = 'display_data';\n",
              "          await google.colab.output.renderOutput(dataTable, element);\n",
              "          const docLink = document.createElement('div');\n",
              "          docLink.innerHTML = docLinkHtml;\n",
              "          element.appendChild(docLink);\n",
              "        }\n",
              "      </script>\n",
              "    </div>\n",
              "  </div>\n",
              "  "
            ]
          },
          "metadata": {},
          "execution_count": 35
        }
      ]
    },
    {
      "cell_type": "markdown",
      "source": [
        "## **Proporción de missing values**\n",
        "\n",
        "A continuación, comprobaremos los **missings values** que existen en nuestros datos. Para ello, tomaremos el dataframe de datos creado anteriormente y haremos una suma por atributo de los missing values y lo compararemos con el número total de valores. Tras esto, crearemos una tabla para poder ver de manera clara las proporciones de missing values de cada atributo."
      ],
      "metadata": {
        "id": "RrXpXw-BbyXS"
      }
    },
    {
      "cell_type": "code",
      "source": [
        "# Función que cuenta el número de missing values por atributos,\n",
        "def missing_values_table(df):\n",
        "    mis_val = df.isnull().sum()\n",
        "    mis_val_percent = 100 * df.isnull().sum() / len(df)\n",
        "    mis_val_percent_rounded = mis_val_percent.round(2).astype(str) + '%'\n",
        "    mis_val_table = pd.concat([mis_val, mis_val_percent_rounded], axis=1)\n",
        "    mis_val_table_ren_columns = mis_val_table.rename(\n",
        "    columns = {0 : 'Missing Values', 1 : 'Proporción'})\n",
        "    return mis_val_table_ren_columns\n",
        "  \n",
        "# Generamos las proporciones de missing values.\n",
        "missing_values_table(df)"
      ],
      "metadata": {
        "id": "Dix754XKbydi",
        "colab": {
          "base_uri": "https://localhost:8080/",
          "height": 1000
        },
        "outputId": "3b96e61e-e85d-4a61-9c2d-7941661e1e4e"
      },
      "execution_count": 36,
      "outputs": [
        {
          "output_type": "execute_result",
          "data": {
            "text/plain": [
              "                         Missing Values Proporción\n",
              "hrs                                 943     21.38%\n",
              "absences                            755     17.12%\n",
              "JobInvolvement                      884     20.05%\n",
              "PerformanceRating                   962     21.81%\n",
              "EnvironmentSatisfaction             811     18.39%\n",
              "JobSatisfaction                     904      20.5%\n",
              "WorkLifeBalance                     935      21.2%\n",
              "Age                                 825     18.71%\n",
              "Attrition                             0       0.0%\n",
              "BusinessTravel                      852     19.32%\n",
              "Department                            0       0.0%\n",
              "DistanceFromHome                    884     20.05%\n",
              "Education                           910     20.63%\n",
              "EducationField                      769     17.44%\n",
              "EmployeeCount                       897     20.34%\n",
              "EmployeeID                          964     21.86%\n",
              "Gender                                0       0.0%\n",
              "JobLevel                            779     17.66%\n",
              "JobRole                               0       0.0%\n",
              "MaritalStatus                       932     21.13%\n",
              "MonthlyIncome                       755     17.12%\n",
              "NumCompaniesWorked                  816      18.5%\n",
              "Over18                              822     18.64%\n",
              "PercentSalaryHike                   868     19.68%\n",
              "StandardHours                       708     16.05%\n",
              "StockOptionLevel                    755     17.12%\n",
              "TotalWorkingYears                   915     20.75%\n",
              "TrainingTimesLastYear               790     17.91%\n",
              "YearsAtCompany                      729     16.53%\n",
              "YearsSinceLastPromotion               0       0.0%\n",
              "YearsWithCurrManager                747     16.94%"
            ],
            "text/html": [
              "\n",
              "  <div id=\"df-e232ab16-a01d-4db2-821e-74dc004aebfd\">\n",
              "    <div class=\"colab-df-container\">\n",
              "      <div>\n",
              "<style scoped>\n",
              "    .dataframe tbody tr th:only-of-type {\n",
              "        vertical-align: middle;\n",
              "    }\n",
              "\n",
              "    .dataframe tbody tr th {\n",
              "        vertical-align: top;\n",
              "    }\n",
              "\n",
              "    .dataframe thead th {\n",
              "        text-align: right;\n",
              "    }\n",
              "</style>\n",
              "<table border=\"1\" class=\"dataframe\">\n",
              "  <thead>\n",
              "    <tr style=\"text-align: right;\">\n",
              "      <th></th>\n",
              "      <th>Missing Values</th>\n",
              "      <th>Proporción</th>\n",
              "    </tr>\n",
              "  </thead>\n",
              "  <tbody>\n",
              "    <tr>\n",
              "      <th>hrs</th>\n",
              "      <td>943</td>\n",
              "      <td>21.38%</td>\n",
              "    </tr>\n",
              "    <tr>\n",
              "      <th>absences</th>\n",
              "      <td>755</td>\n",
              "      <td>17.12%</td>\n",
              "    </tr>\n",
              "    <tr>\n",
              "      <th>JobInvolvement</th>\n",
              "      <td>884</td>\n",
              "      <td>20.05%</td>\n",
              "    </tr>\n",
              "    <tr>\n",
              "      <th>PerformanceRating</th>\n",
              "      <td>962</td>\n",
              "      <td>21.81%</td>\n",
              "    </tr>\n",
              "    <tr>\n",
              "      <th>EnvironmentSatisfaction</th>\n",
              "      <td>811</td>\n",
              "      <td>18.39%</td>\n",
              "    </tr>\n",
              "    <tr>\n",
              "      <th>JobSatisfaction</th>\n",
              "      <td>904</td>\n",
              "      <td>20.5%</td>\n",
              "    </tr>\n",
              "    <tr>\n",
              "      <th>WorkLifeBalance</th>\n",
              "      <td>935</td>\n",
              "      <td>21.2%</td>\n",
              "    </tr>\n",
              "    <tr>\n",
              "      <th>Age</th>\n",
              "      <td>825</td>\n",
              "      <td>18.71%</td>\n",
              "    </tr>\n",
              "    <tr>\n",
              "      <th>Attrition</th>\n",
              "      <td>0</td>\n",
              "      <td>0.0%</td>\n",
              "    </tr>\n",
              "    <tr>\n",
              "      <th>BusinessTravel</th>\n",
              "      <td>852</td>\n",
              "      <td>19.32%</td>\n",
              "    </tr>\n",
              "    <tr>\n",
              "      <th>Department</th>\n",
              "      <td>0</td>\n",
              "      <td>0.0%</td>\n",
              "    </tr>\n",
              "    <tr>\n",
              "      <th>DistanceFromHome</th>\n",
              "      <td>884</td>\n",
              "      <td>20.05%</td>\n",
              "    </tr>\n",
              "    <tr>\n",
              "      <th>Education</th>\n",
              "      <td>910</td>\n",
              "      <td>20.63%</td>\n",
              "    </tr>\n",
              "    <tr>\n",
              "      <th>EducationField</th>\n",
              "      <td>769</td>\n",
              "      <td>17.44%</td>\n",
              "    </tr>\n",
              "    <tr>\n",
              "      <th>EmployeeCount</th>\n",
              "      <td>897</td>\n",
              "      <td>20.34%</td>\n",
              "    </tr>\n",
              "    <tr>\n",
              "      <th>EmployeeID</th>\n",
              "      <td>964</td>\n",
              "      <td>21.86%</td>\n",
              "    </tr>\n",
              "    <tr>\n",
              "      <th>Gender</th>\n",
              "      <td>0</td>\n",
              "      <td>0.0%</td>\n",
              "    </tr>\n",
              "    <tr>\n",
              "      <th>JobLevel</th>\n",
              "      <td>779</td>\n",
              "      <td>17.66%</td>\n",
              "    </tr>\n",
              "    <tr>\n",
              "      <th>JobRole</th>\n",
              "      <td>0</td>\n",
              "      <td>0.0%</td>\n",
              "    </tr>\n",
              "    <tr>\n",
              "      <th>MaritalStatus</th>\n",
              "      <td>932</td>\n",
              "      <td>21.13%</td>\n",
              "    </tr>\n",
              "    <tr>\n",
              "      <th>MonthlyIncome</th>\n",
              "      <td>755</td>\n",
              "      <td>17.12%</td>\n",
              "    </tr>\n",
              "    <tr>\n",
              "      <th>NumCompaniesWorked</th>\n",
              "      <td>816</td>\n",
              "      <td>18.5%</td>\n",
              "    </tr>\n",
              "    <tr>\n",
              "      <th>Over18</th>\n",
              "      <td>822</td>\n",
              "      <td>18.64%</td>\n",
              "    </tr>\n",
              "    <tr>\n",
              "      <th>PercentSalaryHike</th>\n",
              "      <td>868</td>\n",
              "      <td>19.68%</td>\n",
              "    </tr>\n",
              "    <tr>\n",
              "      <th>StandardHours</th>\n",
              "      <td>708</td>\n",
              "      <td>16.05%</td>\n",
              "    </tr>\n",
              "    <tr>\n",
              "      <th>StockOptionLevel</th>\n",
              "      <td>755</td>\n",
              "      <td>17.12%</td>\n",
              "    </tr>\n",
              "    <tr>\n",
              "      <th>TotalWorkingYears</th>\n",
              "      <td>915</td>\n",
              "      <td>20.75%</td>\n",
              "    </tr>\n",
              "    <tr>\n",
              "      <th>TrainingTimesLastYear</th>\n",
              "      <td>790</td>\n",
              "      <td>17.91%</td>\n",
              "    </tr>\n",
              "    <tr>\n",
              "      <th>YearsAtCompany</th>\n",
              "      <td>729</td>\n",
              "      <td>16.53%</td>\n",
              "    </tr>\n",
              "    <tr>\n",
              "      <th>YearsSinceLastPromotion</th>\n",
              "      <td>0</td>\n",
              "      <td>0.0%</td>\n",
              "    </tr>\n",
              "    <tr>\n",
              "      <th>YearsWithCurrManager</th>\n",
              "      <td>747</td>\n",
              "      <td>16.94%</td>\n",
              "    </tr>\n",
              "  </tbody>\n",
              "</table>\n",
              "</div>\n",
              "      <button class=\"colab-df-convert\" onclick=\"convertToInteractive('df-e232ab16-a01d-4db2-821e-74dc004aebfd')\"\n",
              "              title=\"Convert this dataframe to an interactive table.\"\n",
              "              style=\"display:none;\">\n",
              "        \n",
              "  <svg xmlns=\"http://www.w3.org/2000/svg\" height=\"24px\"viewBox=\"0 0 24 24\"\n",
              "       width=\"24px\">\n",
              "    <path d=\"M0 0h24v24H0V0z\" fill=\"none\"/>\n",
              "    <path d=\"M18.56 5.44l.94 2.06.94-2.06 2.06-.94-2.06-.94-.94-2.06-.94 2.06-2.06.94zm-11 1L8.5 8.5l.94-2.06 2.06-.94-2.06-.94L8.5 2.5l-.94 2.06-2.06.94zm10 10l.94 2.06.94-2.06 2.06-.94-2.06-.94-.94-2.06-.94 2.06-2.06.94z\"/><path d=\"M17.41 7.96l-1.37-1.37c-.4-.4-.92-.59-1.43-.59-.52 0-1.04.2-1.43.59L10.3 9.45l-7.72 7.72c-.78.78-.78 2.05 0 2.83L4 21.41c.39.39.9.59 1.41.59.51 0 1.02-.2 1.41-.59l7.78-7.78 2.81-2.81c.8-.78.8-2.07 0-2.86zM5.41 20L4 18.59l7.72-7.72 1.47 1.35L5.41 20z\"/>\n",
              "  </svg>\n",
              "      </button>\n",
              "      \n",
              "  <style>\n",
              "    .colab-df-container {\n",
              "      display:flex;\n",
              "      flex-wrap:wrap;\n",
              "      gap: 12px;\n",
              "    }\n",
              "\n",
              "    .colab-df-convert {\n",
              "      background-color: #E8F0FE;\n",
              "      border: none;\n",
              "      border-radius: 50%;\n",
              "      cursor: pointer;\n",
              "      display: none;\n",
              "      fill: #1967D2;\n",
              "      height: 32px;\n",
              "      padding: 0 0 0 0;\n",
              "      width: 32px;\n",
              "    }\n",
              "\n",
              "    .colab-df-convert:hover {\n",
              "      background-color: #E2EBFA;\n",
              "      box-shadow: 0px 1px 2px rgba(60, 64, 67, 0.3), 0px 1px 3px 1px rgba(60, 64, 67, 0.15);\n",
              "      fill: #174EA6;\n",
              "    }\n",
              "\n",
              "    [theme=dark] .colab-df-convert {\n",
              "      background-color: #3B4455;\n",
              "      fill: #D2E3FC;\n",
              "    }\n",
              "\n",
              "    [theme=dark] .colab-df-convert:hover {\n",
              "      background-color: #434B5C;\n",
              "      box-shadow: 0px 1px 3px 1px rgba(0, 0, 0, 0.15);\n",
              "      filter: drop-shadow(0px 1px 2px rgba(0, 0, 0, 0.3));\n",
              "      fill: #FFFFFF;\n",
              "    }\n",
              "  </style>\n",
              "\n",
              "      <script>\n",
              "        const buttonEl =\n",
              "          document.querySelector('#df-e232ab16-a01d-4db2-821e-74dc004aebfd button.colab-df-convert');\n",
              "        buttonEl.style.display =\n",
              "          google.colab.kernel.accessAllowed ? 'block' : 'none';\n",
              "\n",
              "        async function convertToInteractive(key) {\n",
              "          const element = document.querySelector('#df-e232ab16-a01d-4db2-821e-74dc004aebfd');\n",
              "          const dataTable =\n",
              "            await google.colab.kernel.invokeFunction('convertToInteractive',\n",
              "                                                     [key], {});\n",
              "          if (!dataTable) return;\n",
              "\n",
              "          const docLinkHtml = 'Like what you see? Visit the ' +\n",
              "            '<a target=\"_blank\" href=https://colab.research.google.com/notebooks/data_table.ipynb>data table notebook</a>'\n",
              "            + ' to learn more about interactive tables.';\n",
              "          element.innerHTML = '';\n",
              "          dataTable['output_type'] = 'display_data';\n",
              "          await google.colab.output.renderOutput(dataTable, element);\n",
              "          const docLink = document.createElement('div');\n",
              "          docLink.innerHTML = docLinkHtml;\n",
              "          element.appendChild(docLink);\n",
              "        }\n",
              "      </script>\n",
              "    </div>\n",
              "  </div>\n",
              "  "
            ]
          },
          "metadata": {},
          "execution_count": 36
        }
      ]
    },
    {
      "cell_type": "markdown",
      "source": [
        "De la tabla anterior podemos ver como claramente existe una alta cantidad de missing values en la mayoría de atributos, aunque hay algunos de ellos que no cuentan con ninguno. En general, oscilan entre un 15% y un 20% de valores nulos."
      ],
      "metadata": {
        "id": "q_kk23CscMOO"
      }
    },
    {
      "cell_type": "markdown",
      "source": [
        "## **Tipo de problema**"
      ],
      "metadata": {
        "id": "8oxHUUtGbyif"
      }
    },
    {
      "cell_type": "markdown",
      "source": [
        "Según la descripción del enunciado del proyecto, el problema se trata de predecir si es probable que los empleados abandonen la empresa, por lo que estamos ante un problema de **clasificación binaria**, donde la variable objetivo '**Attrrition**' es una etiqueta binaria que indica si un empleado abandonará la empresa (**Yes**) o no (**No**)."
      ],
      "metadata": {
        "id": "pXfnjVYKmltI"
      }
    },
    {
      "cell_type": "code",
      "source": [
        "y.describe()\n"
      ],
      "metadata": {
        "colab": {
          "base_uri": "https://localhost:8080/"
        },
        "id": "gbWZaJhcmwL1",
        "outputId": "0ab39a6d-4f2a-4a74-e66d-cdf8753ab602"
      },
      "execution_count": 37,
      "outputs": [
        {
          "output_type": "execute_result",
          "data": {
            "text/plain": [
              "count     4410\n",
              "unique       2\n",
              "top         No\n",
              "freq      3699\n",
              "Name: Attrition, dtype: object"
            ]
          },
          "metadata": {},
          "execution_count": 37
        }
      ]
    },
    {
      "cell_type": "markdown",
      "source": [
        "## **Desbalance**\n",
        "Para comprobar si es un problema desbalanceado, vamos a comprobar las proporciones de la varibale de salida para comprobar si hay una clase mayoritaría"
      ],
      "metadata": {
        "id": "h6RyqiEEbyrL"
      }
    },
    {
      "cell_type": "code",
      "source": [
        "from sklearn.model_selection import train_test_split\n",
        "from sklearn.preprocessing import LabelEncoder\n",
        "\n",
        "# Realizamos una división train/test \"normal\".\n",
        "X_train, X_test, y_train, y_test = train_test_split(X, y, test_size=2/10, random_state=13, shuffle=True)\n",
        "\n",
        "# Codificamos las etiquetas de las clases\n",
        "le = LabelEncoder()\n",
        "y_encoded = le.fit_transform(y)\n",
        "y_train = le.fit_transform(y_train)\n",
        "y_test = le.transform(y_test)\n",
        "\n",
        "N_SAMPLES_NEG = np.sum(y_encoded == 0)\n",
        "N_SAMPLES_POS = np.sum(y_encoded == 1)\n",
        "\n",
        "# Ahora comprobamos la distribución de las clases.\n",
        "n_pos_pct = N_SAMPLES_POS / (N_SAMPLES_POS + N_SAMPLES_NEG)\n",
        "n_pos_train_pct = np.sum(y_train) / len(y_train)\n",
        "n_pos_test_pct = np.sum(y_test) / len(y_test)\n",
        "\n",
        "print(f\"Hay un {100 * n_pos_train_pct:.1f} % de instancias positivas en train.\")\n",
        "print(f\"Hay un {100 * n_pos_test_pct:.1f} % de instancias positivas en test.\")\n",
        "print(f\"Hay un {100 * n_pos_pct:.1f} % de instancias positivas en total.\")"
      ],
      "metadata": {
        "colab": {
          "base_uri": "https://localhost:8080/",
          "height": 67
        },
        "id": "bgbepHK_eLu2",
        "outputId": "85b94349-41d5-4de1-f707-ee18f1c32eb2"
      },
      "execution_count": 38,
      "outputs": [
        {
          "output_type": "display_data",
          "data": {
            "text/plain": [
              "Hay un \u001b[1;36m15.6\u001b[0m % de instancias positivas en train.\n"
            ],
            "text/html": [
              "<pre style=\"white-space:pre;overflow-x:auto;line-height:normal;font-family:Menlo,'DejaVu Sans Mono',consolas,'Courier New',monospace\">Hay un <span style=\"color: #008080; text-decoration-color: #008080; font-weight: bold\">15.6</span> % de instancias positivas en train.\n",
              "</pre>\n"
            ]
          },
          "metadata": {}
        },
        {
          "output_type": "display_data",
          "data": {
            "text/plain": [
              "Hay un \u001b[1;36m18.3\u001b[0m % de instancias positivas en test.\n"
            ],
            "text/html": [
              "<pre style=\"white-space:pre;overflow-x:auto;line-height:normal;font-family:Menlo,'DejaVu Sans Mono',consolas,'Courier New',monospace\">Hay un <span style=\"color: #008080; text-decoration-color: #008080; font-weight: bold\">18.3</span> % de instancias positivas en test.\n",
              "</pre>\n"
            ]
          },
          "metadata": {}
        },
        {
          "output_type": "display_data",
          "data": {
            "text/plain": [
              "Hay un \u001b[1;36m16.1\u001b[0m % de instancias positivas en total.\n"
            ],
            "text/html": [
              "<pre style=\"white-space:pre;overflow-x:auto;line-height:normal;font-family:Menlo,'DejaVu Sans Mono',consolas,'Courier New',monospace\">Hay un <span style=\"color: #008080; text-decoration-color: #008080; font-weight: bold\">16.1</span> % de instancias positivas en total.\n",
              "</pre>\n"
            ]
          },
          "metadata": {}
        }
      ]
    },
    {
      "cell_type": "markdown",
      "source": [
        "De los resultados obtenidos, se puede concluir que el problema de aprendizaje automático podría considerarse desbalanceado, ya que la proporción de instancias positivas es menor que la proporción de instancias negativas en los conjuntos de datos de entrenamiento, prueba y total.\n",
        "\n",
        "En particular, la proporción de instancias positivas en el conjunto de entrenamiento y en el conjunto total es del 15.6%, mientras que la proporción de instancias positivas en el conjunto de prueba es del 18.3%.\n",
        "\n",
        "Debido a que nuestro problema es desbalanceado, tendremos que usar particiones estratificadas y métricas adecuadas como balanced_accuracy, f1 o matriz de confusión."
      ],
      "metadata": {
        "id": "rofbVUDeoC32"
      }
    },
    {
      "cell_type": "code",
      "source": [
        "# Ahora realizaremos una división train/test estratificada.\n",
        "X_train, X_test, y_train, y_test = train_test_split(X, y, test_size=2/10, random_state=13, shuffle=True, stratify=y)\n",
        "\n",
        "# Codificamos las etiquetas de las clases\n",
        "le = LabelEncoder()\n",
        "y_encoded = le.fit_transform(y)\n",
        "y_train = le.fit_transform(y_train)\n",
        "y_test= le.transform(y_test)\n",
        "\n",
        "N_SAMPLES_NEG = np.sum(y_encoded == 0)\n",
        "N_SAMPLES_POS = np.sum(y_encoded == 1)\n",
        "\n",
        "# Ahora comprobamos la distribución de las clases.\n",
        "n_pos_pct = N_SAMPLES_POS / (N_SAMPLES_POS + N_SAMPLES_NEG)\n",
        "n_pos_train_pct = np.sum(y_train) / len(y_train)\n",
        "n_pos_test_pct = np.sum(y_test) / len(y_test)\n",
        "\n",
        "print(f\"Hay un {100 * n_pos_train_pct:.1f} % de instancias positivas en train.\")\n",
        "print(f\"Hay un {100 * n_pos_test_pct:.1f} % de instancias positivas en test.\")\n",
        "print(f\"Hay un {100 * n_pos_pct:.1f} % de instancias positivas en total.\")"
      ],
      "metadata": {
        "colab": {
          "base_uri": "https://localhost:8080/",
          "height": 67
        },
        "id": "T6K27TZmndx8",
        "outputId": "c8fff51a-1a3b-4e32-eeb1-f03e798f7e24"
      },
      "execution_count": 39,
      "outputs": [
        {
          "output_type": "display_data",
          "data": {
            "text/plain": [
              "Hay un \u001b[1;36m16.1\u001b[0m % de instancias positivas en train.\n"
            ],
            "text/html": [
              "<pre style=\"white-space:pre;overflow-x:auto;line-height:normal;font-family:Menlo,'DejaVu Sans Mono',consolas,'Courier New',monospace\">Hay un <span style=\"color: #008080; text-decoration-color: #008080; font-weight: bold\">16.1</span> % de instancias positivas en train.\n",
              "</pre>\n"
            ]
          },
          "metadata": {}
        },
        {
          "output_type": "display_data",
          "data": {
            "text/plain": [
              "Hay un \u001b[1;36m16.1\u001b[0m % de instancias positivas en test.\n"
            ],
            "text/html": [
              "<pre style=\"white-space:pre;overflow-x:auto;line-height:normal;font-family:Menlo,'DejaVu Sans Mono',consolas,'Courier New',monospace\">Hay un <span style=\"color: #008080; text-decoration-color: #008080; font-weight: bold\">16.1</span> % de instancias positivas en test.\n",
              "</pre>\n"
            ]
          },
          "metadata": {}
        },
        {
          "output_type": "display_data",
          "data": {
            "text/plain": [
              "Hay un \u001b[1;36m16.1\u001b[0m % de instancias positivas en total.\n"
            ],
            "text/html": [
              "<pre style=\"white-space:pre;overflow-x:auto;line-height:normal;font-family:Menlo,'DejaVu Sans Mono',consolas,'Courier New',monospace\">Hay un <span style=\"color: #008080; text-decoration-color: #008080; font-weight: bold\">16.1</span> % de instancias positivas en total.\n",
              "</pre>\n"
            ]
          },
          "metadata": {}
        }
      ]
    },
    {
      "cell_type": "markdown",
      "source": [
        "Como podemos ver, hemos realizado una división train/test estratificada, lo que asegura que la proporción de instancias positivas y negativas se mantenga tanto en el conjunto de entrenamiento como en el conjunto de prueba. Además, al calcular la distribución de las clases en los conjuntos de entrenamiento y prueba, se observa que ambos tienen una proporción del 16.1% de instancias positivas, lo que indica que el problema está equilibrado en cuanto a la distribución de clases y no hay un desbalance de clases significativo."
      ],
      "metadata": {
        "id": "NBeb_MiRq2LS"
      }
    },
    {
      "cell_type": "markdown",
      "source": [
        "# **Construcción de modelos**"
      ],
      "metadata": {
        "id": "aUdRsQ62cRjU"
      }
    },
    {
      "cell_type": "markdown",
      "source": [
        "## **División de datos**"
      ],
      "metadata": {
        "id": "WmT6HHrcpBQh"
      }
    },
    {
      "cell_type": "code",
      "source": [
        "X_train      "
      ],
      "metadata": {
        "colab": {
          "base_uri": "https://localhost:8080/",
          "height": 557
        },
        "id": "S7l2CEsApLYG",
        "outputId": "f710195a-92c2-42d8-f3e6-264d372898e5"
      },
      "execution_count": 40,
      "outputs": [
        {
          "output_type": "execute_result",
          "data": {
            "text/plain": [
              "            hrs  absences  JobInvolvement  PerformanceRating  \\\n",
              "1671        NaN      17.0             2.0                3.0   \n",
              "1540   6.887290      17.0             3.0                3.0   \n",
              "2712   6.175506       NaN             3.0                3.0   \n",
              "4163  10.658386       1.0             2.0                NaN   \n",
              "3086   5.854331      14.0             2.0                3.0   \n",
              "...         ...       ...             ...                ...   \n",
              "1435   6.442017      16.0             3.0                3.0   \n",
              "212         NaN       7.0             NaN                3.0   \n",
              "967    5.997227       NaN             3.0                NaN   \n",
              "1991   8.127033       NaN             3.0                4.0   \n",
              "3689   8.226506      11.0             3.0                NaN   \n",
              "\n",
              "      EnvironmentSatisfaction  JobSatisfaction  WorkLifeBalance   Age  \\\n",
              "1671                      1.0              3.0              NaN  41.0   \n",
              "1540                      NaN              4.0              2.0   NaN   \n",
              "2712                      3.0              NaN              3.0  33.0   \n",
              "4163                      NaN              3.0              NaN  29.0   \n",
              "3086                      NaN              1.0              NaN   NaN   \n",
              "...                       ...              ...              ...   ...   \n",
              "1435                      1.0              3.0              NaN  38.0   \n",
              "212                       4.0              4.0              3.0  24.0   \n",
              "967                       4.0              2.0              3.0  45.0   \n",
              "1991                      1.0              3.0              4.0  51.0   \n",
              "3689                      3.0              4.0              3.0  29.0   \n",
              "\n",
              "         BusinessTravel              Department  ...  MaritalStatus  \\\n",
              "1671         Non-Travel  Research & Development  ...         Single   \n",
              "1540                NaN                   Sales  ...         Single   \n",
              "2712      Travel_Rarely                   Sales  ...         Single   \n",
              "4163      Travel_Rarely                   Sales  ...         Single   \n",
              "3086      Travel_Rarely  Research & Development  ...            NaN   \n",
              "...                 ...                     ...  ...            ...   \n",
              "1435      Travel_Rarely  Research & Development  ...       Divorced   \n",
              "212                 NaN                   Sales  ...            NaN   \n",
              "967       Travel_Rarely  Research & Development  ...         Single   \n",
              "1991                NaN                   Sales  ...        Married   \n",
              "3689  Travel_Frequently                   Sales  ...         Single   \n",
              "\n",
              "      MonthlyIncome NumCompaniesWorked  PercentSalaryHike StockOptionLevel  \\\n",
              "1671        26700.0                2.0               15.0              2.0   \n",
              "1540        47880.0                3.0               11.0              1.0   \n",
              "2712        43730.0                4.0               14.0              0.0   \n",
              "4163            NaN                0.0               11.0              1.0   \n",
              "3086       119570.0                NaN               13.0              0.0   \n",
              "...             ...                ...                ...              ...   \n",
              "1435        64720.0                0.0               12.0              NaN   \n",
              "212         29350.0                0.0               14.0              2.0   \n",
              "967         29420.0                1.0               22.0              1.0   \n",
              "1991       192720.0                9.0               20.0              0.0   \n",
              "3689        68110.0                0.0               15.0              1.0   \n",
              "\n",
              "      TotalWorkingYears TrainingTimesLastYear YearsAtCompany  \\\n",
              "1671                NaN                   2.0            8.0   \n",
              "1540                9.0                   0.0            7.0   \n",
              "2712                7.0                   3.0            1.0   \n",
              "4163               10.0                   3.0            NaN   \n",
              "3086               10.0                   2.0           10.0   \n",
              "...                 ...                   ...            ...   \n",
              "1435               17.0                   4.0           16.0   \n",
              "212                 3.0                   5.0            2.0   \n",
              "967                 NaN                   4.0           21.0   \n",
              "1991               18.0                   NaN           10.0   \n",
              "3689                9.0                   2.0            8.0   \n",
              "\n",
              "      YearsSinceLastPromotion  YearsWithCurrManager  \n",
              "1671                        0                   7.0  \n",
              "1540                        0                   1.0  \n",
              "2712                        0                   0.0  \n",
              "4163                        0                   8.0  \n",
              "3086                        1                   8.0  \n",
              "...                       ...                   ...  \n",
              "1435                        5                  13.0  \n",
              "212                         2                   1.0  \n",
              "967                         8                   6.0  \n",
              "1991                        2                   7.0  \n",
              "3689                        7                   7.0  \n",
              "\n",
              "[3528 rows x 27 columns]"
            ],
            "text/html": [
              "\n",
              "  <div id=\"df-0d4079cd-3e3d-4dd6-9da4-19174f644af9\">\n",
              "    <div class=\"colab-df-container\">\n",
              "      <div>\n",
              "<style scoped>\n",
              "    .dataframe tbody tr th:only-of-type {\n",
              "        vertical-align: middle;\n",
              "    }\n",
              "\n",
              "    .dataframe tbody tr th {\n",
              "        vertical-align: top;\n",
              "    }\n",
              "\n",
              "    .dataframe thead th {\n",
              "        text-align: right;\n",
              "    }\n",
              "</style>\n",
              "<table border=\"1\" class=\"dataframe\">\n",
              "  <thead>\n",
              "    <tr style=\"text-align: right;\">\n",
              "      <th></th>\n",
              "      <th>hrs</th>\n",
              "      <th>absences</th>\n",
              "      <th>JobInvolvement</th>\n",
              "      <th>PerformanceRating</th>\n",
              "      <th>EnvironmentSatisfaction</th>\n",
              "      <th>JobSatisfaction</th>\n",
              "      <th>WorkLifeBalance</th>\n",
              "      <th>Age</th>\n",
              "      <th>BusinessTravel</th>\n",
              "      <th>Department</th>\n",
              "      <th>...</th>\n",
              "      <th>MaritalStatus</th>\n",
              "      <th>MonthlyIncome</th>\n",
              "      <th>NumCompaniesWorked</th>\n",
              "      <th>PercentSalaryHike</th>\n",
              "      <th>StockOptionLevel</th>\n",
              "      <th>TotalWorkingYears</th>\n",
              "      <th>TrainingTimesLastYear</th>\n",
              "      <th>YearsAtCompany</th>\n",
              "      <th>YearsSinceLastPromotion</th>\n",
              "      <th>YearsWithCurrManager</th>\n",
              "    </tr>\n",
              "  </thead>\n",
              "  <tbody>\n",
              "    <tr>\n",
              "      <th>1671</th>\n",
              "      <td>NaN</td>\n",
              "      <td>17.0</td>\n",
              "      <td>2.0</td>\n",
              "      <td>3.0</td>\n",
              "      <td>1.0</td>\n",
              "      <td>3.0</td>\n",
              "      <td>NaN</td>\n",
              "      <td>41.0</td>\n",
              "      <td>Non-Travel</td>\n",
              "      <td>Research &amp; Development</td>\n",
              "      <td>...</td>\n",
              "      <td>Single</td>\n",
              "      <td>26700.0</td>\n",
              "      <td>2.0</td>\n",
              "      <td>15.0</td>\n",
              "      <td>2.0</td>\n",
              "      <td>NaN</td>\n",
              "      <td>2.0</td>\n",
              "      <td>8.0</td>\n",
              "      <td>0</td>\n",
              "      <td>7.0</td>\n",
              "    </tr>\n",
              "    <tr>\n",
              "      <th>1540</th>\n",
              "      <td>6.887290</td>\n",
              "      <td>17.0</td>\n",
              "      <td>3.0</td>\n",
              "      <td>3.0</td>\n",
              "      <td>NaN</td>\n",
              "      <td>4.0</td>\n",
              "      <td>2.0</td>\n",
              "      <td>NaN</td>\n",
              "      <td>NaN</td>\n",
              "      <td>Sales</td>\n",
              "      <td>...</td>\n",
              "      <td>Single</td>\n",
              "      <td>47880.0</td>\n",
              "      <td>3.0</td>\n",
              "      <td>11.0</td>\n",
              "      <td>1.0</td>\n",
              "      <td>9.0</td>\n",
              "      <td>0.0</td>\n",
              "      <td>7.0</td>\n",
              "      <td>0</td>\n",
              "      <td>1.0</td>\n",
              "    </tr>\n",
              "    <tr>\n",
              "      <th>2712</th>\n",
              "      <td>6.175506</td>\n",
              "      <td>NaN</td>\n",
              "      <td>3.0</td>\n",
              "      <td>3.0</td>\n",
              "      <td>3.0</td>\n",
              "      <td>NaN</td>\n",
              "      <td>3.0</td>\n",
              "      <td>33.0</td>\n",
              "      <td>Travel_Rarely</td>\n",
              "      <td>Sales</td>\n",
              "      <td>...</td>\n",
              "      <td>Single</td>\n",
              "      <td>43730.0</td>\n",
              "      <td>4.0</td>\n",
              "      <td>14.0</td>\n",
              "      <td>0.0</td>\n",
              "      <td>7.0</td>\n",
              "      <td>3.0</td>\n",
              "      <td>1.0</td>\n",
              "      <td>0</td>\n",
              "      <td>0.0</td>\n",
              "    </tr>\n",
              "    <tr>\n",
              "      <th>4163</th>\n",
              "      <td>10.658386</td>\n",
              "      <td>1.0</td>\n",
              "      <td>2.0</td>\n",
              "      <td>NaN</td>\n",
              "      <td>NaN</td>\n",
              "      <td>3.0</td>\n",
              "      <td>NaN</td>\n",
              "      <td>29.0</td>\n",
              "      <td>Travel_Rarely</td>\n",
              "      <td>Sales</td>\n",
              "      <td>...</td>\n",
              "      <td>Single</td>\n",
              "      <td>NaN</td>\n",
              "      <td>0.0</td>\n",
              "      <td>11.0</td>\n",
              "      <td>1.0</td>\n",
              "      <td>10.0</td>\n",
              "      <td>3.0</td>\n",
              "      <td>NaN</td>\n",
              "      <td>0</td>\n",
              "      <td>8.0</td>\n",
              "    </tr>\n",
              "    <tr>\n",
              "      <th>3086</th>\n",
              "      <td>5.854331</td>\n",
              "      <td>14.0</td>\n",
              "      <td>2.0</td>\n",
              "      <td>3.0</td>\n",
              "      <td>NaN</td>\n",
              "      <td>1.0</td>\n",
              "      <td>NaN</td>\n",
              "      <td>NaN</td>\n",
              "      <td>Travel_Rarely</td>\n",
              "      <td>Research &amp; Development</td>\n",
              "      <td>...</td>\n",
              "      <td>NaN</td>\n",
              "      <td>119570.0</td>\n",
              "      <td>NaN</td>\n",
              "      <td>13.0</td>\n",
              "      <td>0.0</td>\n",
              "      <td>10.0</td>\n",
              "      <td>2.0</td>\n",
              "      <td>10.0</td>\n",
              "      <td>1</td>\n",
              "      <td>8.0</td>\n",
              "    </tr>\n",
              "    <tr>\n",
              "      <th>...</th>\n",
              "      <td>...</td>\n",
              "      <td>...</td>\n",
              "      <td>...</td>\n",
              "      <td>...</td>\n",
              "      <td>...</td>\n",
              "      <td>...</td>\n",
              "      <td>...</td>\n",
              "      <td>...</td>\n",
              "      <td>...</td>\n",
              "      <td>...</td>\n",
              "      <td>...</td>\n",
              "      <td>...</td>\n",
              "      <td>...</td>\n",
              "      <td>...</td>\n",
              "      <td>...</td>\n",
              "      <td>...</td>\n",
              "      <td>...</td>\n",
              "      <td>...</td>\n",
              "      <td>...</td>\n",
              "      <td>...</td>\n",
              "      <td>...</td>\n",
              "    </tr>\n",
              "    <tr>\n",
              "      <th>1435</th>\n",
              "      <td>6.442017</td>\n",
              "      <td>16.0</td>\n",
              "      <td>3.0</td>\n",
              "      <td>3.0</td>\n",
              "      <td>1.0</td>\n",
              "      <td>3.0</td>\n",
              "      <td>NaN</td>\n",
              "      <td>38.0</td>\n",
              "      <td>Travel_Rarely</td>\n",
              "      <td>Research &amp; Development</td>\n",
              "      <td>...</td>\n",
              "      <td>Divorced</td>\n",
              "      <td>64720.0</td>\n",
              "      <td>0.0</td>\n",
              "      <td>12.0</td>\n",
              "      <td>NaN</td>\n",
              "      <td>17.0</td>\n",
              "      <td>4.0</td>\n",
              "      <td>16.0</td>\n",
              "      <td>5</td>\n",
              "      <td>13.0</td>\n",
              "    </tr>\n",
              "    <tr>\n",
              "      <th>212</th>\n",
              "      <td>NaN</td>\n",
              "      <td>7.0</td>\n",
              "      <td>NaN</td>\n",
              "      <td>3.0</td>\n",
              "      <td>4.0</td>\n",
              "      <td>4.0</td>\n",
              "      <td>3.0</td>\n",
              "      <td>24.0</td>\n",
              "      <td>NaN</td>\n",
              "      <td>Sales</td>\n",
              "      <td>...</td>\n",
              "      <td>NaN</td>\n",
              "      <td>29350.0</td>\n",
              "      <td>0.0</td>\n",
              "      <td>14.0</td>\n",
              "      <td>2.0</td>\n",
              "      <td>3.0</td>\n",
              "      <td>5.0</td>\n",
              "      <td>2.0</td>\n",
              "      <td>2</td>\n",
              "      <td>1.0</td>\n",
              "    </tr>\n",
              "    <tr>\n",
              "      <th>967</th>\n",
              "      <td>5.997227</td>\n",
              "      <td>NaN</td>\n",
              "      <td>3.0</td>\n",
              "      <td>NaN</td>\n",
              "      <td>4.0</td>\n",
              "      <td>2.0</td>\n",
              "      <td>3.0</td>\n",
              "      <td>45.0</td>\n",
              "      <td>Travel_Rarely</td>\n",
              "      <td>Research &amp; Development</td>\n",
              "      <td>...</td>\n",
              "      <td>Single</td>\n",
              "      <td>29420.0</td>\n",
              "      <td>1.0</td>\n",
              "      <td>22.0</td>\n",
              "      <td>1.0</td>\n",
              "      <td>NaN</td>\n",
              "      <td>4.0</td>\n",
              "      <td>21.0</td>\n",
              "      <td>8</td>\n",
              "      <td>6.0</td>\n",
              "    </tr>\n",
              "    <tr>\n",
              "      <th>1991</th>\n",
              "      <td>8.127033</td>\n",
              "      <td>NaN</td>\n",
              "      <td>3.0</td>\n",
              "      <td>4.0</td>\n",
              "      <td>1.0</td>\n",
              "      <td>3.0</td>\n",
              "      <td>4.0</td>\n",
              "      <td>51.0</td>\n",
              "      <td>NaN</td>\n",
              "      <td>Sales</td>\n",
              "      <td>...</td>\n",
              "      <td>Married</td>\n",
              "      <td>192720.0</td>\n",
              "      <td>9.0</td>\n",
              "      <td>20.0</td>\n",
              "      <td>0.0</td>\n",
              "      <td>18.0</td>\n",
              "      <td>NaN</td>\n",
              "      <td>10.0</td>\n",
              "      <td>2</td>\n",
              "      <td>7.0</td>\n",
              "    </tr>\n",
              "    <tr>\n",
              "      <th>3689</th>\n",
              "      <td>8.226506</td>\n",
              "      <td>11.0</td>\n",
              "      <td>3.0</td>\n",
              "      <td>NaN</td>\n",
              "      <td>3.0</td>\n",
              "      <td>4.0</td>\n",
              "      <td>3.0</td>\n",
              "      <td>29.0</td>\n",
              "      <td>Travel_Frequently</td>\n",
              "      <td>Sales</td>\n",
              "      <td>...</td>\n",
              "      <td>Single</td>\n",
              "      <td>68110.0</td>\n",
              "      <td>0.0</td>\n",
              "      <td>15.0</td>\n",
              "      <td>1.0</td>\n",
              "      <td>9.0</td>\n",
              "      <td>2.0</td>\n",
              "      <td>8.0</td>\n",
              "      <td>7</td>\n",
              "      <td>7.0</td>\n",
              "    </tr>\n",
              "  </tbody>\n",
              "</table>\n",
              "<p>3528 rows × 27 columns</p>\n",
              "</div>\n",
              "      <button class=\"colab-df-convert\" onclick=\"convertToInteractive('df-0d4079cd-3e3d-4dd6-9da4-19174f644af9')\"\n",
              "              title=\"Convert this dataframe to an interactive table.\"\n",
              "              style=\"display:none;\">\n",
              "        \n",
              "  <svg xmlns=\"http://www.w3.org/2000/svg\" height=\"24px\"viewBox=\"0 0 24 24\"\n",
              "       width=\"24px\">\n",
              "    <path d=\"M0 0h24v24H0V0z\" fill=\"none\"/>\n",
              "    <path d=\"M18.56 5.44l.94 2.06.94-2.06 2.06-.94-2.06-.94-.94-2.06-.94 2.06-2.06.94zm-11 1L8.5 8.5l.94-2.06 2.06-.94-2.06-.94L8.5 2.5l-.94 2.06-2.06.94zm10 10l.94 2.06.94-2.06 2.06-.94-2.06-.94-.94-2.06-.94 2.06-2.06.94z\"/><path d=\"M17.41 7.96l-1.37-1.37c-.4-.4-.92-.59-1.43-.59-.52 0-1.04.2-1.43.59L10.3 9.45l-7.72 7.72c-.78.78-.78 2.05 0 2.83L4 21.41c.39.39.9.59 1.41.59.51 0 1.02-.2 1.41-.59l7.78-7.78 2.81-2.81c.8-.78.8-2.07 0-2.86zM5.41 20L4 18.59l7.72-7.72 1.47 1.35L5.41 20z\"/>\n",
              "  </svg>\n",
              "      </button>\n",
              "      \n",
              "  <style>\n",
              "    .colab-df-container {\n",
              "      display:flex;\n",
              "      flex-wrap:wrap;\n",
              "      gap: 12px;\n",
              "    }\n",
              "\n",
              "    .colab-df-convert {\n",
              "      background-color: #E8F0FE;\n",
              "      border: none;\n",
              "      border-radius: 50%;\n",
              "      cursor: pointer;\n",
              "      display: none;\n",
              "      fill: #1967D2;\n",
              "      height: 32px;\n",
              "      padding: 0 0 0 0;\n",
              "      width: 32px;\n",
              "    }\n",
              "\n",
              "    .colab-df-convert:hover {\n",
              "      background-color: #E2EBFA;\n",
              "      box-shadow: 0px 1px 2px rgba(60, 64, 67, 0.3), 0px 1px 3px 1px rgba(60, 64, 67, 0.15);\n",
              "      fill: #174EA6;\n",
              "    }\n",
              "\n",
              "    [theme=dark] .colab-df-convert {\n",
              "      background-color: #3B4455;\n",
              "      fill: #D2E3FC;\n",
              "    }\n",
              "\n",
              "    [theme=dark] .colab-df-convert:hover {\n",
              "      background-color: #434B5C;\n",
              "      box-shadow: 0px 1px 3px 1px rgba(0, 0, 0, 0.15);\n",
              "      filter: drop-shadow(0px 1px 2px rgba(0, 0, 0, 0.3));\n",
              "      fill: #FFFFFF;\n",
              "    }\n",
              "  </style>\n",
              "\n",
              "      <script>\n",
              "        const buttonEl =\n",
              "          document.querySelector('#df-0d4079cd-3e3d-4dd6-9da4-19174f644af9 button.colab-df-convert');\n",
              "        buttonEl.style.display =\n",
              "          google.colab.kernel.accessAllowed ? 'block' : 'none';\n",
              "\n",
              "        async function convertToInteractive(key) {\n",
              "          const element = document.querySelector('#df-0d4079cd-3e3d-4dd6-9da4-19174f644af9');\n",
              "          const dataTable =\n",
              "            await google.colab.kernel.invokeFunction('convertToInteractive',\n",
              "                                                     [key], {});\n",
              "          if (!dataTable) return;\n",
              "\n",
              "          const docLinkHtml = 'Like what you see? Visit the ' +\n",
              "            '<a target=\"_blank\" href=https://colab.research.google.com/notebooks/data_table.ipynb>data table notebook</a>'\n",
              "            + ' to learn more about interactive tables.';\n",
              "          element.innerHTML = '';\n",
              "          dataTable['output_type'] = 'display_data';\n",
              "          await google.colab.output.renderOutput(dataTable, element);\n",
              "          const docLink = document.createElement('div');\n",
              "          docLink.innerHTML = docLinkHtml;\n",
              "          element.appendChild(docLink);\n",
              "        }\n",
              "      </script>\n",
              "    </div>\n",
              "  </div>\n",
              "  "
            ]
          },
          "metadata": {},
          "execution_count": 40
        }
      ]
    },
    {
      "cell_type": "markdown",
      "source": [
        "## **Preprocesamiento de los datos**\n",
        "A continuación llevaremos a cabo el **procesamiento** de los datos mediante pipelines. Para ello, obtendremos las variables numéricas y las variables categóricas. Tras esto, haremos una operación distinta para cada una de ellas:\n",
        "+ **Variables numéricas**: Sustituiremos los missing values con la **media** de los valores de esa columna.\n",
        "+ **Variables categóricas**: Sustituiremos los missing values con la **moda** de los valores de esa columna. Además, codificaremos usando one-hot encoding para tener datos numéricos para el resto del análisis."
      ],
      "metadata": {
        "id": "D1wTw5XNrW2K"
      }
    },
    {
      "cell_type": "code",
      "source": [
        "from sklearn.compose import ColumnTransformer\n",
        "from sklearn.impute import SimpleImputer\n",
        "from sklearn.pipeline import Pipeline\n",
        "from sklearn.preprocessing import OneHotEncoder\n",
        "\n",
        "# Obtenemos los nombres de las columnas que tienen tipo de dato 'object' o 'category'.\n",
        "cols_categoricas = X.select_dtypes(include=['object', 'category']).columns.tolist()\n",
        "\n",
        "# Obtenemos los nombres de las columnas que tienen tipo de dato 'int' o 'float'.\n",
        "cols_numericas = X.select_dtypes(include=['int', 'float']).columns.tolist()\n",
        "\n",
        "print(\"Columnas categóricas: \", cols_categoricas)\n",
        "print(\"Columnas numéricas: \", cols_numericas)\n",
        "\n",
        "# Procesamos valores numéricos.\n",
        "imputer_num = SimpleImputer(strategy='mean')\n",
        "pipeline_num = Pipeline(\n",
        "    steps=[\n",
        "        (\"imputer\", imputer_num)\n",
        "    ]\n",
        ")\n",
        "\n",
        "# Procesamos valores categóricos (imputamos con la moda y luego codificamos con one-hot encoding).\n",
        "imputer_cat = SimpleImputer(strategy='most_frequent')\n",
        "encoder_cat = OneHotEncoder()\n",
        "pipeline_cat = Pipeline(\n",
        "    steps=[\n",
        "        (\"imputer\", imputer_cat),\n",
        "        (\"onehot\", encoder_cat)\n",
        "    ]\n",
        ")\n",
        "\n",
        "# Pre-procesador \"global\".\n",
        "# Dependiendo del tipo de columna aplicamos una transformación u otra.\n",
        "processor = ColumnTransformer(\n",
        "    transformers=[\n",
        "        (\"num\", pipeline_num, cols_numericas),\n",
        "        (\"cat\", pipeline_cat, cols_categoricas),\n",
        "    ]\n",
        ")\n",
        "\n",
        "# Realizamos la transformación.\n",
        "X_train = processor.fit_transform(X_train)\n",
        "X_test = processor.transform(X_test)\n",
        "\n",
        "# Convertimos el resultado a un DataFrame de Pandas con los nombres de las columnas correctos.\n",
        "X_train = pd.DataFrame(X_train)\n",
        "X_test = pd.DataFrame(X_test)\n",
        "\n",
        "X_train\n",
        "X_test"
      ],
      "metadata": {
        "colab": {
          "base_uri": "https://localhost:8080/",
          "height": 917
        },
        "id": "rcYo1cJArftz",
        "outputId": "554bf26c-4ac8-42c5-dd58-73281376e7c0"
      },
      "execution_count": 41,
      "outputs": [
        {
          "output_type": "display_data",
          "data": {
            "text/plain": [
              "Columnas categóricas: \n",
              "\u001b[1m[\u001b[0m\u001b[32m'BusinessTravel'\u001b[0m, \u001b[32m'Department'\u001b[0m, \u001b[32m'EducationField'\u001b[0m, \u001b[32m'Gender'\u001b[0m, \u001b[32m'JobRole'\u001b[0m, \u001b[32m'MaritalStatus'\u001b[0m\u001b[1m]\u001b[0m\n"
            ],
            "text/html": [
              "<pre style=\"white-space:pre;overflow-x:auto;line-height:normal;font-family:Menlo,'DejaVu Sans Mono',consolas,'Courier New',monospace\">Columnas categóricas: \n",
              "<span style=\"font-weight: bold\">[</span><span style=\"color: #008000; text-decoration-color: #008000\">'BusinessTravel'</span>, <span style=\"color: #008000; text-decoration-color: #008000\">'Department'</span>, <span style=\"color: #008000; text-decoration-color: #008000\">'EducationField'</span>, <span style=\"color: #008000; text-decoration-color: #008000\">'Gender'</span>, <span style=\"color: #008000; text-decoration-color: #008000\">'JobRole'</span>, <span style=\"color: #008000; text-decoration-color: #008000\">'MaritalStatus'</span><span style=\"font-weight: bold\">]</span>\n",
              "</pre>\n"
            ]
          },
          "metadata": {}
        },
        {
          "output_type": "display_data",
          "data": {
            "text/plain": [
              "Columnas numéricas: \n",
              "\u001b[1m[\u001b[0m\n",
              "    \u001b[32m'hrs'\u001b[0m,\n",
              "    \u001b[32m'absences'\u001b[0m,\n",
              "    \u001b[32m'JobInvolvement'\u001b[0m,\n",
              "    \u001b[32m'PerformanceRating'\u001b[0m,\n",
              "    \u001b[32m'EnvironmentSatisfaction'\u001b[0m,\n",
              "    \u001b[32m'JobSatisfaction'\u001b[0m,\n",
              "    \u001b[32m'WorkLifeBalance'\u001b[0m,\n",
              "    \u001b[32m'Age'\u001b[0m,\n",
              "    \u001b[32m'DistanceFromHome'\u001b[0m,\n",
              "    \u001b[32m'Education'\u001b[0m,\n",
              "    \u001b[32m'EmployeeID'\u001b[0m,\n",
              "    \u001b[32m'JobLevel'\u001b[0m,\n",
              "    \u001b[32m'MonthlyIncome'\u001b[0m,\n",
              "    \u001b[32m'NumCompaniesWorked'\u001b[0m,\n",
              "    \u001b[32m'PercentSalaryHike'\u001b[0m,\n",
              "    \u001b[32m'StockOptionLevel'\u001b[0m,\n",
              "    \u001b[32m'TotalWorkingYears'\u001b[0m,\n",
              "    \u001b[32m'TrainingTimesLastYear'\u001b[0m,\n",
              "    \u001b[32m'YearsAtCompany'\u001b[0m,\n",
              "    \u001b[32m'YearsSinceLastPromotion'\u001b[0m,\n",
              "    \u001b[32m'YearsWithCurrManager'\u001b[0m\n",
              "\u001b[1m]\u001b[0m\n"
            ],
            "text/html": [
              "<pre style=\"white-space:pre;overflow-x:auto;line-height:normal;font-family:Menlo,'DejaVu Sans Mono',consolas,'Courier New',monospace\">Columnas numéricas: \n",
              "<span style=\"font-weight: bold\">[</span>\n",
              "    <span style=\"color: #008000; text-decoration-color: #008000\">'hrs'</span>,\n",
              "    <span style=\"color: #008000; text-decoration-color: #008000\">'absences'</span>,\n",
              "    <span style=\"color: #008000; text-decoration-color: #008000\">'JobInvolvement'</span>,\n",
              "    <span style=\"color: #008000; text-decoration-color: #008000\">'PerformanceRating'</span>,\n",
              "    <span style=\"color: #008000; text-decoration-color: #008000\">'EnvironmentSatisfaction'</span>,\n",
              "    <span style=\"color: #008000; text-decoration-color: #008000\">'JobSatisfaction'</span>,\n",
              "    <span style=\"color: #008000; text-decoration-color: #008000\">'WorkLifeBalance'</span>,\n",
              "    <span style=\"color: #008000; text-decoration-color: #008000\">'Age'</span>,\n",
              "    <span style=\"color: #008000; text-decoration-color: #008000\">'DistanceFromHome'</span>,\n",
              "    <span style=\"color: #008000; text-decoration-color: #008000\">'Education'</span>,\n",
              "    <span style=\"color: #008000; text-decoration-color: #008000\">'EmployeeID'</span>,\n",
              "    <span style=\"color: #008000; text-decoration-color: #008000\">'JobLevel'</span>,\n",
              "    <span style=\"color: #008000; text-decoration-color: #008000\">'MonthlyIncome'</span>,\n",
              "    <span style=\"color: #008000; text-decoration-color: #008000\">'NumCompaniesWorked'</span>,\n",
              "    <span style=\"color: #008000; text-decoration-color: #008000\">'PercentSalaryHike'</span>,\n",
              "    <span style=\"color: #008000; text-decoration-color: #008000\">'StockOptionLevel'</span>,\n",
              "    <span style=\"color: #008000; text-decoration-color: #008000\">'TotalWorkingYears'</span>,\n",
              "    <span style=\"color: #008000; text-decoration-color: #008000\">'TrainingTimesLastYear'</span>,\n",
              "    <span style=\"color: #008000; text-decoration-color: #008000\">'YearsAtCompany'</span>,\n",
              "    <span style=\"color: #008000; text-decoration-color: #008000\">'YearsSinceLastPromotion'</span>,\n",
              "    <span style=\"color: #008000; text-decoration-color: #008000\">'YearsWithCurrManager'</span>\n",
              "<span style=\"font-weight: bold\">]</span>\n",
              "</pre>\n"
            ]
          },
          "metadata": {}
        },
        {
          "output_type": "execute_result",
          "data": {
            "text/plain": [
              "            0          1         2         3         4         5         6   \\\n",
              "0     5.817245  16.000000  3.000000  3.000000  3.000000  2.723731  3.000000   \n",
              "1     7.315186  11.000000  2.731481  3.000000  1.000000  4.000000  3.000000   \n",
              "2    10.677703   7.000000  2.731481  3.159489  2.000000  2.723731  2.772043   \n",
              "3     6.317896  21.000000  3.000000  3.159489  2.712604  4.000000  3.000000   \n",
              "4     7.315186  12.791581  3.000000  3.000000  3.000000  2.000000  4.000000   \n",
              "..         ...        ...       ...       ...       ...       ...       ...   \n",
              "877   6.428676  10.000000  3.000000  3.159489  3.000000  2.000000  3.000000   \n",
              "878   8.154288   4.000000  1.000000  3.000000  1.000000  1.000000  2.000000   \n",
              "879   6.288425  12.000000  2.000000  3.000000  1.000000  3.000000  2.772043   \n",
              "880   7.315186  12.791581  3.000000  3.159489  3.000000  3.000000  3.000000   \n",
              "881   6.038271  12.791581  3.000000  3.000000  2.000000  3.000000  2.772043   \n",
              "\n",
              "            7          8         9   ...   37   38   39   40   41   42   43  \\\n",
              "0    40.000000  10.000000  4.000000  ...  0.0  0.0  0.0  0.0  1.0  0.0  0.0   \n",
              "1    37.070728   2.000000  3.000000  ...  0.0  0.0  1.0  0.0  0.0  0.0  0.0   \n",
              "2    34.000000  17.000000  2.921864  ...  0.0  0.0  0.0  1.0  0.0  0.0  0.0   \n",
              "3    35.000000  14.000000  2.921864  ...  0.0  0.0  0.0  0.0  1.0  0.0  0.0   \n",
              "4    37.070728   9.230906  3.000000  ...  0.0  0.0  0.0  0.0  0.0  1.0  0.0   \n",
              "..         ...        ...       ...  ...  ...  ...  ...  ...  ...  ...  ...   \n",
              "877  49.000000   9.230906  4.000000  ...  0.0  0.0  1.0  0.0  0.0  0.0  0.0   \n",
              "878  33.000000  10.000000  3.000000  ...  0.0  0.0  0.0  0.0  0.0  1.0  0.0   \n",
              "879  31.000000   9.230906  2.000000  ...  0.0  0.0  0.0  0.0  0.0  1.0  0.0   \n",
              "880  33.000000  13.000000  2.921864  ...  0.0  0.0  1.0  0.0  0.0  0.0  0.0   \n",
              "881  36.000000   9.230906  3.000000  ...  0.0  0.0  0.0  0.0  0.0  0.0  0.0   \n",
              "\n",
              "      44   45   46  \n",
              "0    0.0  0.0  1.0  \n",
              "1    1.0  0.0  0.0  \n",
              "2    1.0  0.0  0.0  \n",
              "3    0.0  1.0  0.0  \n",
              "4    0.0  1.0  0.0  \n",
              "..   ...  ...  ...  \n",
              "877  0.0  1.0  0.0  \n",
              "878  0.0  1.0  0.0  \n",
              "879  0.0  1.0  0.0  \n",
              "880  1.0  0.0  0.0  \n",
              "881  0.0  1.0  0.0  \n",
              "\n",
              "[882 rows x 47 columns]"
            ],
            "text/html": [
              "\n",
              "  <div id=\"df-174450a1-f48d-4ca6-854a-3f934afe3b0a\">\n",
              "    <div class=\"colab-df-container\">\n",
              "      <div>\n",
              "<style scoped>\n",
              "    .dataframe tbody tr th:only-of-type {\n",
              "        vertical-align: middle;\n",
              "    }\n",
              "\n",
              "    .dataframe tbody tr th {\n",
              "        vertical-align: top;\n",
              "    }\n",
              "\n",
              "    .dataframe thead th {\n",
              "        text-align: right;\n",
              "    }\n",
              "</style>\n",
              "<table border=\"1\" class=\"dataframe\">\n",
              "  <thead>\n",
              "    <tr style=\"text-align: right;\">\n",
              "      <th></th>\n",
              "      <th>0</th>\n",
              "      <th>1</th>\n",
              "      <th>2</th>\n",
              "      <th>3</th>\n",
              "      <th>4</th>\n",
              "      <th>5</th>\n",
              "      <th>6</th>\n",
              "      <th>7</th>\n",
              "      <th>8</th>\n",
              "      <th>9</th>\n",
              "      <th>...</th>\n",
              "      <th>37</th>\n",
              "      <th>38</th>\n",
              "      <th>39</th>\n",
              "      <th>40</th>\n",
              "      <th>41</th>\n",
              "      <th>42</th>\n",
              "      <th>43</th>\n",
              "      <th>44</th>\n",
              "      <th>45</th>\n",
              "      <th>46</th>\n",
              "    </tr>\n",
              "  </thead>\n",
              "  <tbody>\n",
              "    <tr>\n",
              "      <th>0</th>\n",
              "      <td>5.817245</td>\n",
              "      <td>16.000000</td>\n",
              "      <td>3.000000</td>\n",
              "      <td>3.000000</td>\n",
              "      <td>3.000000</td>\n",
              "      <td>2.723731</td>\n",
              "      <td>3.000000</td>\n",
              "      <td>40.000000</td>\n",
              "      <td>10.000000</td>\n",
              "      <td>4.000000</td>\n",
              "      <td>...</td>\n",
              "      <td>0.0</td>\n",
              "      <td>0.0</td>\n",
              "      <td>0.0</td>\n",
              "      <td>0.0</td>\n",
              "      <td>1.0</td>\n",
              "      <td>0.0</td>\n",
              "      <td>0.0</td>\n",
              "      <td>0.0</td>\n",
              "      <td>0.0</td>\n",
              "      <td>1.0</td>\n",
              "    </tr>\n",
              "    <tr>\n",
              "      <th>1</th>\n",
              "      <td>7.315186</td>\n",
              "      <td>11.000000</td>\n",
              "      <td>2.731481</td>\n",
              "      <td>3.000000</td>\n",
              "      <td>1.000000</td>\n",
              "      <td>4.000000</td>\n",
              "      <td>3.000000</td>\n",
              "      <td>37.070728</td>\n",
              "      <td>2.000000</td>\n",
              "      <td>3.000000</td>\n",
              "      <td>...</td>\n",
              "      <td>0.0</td>\n",
              "      <td>0.0</td>\n",
              "      <td>1.0</td>\n",
              "      <td>0.0</td>\n",
              "      <td>0.0</td>\n",
              "      <td>0.0</td>\n",
              "      <td>0.0</td>\n",
              "      <td>1.0</td>\n",
              "      <td>0.0</td>\n",
              "      <td>0.0</td>\n",
              "    </tr>\n",
              "    <tr>\n",
              "      <th>2</th>\n",
              "      <td>10.677703</td>\n",
              "      <td>7.000000</td>\n",
              "      <td>2.731481</td>\n",
              "      <td>3.159489</td>\n",
              "      <td>2.000000</td>\n",
              "      <td>2.723731</td>\n",
              "      <td>2.772043</td>\n",
              "      <td>34.000000</td>\n",
              "      <td>17.000000</td>\n",
              "      <td>2.921864</td>\n",
              "      <td>...</td>\n",
              "      <td>0.0</td>\n",
              "      <td>0.0</td>\n",
              "      <td>0.0</td>\n",
              "      <td>1.0</td>\n",
              "      <td>0.0</td>\n",
              "      <td>0.0</td>\n",
              "      <td>0.0</td>\n",
              "      <td>1.0</td>\n",
              "      <td>0.0</td>\n",
              "      <td>0.0</td>\n",
              "    </tr>\n",
              "    <tr>\n",
              "      <th>3</th>\n",
              "      <td>6.317896</td>\n",
              "      <td>21.000000</td>\n",
              "      <td>3.000000</td>\n",
              "      <td>3.159489</td>\n",
              "      <td>2.712604</td>\n",
              "      <td>4.000000</td>\n",
              "      <td>3.000000</td>\n",
              "      <td>35.000000</td>\n",
              "      <td>14.000000</td>\n",
              "      <td>2.921864</td>\n",
              "      <td>...</td>\n",
              "      <td>0.0</td>\n",
              "      <td>0.0</td>\n",
              "      <td>0.0</td>\n",
              "      <td>0.0</td>\n",
              "      <td>1.0</td>\n",
              "      <td>0.0</td>\n",
              "      <td>0.0</td>\n",
              "      <td>0.0</td>\n",
              "      <td>1.0</td>\n",
              "      <td>0.0</td>\n",
              "    </tr>\n",
              "    <tr>\n",
              "      <th>4</th>\n",
              "      <td>7.315186</td>\n",
              "      <td>12.791581</td>\n",
              "      <td>3.000000</td>\n",
              "      <td>3.000000</td>\n",
              "      <td>3.000000</td>\n",
              "      <td>2.000000</td>\n",
              "      <td>4.000000</td>\n",
              "      <td>37.070728</td>\n",
              "      <td>9.230906</td>\n",
              "      <td>3.000000</td>\n",
              "      <td>...</td>\n",
              "      <td>0.0</td>\n",
              "      <td>0.0</td>\n",
              "      <td>0.0</td>\n",
              "      <td>0.0</td>\n",
              "      <td>0.0</td>\n",
              "      <td>1.0</td>\n",
              "      <td>0.0</td>\n",
              "      <td>0.0</td>\n",
              "      <td>1.0</td>\n",
              "      <td>0.0</td>\n",
              "    </tr>\n",
              "    <tr>\n",
              "      <th>...</th>\n",
              "      <td>...</td>\n",
              "      <td>...</td>\n",
              "      <td>...</td>\n",
              "      <td>...</td>\n",
              "      <td>...</td>\n",
              "      <td>...</td>\n",
              "      <td>...</td>\n",
              "      <td>...</td>\n",
              "      <td>...</td>\n",
              "      <td>...</td>\n",
              "      <td>...</td>\n",
              "      <td>...</td>\n",
              "      <td>...</td>\n",
              "      <td>...</td>\n",
              "      <td>...</td>\n",
              "      <td>...</td>\n",
              "      <td>...</td>\n",
              "      <td>...</td>\n",
              "      <td>...</td>\n",
              "      <td>...</td>\n",
              "      <td>...</td>\n",
              "    </tr>\n",
              "    <tr>\n",
              "      <th>877</th>\n",
              "      <td>6.428676</td>\n",
              "      <td>10.000000</td>\n",
              "      <td>3.000000</td>\n",
              "      <td>3.159489</td>\n",
              "      <td>3.000000</td>\n",
              "      <td>2.000000</td>\n",
              "      <td>3.000000</td>\n",
              "      <td>49.000000</td>\n",
              "      <td>9.230906</td>\n",
              "      <td>4.000000</td>\n",
              "      <td>...</td>\n",
              "      <td>0.0</td>\n",
              "      <td>0.0</td>\n",
              "      <td>1.0</td>\n",
              "      <td>0.0</td>\n",
              "      <td>0.0</td>\n",
              "      <td>0.0</td>\n",
              "      <td>0.0</td>\n",
              "      <td>0.0</td>\n",
              "      <td>1.0</td>\n",
              "      <td>0.0</td>\n",
              "    </tr>\n",
              "    <tr>\n",
              "      <th>878</th>\n",
              "      <td>8.154288</td>\n",
              "      <td>4.000000</td>\n",
              "      <td>1.000000</td>\n",
              "      <td>3.000000</td>\n",
              "      <td>1.000000</td>\n",
              "      <td>1.000000</td>\n",
              "      <td>2.000000</td>\n",
              "      <td>33.000000</td>\n",
              "      <td>10.000000</td>\n",
              "      <td>3.000000</td>\n",
              "      <td>...</td>\n",
              "      <td>0.0</td>\n",
              "      <td>0.0</td>\n",
              "      <td>0.0</td>\n",
              "      <td>0.0</td>\n",
              "      <td>0.0</td>\n",
              "      <td>1.0</td>\n",
              "      <td>0.0</td>\n",
              "      <td>0.0</td>\n",
              "      <td>1.0</td>\n",
              "      <td>0.0</td>\n",
              "    </tr>\n",
              "    <tr>\n",
              "      <th>879</th>\n",
              "      <td>6.288425</td>\n",
              "      <td>12.000000</td>\n",
              "      <td>2.000000</td>\n",
              "      <td>3.000000</td>\n",
              "      <td>1.000000</td>\n",
              "      <td>3.000000</td>\n",
              "      <td>2.772043</td>\n",
              "      <td>31.000000</td>\n",
              "      <td>9.230906</td>\n",
              "      <td>2.000000</td>\n",
              "      <td>...</td>\n",
              "      <td>0.0</td>\n",
              "      <td>0.0</td>\n",
              "      <td>0.0</td>\n",
              "      <td>0.0</td>\n",
              "      <td>0.0</td>\n",
              "      <td>1.0</td>\n",
              "      <td>0.0</td>\n",
              "      <td>0.0</td>\n",
              "      <td>1.0</td>\n",
              "      <td>0.0</td>\n",
              "    </tr>\n",
              "    <tr>\n",
              "      <th>880</th>\n",
              "      <td>7.315186</td>\n",
              "      <td>12.791581</td>\n",
              "      <td>3.000000</td>\n",
              "      <td>3.159489</td>\n",
              "      <td>3.000000</td>\n",
              "      <td>3.000000</td>\n",
              "      <td>3.000000</td>\n",
              "      <td>33.000000</td>\n",
              "      <td>13.000000</td>\n",
              "      <td>2.921864</td>\n",
              "      <td>...</td>\n",
              "      <td>0.0</td>\n",
              "      <td>0.0</td>\n",
              "      <td>1.0</td>\n",
              "      <td>0.0</td>\n",
              "      <td>0.0</td>\n",
              "      <td>0.0</td>\n",
              "      <td>0.0</td>\n",
              "      <td>1.0</td>\n",
              "      <td>0.0</td>\n",
              "      <td>0.0</td>\n",
              "    </tr>\n",
              "    <tr>\n",
              "      <th>881</th>\n",
              "      <td>6.038271</td>\n",
              "      <td>12.791581</td>\n",
              "      <td>3.000000</td>\n",
              "      <td>3.000000</td>\n",
              "      <td>2.000000</td>\n",
              "      <td>3.000000</td>\n",
              "      <td>2.772043</td>\n",
              "      <td>36.000000</td>\n",
              "      <td>9.230906</td>\n",
              "      <td>3.000000</td>\n",
              "      <td>...</td>\n",
              "      <td>0.0</td>\n",
              "      <td>0.0</td>\n",
              "      <td>0.0</td>\n",
              "      <td>0.0</td>\n",
              "      <td>0.0</td>\n",
              "      <td>0.0</td>\n",
              "      <td>0.0</td>\n",
              "      <td>0.0</td>\n",
              "      <td>1.0</td>\n",
              "      <td>0.0</td>\n",
              "    </tr>\n",
              "  </tbody>\n",
              "</table>\n",
              "<p>882 rows × 47 columns</p>\n",
              "</div>\n",
              "      <button class=\"colab-df-convert\" onclick=\"convertToInteractive('df-174450a1-f48d-4ca6-854a-3f934afe3b0a')\"\n",
              "              title=\"Convert this dataframe to an interactive table.\"\n",
              "              style=\"display:none;\">\n",
              "        \n",
              "  <svg xmlns=\"http://www.w3.org/2000/svg\" height=\"24px\"viewBox=\"0 0 24 24\"\n",
              "       width=\"24px\">\n",
              "    <path d=\"M0 0h24v24H0V0z\" fill=\"none\"/>\n",
              "    <path d=\"M18.56 5.44l.94 2.06.94-2.06 2.06-.94-2.06-.94-.94-2.06-.94 2.06-2.06.94zm-11 1L8.5 8.5l.94-2.06 2.06-.94-2.06-.94L8.5 2.5l-.94 2.06-2.06.94zm10 10l.94 2.06.94-2.06 2.06-.94-2.06-.94-.94-2.06-.94 2.06-2.06.94z\"/><path d=\"M17.41 7.96l-1.37-1.37c-.4-.4-.92-.59-1.43-.59-.52 0-1.04.2-1.43.59L10.3 9.45l-7.72 7.72c-.78.78-.78 2.05 0 2.83L4 21.41c.39.39.9.59 1.41.59.51 0 1.02-.2 1.41-.59l7.78-7.78 2.81-2.81c.8-.78.8-2.07 0-2.86zM5.41 20L4 18.59l7.72-7.72 1.47 1.35L5.41 20z\"/>\n",
              "  </svg>\n",
              "      </button>\n",
              "      \n",
              "  <style>\n",
              "    .colab-df-container {\n",
              "      display:flex;\n",
              "      flex-wrap:wrap;\n",
              "      gap: 12px;\n",
              "    }\n",
              "\n",
              "    .colab-df-convert {\n",
              "      background-color: #E8F0FE;\n",
              "      border: none;\n",
              "      border-radius: 50%;\n",
              "      cursor: pointer;\n",
              "      display: none;\n",
              "      fill: #1967D2;\n",
              "      height: 32px;\n",
              "      padding: 0 0 0 0;\n",
              "      width: 32px;\n",
              "    }\n",
              "\n",
              "    .colab-df-convert:hover {\n",
              "      background-color: #E2EBFA;\n",
              "      box-shadow: 0px 1px 2px rgba(60, 64, 67, 0.3), 0px 1px 3px 1px rgba(60, 64, 67, 0.15);\n",
              "      fill: #174EA6;\n",
              "    }\n",
              "\n",
              "    [theme=dark] .colab-df-convert {\n",
              "      background-color: #3B4455;\n",
              "      fill: #D2E3FC;\n",
              "    }\n",
              "\n",
              "    [theme=dark] .colab-df-convert:hover {\n",
              "      background-color: #434B5C;\n",
              "      box-shadow: 0px 1px 3px 1px rgba(0, 0, 0, 0.15);\n",
              "      filter: drop-shadow(0px 1px 2px rgba(0, 0, 0, 0.3));\n",
              "      fill: #FFFFFF;\n",
              "    }\n",
              "  </style>\n",
              "\n",
              "      <script>\n",
              "        const buttonEl =\n",
              "          document.querySelector('#df-174450a1-f48d-4ca6-854a-3f934afe3b0a button.colab-df-convert');\n",
              "        buttonEl.style.display =\n",
              "          google.colab.kernel.accessAllowed ? 'block' : 'none';\n",
              "\n",
              "        async function convertToInteractive(key) {\n",
              "          const element = document.querySelector('#df-174450a1-f48d-4ca6-854a-3f934afe3b0a');\n",
              "          const dataTable =\n",
              "            await google.colab.kernel.invokeFunction('convertToInteractive',\n",
              "                                                     [key], {});\n",
              "          if (!dataTable) return;\n",
              "\n",
              "          const docLinkHtml = 'Like what you see? Visit the ' +\n",
              "            '<a target=\"_blank\" href=https://colab.research.google.com/notebooks/data_table.ipynb>data table notebook</a>'\n",
              "            + ' to learn more about interactive tables.';\n",
              "          element.innerHTML = '';\n",
              "          dataTable['output_type'] = 'display_data';\n",
              "          await google.colab.output.renderOutput(dataTable, element);\n",
              "          const docLink = document.createElement('div');\n",
              "          docLink.innerHTML = docLinkHtml;\n",
              "          element.appendChild(docLink);\n",
              "        }\n",
              "      </script>\n",
              "    </div>\n",
              "  </div>\n",
              "  "
            ]
          },
          "metadata": {},
          "execution_count": 41
        }
      ]
    },
    {
      "cell_type": "markdown",
      "source": [
        "## **Dummy models**"
      ],
      "metadata": {
        "id": "TyZBY3dM4Rq1"
      }
    },
    {
      "cell_type": "code",
      "source": [
        "from sklearn.dummy import DummyClassifier\n",
        "\n",
        "# Crear un clasificador dummy que prediga siempre la clase mayoritaria\n",
        "dummy = DummyClassifier(strategy='most_frequent')\n",
        "\n",
        "# Entrenar el clasificador\n",
        "dummy.fit(X_train, y_train)\n",
        "\n",
        "# Predecir valores para el conjunto de test\n",
        "y_pred = dummy.predict(X_test)\n",
        "\n",
        "# Usaremos las métricas balanced_accuracy_score, f1 y matríz de confusión.\n",
        "from sklearn.metrics import balanced_accuracy_score, f1_score, confusion_matrix\n",
        "\n",
        "# Calculamos las métricas.\n",
        "balanced_accuracy_dummy = balanced_accuracy_score(y_test, y_pred)\n",
        "f1_dummy = f1_score(y_test, y_pred)\n",
        "confusion_matrix_dummy = confusion_matrix(y_test, y_pred)\n",
        "\n",
        "print('\\n[bold yellow]Dummy classifier (most frequent class)[/bold yellow]')\n",
        "print(f'Balanced accuracy: {balanced_accuracy_dummy:.4f}')\n",
        "print(f'F1: {f1_dummy:.4f}')\n",
        "print(f'Confusion matrix:\\n{confusion_matrix_dummy}')"
      ],
      "metadata": {
        "id": "ptnBR-1u4Y6Y",
        "outputId": "660192e3-48fa-4db4-d235-7b29fffe2829",
        "colab": {
          "base_uri": "https://localhost:8080/",
          "height": 116
        }
      },
      "execution_count": 42,
      "outputs": [
        {
          "output_type": "display_data",
          "data": {
            "text/plain": [
              "\n",
              "\u001b[1;33mDummy classifier \u001b[0m\u001b[1;33m(\u001b[0m\u001b[1;33mmost frequent class\u001b[0m\u001b[1;33m)\u001b[0m\n"
            ],
            "text/html": [
              "<pre style=\"white-space:pre;overflow-x:auto;line-height:normal;font-family:Menlo,'DejaVu Sans Mono',consolas,'Courier New',monospace\">\n",
              "<span style=\"color: #808000; text-decoration-color: #808000; font-weight: bold\">Dummy classifier (most frequent class)</span>\n",
              "</pre>\n"
            ]
          },
          "metadata": {}
        },
        {
          "output_type": "display_data",
          "data": {
            "text/plain": [
              "Balanced accuracy: \u001b[1;36m0.5000\u001b[0m\n"
            ],
            "text/html": [
              "<pre style=\"white-space:pre;overflow-x:auto;line-height:normal;font-family:Menlo,'DejaVu Sans Mono',consolas,'Courier New',monospace\">Balanced accuracy: <span style=\"color: #008080; text-decoration-color: #008080; font-weight: bold\">0.5000</span>\n",
              "</pre>\n"
            ]
          },
          "metadata": {}
        },
        {
          "output_type": "display_data",
          "data": {
            "text/plain": [
              "F1: \u001b[1;36m0.0000\u001b[0m\n"
            ],
            "text/html": [
              "<pre style=\"white-space:pre;overflow-x:auto;line-height:normal;font-family:Menlo,'DejaVu Sans Mono',consolas,'Courier New',monospace\">F1: <span style=\"color: #008080; text-decoration-color: #008080; font-weight: bold\">0.0000</span>\n",
              "</pre>\n"
            ]
          },
          "metadata": {}
        },
        {
          "output_type": "display_data",
          "data": {
            "text/plain": [
              "Confusion matrix:\n",
              "\u001b[1m[\u001b[0m\u001b[1m[\u001b[0m\u001b[1;36m740\u001b[0m   \u001b[1;36m0\u001b[0m\u001b[1m]\u001b[0m\n",
              " \u001b[1m[\u001b[0m\u001b[1;36m142\u001b[0m   \u001b[1;36m0\u001b[0m\u001b[1m]\u001b[0m\u001b[1m]\u001b[0m\n"
            ],
            "text/html": [
              "<pre style=\"white-space:pre;overflow-x:auto;line-height:normal;font-family:Menlo,'DejaVu Sans Mono',consolas,'Courier New',monospace\">Confusion matrix:\n",
              "<span style=\"font-weight: bold\">[[</span><span style=\"color: #008080; text-decoration-color: #008080; font-weight: bold\">740</span>   <span style=\"color: #008080; text-decoration-color: #008080; font-weight: bold\">0</span><span style=\"font-weight: bold\">]</span>\n",
              " <span style=\"font-weight: bold\">[</span><span style=\"color: #008080; text-decoration-color: #008080; font-weight: bold\">142</span>   <span style=\"color: #008080; text-decoration-color: #008080; font-weight: bold\">0</span><span style=\"font-weight: bold\">]]</span>\n",
              "</pre>\n"
            ]
          },
          "metadata": {}
        }
      ]
    },
    {
      "cell_type": "markdown",
      "source": [
        "## **LogisticRegression**\n",
        "Para comenzar, usaremos **LogisticRegression** como método base sin realizar ajuste de hiper-parámetros."
      ],
      "metadata": {
        "id": "7NTYvIddCAgV"
      }
    },
    {
      "cell_type": "code",
      "source": [
        "from sklearn.linear_model import LogisticRegression\n",
        "\n",
        "# Creamos el modelo.\n",
        "model = LogisticRegression(random_state=13, solver='liblinear', class_weight='balanced')\n",
        "\n",
        "# Lo entrenamos.\n",
        "model.fit(X_train, y_train)\n",
        "\n",
        "# Predecimos sobre el conjunto de test.\n",
        "y_pred = model.predict(X_test)\n",
        "\n",
        "# Calculamos las métricas.\n",
        "balanced_accuracy = balanced_accuracy_score(y_test, y_pred)\n",
        "f1 = f1_score(y_test, y_pred)\n",
        "conf_matrix = confusion_matrix(y_test, y_pred)\n",
        "\n",
        "print('\\n[bold yellow]Logistic regression[/bold yellow]')\n",
        "print(f'Balanced accuracy: {balanced_accuracy:.4f}')\n",
        "print(f'F1: {f1:.4f}')\n",
        "print(f'Confusion matrix:\\n{conf_matrix}')"
      ],
      "metadata": {
        "colab": {
          "base_uri": "https://localhost:8080/",
          "height": 116
        },
        "id": "zv2cGSzLCPbH",
        "outputId": "1acbf31a-6de3-41a4-aaa2-072b486bae91"
      },
      "execution_count": 43,
      "outputs": [
        {
          "output_type": "display_data",
          "data": {
            "text/plain": [
              "\n",
              "\u001b[1;33mLogistic regression\u001b[0m\n"
            ],
            "text/html": [
              "<pre style=\"white-space:pre;overflow-x:auto;line-height:normal;font-family:Menlo,'DejaVu Sans Mono',consolas,'Courier New',monospace\">\n",
              "<span style=\"color: #808000; text-decoration-color: #808000; font-weight: bold\">Logistic regression</span>\n",
              "</pre>\n"
            ]
          },
          "metadata": {}
        },
        {
          "output_type": "display_data",
          "data": {
            "text/plain": [
              "Balanced accuracy: \u001b[1;36m0.7266\u001b[0m\n"
            ],
            "text/html": [
              "<pre style=\"white-space:pre;overflow-x:auto;line-height:normal;font-family:Menlo,'DejaVu Sans Mono',consolas,'Courier New',monospace\">Balanced accuracy: <span style=\"color: #008080; text-decoration-color: #008080; font-weight: bold\">0.7266</span>\n",
              "</pre>\n"
            ]
          },
          "metadata": {}
        },
        {
          "output_type": "display_data",
          "data": {
            "text/plain": [
              "F1: \u001b[1;36m0.4654\u001b[0m\n"
            ],
            "text/html": [
              "<pre style=\"white-space:pre;overflow-x:auto;line-height:normal;font-family:Menlo,'DejaVu Sans Mono',consolas,'Courier New',monospace\">F1: <span style=\"color: #008080; text-decoration-color: #008080; font-weight: bold\">0.4654</span>\n",
              "</pre>\n"
            ]
          },
          "metadata": {}
        },
        {
          "output_type": "display_data",
          "data": {
            "text/plain": [
              "Confusion matrix:\n",
              "\u001b[1m[\u001b[0m\u001b[1m[\u001b[0m\u001b[1;36m549\u001b[0m \u001b[1;36m191\u001b[0m\u001b[1m]\u001b[0m\n",
              " \u001b[1m[\u001b[0m \u001b[1;36m41\u001b[0m \u001b[1;36m101\u001b[0m\u001b[1m]\u001b[0m\u001b[1m]\u001b[0m\n"
            ],
            "text/html": [
              "<pre style=\"white-space:pre;overflow-x:auto;line-height:normal;font-family:Menlo,'DejaVu Sans Mono',consolas,'Courier New',monospace\">Confusion matrix:\n",
              "<span style=\"font-weight: bold\">[[</span><span style=\"color: #008080; text-decoration-color: #008080; font-weight: bold\">549</span> <span style=\"color: #008080; text-decoration-color: #008080; font-weight: bold\">191</span><span style=\"font-weight: bold\">]</span>\n",
              " <span style=\"font-weight: bold\">[</span> <span style=\"color: #008080; text-decoration-color: #008080; font-weight: bold\">41</span> <span style=\"color: #008080; text-decoration-color: #008080; font-weight: bold\">101</span><span style=\"font-weight: bold\">]]</span>\n",
              "</pre>\n"
            ]
          },
          "metadata": {}
        }
      ]
    },
    {
      "cell_type": "markdown",
      "source": [
        "Las métricas de evaluación usadas y sus resultados son:\n",
        "\n",
        "+ **Balanced accuracy**: Es una métrica que toma en cuenta el desbalanceo de las clases en la variable de salida. En este caso, el valor obtenido es de 0.5000, lo que significa que el modelo no ha logrado aprender a distinguir entre las clases de manera efectiva.\n",
        "\n",
        "+ **F1-score**: Es una medida que combina la precisión y el recall (sensibilidad) de la clasificación binaria. En este caso, el valor obtenido es de 0.0000, lo que indica que el modelo no ha logrado identificar correctamente ninguna de las observaciones de la clase positiva.\n",
        "\n",
        "+ **Confusion matrix**: Es una matriz de 2x2 que resume las predicciones del modelo en términos de verdaderos positivos (TP), verdaderos negativos (TN), falsos positivos (FP) y falsos negativos (FN). En este caso, el modelo ha clasificado correctamente todos los casos de la clase negativa (TN=740), pero no ha logrado identificar correctamente ninguno de los casos de la clase positiva (TP=0, FN=142)."
      ],
      "metadata": {
        "id": "cbozTL8EC6eB"
      }
    },
    {
      "cell_type": "markdown",
      "source": [
        "## **Boosting**"
      ],
      "metadata": {
        "id": "97JbYeOzG32-"
      }
    },
    {
      "cell_type": "markdown",
      "source": [
        "### **Boosting sin ajuste de hiper-parámetros**"
      ],
      "metadata": {
        "id": "8XVdT19crCGJ"
      }
    },
    {
      "cell_type": "code",
      "source": [
        "# Importamos todas las implementaciones de boosting que vamos a probar.\n",
        "from sklearn.ensemble import AdaBoostClassifier, GradientBoostingClassifier, HistGradientBoostingClassifier\n",
        "\n",
        "# Librerias externas (extra).\n",
        "from xgboost import XGBClassifier\n",
        "from lightgbm import LGBMClassifier\n",
        "\n",
        "# Importamos time.\n",
        "import time\n",
        "\n",
        "# Creamos un diccionario con los modelos que vamos a evaluar.\n",
        "modelos = {\n",
        "    'AdaBoost': AdaBoostClassifier(random_state=13),\n",
        "    'Gradient Boosting': GradientBoostingClassifier(random_state=13),\n",
        "    'XGBoost': XGBClassifier(random_state=13),\n",
        "    'LightGBM': LGBMClassifier(random_state=13, class_weight='balanced'),\n",
        "}\n",
        "\n",
        "\n",
        "# Creamos una función para evaluar los modelos.\n",
        "def evaluar_modelos(models, X_train, y_train, X_test, y_test):\n",
        "    # Creamos un diccionario para guardar los resultados.\n",
        "    resultados = {}\n",
        "\n",
        "    # Iteramos sobre los modelos.\n",
        "    for nombre_modelo, modelo in models.items():\n",
        "        #print(f'Evaluando modelo: {nombre_modelo}')\n",
        "\n",
        "        # Entrenamos el modelo.\n",
        "        start = time.time()\n",
        "        modelo.fit(X_train, y_train)\n",
        "        end = time.time()\n",
        "        tiempo = end - start\n",
        "\n",
        "        # Predecimos sobre el conjunto de test.\n",
        "        y_pred = modelo.predict(X_test)\n",
        "\n",
        "        # Calculamos las métricas.\n",
        "        balanced_accuracy = balanced_accuracy_score(y_test, y_pred)\n",
        "        f1 = f1_score(y_test, y_pred)\n",
        "        conf_matrix = confusion_matrix(y_test, y_pred)\n",
        "\n",
        "        # Guardamos los resultados.\n",
        "        resultados[nombre_modelo] = {\n",
        "            'tiempo': tiempo,\n",
        "            'model': modelo,\n",
        "            'balanced_accuracy': balanced_accuracy,\n",
        "            'f1': f1,\n",
        "            'confusion_matrix': conf_matrix\n",
        "        }\n",
        "\n",
        "    return resultados\n",
        "\n",
        "print('\\n[bold yellow]Boosting sin ajuste de hiper-parámetros[/bold yellow]')\n",
        "\n",
        "# Evaluamos los modelos.\n",
        "resultados = evaluar_modelos(modelos, X_train, y_train, X_test, y_test)\n",
        "\n",
        "# Mostramos los resultados.\n",
        "for nombre_modelo, resultado in resultados.items():\n",
        "    print(f'[blue]Modelo: {nombre_modelo}[/blue]')\n",
        "    print(f'Tiempo de ejecución: {resultado[\"tiempo\"]:.5f} segundos')\n",
        "    print(f'Balanced accuracy: {resultado[\"balanced_accuracy\"]:.4f}')\n",
        "    print(f'F1: {resultado[\"f1\"]:.4f}')\n",
        "    print(f'Confusion matrix:\\n{resultado[\"confusion_matrix\"]}\\n')"
      ],
      "metadata": {
        "colab": {
          "base_uri": "https://localhost:8080/",
          "height": 562
        },
        "id": "lk9B3MxFG5oX",
        "outputId": "0277a3ab-f4dc-4814-f63f-8dd25dd1e8d0"
      },
      "execution_count": 44,
      "outputs": [
        {
          "output_type": "display_data",
          "data": {
            "text/plain": [
              "\n",
              "\u001b[1;33mBoosting sin ajuste de hiper-parámetros\u001b[0m\n"
            ],
            "text/html": [
              "<pre style=\"white-space:pre;overflow-x:auto;line-height:normal;font-family:Menlo,'DejaVu Sans Mono',consolas,'Courier New',monospace\">\n",
              "<span style=\"color: #808000; text-decoration-color: #808000; font-weight: bold\">Boosting sin ajuste de hiper-parámetros</span>\n",
              "</pre>\n"
            ]
          },
          "metadata": {}
        },
        {
          "output_type": "display_data",
          "data": {
            "text/plain": [
              "\u001b[34mModelo: AdaBoost\u001b[0m\n"
            ],
            "text/html": [
              "<pre style=\"white-space:pre;overflow-x:auto;line-height:normal;font-family:Menlo,'DejaVu Sans Mono',consolas,'Courier New',monospace\"><span style=\"color: #000080; text-decoration-color: #000080\">Modelo: AdaBoost</span>\n",
              "</pre>\n"
            ]
          },
          "metadata": {}
        },
        {
          "output_type": "display_data",
          "data": {
            "text/plain": [
              "Tiempo de ejecución: \u001b[1;36m0.37186\u001b[0m segundos\n"
            ],
            "text/html": [
              "<pre style=\"white-space:pre;overflow-x:auto;line-height:normal;font-family:Menlo,'DejaVu Sans Mono',consolas,'Courier New',monospace\">Tiempo de ejecución: <span style=\"color: #008080; text-decoration-color: #008080; font-weight: bold\">0.37186</span> segundos\n",
              "</pre>\n"
            ]
          },
          "metadata": {}
        },
        {
          "output_type": "display_data",
          "data": {
            "text/plain": [
              "Balanced accuracy: \u001b[1;36m0.6097\u001b[0m\n"
            ],
            "text/html": [
              "<pre style=\"white-space:pre;overflow-x:auto;line-height:normal;font-family:Menlo,'DejaVu Sans Mono',consolas,'Courier New',monospace\">Balanced accuracy: <span style=\"color: #008080; text-decoration-color: #008080; font-weight: bold\">0.6097</span>\n",
              "</pre>\n"
            ]
          },
          "metadata": {}
        },
        {
          "output_type": "display_data",
          "data": {
            "text/plain": [
              "F1: \u001b[1;36m0.3553\u001b[0m\n"
            ],
            "text/html": [
              "<pre style=\"white-space:pre;overflow-x:auto;line-height:normal;font-family:Menlo,'DejaVu Sans Mono',consolas,'Courier New',monospace\">F1: <span style=\"color: #008080; text-decoration-color: #008080; font-weight: bold\">0.3553</span>\n",
              "</pre>\n"
            ]
          },
          "metadata": {}
        },
        {
          "output_type": "display_data",
          "data": {
            "text/plain": [
              "Confusion matrix:\n",
              "\u001b[1m[\u001b[0m\u001b[1m[\u001b[0m\u001b[1;36m720\u001b[0m  \u001b[1;36m20\u001b[0m\u001b[1m]\u001b[0m\n",
              " \u001b[1m[\u001b[0m\u001b[1;36m107\u001b[0m  \u001b[1;36m35\u001b[0m\u001b[1m]\u001b[0m\u001b[1m]\u001b[0m\n",
              "\n"
            ],
            "text/html": [
              "<pre style=\"white-space:pre;overflow-x:auto;line-height:normal;font-family:Menlo,'DejaVu Sans Mono',consolas,'Courier New',monospace\">Confusion matrix:\n",
              "<span style=\"font-weight: bold\">[[</span><span style=\"color: #008080; text-decoration-color: #008080; font-weight: bold\">720</span>  <span style=\"color: #008080; text-decoration-color: #008080; font-weight: bold\">20</span><span style=\"font-weight: bold\">]</span>\n",
              " <span style=\"font-weight: bold\">[</span><span style=\"color: #008080; text-decoration-color: #008080; font-weight: bold\">107</span>  <span style=\"color: #008080; text-decoration-color: #008080; font-weight: bold\">35</span><span style=\"font-weight: bold\">]]</span>\n",
              "\n",
              "</pre>\n"
            ]
          },
          "metadata": {}
        },
        {
          "output_type": "display_data",
          "data": {
            "text/plain": [
              "\u001b[34mModelo: Gradient Boosting\u001b[0m\n"
            ],
            "text/html": [
              "<pre style=\"white-space:pre;overflow-x:auto;line-height:normal;font-family:Menlo,'DejaVu Sans Mono',consolas,'Courier New',monospace\"><span style=\"color: #000080; text-decoration-color: #000080\">Modelo: Gradient Boosting</span>\n",
              "</pre>\n"
            ]
          },
          "metadata": {}
        },
        {
          "output_type": "display_data",
          "data": {
            "text/plain": [
              "Tiempo de ejecución: \u001b[1;36m1.20869\u001b[0m segundos\n"
            ],
            "text/html": [
              "<pre style=\"white-space:pre;overflow-x:auto;line-height:normal;font-family:Menlo,'DejaVu Sans Mono',consolas,'Courier New',monospace\">Tiempo de ejecución: <span style=\"color: #008080; text-decoration-color: #008080; font-weight: bold\">1.20869</span> segundos\n",
              "</pre>\n"
            ]
          },
          "metadata": {}
        },
        {
          "output_type": "display_data",
          "data": {
            "text/plain": [
              "Balanced accuracy: \u001b[1;36m0.6123\u001b[0m\n"
            ],
            "text/html": [
              "<pre style=\"white-space:pre;overflow-x:auto;line-height:normal;font-family:Menlo,'DejaVu Sans Mono',consolas,'Courier New',monospace\">Balanced accuracy: <span style=\"color: #008080; text-decoration-color: #008080; font-weight: bold\">0.6123</span>\n",
              "</pre>\n"
            ]
          },
          "metadata": {}
        },
        {
          "output_type": "display_data",
          "data": {
            "text/plain": [
              "F1: \u001b[1;36m0.3636\u001b[0m\n"
            ],
            "text/html": [
              "<pre style=\"white-space:pre;overflow-x:auto;line-height:normal;font-family:Menlo,'DejaVu Sans Mono',consolas,'Courier New',monospace\">F1: <span style=\"color: #008080; text-decoration-color: #008080; font-weight: bold\">0.3636</span>\n",
              "</pre>\n"
            ]
          },
          "metadata": {}
        },
        {
          "output_type": "display_data",
          "data": {
            "text/plain": [
              "Confusion matrix:\n",
              "\u001b[1m[\u001b[0m\u001b[1m[\u001b[0m\u001b[1;36m729\u001b[0m  \u001b[1;36m11\u001b[0m\u001b[1m]\u001b[0m\n",
              " \u001b[1m[\u001b[0m\u001b[1;36m108\u001b[0m  \u001b[1;36m34\u001b[0m\u001b[1m]\u001b[0m\u001b[1m]\u001b[0m\n",
              "\n"
            ],
            "text/html": [
              "<pre style=\"white-space:pre;overflow-x:auto;line-height:normal;font-family:Menlo,'DejaVu Sans Mono',consolas,'Courier New',monospace\">Confusion matrix:\n",
              "<span style=\"font-weight: bold\">[[</span><span style=\"color: #008080; text-decoration-color: #008080; font-weight: bold\">729</span>  <span style=\"color: #008080; text-decoration-color: #008080; font-weight: bold\">11</span><span style=\"font-weight: bold\">]</span>\n",
              " <span style=\"font-weight: bold\">[</span><span style=\"color: #008080; text-decoration-color: #008080; font-weight: bold\">108</span>  <span style=\"color: #008080; text-decoration-color: #008080; font-weight: bold\">34</span><span style=\"font-weight: bold\">]]</span>\n",
              "\n",
              "</pre>\n"
            ]
          },
          "metadata": {}
        },
        {
          "output_type": "display_data",
          "data": {
            "text/plain": [
              "\u001b[34mModelo: XGBoost\u001b[0m\n"
            ],
            "text/html": [
              "<pre style=\"white-space:pre;overflow-x:auto;line-height:normal;font-family:Menlo,'DejaVu Sans Mono',consolas,'Courier New',monospace\"><span style=\"color: #000080; text-decoration-color: #000080\">Modelo: XGBoost</span>\n",
              "</pre>\n"
            ]
          },
          "metadata": {}
        },
        {
          "output_type": "display_data",
          "data": {
            "text/plain": [
              "Tiempo de ejecución: \u001b[1;36m1.01058\u001b[0m segundos\n"
            ],
            "text/html": [
              "<pre style=\"white-space:pre;overflow-x:auto;line-height:normal;font-family:Menlo,'DejaVu Sans Mono',consolas,'Courier New',monospace\">Tiempo de ejecución: <span style=\"color: #008080; text-decoration-color: #008080; font-weight: bold\">1.01058</span> segundos\n",
              "</pre>\n"
            ]
          },
          "metadata": {}
        },
        {
          "output_type": "display_data",
          "data": {
            "text/plain": [
              "Balanced accuracy: \u001b[1;36m0.8170\u001b[0m\n"
            ],
            "text/html": [
              "<pre style=\"white-space:pre;overflow-x:auto;line-height:normal;font-family:Menlo,'DejaVu Sans Mono',consolas,'Courier New',monospace\">Balanced accuracy: <span style=\"color: #008080; text-decoration-color: #008080; font-weight: bold\">0.8170</span>\n",
              "</pre>\n"
            ]
          },
          "metadata": {}
        },
        {
          "output_type": "display_data",
          "data": {
            "text/plain": [
              "F1: \u001b[1;36m0.7647\u001b[0m\n"
            ],
            "text/html": [
              "<pre style=\"white-space:pre;overflow-x:auto;line-height:normal;font-family:Menlo,'DejaVu Sans Mono',consolas,'Courier New',monospace\">F1: <span style=\"color: #008080; text-decoration-color: #008080; font-weight: bold\">0.7647</span>\n",
              "</pre>\n"
            ]
          },
          "metadata": {}
        },
        {
          "output_type": "display_data",
          "data": {
            "text/plain": [
              "Confusion matrix:\n",
              "\u001b[1m[\u001b[0m\u001b[1m[\u001b[0m\u001b[1;36m735\u001b[0m   \u001b[1;36m5\u001b[0m\u001b[1m]\u001b[0m\n",
              " \u001b[1m[\u001b[0m \u001b[1;36m51\u001b[0m  \u001b[1;36m91\u001b[0m\u001b[1m]\u001b[0m\u001b[1m]\u001b[0m\n",
              "\n"
            ],
            "text/html": [
              "<pre style=\"white-space:pre;overflow-x:auto;line-height:normal;font-family:Menlo,'DejaVu Sans Mono',consolas,'Courier New',monospace\">Confusion matrix:\n",
              "<span style=\"font-weight: bold\">[[</span><span style=\"color: #008080; text-decoration-color: #008080; font-weight: bold\">735</span>   <span style=\"color: #008080; text-decoration-color: #008080; font-weight: bold\">5</span><span style=\"font-weight: bold\">]</span>\n",
              " <span style=\"font-weight: bold\">[</span> <span style=\"color: #008080; text-decoration-color: #008080; font-weight: bold\">51</span>  <span style=\"color: #008080; text-decoration-color: #008080; font-weight: bold\">91</span><span style=\"font-weight: bold\">]]</span>\n",
              "\n",
              "</pre>\n"
            ]
          },
          "metadata": {}
        },
        {
          "output_type": "display_data",
          "data": {
            "text/plain": [
              "\u001b[34mModelo: LightGBM\u001b[0m\n"
            ],
            "text/html": [
              "<pre style=\"white-space:pre;overflow-x:auto;line-height:normal;font-family:Menlo,'DejaVu Sans Mono',consolas,'Courier New',monospace\"><span style=\"color: #000080; text-decoration-color: #000080\">Modelo: LightGBM</span>\n",
              "</pre>\n"
            ]
          },
          "metadata": {}
        },
        {
          "output_type": "display_data",
          "data": {
            "text/plain": [
              "Tiempo de ejecución: \u001b[1;36m0.17302\u001b[0m segundos\n"
            ],
            "text/html": [
              "<pre style=\"white-space:pre;overflow-x:auto;line-height:normal;font-family:Menlo,'DejaVu Sans Mono',consolas,'Courier New',monospace\">Tiempo de ejecución: <span style=\"color: #008080; text-decoration-color: #008080; font-weight: bold\">0.17302</span> segundos\n",
              "</pre>\n"
            ]
          },
          "metadata": {}
        },
        {
          "output_type": "display_data",
          "data": {
            "text/plain": [
              "Balanced accuracy: \u001b[1;36m0.8719\u001b[0m\n"
            ],
            "text/html": [
              "<pre style=\"white-space:pre;overflow-x:auto;line-height:normal;font-family:Menlo,'DejaVu Sans Mono',consolas,'Courier New',monospace\">Balanced accuracy: <span style=\"color: #008080; text-decoration-color: #008080; font-weight: bold\">0.8719</span>\n",
              "</pre>\n"
            ]
          },
          "metadata": {}
        },
        {
          "output_type": "display_data",
          "data": {
            "text/plain": [
              "F1: \u001b[1;36m0.7900\u001b[0m\n"
            ],
            "text/html": [
              "<pre style=\"white-space:pre;overflow-x:auto;line-height:normal;font-family:Menlo,'DejaVu Sans Mono',consolas,'Courier New',monospace\">F1: <span style=\"color: #008080; text-decoration-color: #008080; font-weight: bold\">0.7900</span>\n",
              "</pre>\n"
            ]
          },
          "metadata": {}
        },
        {
          "output_type": "display_data",
          "data": {
            "text/plain": [
              "Confusion matrix:\n",
              "\u001b[1m[\u001b[0m\u001b[1m[\u001b[0m\u001b[1;36m712\u001b[0m  \u001b[1;36m28\u001b[0m\u001b[1m]\u001b[0m\n",
              " \u001b[1m[\u001b[0m \u001b[1;36m31\u001b[0m \u001b[1;36m111\u001b[0m\u001b[1m]\u001b[0m\u001b[1m]\u001b[0m\n",
              "\n"
            ],
            "text/html": [
              "<pre style=\"white-space:pre;overflow-x:auto;line-height:normal;font-family:Menlo,'DejaVu Sans Mono',consolas,'Courier New',monospace\">Confusion matrix:\n",
              "<span style=\"font-weight: bold\">[[</span><span style=\"color: #008080; text-decoration-color: #008080; font-weight: bold\">712</span>  <span style=\"color: #008080; text-decoration-color: #008080; font-weight: bold\">28</span><span style=\"font-weight: bold\">]</span>\n",
              " <span style=\"font-weight: bold\">[</span> <span style=\"color: #008080; text-decoration-color: #008080; font-weight: bold\">31</span> <span style=\"color: #008080; text-decoration-color: #008080; font-weight: bold\">111</span><span style=\"font-weight: bold\">]]</span>\n",
              "\n",
              "</pre>\n"
            ]
          },
          "metadata": {}
        }
      ]
    },
    {
      "cell_type": "markdown",
      "source": [
        "### **Boosting con ajuste de hiper-parámetros**"
      ],
      "metadata": {
        "id": "Tg3-XiXhrNvW"
      }
    },
    {
      "cell_type": "code",
      "source": [
        "# Importamos la clase StratifiedKFold para realizar validación cruzada estratificada.\n",
        "from sklearn.model_selection import StratifiedKFold\n",
        "\n",
        "# Importamos GridSearchCV para realizar búsqueda de hiper-parámetros.\n",
        "from sklearn.model_selection import GridSearchCV\n",
        "\n",
        "# StandardScaler para escalar los datos.\n",
        "from sklearn.preprocessing import StandardScaler\n",
        "\n",
        "cv = StratifiedKFold(n_splits=5)\n",
        "\n",
        "# Creamos un diccionario con los parámetros que vamos a probar.\n",
        "parametros = {\n",
        "    'AdaBoost': {\n",
        "        'model__n_estimators': [50, 100, 200],\n",
        "        'model__learning_rate': [0.1, 0.5, 1.0],\n",
        "    },\n",
        "    'Gradient Boosting': {\n",
        "        'model__n_estimators': [50, 100, 200],\n",
        "        'model__learning_rate': [0.1, 0.5, 1.0],\n",
        "        'model__max_depth': [3, 5, 7],\n",
        "    },\n",
        "    'XGBoost': {\n",
        "        'model__n_estimators': [50, 100, 200],\n",
        "        'model__learning_rate': [0.1, 0.5, 1.0],\n",
        "        'model__max_depth': [3, 5, 7],\n",
        "    },\n",
        "    'LightGBM': {\n",
        "        'model__n_estimators': [50, 100, 200],\n",
        "        'model__learning_rate': [0.1, 0.5, 1.0],\n",
        "        'model__max_depth': [3, 5, 7],\n",
        "    }\n",
        "}\n",
        "\n",
        "modelos_ajustados = {}\n",
        "\n",
        "# Creamos una función para evaluar y ajustar los modelos.\n",
        "def ajustar_evaluar_modelos(modelos, parametros, X_train, y_train, X_test, y_test, cv):\n",
        "    # Creamos un diccionario para guardar los resultados.\n",
        "    resultados = {}\n",
        "\n",
        "    # Iteramos sobre los modelos.\n",
        "    for nombre_modelo, modelo in modelos.items():\n",
        "        #print(f'Evaluando modelo: {nombre_modelo}')\n",
        "\n",
        "        # Definimos el pipeline.\n",
        "        pipeline = Pipeline([\n",
        "            ('scaler', StandardScaler()),\n",
        "            ('model', modelo)\n",
        "        ])\n",
        "\n",
        "        # Definimos la búsqueda por grid search con validación cruzada.\n",
        "        grid = GridSearchCV(\n",
        "            pipeline,\n",
        "            parametros[nombre_modelo],\n",
        "            cv=cv,\n",
        "            scoring='balanced_accuracy',\n",
        "            n_jobs=-1,\n",
        "            verbose=1\n",
        "        )\n",
        "\n",
        "        # Entrenamos el modelo.\n",
        "        start = time.time()\n",
        "        grid.fit(X_train, y_train)\n",
        "        end = time.time()\n",
        "        tiempo = end - start     \n",
        "\n",
        "        # Predecimos sobre el conjunto de test.\n",
        "        y_pred = grid.predict(X_test)\n",
        "\n",
        "        # Calculamos las métricas.\n",
        "        balanced_accuracy = balanced_accuracy_score(y_test, y_pred)\n",
        "        f1 = f1_score(y_test, y_pred)\n",
        "        conf_matrix = confusion_matrix(y_test, y_pred)\n",
        "\n",
        "        # Guardamos los resultados.\n",
        "        resultados[nombre_modelo] = {\n",
        "            'tiempo': tiempo,\n",
        "            'model': grid.best_estimator_,\n",
        "            'best_params': grid.best_params_,\n",
        "            'balanced_accuracy': balanced_accuracy,\n",
        "            'f1': f1,\n",
        "            'confusion_matrix': conf_matrix\n",
        "        }\n",
        "\n",
        "    return resultados\n",
        "\n",
        "print('\\n[bold yellow]Boosting con ajuste de hiper-parámetros[/bold yellow]')\n",
        "\n",
        "# Evaluamos los modelos con ajuste de hiperparámetros.\n",
        "resultados_ajuste = ajustar_evaluar_modelos(modelos, parametros, X_train, y_train, X_test, y_test, cv)\n",
        "\n",
        "# Mostramos los resultados.\n",
        "for nombre_modelo, resultado in resultados_ajuste.items():\n",
        "    print(f'[blue]Modelo: {nombre_modelo}[/blue]')\n",
        "    print(f'Parámetros: {resultado[\"best_params\"]}')\n",
        "    print(f'Tiempo de ejecución: {resultado[\"tiempo\"]:.5f} segundos')\n",
        "    print(f'Balanced accuracy: {resultado[\"balanced_accuracy\"]:.4f}')\n",
        "    print(f'F1: {resultado[\"f1\"]:.4f}')\n",
        "    print(f'Confusion matrix:\\n{resultado[\"confusion_matrix\"]}\\n')"
      ],
      "metadata": {
        "colab": {
          "base_uri": "https://localhost:8080/",
          "height": 699
        },
        "id": "S7KEETR80B0T",
        "outputId": "9ffb6336-7ba6-4e63-8947-74a1fa46e722"
      },
      "execution_count": 45,
      "outputs": [
        {
          "output_type": "display_data",
          "data": {
            "text/plain": [
              "\n",
              "\u001b[1;33mBoosting con ajuste de hiper-parámetros\u001b[0m\n"
            ],
            "text/html": [
              "<pre style=\"white-space:pre;overflow-x:auto;line-height:normal;font-family:Menlo,'DejaVu Sans Mono',consolas,'Courier New',monospace\">\n",
              "<span style=\"color: #808000; text-decoration-color: #808000; font-weight: bold\">Boosting con ajuste de hiper-parámetros</span>\n",
              "</pre>\n"
            ]
          },
          "metadata": {}
        },
        {
          "output_type": "stream",
          "name": "stdout",
          "text": [
            "Fitting 5 folds for each of 9 candidates, totalling 45 fits\n",
            "Fitting 5 folds for each of 27 candidates, totalling 135 fits\n",
            "Fitting 5 folds for each of 27 candidates, totalling 135 fits\n",
            "Fitting 5 folds for each of 27 candidates, totalling 135 fits\n"
          ]
        },
        {
          "output_type": "display_data",
          "data": {
            "text/plain": [
              "\u001b[34mModelo: AdaBoost\u001b[0m\n"
            ],
            "text/html": [
              "<pre style=\"white-space:pre;overflow-x:auto;line-height:normal;font-family:Menlo,'DejaVu Sans Mono',consolas,'Courier New',monospace\"><span style=\"color: #000080; text-decoration-color: #000080\">Modelo: AdaBoost</span>\n",
              "</pre>\n"
            ]
          },
          "metadata": {}
        },
        {
          "output_type": "display_data",
          "data": {
            "text/plain": [
              "Parámetros: \u001b[1m{\u001b[0m\u001b[32m'model__learning_rate'\u001b[0m: \u001b[1;36m1.0\u001b[0m, \u001b[32m'model__n_estimators'\u001b[0m: \u001b[1;36m200\u001b[0m\u001b[1m}\u001b[0m\n"
            ],
            "text/html": [
              "<pre style=\"white-space:pre;overflow-x:auto;line-height:normal;font-family:Menlo,'DejaVu Sans Mono',consolas,'Courier New',monospace\">Parámetros: <span style=\"font-weight: bold\">{</span><span style=\"color: #008000; text-decoration-color: #008000\">'model__learning_rate'</span>: <span style=\"color: #008080; text-decoration-color: #008080; font-weight: bold\">1.0</span>, <span style=\"color: #008000; text-decoration-color: #008000\">'model__n_estimators'</span>: <span style=\"color: #008080; text-decoration-color: #008080; font-weight: bold\">200</span><span style=\"font-weight: bold\">}</span>\n",
              "</pre>\n"
            ]
          },
          "metadata": {}
        },
        {
          "output_type": "display_data",
          "data": {
            "text/plain": [
              "Tiempo de ejecución: \u001b[1;36m32.85281\u001b[0m segundos\n"
            ],
            "text/html": [
              "<pre style=\"white-space:pre;overflow-x:auto;line-height:normal;font-family:Menlo,'DejaVu Sans Mono',consolas,'Courier New',monospace\">Tiempo de ejecución: <span style=\"color: #008080; text-decoration-color: #008080; font-weight: bold\">32.85281</span> segundos\n",
              "</pre>\n"
            ]
          },
          "metadata": {}
        },
        {
          "output_type": "display_data",
          "data": {
            "text/plain": [
              "Balanced accuracy: \u001b[1;36m0.6536\u001b[0m\n"
            ],
            "text/html": [
              "<pre style=\"white-space:pre;overflow-x:auto;line-height:normal;font-family:Menlo,'DejaVu Sans Mono',consolas,'Courier New',monospace\">Balanced accuracy: <span style=\"color: #008080; text-decoration-color: #008080; font-weight: bold\">0.6536</span>\n",
              "</pre>\n"
            ]
          },
          "metadata": {}
        },
        {
          "output_type": "display_data",
          "data": {
            "text/plain": [
              "F1: \u001b[1;36m0.4475\u001b[0m\n"
            ],
            "text/html": [
              "<pre style=\"white-space:pre;overflow-x:auto;line-height:normal;font-family:Menlo,'DejaVu Sans Mono',consolas,'Courier New',monospace\">F1: <span style=\"color: #008080; text-decoration-color: #008080; font-weight: bold\">0.4475</span>\n",
              "</pre>\n"
            ]
          },
          "metadata": {}
        },
        {
          "output_type": "display_data",
          "data": {
            "text/plain": [
              "Confusion matrix:\n",
              "\u001b[1m[\u001b[0m\u001b[1m[\u001b[0m\u001b[1;36m712\u001b[0m  \u001b[1;36m28\u001b[0m\u001b[1m]\u001b[0m\n",
              " \u001b[1m[\u001b[0m \u001b[1;36m93\u001b[0m  \u001b[1;36m49\u001b[0m\u001b[1m]\u001b[0m\u001b[1m]\u001b[0m\n",
              "\n"
            ],
            "text/html": [
              "<pre style=\"white-space:pre;overflow-x:auto;line-height:normal;font-family:Menlo,'DejaVu Sans Mono',consolas,'Courier New',monospace\">Confusion matrix:\n",
              "<span style=\"font-weight: bold\">[[</span><span style=\"color: #008080; text-decoration-color: #008080; font-weight: bold\">712</span>  <span style=\"color: #008080; text-decoration-color: #008080; font-weight: bold\">28</span><span style=\"font-weight: bold\">]</span>\n",
              " <span style=\"font-weight: bold\">[</span> <span style=\"color: #008080; text-decoration-color: #008080; font-weight: bold\">93</span>  <span style=\"color: #008080; text-decoration-color: #008080; font-weight: bold\">49</span><span style=\"font-weight: bold\">]]</span>\n",
              "\n",
              "</pre>\n"
            ]
          },
          "metadata": {}
        },
        {
          "output_type": "display_data",
          "data": {
            "text/plain": [
              "\u001b[34mModelo: Gradient Boosting\u001b[0m\n"
            ],
            "text/html": [
              "<pre style=\"white-space:pre;overflow-x:auto;line-height:normal;font-family:Menlo,'DejaVu Sans Mono',consolas,'Courier New',monospace\"><span style=\"color: #000080; text-decoration-color: #000080\">Modelo: Gradient Boosting</span>\n",
              "</pre>\n"
            ]
          },
          "metadata": {}
        },
        {
          "output_type": "display_data",
          "data": {
            "text/plain": [
              "Parámetros: \u001b[1m{\u001b[0m\u001b[32m'model__learning_rate'\u001b[0m: \u001b[1;36m0.5\u001b[0m, \u001b[32m'model__max_depth'\u001b[0m: \u001b[1;36m5\u001b[0m, \u001b[32m'model__n_estimators'\u001b[0m: \u001b[1;36m200\u001b[0m\u001b[1m}\u001b[0m\n"
            ],
            "text/html": [
              "<pre style=\"white-space:pre;overflow-x:auto;line-height:normal;font-family:Menlo,'DejaVu Sans Mono',consolas,'Courier New',monospace\">Parámetros: <span style=\"font-weight: bold\">{</span><span style=\"color: #008000; text-decoration-color: #008000\">'model__learning_rate'</span>: <span style=\"color: #008080; text-decoration-color: #008080; font-weight: bold\">0.5</span>, <span style=\"color: #008000; text-decoration-color: #008000\">'model__max_depth'</span>: <span style=\"color: #008080; text-decoration-color: #008080; font-weight: bold\">5</span>, <span style=\"color: #008000; text-decoration-color: #008000\">'model__n_estimators'</span>: <span style=\"color: #008080; text-decoration-color: #008080; font-weight: bold\">200</span><span style=\"font-weight: bold\">}</span>\n",
              "</pre>\n"
            ]
          },
          "metadata": {}
        },
        {
          "output_type": "display_data",
          "data": {
            "text/plain": [
              "Tiempo de ejecución: \u001b[1;36m204.50679\u001b[0m segundos\n"
            ],
            "text/html": [
              "<pre style=\"white-space:pre;overflow-x:auto;line-height:normal;font-family:Menlo,'DejaVu Sans Mono',consolas,'Courier New',monospace\">Tiempo de ejecución: <span style=\"color: #008080; text-decoration-color: #008080; font-weight: bold\">204.50679</span> segundos\n",
              "</pre>\n"
            ]
          },
          "metadata": {}
        },
        {
          "output_type": "display_data",
          "data": {
            "text/plain": [
              "Balanced accuracy: \u001b[1;36m0.8606\u001b[0m\n"
            ],
            "text/html": [
              "<pre style=\"white-space:pre;overflow-x:auto;line-height:normal;font-family:Menlo,'DejaVu Sans Mono',consolas,'Courier New',monospace\">Balanced accuracy: <span style=\"color: #008080; text-decoration-color: #008080; font-weight: bold\">0.8606</span>\n",
              "</pre>\n"
            ]
          },
          "metadata": {}
        },
        {
          "output_type": "display_data",
          "data": {
            "text/plain": [
              "F1: \u001b[1;36m0.8306\u001b[0m\n"
            ],
            "text/html": [
              "<pre style=\"white-space:pre;overflow-x:auto;line-height:normal;font-family:Menlo,'DejaVu Sans Mono',consolas,'Courier New',monospace\">F1: <span style=\"color: #008080; text-decoration-color: #008080; font-weight: bold\">0.8306</span>\n",
              "</pre>\n"
            ]
          },
          "metadata": {}
        },
        {
          "output_type": "display_data",
          "data": {
            "text/plain": [
              "Confusion matrix:\n",
              "\u001b[1m[\u001b[0m\u001b[1m[\u001b[0m\u001b[1;36m737\u001b[0m   \u001b[1;36m3\u001b[0m\u001b[1m]\u001b[0m\n",
              " \u001b[1m[\u001b[0m \u001b[1;36m39\u001b[0m \u001b[1;36m103\u001b[0m\u001b[1m]\u001b[0m\u001b[1m]\u001b[0m\n",
              "\n"
            ],
            "text/html": [
              "<pre style=\"white-space:pre;overflow-x:auto;line-height:normal;font-family:Menlo,'DejaVu Sans Mono',consolas,'Courier New',monospace\">Confusion matrix:\n",
              "<span style=\"font-weight: bold\">[[</span><span style=\"color: #008080; text-decoration-color: #008080; font-weight: bold\">737</span>   <span style=\"color: #008080; text-decoration-color: #008080; font-weight: bold\">3</span><span style=\"font-weight: bold\">]</span>\n",
              " <span style=\"font-weight: bold\">[</span> <span style=\"color: #008080; text-decoration-color: #008080; font-weight: bold\">39</span> <span style=\"color: #008080; text-decoration-color: #008080; font-weight: bold\">103</span><span style=\"font-weight: bold\">]]</span>\n",
              "\n",
              "</pre>\n"
            ]
          },
          "metadata": {}
        },
        {
          "output_type": "display_data",
          "data": {
            "text/plain": [
              "\u001b[34mModelo: XGBoost\u001b[0m\n"
            ],
            "text/html": [
              "<pre style=\"white-space:pre;overflow-x:auto;line-height:normal;font-family:Menlo,'DejaVu Sans Mono',consolas,'Courier New',monospace\"><span style=\"color: #000080; text-decoration-color: #000080\">Modelo: XGBoost</span>\n",
              "</pre>\n"
            ]
          },
          "metadata": {}
        },
        {
          "output_type": "display_data",
          "data": {
            "text/plain": [
              "Parámetros: \u001b[1m{\u001b[0m\u001b[32m'model__learning_rate'\u001b[0m: \u001b[1;36m0.5\u001b[0m, \u001b[32m'model__max_depth'\u001b[0m: \u001b[1;36m7\u001b[0m, \u001b[32m'model__n_estimators'\u001b[0m: \u001b[1;36m200\u001b[0m\u001b[1m}\u001b[0m\n"
            ],
            "text/html": [
              "<pre style=\"white-space:pre;overflow-x:auto;line-height:normal;font-family:Menlo,'DejaVu Sans Mono',consolas,'Courier New',monospace\">Parámetros: <span style=\"font-weight: bold\">{</span><span style=\"color: #008000; text-decoration-color: #008000\">'model__learning_rate'</span>: <span style=\"color: #008080; text-decoration-color: #008080; font-weight: bold\">0.5</span>, <span style=\"color: #008000; text-decoration-color: #008000\">'model__max_depth'</span>: <span style=\"color: #008080; text-decoration-color: #008080; font-weight: bold\">7</span>, <span style=\"color: #008000; text-decoration-color: #008000\">'model__n_estimators'</span>: <span style=\"color: #008080; text-decoration-color: #008080; font-weight: bold\">200</span><span style=\"font-weight: bold\">}</span>\n",
              "</pre>\n"
            ]
          },
          "metadata": {}
        },
        {
          "output_type": "display_data",
          "data": {
            "text/plain": [
              "Tiempo de ejecución: \u001b[1;36m107.11430\u001b[0m segundos\n"
            ],
            "text/html": [
              "<pre style=\"white-space:pre;overflow-x:auto;line-height:normal;font-family:Menlo,'DejaVu Sans Mono',consolas,'Courier New',monospace\">Tiempo de ejecución: <span style=\"color: #008080; text-decoration-color: #008080; font-weight: bold\">107.11430</span> segundos\n",
              "</pre>\n"
            ]
          },
          "metadata": {}
        },
        {
          "output_type": "display_data",
          "data": {
            "text/plain": [
              "Balanced accuracy: \u001b[1;36m0.8241\u001b[0m\n"
            ],
            "text/html": [
              "<pre style=\"white-space:pre;overflow-x:auto;line-height:normal;font-family:Menlo,'DejaVu Sans Mono',consolas,'Courier New',monospace\">Balanced accuracy: <span style=\"color: #008080; text-decoration-color: #008080; font-weight: bold\">0.8241</span>\n",
              "</pre>\n"
            ]
          },
          "metadata": {}
        },
        {
          "output_type": "display_data",
          "data": {
            "text/plain": [
              "F1: \u001b[1;36m0.7750\u001b[0m\n"
            ],
            "text/html": [
              "<pre style=\"white-space:pre;overflow-x:auto;line-height:normal;font-family:Menlo,'DejaVu Sans Mono',consolas,'Courier New',monospace\">F1: <span style=\"color: #008080; text-decoration-color: #008080; font-weight: bold\">0.7750</span>\n",
              "</pre>\n"
            ]
          },
          "metadata": {}
        },
        {
          "output_type": "display_data",
          "data": {
            "text/plain": [
              "Confusion matrix:\n",
              "\u001b[1m[\u001b[0m\u001b[1m[\u001b[0m\u001b[1;36m735\u001b[0m   \u001b[1;36m5\u001b[0m\u001b[1m]\u001b[0m\n",
              " \u001b[1m[\u001b[0m \u001b[1;36m49\u001b[0m  \u001b[1;36m93\u001b[0m\u001b[1m]\u001b[0m\u001b[1m]\u001b[0m\n",
              "\n"
            ],
            "text/html": [
              "<pre style=\"white-space:pre;overflow-x:auto;line-height:normal;font-family:Menlo,'DejaVu Sans Mono',consolas,'Courier New',monospace\">Confusion matrix:\n",
              "<span style=\"font-weight: bold\">[[</span><span style=\"color: #008080; text-decoration-color: #008080; font-weight: bold\">735</span>   <span style=\"color: #008080; text-decoration-color: #008080; font-weight: bold\">5</span><span style=\"font-weight: bold\">]</span>\n",
              " <span style=\"font-weight: bold\">[</span> <span style=\"color: #008080; text-decoration-color: #008080; font-weight: bold\">49</span>  <span style=\"color: #008080; text-decoration-color: #008080; font-weight: bold\">93</span><span style=\"font-weight: bold\">]]</span>\n",
              "\n",
              "</pre>\n"
            ]
          },
          "metadata": {}
        },
        {
          "output_type": "display_data",
          "data": {
            "text/plain": [
              "\u001b[34mModelo: LightGBM\u001b[0m\n"
            ],
            "text/html": [
              "<pre style=\"white-space:pre;overflow-x:auto;line-height:normal;font-family:Menlo,'DejaVu Sans Mono',consolas,'Courier New',monospace\"><span style=\"color: #000080; text-decoration-color: #000080\">Modelo: LightGBM</span>\n",
              "</pre>\n"
            ]
          },
          "metadata": {}
        },
        {
          "output_type": "display_data",
          "data": {
            "text/plain": [
              "Parámetros: \u001b[1m{\u001b[0m\u001b[32m'model__learning_rate'\u001b[0m: \u001b[1;36m0.1\u001b[0m, \u001b[32m'model__max_depth'\u001b[0m: \u001b[1;36m7\u001b[0m, \u001b[32m'model__n_estimators'\u001b[0m: \u001b[1;36m200\u001b[0m\u001b[1m}\u001b[0m\n"
            ],
            "text/html": [
              "<pre style=\"white-space:pre;overflow-x:auto;line-height:normal;font-family:Menlo,'DejaVu Sans Mono',consolas,'Courier New',monospace\">Parámetros: <span style=\"font-weight: bold\">{</span><span style=\"color: #008000; text-decoration-color: #008000\">'model__learning_rate'</span>: <span style=\"color: #008080; text-decoration-color: #008080; font-weight: bold\">0.1</span>, <span style=\"color: #008000; text-decoration-color: #008000\">'model__max_depth'</span>: <span style=\"color: #008080; text-decoration-color: #008080; font-weight: bold\">7</span>, <span style=\"color: #008000; text-decoration-color: #008000\">'model__n_estimators'</span>: <span style=\"color: #008080; text-decoration-color: #008080; font-weight: bold\">200</span><span style=\"font-weight: bold\">}</span>\n",
              "</pre>\n"
            ]
          },
          "metadata": {}
        },
        {
          "output_type": "display_data",
          "data": {
            "text/plain": [
              "Tiempo de ejecución: \u001b[1;36m19.65364\u001b[0m segundos\n"
            ],
            "text/html": [
              "<pre style=\"white-space:pre;overflow-x:auto;line-height:normal;font-family:Menlo,'DejaVu Sans Mono',consolas,'Courier New',monospace\">Tiempo de ejecución: <span style=\"color: #008080; text-decoration-color: #008080; font-weight: bold\">19.65364</span> segundos\n",
              "</pre>\n"
            ]
          },
          "metadata": {}
        },
        {
          "output_type": "display_data",
          "data": {
            "text/plain": [
              "Balanced accuracy: \u001b[1;36m0.8827\u001b[0m\n"
            ],
            "text/html": [
              "<pre style=\"white-space:pre;overflow-x:auto;line-height:normal;font-family:Menlo,'DejaVu Sans Mono',consolas,'Courier New',monospace\">Balanced accuracy: <span style=\"color: #008080; text-decoration-color: #008080; font-weight: bold\">0.8827</span>\n",
              "</pre>\n"
            ]
          },
          "metadata": {}
        },
        {
          "output_type": "display_data",
          "data": {
            "text/plain": [
              "F1: \u001b[1;36m0.8377\u001b[0m\n"
            ],
            "text/html": [
              "<pre style=\"white-space:pre;overflow-x:auto;line-height:normal;font-family:Menlo,'DejaVu Sans Mono',consolas,'Courier New',monospace\">F1: <span style=\"color: #008080; text-decoration-color: #008080; font-weight: bold\">0.8377</span>\n",
              "</pre>\n"
            ]
          },
          "metadata": {}
        },
        {
          "output_type": "display_data",
          "data": {
            "text/plain": [
              "Confusion matrix:\n",
              "\u001b[1m[\u001b[0m\u001b[1m[\u001b[0m\u001b[1;36m728\u001b[0m  \u001b[1;36m12\u001b[0m\u001b[1m]\u001b[0m\n",
              " \u001b[1m[\u001b[0m \u001b[1;36m31\u001b[0m \u001b[1;36m111\u001b[0m\u001b[1m]\u001b[0m\u001b[1m]\u001b[0m\n",
              "\n"
            ],
            "text/html": [
              "<pre style=\"white-space:pre;overflow-x:auto;line-height:normal;font-family:Menlo,'DejaVu Sans Mono',consolas,'Courier New',monospace\">Confusion matrix:\n",
              "<span style=\"font-weight: bold\">[[</span><span style=\"color: #008080; text-decoration-color: #008080; font-weight: bold\">728</span>  <span style=\"color: #008080; text-decoration-color: #008080; font-weight: bold\">12</span><span style=\"font-weight: bold\">]</span>\n",
              " <span style=\"font-weight: bold\">[</span> <span style=\"color: #008080; text-decoration-color: #008080; font-weight: bold\">31</span> <span style=\"color: #008080; text-decoration-color: #008080; font-weight: bold\">111</span><span style=\"font-weight: bold\">]]</span>\n",
              "\n",
              "</pre>\n"
            ]
          },
          "metadata": {}
        }
      ]
    },
    {
      "cell_type": "code",
      "source": [
        "modelos_ajustados=[AdaBoostClassifier(random_state=13, learning_rate=1.0, n_estimators=200),\n",
        "                   GradientBoostingClassifier(random_state=13, learning_rate=0.5, max_depth=5, n_estimators=200),\n",
        "                    XGBClassifier(random_state=13, learning_rate=0.5, max_depth=7, n_estimators=200),\n",
        "                    LGBMClassifier(random_state=13, learning_rate=0.1, max_depth=7, n_estimators=200, class_weight='balanced')\n",
        "                  ]"
      ],
      "metadata": {
        "id": "uYJYqryK8z7y"
      },
      "execution_count": 46,
      "outputs": []
    },
    {
      "cell_type": "markdown",
      "source": [
        "# **Mejora de resultados**"
      ],
      "metadata": {
        "id": "aQI9prJ9dWJt"
      }
    },
    {
      "cell_type": "markdown",
      "source": [
        "## **LogisticRegression**"
      ],
      "metadata": {
        "id": "cn4CsprwvR38"
      }
    },
    {
      "cell_type": "code",
      "source": [
        "# Importamos f_classif, mutual_info_classif y chi2.\n",
        "from sklearn.feature_selection import f_classif, mutual_info_classif, chi2\n",
        "\n",
        "# Importamos SelectKBest.\n",
        "from sklearn.feature_selection import SelectKBest\n",
        "\n",
        "def evaluar_modelos_seleccion_caracteristicas_LR(metrica):\n",
        "    # Creamos un selector de características usando metrica.\n",
        "    selector = SelectKBest(score_func=metrica, k=10)\n",
        "\n",
        "    # Aplicamos el selector sobre los datos de entrenamiento y prueba.\n",
        "    X_train_sel = selector.fit_transform(X_train, y_train)\n",
        "    X_test_sel = selector.transform(X_test)\n",
        "\n",
        "    # Obtener los puntajes de cada atributo.\n",
        "    scores = selector.scores_\n",
        "\n",
        "    # Crear una lista de tuplas que empareje cada nombre de atributo con su puntaje.\n",
        "    features_scores = list(zip(df.columns, scores))\n",
        "\n",
        "    # Ordenar la lista de mayor a menor según los puntajes.\n",
        "    features_scores = sorted(features_scores, key=lambda x: x[1], reverse=True)\n",
        "\n",
        "    # Imprimir los 5 atributos más importantes según metrica.\n",
        "    top_features = [feature[0] for feature in features_scores[:5]]\n",
        "    print(\"[green]Top 5 atributos más importantes:[/green]\")\n",
        "    for feature in top_features:\n",
        "      print(feature)\n",
        "\n",
        "    # Creamos un modelo de Regresión Logística y lo entrenamos con las características seleccionadas.\n",
        "    modelo = LogisticRegression(random_state=13, solver='liblinear', class_weight='balanced')\n",
        "\n",
        "    start = time.time()\n",
        "    modelo.fit(X_train_sel, y_train)\n",
        "    end = time.time()\n",
        "    tiempo = end - start\n",
        "\n",
        "    # Evaluamos el modelo con las características seleccionadas.\n",
        "    y_pred = modelo.predict(X_test_sel)\n",
        "    balanced_accuracy = balanced_accuracy_score(y_test, y_pred)\n",
        "    print(f\"\\n\\nBalanced accuracy con las características seleccionadas: {balanced_accuracy:.4f}\")\n",
        "    print(f'Tiempo de ejecución: {tiempo:.5f} segundos')\n",
        "\n",
        "print('\\n[bold yellow]Mejora de resultados LogisticRegression[/bold yellow]')\n",
        "\n",
        "metricas = [f_classif, mutual_info_classif, chi2]\n",
        "\n",
        "for metrica in metricas:\n",
        "    print(f'\\n\\n[blue]Metrica:[/blue] [bold blue]{metrica.__name__}[/bold blue]')\n",
        "    evaluar_modelos_seleccion_caracteristicas_LR(metrica)"
      ],
      "metadata": {
        "colab": {
          "base_uri": "https://localhost:8080/",
          "height": 578
        },
        "id": "n-mFKl_Uvau6",
        "outputId": "eeb841b4-86e3-4f39-adeb-80bba8f6a472"
      },
      "execution_count": 56,
      "outputs": [
        {
          "output_type": "display_data",
          "data": {
            "text/plain": [
              "\n",
              "\u001b[1;33mMejora de resultados LogisticRegression\u001b[0m\n"
            ],
            "text/html": [
              "<pre style=\"white-space:pre;overflow-x:auto;line-height:normal;font-family:Menlo,'DejaVu Sans Mono',consolas,'Courier New',monospace\">\n",
              "<span style=\"color: #808000; text-decoration-color: #808000; font-weight: bold\">Mejora de resultados LogisticRegression</span>\n",
              "</pre>\n"
            ]
          },
          "metadata": {}
        },
        {
          "output_type": "display_data",
          "data": {
            "text/plain": [
              "\n",
              "\n",
              "\u001b[34mMetrica:\u001b[0m \u001b[1;34mf_classif\u001b[0m\n"
            ],
            "text/html": [
              "<pre style=\"white-space:pre;overflow-x:auto;line-height:normal;font-family:Menlo,'DejaVu Sans Mono',consolas,'Courier New',monospace\">\n",
              "\n",
              "<span style=\"color: #000080; text-decoration-color: #000080\">Metrica:</span> <span style=\"color: #000080; text-decoration-color: #000080; font-weight: bold\">f_classif</span>\n",
              "</pre>\n"
            ]
          },
          "metadata": {}
        },
        {
          "output_type": "display_data",
          "data": {
            "text/plain": [
              "\u001b[32mTop \u001b[0m\u001b[1;32m5\u001b[0m\u001b[32m atributos más importantes:\u001b[0m\n"
            ],
            "text/html": [
              "<pre style=\"white-space:pre;overflow-x:auto;line-height:normal;font-family:Menlo,'DejaVu Sans Mono',consolas,'Courier New',monospace\"><span style=\"color: #008000; text-decoration-color: #008000\">Top </span><span style=\"color: #008000; text-decoration-color: #008000; font-weight: bold\">5</span><span style=\"color: #008000; text-decoration-color: #008000\"> atributos más importantes:</span>\n",
              "</pre>\n"
            ]
          },
          "metadata": {}
        },
        {
          "output_type": "display_data",
          "data": {
            "text/plain": [
              "hrs\n"
            ],
            "text/html": [
              "<pre style=\"white-space:pre;overflow-x:auto;line-height:normal;font-family:Menlo,'DejaVu Sans Mono',consolas,'Courier New',monospace\">hrs\n",
              "</pre>\n"
            ]
          },
          "metadata": {}
        },
        {
          "output_type": "display_data",
          "data": {
            "text/plain": [
              "Gender\n"
            ],
            "text/html": [
              "<pre style=\"white-space:pre;overflow-x:auto;line-height:normal;font-family:Menlo,'DejaVu Sans Mono',consolas,'Courier New',monospace\">Gender\n",
              "</pre>\n"
            ]
          },
          "metadata": {}
        },
        {
          "output_type": "display_data",
          "data": {
            "text/plain": [
              "MonthlyIncome\n"
            ],
            "text/html": [
              "<pre style=\"white-space:pre;overflow-x:auto;line-height:normal;font-family:Menlo,'DejaVu Sans Mono',consolas,'Courier New',monospace\">MonthlyIncome\n",
              "</pre>\n"
            ]
          },
          "metadata": {}
        },
        {
          "output_type": "display_data",
          "data": {
            "text/plain": [
              "Over18\n"
            ],
            "text/html": [
              "<pre style=\"white-space:pre;overflow-x:auto;line-height:normal;font-family:Menlo,'DejaVu Sans Mono',consolas,'Courier New',monospace\">Over18\n",
              "</pre>\n"
            ]
          },
          "metadata": {}
        },
        {
          "output_type": "display_data",
          "data": {
            "text/plain": [
              "Age\n"
            ],
            "text/html": [
              "<pre style=\"white-space:pre;overflow-x:auto;line-height:normal;font-family:Menlo,'DejaVu Sans Mono',consolas,'Courier New',monospace\">Age\n",
              "</pre>\n"
            ]
          },
          "metadata": {}
        },
        {
          "output_type": "display_data",
          "data": {
            "text/plain": [
              "\n",
              "\n",
              "Balanced accuracy con las características seleccionadas: \u001b[1;36m0.6852\u001b[0m\n"
            ],
            "text/html": [
              "<pre style=\"white-space:pre;overflow-x:auto;line-height:normal;font-family:Menlo,'DejaVu Sans Mono',consolas,'Courier New',monospace\">\n",
              "\n",
              "Balanced accuracy con las características seleccionadas: <span style=\"color: #008080; text-decoration-color: #008080; font-weight: bold\">0.6852</span>\n",
              "</pre>\n"
            ]
          },
          "metadata": {}
        },
        {
          "output_type": "display_data",
          "data": {
            "text/plain": [
              "Tiempo de ejecución: \u001b[1;36m0.02930\u001b[0m segundos\n"
            ],
            "text/html": [
              "<pre style=\"white-space:pre;overflow-x:auto;line-height:normal;font-family:Menlo,'DejaVu Sans Mono',consolas,'Courier New',monospace\">Tiempo de ejecución: <span style=\"color: #008080; text-decoration-color: #008080; font-weight: bold\">0.02930</span> segundos\n",
              "</pre>\n"
            ]
          },
          "metadata": {}
        },
        {
          "output_type": "display_data",
          "data": {
            "text/plain": [
              "\n",
              "\n",
              "\u001b[34mMetrica:\u001b[0m \u001b[1;34mmutual_info_classif\u001b[0m\n"
            ],
            "text/html": [
              "<pre style=\"white-space:pre;overflow-x:auto;line-height:normal;font-family:Menlo,'DejaVu Sans Mono',consolas,'Courier New',monospace\">\n",
              "\n",
              "<span style=\"color: #000080; text-decoration-color: #000080\">Metrica:</span> <span style=\"color: #000080; text-decoration-color: #000080; font-weight: bold\">mutual_info_classif</span>\n",
              "</pre>\n"
            ]
          },
          "metadata": {}
        },
        {
          "output_type": "display_data",
          "data": {
            "text/plain": [
              "\u001b[32mTop \u001b[0m\u001b[1;32m5\u001b[0m\u001b[32m atributos más importantes:\u001b[0m\n"
            ],
            "text/html": [
              "<pre style=\"white-space:pre;overflow-x:auto;line-height:normal;font-family:Menlo,'DejaVu Sans Mono',consolas,'Courier New',monospace\"><span style=\"color: #008000; text-decoration-color: #008000\">Top </span><span style=\"color: #008000; text-decoration-color: #008000; font-weight: bold\">5</span><span style=\"color: #008000; text-decoration-color: #008000\"> atributos más importantes:</span>\n",
              "</pre>\n"
            ]
          },
          "metadata": {}
        },
        {
          "output_type": "display_data",
          "data": {
            "text/plain": [
              "Education\n"
            ],
            "text/html": [
              "<pre style=\"white-space:pre;overflow-x:auto;line-height:normal;font-family:Menlo,'DejaVu Sans Mono',consolas,'Courier New',monospace\">Education\n",
              "</pre>\n"
            ]
          },
          "metadata": {}
        },
        {
          "output_type": "display_data",
          "data": {
            "text/plain": [
              "Age\n"
            ],
            "text/html": [
              "<pre style=\"white-space:pre;overflow-x:auto;line-height:normal;font-family:Menlo,'DejaVu Sans Mono',consolas,'Courier New',monospace\">Age\n",
              "</pre>\n"
            ]
          },
          "metadata": {}
        },
        {
          "output_type": "display_data",
          "data": {
            "text/plain": [
              "hrs\n"
            ],
            "text/html": [
              "<pre style=\"white-space:pre;overflow-x:auto;line-height:normal;font-family:Menlo,'DejaVu Sans Mono',consolas,'Courier New',monospace\">hrs\n",
              "</pre>\n"
            ]
          },
          "metadata": {}
        },
        {
          "output_type": "display_data",
          "data": {
            "text/plain": [
              "Gender\n"
            ],
            "text/html": [
              "<pre style=\"white-space:pre;overflow-x:auto;line-height:normal;font-family:Menlo,'DejaVu Sans Mono',consolas,'Courier New',monospace\">Gender\n",
              "</pre>\n"
            ]
          },
          "metadata": {}
        },
        {
          "output_type": "display_data",
          "data": {
            "text/plain": [
              "MonthlyIncome\n"
            ],
            "text/html": [
              "<pre style=\"white-space:pre;overflow-x:auto;line-height:normal;font-family:Menlo,'DejaVu Sans Mono',consolas,'Courier New',monospace\">MonthlyIncome\n",
              "</pre>\n"
            ]
          },
          "metadata": {}
        },
        {
          "output_type": "display_data",
          "data": {
            "text/plain": [
              "\n",
              "\n",
              "Balanced accuracy con las características seleccionadas: \u001b[1;36m0.6564\u001b[0m\n"
            ],
            "text/html": [
              "<pre style=\"white-space:pre;overflow-x:auto;line-height:normal;font-family:Menlo,'DejaVu Sans Mono',consolas,'Courier New',monospace\">\n",
              "\n",
              "Balanced accuracy con las características seleccionadas: <span style=\"color: #008080; text-decoration-color: #008080; font-weight: bold\">0.6564</span>\n",
              "</pre>\n"
            ]
          },
          "metadata": {}
        },
        {
          "output_type": "display_data",
          "data": {
            "text/plain": [
              "Tiempo de ejecución: \u001b[1;36m0.05274\u001b[0m segundos\n"
            ],
            "text/html": [
              "<pre style=\"white-space:pre;overflow-x:auto;line-height:normal;font-family:Menlo,'DejaVu Sans Mono',consolas,'Courier New',monospace\">Tiempo de ejecución: <span style=\"color: #008080; text-decoration-color: #008080; font-weight: bold\">0.05274</span> segundos\n",
              "</pre>\n"
            ]
          },
          "metadata": {}
        },
        {
          "output_type": "display_data",
          "data": {
            "text/plain": [
              "\n",
              "\n",
              "\u001b[34mMetrica:\u001b[0m \u001b[1;34mchi2\u001b[0m\n"
            ],
            "text/html": [
              "<pre style=\"white-space:pre;overflow-x:auto;line-height:normal;font-family:Menlo,'DejaVu Sans Mono',consolas,'Courier New',monospace\">\n",
              "\n",
              "<span style=\"color: #000080; text-decoration-color: #000080\">Metrica:</span> <span style=\"color: #000080; text-decoration-color: #000080; font-weight: bold\">chi2</span>\n",
              "</pre>\n"
            ]
          },
          "metadata": {}
        },
        {
          "output_type": "display_data",
          "data": {
            "text/plain": [
              "\u001b[32mTop \u001b[0m\u001b[1;32m5\u001b[0m\u001b[32m atributos más importantes:\u001b[0m\n"
            ],
            "text/html": [
              "<pre style=\"white-space:pre;overflow-x:auto;line-height:normal;font-family:Menlo,'DejaVu Sans Mono',consolas,'Courier New',monospace\"><span style=\"color: #008000; text-decoration-color: #008000\">Top </span><span style=\"color: #008000; text-decoration-color: #008000; font-weight: bold\">5</span><span style=\"color: #008000; text-decoration-color: #008000\"> atributos más importantes:</span>\n",
              "</pre>\n"
            ]
          },
          "metadata": {}
        },
        {
          "output_type": "display_data",
          "data": {
            "text/plain": [
              "Education\n"
            ],
            "text/html": [
              "<pre style=\"white-space:pre;overflow-x:auto;line-height:normal;font-family:Menlo,'DejaVu Sans Mono',consolas,'Courier New',monospace\">Education\n",
              "</pre>\n"
            ]
          },
          "metadata": {}
        },
        {
          "output_type": "display_data",
          "data": {
            "text/plain": [
              "Gender\n"
            ],
            "text/html": [
              "<pre style=\"white-space:pre;overflow-x:auto;line-height:normal;font-family:Menlo,'DejaVu Sans Mono',consolas,'Courier New',monospace\">Gender\n",
              "</pre>\n"
            ]
          },
          "metadata": {}
        },
        {
          "output_type": "display_data",
          "data": {
            "text/plain": [
              "JobRole\n"
            ],
            "text/html": [
              "<pre style=\"white-space:pre;overflow-x:auto;line-height:normal;font-family:Menlo,'DejaVu Sans Mono',consolas,'Courier New',monospace\">JobRole\n",
              "</pre>\n"
            ]
          },
          "metadata": {}
        },
        {
          "output_type": "display_data",
          "data": {
            "text/plain": [
              "MonthlyIncome\n"
            ],
            "text/html": [
              "<pre style=\"white-space:pre;overflow-x:auto;line-height:normal;font-family:Menlo,'DejaVu Sans Mono',consolas,'Courier New',monospace\">MonthlyIncome\n",
              "</pre>\n"
            ]
          },
          "metadata": {}
        },
        {
          "output_type": "display_data",
          "data": {
            "text/plain": [
              "Age\n"
            ],
            "text/html": [
              "<pre style=\"white-space:pre;overflow-x:auto;line-height:normal;font-family:Menlo,'DejaVu Sans Mono',consolas,'Courier New',monospace\">Age\n",
              "</pre>\n"
            ]
          },
          "metadata": {}
        },
        {
          "output_type": "display_data",
          "data": {
            "text/plain": [
              "\n",
              "\n",
              "Balanced accuracy con las características seleccionadas: \u001b[1;36m0.6612\u001b[0m\n"
            ],
            "text/html": [
              "<pre style=\"white-space:pre;overflow-x:auto;line-height:normal;font-family:Menlo,'DejaVu Sans Mono',consolas,'Courier New',monospace\">\n",
              "\n",
              "Balanced accuracy con las características seleccionadas: <span style=\"color: #008080; text-decoration-color: #008080; font-weight: bold\">0.6612</span>\n",
              "</pre>\n"
            ]
          },
          "metadata": {}
        },
        {
          "output_type": "display_data",
          "data": {
            "text/plain": [
              "Tiempo de ejecución: \u001b[1;36m0.08639\u001b[0m segundos\n"
            ],
            "text/html": [
              "<pre style=\"white-space:pre;overflow-x:auto;line-height:normal;font-family:Menlo,'DejaVu Sans Mono',consolas,'Courier New',monospace\">Tiempo de ejecución: <span style=\"color: #008080; text-decoration-color: #008080; font-weight: bold\">0.08639</span> segundos\n",
              "</pre>\n"
            ]
          },
          "metadata": {}
        }
      ]
    },
    {
      "cell_type": "markdown",
      "source": [
        "## **Boosting**"
      ],
      "metadata": {
        "id": "KZt1v4f0vWJ0"
      }
    },
    {
      "cell_type": "code",
      "source": [
        "def evaluar_modelos_seleccion_caracteristicas_boost(metrica, modelo):\n",
        "    # Seleccionar el método de selección de atributos.\n",
        "    selector = SelectKBest(score_func=metrica, k=10)\n",
        "\n",
        "    # Aplicar el selector sobre los datos de entrenamiento y prueba.\n",
        "    X_train_sel = selector.fit_transform(X_train, y_train)\n",
        "    X_test_sel = selector.transform(X_test)\n",
        "\n",
        "    # Crear y entrenar un modelo de AdaBoost con las características seleccionadas.\n",
        "    modelo.fit(X_train_sel, y_train)\n",
        "\n",
        "    # Evaluar el modelo con las características seleccionadas.\n",
        "    score = modelo.score(X_test_sel, y_test)\n",
        "\n",
        "    # Obtener los puntajes de importancia de características y ordenarlos de mayor a menor.\n",
        "    scores = selector.scores_\n",
        "    feature_scores = list(zip(df.columns, scores))\n",
        "    feature_scores = sorted(feature_scores, key=lambda x: x[1], reverse=True)\n",
        "\n",
        "    # Imprimir los 5 atributos más importantes según f_classif.\n",
        "    top_features = [feature[0] for feature in feature_scores[:5]]\n",
        "    print(\"[green]Top 5 atributos más importantes:[/green]\")\n",
        "    for feature in top_features:\n",
        "      print(feature)\n",
        "\n",
        "    start = time.time()\n",
        "    modelo.fit(X_train_sel, y_train)\n",
        "    end = time.time()\n",
        "    tiempo = end - start\n",
        "\n",
        "    # Evaluar el modelo con las características seleccionadas.\n",
        "    y_pred = modelo.predict(X_test_sel)\n",
        "    balanced_accuracy = balanced_accuracy_score(y_test, y_pred)\n",
        "    print(f\"\\n\\nBalanced accuracy con las características seleccionadas: {balanced_accuracy:.4f}\")\n",
        "    print(f'Tiempo de ejecución: {tiempo:.5f} segundos')\n",
        "\n",
        "print('\\n[bold yellow]Mejora de resultados Boosting[/bold yellow]')\n",
        "\n",
        "metricas = [f_classif, mutual_info_classif, chi2]\n",
        "\n",
        "print(\"\\n[bold red]Boosting sin ajustar[/bold red]\")\n",
        "for modelo in modelos.values():\n",
        "    print(f'\\nModelo: {type(modelo).__name__}')\n",
        "    for metrica in metricas:\n",
        "        print(f'\\n\\n[blue]Metrica:[/blue] [bold blue]{metrica.__name__}[/bold blue]')\n",
        "        evaluar_modelos_seleccion_caracteristicas_boost(metrica, modelo)\n",
        "\n",
        "print(\"\\n[bold red]Boosting ajustado[/bold red]\")\n",
        "for modelo in modelos_ajustados:\n",
        "    print(f'\\nModelo: {type(modelo).__name__}')\n",
        "    for metrica in metricas:\n",
        "        print(f'\\n\\n[blue]Metrica:[/blue] [bold blue]{metrica.__name__}[/bold blue]')\n",
        "        evaluar_modelos_seleccion_caracteristicas_boost(metrica, modelo)"
      ],
      "metadata": {
        "id": "ac43Fl2YdXlc",
        "colab": {
          "base_uri": "https://localhost:8080/",
          "height": 1000
        },
        "outputId": "bc3dbfff-830e-479b-fcd9-2346630ed853"
      },
      "execution_count": null,
      "outputs": [
        {
          "output_type": "display_data",
          "data": {
            "text/plain": [
              "\n",
              "\u001b[1;33mMejora de resultados Boosting\u001b[0m\n"
            ],
            "text/html": [
              "<pre style=\"white-space:pre;overflow-x:auto;line-height:normal;font-family:Menlo,'DejaVu Sans Mono',consolas,'Courier New',monospace\">\n",
              "<span style=\"color: #808000; text-decoration-color: #808000; font-weight: bold\">Mejora de resultados Boosting</span>\n",
              "</pre>\n"
            ]
          },
          "metadata": {}
        },
        {
          "output_type": "display_data",
          "data": {
            "text/plain": [
              "\u001b[1;31mBoosting sin ajustar\u001b[0m\n"
            ],
            "text/html": [
              "<pre style=\"white-space:pre;overflow-x:auto;line-height:normal;font-family:Menlo,'DejaVu Sans Mono',consolas,'Courier New',monospace\"><span style=\"color: #800000; text-decoration-color: #800000; font-weight: bold\">Boosting sin ajustar</span>\n",
              "</pre>\n"
            ]
          },
          "metadata": {}
        },
        {
          "output_type": "display_data",
          "data": {
            "text/plain": [
              "\n",
              "Modelo: AdaBoostClassifier\n"
            ],
            "text/html": [
              "<pre style=\"white-space:pre;overflow-x:auto;line-height:normal;font-family:Menlo,'DejaVu Sans Mono',consolas,'Courier New',monospace\">\n",
              "Modelo: AdaBoostClassifier\n",
              "</pre>\n"
            ]
          },
          "metadata": {}
        },
        {
          "output_type": "display_data",
          "data": {
            "text/plain": [
              "\n",
              "\n",
              "\u001b[34mMetrica:\u001b[0m \u001b[1;34mf_classif\u001b[0m\n"
            ],
            "text/html": [
              "<pre style=\"white-space:pre;overflow-x:auto;line-height:normal;font-family:Menlo,'DejaVu Sans Mono',consolas,'Courier New',monospace\">\n",
              "\n",
              "<span style=\"color: #000080; text-decoration-color: #000080\">Metrica:</span> <span style=\"color: #000080; text-decoration-color: #000080; font-weight: bold\">f_classif</span>\n",
              "</pre>\n"
            ]
          },
          "metadata": {}
        },
        {
          "output_type": "display_data",
          "data": {
            "text/plain": [
              "\u001b[32mTop \u001b[0m\u001b[1;32m5\u001b[0m\u001b[32m atributos más importantes:\u001b[0m\n"
            ],
            "text/html": [
              "<pre style=\"white-space:pre;overflow-x:auto;line-height:normal;font-family:Menlo,'DejaVu Sans Mono',consolas,'Courier New',monospace\"><span style=\"color: #008000; text-decoration-color: #008000\">Top </span><span style=\"color: #008000; text-decoration-color: #008000; font-weight: bold\">5</span><span style=\"color: #008000; text-decoration-color: #008000\"> atributos más importantes:</span>\n",
              "</pre>\n"
            ]
          },
          "metadata": {}
        },
        {
          "output_type": "display_data",
          "data": {
            "text/plain": [
              "hrs\n"
            ],
            "text/html": [
              "<pre style=\"white-space:pre;overflow-x:auto;line-height:normal;font-family:Menlo,'DejaVu Sans Mono',consolas,'Courier New',monospace\">hrs\n",
              "</pre>\n"
            ]
          },
          "metadata": {}
        },
        {
          "output_type": "display_data",
          "data": {
            "text/plain": [
              "Gender\n"
            ],
            "text/html": [
              "<pre style=\"white-space:pre;overflow-x:auto;line-height:normal;font-family:Menlo,'DejaVu Sans Mono',consolas,'Courier New',monospace\">Gender\n",
              "</pre>\n"
            ]
          },
          "metadata": {}
        },
        {
          "output_type": "display_data",
          "data": {
            "text/plain": [
              "MonthlyIncome\n"
            ],
            "text/html": [
              "<pre style=\"white-space:pre;overflow-x:auto;line-height:normal;font-family:Menlo,'DejaVu Sans Mono',consolas,'Courier New',monospace\">MonthlyIncome\n",
              "</pre>\n"
            ]
          },
          "metadata": {}
        },
        {
          "output_type": "display_data",
          "data": {
            "text/plain": [
              "Over18\n"
            ],
            "text/html": [
              "<pre style=\"white-space:pre;overflow-x:auto;line-height:normal;font-family:Menlo,'DejaVu Sans Mono',consolas,'Courier New',monospace\">Over18\n",
              "</pre>\n"
            ]
          },
          "metadata": {}
        },
        {
          "output_type": "display_data",
          "data": {
            "text/plain": [
              "Age\n"
            ],
            "text/html": [
              "<pre style=\"white-space:pre;overflow-x:auto;line-height:normal;font-family:Menlo,'DejaVu Sans Mono',consolas,'Courier New',monospace\">Age\n",
              "</pre>\n"
            ]
          },
          "metadata": {}
        },
        {
          "output_type": "display_data",
          "data": {
            "text/plain": [
              "\n",
              "\n",
              "Balanced accuracy con las características seleccionadas: \u001b[1;36m0.5985\u001b[0m\n"
            ],
            "text/html": [
              "<pre style=\"white-space:pre;overflow-x:auto;line-height:normal;font-family:Menlo,'DejaVu Sans Mono',consolas,'Courier New',monospace\">\n",
              "\n",
              "Balanced accuracy con las características seleccionadas: <span style=\"color: #008080; text-decoration-color: #008080; font-weight: bold\">0.5985</span>\n",
              "</pre>\n"
            ]
          },
          "metadata": {}
        },
        {
          "output_type": "display_data",
          "data": {
            "text/plain": [
              "Tiempo de ejecución: \u001b[1;36m0.30173\u001b[0m segundos\n"
            ],
            "text/html": [
              "<pre style=\"white-space:pre;overflow-x:auto;line-height:normal;font-family:Menlo,'DejaVu Sans Mono',consolas,'Courier New',monospace\">Tiempo de ejecución: <span style=\"color: #008080; text-decoration-color: #008080; font-weight: bold\">0.30173</span> segundos\n",
              "</pre>\n"
            ]
          },
          "metadata": {}
        },
        {
          "output_type": "display_data",
          "data": {
            "text/plain": [
              "\n",
              "\n",
              "\u001b[34mMetrica:\u001b[0m \u001b[1;34mmutual_info_classif\u001b[0m\n"
            ],
            "text/html": [
              "<pre style=\"white-space:pre;overflow-x:auto;line-height:normal;font-family:Menlo,'DejaVu Sans Mono',consolas,'Courier New',monospace\">\n",
              "\n",
              "<span style=\"color: #000080; text-decoration-color: #000080\">Metrica:</span> <span style=\"color: #000080; text-decoration-color: #000080; font-weight: bold\">mutual_info_classif</span>\n",
              "</pre>\n"
            ]
          },
          "metadata": {}
        },
        {
          "output_type": "display_data",
          "data": {
            "text/plain": [
              "\u001b[32mTop \u001b[0m\u001b[1;32m5\u001b[0m\u001b[32m atributos más importantes:\u001b[0m\n"
            ],
            "text/html": [
              "<pre style=\"white-space:pre;overflow-x:auto;line-height:normal;font-family:Menlo,'DejaVu Sans Mono',consolas,'Courier New',monospace\"><span style=\"color: #008000; text-decoration-color: #008000\">Top </span><span style=\"color: #008000; text-decoration-color: #008000; font-weight: bold\">5</span><span style=\"color: #008000; text-decoration-color: #008000\"> atributos más importantes:</span>\n",
              "</pre>\n"
            ]
          },
          "metadata": {}
        },
        {
          "output_type": "display_data",
          "data": {
            "text/plain": [
              "Education\n"
            ],
            "text/html": [
              "<pre style=\"white-space:pre;overflow-x:auto;line-height:normal;font-family:Menlo,'DejaVu Sans Mono',consolas,'Courier New',monospace\">Education\n",
              "</pre>\n"
            ]
          },
          "metadata": {}
        },
        {
          "output_type": "display_data",
          "data": {
            "text/plain": [
              "Age\n"
            ],
            "text/html": [
              "<pre style=\"white-space:pre;overflow-x:auto;line-height:normal;font-family:Menlo,'DejaVu Sans Mono',consolas,'Courier New',monospace\">Age\n",
              "</pre>\n"
            ]
          },
          "metadata": {}
        },
        {
          "output_type": "display_data",
          "data": {
            "text/plain": [
              "MonthlyIncome\n"
            ],
            "text/html": [
              "<pre style=\"white-space:pre;overflow-x:auto;line-height:normal;font-family:Menlo,'DejaVu Sans Mono',consolas,'Courier New',monospace\">MonthlyIncome\n",
              "</pre>\n"
            ]
          },
          "metadata": {}
        },
        {
          "output_type": "display_data",
          "data": {
            "text/plain": [
              "Gender\n"
            ],
            "text/html": [
              "<pre style=\"white-space:pre;overflow-x:auto;line-height:normal;font-family:Menlo,'DejaVu Sans Mono',consolas,'Courier New',monospace\">Gender\n",
              "</pre>\n"
            ]
          },
          "metadata": {}
        },
        {
          "output_type": "display_data",
          "data": {
            "text/plain": [
              "hrs\n"
            ],
            "text/html": [
              "<pre style=\"white-space:pre;overflow-x:auto;line-height:normal;font-family:Menlo,'DejaVu Sans Mono',consolas,'Courier New',monospace\">hrs\n",
              "</pre>\n"
            ]
          },
          "metadata": {}
        },
        {
          "output_type": "display_data",
          "data": {
            "text/plain": [
              "\n",
              "\n",
              "Balanced accuracy con las características seleccionadas: \u001b[1;36m0.5849\u001b[0m\n"
            ],
            "text/html": [
              "<pre style=\"white-space:pre;overflow-x:auto;line-height:normal;font-family:Menlo,'DejaVu Sans Mono',consolas,'Courier New',monospace\">\n",
              "\n",
              "Balanced accuracy con las características seleccionadas: <span style=\"color: #008080; text-decoration-color: #008080; font-weight: bold\">0.5849</span>\n",
              "</pre>\n"
            ]
          },
          "metadata": {}
        },
        {
          "output_type": "display_data",
          "data": {
            "text/plain": [
              "Tiempo de ejecución: \u001b[1;36m0.29818\u001b[0m segundos\n"
            ],
            "text/html": [
              "<pre style=\"white-space:pre;overflow-x:auto;line-height:normal;font-family:Menlo,'DejaVu Sans Mono',consolas,'Courier New',monospace\">Tiempo de ejecución: <span style=\"color: #008080; text-decoration-color: #008080; font-weight: bold\">0.29818</span> segundos\n",
              "</pre>\n"
            ]
          },
          "metadata": {}
        },
        {
          "output_type": "display_data",
          "data": {
            "text/plain": [
              "\n",
              "\n",
              "\u001b[34mMetrica:\u001b[0m \u001b[1;34mchi2\u001b[0m\n"
            ],
            "text/html": [
              "<pre style=\"white-space:pre;overflow-x:auto;line-height:normal;font-family:Menlo,'DejaVu Sans Mono',consolas,'Courier New',monospace\">\n",
              "\n",
              "<span style=\"color: #000080; text-decoration-color: #000080\">Metrica:</span> <span style=\"color: #000080; text-decoration-color: #000080; font-weight: bold\">chi2</span>\n",
              "</pre>\n"
            ]
          },
          "metadata": {}
        },
        {
          "output_type": "display_data",
          "data": {
            "text/plain": [
              "\u001b[32mTop \u001b[0m\u001b[1;32m5\u001b[0m\u001b[32m atributos más importantes:\u001b[0m\n"
            ],
            "text/html": [
              "<pre style=\"white-space:pre;overflow-x:auto;line-height:normal;font-family:Menlo,'DejaVu Sans Mono',consolas,'Courier New',monospace\"><span style=\"color: #008000; text-decoration-color: #008000\">Top </span><span style=\"color: #008000; text-decoration-color: #008000; font-weight: bold\">5</span><span style=\"color: #008000; text-decoration-color: #008000\"> atributos más importantes:</span>\n",
              "</pre>\n"
            ]
          },
          "metadata": {}
        },
        {
          "output_type": "display_data",
          "data": {
            "text/plain": [
              "Education\n"
            ],
            "text/html": [
              "<pre style=\"white-space:pre;overflow-x:auto;line-height:normal;font-family:Menlo,'DejaVu Sans Mono',consolas,'Courier New',monospace\">Education\n",
              "</pre>\n"
            ]
          },
          "metadata": {}
        },
        {
          "output_type": "display_data",
          "data": {
            "text/plain": [
              "Gender\n"
            ],
            "text/html": [
              "<pre style=\"white-space:pre;overflow-x:auto;line-height:normal;font-family:Menlo,'DejaVu Sans Mono',consolas,'Courier New',monospace\">Gender\n",
              "</pre>\n"
            ]
          },
          "metadata": {}
        },
        {
          "output_type": "display_data",
          "data": {
            "text/plain": [
              "JobRole\n"
            ],
            "text/html": [
              "<pre style=\"white-space:pre;overflow-x:auto;line-height:normal;font-family:Menlo,'DejaVu Sans Mono',consolas,'Courier New',monospace\">JobRole\n",
              "</pre>\n"
            ]
          },
          "metadata": {}
        },
        {
          "output_type": "display_data",
          "data": {
            "text/plain": [
              "MonthlyIncome\n"
            ],
            "text/html": [
              "<pre style=\"white-space:pre;overflow-x:auto;line-height:normal;font-family:Menlo,'DejaVu Sans Mono',consolas,'Courier New',monospace\">MonthlyIncome\n",
              "</pre>\n"
            ]
          },
          "metadata": {}
        },
        {
          "output_type": "display_data",
          "data": {
            "text/plain": [
              "Age\n"
            ],
            "text/html": [
              "<pre style=\"white-space:pre;overflow-x:auto;line-height:normal;font-family:Menlo,'DejaVu Sans Mono',consolas,'Courier New',monospace\">Age\n",
              "</pre>\n"
            ]
          },
          "metadata": {}
        },
        {
          "output_type": "display_data",
          "data": {
            "text/plain": [
              "\n",
              "\n",
              "Balanced accuracy con las características seleccionadas: \u001b[1;36m0.5935\u001b[0m\n"
            ],
            "text/html": [
              "<pre style=\"white-space:pre;overflow-x:auto;line-height:normal;font-family:Menlo,'DejaVu Sans Mono',consolas,'Courier New',monospace\">\n",
              "\n",
              "Balanced accuracy con las características seleccionadas: <span style=\"color: #008080; text-decoration-color: #008080; font-weight: bold\">0.5935</span>\n",
              "</pre>\n"
            ]
          },
          "metadata": {}
        },
        {
          "output_type": "display_data",
          "data": {
            "text/plain": [
              "Tiempo de ejecución: \u001b[1;36m0.21844\u001b[0m segundos\n"
            ],
            "text/html": [
              "<pre style=\"white-space:pre;overflow-x:auto;line-height:normal;font-family:Menlo,'DejaVu Sans Mono',consolas,'Courier New',monospace\">Tiempo de ejecución: <span style=\"color: #008080; text-decoration-color: #008080; font-weight: bold\">0.21844</span> segundos\n",
              "</pre>\n"
            ]
          },
          "metadata": {}
        },
        {
          "output_type": "display_data",
          "data": {
            "text/plain": [
              "\n",
              "Modelo: GradientBoostingClassifier\n"
            ],
            "text/html": [
              "<pre style=\"white-space:pre;overflow-x:auto;line-height:normal;font-family:Menlo,'DejaVu Sans Mono',consolas,'Courier New',monospace\">\n",
              "Modelo: GradientBoostingClassifier\n",
              "</pre>\n"
            ]
          },
          "metadata": {}
        },
        {
          "output_type": "display_data",
          "data": {
            "text/plain": [
              "\n",
              "\n",
              "\u001b[34mMetrica:\u001b[0m \u001b[1;34mf_classif\u001b[0m\n"
            ],
            "text/html": [
              "<pre style=\"white-space:pre;overflow-x:auto;line-height:normal;font-family:Menlo,'DejaVu Sans Mono',consolas,'Courier New',monospace\">\n",
              "\n",
              "<span style=\"color: #000080; text-decoration-color: #000080\">Metrica:</span> <span style=\"color: #000080; text-decoration-color: #000080; font-weight: bold\">f_classif</span>\n",
              "</pre>\n"
            ]
          },
          "metadata": {}
        },
        {
          "output_type": "display_data",
          "data": {
            "text/plain": [
              "\u001b[32mTop \u001b[0m\u001b[1;32m5\u001b[0m\u001b[32m atributos más importantes:\u001b[0m\n"
            ],
            "text/html": [
              "<pre style=\"white-space:pre;overflow-x:auto;line-height:normal;font-family:Menlo,'DejaVu Sans Mono',consolas,'Courier New',monospace\"><span style=\"color: #008000; text-decoration-color: #008000\">Top </span><span style=\"color: #008000; text-decoration-color: #008000; font-weight: bold\">5</span><span style=\"color: #008000; text-decoration-color: #008000\"> atributos más importantes:</span>\n",
              "</pre>\n"
            ]
          },
          "metadata": {}
        },
        {
          "output_type": "display_data",
          "data": {
            "text/plain": [
              "hrs\n"
            ],
            "text/html": [
              "<pre style=\"white-space:pre;overflow-x:auto;line-height:normal;font-family:Menlo,'DejaVu Sans Mono',consolas,'Courier New',monospace\">hrs\n",
              "</pre>\n"
            ]
          },
          "metadata": {}
        },
        {
          "output_type": "display_data",
          "data": {
            "text/plain": [
              "Gender\n"
            ],
            "text/html": [
              "<pre style=\"white-space:pre;overflow-x:auto;line-height:normal;font-family:Menlo,'DejaVu Sans Mono',consolas,'Courier New',monospace\">Gender\n",
              "</pre>\n"
            ]
          },
          "metadata": {}
        },
        {
          "output_type": "display_data",
          "data": {
            "text/plain": [
              "MonthlyIncome\n"
            ],
            "text/html": [
              "<pre style=\"white-space:pre;overflow-x:auto;line-height:normal;font-family:Menlo,'DejaVu Sans Mono',consolas,'Courier New',monospace\">MonthlyIncome\n",
              "</pre>\n"
            ]
          },
          "metadata": {}
        },
        {
          "output_type": "display_data",
          "data": {
            "text/plain": [
              "Over18\n"
            ],
            "text/html": [
              "<pre style=\"white-space:pre;overflow-x:auto;line-height:normal;font-family:Menlo,'DejaVu Sans Mono',consolas,'Courier New',monospace\">Over18\n",
              "</pre>\n"
            ]
          },
          "metadata": {}
        },
        {
          "output_type": "display_data",
          "data": {
            "text/plain": [
              "Age\n"
            ],
            "text/html": [
              "<pre style=\"white-space:pre;overflow-x:auto;line-height:normal;font-family:Menlo,'DejaVu Sans Mono',consolas,'Courier New',monospace\">Age\n",
              "</pre>\n"
            ]
          },
          "metadata": {}
        },
        {
          "output_type": "display_data",
          "data": {
            "text/plain": [
              "\n",
              "\n",
              "Balanced accuracy con las características seleccionadas: \u001b[1;36m0.5990\u001b[0m\n"
            ],
            "text/html": [
              "<pre style=\"white-space:pre;overflow-x:auto;line-height:normal;font-family:Menlo,'DejaVu Sans Mono',consolas,'Courier New',monospace\">\n",
              "\n",
              "Balanced accuracy con las características seleccionadas: <span style=\"color: #008080; text-decoration-color: #008080; font-weight: bold\">0.5990</span>\n",
              "</pre>\n"
            ]
          },
          "metadata": {}
        },
        {
          "output_type": "display_data",
          "data": {
            "text/plain": [
              "Tiempo de ejecución: \u001b[1;36m0.48051\u001b[0m segundos\n"
            ],
            "text/html": [
              "<pre style=\"white-space:pre;overflow-x:auto;line-height:normal;font-family:Menlo,'DejaVu Sans Mono',consolas,'Courier New',monospace\">Tiempo de ejecución: <span style=\"color: #008080; text-decoration-color: #008080; font-weight: bold\">0.48051</span> segundos\n",
              "</pre>\n"
            ]
          },
          "metadata": {}
        },
        {
          "output_type": "display_data",
          "data": {
            "text/plain": [
              "\n",
              "\n",
              "\u001b[34mMetrica:\u001b[0m \u001b[1;34mmutual_info_classif\u001b[0m\n"
            ],
            "text/html": [
              "<pre style=\"white-space:pre;overflow-x:auto;line-height:normal;font-family:Menlo,'DejaVu Sans Mono',consolas,'Courier New',monospace\">\n",
              "\n",
              "<span style=\"color: #000080; text-decoration-color: #000080\">Metrica:</span> <span style=\"color: #000080; text-decoration-color: #000080; font-weight: bold\">mutual_info_classif</span>\n",
              "</pre>\n"
            ]
          },
          "metadata": {}
        },
        {
          "output_type": "display_data",
          "data": {
            "text/plain": [
              "\u001b[32mTop \u001b[0m\u001b[1;32m5\u001b[0m\u001b[32m atributos más importantes:\u001b[0m\n"
            ],
            "text/html": [
              "<pre style=\"white-space:pre;overflow-x:auto;line-height:normal;font-family:Menlo,'DejaVu Sans Mono',consolas,'Courier New',monospace\"><span style=\"color: #008000; text-decoration-color: #008000\">Top </span><span style=\"color: #008000; text-decoration-color: #008000; font-weight: bold\">5</span><span style=\"color: #008000; text-decoration-color: #008000\"> atributos más importantes:</span>\n",
              "</pre>\n"
            ]
          },
          "metadata": {}
        },
        {
          "output_type": "display_data",
          "data": {
            "text/plain": [
              "Education\n"
            ],
            "text/html": [
              "<pre style=\"white-space:pre;overflow-x:auto;line-height:normal;font-family:Menlo,'DejaVu Sans Mono',consolas,'Courier New',monospace\">Education\n",
              "</pre>\n"
            ]
          },
          "metadata": {}
        },
        {
          "output_type": "display_data",
          "data": {
            "text/plain": [
              "Age\n"
            ],
            "text/html": [
              "<pre style=\"white-space:pre;overflow-x:auto;line-height:normal;font-family:Menlo,'DejaVu Sans Mono',consolas,'Courier New',monospace\">Age\n",
              "</pre>\n"
            ]
          },
          "metadata": {}
        },
        {
          "output_type": "display_data",
          "data": {
            "text/plain": [
              "Gender\n"
            ],
            "text/html": [
              "<pre style=\"white-space:pre;overflow-x:auto;line-height:normal;font-family:Menlo,'DejaVu Sans Mono',consolas,'Courier New',monospace\">Gender\n",
              "</pre>\n"
            ]
          },
          "metadata": {}
        },
        {
          "output_type": "display_data",
          "data": {
            "text/plain": [
              "JobRole\n"
            ],
            "text/html": [
              "<pre style=\"white-space:pre;overflow-x:auto;line-height:normal;font-family:Menlo,'DejaVu Sans Mono',consolas,'Courier New',monospace\">JobRole\n",
              "</pre>\n"
            ]
          },
          "metadata": {}
        },
        {
          "output_type": "display_data",
          "data": {
            "text/plain": [
              "hrs\n"
            ],
            "text/html": [
              "<pre style=\"white-space:pre;overflow-x:auto;line-height:normal;font-family:Menlo,'DejaVu Sans Mono',consolas,'Courier New',monospace\">hrs\n",
              "</pre>\n"
            ]
          },
          "metadata": {}
        },
        {
          "output_type": "display_data",
          "data": {
            "text/plain": [
              "\n",
              "\n",
              "Balanced accuracy con las características seleccionadas: \u001b[1;36m0.5918\u001b[0m\n"
            ],
            "text/html": [
              "<pre style=\"white-space:pre;overflow-x:auto;line-height:normal;font-family:Menlo,'DejaVu Sans Mono',consolas,'Courier New',monospace\">\n",
              "\n",
              "Balanced accuracy con las características seleccionadas: <span style=\"color: #008080; text-decoration-color: #008080; font-weight: bold\">0.5918</span>\n",
              "</pre>\n"
            ]
          },
          "metadata": {}
        },
        {
          "output_type": "display_data",
          "data": {
            "text/plain": [
              "Tiempo de ejecución: \u001b[1;36m0.54753\u001b[0m segundos\n"
            ],
            "text/html": [
              "<pre style=\"white-space:pre;overflow-x:auto;line-height:normal;font-family:Menlo,'DejaVu Sans Mono',consolas,'Courier New',monospace\">Tiempo de ejecución: <span style=\"color: #008080; text-decoration-color: #008080; font-weight: bold\">0.54753</span> segundos\n",
              "</pre>\n"
            ]
          },
          "metadata": {}
        },
        {
          "output_type": "display_data",
          "data": {
            "text/plain": [
              "\n",
              "\n",
              "\u001b[34mMetrica:\u001b[0m \u001b[1;34mchi2\u001b[0m\n"
            ],
            "text/html": [
              "<pre style=\"white-space:pre;overflow-x:auto;line-height:normal;font-family:Menlo,'DejaVu Sans Mono',consolas,'Courier New',monospace\">\n",
              "\n",
              "<span style=\"color: #000080; text-decoration-color: #000080\">Metrica:</span> <span style=\"color: #000080; text-decoration-color: #000080; font-weight: bold\">chi2</span>\n",
              "</pre>\n"
            ]
          },
          "metadata": {}
        },
        {
          "output_type": "display_data",
          "data": {
            "text/plain": [
              "\u001b[32mTop \u001b[0m\u001b[1;32m5\u001b[0m\u001b[32m atributos más importantes:\u001b[0m\n"
            ],
            "text/html": [
              "<pre style=\"white-space:pre;overflow-x:auto;line-height:normal;font-family:Menlo,'DejaVu Sans Mono',consolas,'Courier New',monospace\"><span style=\"color: #008000; text-decoration-color: #008000\">Top </span><span style=\"color: #008000; text-decoration-color: #008000; font-weight: bold\">5</span><span style=\"color: #008000; text-decoration-color: #008000\"> atributos más importantes:</span>\n",
              "</pre>\n"
            ]
          },
          "metadata": {}
        },
        {
          "output_type": "display_data",
          "data": {
            "text/plain": [
              "Education\n"
            ],
            "text/html": [
              "<pre style=\"white-space:pre;overflow-x:auto;line-height:normal;font-family:Menlo,'DejaVu Sans Mono',consolas,'Courier New',monospace\">Education\n",
              "</pre>\n"
            ]
          },
          "metadata": {}
        },
        {
          "output_type": "display_data",
          "data": {
            "text/plain": [
              "Gender\n"
            ],
            "text/html": [
              "<pre style=\"white-space:pre;overflow-x:auto;line-height:normal;font-family:Menlo,'DejaVu Sans Mono',consolas,'Courier New',monospace\">Gender\n",
              "</pre>\n"
            ]
          },
          "metadata": {}
        },
        {
          "output_type": "display_data",
          "data": {
            "text/plain": [
              "JobRole\n"
            ],
            "text/html": [
              "<pre style=\"white-space:pre;overflow-x:auto;line-height:normal;font-family:Menlo,'DejaVu Sans Mono',consolas,'Courier New',monospace\">JobRole\n",
              "</pre>\n"
            ]
          },
          "metadata": {}
        },
        {
          "output_type": "display_data",
          "data": {
            "text/plain": [
              "MonthlyIncome\n"
            ],
            "text/html": [
              "<pre style=\"white-space:pre;overflow-x:auto;line-height:normal;font-family:Menlo,'DejaVu Sans Mono',consolas,'Courier New',monospace\">MonthlyIncome\n",
              "</pre>\n"
            ]
          },
          "metadata": {}
        },
        {
          "output_type": "display_data",
          "data": {
            "text/plain": [
              "Age\n"
            ],
            "text/html": [
              "<pre style=\"white-space:pre;overflow-x:auto;line-height:normal;font-family:Menlo,'DejaVu Sans Mono',consolas,'Courier New',monospace\">Age\n",
              "</pre>\n"
            ]
          },
          "metadata": {}
        },
        {
          "output_type": "display_data",
          "data": {
            "text/plain": [
              "\n",
              "\n",
              "Balanced accuracy con las características seleccionadas: \u001b[1;36m0.6004\u001b[0m\n"
            ],
            "text/html": [
              "<pre style=\"white-space:pre;overflow-x:auto;line-height:normal;font-family:Menlo,'DejaVu Sans Mono',consolas,'Courier New',monospace\">\n",
              "\n",
              "Balanced accuracy con las características seleccionadas: <span style=\"color: #008080; text-decoration-color: #008080; font-weight: bold\">0.6004</span>\n",
              "</pre>\n"
            ]
          },
          "metadata": {}
        },
        {
          "output_type": "display_data",
          "data": {
            "text/plain": [
              "Tiempo de ejecución: \u001b[1;36m0.65661\u001b[0m segundos\n"
            ],
            "text/html": [
              "<pre style=\"white-space:pre;overflow-x:auto;line-height:normal;font-family:Menlo,'DejaVu Sans Mono',consolas,'Courier New',monospace\">Tiempo de ejecución: <span style=\"color: #008080; text-decoration-color: #008080; font-weight: bold\">0.65661</span> segundos\n",
              "</pre>\n"
            ]
          },
          "metadata": {}
        },
        {
          "output_type": "display_data",
          "data": {
            "text/plain": [
              "\n",
              "Modelo: XGBClassifier\n"
            ],
            "text/html": [
              "<pre style=\"white-space:pre;overflow-x:auto;line-height:normal;font-family:Menlo,'DejaVu Sans Mono',consolas,'Courier New',monospace\">\n",
              "Modelo: XGBClassifier\n",
              "</pre>\n"
            ]
          },
          "metadata": {}
        },
        {
          "output_type": "display_data",
          "data": {
            "text/plain": [
              "\n",
              "\n",
              "\u001b[34mMetrica:\u001b[0m \u001b[1;34mf_classif\u001b[0m\n"
            ],
            "text/html": [
              "<pre style=\"white-space:pre;overflow-x:auto;line-height:normal;font-family:Menlo,'DejaVu Sans Mono',consolas,'Courier New',monospace\">\n",
              "\n",
              "<span style=\"color: #000080; text-decoration-color: #000080\">Metrica:</span> <span style=\"color: #000080; text-decoration-color: #000080; font-weight: bold\">f_classif</span>\n",
              "</pre>\n"
            ]
          },
          "metadata": {}
        },
        {
          "output_type": "display_data",
          "data": {
            "text/plain": [
              "\u001b[32mTop \u001b[0m\u001b[1;32m5\u001b[0m\u001b[32m atributos más importantes:\u001b[0m\n"
            ],
            "text/html": [
              "<pre style=\"white-space:pre;overflow-x:auto;line-height:normal;font-family:Menlo,'DejaVu Sans Mono',consolas,'Courier New',monospace\"><span style=\"color: #008000; text-decoration-color: #008000\">Top </span><span style=\"color: #008000; text-decoration-color: #008000; font-weight: bold\">5</span><span style=\"color: #008000; text-decoration-color: #008000\"> atributos más importantes:</span>\n",
              "</pre>\n"
            ]
          },
          "metadata": {}
        },
        {
          "output_type": "display_data",
          "data": {
            "text/plain": [
              "hrs\n"
            ],
            "text/html": [
              "<pre style=\"white-space:pre;overflow-x:auto;line-height:normal;font-family:Menlo,'DejaVu Sans Mono',consolas,'Courier New',monospace\">hrs\n",
              "</pre>\n"
            ]
          },
          "metadata": {}
        },
        {
          "output_type": "display_data",
          "data": {
            "text/plain": [
              "Gender\n"
            ],
            "text/html": [
              "<pre style=\"white-space:pre;overflow-x:auto;line-height:normal;font-family:Menlo,'DejaVu Sans Mono',consolas,'Courier New',monospace\">Gender\n",
              "</pre>\n"
            ]
          },
          "metadata": {}
        },
        {
          "output_type": "display_data",
          "data": {
            "text/plain": [
              "MonthlyIncome\n"
            ],
            "text/html": [
              "<pre style=\"white-space:pre;overflow-x:auto;line-height:normal;font-family:Menlo,'DejaVu Sans Mono',consolas,'Courier New',monospace\">MonthlyIncome\n",
              "</pre>\n"
            ]
          },
          "metadata": {}
        },
        {
          "output_type": "display_data",
          "data": {
            "text/plain": [
              "Over18\n"
            ],
            "text/html": [
              "<pre style=\"white-space:pre;overflow-x:auto;line-height:normal;font-family:Menlo,'DejaVu Sans Mono',consolas,'Courier New',monospace\">Over18\n",
              "</pre>\n"
            ]
          },
          "metadata": {}
        },
        {
          "output_type": "display_data",
          "data": {
            "text/plain": [
              "Age\n"
            ],
            "text/html": [
              "<pre style=\"white-space:pre;overflow-x:auto;line-height:normal;font-family:Menlo,'DejaVu Sans Mono',consolas,'Courier New',monospace\">Age\n",
              "</pre>\n"
            ]
          },
          "metadata": {}
        },
        {
          "output_type": "display_data",
          "data": {
            "text/plain": [
              "\n",
              "\n",
              "Balanced accuracy con las características seleccionadas: \u001b[1;36m0.7280\u001b[0m\n"
            ],
            "text/html": [
              "<pre style=\"white-space:pre;overflow-x:auto;line-height:normal;font-family:Menlo,'DejaVu Sans Mono',consolas,'Courier New',monospace\">\n",
              "\n",
              "Balanced accuracy con las características seleccionadas: <span style=\"color: #008080; text-decoration-color: #008080; font-weight: bold\">0.7280</span>\n",
              "</pre>\n"
            ]
          },
          "metadata": {}
        },
        {
          "output_type": "display_data",
          "data": {
            "text/plain": [
              "Tiempo de ejecución: \u001b[1;36m0.37226\u001b[0m segundos\n"
            ],
            "text/html": [
              "<pre style=\"white-space:pre;overflow-x:auto;line-height:normal;font-family:Menlo,'DejaVu Sans Mono',consolas,'Courier New',monospace\">Tiempo de ejecución: <span style=\"color: #008080; text-decoration-color: #008080; font-weight: bold\">0.37226</span> segundos\n",
              "</pre>\n"
            ]
          },
          "metadata": {}
        },
        {
          "output_type": "display_data",
          "data": {
            "text/plain": [
              "\n",
              "\n",
              "\u001b[34mMetrica:\u001b[0m \u001b[1;34mmutual_info_classif\u001b[0m\n"
            ],
            "text/html": [
              "<pre style=\"white-space:pre;overflow-x:auto;line-height:normal;font-family:Menlo,'DejaVu Sans Mono',consolas,'Courier New',monospace\">\n",
              "\n",
              "<span style=\"color: #000080; text-decoration-color: #000080\">Metrica:</span> <span style=\"color: #000080; text-decoration-color: #000080; font-weight: bold\">mutual_info_classif</span>\n",
              "</pre>\n"
            ]
          },
          "metadata": {}
        },
        {
          "output_type": "display_data",
          "data": {
            "text/plain": [
              "\u001b[32mTop \u001b[0m\u001b[1;32m5\u001b[0m\u001b[32m atributos más importantes:\u001b[0m\n"
            ],
            "text/html": [
              "<pre style=\"white-space:pre;overflow-x:auto;line-height:normal;font-family:Menlo,'DejaVu Sans Mono',consolas,'Courier New',monospace\"><span style=\"color: #008000; text-decoration-color: #008000\">Top </span><span style=\"color: #008000; text-decoration-color: #008000; font-weight: bold\">5</span><span style=\"color: #008000; text-decoration-color: #008000\"> atributos más importantes:</span>\n",
              "</pre>\n"
            ]
          },
          "metadata": {}
        },
        {
          "output_type": "display_data",
          "data": {
            "text/plain": [
              "Education\n"
            ],
            "text/html": [
              "<pre style=\"white-space:pre;overflow-x:auto;line-height:normal;font-family:Menlo,'DejaVu Sans Mono',consolas,'Courier New',monospace\">Education\n",
              "</pre>\n"
            ]
          },
          "metadata": {}
        },
        {
          "output_type": "display_data",
          "data": {
            "text/plain": [
              "Age\n"
            ],
            "text/html": [
              "<pre style=\"white-space:pre;overflow-x:auto;line-height:normal;font-family:Menlo,'DejaVu Sans Mono',consolas,'Courier New',monospace\">Age\n",
              "</pre>\n"
            ]
          },
          "metadata": {}
        },
        {
          "output_type": "display_data",
          "data": {
            "text/plain": [
              "hrs\n"
            ],
            "text/html": [
              "<pre style=\"white-space:pre;overflow-x:auto;line-height:normal;font-family:Menlo,'DejaVu Sans Mono',consolas,'Courier New',monospace\">hrs\n",
              "</pre>\n"
            ]
          },
          "metadata": {}
        },
        {
          "output_type": "display_data",
          "data": {
            "text/plain": [
              "JobRole\n"
            ],
            "text/html": [
              "<pre style=\"white-space:pre;overflow-x:auto;line-height:normal;font-family:Menlo,'DejaVu Sans Mono',consolas,'Courier New',monospace\">JobRole\n",
              "</pre>\n"
            ]
          },
          "metadata": {}
        },
        {
          "output_type": "display_data",
          "data": {
            "text/plain": [
              "Gender\n"
            ],
            "text/html": [
              "<pre style=\"white-space:pre;overflow-x:auto;line-height:normal;font-family:Menlo,'DejaVu Sans Mono',consolas,'Courier New',monospace\">Gender\n",
              "</pre>\n"
            ]
          },
          "metadata": {}
        },
        {
          "output_type": "display_data",
          "data": {
            "text/plain": [
              "\n",
              "\n",
              "Balanced accuracy con las características seleccionadas: \u001b[1;36m0.7856\u001b[0m\n"
            ],
            "text/html": [
              "<pre style=\"white-space:pre;overflow-x:auto;line-height:normal;font-family:Menlo,'DejaVu Sans Mono',consolas,'Courier New',monospace\">\n",
              "\n",
              "Balanced accuracy con las características seleccionadas: <span style=\"color: #008080; text-decoration-color: #008080; font-weight: bold\">0.7856</span>\n",
              "</pre>\n"
            ]
          },
          "metadata": {}
        },
        {
          "output_type": "display_data",
          "data": {
            "text/plain": [
              "Tiempo de ejecución: \u001b[1;36m0.39428\u001b[0m segundos\n"
            ],
            "text/html": [
              "<pre style=\"white-space:pre;overflow-x:auto;line-height:normal;font-family:Menlo,'DejaVu Sans Mono',consolas,'Courier New',monospace\">Tiempo de ejecución: <span style=\"color: #008080; text-decoration-color: #008080; font-weight: bold\">0.39428</span> segundos\n",
              "</pre>\n"
            ]
          },
          "metadata": {}
        },
        {
          "output_type": "display_data",
          "data": {
            "text/plain": [
              "\n",
              "\n",
              "\u001b[34mMetrica:\u001b[0m \u001b[1;34mchi2\u001b[0m\n"
            ],
            "text/html": [
              "<pre style=\"white-space:pre;overflow-x:auto;line-height:normal;font-family:Menlo,'DejaVu Sans Mono',consolas,'Courier New',monospace\">\n",
              "\n",
              "<span style=\"color: #000080; text-decoration-color: #000080\">Metrica:</span> <span style=\"color: #000080; text-decoration-color: #000080; font-weight: bold\">chi2</span>\n",
              "</pre>\n"
            ]
          },
          "metadata": {}
        },
        {
          "output_type": "display_data",
          "data": {
            "text/plain": [
              "\u001b[32mTop \u001b[0m\u001b[1;32m5\u001b[0m\u001b[32m atributos más importantes:\u001b[0m\n"
            ],
            "text/html": [
              "<pre style=\"white-space:pre;overflow-x:auto;line-height:normal;font-family:Menlo,'DejaVu Sans Mono',consolas,'Courier New',monospace\"><span style=\"color: #008000; text-decoration-color: #008000\">Top </span><span style=\"color: #008000; text-decoration-color: #008000; font-weight: bold\">5</span><span style=\"color: #008000; text-decoration-color: #008000\"> atributos más importantes:</span>\n",
              "</pre>\n"
            ]
          },
          "metadata": {}
        },
        {
          "output_type": "display_data",
          "data": {
            "text/plain": [
              "Education\n"
            ],
            "text/html": [
              "<pre style=\"white-space:pre;overflow-x:auto;line-height:normal;font-family:Menlo,'DejaVu Sans Mono',consolas,'Courier New',monospace\">Education\n",
              "</pre>\n"
            ]
          },
          "metadata": {}
        },
        {
          "output_type": "display_data",
          "data": {
            "text/plain": [
              "Gender\n"
            ],
            "text/html": [
              "<pre style=\"white-space:pre;overflow-x:auto;line-height:normal;font-family:Menlo,'DejaVu Sans Mono',consolas,'Courier New',monospace\">Gender\n",
              "</pre>\n"
            ]
          },
          "metadata": {}
        },
        {
          "output_type": "display_data",
          "data": {
            "text/plain": [
              "JobRole\n"
            ],
            "text/html": [
              "<pre style=\"white-space:pre;overflow-x:auto;line-height:normal;font-family:Menlo,'DejaVu Sans Mono',consolas,'Courier New',monospace\">JobRole\n",
              "</pre>\n"
            ]
          },
          "metadata": {}
        },
        {
          "output_type": "display_data",
          "data": {
            "text/plain": [
              "MonthlyIncome\n"
            ],
            "text/html": [
              "<pre style=\"white-space:pre;overflow-x:auto;line-height:normal;font-family:Menlo,'DejaVu Sans Mono',consolas,'Courier New',monospace\">MonthlyIncome\n",
              "</pre>\n"
            ]
          },
          "metadata": {}
        },
        {
          "output_type": "display_data",
          "data": {
            "text/plain": [
              "Age\n"
            ],
            "text/html": [
              "<pre style=\"white-space:pre;overflow-x:auto;line-height:normal;font-family:Menlo,'DejaVu Sans Mono',consolas,'Courier New',monospace\">Age\n",
              "</pre>\n"
            ]
          },
          "metadata": {}
        },
        {
          "output_type": "display_data",
          "data": {
            "text/plain": [
              "\n",
              "\n",
              "Balanced accuracy con las características seleccionadas: \u001b[1;36m0.6837\u001b[0m\n"
            ],
            "text/html": [
              "<pre style=\"white-space:pre;overflow-x:auto;line-height:normal;font-family:Menlo,'DejaVu Sans Mono',consolas,'Courier New',monospace\">\n",
              "\n",
              "Balanced accuracy con las características seleccionadas: <span style=\"color: #008080; text-decoration-color: #008080; font-weight: bold\">0.6837</span>\n",
              "</pre>\n"
            ]
          },
          "metadata": {}
        },
        {
          "output_type": "display_data",
          "data": {
            "text/plain": [
              "Tiempo de ejecución: \u001b[1;36m0.39081\u001b[0m segundos\n"
            ],
            "text/html": [
              "<pre style=\"white-space:pre;overflow-x:auto;line-height:normal;font-family:Menlo,'DejaVu Sans Mono',consolas,'Courier New',monospace\">Tiempo de ejecución: <span style=\"color: #008080; text-decoration-color: #008080; font-weight: bold\">0.39081</span> segundos\n",
              "</pre>\n"
            ]
          },
          "metadata": {}
        },
        {
          "output_type": "display_data",
          "data": {
            "text/plain": [
              "\n",
              "Modelo: LGBMClassifier\n"
            ],
            "text/html": [
              "<pre style=\"white-space:pre;overflow-x:auto;line-height:normal;font-family:Menlo,'DejaVu Sans Mono',consolas,'Courier New',monospace\">\n",
              "Modelo: LGBMClassifier\n",
              "</pre>\n"
            ]
          },
          "metadata": {}
        },
        {
          "output_type": "display_data",
          "data": {
            "text/plain": [
              "\n",
              "\n",
              "\u001b[34mMetrica:\u001b[0m \u001b[1;34mf_classif\u001b[0m\n"
            ],
            "text/html": [
              "<pre style=\"white-space:pre;overflow-x:auto;line-height:normal;font-family:Menlo,'DejaVu Sans Mono',consolas,'Courier New',monospace\">\n",
              "\n",
              "<span style=\"color: #000080; text-decoration-color: #000080\">Metrica:</span> <span style=\"color: #000080; text-decoration-color: #000080; font-weight: bold\">f_classif</span>\n",
              "</pre>\n"
            ]
          },
          "metadata": {}
        },
        {
          "output_type": "display_data",
          "data": {
            "text/plain": [
              "\u001b[32mTop \u001b[0m\u001b[1;32m5\u001b[0m\u001b[32m atributos más importantes:\u001b[0m\n"
            ],
            "text/html": [
              "<pre style=\"white-space:pre;overflow-x:auto;line-height:normal;font-family:Menlo,'DejaVu Sans Mono',consolas,'Courier New',monospace\"><span style=\"color: #008000; text-decoration-color: #008000\">Top </span><span style=\"color: #008000; text-decoration-color: #008000; font-weight: bold\">5</span><span style=\"color: #008000; text-decoration-color: #008000\"> atributos más importantes:</span>\n",
              "</pre>\n"
            ]
          },
          "metadata": {}
        },
        {
          "output_type": "display_data",
          "data": {
            "text/plain": [
              "hrs\n"
            ],
            "text/html": [
              "<pre style=\"white-space:pre;overflow-x:auto;line-height:normal;font-family:Menlo,'DejaVu Sans Mono',consolas,'Courier New',monospace\">hrs\n",
              "</pre>\n"
            ]
          },
          "metadata": {}
        },
        {
          "output_type": "display_data",
          "data": {
            "text/plain": [
              "Gender\n"
            ],
            "text/html": [
              "<pre style=\"white-space:pre;overflow-x:auto;line-height:normal;font-family:Menlo,'DejaVu Sans Mono',consolas,'Courier New',monospace\">Gender\n",
              "</pre>\n"
            ]
          },
          "metadata": {}
        },
        {
          "output_type": "display_data",
          "data": {
            "text/plain": [
              "MonthlyIncome\n"
            ],
            "text/html": [
              "<pre style=\"white-space:pre;overflow-x:auto;line-height:normal;font-family:Menlo,'DejaVu Sans Mono',consolas,'Courier New',monospace\">MonthlyIncome\n",
              "</pre>\n"
            ]
          },
          "metadata": {}
        },
        {
          "output_type": "display_data",
          "data": {
            "text/plain": [
              "Over18\n"
            ],
            "text/html": [
              "<pre style=\"white-space:pre;overflow-x:auto;line-height:normal;font-family:Menlo,'DejaVu Sans Mono',consolas,'Courier New',monospace\">Over18\n",
              "</pre>\n"
            ]
          },
          "metadata": {}
        },
        {
          "output_type": "display_data",
          "data": {
            "text/plain": [
              "Age\n"
            ],
            "text/html": [
              "<pre style=\"white-space:pre;overflow-x:auto;line-height:normal;font-family:Menlo,'DejaVu Sans Mono',consolas,'Courier New',monospace\">Age\n",
              "</pre>\n"
            ]
          },
          "metadata": {}
        },
        {
          "output_type": "display_data",
          "data": {
            "text/plain": [
              "\n",
              "\n",
              "Balanced accuracy con las características seleccionadas: \u001b[1;36m0.8014\u001b[0m\n"
            ],
            "text/html": [
              "<pre style=\"white-space:pre;overflow-x:auto;line-height:normal;font-family:Menlo,'DejaVu Sans Mono',consolas,'Courier New',monospace\">\n",
              "\n",
              "Balanced accuracy con las características seleccionadas: <span style=\"color: #008080; text-decoration-color: #008080; font-weight: bold\">0.8014</span>\n",
              "</pre>\n"
            ]
          },
          "metadata": {}
        },
        {
          "output_type": "display_data",
          "data": {
            "text/plain": [
              "Tiempo de ejecución: \u001b[1;36m0.15317\u001b[0m segundos\n"
            ],
            "text/html": [
              "<pre style=\"white-space:pre;overflow-x:auto;line-height:normal;font-family:Menlo,'DejaVu Sans Mono',consolas,'Courier New',monospace\">Tiempo de ejecución: <span style=\"color: #008080; text-decoration-color: #008080; font-weight: bold\">0.15317</span> segundos\n",
              "</pre>\n"
            ]
          },
          "metadata": {}
        },
        {
          "output_type": "display_data",
          "data": {
            "text/plain": [
              "\n",
              "\n",
              "\u001b[34mMetrica:\u001b[0m \u001b[1;34mmutual_info_classif\u001b[0m\n"
            ],
            "text/html": [
              "<pre style=\"white-space:pre;overflow-x:auto;line-height:normal;font-family:Menlo,'DejaVu Sans Mono',consolas,'Courier New',monospace\">\n",
              "\n",
              "<span style=\"color: #000080; text-decoration-color: #000080\">Metrica:</span> <span style=\"color: #000080; text-decoration-color: #000080; font-weight: bold\">mutual_info_classif</span>\n",
              "</pre>\n"
            ]
          },
          "metadata": {}
        },
        {
          "output_type": "display_data",
          "data": {
            "text/plain": [
              "\u001b[32mTop \u001b[0m\u001b[1;32m5\u001b[0m\u001b[32m atributos más importantes:\u001b[0m\n"
            ],
            "text/html": [
              "<pre style=\"white-space:pre;overflow-x:auto;line-height:normal;font-family:Menlo,'DejaVu Sans Mono',consolas,'Courier New',monospace\"><span style=\"color: #008000; text-decoration-color: #008000\">Top </span><span style=\"color: #008000; text-decoration-color: #008000; font-weight: bold\">5</span><span style=\"color: #008000; text-decoration-color: #008000\"> atributos más importantes:</span>\n",
              "</pre>\n"
            ]
          },
          "metadata": {}
        },
        {
          "output_type": "display_data",
          "data": {
            "text/plain": [
              "Education\n"
            ],
            "text/html": [
              "<pre style=\"white-space:pre;overflow-x:auto;line-height:normal;font-family:Menlo,'DejaVu Sans Mono',consolas,'Courier New',monospace\">Education\n",
              "</pre>\n"
            ]
          },
          "metadata": {}
        },
        {
          "output_type": "display_data",
          "data": {
            "text/plain": [
              "Gender\n"
            ],
            "text/html": [
              "<pre style=\"white-space:pre;overflow-x:auto;line-height:normal;font-family:Menlo,'DejaVu Sans Mono',consolas,'Courier New',monospace\">Gender\n",
              "</pre>\n"
            ]
          },
          "metadata": {}
        },
        {
          "output_type": "display_data",
          "data": {
            "text/plain": [
              "hrs\n"
            ],
            "text/html": [
              "<pre style=\"white-space:pre;overflow-x:auto;line-height:normal;font-family:Menlo,'DejaVu Sans Mono',consolas,'Courier New',monospace\">hrs\n",
              "</pre>\n"
            ]
          },
          "metadata": {}
        },
        {
          "output_type": "display_data",
          "data": {
            "text/plain": [
              "MonthlyIncome\n"
            ],
            "text/html": [
              "<pre style=\"white-space:pre;overflow-x:auto;line-height:normal;font-family:Menlo,'DejaVu Sans Mono',consolas,'Courier New',monospace\">MonthlyIncome\n",
              "</pre>\n"
            ]
          },
          "metadata": {}
        },
        {
          "output_type": "display_data",
          "data": {
            "text/plain": [
              "Age\n"
            ],
            "text/html": [
              "<pre style=\"white-space:pre;overflow-x:auto;line-height:normal;font-family:Menlo,'DejaVu Sans Mono',consolas,'Courier New',monospace\">Age\n",
              "</pre>\n"
            ]
          },
          "metadata": {}
        },
        {
          "output_type": "display_data",
          "data": {
            "text/plain": [
              "\n",
              "\n",
              "Balanced accuracy con las características seleccionadas: \u001b[1;36m0.8215\u001b[0m\n"
            ],
            "text/html": [
              "<pre style=\"white-space:pre;overflow-x:auto;line-height:normal;font-family:Menlo,'DejaVu Sans Mono',consolas,'Courier New',monospace\">\n",
              "\n",
              "Balanced accuracy con las características seleccionadas: <span style=\"color: #008080; text-decoration-color: #008080; font-weight: bold\">0.8215</span>\n",
              "</pre>\n"
            ]
          },
          "metadata": {}
        },
        {
          "output_type": "display_data",
          "data": {
            "text/plain": [
              "Tiempo de ejecución: \u001b[1;36m0.13588\u001b[0m segundos\n"
            ],
            "text/html": [
              "<pre style=\"white-space:pre;overflow-x:auto;line-height:normal;font-family:Menlo,'DejaVu Sans Mono',consolas,'Courier New',monospace\">Tiempo de ejecución: <span style=\"color: #008080; text-decoration-color: #008080; font-weight: bold\">0.13588</span> segundos\n",
              "</pre>\n"
            ]
          },
          "metadata": {}
        },
        {
          "output_type": "display_data",
          "data": {
            "text/plain": [
              "\n",
              "\n",
              "\u001b[34mMetrica:\u001b[0m \u001b[1;34mchi2\u001b[0m\n"
            ],
            "text/html": [
              "<pre style=\"white-space:pre;overflow-x:auto;line-height:normal;font-family:Menlo,'DejaVu Sans Mono',consolas,'Courier New',monospace\">\n",
              "\n",
              "<span style=\"color: #000080; text-decoration-color: #000080\">Metrica:</span> <span style=\"color: #000080; text-decoration-color: #000080; font-weight: bold\">chi2</span>\n",
              "</pre>\n"
            ]
          },
          "metadata": {}
        },
        {
          "output_type": "display_data",
          "data": {
            "text/plain": [
              "\u001b[32mTop \u001b[0m\u001b[1;32m5\u001b[0m\u001b[32m atributos más importantes:\u001b[0m\n"
            ],
            "text/html": [
              "<pre style=\"white-space:pre;overflow-x:auto;line-height:normal;font-family:Menlo,'DejaVu Sans Mono',consolas,'Courier New',monospace\"><span style=\"color: #008000; text-decoration-color: #008000\">Top </span><span style=\"color: #008000; text-decoration-color: #008000; font-weight: bold\">5</span><span style=\"color: #008000; text-decoration-color: #008000\"> atributos más importantes:</span>\n",
              "</pre>\n"
            ]
          },
          "metadata": {}
        },
        {
          "output_type": "display_data",
          "data": {
            "text/plain": [
              "Education\n"
            ],
            "text/html": [
              "<pre style=\"white-space:pre;overflow-x:auto;line-height:normal;font-family:Menlo,'DejaVu Sans Mono',consolas,'Courier New',monospace\">Education\n",
              "</pre>\n"
            ]
          },
          "metadata": {}
        },
        {
          "output_type": "display_data",
          "data": {
            "text/plain": [
              "Gender\n"
            ],
            "text/html": [
              "<pre style=\"white-space:pre;overflow-x:auto;line-height:normal;font-family:Menlo,'DejaVu Sans Mono',consolas,'Courier New',monospace\">Gender\n",
              "</pre>\n"
            ]
          },
          "metadata": {}
        },
        {
          "output_type": "display_data",
          "data": {
            "text/plain": [
              "JobRole\n"
            ],
            "text/html": [
              "<pre style=\"white-space:pre;overflow-x:auto;line-height:normal;font-family:Menlo,'DejaVu Sans Mono',consolas,'Courier New',monospace\">JobRole\n",
              "</pre>\n"
            ]
          },
          "metadata": {}
        },
        {
          "output_type": "display_data",
          "data": {
            "text/plain": [
              "MonthlyIncome\n"
            ],
            "text/html": [
              "<pre style=\"white-space:pre;overflow-x:auto;line-height:normal;font-family:Menlo,'DejaVu Sans Mono',consolas,'Courier New',monospace\">MonthlyIncome\n",
              "</pre>\n"
            ]
          },
          "metadata": {}
        },
        {
          "output_type": "display_data",
          "data": {
            "text/plain": [
              "Age\n"
            ],
            "text/html": [
              "<pre style=\"white-space:pre;overflow-x:auto;line-height:normal;font-family:Menlo,'DejaVu Sans Mono',consolas,'Courier New',monospace\">Age\n",
              "</pre>\n"
            ]
          },
          "metadata": {}
        },
        {
          "output_type": "display_data",
          "data": {
            "text/plain": [
              "\n",
              "\n",
              "Balanced accuracy con las características seleccionadas: \u001b[1;36m0.7954\u001b[0m\n"
            ],
            "text/html": [
              "<pre style=\"white-space:pre;overflow-x:auto;line-height:normal;font-family:Menlo,'DejaVu Sans Mono',consolas,'Courier New',monospace\">\n",
              "\n",
              "Balanced accuracy con las características seleccionadas: <span style=\"color: #008080; text-decoration-color: #008080; font-weight: bold\">0.7954</span>\n",
              "</pre>\n"
            ]
          },
          "metadata": {}
        },
        {
          "output_type": "display_data",
          "data": {
            "text/plain": [
              "Tiempo de ejecución: \u001b[1;36m0.12363\u001b[0m segundos\n"
            ],
            "text/html": [
              "<pre style=\"white-space:pre;overflow-x:auto;line-height:normal;font-family:Menlo,'DejaVu Sans Mono',consolas,'Courier New',monospace\">Tiempo de ejecución: <span style=\"color: #008080; text-decoration-color: #008080; font-weight: bold\">0.12363</span> segundos\n",
              "</pre>\n"
            ]
          },
          "metadata": {}
        },
        {
          "output_type": "display_data",
          "data": {
            "text/plain": [
              "\u001b[1;31mBoosting ajustado\u001b[0m\n"
            ],
            "text/html": [
              "<pre style=\"white-space:pre;overflow-x:auto;line-height:normal;font-family:Menlo,'DejaVu Sans Mono',consolas,'Courier New',monospace\"><span style=\"color: #800000; text-decoration-color: #800000; font-weight: bold\">Boosting ajustado</span>\n",
              "</pre>\n"
            ]
          },
          "metadata": {}
        },
        {
          "output_type": "display_data",
          "data": {
            "text/plain": [
              "\n",
              "Modelo: AdaBoostClassifier\n"
            ],
            "text/html": [
              "<pre style=\"white-space:pre;overflow-x:auto;line-height:normal;font-family:Menlo,'DejaVu Sans Mono',consolas,'Courier New',monospace\">\n",
              "Modelo: AdaBoostClassifier\n",
              "</pre>\n"
            ]
          },
          "metadata": {}
        },
        {
          "output_type": "display_data",
          "data": {
            "text/plain": [
              "\n",
              "\n",
              "\u001b[34mMetrica:\u001b[0m \u001b[1;34mf_classif\u001b[0m\n"
            ],
            "text/html": [
              "<pre style=\"white-space:pre;overflow-x:auto;line-height:normal;font-family:Menlo,'DejaVu Sans Mono',consolas,'Courier New',monospace\">\n",
              "\n",
              "<span style=\"color: #000080; text-decoration-color: #000080\">Metrica:</span> <span style=\"color: #000080; text-decoration-color: #000080; font-weight: bold\">f_classif</span>\n",
              "</pre>\n"
            ]
          },
          "metadata": {}
        },
        {
          "output_type": "display_data",
          "data": {
            "text/plain": [
              "\u001b[32mTop \u001b[0m\u001b[1;32m5\u001b[0m\u001b[32m atributos más importantes:\u001b[0m\n"
            ],
            "text/html": [
              "<pre style=\"white-space:pre;overflow-x:auto;line-height:normal;font-family:Menlo,'DejaVu Sans Mono',consolas,'Courier New',monospace\"><span style=\"color: #008000; text-decoration-color: #008000\">Top </span><span style=\"color: #008000; text-decoration-color: #008000; font-weight: bold\">5</span><span style=\"color: #008000; text-decoration-color: #008000\"> atributos más importantes:</span>\n",
              "</pre>\n"
            ]
          },
          "metadata": {}
        },
        {
          "output_type": "display_data",
          "data": {
            "text/plain": [
              "hrs\n"
            ],
            "text/html": [
              "<pre style=\"white-space:pre;overflow-x:auto;line-height:normal;font-family:Menlo,'DejaVu Sans Mono',consolas,'Courier New',monospace\">hrs\n",
              "</pre>\n"
            ]
          },
          "metadata": {}
        },
        {
          "output_type": "display_data",
          "data": {
            "text/plain": [
              "Gender\n"
            ],
            "text/html": [
              "<pre style=\"white-space:pre;overflow-x:auto;line-height:normal;font-family:Menlo,'DejaVu Sans Mono',consolas,'Courier New',monospace\">Gender\n",
              "</pre>\n"
            ]
          },
          "metadata": {}
        },
        {
          "output_type": "display_data",
          "data": {
            "text/plain": [
              "MonthlyIncome\n"
            ],
            "text/html": [
              "<pre style=\"white-space:pre;overflow-x:auto;line-height:normal;font-family:Menlo,'DejaVu Sans Mono',consolas,'Courier New',monospace\">MonthlyIncome\n",
              "</pre>\n"
            ]
          },
          "metadata": {}
        },
        {
          "output_type": "display_data",
          "data": {
            "text/plain": [
              "Over18\n"
            ],
            "text/html": [
              "<pre style=\"white-space:pre;overflow-x:auto;line-height:normal;font-family:Menlo,'DejaVu Sans Mono',consolas,'Courier New',monospace\">Over18\n",
              "</pre>\n"
            ]
          },
          "metadata": {}
        },
        {
          "output_type": "display_data",
          "data": {
            "text/plain": [
              "Age\n"
            ],
            "text/html": [
              "<pre style=\"white-space:pre;overflow-x:auto;line-height:normal;font-family:Menlo,'DejaVu Sans Mono',consolas,'Courier New',monospace\">Age\n",
              "</pre>\n"
            ]
          },
          "metadata": {}
        },
        {
          "output_type": "display_data",
          "data": {
            "text/plain": [
              "\n",
              "\n",
              "Balanced accuracy con las características seleccionadas: \u001b[1;36m0.6063\u001b[0m\n"
            ],
            "text/html": [
              "<pre style=\"white-space:pre;overflow-x:auto;line-height:normal;font-family:Menlo,'DejaVu Sans Mono',consolas,'Courier New',monospace\">\n",
              "\n",
              "Balanced accuracy con las características seleccionadas: <span style=\"color: #008080; text-decoration-color: #008080; font-weight: bold\">0.6063</span>\n",
              "</pre>\n"
            ]
          },
          "metadata": {}
        },
        {
          "output_type": "display_data",
          "data": {
            "text/plain": [
              "Tiempo de ejecución: \u001b[1;36m1.13932\u001b[0m segundos\n"
            ],
            "text/html": [
              "<pre style=\"white-space:pre;overflow-x:auto;line-height:normal;font-family:Menlo,'DejaVu Sans Mono',consolas,'Courier New',monospace\">Tiempo de ejecución: <span style=\"color: #008080; text-decoration-color: #008080; font-weight: bold\">1.13932</span> segundos\n",
              "</pre>\n"
            ]
          },
          "metadata": {}
        },
        {
          "output_type": "display_data",
          "data": {
            "text/plain": [
              "\n",
              "\n",
              "\u001b[34mMetrica:\u001b[0m \u001b[1;34mmutual_info_classif\u001b[0m\n"
            ],
            "text/html": [
              "<pre style=\"white-space:pre;overflow-x:auto;line-height:normal;font-family:Menlo,'DejaVu Sans Mono',consolas,'Courier New',monospace\">\n",
              "\n",
              "<span style=\"color: #000080; text-decoration-color: #000080\">Metrica:</span> <span style=\"color: #000080; text-decoration-color: #000080; font-weight: bold\">mutual_info_classif</span>\n",
              "</pre>\n"
            ]
          },
          "metadata": {}
        },
        {
          "output_type": "display_data",
          "data": {
            "text/plain": [
              "\u001b[32mTop \u001b[0m\u001b[1;32m5\u001b[0m\u001b[32m atributos más importantes:\u001b[0m\n"
            ],
            "text/html": [
              "<pre style=\"white-space:pre;overflow-x:auto;line-height:normal;font-family:Menlo,'DejaVu Sans Mono',consolas,'Courier New',monospace\"><span style=\"color: #008000; text-decoration-color: #008000\">Top </span><span style=\"color: #008000; text-decoration-color: #008000; font-weight: bold\">5</span><span style=\"color: #008000; text-decoration-color: #008000\"> atributos más importantes:</span>\n",
              "</pre>\n"
            ]
          },
          "metadata": {}
        },
        {
          "output_type": "display_data",
          "data": {
            "text/plain": [
              "Education\n"
            ],
            "text/html": [
              "<pre style=\"white-space:pre;overflow-x:auto;line-height:normal;font-family:Menlo,'DejaVu Sans Mono',consolas,'Courier New',monospace\">Education\n",
              "</pre>\n"
            ]
          },
          "metadata": {}
        },
        {
          "output_type": "display_data",
          "data": {
            "text/plain": [
              "Age\n"
            ],
            "text/html": [
              "<pre style=\"white-space:pre;overflow-x:auto;line-height:normal;font-family:Menlo,'DejaVu Sans Mono',consolas,'Courier New',monospace\">Age\n",
              "</pre>\n"
            ]
          },
          "metadata": {}
        },
        {
          "output_type": "display_data",
          "data": {
            "text/plain": [
              "Gender\n"
            ],
            "text/html": [
              "<pre style=\"white-space:pre;overflow-x:auto;line-height:normal;font-family:Menlo,'DejaVu Sans Mono',consolas,'Courier New',monospace\">Gender\n",
              "</pre>\n"
            ]
          },
          "metadata": {}
        },
        {
          "output_type": "display_data",
          "data": {
            "text/plain": [
              "hrs\n"
            ],
            "text/html": [
              "<pre style=\"white-space:pre;overflow-x:auto;line-height:normal;font-family:Menlo,'DejaVu Sans Mono',consolas,'Courier New',monospace\">hrs\n",
              "</pre>\n"
            ]
          },
          "metadata": {}
        },
        {
          "output_type": "display_data",
          "data": {
            "text/plain": [
              "JobRole\n"
            ],
            "text/html": [
              "<pre style=\"white-space:pre;overflow-x:auto;line-height:normal;font-family:Menlo,'DejaVu Sans Mono',consolas,'Courier New',monospace\">JobRole\n",
              "</pre>\n"
            ]
          },
          "metadata": {}
        },
        {
          "output_type": "display_data",
          "data": {
            "text/plain": [
              "\n",
              "\n",
              "Balanced accuracy con las características seleccionadas: \u001b[1;36m0.6034\u001b[0m\n"
            ],
            "text/html": [
              "<pre style=\"white-space:pre;overflow-x:auto;line-height:normal;font-family:Menlo,'DejaVu Sans Mono',consolas,'Courier New',monospace\">\n",
              "\n",
              "Balanced accuracy con las características seleccionadas: <span style=\"color: #008080; text-decoration-color: #008080; font-weight: bold\">0.6034</span>\n",
              "</pre>\n"
            ]
          },
          "metadata": {}
        },
        {
          "output_type": "display_data",
          "data": {
            "text/plain": [
              "Tiempo de ejecución: \u001b[1;36m0.78107\u001b[0m segundos\n"
            ],
            "text/html": [
              "<pre style=\"white-space:pre;overflow-x:auto;line-height:normal;font-family:Menlo,'DejaVu Sans Mono',consolas,'Courier New',monospace\">Tiempo de ejecución: <span style=\"color: #008080; text-decoration-color: #008080; font-weight: bold\">0.78107</span> segundos\n",
              "</pre>\n"
            ]
          },
          "metadata": {}
        },
        {
          "output_type": "display_data",
          "data": {
            "text/plain": [
              "\n",
              "\n",
              "\u001b[34mMetrica:\u001b[0m \u001b[1;34mchi2\u001b[0m\n"
            ],
            "text/html": [
              "<pre style=\"white-space:pre;overflow-x:auto;line-height:normal;font-family:Menlo,'DejaVu Sans Mono',consolas,'Courier New',monospace\">\n",
              "\n",
              "<span style=\"color: #000080; text-decoration-color: #000080\">Metrica:</span> <span style=\"color: #000080; text-decoration-color: #000080; font-weight: bold\">chi2</span>\n",
              "</pre>\n"
            ]
          },
          "metadata": {}
        },
        {
          "output_type": "display_data",
          "data": {
            "text/plain": [
              "\u001b[32mTop \u001b[0m\u001b[1;32m5\u001b[0m\u001b[32m atributos más importantes:\u001b[0m\n"
            ],
            "text/html": [
              "<pre style=\"white-space:pre;overflow-x:auto;line-height:normal;font-family:Menlo,'DejaVu Sans Mono',consolas,'Courier New',monospace\"><span style=\"color: #008000; text-decoration-color: #008000\">Top </span><span style=\"color: #008000; text-decoration-color: #008000; font-weight: bold\">5</span><span style=\"color: #008000; text-decoration-color: #008000\"> atributos más importantes:</span>\n",
              "</pre>\n"
            ]
          },
          "metadata": {}
        },
        {
          "output_type": "display_data",
          "data": {
            "text/plain": [
              "Education\n"
            ],
            "text/html": [
              "<pre style=\"white-space:pre;overflow-x:auto;line-height:normal;font-family:Menlo,'DejaVu Sans Mono',consolas,'Courier New',monospace\">Education\n",
              "</pre>\n"
            ]
          },
          "metadata": {}
        },
        {
          "output_type": "display_data",
          "data": {
            "text/plain": [
              "Gender\n"
            ],
            "text/html": [
              "<pre style=\"white-space:pre;overflow-x:auto;line-height:normal;font-family:Menlo,'DejaVu Sans Mono',consolas,'Courier New',monospace\">Gender\n",
              "</pre>\n"
            ]
          },
          "metadata": {}
        },
        {
          "output_type": "display_data",
          "data": {
            "text/plain": [
              "JobRole\n"
            ],
            "text/html": [
              "<pre style=\"white-space:pre;overflow-x:auto;line-height:normal;font-family:Menlo,'DejaVu Sans Mono',consolas,'Courier New',monospace\">JobRole\n",
              "</pre>\n"
            ]
          },
          "metadata": {}
        },
        {
          "output_type": "display_data",
          "data": {
            "text/plain": [
              "MonthlyIncome\n"
            ],
            "text/html": [
              "<pre style=\"white-space:pre;overflow-x:auto;line-height:normal;font-family:Menlo,'DejaVu Sans Mono',consolas,'Courier New',monospace\">MonthlyIncome\n",
              "</pre>\n"
            ]
          },
          "metadata": {}
        },
        {
          "output_type": "display_data",
          "data": {
            "text/plain": [
              "Age\n"
            ],
            "text/html": [
              "<pre style=\"white-space:pre;overflow-x:auto;line-height:normal;font-family:Menlo,'DejaVu Sans Mono',consolas,'Courier New',monospace\">Age\n",
              "</pre>\n"
            ]
          },
          "metadata": {}
        },
        {
          "output_type": "display_data",
          "data": {
            "text/plain": [
              "\n",
              "\n",
              "Balanced accuracy con las características seleccionadas: \u001b[1;36m0.6111\u001b[0m\n"
            ],
            "text/html": [
              "<pre style=\"white-space:pre;overflow-x:auto;line-height:normal;font-family:Menlo,'DejaVu Sans Mono',consolas,'Courier New',monospace\">\n",
              "\n",
              "Balanced accuracy con las características seleccionadas: <span style=\"color: #008080; text-decoration-color: #008080; font-weight: bold\">0.6111</span>\n",
              "</pre>\n"
            ]
          },
          "metadata": {}
        },
        {
          "output_type": "display_data",
          "data": {
            "text/plain": [
              "Tiempo de ejecución: \u001b[1;36m0.90678\u001b[0m segundos\n"
            ],
            "text/html": [
              "<pre style=\"white-space:pre;overflow-x:auto;line-height:normal;font-family:Menlo,'DejaVu Sans Mono',consolas,'Courier New',monospace\">Tiempo de ejecución: <span style=\"color: #008080; text-decoration-color: #008080; font-weight: bold\">0.90678</span> segundos\n",
              "</pre>\n"
            ]
          },
          "metadata": {}
        },
        {
          "output_type": "display_data",
          "data": {
            "text/plain": [
              "\n",
              "Modelo: GradientBoostingClassifier\n"
            ],
            "text/html": [
              "<pre style=\"white-space:pre;overflow-x:auto;line-height:normal;font-family:Menlo,'DejaVu Sans Mono',consolas,'Courier New',monospace\">\n",
              "Modelo: GradientBoostingClassifier\n",
              "</pre>\n"
            ]
          },
          "metadata": {}
        },
        {
          "output_type": "display_data",
          "data": {
            "text/plain": [
              "\n",
              "\n",
              "\u001b[34mMetrica:\u001b[0m \u001b[1;34mf_classif\u001b[0m\n"
            ],
            "text/html": [
              "<pre style=\"white-space:pre;overflow-x:auto;line-height:normal;font-family:Menlo,'DejaVu Sans Mono',consolas,'Courier New',monospace\">\n",
              "\n",
              "<span style=\"color: #000080; text-decoration-color: #000080\">Metrica:</span> <span style=\"color: #000080; text-decoration-color: #000080; font-weight: bold\">f_classif</span>\n",
              "</pre>\n"
            ]
          },
          "metadata": {}
        },
        {
          "output_type": "display_data",
          "data": {
            "text/plain": [
              "\u001b[32mTop \u001b[0m\u001b[1;32m5\u001b[0m\u001b[32m atributos más importantes:\u001b[0m\n"
            ],
            "text/html": [
              "<pre style=\"white-space:pre;overflow-x:auto;line-height:normal;font-family:Menlo,'DejaVu Sans Mono',consolas,'Courier New',monospace\"><span style=\"color: #008000; text-decoration-color: #008000\">Top </span><span style=\"color: #008000; text-decoration-color: #008000; font-weight: bold\">5</span><span style=\"color: #008000; text-decoration-color: #008000\"> atributos más importantes:</span>\n",
              "</pre>\n"
            ]
          },
          "metadata": {}
        },
        {
          "output_type": "display_data",
          "data": {
            "text/plain": [
              "hrs\n"
            ],
            "text/html": [
              "<pre style=\"white-space:pre;overflow-x:auto;line-height:normal;font-family:Menlo,'DejaVu Sans Mono',consolas,'Courier New',monospace\">hrs\n",
              "</pre>\n"
            ]
          },
          "metadata": {}
        },
        {
          "output_type": "display_data",
          "data": {
            "text/plain": [
              "Gender\n"
            ],
            "text/html": [
              "<pre style=\"white-space:pre;overflow-x:auto;line-height:normal;font-family:Menlo,'DejaVu Sans Mono',consolas,'Courier New',monospace\">Gender\n",
              "</pre>\n"
            ]
          },
          "metadata": {}
        },
        {
          "output_type": "display_data",
          "data": {
            "text/plain": [
              "MonthlyIncome\n"
            ],
            "text/html": [
              "<pre style=\"white-space:pre;overflow-x:auto;line-height:normal;font-family:Menlo,'DejaVu Sans Mono',consolas,'Courier New',monospace\">MonthlyIncome\n",
              "</pre>\n"
            ]
          },
          "metadata": {}
        },
        {
          "output_type": "display_data",
          "data": {
            "text/plain": [
              "Over18\n"
            ],
            "text/html": [
              "<pre style=\"white-space:pre;overflow-x:auto;line-height:normal;font-family:Menlo,'DejaVu Sans Mono',consolas,'Courier New',monospace\">Over18\n",
              "</pre>\n"
            ]
          },
          "metadata": {}
        },
        {
          "output_type": "display_data",
          "data": {
            "text/plain": [
              "Age\n"
            ],
            "text/html": [
              "<pre style=\"white-space:pre;overflow-x:auto;line-height:normal;font-family:Menlo,'DejaVu Sans Mono',consolas,'Courier New',monospace\">Age\n",
              "</pre>\n"
            ]
          },
          "metadata": {}
        },
        {
          "output_type": "display_data",
          "data": {
            "text/plain": [
              "\n",
              "\n",
              "Balanced accuracy con las características seleccionadas: \u001b[1;36m0.7294\u001b[0m\n"
            ],
            "text/html": [
              "<pre style=\"white-space:pre;overflow-x:auto;line-height:normal;font-family:Menlo,'DejaVu Sans Mono',consolas,'Courier New',monospace\">\n",
              "\n",
              "Balanced accuracy con las características seleccionadas: <span style=\"color: #008080; text-decoration-color: #008080; font-weight: bold\">0.7294</span>\n",
              "</pre>\n"
            ]
          },
          "metadata": {}
        },
        {
          "output_type": "display_data",
          "data": {
            "text/plain": [
              "Tiempo de ejecución: \u001b[1;36m1.51313\u001b[0m segundos\n"
            ],
            "text/html": [
              "<pre style=\"white-space:pre;overflow-x:auto;line-height:normal;font-family:Menlo,'DejaVu Sans Mono',consolas,'Courier New',monospace\">Tiempo de ejecución: <span style=\"color: #008080; text-decoration-color: #008080; font-weight: bold\">1.51313</span> segundos\n",
              "</pre>\n"
            ]
          },
          "metadata": {}
        },
        {
          "output_type": "display_data",
          "data": {
            "text/plain": [
              "\n",
              "\n",
              "\u001b[34mMetrica:\u001b[0m \u001b[1;34mmutual_info_classif\u001b[0m\n"
            ],
            "text/html": [
              "<pre style=\"white-space:pre;overflow-x:auto;line-height:normal;font-family:Menlo,'DejaVu Sans Mono',consolas,'Courier New',monospace\">\n",
              "\n",
              "<span style=\"color: #000080; text-decoration-color: #000080\">Metrica:</span> <span style=\"color: #000080; text-decoration-color: #000080; font-weight: bold\">mutual_info_classif</span>\n",
              "</pre>\n"
            ]
          },
          "metadata": {}
        },
        {
          "output_type": "display_data",
          "data": {
            "text/plain": [
              "\u001b[32mTop \u001b[0m\u001b[1;32m5\u001b[0m\u001b[32m atributos más importantes:\u001b[0m\n"
            ],
            "text/html": [
              "<pre style=\"white-space:pre;overflow-x:auto;line-height:normal;font-family:Menlo,'DejaVu Sans Mono',consolas,'Courier New',monospace\"><span style=\"color: #008000; text-decoration-color: #008000\">Top </span><span style=\"color: #008000; text-decoration-color: #008000; font-weight: bold\">5</span><span style=\"color: #008000; text-decoration-color: #008000\"> atributos más importantes:</span>\n",
              "</pre>\n"
            ]
          },
          "metadata": {}
        },
        {
          "output_type": "display_data",
          "data": {
            "text/plain": [
              "Education\n"
            ],
            "text/html": [
              "<pre style=\"white-space:pre;overflow-x:auto;line-height:normal;font-family:Menlo,'DejaVu Sans Mono',consolas,'Courier New',monospace\">Education\n",
              "</pre>\n"
            ]
          },
          "metadata": {}
        },
        {
          "output_type": "display_data",
          "data": {
            "text/plain": [
              "Age\n"
            ],
            "text/html": [
              "<pre style=\"white-space:pre;overflow-x:auto;line-height:normal;font-family:Menlo,'DejaVu Sans Mono',consolas,'Courier New',monospace\">Age\n",
              "</pre>\n"
            ]
          },
          "metadata": {}
        },
        {
          "output_type": "display_data",
          "data": {
            "text/plain": [
              "Gender\n"
            ],
            "text/html": [
              "<pre style=\"white-space:pre;overflow-x:auto;line-height:normal;font-family:Menlo,'DejaVu Sans Mono',consolas,'Courier New',monospace\">Gender\n",
              "</pre>\n"
            ]
          },
          "metadata": {}
        },
        {
          "output_type": "display_data",
          "data": {
            "text/plain": [
              "hrs\n"
            ],
            "text/html": [
              "<pre style=\"white-space:pre;overflow-x:auto;line-height:normal;font-family:Menlo,'DejaVu Sans Mono',consolas,'Courier New',monospace\">hrs\n",
              "</pre>\n"
            ]
          },
          "metadata": {}
        },
        {
          "output_type": "display_data",
          "data": {
            "text/plain": [
              "JobRole\n"
            ],
            "text/html": [
              "<pre style=\"white-space:pre;overflow-x:auto;line-height:normal;font-family:Menlo,'DejaVu Sans Mono',consolas,'Courier New',monospace\">JobRole\n",
              "</pre>\n"
            ]
          },
          "metadata": {}
        },
        {
          "output_type": "display_data",
          "data": {
            "text/plain": [
              "\n",
              "\n",
              "Balanced accuracy con las características seleccionadas: \u001b[1;36m0.7611\u001b[0m\n"
            ],
            "text/html": [
              "<pre style=\"white-space:pre;overflow-x:auto;line-height:normal;font-family:Menlo,'DejaVu Sans Mono',consolas,'Courier New',monospace\">\n",
              "\n",
              "Balanced accuracy con las características seleccionadas: <span style=\"color: #008080; text-decoration-color: #008080; font-weight: bold\">0.7611</span>\n",
              "</pre>\n"
            ]
          },
          "metadata": {}
        },
        {
          "output_type": "display_data",
          "data": {
            "text/plain": [
              "Tiempo de ejecución: \u001b[1;36m2.35423\u001b[0m segundos\n"
            ],
            "text/html": [
              "<pre style=\"white-space:pre;overflow-x:auto;line-height:normal;font-family:Menlo,'DejaVu Sans Mono',consolas,'Courier New',monospace\">Tiempo de ejecución: <span style=\"color: #008080; text-decoration-color: #008080; font-weight: bold\">2.35423</span> segundos\n",
              "</pre>\n"
            ]
          },
          "metadata": {}
        },
        {
          "output_type": "display_data",
          "data": {
            "text/plain": [
              "\n",
              "\n",
              "\u001b[34mMetrica:\u001b[0m \u001b[1;34mchi2\u001b[0m\n"
            ],
            "text/html": [
              "<pre style=\"white-space:pre;overflow-x:auto;line-height:normal;font-family:Menlo,'DejaVu Sans Mono',consolas,'Courier New',monospace\">\n",
              "\n",
              "<span style=\"color: #000080; text-decoration-color: #000080\">Metrica:</span> <span style=\"color: #000080; text-decoration-color: #000080; font-weight: bold\">chi2</span>\n",
              "</pre>\n"
            ]
          },
          "metadata": {}
        },
        {
          "output_type": "display_data",
          "data": {
            "text/plain": [
              "\u001b[32mTop \u001b[0m\u001b[1;32m5\u001b[0m\u001b[32m atributos más importantes:\u001b[0m\n"
            ],
            "text/html": [
              "<pre style=\"white-space:pre;overflow-x:auto;line-height:normal;font-family:Menlo,'DejaVu Sans Mono',consolas,'Courier New',monospace\"><span style=\"color: #008000; text-decoration-color: #008000\">Top </span><span style=\"color: #008000; text-decoration-color: #008000; font-weight: bold\">5</span><span style=\"color: #008000; text-decoration-color: #008000\"> atributos más importantes:</span>\n",
              "</pre>\n"
            ]
          },
          "metadata": {}
        },
        {
          "output_type": "display_data",
          "data": {
            "text/plain": [
              "Education\n"
            ],
            "text/html": [
              "<pre style=\"white-space:pre;overflow-x:auto;line-height:normal;font-family:Menlo,'DejaVu Sans Mono',consolas,'Courier New',monospace\">Education\n",
              "</pre>\n"
            ]
          },
          "metadata": {}
        },
        {
          "output_type": "display_data",
          "data": {
            "text/plain": [
              "Gender\n"
            ],
            "text/html": [
              "<pre style=\"white-space:pre;overflow-x:auto;line-height:normal;font-family:Menlo,'DejaVu Sans Mono',consolas,'Courier New',monospace\">Gender\n",
              "</pre>\n"
            ]
          },
          "metadata": {}
        },
        {
          "output_type": "display_data",
          "data": {
            "text/plain": [
              "JobRole\n"
            ],
            "text/html": [
              "<pre style=\"white-space:pre;overflow-x:auto;line-height:normal;font-family:Menlo,'DejaVu Sans Mono',consolas,'Courier New',monospace\">JobRole\n",
              "</pre>\n"
            ]
          },
          "metadata": {}
        },
        {
          "output_type": "display_data",
          "data": {
            "text/plain": [
              "MonthlyIncome\n"
            ],
            "text/html": [
              "<pre style=\"white-space:pre;overflow-x:auto;line-height:normal;font-family:Menlo,'DejaVu Sans Mono',consolas,'Courier New',monospace\">MonthlyIncome\n",
              "</pre>\n"
            ]
          },
          "metadata": {}
        },
        {
          "output_type": "display_data",
          "data": {
            "text/plain": [
              "Age\n"
            ],
            "text/html": [
              "<pre style=\"white-space:pre;overflow-x:auto;line-height:normal;font-family:Menlo,'DejaVu Sans Mono',consolas,'Courier New',monospace\">Age\n",
              "</pre>\n"
            ]
          },
          "metadata": {}
        },
        {
          "output_type": "display_data",
          "data": {
            "text/plain": [
              "\n",
              "\n",
              "Balanced accuracy con las características seleccionadas: \u001b[1;36m0.7197\u001b[0m\n"
            ],
            "text/html": [
              "<pre style=\"white-space:pre;overflow-x:auto;line-height:normal;font-family:Menlo,'DejaVu Sans Mono',consolas,'Courier New',monospace\">\n",
              "\n",
              "Balanced accuracy con las características seleccionadas: <span style=\"color: #008080; text-decoration-color: #008080; font-weight: bold\">0.7197</span>\n",
              "</pre>\n"
            ]
          },
          "metadata": {}
        },
        {
          "output_type": "display_data",
          "data": {
            "text/plain": [
              "Tiempo de ejecución: \u001b[1;36m2.44053\u001b[0m segundos\n"
            ],
            "text/html": [
              "<pre style=\"white-space:pre;overflow-x:auto;line-height:normal;font-family:Menlo,'DejaVu Sans Mono',consolas,'Courier New',monospace\">Tiempo de ejecución: <span style=\"color: #008080; text-decoration-color: #008080; font-weight: bold\">2.44053</span> segundos\n",
              "</pre>\n"
            ]
          },
          "metadata": {}
        },
        {
          "output_type": "display_data",
          "data": {
            "text/plain": [
              "\n",
              "Modelo: XGBClassifier\n"
            ],
            "text/html": [
              "<pre style=\"white-space:pre;overflow-x:auto;line-height:normal;font-family:Menlo,'DejaVu Sans Mono',consolas,'Courier New',monospace\">\n",
              "Modelo: XGBClassifier\n",
              "</pre>\n"
            ]
          },
          "metadata": {}
        },
        {
          "output_type": "display_data",
          "data": {
            "text/plain": [
              "\n",
              "\n",
              "\u001b[34mMetrica:\u001b[0m \u001b[1;34mf_classif\u001b[0m\n"
            ],
            "text/html": [
              "<pre style=\"white-space:pre;overflow-x:auto;line-height:normal;font-family:Menlo,'DejaVu Sans Mono',consolas,'Courier New',monospace\">\n",
              "\n",
              "<span style=\"color: #000080; text-decoration-color: #000080\">Metrica:</span> <span style=\"color: #000080; text-decoration-color: #000080; font-weight: bold\">f_classif</span>\n",
              "</pre>\n"
            ]
          },
          "metadata": {}
        },
        {
          "output_type": "display_data",
          "data": {
            "text/plain": [
              "\u001b[32mTop \u001b[0m\u001b[1;32m5\u001b[0m\u001b[32m atributos más importantes:\u001b[0m\n"
            ],
            "text/html": [
              "<pre style=\"white-space:pre;overflow-x:auto;line-height:normal;font-family:Menlo,'DejaVu Sans Mono',consolas,'Courier New',monospace\"><span style=\"color: #008000; text-decoration-color: #008000\">Top </span><span style=\"color: #008000; text-decoration-color: #008000; font-weight: bold\">5</span><span style=\"color: #008000; text-decoration-color: #008000\"> atributos más importantes:</span>\n",
              "</pre>\n"
            ]
          },
          "metadata": {}
        },
        {
          "output_type": "display_data",
          "data": {
            "text/plain": [
              "hrs\n"
            ],
            "text/html": [
              "<pre style=\"white-space:pre;overflow-x:auto;line-height:normal;font-family:Menlo,'DejaVu Sans Mono',consolas,'Courier New',monospace\">hrs\n",
              "</pre>\n"
            ]
          },
          "metadata": {}
        },
        {
          "output_type": "display_data",
          "data": {
            "text/plain": [
              "Gender\n"
            ],
            "text/html": [
              "<pre style=\"white-space:pre;overflow-x:auto;line-height:normal;font-family:Menlo,'DejaVu Sans Mono',consolas,'Courier New',monospace\">Gender\n",
              "</pre>\n"
            ]
          },
          "metadata": {}
        },
        {
          "output_type": "display_data",
          "data": {
            "text/plain": [
              "MonthlyIncome\n"
            ],
            "text/html": [
              "<pre style=\"white-space:pre;overflow-x:auto;line-height:normal;font-family:Menlo,'DejaVu Sans Mono',consolas,'Courier New',monospace\">MonthlyIncome\n",
              "</pre>\n"
            ]
          },
          "metadata": {}
        },
        {
          "output_type": "display_data",
          "data": {
            "text/plain": [
              "Over18\n"
            ],
            "text/html": [
              "<pre style=\"white-space:pre;overflow-x:auto;line-height:normal;font-family:Menlo,'DejaVu Sans Mono',consolas,'Courier New',monospace\">Over18\n",
              "</pre>\n"
            ]
          },
          "metadata": {}
        },
        {
          "output_type": "display_data",
          "data": {
            "text/plain": [
              "Age\n"
            ],
            "text/html": [
              "<pre style=\"white-space:pre;overflow-x:auto;line-height:normal;font-family:Menlo,'DejaVu Sans Mono',consolas,'Courier New',monospace\">Age\n",
              "</pre>\n"
            ]
          },
          "metadata": {}
        }
      ]
    }
  ]
}