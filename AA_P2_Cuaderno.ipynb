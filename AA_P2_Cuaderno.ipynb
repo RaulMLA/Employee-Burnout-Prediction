{
  "nbformat": 4,
  "nbformat_minor": 0,
  "metadata": {
    "colab": {
      "provenance": []
    },
    "kernelspec": {
      "name": "python3",
      "display_name": "Python 3"
    },
    "language_info": {
      "name": "python"
    }
  },
  "cells": [
    {
      "cell_type": "markdown",
      "source": [
        "![LogoUC3M](https://upload.wikimedia.org/wikipedia/commons/4/47/Acronimo_y_nombre_uc3m.png)\n",
        "\n",
        "Aprendizaje Automático · Grado en Ingeniería Informática · Curso 2022/23\n",
        "---\n",
        "**Cuaderno** - Práctica 2: Predicción del abandono (burnout) de empleados\n",
        "<br><br>\n",
        "***Grupo Reducido 82 - Grupo de laboratorio 13***"
      ],
      "metadata": {
        "id": "4Zg6lzjIRM8W"
      }
    },
    {
      "cell_type": "markdown",
      "source": [
        "# **Carga de datos**\n",
        "Para comenzar, importaremos las bibliotecas que necesitamos:\n",
        "\n",
        "+ `xgboost`: Para poder usar XGBoost en Boosting.\n",
        "+ `lightgbm`: Para poder usar LightGBM en Boosting."
      ],
      "metadata": {
        "id": "DLK890XpZQO8"
      }
    },
    {
      "cell_type": "code",
      "source": [
        "! pip install xgboost\n",
        "! pip install lightgbm"
      ],
      "metadata": {
        "colab": {
          "base_uri": "https://localhost:8080/"
        },
        "id": "BtIXVq4OHA59",
        "outputId": "afafbf35-f6af-4281-a205-af93421b8bfa"
      },
      "execution_count": null,
      "outputs": [
        {
          "output_type": "stream",
          "name": "stdout",
          "text": [
            "Looking in indexes: https://pypi.org/simple, https://us-python.pkg.dev/colab-wheels/public/simple/\n",
            "Requirement already satisfied: xgboost in /usr/local/lib/python3.10/dist-packages (1.7.5)\n",
            "Requirement already satisfied: numpy in /usr/local/lib/python3.10/dist-packages (from xgboost) (1.22.4)\n",
            "Requirement already satisfied: scipy in /usr/local/lib/python3.10/dist-packages (from xgboost) (1.10.1)\n",
            "Looking in indexes: https://pypi.org/simple, https://us-python.pkg.dev/colab-wheels/public/simple/\n",
            "Requirement already satisfied: lightgbm in /usr/local/lib/python3.10/dist-packages (3.3.5)\n",
            "Requirement already satisfied: numpy in /usr/local/lib/python3.10/dist-packages (from lightgbm) (1.22.4)\n",
            "Requirement already satisfied: scikit-learn!=0.22.0 in /usr/local/lib/python3.10/dist-packages (from lightgbm) (1.2.2)\n",
            "Requirement already satisfied: wheel in /usr/local/lib/python3.10/dist-packages (from lightgbm) (0.40.0)\n",
            "Requirement already satisfied: scipy in /usr/local/lib/python3.10/dist-packages (from lightgbm) (1.10.1)\n",
            "Requirement already satisfied: threadpoolctl>=2.0.0 in /usr/local/lib/python3.10/dist-packages (from scikit-learn!=0.22.0->lightgbm) (3.1.0)\n",
            "Requirement already satisfied: joblib>=1.1.1 in /usr/local/lib/python3.10/dist-packages (from scikit-learn!=0.22.0->lightgbm) (1.2.0)\n"
          ]
        }
      ]
    },
    {
      "cell_type": "markdown",
      "source": [
        "Una vez instaladas las bibliotecas necesarias, importamos **Numpy** y **Pandas** ya que los necesitaremos para el desarrollo de la práctica.\n",
        "Destacar que nos referiremos a **Numpy** como *np* y a **Pandas** como *pd* por simplicidad."
      ],
      "metadata": {
        "id": "u8-9pA4sYxg8"
      }
    },
    {
      "cell_type": "code",
      "source": [
        "import numpy as np\n",
        "import pandas as pd"
      ],
      "metadata": {
        "id": "SHJtOGN7YvSJ"
      },
      "execution_count": null,
      "outputs": []
    },
    {
      "cell_type": "markdown",
      "source": [
        "A continuación, cargaremos los datos necesarios. Dado que somos el **grupo 13**, usaremos los dos conjuntos de datos correspondientes.</br></br>Los datos serán divididos en un conjunto de **train** para entrenar y ajustar hiperparámetros, y un conjunto de **test** en el que evaluaremos las distintas posibilidades que se probarán en la práctica.</br></br>"
      ],
      "metadata": {
        "id": "p1e9JjuNZa7L"
      }
    },
    {
      "cell_type": "code",
      "source": [
        "import pickle\n",
        "from rich import print\n",
        "\n",
        "# Datos disponibles.\n",
        "with open('attrition_available_13.pkl', 'rb') as f:\n",
        "    data = pickle.load(f)\n",
        "\n",
        "df = pd.DataFrame(data)\n",
        "\n",
        "print(df)\n",
        "\n",
        "# Mostramos la información del conjunto de datos.\n",
        "print(f\"El conjunto de datos tiene {len(df)} instancias.\")"
      ],
      "metadata": {
        "colab": {
          "base_uri": "https://localhost:8080/",
          "height": 1000
        },
        "id": "6slH0IAEVEQJ",
        "outputId": "79449257-e255-4578-8578-fb1dafa3c5a1"
      },
      "execution_count": null,
      "outputs": [
        {
          "output_type": "display_data",
          "data": {
            "text/plain": [
              "           hrs  absences  JobInvolvement  PerformanceRating  \\\n",
              "\u001b[1;36m1\u001b[0m     \u001b[1;36m7.315971\u001b[0m      \u001b[1;36m13.0\u001b[0m             \u001b[1;36m2.0\u001b[0m                \u001b[1;36m4.0\u001b[0m   \n",
              "\u001b[1;36m6\u001b[0m     \u001b[1;36m6.450877\u001b[0m      \u001b[1;36m17.0\u001b[0m             \u001b[1;36m3.0\u001b[0m                \u001b[1;36m4.0\u001b[0m   \n",
              "\u001b[1;36m13\u001b[0m         NaN      \u001b[1;36m14.0\u001b[0m             NaN                \u001b[1;36m3.0\u001b[0m   \n",
              "\u001b[1;36m28\u001b[0m         NaN       NaN             \u001b[1;36m2.0\u001b[0m                \u001b[1;36m3.0\u001b[0m   \n",
              "\u001b[1;36m30\u001b[0m    \u001b[1;36m9.662808\u001b[0m      \u001b[1;36m11.0\u001b[0m             NaN                \u001b[1;36m3.0\u001b[0m   \n",
              "\u001b[33m...\u001b[0m        \u001b[33m...\u001b[0m       \u001b[33m...\u001b[0m             \u001b[33m...\u001b[0m                \u001b[33m...\u001b[0m   \n",
              "\u001b[1;36m4405\u001b[0m  \u001b[1;36m8.316921\u001b[0m       \u001b[1;36m6.0\u001b[0m             \u001b[1;36m3.0\u001b[0m                \u001b[1;36m3.0\u001b[0m   \n",
              "\u001b[1;36m4406\u001b[0m  \u001b[1;36m5.897197\u001b[0m       \u001b[1;36m8.0\u001b[0m             \u001b[1;36m2.0\u001b[0m                \u001b[1;36m3.0\u001b[0m   \n",
              "\u001b[1;36m4407\u001b[0m  \u001b[1;36m7.149526\u001b[0m      \u001b[1;36m18.0\u001b[0m             \u001b[1;36m3.0\u001b[0m                NaN   \n",
              "\u001b[1;36m4408\u001b[0m  \u001b[1;36m9.187612\u001b[0m       NaN             NaN                \u001b[1;36m3.0\u001b[0m   \n",
              "\u001b[1;36m4409\u001b[0m  \u001b[1;36m6.511790\u001b[0m      \u001b[1;36m17.0\u001b[0m             NaN                \u001b[1;36m3.0\u001b[0m   \n",
              "\n",
              "      EnvironmentSatisfaction  JobSatisfaction  WorkLifeBalance   Age  \\\n",
              "\u001b[1;36m1\u001b[0m                         \u001b[1;36m3.0\u001b[0m              \u001b[1;36m2.0\u001b[0m              NaN   NaN   \n",
              "\u001b[1;36m6\u001b[0m                         \u001b[1;36m1.0\u001b[0m              \u001b[1;36m3.0\u001b[0m              \u001b[1;36m1.0\u001b[0m  \u001b[1;36m28.0\u001b[0m   \n",
              "\u001b[1;36m13\u001b[0m                        NaN              \u001b[1;36m2.0\u001b[0m              \u001b[1;36m2.0\u001b[0m  \u001b[1;36m47.0\u001b[0m   \n",
              "\u001b[1;36m28\u001b[0m                        NaN              \u001b[1;36m3.0\u001b[0m              \u001b[1;36m1.0\u001b[0m  \u001b[1;36m44.0\u001b[0m   \n",
              "\u001b[1;36m30\u001b[0m                        \u001b[1;36m1.0\u001b[0m              \u001b[1;36m2.0\u001b[0m              \u001b[1;36m3.0\u001b[0m  \u001b[1;36m26.0\u001b[0m   \n",
              "\u001b[33m...\u001b[0m                       \u001b[33m...\u001b[0m              \u001b[33m...\u001b[0m              \u001b[33m...\u001b[0m   \u001b[33m...\u001b[0m   \n",
              "\u001b[1;36m4405\u001b[0m                      \u001b[1;36m4.0\u001b[0m              \u001b[1;36m1.0\u001b[0m              \u001b[1;36m3.0\u001b[0m  \u001b[1;36m42.0\u001b[0m   \n",
              "\u001b[1;36m4406\u001b[0m                      \u001b[1;36m4.0\u001b[0m              NaN              \u001b[1;36m3.0\u001b[0m   NaN   \n",
              "\u001b[1;36m4407\u001b[0m                      \u001b[1;36m1.0\u001b[0m              \u001b[1;36m3.0\u001b[0m              \u001b[1;36m3.0\u001b[0m  \u001b[1;36m25.0\u001b[0m   \n",
              "\u001b[1;36m4408\u001b[0m                      \u001b[1;36m4.0\u001b[0m              \u001b[1;36m1.0\u001b[0m              \u001b[1;36m3.0\u001b[0m  \u001b[1;36m42.0\u001b[0m   \n",
              "\u001b[1;36m4409\u001b[0m                      \u001b[1;36m1.0\u001b[0m              \u001b[1;36m3.0\u001b[0m              NaN  \u001b[1;36m40.0\u001b[0m   \n",
              "\n",
              "     Attrition     BusinessTravel  \u001b[33m...\u001b[0m NumCompaniesWorked  Over18  \\\n",
              "\u001b[1;36m1\u001b[0m          Yes  Travel_Frequently  \u001b[33m...\u001b[0m                \u001b[1;36m0.0\u001b[0m       Y   \n",
              "\u001b[1;36m6\u001b[0m          Yes      Travel_Rarely  \u001b[33m...\u001b[0m                \u001b[1;36m2.0\u001b[0m       Y   \n",
              "\u001b[1;36m13\u001b[0m         Yes         Non-Travel  \u001b[33m...\u001b[0m                NaN     NaN   \n",
              "\u001b[1;36m28\u001b[0m         Yes  Travel_Frequently  \u001b[33m...\u001b[0m                \u001b[1;36m3.0\u001b[0m       Y   \n",
              "\u001b[1;36m30\u001b[0m         Yes      Travel_Rarely  \u001b[33m...\u001b[0m                \u001b[1;36m2.0\u001b[0m       Y   \n",
              "\u001b[33m...\u001b[0m        \u001b[33m...\u001b[0m                \u001b[33m...\u001b[0m  \u001b[33m...\u001b[0m                \u001b[33m...\u001b[0m     \u001b[33m...\u001b[0m   \n",
              "\u001b[1;36m4405\u001b[0m        No      Travel_Rarely  \u001b[33m...\u001b[0m                \u001b[1;36m3.0\u001b[0m       Y   \n",
              "\u001b[1;36m4406\u001b[0m        No      Travel_Rarely  \u001b[33m...\u001b[0m                \u001b[1;36m2.0\u001b[0m       Y   \n",
              "\u001b[1;36m4407\u001b[0m        No      Travel_Rarely  \u001b[33m...\u001b[0m                \u001b[1;36m0.0\u001b[0m     NaN   \n",
              "\u001b[1;36m4408\u001b[0m        No      Travel_Rarely  \u001b[33m...\u001b[0m                \u001b[1;36m0.0\u001b[0m       Y   \n",
              "\u001b[1;36m4409\u001b[0m        No      Travel_Rarely  \u001b[33m...\u001b[0m                \u001b[1;36m0.0\u001b[0m       Y   \n",
              "\n",
              "      PercentSalaryHike StandardHours  StockOptionLevel  TotalWorkingYears  \\\n",
              "\u001b[1;36m1\u001b[0m                   NaN           \u001b[1;36m8.0\u001b[0m               \u001b[1;36m1.0\u001b[0m                \u001b[1;36m6.0\u001b[0m   \n",
              "\u001b[1;36m6\u001b[0m                  \u001b[1;36m20.0\u001b[0m           \u001b[1;36m8.0\u001b[0m               \u001b[1;36m1.0\u001b[0m                \u001b[1;36m5.0\u001b[0m   \n",
              "\u001b[1;36m13\u001b[0m                  NaN           \u001b[1;36m8.0\u001b[0m               \u001b[1;36m2.0\u001b[0m               \u001b[1;36m10.0\u001b[0m   \n",
              "\u001b[1;36m28\u001b[0m                 \u001b[1;36m14.0\u001b[0m           \u001b[1;36m8.0\u001b[0m               \u001b[1;36m1.0\u001b[0m                NaN   \n",
              "\u001b[1;36m30\u001b[0m                 \u001b[1;36m11.0\u001b[0m           \u001b[1;36m8.0\u001b[0m               NaN                \u001b[1;36m5.0\u001b[0m   \n",
              "\u001b[33m...\u001b[0m                 \u001b[33m...\u001b[0m           \u001b[33m...\u001b[0m               \u001b[33m...\u001b[0m                \u001b[33m...\u001b[0m   \n",
              "\u001b[1;36m4405\u001b[0m                NaN           \u001b[1;36m8.0\u001b[0m               \u001b[1;36m1.0\u001b[0m               \u001b[1;36m10.0\u001b[0m   \n",
              "\u001b[1;36m4406\u001b[0m               \u001b[1;36m15.0\u001b[0m           \u001b[1;36m8.0\u001b[0m               \u001b[1;36m0.0\u001b[0m               \u001b[1;36m10.0\u001b[0m   \n",
              "\u001b[1;36m4407\u001b[0m                NaN           \u001b[1;36m8.0\u001b[0m               \u001b[1;36m0.0\u001b[0m                \u001b[1;36m5.0\u001b[0m   \n",
              "\u001b[1;36m4408\u001b[0m               \u001b[1;36m14.0\u001b[0m           \u001b[1;36m8.0\u001b[0m               \u001b[1;36m1.0\u001b[0m               \u001b[1;36m10.0\u001b[0m   \n",
              "\u001b[1;36m4409\u001b[0m               \u001b[1;36m12.0\u001b[0m           \u001b[1;36m8.0\u001b[0m               \u001b[1;36m0.0\u001b[0m                NaN   \n",
              "\n",
              "     TrainingTimesLastYear  YearsAtCompany YearsSinceLastPromotion  \\\n",
              "\u001b[1;36m1\u001b[0m                      \u001b[1;36m3.0\u001b[0m             \u001b[1;36m5.0\u001b[0m                       \u001b[1;36m1\u001b[0m   \n",
              "\u001b[1;36m6\u001b[0m                      \u001b[1;36m2.0\u001b[0m             NaN                       \u001b[1;36m0\u001b[0m   \n",
              "\u001b[1;36m13\u001b[0m                     \u001b[1;36m4.0\u001b[0m            \u001b[1;36m10.0\u001b[0m                       \u001b[1;36m9\u001b[0m   \n",
              "\u001b[1;36m28\u001b[0m                     \u001b[1;36m2.0\u001b[0m             NaN                       \u001b[1;36m0\u001b[0m   \n",
              "\u001b[1;36m30\u001b[0m                     \u001b[1;36m5.0\u001b[0m             \u001b[1;36m3.0\u001b[0m                       \u001b[1;36m0\u001b[0m   \n",
              "\u001b[33m...\u001b[0m                    \u001b[33m...\u001b[0m             \u001b[33m...\u001b[0m                     \u001b[33m...\u001b[0m   \n",
              "\u001b[1;36m4405\u001b[0m                   NaN             \u001b[1;36m3.0\u001b[0m                       \u001b[1;36m0\u001b[0m   \n",
              "\u001b[1;36m4406\u001b[0m                   \u001b[1;36m2.0\u001b[0m             NaN                       \u001b[1;36m0\u001b[0m   \n",
              "\u001b[1;36m4407\u001b[0m                   \u001b[1;36m4.0\u001b[0m             \u001b[1;36m4.0\u001b[0m                       \u001b[1;36m1\u001b[0m   \n",
              "\u001b[1;36m4408\u001b[0m                   \u001b[1;36m2.0\u001b[0m             NaN                       \u001b[1;36m7\u001b[0m   \n",
              "\u001b[1;36m4409\u001b[0m                   \u001b[1;36m6.0\u001b[0m            \u001b[1;36m21.0\u001b[0m                       \u001b[1;36m3\u001b[0m   \n",
              "\n",
              "     YearsWithCurrManager  \n",
              "\u001b[1;36m1\u001b[0m                     NaN  \n",
              "\u001b[1;36m6\u001b[0m                     \u001b[1;36m0.0\u001b[0m  \n",
              "\u001b[1;36m13\u001b[0m                    \u001b[1;36m9.0\u001b[0m  \n",
              "\u001b[1;36m28\u001b[0m                    \u001b[1;36m0.0\u001b[0m  \n",
              "\u001b[1;36m30\u001b[0m                    \u001b[1;36m2.0\u001b[0m  \n",
              "\u001b[33m...\u001b[0m                   \u001b[33m...\u001b[0m  \n",
              "\u001b[1;36m4405\u001b[0m                  \u001b[1;36m2.0\u001b[0m  \n",
              "\u001b[1;36m4406\u001b[0m                  NaN  \n",
              "\u001b[1;36m4407\u001b[0m                  \u001b[1;36m2.0\u001b[0m  \n",
              "\u001b[1;36m4408\u001b[0m                  \u001b[1;36m8.0\u001b[0m  \n",
              "\u001b[1;36m4409\u001b[0m                  \u001b[1;36m9.0\u001b[0m  \n",
              "\n",
              "\u001b[1m[\u001b[0m\u001b[1;36m4410\u001b[0m rows x \u001b[1;36m31\u001b[0m columns\u001b[1m]\u001b[0m\n"
            ],
            "text/html": [
              "<pre style=\"white-space:pre;overflow-x:auto;line-height:normal;font-family:Menlo,'DejaVu Sans Mono',consolas,'Courier New',monospace\">           hrs  absences  JobInvolvement  PerformanceRating  \\\n",
              "<span style=\"color: #008080; text-decoration-color: #008080; font-weight: bold\">1</span>     <span style=\"color: #008080; text-decoration-color: #008080; font-weight: bold\">7.315971</span>      <span style=\"color: #008080; text-decoration-color: #008080; font-weight: bold\">13.0</span>             <span style=\"color: #008080; text-decoration-color: #008080; font-weight: bold\">2.0</span>                <span style=\"color: #008080; text-decoration-color: #008080; font-weight: bold\">4.0</span>   \n",
              "<span style=\"color: #008080; text-decoration-color: #008080; font-weight: bold\">6</span>     <span style=\"color: #008080; text-decoration-color: #008080; font-weight: bold\">6.450877</span>      <span style=\"color: #008080; text-decoration-color: #008080; font-weight: bold\">17.0</span>             <span style=\"color: #008080; text-decoration-color: #008080; font-weight: bold\">3.0</span>                <span style=\"color: #008080; text-decoration-color: #008080; font-weight: bold\">4.0</span>   \n",
              "<span style=\"color: #008080; text-decoration-color: #008080; font-weight: bold\">13</span>         NaN      <span style=\"color: #008080; text-decoration-color: #008080; font-weight: bold\">14.0</span>             NaN                <span style=\"color: #008080; text-decoration-color: #008080; font-weight: bold\">3.0</span>   \n",
              "<span style=\"color: #008080; text-decoration-color: #008080; font-weight: bold\">28</span>         NaN       NaN             <span style=\"color: #008080; text-decoration-color: #008080; font-weight: bold\">2.0</span>                <span style=\"color: #008080; text-decoration-color: #008080; font-weight: bold\">3.0</span>   \n",
              "<span style=\"color: #008080; text-decoration-color: #008080; font-weight: bold\">30</span>    <span style=\"color: #008080; text-decoration-color: #008080; font-weight: bold\">9.662808</span>      <span style=\"color: #008080; text-decoration-color: #008080; font-weight: bold\">11.0</span>             NaN                <span style=\"color: #008080; text-decoration-color: #008080; font-weight: bold\">3.0</span>   \n",
              "<span style=\"color: #808000; text-decoration-color: #808000\">...</span>        <span style=\"color: #808000; text-decoration-color: #808000\">...</span>       <span style=\"color: #808000; text-decoration-color: #808000\">...</span>             <span style=\"color: #808000; text-decoration-color: #808000\">...</span>                <span style=\"color: #808000; text-decoration-color: #808000\">...</span>   \n",
              "<span style=\"color: #008080; text-decoration-color: #008080; font-weight: bold\">4405</span>  <span style=\"color: #008080; text-decoration-color: #008080; font-weight: bold\">8.316921</span>       <span style=\"color: #008080; text-decoration-color: #008080; font-weight: bold\">6.0</span>             <span style=\"color: #008080; text-decoration-color: #008080; font-weight: bold\">3.0</span>                <span style=\"color: #008080; text-decoration-color: #008080; font-weight: bold\">3.0</span>   \n",
              "<span style=\"color: #008080; text-decoration-color: #008080; font-weight: bold\">4406</span>  <span style=\"color: #008080; text-decoration-color: #008080; font-weight: bold\">5.897197</span>       <span style=\"color: #008080; text-decoration-color: #008080; font-weight: bold\">8.0</span>             <span style=\"color: #008080; text-decoration-color: #008080; font-weight: bold\">2.0</span>                <span style=\"color: #008080; text-decoration-color: #008080; font-weight: bold\">3.0</span>   \n",
              "<span style=\"color: #008080; text-decoration-color: #008080; font-weight: bold\">4407</span>  <span style=\"color: #008080; text-decoration-color: #008080; font-weight: bold\">7.149526</span>      <span style=\"color: #008080; text-decoration-color: #008080; font-weight: bold\">18.0</span>             <span style=\"color: #008080; text-decoration-color: #008080; font-weight: bold\">3.0</span>                NaN   \n",
              "<span style=\"color: #008080; text-decoration-color: #008080; font-weight: bold\">4408</span>  <span style=\"color: #008080; text-decoration-color: #008080; font-weight: bold\">9.187612</span>       NaN             NaN                <span style=\"color: #008080; text-decoration-color: #008080; font-weight: bold\">3.0</span>   \n",
              "<span style=\"color: #008080; text-decoration-color: #008080; font-weight: bold\">4409</span>  <span style=\"color: #008080; text-decoration-color: #008080; font-weight: bold\">6.511790</span>      <span style=\"color: #008080; text-decoration-color: #008080; font-weight: bold\">17.0</span>             NaN                <span style=\"color: #008080; text-decoration-color: #008080; font-weight: bold\">3.0</span>   \n",
              "\n",
              "      EnvironmentSatisfaction  JobSatisfaction  WorkLifeBalance   Age  \\\n",
              "<span style=\"color: #008080; text-decoration-color: #008080; font-weight: bold\">1</span>                         <span style=\"color: #008080; text-decoration-color: #008080; font-weight: bold\">3.0</span>              <span style=\"color: #008080; text-decoration-color: #008080; font-weight: bold\">2.0</span>              NaN   NaN   \n",
              "<span style=\"color: #008080; text-decoration-color: #008080; font-weight: bold\">6</span>                         <span style=\"color: #008080; text-decoration-color: #008080; font-weight: bold\">1.0</span>              <span style=\"color: #008080; text-decoration-color: #008080; font-weight: bold\">3.0</span>              <span style=\"color: #008080; text-decoration-color: #008080; font-weight: bold\">1.0</span>  <span style=\"color: #008080; text-decoration-color: #008080; font-weight: bold\">28.0</span>   \n",
              "<span style=\"color: #008080; text-decoration-color: #008080; font-weight: bold\">13</span>                        NaN              <span style=\"color: #008080; text-decoration-color: #008080; font-weight: bold\">2.0</span>              <span style=\"color: #008080; text-decoration-color: #008080; font-weight: bold\">2.0</span>  <span style=\"color: #008080; text-decoration-color: #008080; font-weight: bold\">47.0</span>   \n",
              "<span style=\"color: #008080; text-decoration-color: #008080; font-weight: bold\">28</span>                        NaN              <span style=\"color: #008080; text-decoration-color: #008080; font-weight: bold\">3.0</span>              <span style=\"color: #008080; text-decoration-color: #008080; font-weight: bold\">1.0</span>  <span style=\"color: #008080; text-decoration-color: #008080; font-weight: bold\">44.0</span>   \n",
              "<span style=\"color: #008080; text-decoration-color: #008080; font-weight: bold\">30</span>                        <span style=\"color: #008080; text-decoration-color: #008080; font-weight: bold\">1.0</span>              <span style=\"color: #008080; text-decoration-color: #008080; font-weight: bold\">2.0</span>              <span style=\"color: #008080; text-decoration-color: #008080; font-weight: bold\">3.0</span>  <span style=\"color: #008080; text-decoration-color: #008080; font-weight: bold\">26.0</span>   \n",
              "<span style=\"color: #808000; text-decoration-color: #808000\">...</span>                       <span style=\"color: #808000; text-decoration-color: #808000\">...</span>              <span style=\"color: #808000; text-decoration-color: #808000\">...</span>              <span style=\"color: #808000; text-decoration-color: #808000\">...</span>   <span style=\"color: #808000; text-decoration-color: #808000\">...</span>   \n",
              "<span style=\"color: #008080; text-decoration-color: #008080; font-weight: bold\">4405</span>                      <span style=\"color: #008080; text-decoration-color: #008080; font-weight: bold\">4.0</span>              <span style=\"color: #008080; text-decoration-color: #008080; font-weight: bold\">1.0</span>              <span style=\"color: #008080; text-decoration-color: #008080; font-weight: bold\">3.0</span>  <span style=\"color: #008080; text-decoration-color: #008080; font-weight: bold\">42.0</span>   \n",
              "<span style=\"color: #008080; text-decoration-color: #008080; font-weight: bold\">4406</span>                      <span style=\"color: #008080; text-decoration-color: #008080; font-weight: bold\">4.0</span>              NaN              <span style=\"color: #008080; text-decoration-color: #008080; font-weight: bold\">3.0</span>   NaN   \n",
              "<span style=\"color: #008080; text-decoration-color: #008080; font-weight: bold\">4407</span>                      <span style=\"color: #008080; text-decoration-color: #008080; font-weight: bold\">1.0</span>              <span style=\"color: #008080; text-decoration-color: #008080; font-weight: bold\">3.0</span>              <span style=\"color: #008080; text-decoration-color: #008080; font-weight: bold\">3.0</span>  <span style=\"color: #008080; text-decoration-color: #008080; font-weight: bold\">25.0</span>   \n",
              "<span style=\"color: #008080; text-decoration-color: #008080; font-weight: bold\">4408</span>                      <span style=\"color: #008080; text-decoration-color: #008080; font-weight: bold\">4.0</span>              <span style=\"color: #008080; text-decoration-color: #008080; font-weight: bold\">1.0</span>              <span style=\"color: #008080; text-decoration-color: #008080; font-weight: bold\">3.0</span>  <span style=\"color: #008080; text-decoration-color: #008080; font-weight: bold\">42.0</span>   \n",
              "<span style=\"color: #008080; text-decoration-color: #008080; font-weight: bold\">4409</span>                      <span style=\"color: #008080; text-decoration-color: #008080; font-weight: bold\">1.0</span>              <span style=\"color: #008080; text-decoration-color: #008080; font-weight: bold\">3.0</span>              NaN  <span style=\"color: #008080; text-decoration-color: #008080; font-weight: bold\">40.0</span>   \n",
              "\n",
              "     Attrition     BusinessTravel  <span style=\"color: #808000; text-decoration-color: #808000\">...</span> NumCompaniesWorked  Over18  \\\n",
              "<span style=\"color: #008080; text-decoration-color: #008080; font-weight: bold\">1</span>          Yes  Travel_Frequently  <span style=\"color: #808000; text-decoration-color: #808000\">...</span>                <span style=\"color: #008080; text-decoration-color: #008080; font-weight: bold\">0.0</span>       Y   \n",
              "<span style=\"color: #008080; text-decoration-color: #008080; font-weight: bold\">6</span>          Yes      Travel_Rarely  <span style=\"color: #808000; text-decoration-color: #808000\">...</span>                <span style=\"color: #008080; text-decoration-color: #008080; font-weight: bold\">2.0</span>       Y   \n",
              "<span style=\"color: #008080; text-decoration-color: #008080; font-weight: bold\">13</span>         Yes         Non-Travel  <span style=\"color: #808000; text-decoration-color: #808000\">...</span>                NaN     NaN   \n",
              "<span style=\"color: #008080; text-decoration-color: #008080; font-weight: bold\">28</span>         Yes  Travel_Frequently  <span style=\"color: #808000; text-decoration-color: #808000\">...</span>                <span style=\"color: #008080; text-decoration-color: #008080; font-weight: bold\">3.0</span>       Y   \n",
              "<span style=\"color: #008080; text-decoration-color: #008080; font-weight: bold\">30</span>         Yes      Travel_Rarely  <span style=\"color: #808000; text-decoration-color: #808000\">...</span>                <span style=\"color: #008080; text-decoration-color: #008080; font-weight: bold\">2.0</span>       Y   \n",
              "<span style=\"color: #808000; text-decoration-color: #808000\">...</span>        <span style=\"color: #808000; text-decoration-color: #808000\">...</span>                <span style=\"color: #808000; text-decoration-color: #808000\">...</span>  <span style=\"color: #808000; text-decoration-color: #808000\">...</span>                <span style=\"color: #808000; text-decoration-color: #808000\">...</span>     <span style=\"color: #808000; text-decoration-color: #808000\">...</span>   \n",
              "<span style=\"color: #008080; text-decoration-color: #008080; font-weight: bold\">4405</span>        No      Travel_Rarely  <span style=\"color: #808000; text-decoration-color: #808000\">...</span>                <span style=\"color: #008080; text-decoration-color: #008080; font-weight: bold\">3.0</span>       Y   \n",
              "<span style=\"color: #008080; text-decoration-color: #008080; font-weight: bold\">4406</span>        No      Travel_Rarely  <span style=\"color: #808000; text-decoration-color: #808000\">...</span>                <span style=\"color: #008080; text-decoration-color: #008080; font-weight: bold\">2.0</span>       Y   \n",
              "<span style=\"color: #008080; text-decoration-color: #008080; font-weight: bold\">4407</span>        No      Travel_Rarely  <span style=\"color: #808000; text-decoration-color: #808000\">...</span>                <span style=\"color: #008080; text-decoration-color: #008080; font-weight: bold\">0.0</span>     NaN   \n",
              "<span style=\"color: #008080; text-decoration-color: #008080; font-weight: bold\">4408</span>        No      Travel_Rarely  <span style=\"color: #808000; text-decoration-color: #808000\">...</span>                <span style=\"color: #008080; text-decoration-color: #008080; font-weight: bold\">0.0</span>       Y   \n",
              "<span style=\"color: #008080; text-decoration-color: #008080; font-weight: bold\">4409</span>        No      Travel_Rarely  <span style=\"color: #808000; text-decoration-color: #808000\">...</span>                <span style=\"color: #008080; text-decoration-color: #008080; font-weight: bold\">0.0</span>       Y   \n",
              "\n",
              "      PercentSalaryHike StandardHours  StockOptionLevel  TotalWorkingYears  \\\n",
              "<span style=\"color: #008080; text-decoration-color: #008080; font-weight: bold\">1</span>                   NaN           <span style=\"color: #008080; text-decoration-color: #008080; font-weight: bold\">8.0</span>               <span style=\"color: #008080; text-decoration-color: #008080; font-weight: bold\">1.0</span>                <span style=\"color: #008080; text-decoration-color: #008080; font-weight: bold\">6.0</span>   \n",
              "<span style=\"color: #008080; text-decoration-color: #008080; font-weight: bold\">6</span>                  <span style=\"color: #008080; text-decoration-color: #008080; font-weight: bold\">20.0</span>           <span style=\"color: #008080; text-decoration-color: #008080; font-weight: bold\">8.0</span>               <span style=\"color: #008080; text-decoration-color: #008080; font-weight: bold\">1.0</span>                <span style=\"color: #008080; text-decoration-color: #008080; font-weight: bold\">5.0</span>   \n",
              "<span style=\"color: #008080; text-decoration-color: #008080; font-weight: bold\">13</span>                  NaN           <span style=\"color: #008080; text-decoration-color: #008080; font-weight: bold\">8.0</span>               <span style=\"color: #008080; text-decoration-color: #008080; font-weight: bold\">2.0</span>               <span style=\"color: #008080; text-decoration-color: #008080; font-weight: bold\">10.0</span>   \n",
              "<span style=\"color: #008080; text-decoration-color: #008080; font-weight: bold\">28</span>                 <span style=\"color: #008080; text-decoration-color: #008080; font-weight: bold\">14.0</span>           <span style=\"color: #008080; text-decoration-color: #008080; font-weight: bold\">8.0</span>               <span style=\"color: #008080; text-decoration-color: #008080; font-weight: bold\">1.0</span>                NaN   \n",
              "<span style=\"color: #008080; text-decoration-color: #008080; font-weight: bold\">30</span>                 <span style=\"color: #008080; text-decoration-color: #008080; font-weight: bold\">11.0</span>           <span style=\"color: #008080; text-decoration-color: #008080; font-weight: bold\">8.0</span>               NaN                <span style=\"color: #008080; text-decoration-color: #008080; font-weight: bold\">5.0</span>   \n",
              "<span style=\"color: #808000; text-decoration-color: #808000\">...</span>                 <span style=\"color: #808000; text-decoration-color: #808000\">...</span>           <span style=\"color: #808000; text-decoration-color: #808000\">...</span>               <span style=\"color: #808000; text-decoration-color: #808000\">...</span>                <span style=\"color: #808000; text-decoration-color: #808000\">...</span>   \n",
              "<span style=\"color: #008080; text-decoration-color: #008080; font-weight: bold\">4405</span>                NaN           <span style=\"color: #008080; text-decoration-color: #008080; font-weight: bold\">8.0</span>               <span style=\"color: #008080; text-decoration-color: #008080; font-weight: bold\">1.0</span>               <span style=\"color: #008080; text-decoration-color: #008080; font-weight: bold\">10.0</span>   \n",
              "<span style=\"color: #008080; text-decoration-color: #008080; font-weight: bold\">4406</span>               <span style=\"color: #008080; text-decoration-color: #008080; font-weight: bold\">15.0</span>           <span style=\"color: #008080; text-decoration-color: #008080; font-weight: bold\">8.0</span>               <span style=\"color: #008080; text-decoration-color: #008080; font-weight: bold\">0.0</span>               <span style=\"color: #008080; text-decoration-color: #008080; font-weight: bold\">10.0</span>   \n",
              "<span style=\"color: #008080; text-decoration-color: #008080; font-weight: bold\">4407</span>                NaN           <span style=\"color: #008080; text-decoration-color: #008080; font-weight: bold\">8.0</span>               <span style=\"color: #008080; text-decoration-color: #008080; font-weight: bold\">0.0</span>                <span style=\"color: #008080; text-decoration-color: #008080; font-weight: bold\">5.0</span>   \n",
              "<span style=\"color: #008080; text-decoration-color: #008080; font-weight: bold\">4408</span>               <span style=\"color: #008080; text-decoration-color: #008080; font-weight: bold\">14.0</span>           <span style=\"color: #008080; text-decoration-color: #008080; font-weight: bold\">8.0</span>               <span style=\"color: #008080; text-decoration-color: #008080; font-weight: bold\">1.0</span>               <span style=\"color: #008080; text-decoration-color: #008080; font-weight: bold\">10.0</span>   \n",
              "<span style=\"color: #008080; text-decoration-color: #008080; font-weight: bold\">4409</span>               <span style=\"color: #008080; text-decoration-color: #008080; font-weight: bold\">12.0</span>           <span style=\"color: #008080; text-decoration-color: #008080; font-weight: bold\">8.0</span>               <span style=\"color: #008080; text-decoration-color: #008080; font-weight: bold\">0.0</span>                NaN   \n",
              "\n",
              "     TrainingTimesLastYear  YearsAtCompany YearsSinceLastPromotion  \\\n",
              "<span style=\"color: #008080; text-decoration-color: #008080; font-weight: bold\">1</span>                      <span style=\"color: #008080; text-decoration-color: #008080; font-weight: bold\">3.0</span>             <span style=\"color: #008080; text-decoration-color: #008080; font-weight: bold\">5.0</span>                       <span style=\"color: #008080; text-decoration-color: #008080; font-weight: bold\">1</span>   \n",
              "<span style=\"color: #008080; text-decoration-color: #008080; font-weight: bold\">6</span>                      <span style=\"color: #008080; text-decoration-color: #008080; font-weight: bold\">2.0</span>             NaN                       <span style=\"color: #008080; text-decoration-color: #008080; font-weight: bold\">0</span>   \n",
              "<span style=\"color: #008080; text-decoration-color: #008080; font-weight: bold\">13</span>                     <span style=\"color: #008080; text-decoration-color: #008080; font-weight: bold\">4.0</span>            <span style=\"color: #008080; text-decoration-color: #008080; font-weight: bold\">10.0</span>                       <span style=\"color: #008080; text-decoration-color: #008080; font-weight: bold\">9</span>   \n",
              "<span style=\"color: #008080; text-decoration-color: #008080; font-weight: bold\">28</span>                     <span style=\"color: #008080; text-decoration-color: #008080; font-weight: bold\">2.0</span>             NaN                       <span style=\"color: #008080; text-decoration-color: #008080; font-weight: bold\">0</span>   \n",
              "<span style=\"color: #008080; text-decoration-color: #008080; font-weight: bold\">30</span>                     <span style=\"color: #008080; text-decoration-color: #008080; font-weight: bold\">5.0</span>             <span style=\"color: #008080; text-decoration-color: #008080; font-weight: bold\">3.0</span>                       <span style=\"color: #008080; text-decoration-color: #008080; font-weight: bold\">0</span>   \n",
              "<span style=\"color: #808000; text-decoration-color: #808000\">...</span>                    <span style=\"color: #808000; text-decoration-color: #808000\">...</span>             <span style=\"color: #808000; text-decoration-color: #808000\">...</span>                     <span style=\"color: #808000; text-decoration-color: #808000\">...</span>   \n",
              "<span style=\"color: #008080; text-decoration-color: #008080; font-weight: bold\">4405</span>                   NaN             <span style=\"color: #008080; text-decoration-color: #008080; font-weight: bold\">3.0</span>                       <span style=\"color: #008080; text-decoration-color: #008080; font-weight: bold\">0</span>   \n",
              "<span style=\"color: #008080; text-decoration-color: #008080; font-weight: bold\">4406</span>                   <span style=\"color: #008080; text-decoration-color: #008080; font-weight: bold\">2.0</span>             NaN                       <span style=\"color: #008080; text-decoration-color: #008080; font-weight: bold\">0</span>   \n",
              "<span style=\"color: #008080; text-decoration-color: #008080; font-weight: bold\">4407</span>                   <span style=\"color: #008080; text-decoration-color: #008080; font-weight: bold\">4.0</span>             <span style=\"color: #008080; text-decoration-color: #008080; font-weight: bold\">4.0</span>                       <span style=\"color: #008080; text-decoration-color: #008080; font-weight: bold\">1</span>   \n",
              "<span style=\"color: #008080; text-decoration-color: #008080; font-weight: bold\">4408</span>                   <span style=\"color: #008080; text-decoration-color: #008080; font-weight: bold\">2.0</span>             NaN                       <span style=\"color: #008080; text-decoration-color: #008080; font-weight: bold\">7</span>   \n",
              "<span style=\"color: #008080; text-decoration-color: #008080; font-weight: bold\">4409</span>                   <span style=\"color: #008080; text-decoration-color: #008080; font-weight: bold\">6.0</span>            <span style=\"color: #008080; text-decoration-color: #008080; font-weight: bold\">21.0</span>                       <span style=\"color: #008080; text-decoration-color: #008080; font-weight: bold\">3</span>   \n",
              "\n",
              "     YearsWithCurrManager  \n",
              "<span style=\"color: #008080; text-decoration-color: #008080; font-weight: bold\">1</span>                     NaN  \n",
              "<span style=\"color: #008080; text-decoration-color: #008080; font-weight: bold\">6</span>                     <span style=\"color: #008080; text-decoration-color: #008080; font-weight: bold\">0.0</span>  \n",
              "<span style=\"color: #008080; text-decoration-color: #008080; font-weight: bold\">13</span>                    <span style=\"color: #008080; text-decoration-color: #008080; font-weight: bold\">9.0</span>  \n",
              "<span style=\"color: #008080; text-decoration-color: #008080; font-weight: bold\">28</span>                    <span style=\"color: #008080; text-decoration-color: #008080; font-weight: bold\">0.0</span>  \n",
              "<span style=\"color: #008080; text-decoration-color: #008080; font-weight: bold\">30</span>                    <span style=\"color: #008080; text-decoration-color: #008080; font-weight: bold\">2.0</span>  \n",
              "<span style=\"color: #808000; text-decoration-color: #808000\">...</span>                   <span style=\"color: #808000; text-decoration-color: #808000\">...</span>  \n",
              "<span style=\"color: #008080; text-decoration-color: #008080; font-weight: bold\">4405</span>                  <span style=\"color: #008080; text-decoration-color: #008080; font-weight: bold\">2.0</span>  \n",
              "<span style=\"color: #008080; text-decoration-color: #008080; font-weight: bold\">4406</span>                  NaN  \n",
              "<span style=\"color: #008080; text-decoration-color: #008080; font-weight: bold\">4407</span>                  <span style=\"color: #008080; text-decoration-color: #008080; font-weight: bold\">2.0</span>  \n",
              "<span style=\"color: #008080; text-decoration-color: #008080; font-weight: bold\">4408</span>                  <span style=\"color: #008080; text-decoration-color: #008080; font-weight: bold\">8.0</span>  \n",
              "<span style=\"color: #008080; text-decoration-color: #008080; font-weight: bold\">4409</span>                  <span style=\"color: #008080; text-decoration-color: #008080; font-weight: bold\">9.0</span>  \n",
              "\n",
              "<span style=\"font-weight: bold\">[</span><span style=\"color: #008080; text-decoration-color: #008080; font-weight: bold\">4410</span> rows x <span style=\"color: #008080; text-decoration-color: #008080; font-weight: bold\">31</span> columns<span style=\"font-weight: bold\">]</span>\n",
              "</pre>\n"
            ]
          },
          "metadata": {}
        },
        {
          "output_type": "display_data",
          "data": {
            "text/plain": [
              "El conjunto de datos tiene \u001b[1;36m4410\u001b[0m instancias.\n"
            ],
            "text/html": [
              "<pre style=\"white-space:pre;overflow-x:auto;line-height:normal;font-family:Menlo,'DejaVu Sans Mono',consolas,'Courier New',monospace\">El conjunto de datos tiene <span style=\"color: #008080; text-decoration-color: #008080; font-weight: bold\">4410</span> instancias.\n",
              "</pre>\n"
            ]
          },
          "metadata": {}
        }
      ]
    },
    {
      "cell_type": "markdown",
      "source": [
        "A continuación, separamos la **matriz de atributos** (**X**) y el **vector de la variable de respuesta** *salida* (**y**)."
      ],
      "metadata": {
        "id": "eAJdBXFTbzlR"
      }
    },
    {
      "cell_type": "code",
      "source": [
        "# Datos.\n",
        "X = df.drop('Attrition', axis=1)\n",
        "\n",
        "# Etiquetas.\n",
        "y = df.Attrition\n",
        "\n",
        "print(y)"
      ],
      "metadata": {
        "colab": {
          "base_uri": "https://localhost:8080/",
          "height": 209
        },
        "id": "8-XNPp1Cb0XD",
        "outputId": "4723040a-16ee-4471-a9e8-8ae101fbd8fd"
      },
      "execution_count": null,
      "outputs": [
        {
          "output_type": "display_data",
          "data": {
            "text/plain": [
              "\u001b[1;36m1\u001b[0m       Yes\n",
              "\u001b[1;36m6\u001b[0m       Yes\n",
              "\u001b[1;36m13\u001b[0m      Yes\n",
              "\u001b[1;36m28\u001b[0m      Yes\n",
              "\u001b[1;36m30\u001b[0m      Yes\n",
              "       \u001b[33m...\u001b[0m \n",
              "\u001b[1;36m4405\u001b[0m     No\n",
              "\u001b[1;36m4406\u001b[0m     No\n",
              "\u001b[1;36m4407\u001b[0m     No\n",
              "\u001b[1;36m4408\u001b[0m     No\n",
              "\u001b[1;36m4409\u001b[0m     No\n",
              "Name: Attrition, Length: \u001b[1;36m4410\u001b[0m, dtype: object\n"
            ],
            "text/html": [
              "<pre style=\"white-space:pre;overflow-x:auto;line-height:normal;font-family:Menlo,'DejaVu Sans Mono',consolas,'Courier New',monospace\"><span style=\"color: #008080; text-decoration-color: #008080; font-weight: bold\">1</span>       Yes\n",
              "<span style=\"color: #008080; text-decoration-color: #008080; font-weight: bold\">6</span>       Yes\n",
              "<span style=\"color: #008080; text-decoration-color: #008080; font-weight: bold\">13</span>      Yes\n",
              "<span style=\"color: #008080; text-decoration-color: #008080; font-weight: bold\">28</span>      Yes\n",
              "<span style=\"color: #008080; text-decoration-color: #008080; font-weight: bold\">30</span>      Yes\n",
              "       <span style=\"color: #808000; text-decoration-color: #808000\">...</span> \n",
              "<span style=\"color: #008080; text-decoration-color: #008080; font-weight: bold\">4405</span>     No\n",
              "<span style=\"color: #008080; text-decoration-color: #008080; font-weight: bold\">4406</span>     No\n",
              "<span style=\"color: #008080; text-decoration-color: #008080; font-weight: bold\">4407</span>     No\n",
              "<span style=\"color: #008080; text-decoration-color: #008080; font-weight: bold\">4408</span>     No\n",
              "<span style=\"color: #008080; text-decoration-color: #008080; font-weight: bold\">4409</span>     No\n",
              "Name: Attrition, Length: <span style=\"color: #008080; text-decoration-color: #008080; font-weight: bold\">4410</span>, dtype: object\n",
              "</pre>\n"
            ]
          },
          "metadata": {}
        }
      ]
    },
    {
      "cell_type": "markdown",
      "source": [
        "# **Análisis Exploratorio de Datos (EDA)**\n",
        "Antes de comenzar, destacar que dado que los resultados deben ser reproducibles, hemos fijado la **semilla de números aleatorios** en los lugares adecuados. Para ello, hemos seleccionado como semilla el número del grupo de prácticas (*13*).</br></br>\n",
        "Para poder realizar el análisis exploratorio de datos, llevaremos a cabo los siguientes pasos:\n",
        "\n",
        "+ Número de instancias y atributos.\n",
        "+ Tipo de atributos (numéricos o categóricos).\n",
        "+ Columnas constantes o innecesarias.\n",
        "+ Proporción de *missing values*.\n",
        "+ Tipo de problema (clasificación o regresión).\n",
        "+ Desbalance."
      ],
      "metadata": {
        "id": "stD5IojGVU9E"
      }
    },
    {
      "cell_type": "markdown",
      "source": [
        "## **Número de instancias y atributos**\n",
        "Los **datos** cuentan con 30 atributos y la variable de respuesta *Attrition*. En total, contamos con un total de **4410 instancias**.</br></br>\n",
        "\n",
        "A continuación, profundizaremos más en los atributos, su significado y nomenclatura.</br></br>\n",
        "\n",
        "Como podemos ver en la siguiente tabla, contamos con **30 atributos** diferentes, cada uno de ellos con su respectivo nombre (identificador) y con su unidad concreta. Estos atributos corresponden con **variables sobre empleados de la empresa recopilados por el departamento de recursos humanos**. El último valor que podemos observar es la predicción de abandono de empleados (burnout) o, de otra forma, la variable de salida de nuestros datos.</br></br>\n",
        "\n",
        "| Columna | Descripción | Tipo de dato |\n",
        "| :- | :- | -: |\n",
        "| `hrs` | Número de horas trabajadas. | $float64$ |\n",
        "| `absences` | El número de ausencias tomadas por el empleado. | $float64$ |\n",
        "| `JobInvolvement` | El nivel de compromiso que tiene el empleado con su trabajo. | $float64$ |\n",
        "| `PerformanceRating` | La evaluación de desempeño del empleado. | $float64$ |\n",
        "| `EnvironmentSatisfaction`\t | El nivel de satisfacción que el empleado tiene con su entorno laboral. | $float64$ |\n",
        "| `JobSatisfaction`\t | El nivel de satisfacción que el empleado tiene con su trabajo. | $float64$ |\n",
        "| `WorkLifeBalance`\t | El equilibrio entre la vida laboral y personal del empleado. | $float64$ |\n",
        "| `Age` | La edad del empleado. | $float64$ |\n",
        "| `BusinessTravel` | La frecuencia de los viajes de negocios del empleado. | $object$ |\n",
        "| `Department` | El departamento en el que trabaja el empleado..\t| $object$ |\n",
        "| `DistanceFromHome` | La distancia desde la casa del empleado. | $float64$ |\n",
        "| `Education` | El nivel más alto de educación alcanzado por el empleado. | $int64$ |\n",
        "| `EducationField` | El campo de estudio en el que el empleado se especializó. | $object$ |\n",
        "| `EmployeeCount` | El número de empleados en la empresa. | $float64$ |\n",
        "| `EmployeeID` | Un identificador único para cada empleado. | $int64$ |\n",
        "| `Gender` | El genero del empleado. | $object$ |\n",
        "| `JobLevel` | El nivel de trabajo del empleado en la jerarquía de la empresa. | $float64$ |\n",
        "| `JobRole` | El rol específico que el empleado tiene en su departamento. | $object$ |\n",
        "| `MaritalStatus` | El estado civil del empleado. | $object$ |\n",
        "| `MonthlyIncome` | El ingreso mensual del empleado. | $float64$ |\n",
        "| `NumCompaniesWorked` | El número de empresas para las que el empleado ha trabajado antes de unirse a la empresa actual. | $float64$ |\n",
        "| `Over18` | Si el empleado es mayor de 18 años (presumiblemente todos los empleados lo son). | $object$ |\n",
        "| `PercentSalaryHike` | El porcentaje de aumento salarial que recibió el empleado en su último aumento de sueldo. | $float64$ |\n",
        "| `StandardHours` | El número estándar de horas de trabajo en la empresa. | $float64$ |\n",
        "| `StackOptionLevel` | El nivel de opción de compra de acciones que tiene el empleado. | $float64$ |\n",
        "| `TotalWorkingYears` | El número total de años que el empleado ha trabajado. | $float64$ |\n",
        "| `TrainingTimesLastYear` | El número de veces que el empleado recibió capacitación en el último año. | $float64$ |\n",
        "| `YearsAtCompany` | El número de años que el empleado ha estado en la empresa. | $float64$ |\n",
        "| `YearsSinceLastPromotion` | El número de años desde la última promoción del empleado. | $float64$ |\n",
        "| `YearsWithCurrManager` | El número de años que el empleado ha estado con su gerente actual. | $float64$ |\n",
        "| `Attrition` | Si el empleado ha dejado la empresa o no. | $object$ |\n"
      ],
      "metadata": {
        "id": "CZyRhuKuVeWT"
      }
    },
    {
      "cell_type": "markdown",
      "source": [
        "## **Tipo de atributos**\n",
        "\n",
        "Dentro de los diferentes tipos de atributos de los datos podemos encontrar los categóricos, numéricos u ordinales.</br></br>\n",
        "\n",
        "En el caso de nuestros datos, podemos ver como claramente como cada uno de ellos es de un tipo diferente.</br></br>\n",
        "\n",
        "Por tanto, dado que no todos los datos con los que vamos a tratar son atributos numéricos, tendremos que transformar las variables categóricas en **one-hot-encoding** y las variables ordinales en numéricas."
      ],
      "metadata": {
        "id": "Y042xoUAVVJw"
      }
    },
    {
      "cell_type": "code",
      "source": [
        "print(df.dtypes)"
      ],
      "metadata": {
        "id": "5M7m_TlaVWMc",
        "colab": {
          "base_uri": "https://localhost:8080/",
          "height": 529
        },
        "outputId": "d142363f-552d-4bde-e041-6816c1d428d9"
      },
      "execution_count": null,
      "outputs": [
        {
          "output_type": "display_data",
          "data": {
            "text/plain": [
              "hrs                        float64\n",
              "absences                   float64\n",
              "JobInvolvement             float64\n",
              "PerformanceRating          float64\n",
              "EnvironmentSatisfaction    float64\n",
              "JobSatisfaction            float64\n",
              "WorkLifeBalance            float64\n",
              "Age                        float64\n",
              "Attrition                   object\n",
              "BusinessTravel              object\n",
              "Department                  object\n",
              "DistanceFromHome           float64\n",
              "Education                  float64\n",
              "EducationField              object\n",
              "EmployeeCount              float64\n",
              "EmployeeID                 float64\n",
              "Gender                      object\n",
              "JobLevel                   float64\n",
              "JobRole                     object\n",
              "MaritalStatus               object\n",
              "MonthlyIncome              float64\n",
              "NumCompaniesWorked         float64\n",
              "Over18                      object\n",
              "PercentSalaryHike          float64\n",
              "StandardHours              float64\n",
              "StockOptionLevel           float64\n",
              "TotalWorkingYears          float64\n",
              "TrainingTimesLastYear      float64\n",
              "YearsAtCompany             float64\n",
              "YearsSinceLastPromotion      int64\n",
              "YearsWithCurrManager       float64\n",
              "dtype: object\n"
            ],
            "text/html": [
              "<pre style=\"white-space:pre;overflow-x:auto;line-height:normal;font-family:Menlo,'DejaVu Sans Mono',consolas,'Courier New',monospace\">hrs                        float64\n",
              "absences                   float64\n",
              "JobInvolvement             float64\n",
              "PerformanceRating          float64\n",
              "EnvironmentSatisfaction    float64\n",
              "JobSatisfaction            float64\n",
              "WorkLifeBalance            float64\n",
              "Age                        float64\n",
              "Attrition                   object\n",
              "BusinessTravel              object\n",
              "Department                  object\n",
              "DistanceFromHome           float64\n",
              "Education                  float64\n",
              "EducationField              object\n",
              "EmployeeCount              float64\n",
              "EmployeeID                 float64\n",
              "Gender                      object\n",
              "JobLevel                   float64\n",
              "JobRole                     object\n",
              "MaritalStatus               object\n",
              "MonthlyIncome              float64\n",
              "NumCompaniesWorked         float64\n",
              "Over18                      object\n",
              "PercentSalaryHike          float64\n",
              "StandardHours              float64\n",
              "StockOptionLevel           float64\n",
              "TotalWorkingYears          float64\n",
              "TrainingTimesLastYear      float64\n",
              "YearsAtCompany             float64\n",
              "YearsSinceLastPromotion      int64\n",
              "YearsWithCurrManager       float64\n",
              "dtype: object\n",
              "</pre>\n"
            ]
          },
          "metadata": {}
        }
      ]
    },
    {
      "cell_type": "markdown",
      "source": [
        "## **Columnas constantes o innecesarias**"
      ],
      "metadata": {
        "id": "nxB3xy13byJg"
      }
    },
    {
      "cell_type": "markdown",
      "source": [
        "La primera observación que podemos hacer es que la columna EmployeeID es irrelevante para nuestro estudio, ya que la información que recoge no aporta nada a nuestro estudio; por tanto la eliminaremos.\n",
        "\n",
        "Esto es debido a que una variable que indica un identificador para cada empleado no tendrá ningun tipo de relevancia para predecir el burnout."
      ],
      "metadata": {
        "id": "nLhX9Qj_jGOU"
      }
    },
    {
      "cell_type": "code",
      "source": [
        "X.drop('EmployeeID', axis=1)"
      ],
      "metadata": {
        "id": "2IdNJyk-byQk",
        "colab": {
          "base_uri": "https://localhost:8080/",
          "height": 644
        },
        "outputId": "e2231ace-b062-4f05-b832-7c9d28c5764d"
      },
      "execution_count": null,
      "outputs": [
        {
          "output_type": "execute_result",
          "data": {
            "text/plain": [
              "           hrs  absences  JobInvolvement  PerformanceRating  \\\n",
              "1     7.315971      13.0             2.0                4.0   \n",
              "6     6.450877      17.0             3.0                4.0   \n",
              "13         NaN      14.0             NaN                3.0   \n",
              "28         NaN       NaN             2.0                3.0   \n",
              "30    9.662808      11.0             NaN                3.0   \n",
              "...        ...       ...             ...                ...   \n",
              "4405  8.316921       6.0             3.0                3.0   \n",
              "4406  5.897197       8.0             2.0                3.0   \n",
              "4407  7.149526      18.0             3.0                NaN   \n",
              "4408  9.187612       NaN             NaN                3.0   \n",
              "4409  6.511790      17.0             NaN                3.0   \n",
              "\n",
              "      EnvironmentSatisfaction  JobSatisfaction  WorkLifeBalance   Age  \\\n",
              "1                         3.0              2.0              NaN   NaN   \n",
              "6                         1.0              3.0              1.0  28.0   \n",
              "13                        NaN              2.0              2.0  47.0   \n",
              "28                        NaN              3.0              1.0  44.0   \n",
              "30                        1.0              2.0              3.0  26.0   \n",
              "...                       ...              ...              ...   ...   \n",
              "4405                      4.0              1.0              3.0  42.0   \n",
              "4406                      4.0              NaN              3.0   NaN   \n",
              "4407                      1.0              3.0              3.0  25.0   \n",
              "4408                      4.0              1.0              3.0  42.0   \n",
              "4409                      1.0              3.0              NaN  40.0   \n",
              "\n",
              "         BusinessTravel              Department  ...  NumCompaniesWorked  \\\n",
              "1     Travel_Frequently  Research & Development  ...                 0.0   \n",
              "6         Travel_Rarely  Research & Development  ...                 2.0   \n",
              "13           Non-Travel  Research & Development  ...                 NaN   \n",
              "28    Travel_Frequently  Research & Development  ...                 3.0   \n",
              "30        Travel_Rarely  Research & Development  ...                 2.0   \n",
              "...                 ...                     ...  ...                 ...   \n",
              "4405      Travel_Rarely  Research & Development  ...                 3.0   \n",
              "4406      Travel_Rarely  Research & Development  ...                 2.0   \n",
              "4407      Travel_Rarely  Research & Development  ...                 0.0   \n",
              "4408      Travel_Rarely                   Sales  ...                 0.0   \n",
              "4409      Travel_Rarely  Research & Development  ...                 0.0   \n",
              "\n",
              "      Over18 PercentSalaryHike  StandardHours StockOptionLevel  \\\n",
              "1          Y               NaN            8.0              1.0   \n",
              "6          Y              20.0            8.0              1.0   \n",
              "13       NaN               NaN            8.0              2.0   \n",
              "28         Y              14.0            8.0              1.0   \n",
              "30         Y              11.0            8.0              NaN   \n",
              "...      ...               ...            ...              ...   \n",
              "4405       Y               NaN            8.0              1.0   \n",
              "4406       Y              15.0            8.0              0.0   \n",
              "4407     NaN               NaN            8.0              0.0   \n",
              "4408       Y              14.0            8.0              1.0   \n",
              "4409       Y              12.0            8.0              0.0   \n",
              "\n",
              "      TotalWorkingYears TrainingTimesLastYear YearsAtCompany  \\\n",
              "1                   6.0                   3.0            5.0   \n",
              "6                   5.0                   2.0            NaN   \n",
              "13                 10.0                   4.0           10.0   \n",
              "28                  NaN                   2.0            NaN   \n",
              "30                  5.0                   5.0            3.0   \n",
              "...                 ...                   ...            ...   \n",
              "4405               10.0                   NaN            3.0   \n",
              "4406               10.0                   2.0            NaN   \n",
              "4407                5.0                   4.0            4.0   \n",
              "4408               10.0                   2.0            NaN   \n",
              "4409                NaN                   6.0           21.0   \n",
              "\n",
              "      YearsSinceLastPromotion  YearsWithCurrManager  \n",
              "1                           1                   NaN  \n",
              "6                           0                   0.0  \n",
              "13                          9                   9.0  \n",
              "28                          0                   0.0  \n",
              "30                          0                   2.0  \n",
              "...                       ...                   ...  \n",
              "4405                        0                   2.0  \n",
              "4406                        0                   NaN  \n",
              "4407                        1                   2.0  \n",
              "4408                        7                   8.0  \n",
              "4409                        3                   9.0  \n",
              "\n",
              "[4410 rows x 29 columns]"
            ],
            "text/html": [
              "\n",
              "  <div id=\"df-f51f197f-9053-48aa-8d1f-0b608a5267c6\">\n",
              "    <div class=\"colab-df-container\">\n",
              "      <div>\n",
              "<style scoped>\n",
              "    .dataframe tbody tr th:only-of-type {\n",
              "        vertical-align: middle;\n",
              "    }\n",
              "\n",
              "    .dataframe tbody tr th {\n",
              "        vertical-align: top;\n",
              "    }\n",
              "\n",
              "    .dataframe thead th {\n",
              "        text-align: right;\n",
              "    }\n",
              "</style>\n",
              "<table border=\"1\" class=\"dataframe\">\n",
              "  <thead>\n",
              "    <tr style=\"text-align: right;\">\n",
              "      <th></th>\n",
              "      <th>hrs</th>\n",
              "      <th>absences</th>\n",
              "      <th>JobInvolvement</th>\n",
              "      <th>PerformanceRating</th>\n",
              "      <th>EnvironmentSatisfaction</th>\n",
              "      <th>JobSatisfaction</th>\n",
              "      <th>WorkLifeBalance</th>\n",
              "      <th>Age</th>\n",
              "      <th>BusinessTravel</th>\n",
              "      <th>Department</th>\n",
              "      <th>...</th>\n",
              "      <th>NumCompaniesWorked</th>\n",
              "      <th>Over18</th>\n",
              "      <th>PercentSalaryHike</th>\n",
              "      <th>StandardHours</th>\n",
              "      <th>StockOptionLevel</th>\n",
              "      <th>TotalWorkingYears</th>\n",
              "      <th>TrainingTimesLastYear</th>\n",
              "      <th>YearsAtCompany</th>\n",
              "      <th>YearsSinceLastPromotion</th>\n",
              "      <th>YearsWithCurrManager</th>\n",
              "    </tr>\n",
              "  </thead>\n",
              "  <tbody>\n",
              "    <tr>\n",
              "      <th>1</th>\n",
              "      <td>7.315971</td>\n",
              "      <td>13.0</td>\n",
              "      <td>2.0</td>\n",
              "      <td>4.0</td>\n",
              "      <td>3.0</td>\n",
              "      <td>2.0</td>\n",
              "      <td>NaN</td>\n",
              "      <td>NaN</td>\n",
              "      <td>Travel_Frequently</td>\n",
              "      <td>Research &amp; Development</td>\n",
              "      <td>...</td>\n",
              "      <td>0.0</td>\n",
              "      <td>Y</td>\n",
              "      <td>NaN</td>\n",
              "      <td>8.0</td>\n",
              "      <td>1.0</td>\n",
              "      <td>6.0</td>\n",
              "      <td>3.0</td>\n",
              "      <td>5.0</td>\n",
              "      <td>1</td>\n",
              "      <td>NaN</td>\n",
              "    </tr>\n",
              "    <tr>\n",
              "      <th>6</th>\n",
              "      <td>6.450877</td>\n",
              "      <td>17.0</td>\n",
              "      <td>3.0</td>\n",
              "      <td>4.0</td>\n",
              "      <td>1.0</td>\n",
              "      <td>3.0</td>\n",
              "      <td>1.0</td>\n",
              "      <td>28.0</td>\n",
              "      <td>Travel_Rarely</td>\n",
              "      <td>Research &amp; Development</td>\n",
              "      <td>...</td>\n",
              "      <td>2.0</td>\n",
              "      <td>Y</td>\n",
              "      <td>20.0</td>\n",
              "      <td>8.0</td>\n",
              "      <td>1.0</td>\n",
              "      <td>5.0</td>\n",
              "      <td>2.0</td>\n",
              "      <td>NaN</td>\n",
              "      <td>0</td>\n",
              "      <td>0.0</td>\n",
              "    </tr>\n",
              "    <tr>\n",
              "      <th>13</th>\n",
              "      <td>NaN</td>\n",
              "      <td>14.0</td>\n",
              "      <td>NaN</td>\n",
              "      <td>3.0</td>\n",
              "      <td>NaN</td>\n",
              "      <td>2.0</td>\n",
              "      <td>2.0</td>\n",
              "      <td>47.0</td>\n",
              "      <td>Non-Travel</td>\n",
              "      <td>Research &amp; Development</td>\n",
              "      <td>...</td>\n",
              "      <td>NaN</td>\n",
              "      <td>NaN</td>\n",
              "      <td>NaN</td>\n",
              "      <td>8.0</td>\n",
              "      <td>2.0</td>\n",
              "      <td>10.0</td>\n",
              "      <td>4.0</td>\n",
              "      <td>10.0</td>\n",
              "      <td>9</td>\n",
              "      <td>9.0</td>\n",
              "    </tr>\n",
              "    <tr>\n",
              "      <th>28</th>\n",
              "      <td>NaN</td>\n",
              "      <td>NaN</td>\n",
              "      <td>2.0</td>\n",
              "      <td>3.0</td>\n",
              "      <td>NaN</td>\n",
              "      <td>3.0</td>\n",
              "      <td>1.0</td>\n",
              "      <td>44.0</td>\n",
              "      <td>Travel_Frequently</td>\n",
              "      <td>Research &amp; Development</td>\n",
              "      <td>...</td>\n",
              "      <td>3.0</td>\n",
              "      <td>Y</td>\n",
              "      <td>14.0</td>\n",
              "      <td>8.0</td>\n",
              "      <td>1.0</td>\n",
              "      <td>NaN</td>\n",
              "      <td>2.0</td>\n",
              "      <td>NaN</td>\n",
              "      <td>0</td>\n",
              "      <td>0.0</td>\n",
              "    </tr>\n",
              "    <tr>\n",
              "      <th>30</th>\n",
              "      <td>9.662808</td>\n",
              "      <td>11.0</td>\n",
              "      <td>NaN</td>\n",
              "      <td>3.0</td>\n",
              "      <td>1.0</td>\n",
              "      <td>2.0</td>\n",
              "      <td>3.0</td>\n",
              "      <td>26.0</td>\n",
              "      <td>Travel_Rarely</td>\n",
              "      <td>Research &amp; Development</td>\n",
              "      <td>...</td>\n",
              "      <td>2.0</td>\n",
              "      <td>Y</td>\n",
              "      <td>11.0</td>\n",
              "      <td>8.0</td>\n",
              "      <td>NaN</td>\n",
              "      <td>5.0</td>\n",
              "      <td>5.0</td>\n",
              "      <td>3.0</td>\n",
              "      <td>0</td>\n",
              "      <td>2.0</td>\n",
              "    </tr>\n",
              "    <tr>\n",
              "      <th>...</th>\n",
              "      <td>...</td>\n",
              "      <td>...</td>\n",
              "      <td>...</td>\n",
              "      <td>...</td>\n",
              "      <td>...</td>\n",
              "      <td>...</td>\n",
              "      <td>...</td>\n",
              "      <td>...</td>\n",
              "      <td>...</td>\n",
              "      <td>...</td>\n",
              "      <td>...</td>\n",
              "      <td>...</td>\n",
              "      <td>...</td>\n",
              "      <td>...</td>\n",
              "      <td>...</td>\n",
              "      <td>...</td>\n",
              "      <td>...</td>\n",
              "      <td>...</td>\n",
              "      <td>...</td>\n",
              "      <td>...</td>\n",
              "      <td>...</td>\n",
              "    </tr>\n",
              "    <tr>\n",
              "      <th>4405</th>\n",
              "      <td>8.316921</td>\n",
              "      <td>6.0</td>\n",
              "      <td>3.0</td>\n",
              "      <td>3.0</td>\n",
              "      <td>4.0</td>\n",
              "      <td>1.0</td>\n",
              "      <td>3.0</td>\n",
              "      <td>42.0</td>\n",
              "      <td>Travel_Rarely</td>\n",
              "      <td>Research &amp; Development</td>\n",
              "      <td>...</td>\n",
              "      <td>3.0</td>\n",
              "      <td>Y</td>\n",
              "      <td>NaN</td>\n",
              "      <td>8.0</td>\n",
              "      <td>1.0</td>\n",
              "      <td>10.0</td>\n",
              "      <td>NaN</td>\n",
              "      <td>3.0</td>\n",
              "      <td>0</td>\n",
              "      <td>2.0</td>\n",
              "    </tr>\n",
              "    <tr>\n",
              "      <th>4406</th>\n",
              "      <td>5.897197</td>\n",
              "      <td>8.0</td>\n",
              "      <td>2.0</td>\n",
              "      <td>3.0</td>\n",
              "      <td>4.0</td>\n",
              "      <td>NaN</td>\n",
              "      <td>3.0</td>\n",
              "      <td>NaN</td>\n",
              "      <td>Travel_Rarely</td>\n",
              "      <td>Research &amp; Development</td>\n",
              "      <td>...</td>\n",
              "      <td>2.0</td>\n",
              "      <td>Y</td>\n",
              "      <td>15.0</td>\n",
              "      <td>8.0</td>\n",
              "      <td>0.0</td>\n",
              "      <td>10.0</td>\n",
              "      <td>2.0</td>\n",
              "      <td>NaN</td>\n",
              "      <td>0</td>\n",
              "      <td>NaN</td>\n",
              "    </tr>\n",
              "    <tr>\n",
              "      <th>4407</th>\n",
              "      <td>7.149526</td>\n",
              "      <td>18.0</td>\n",
              "      <td>3.0</td>\n",
              "      <td>NaN</td>\n",
              "      <td>1.0</td>\n",
              "      <td>3.0</td>\n",
              "      <td>3.0</td>\n",
              "      <td>25.0</td>\n",
              "      <td>Travel_Rarely</td>\n",
              "      <td>Research &amp; Development</td>\n",
              "      <td>...</td>\n",
              "      <td>0.0</td>\n",
              "      <td>NaN</td>\n",
              "      <td>NaN</td>\n",
              "      <td>8.0</td>\n",
              "      <td>0.0</td>\n",
              "      <td>5.0</td>\n",
              "      <td>4.0</td>\n",
              "      <td>4.0</td>\n",
              "      <td>1</td>\n",
              "      <td>2.0</td>\n",
              "    </tr>\n",
              "    <tr>\n",
              "      <th>4408</th>\n",
              "      <td>9.187612</td>\n",
              "      <td>NaN</td>\n",
              "      <td>NaN</td>\n",
              "      <td>3.0</td>\n",
              "      <td>4.0</td>\n",
              "      <td>1.0</td>\n",
              "      <td>3.0</td>\n",
              "      <td>42.0</td>\n",
              "      <td>Travel_Rarely</td>\n",
              "      <td>Sales</td>\n",
              "      <td>...</td>\n",
              "      <td>0.0</td>\n",
              "      <td>Y</td>\n",
              "      <td>14.0</td>\n",
              "      <td>8.0</td>\n",
              "      <td>1.0</td>\n",
              "      <td>10.0</td>\n",
              "      <td>2.0</td>\n",
              "      <td>NaN</td>\n",
              "      <td>7</td>\n",
              "      <td>8.0</td>\n",
              "    </tr>\n",
              "    <tr>\n",
              "      <th>4409</th>\n",
              "      <td>6.511790</td>\n",
              "      <td>17.0</td>\n",
              "      <td>NaN</td>\n",
              "      <td>3.0</td>\n",
              "      <td>1.0</td>\n",
              "      <td>3.0</td>\n",
              "      <td>NaN</td>\n",
              "      <td>40.0</td>\n",
              "      <td>Travel_Rarely</td>\n",
              "      <td>Research &amp; Development</td>\n",
              "      <td>...</td>\n",
              "      <td>0.0</td>\n",
              "      <td>Y</td>\n",
              "      <td>12.0</td>\n",
              "      <td>8.0</td>\n",
              "      <td>0.0</td>\n",
              "      <td>NaN</td>\n",
              "      <td>6.0</td>\n",
              "      <td>21.0</td>\n",
              "      <td>3</td>\n",
              "      <td>9.0</td>\n",
              "    </tr>\n",
              "  </tbody>\n",
              "</table>\n",
              "<p>4410 rows × 29 columns</p>\n",
              "</div>\n",
              "      <button class=\"colab-df-convert\" onclick=\"convertToInteractive('df-f51f197f-9053-48aa-8d1f-0b608a5267c6')\"\n",
              "              title=\"Convert this dataframe to an interactive table.\"\n",
              "              style=\"display:none;\">\n",
              "        \n",
              "  <svg xmlns=\"http://www.w3.org/2000/svg\" height=\"24px\"viewBox=\"0 0 24 24\"\n",
              "       width=\"24px\">\n",
              "    <path d=\"M0 0h24v24H0V0z\" fill=\"none\"/>\n",
              "    <path d=\"M18.56 5.44l.94 2.06.94-2.06 2.06-.94-2.06-.94-.94-2.06-.94 2.06-2.06.94zm-11 1L8.5 8.5l.94-2.06 2.06-.94-2.06-.94L8.5 2.5l-.94 2.06-2.06.94zm10 10l.94 2.06.94-2.06 2.06-.94-2.06-.94-.94-2.06-.94 2.06-2.06.94z\"/><path d=\"M17.41 7.96l-1.37-1.37c-.4-.4-.92-.59-1.43-.59-.52 0-1.04.2-1.43.59L10.3 9.45l-7.72 7.72c-.78.78-.78 2.05 0 2.83L4 21.41c.39.39.9.59 1.41.59.51 0 1.02-.2 1.41-.59l7.78-7.78 2.81-2.81c.8-.78.8-2.07 0-2.86zM5.41 20L4 18.59l7.72-7.72 1.47 1.35L5.41 20z\"/>\n",
              "  </svg>\n",
              "      </button>\n",
              "      \n",
              "  <style>\n",
              "    .colab-df-container {\n",
              "      display:flex;\n",
              "      flex-wrap:wrap;\n",
              "      gap: 12px;\n",
              "    }\n",
              "\n",
              "    .colab-df-convert {\n",
              "      background-color: #E8F0FE;\n",
              "      border: none;\n",
              "      border-radius: 50%;\n",
              "      cursor: pointer;\n",
              "      display: none;\n",
              "      fill: #1967D2;\n",
              "      height: 32px;\n",
              "      padding: 0 0 0 0;\n",
              "      width: 32px;\n",
              "    }\n",
              "\n",
              "    .colab-df-convert:hover {\n",
              "      background-color: #E2EBFA;\n",
              "      box-shadow: 0px 1px 2px rgba(60, 64, 67, 0.3), 0px 1px 3px 1px rgba(60, 64, 67, 0.15);\n",
              "      fill: #174EA6;\n",
              "    }\n",
              "\n",
              "    [theme=dark] .colab-df-convert {\n",
              "      background-color: #3B4455;\n",
              "      fill: #D2E3FC;\n",
              "    }\n",
              "\n",
              "    [theme=dark] .colab-df-convert:hover {\n",
              "      background-color: #434B5C;\n",
              "      box-shadow: 0px 1px 3px 1px rgba(0, 0, 0, 0.15);\n",
              "      filter: drop-shadow(0px 1px 2px rgba(0, 0, 0, 0.3));\n",
              "      fill: #FFFFFF;\n",
              "    }\n",
              "  </style>\n",
              "\n",
              "      <script>\n",
              "        const buttonEl =\n",
              "          document.querySelector('#df-f51f197f-9053-48aa-8d1f-0b608a5267c6 button.colab-df-convert');\n",
              "        buttonEl.style.display =\n",
              "          google.colab.kernel.accessAllowed ? 'block' : 'none';\n",
              "\n",
              "        async function convertToInteractive(key) {\n",
              "          const element = document.querySelector('#df-f51f197f-9053-48aa-8d1f-0b608a5267c6');\n",
              "          const dataTable =\n",
              "            await google.colab.kernel.invokeFunction('convertToInteractive',\n",
              "                                                     [key], {});\n",
              "          if (!dataTable) return;\n",
              "\n",
              "          const docLinkHtml = 'Like what you see? Visit the ' +\n",
              "            '<a target=\"_blank\" href=https://colab.research.google.com/notebooks/data_table.ipynb>data table notebook</a>'\n",
              "            + ' to learn more about interactive tables.';\n",
              "          element.innerHTML = '';\n",
              "          dataTable['output_type'] = 'display_data';\n",
              "          await google.colab.output.renderOutput(dataTable, element);\n",
              "          const docLink = document.createElement('div');\n",
              "          docLink.innerHTML = docLinkHtml;\n",
              "          element.appendChild(docLink);\n",
              "        }\n",
              "      </script>\n",
              "    </div>\n",
              "  </div>\n",
              "  "
            ]
          },
          "metadata": {},
          "execution_count": 143
        }
      ]
    },
    {
      "cell_type": "markdown",
      "source": [
        "A continuación, buscaremos que columnas son constantes o inecesarias (valores nulos) y las eliminaremos."
      ],
      "metadata": {
        "id": "sRN8MuuOj2-e"
      }
    },
    {
      "cell_type": "code",
      "source": [
        "drop_cols = []\n",
        "for col in X.columns:\n",
        "    if X[col].nunique() == 1:\n",
        "        # la columna es constante\n",
        "        print(f'Columna {col} es constante y será eliminada')\n",
        "        drop_cols.append(col)\n",
        "\n",
        "    if X[col].isna().sum() == len(data):\n",
        "        # la columna tiene todos los valores nulos\n",
        "        print(f'Columna {col} tiene todos los valores nulos y será eliminada')\n",
        "        drop_cols.append(col)\n",
        "\n",
        "# Eliminar las columnas constantes o innecesarias\n",
        "X.drop(drop_cols, axis=1, inplace=True)"
      ],
      "metadata": {
        "colab": {
          "base_uri": "https://localhost:8080/",
          "height": 65
        },
        "id": "idDJsHC8kJ3E",
        "outputId": "f6e63580-21aa-4623-97c2-5a76010191df"
      },
      "execution_count": null,
      "outputs": [
        {
          "output_type": "display_data",
          "data": {
            "text/plain": [
              "Columna EmployeeCount es constante y será eliminada\n"
            ],
            "text/html": [
              "<pre style=\"white-space:pre;overflow-x:auto;line-height:normal;font-family:Menlo,'DejaVu Sans Mono',consolas,'Courier New',monospace\">Columna EmployeeCount es constante y será eliminada\n",
              "</pre>\n"
            ]
          },
          "metadata": {}
        },
        {
          "output_type": "display_data",
          "data": {
            "text/plain": [
              "Columna Over18 es constante y será eliminada\n"
            ],
            "text/html": [
              "<pre style=\"white-space:pre;overflow-x:auto;line-height:normal;font-family:Menlo,'DejaVu Sans Mono',consolas,'Courier New',monospace\">Columna Over18 es constante y será eliminada\n",
              "</pre>\n"
            ]
          },
          "metadata": {}
        },
        {
          "output_type": "display_data",
          "data": {
            "text/plain": [
              "Columna StandardHours es constante y será eliminada\n"
            ],
            "text/html": [
              "<pre style=\"white-space:pre;overflow-x:auto;line-height:normal;font-family:Menlo,'DejaVu Sans Mono',consolas,'Courier New',monospace\">Columna StandardHours es constante y será eliminada\n",
              "</pre>\n"
            ]
          },
          "metadata": {}
        }
      ]
    },
    {
      "cell_type": "markdown",
      "source": [
        "Por último, usaremos el método describe() para observar la naturaleza de las columnas constantes. Observaremos los valores de la media, la desviación estándar y los percentiles para cada atributo. Si un atributo tiene una media, una desviación estándar y percentiles iguales, esto puede indicar que todos sus valores son iguales, lo que significa que la columna es constante y puede ser eliminada."
      ],
      "metadata": {
        "id": "jQbVAJ-OlSQQ"
      }
    },
    {
      "cell_type": "code",
      "source": [
        "X.describe()"
      ],
      "metadata": {
        "colab": {
          "base_uri": "https://localhost:8080/",
          "height": 393
        },
        "id": "qYiWTvNtlkEV",
        "outputId": "6891c84d-a0de-4c0f-92eb-165cfa73426c"
      },
      "execution_count": null,
      "outputs": [
        {
          "output_type": "execute_result",
          "data": {
            "text/plain": [
              "               hrs     absences  JobInvolvement  PerformanceRating  \\\n",
              "count  3467.000000  3655.000000     3526.000000        3448.000000   \n",
              "mean      7.312232    12.766895        2.730856           3.156903   \n",
              "std       1.327228     5.508400        0.707324           0.363762   \n",
              "min       5.416880     1.000000        1.000000           3.000000   \n",
              "25%       6.281109     8.000000        2.000000           3.000000   \n",
              "50%       7.006571    13.000000        3.000000           3.000000   \n",
              "75%       7.899147    17.000000        3.000000           3.000000   \n",
              "max      10.907255    24.000000        4.000000           4.000000   \n",
              "\n",
              "       EnvironmentSatisfaction  JobSatisfaction  WorkLifeBalance          Age  \\\n",
              "count              3599.000000      3506.000000      3475.000000  3585.000000   \n",
              "mean                  2.720478         2.730462         2.768921    36.969038   \n",
              "std                   1.091022         1.101715         0.701886     9.158292   \n",
              "min                   1.000000         1.000000         1.000000    18.000000   \n",
              "25%                   2.000000         2.000000         2.000000    30.000000   \n",
              "50%                   3.000000         3.000000         3.000000    36.000000   \n",
              "75%                   4.000000         4.000000         3.000000    43.000000   \n",
              "max                   4.000000         4.000000         4.000000    60.000000   \n",
              "\n",
              "       DistanceFromHome    Education  ...     JobLevel  MonthlyIncome  \\\n",
              "count       3526.000000  3500.000000  ...  3631.000000    3655.000000   \n",
              "mean           9.147192     2.915143  ...     2.050124   65260.393981   \n",
              "std            8.063764     1.029404  ...     1.100072   47135.959457   \n",
              "min            1.000000     1.000000  ...     1.000000   10090.000000   \n",
              "25%            2.000000     2.000000  ...     1.000000   29260.000000   \n",
              "50%            7.000000     3.000000  ...     2.000000   49360.000000   \n",
              "75%           14.000000     4.000000  ...     3.000000   83940.000000   \n",
              "max           29.000000     5.000000  ...     5.000000  199990.000000   \n",
              "\n",
              "       NumCompaniesWorked  PercentSalaryHike  StockOptionLevel  \\\n",
              "count         3594.000000        3542.000000       3655.000000   \n",
              "mean             2.693656          15.149068          0.792339   \n",
              "std              2.489930           3.640018          0.854074   \n",
              "min              0.000000          11.000000          0.000000   \n",
              "25%              1.000000          12.000000          0.000000   \n",
              "50%              2.000000          14.000000          1.000000   \n",
              "75%              4.000000          18.000000          1.000000   \n",
              "max              9.000000          25.000000          3.000000   \n",
              "\n",
              "       TotalWorkingYears  TrainingTimesLastYear  YearsAtCompany  \\\n",
              "count        3495.000000            3620.000000     3681.000000   \n",
              "mean           11.300715               2.795856        7.086661   \n",
              "std             7.853680               1.288045        6.194303   \n",
              "min             0.000000               0.000000        0.000000   \n",
              "25%             6.000000               2.000000        3.000000   \n",
              "50%            10.000000               3.000000        5.000000   \n",
              "75%            15.000000               3.000000       10.000000   \n",
              "max            40.000000               6.000000       40.000000   \n",
              "\n",
              "       YearsSinceLastPromotion  YearsWithCurrManager  \n",
              "count              4410.000000           3663.000000  \n",
              "mean                  2.187755              4.114387  \n",
              "std                   3.221699              3.534687  \n",
              "min                   0.000000              0.000000  \n",
              "25%                   0.000000              2.000000  \n",
              "50%                   1.000000              3.000000  \n",
              "75%                   3.000000              7.000000  \n",
              "max                  15.000000             17.000000  \n",
              "\n",
              "[8 rows x 21 columns]"
            ],
            "text/html": [
              "\n",
              "  <div id=\"df-a2d0bd60-ab79-499a-98ac-1cb941bdf3e0\">\n",
              "    <div class=\"colab-df-container\">\n",
              "      <div>\n",
              "<style scoped>\n",
              "    .dataframe tbody tr th:only-of-type {\n",
              "        vertical-align: middle;\n",
              "    }\n",
              "\n",
              "    .dataframe tbody tr th {\n",
              "        vertical-align: top;\n",
              "    }\n",
              "\n",
              "    .dataframe thead th {\n",
              "        text-align: right;\n",
              "    }\n",
              "</style>\n",
              "<table border=\"1\" class=\"dataframe\">\n",
              "  <thead>\n",
              "    <tr style=\"text-align: right;\">\n",
              "      <th></th>\n",
              "      <th>hrs</th>\n",
              "      <th>absences</th>\n",
              "      <th>JobInvolvement</th>\n",
              "      <th>PerformanceRating</th>\n",
              "      <th>EnvironmentSatisfaction</th>\n",
              "      <th>JobSatisfaction</th>\n",
              "      <th>WorkLifeBalance</th>\n",
              "      <th>Age</th>\n",
              "      <th>DistanceFromHome</th>\n",
              "      <th>Education</th>\n",
              "      <th>...</th>\n",
              "      <th>JobLevel</th>\n",
              "      <th>MonthlyIncome</th>\n",
              "      <th>NumCompaniesWorked</th>\n",
              "      <th>PercentSalaryHike</th>\n",
              "      <th>StockOptionLevel</th>\n",
              "      <th>TotalWorkingYears</th>\n",
              "      <th>TrainingTimesLastYear</th>\n",
              "      <th>YearsAtCompany</th>\n",
              "      <th>YearsSinceLastPromotion</th>\n",
              "      <th>YearsWithCurrManager</th>\n",
              "    </tr>\n",
              "  </thead>\n",
              "  <tbody>\n",
              "    <tr>\n",
              "      <th>count</th>\n",
              "      <td>3467.000000</td>\n",
              "      <td>3655.000000</td>\n",
              "      <td>3526.000000</td>\n",
              "      <td>3448.000000</td>\n",
              "      <td>3599.000000</td>\n",
              "      <td>3506.000000</td>\n",
              "      <td>3475.000000</td>\n",
              "      <td>3585.000000</td>\n",
              "      <td>3526.000000</td>\n",
              "      <td>3500.000000</td>\n",
              "      <td>...</td>\n",
              "      <td>3631.000000</td>\n",
              "      <td>3655.000000</td>\n",
              "      <td>3594.000000</td>\n",
              "      <td>3542.000000</td>\n",
              "      <td>3655.000000</td>\n",
              "      <td>3495.000000</td>\n",
              "      <td>3620.000000</td>\n",
              "      <td>3681.000000</td>\n",
              "      <td>4410.000000</td>\n",
              "      <td>3663.000000</td>\n",
              "    </tr>\n",
              "    <tr>\n",
              "      <th>mean</th>\n",
              "      <td>7.312232</td>\n",
              "      <td>12.766895</td>\n",
              "      <td>2.730856</td>\n",
              "      <td>3.156903</td>\n",
              "      <td>2.720478</td>\n",
              "      <td>2.730462</td>\n",
              "      <td>2.768921</td>\n",
              "      <td>36.969038</td>\n",
              "      <td>9.147192</td>\n",
              "      <td>2.915143</td>\n",
              "      <td>...</td>\n",
              "      <td>2.050124</td>\n",
              "      <td>65260.393981</td>\n",
              "      <td>2.693656</td>\n",
              "      <td>15.149068</td>\n",
              "      <td>0.792339</td>\n",
              "      <td>11.300715</td>\n",
              "      <td>2.795856</td>\n",
              "      <td>7.086661</td>\n",
              "      <td>2.187755</td>\n",
              "      <td>4.114387</td>\n",
              "    </tr>\n",
              "    <tr>\n",
              "      <th>std</th>\n",
              "      <td>1.327228</td>\n",
              "      <td>5.508400</td>\n",
              "      <td>0.707324</td>\n",
              "      <td>0.363762</td>\n",
              "      <td>1.091022</td>\n",
              "      <td>1.101715</td>\n",
              "      <td>0.701886</td>\n",
              "      <td>9.158292</td>\n",
              "      <td>8.063764</td>\n",
              "      <td>1.029404</td>\n",
              "      <td>...</td>\n",
              "      <td>1.100072</td>\n",
              "      <td>47135.959457</td>\n",
              "      <td>2.489930</td>\n",
              "      <td>3.640018</td>\n",
              "      <td>0.854074</td>\n",
              "      <td>7.853680</td>\n",
              "      <td>1.288045</td>\n",
              "      <td>6.194303</td>\n",
              "      <td>3.221699</td>\n",
              "      <td>3.534687</td>\n",
              "    </tr>\n",
              "    <tr>\n",
              "      <th>min</th>\n",
              "      <td>5.416880</td>\n",
              "      <td>1.000000</td>\n",
              "      <td>1.000000</td>\n",
              "      <td>3.000000</td>\n",
              "      <td>1.000000</td>\n",
              "      <td>1.000000</td>\n",
              "      <td>1.000000</td>\n",
              "      <td>18.000000</td>\n",
              "      <td>1.000000</td>\n",
              "      <td>1.000000</td>\n",
              "      <td>...</td>\n",
              "      <td>1.000000</td>\n",
              "      <td>10090.000000</td>\n",
              "      <td>0.000000</td>\n",
              "      <td>11.000000</td>\n",
              "      <td>0.000000</td>\n",
              "      <td>0.000000</td>\n",
              "      <td>0.000000</td>\n",
              "      <td>0.000000</td>\n",
              "      <td>0.000000</td>\n",
              "      <td>0.000000</td>\n",
              "    </tr>\n",
              "    <tr>\n",
              "      <th>25%</th>\n",
              "      <td>6.281109</td>\n",
              "      <td>8.000000</td>\n",
              "      <td>2.000000</td>\n",
              "      <td>3.000000</td>\n",
              "      <td>2.000000</td>\n",
              "      <td>2.000000</td>\n",
              "      <td>2.000000</td>\n",
              "      <td>30.000000</td>\n",
              "      <td>2.000000</td>\n",
              "      <td>2.000000</td>\n",
              "      <td>...</td>\n",
              "      <td>1.000000</td>\n",
              "      <td>29260.000000</td>\n",
              "      <td>1.000000</td>\n",
              "      <td>12.000000</td>\n",
              "      <td>0.000000</td>\n",
              "      <td>6.000000</td>\n",
              "      <td>2.000000</td>\n",
              "      <td>3.000000</td>\n",
              "      <td>0.000000</td>\n",
              "      <td>2.000000</td>\n",
              "    </tr>\n",
              "    <tr>\n",
              "      <th>50%</th>\n",
              "      <td>7.006571</td>\n",
              "      <td>13.000000</td>\n",
              "      <td>3.000000</td>\n",
              "      <td>3.000000</td>\n",
              "      <td>3.000000</td>\n",
              "      <td>3.000000</td>\n",
              "      <td>3.000000</td>\n",
              "      <td>36.000000</td>\n",
              "      <td>7.000000</td>\n",
              "      <td>3.000000</td>\n",
              "      <td>...</td>\n",
              "      <td>2.000000</td>\n",
              "      <td>49360.000000</td>\n",
              "      <td>2.000000</td>\n",
              "      <td>14.000000</td>\n",
              "      <td>1.000000</td>\n",
              "      <td>10.000000</td>\n",
              "      <td>3.000000</td>\n",
              "      <td>5.000000</td>\n",
              "      <td>1.000000</td>\n",
              "      <td>3.000000</td>\n",
              "    </tr>\n",
              "    <tr>\n",
              "      <th>75%</th>\n",
              "      <td>7.899147</td>\n",
              "      <td>17.000000</td>\n",
              "      <td>3.000000</td>\n",
              "      <td>3.000000</td>\n",
              "      <td>4.000000</td>\n",
              "      <td>4.000000</td>\n",
              "      <td>3.000000</td>\n",
              "      <td>43.000000</td>\n",
              "      <td>14.000000</td>\n",
              "      <td>4.000000</td>\n",
              "      <td>...</td>\n",
              "      <td>3.000000</td>\n",
              "      <td>83940.000000</td>\n",
              "      <td>4.000000</td>\n",
              "      <td>18.000000</td>\n",
              "      <td>1.000000</td>\n",
              "      <td>15.000000</td>\n",
              "      <td>3.000000</td>\n",
              "      <td>10.000000</td>\n",
              "      <td>3.000000</td>\n",
              "      <td>7.000000</td>\n",
              "    </tr>\n",
              "    <tr>\n",
              "      <th>max</th>\n",
              "      <td>10.907255</td>\n",
              "      <td>24.000000</td>\n",
              "      <td>4.000000</td>\n",
              "      <td>4.000000</td>\n",
              "      <td>4.000000</td>\n",
              "      <td>4.000000</td>\n",
              "      <td>4.000000</td>\n",
              "      <td>60.000000</td>\n",
              "      <td>29.000000</td>\n",
              "      <td>5.000000</td>\n",
              "      <td>...</td>\n",
              "      <td>5.000000</td>\n",
              "      <td>199990.000000</td>\n",
              "      <td>9.000000</td>\n",
              "      <td>25.000000</td>\n",
              "      <td>3.000000</td>\n",
              "      <td>40.000000</td>\n",
              "      <td>6.000000</td>\n",
              "      <td>40.000000</td>\n",
              "      <td>15.000000</td>\n",
              "      <td>17.000000</td>\n",
              "    </tr>\n",
              "  </tbody>\n",
              "</table>\n",
              "<p>8 rows × 21 columns</p>\n",
              "</div>\n",
              "      <button class=\"colab-df-convert\" onclick=\"convertToInteractive('df-a2d0bd60-ab79-499a-98ac-1cb941bdf3e0')\"\n",
              "              title=\"Convert this dataframe to an interactive table.\"\n",
              "              style=\"display:none;\">\n",
              "        \n",
              "  <svg xmlns=\"http://www.w3.org/2000/svg\" height=\"24px\"viewBox=\"0 0 24 24\"\n",
              "       width=\"24px\">\n",
              "    <path d=\"M0 0h24v24H0V0z\" fill=\"none\"/>\n",
              "    <path d=\"M18.56 5.44l.94 2.06.94-2.06 2.06-.94-2.06-.94-.94-2.06-.94 2.06-2.06.94zm-11 1L8.5 8.5l.94-2.06 2.06-.94-2.06-.94L8.5 2.5l-.94 2.06-2.06.94zm10 10l.94 2.06.94-2.06 2.06-.94-2.06-.94-.94-2.06-.94 2.06-2.06.94z\"/><path d=\"M17.41 7.96l-1.37-1.37c-.4-.4-.92-.59-1.43-.59-.52 0-1.04.2-1.43.59L10.3 9.45l-7.72 7.72c-.78.78-.78 2.05 0 2.83L4 21.41c.39.39.9.59 1.41.59.51 0 1.02-.2 1.41-.59l7.78-7.78 2.81-2.81c.8-.78.8-2.07 0-2.86zM5.41 20L4 18.59l7.72-7.72 1.47 1.35L5.41 20z\"/>\n",
              "  </svg>\n",
              "      </button>\n",
              "      \n",
              "  <style>\n",
              "    .colab-df-container {\n",
              "      display:flex;\n",
              "      flex-wrap:wrap;\n",
              "      gap: 12px;\n",
              "    }\n",
              "\n",
              "    .colab-df-convert {\n",
              "      background-color: #E8F0FE;\n",
              "      border: none;\n",
              "      border-radius: 50%;\n",
              "      cursor: pointer;\n",
              "      display: none;\n",
              "      fill: #1967D2;\n",
              "      height: 32px;\n",
              "      padding: 0 0 0 0;\n",
              "      width: 32px;\n",
              "    }\n",
              "\n",
              "    .colab-df-convert:hover {\n",
              "      background-color: #E2EBFA;\n",
              "      box-shadow: 0px 1px 2px rgba(60, 64, 67, 0.3), 0px 1px 3px 1px rgba(60, 64, 67, 0.15);\n",
              "      fill: #174EA6;\n",
              "    }\n",
              "\n",
              "    [theme=dark] .colab-df-convert {\n",
              "      background-color: #3B4455;\n",
              "      fill: #D2E3FC;\n",
              "    }\n",
              "\n",
              "    [theme=dark] .colab-df-convert:hover {\n",
              "      background-color: #434B5C;\n",
              "      box-shadow: 0px 1px 3px 1px rgba(0, 0, 0, 0.15);\n",
              "      filter: drop-shadow(0px 1px 2px rgba(0, 0, 0, 0.3));\n",
              "      fill: #FFFFFF;\n",
              "    }\n",
              "  </style>\n",
              "\n",
              "      <script>\n",
              "        const buttonEl =\n",
              "          document.querySelector('#df-a2d0bd60-ab79-499a-98ac-1cb941bdf3e0 button.colab-df-convert');\n",
              "        buttonEl.style.display =\n",
              "          google.colab.kernel.accessAllowed ? 'block' : 'none';\n",
              "\n",
              "        async function convertToInteractive(key) {\n",
              "          const element = document.querySelector('#df-a2d0bd60-ab79-499a-98ac-1cb941bdf3e0');\n",
              "          const dataTable =\n",
              "            await google.colab.kernel.invokeFunction('convertToInteractive',\n",
              "                                                     [key], {});\n",
              "          if (!dataTable) return;\n",
              "\n",
              "          const docLinkHtml = 'Like what you see? Visit the ' +\n",
              "            '<a target=\"_blank\" href=https://colab.research.google.com/notebooks/data_table.ipynb>data table notebook</a>'\n",
              "            + ' to learn more about interactive tables.';\n",
              "          element.innerHTML = '';\n",
              "          dataTable['output_type'] = 'display_data';\n",
              "          await google.colab.output.renderOutput(dataTable, element);\n",
              "          const docLink = document.createElement('div');\n",
              "          docLink.innerHTML = docLinkHtml;\n",
              "          element.appendChild(docLink);\n",
              "        }\n",
              "      </script>\n",
              "    </div>\n",
              "  </div>\n",
              "  "
            ]
          },
          "metadata": {},
          "execution_count": 132
        }
      ]
    },
    {
      "cell_type": "markdown",
      "source": [
        "En conclusión, las columnas restantes son suficientemente relevantes para permanecer en nuestros datos de estudio. Con ```X.describe()```sólo se muestran las variables numéricas, pero imprimiendo X podemos ver como hemos pasado de 30 columnas a 27, dado que hemos eliminado 3 de ellas.\n",
        "\n"
      ],
      "metadata": {
        "id": "ukKcOP75mNzy"
      }
    },
    {
      "cell_type": "code",
      "source": [
        "X"
      ],
      "metadata": {
        "colab": {
          "base_uri": "https://localhost:8080/",
          "height": 644
        },
        "id": "L3mIaMyub_Qx",
        "outputId": "2eb0ed5f-5284-444e-cba6-28402b7676ca"
      },
      "execution_count": null,
      "outputs": [
        {
          "output_type": "execute_result",
          "data": {
            "text/plain": [
              "           hrs  absences  JobInvolvement  PerformanceRating  \\\n",
              "1     7.315971      13.0             2.0                4.0   \n",
              "6     6.450877      17.0             3.0                4.0   \n",
              "13         NaN      14.0             NaN                3.0   \n",
              "28         NaN       NaN             2.0                3.0   \n",
              "30    9.662808      11.0             NaN                3.0   \n",
              "...        ...       ...             ...                ...   \n",
              "4405  8.316921       6.0             3.0                3.0   \n",
              "4406  5.897197       8.0             2.0                3.0   \n",
              "4407  7.149526      18.0             3.0                NaN   \n",
              "4408  9.187612       NaN             NaN                3.0   \n",
              "4409  6.511790      17.0             NaN                3.0   \n",
              "\n",
              "      EnvironmentSatisfaction  JobSatisfaction  WorkLifeBalance   Age  \\\n",
              "1                         3.0              2.0              NaN   NaN   \n",
              "6                         1.0              3.0              1.0  28.0   \n",
              "13                        NaN              2.0              2.0  47.0   \n",
              "28                        NaN              3.0              1.0  44.0   \n",
              "30                        1.0              2.0              3.0  26.0   \n",
              "...                       ...              ...              ...   ...   \n",
              "4405                      4.0              1.0              3.0  42.0   \n",
              "4406                      4.0              NaN              3.0   NaN   \n",
              "4407                      1.0              3.0              3.0  25.0   \n",
              "4408                      4.0              1.0              3.0  42.0   \n",
              "4409                      1.0              3.0              NaN  40.0   \n",
              "\n",
              "         BusinessTravel              Department  ...  MaritalStatus  \\\n",
              "1     Travel_Frequently  Research & Development  ...         Single   \n",
              "6         Travel_Rarely  Research & Development  ...         Single   \n",
              "13           Non-Travel  Research & Development  ...        Married   \n",
              "28    Travel_Frequently  Research & Development  ...       Divorced   \n",
              "30        Travel_Rarely  Research & Development  ...            NaN   \n",
              "...                 ...                     ...  ...            ...   \n",
              "4405      Travel_Rarely  Research & Development  ...         Single   \n",
              "4406      Travel_Rarely  Research & Development  ...            NaN   \n",
              "4407      Travel_Rarely  Research & Development  ...        Married   \n",
              "4408      Travel_Rarely                   Sales  ...       Divorced   \n",
              "4409      Travel_Rarely  Research & Development  ...       Divorced   \n",
              "\n",
              "      MonthlyIncome NumCompaniesWorked  PercentSalaryHike StockOptionLevel  \\\n",
              "1           41890.0                0.0                NaN              1.0   \n",
              "6           58130.0                2.0               20.0              1.0   \n",
              "13          57620.0                NaN                NaN              2.0   \n",
              "28         103330.0                3.0               14.0              1.0   \n",
              "30          68540.0                2.0               11.0              NaN   \n",
              "...             ...                ...                ...              ...   \n",
              "4405        60290.0                3.0                NaN              1.0   \n",
              "4406            NaN                2.0               15.0              0.0   \n",
              "4407        37020.0                0.0                NaN              0.0   \n",
              "4408            NaN                0.0               14.0              1.0   \n",
              "4409        54680.0                0.0               12.0              0.0   \n",
              "\n",
              "      TotalWorkingYears TrainingTimesLastYear YearsAtCompany  \\\n",
              "1                   6.0                   3.0            5.0   \n",
              "6                   5.0                   2.0            NaN   \n",
              "13                 10.0                   4.0           10.0   \n",
              "28                  NaN                   2.0            NaN   \n",
              "30                  5.0                   5.0            3.0   \n",
              "...                 ...                   ...            ...   \n",
              "4405               10.0                   NaN            3.0   \n",
              "4406               10.0                   2.0            NaN   \n",
              "4407                5.0                   4.0            4.0   \n",
              "4408               10.0                   2.0            NaN   \n",
              "4409                NaN                   6.0           21.0   \n",
              "\n",
              "      YearsSinceLastPromotion  YearsWithCurrManager  \n",
              "1                           1                   NaN  \n",
              "6                           0                   0.0  \n",
              "13                          9                   9.0  \n",
              "28                          0                   0.0  \n",
              "30                          0                   2.0  \n",
              "...                       ...                   ...  \n",
              "4405                        0                   2.0  \n",
              "4406                        0                   NaN  \n",
              "4407                        1                   2.0  \n",
              "4408                        7                   8.0  \n",
              "4409                        3                   9.0  \n",
              "\n",
              "[4410 rows x 27 columns]"
            ],
            "text/html": [
              "\n",
              "  <div id=\"df-2ff14043-eca0-4365-a32a-26d6551e5b15\">\n",
              "    <div class=\"colab-df-container\">\n",
              "      <div>\n",
              "<style scoped>\n",
              "    .dataframe tbody tr th:only-of-type {\n",
              "        vertical-align: middle;\n",
              "    }\n",
              "\n",
              "    .dataframe tbody tr th {\n",
              "        vertical-align: top;\n",
              "    }\n",
              "\n",
              "    .dataframe thead th {\n",
              "        text-align: right;\n",
              "    }\n",
              "</style>\n",
              "<table border=\"1\" class=\"dataframe\">\n",
              "  <thead>\n",
              "    <tr style=\"text-align: right;\">\n",
              "      <th></th>\n",
              "      <th>hrs</th>\n",
              "      <th>absences</th>\n",
              "      <th>JobInvolvement</th>\n",
              "      <th>PerformanceRating</th>\n",
              "      <th>EnvironmentSatisfaction</th>\n",
              "      <th>JobSatisfaction</th>\n",
              "      <th>WorkLifeBalance</th>\n",
              "      <th>Age</th>\n",
              "      <th>BusinessTravel</th>\n",
              "      <th>Department</th>\n",
              "      <th>...</th>\n",
              "      <th>MaritalStatus</th>\n",
              "      <th>MonthlyIncome</th>\n",
              "      <th>NumCompaniesWorked</th>\n",
              "      <th>PercentSalaryHike</th>\n",
              "      <th>StockOptionLevel</th>\n",
              "      <th>TotalWorkingYears</th>\n",
              "      <th>TrainingTimesLastYear</th>\n",
              "      <th>YearsAtCompany</th>\n",
              "      <th>YearsSinceLastPromotion</th>\n",
              "      <th>YearsWithCurrManager</th>\n",
              "    </tr>\n",
              "  </thead>\n",
              "  <tbody>\n",
              "    <tr>\n",
              "      <th>1</th>\n",
              "      <td>7.315971</td>\n",
              "      <td>13.0</td>\n",
              "      <td>2.0</td>\n",
              "      <td>4.0</td>\n",
              "      <td>3.0</td>\n",
              "      <td>2.0</td>\n",
              "      <td>NaN</td>\n",
              "      <td>NaN</td>\n",
              "      <td>Travel_Frequently</td>\n",
              "      <td>Research &amp; Development</td>\n",
              "      <td>...</td>\n",
              "      <td>Single</td>\n",
              "      <td>41890.0</td>\n",
              "      <td>0.0</td>\n",
              "      <td>NaN</td>\n",
              "      <td>1.0</td>\n",
              "      <td>6.0</td>\n",
              "      <td>3.0</td>\n",
              "      <td>5.0</td>\n",
              "      <td>1</td>\n",
              "      <td>NaN</td>\n",
              "    </tr>\n",
              "    <tr>\n",
              "      <th>6</th>\n",
              "      <td>6.450877</td>\n",
              "      <td>17.0</td>\n",
              "      <td>3.0</td>\n",
              "      <td>4.0</td>\n",
              "      <td>1.0</td>\n",
              "      <td>3.0</td>\n",
              "      <td>1.0</td>\n",
              "      <td>28.0</td>\n",
              "      <td>Travel_Rarely</td>\n",
              "      <td>Research &amp; Development</td>\n",
              "      <td>...</td>\n",
              "      <td>Single</td>\n",
              "      <td>58130.0</td>\n",
              "      <td>2.0</td>\n",
              "      <td>20.0</td>\n",
              "      <td>1.0</td>\n",
              "      <td>5.0</td>\n",
              "      <td>2.0</td>\n",
              "      <td>NaN</td>\n",
              "      <td>0</td>\n",
              "      <td>0.0</td>\n",
              "    </tr>\n",
              "    <tr>\n",
              "      <th>13</th>\n",
              "      <td>NaN</td>\n",
              "      <td>14.0</td>\n",
              "      <td>NaN</td>\n",
              "      <td>3.0</td>\n",
              "      <td>NaN</td>\n",
              "      <td>2.0</td>\n",
              "      <td>2.0</td>\n",
              "      <td>47.0</td>\n",
              "      <td>Non-Travel</td>\n",
              "      <td>Research &amp; Development</td>\n",
              "      <td>...</td>\n",
              "      <td>Married</td>\n",
              "      <td>57620.0</td>\n",
              "      <td>NaN</td>\n",
              "      <td>NaN</td>\n",
              "      <td>2.0</td>\n",
              "      <td>10.0</td>\n",
              "      <td>4.0</td>\n",
              "      <td>10.0</td>\n",
              "      <td>9</td>\n",
              "      <td>9.0</td>\n",
              "    </tr>\n",
              "    <tr>\n",
              "      <th>28</th>\n",
              "      <td>NaN</td>\n",
              "      <td>NaN</td>\n",
              "      <td>2.0</td>\n",
              "      <td>3.0</td>\n",
              "      <td>NaN</td>\n",
              "      <td>3.0</td>\n",
              "      <td>1.0</td>\n",
              "      <td>44.0</td>\n",
              "      <td>Travel_Frequently</td>\n",
              "      <td>Research &amp; Development</td>\n",
              "      <td>...</td>\n",
              "      <td>Divorced</td>\n",
              "      <td>103330.0</td>\n",
              "      <td>3.0</td>\n",
              "      <td>14.0</td>\n",
              "      <td>1.0</td>\n",
              "      <td>NaN</td>\n",
              "      <td>2.0</td>\n",
              "      <td>NaN</td>\n",
              "      <td>0</td>\n",
              "      <td>0.0</td>\n",
              "    </tr>\n",
              "    <tr>\n",
              "      <th>30</th>\n",
              "      <td>9.662808</td>\n",
              "      <td>11.0</td>\n",
              "      <td>NaN</td>\n",
              "      <td>3.0</td>\n",
              "      <td>1.0</td>\n",
              "      <td>2.0</td>\n",
              "      <td>3.0</td>\n",
              "      <td>26.0</td>\n",
              "      <td>Travel_Rarely</td>\n",
              "      <td>Research &amp; Development</td>\n",
              "      <td>...</td>\n",
              "      <td>NaN</td>\n",
              "      <td>68540.0</td>\n",
              "      <td>2.0</td>\n",
              "      <td>11.0</td>\n",
              "      <td>NaN</td>\n",
              "      <td>5.0</td>\n",
              "      <td>5.0</td>\n",
              "      <td>3.0</td>\n",
              "      <td>0</td>\n",
              "      <td>2.0</td>\n",
              "    </tr>\n",
              "    <tr>\n",
              "      <th>...</th>\n",
              "      <td>...</td>\n",
              "      <td>...</td>\n",
              "      <td>...</td>\n",
              "      <td>...</td>\n",
              "      <td>...</td>\n",
              "      <td>...</td>\n",
              "      <td>...</td>\n",
              "      <td>...</td>\n",
              "      <td>...</td>\n",
              "      <td>...</td>\n",
              "      <td>...</td>\n",
              "      <td>...</td>\n",
              "      <td>...</td>\n",
              "      <td>...</td>\n",
              "      <td>...</td>\n",
              "      <td>...</td>\n",
              "      <td>...</td>\n",
              "      <td>...</td>\n",
              "      <td>...</td>\n",
              "      <td>...</td>\n",
              "      <td>...</td>\n",
              "    </tr>\n",
              "    <tr>\n",
              "      <th>4405</th>\n",
              "      <td>8.316921</td>\n",
              "      <td>6.0</td>\n",
              "      <td>3.0</td>\n",
              "      <td>3.0</td>\n",
              "      <td>4.0</td>\n",
              "      <td>1.0</td>\n",
              "      <td>3.0</td>\n",
              "      <td>42.0</td>\n",
              "      <td>Travel_Rarely</td>\n",
              "      <td>Research &amp; Development</td>\n",
              "      <td>...</td>\n",
              "      <td>Single</td>\n",
              "      <td>60290.0</td>\n",
              "      <td>3.0</td>\n",
              "      <td>NaN</td>\n",
              "      <td>1.0</td>\n",
              "      <td>10.0</td>\n",
              "      <td>NaN</td>\n",
              "      <td>3.0</td>\n",
              "      <td>0</td>\n",
              "      <td>2.0</td>\n",
              "    </tr>\n",
              "    <tr>\n",
              "      <th>4406</th>\n",
              "      <td>5.897197</td>\n",
              "      <td>8.0</td>\n",
              "      <td>2.0</td>\n",
              "      <td>3.0</td>\n",
              "      <td>4.0</td>\n",
              "      <td>NaN</td>\n",
              "      <td>3.0</td>\n",
              "      <td>NaN</td>\n",
              "      <td>Travel_Rarely</td>\n",
              "      <td>Research &amp; Development</td>\n",
              "      <td>...</td>\n",
              "      <td>NaN</td>\n",
              "      <td>NaN</td>\n",
              "      <td>2.0</td>\n",
              "      <td>15.0</td>\n",
              "      <td>0.0</td>\n",
              "      <td>10.0</td>\n",
              "      <td>2.0</td>\n",
              "      <td>NaN</td>\n",
              "      <td>0</td>\n",
              "      <td>NaN</td>\n",
              "    </tr>\n",
              "    <tr>\n",
              "      <th>4407</th>\n",
              "      <td>7.149526</td>\n",
              "      <td>18.0</td>\n",
              "      <td>3.0</td>\n",
              "      <td>NaN</td>\n",
              "      <td>1.0</td>\n",
              "      <td>3.0</td>\n",
              "      <td>3.0</td>\n",
              "      <td>25.0</td>\n",
              "      <td>Travel_Rarely</td>\n",
              "      <td>Research &amp; Development</td>\n",
              "      <td>...</td>\n",
              "      <td>Married</td>\n",
              "      <td>37020.0</td>\n",
              "      <td>0.0</td>\n",
              "      <td>NaN</td>\n",
              "      <td>0.0</td>\n",
              "      <td>5.0</td>\n",
              "      <td>4.0</td>\n",
              "      <td>4.0</td>\n",
              "      <td>1</td>\n",
              "      <td>2.0</td>\n",
              "    </tr>\n",
              "    <tr>\n",
              "      <th>4408</th>\n",
              "      <td>9.187612</td>\n",
              "      <td>NaN</td>\n",
              "      <td>NaN</td>\n",
              "      <td>3.0</td>\n",
              "      <td>4.0</td>\n",
              "      <td>1.0</td>\n",
              "      <td>3.0</td>\n",
              "      <td>42.0</td>\n",
              "      <td>Travel_Rarely</td>\n",
              "      <td>Sales</td>\n",
              "      <td>...</td>\n",
              "      <td>Divorced</td>\n",
              "      <td>NaN</td>\n",
              "      <td>0.0</td>\n",
              "      <td>14.0</td>\n",
              "      <td>1.0</td>\n",
              "      <td>10.0</td>\n",
              "      <td>2.0</td>\n",
              "      <td>NaN</td>\n",
              "      <td>7</td>\n",
              "      <td>8.0</td>\n",
              "    </tr>\n",
              "    <tr>\n",
              "      <th>4409</th>\n",
              "      <td>6.511790</td>\n",
              "      <td>17.0</td>\n",
              "      <td>NaN</td>\n",
              "      <td>3.0</td>\n",
              "      <td>1.0</td>\n",
              "      <td>3.0</td>\n",
              "      <td>NaN</td>\n",
              "      <td>40.0</td>\n",
              "      <td>Travel_Rarely</td>\n",
              "      <td>Research &amp; Development</td>\n",
              "      <td>...</td>\n",
              "      <td>Divorced</td>\n",
              "      <td>54680.0</td>\n",
              "      <td>0.0</td>\n",
              "      <td>12.0</td>\n",
              "      <td>0.0</td>\n",
              "      <td>NaN</td>\n",
              "      <td>6.0</td>\n",
              "      <td>21.0</td>\n",
              "      <td>3</td>\n",
              "      <td>9.0</td>\n",
              "    </tr>\n",
              "  </tbody>\n",
              "</table>\n",
              "<p>4410 rows × 27 columns</p>\n",
              "</div>\n",
              "      <button class=\"colab-df-convert\" onclick=\"convertToInteractive('df-2ff14043-eca0-4365-a32a-26d6551e5b15')\"\n",
              "              title=\"Convert this dataframe to an interactive table.\"\n",
              "              style=\"display:none;\">\n",
              "        \n",
              "  <svg xmlns=\"http://www.w3.org/2000/svg\" height=\"24px\"viewBox=\"0 0 24 24\"\n",
              "       width=\"24px\">\n",
              "    <path d=\"M0 0h24v24H0V0z\" fill=\"none\"/>\n",
              "    <path d=\"M18.56 5.44l.94 2.06.94-2.06 2.06-.94-2.06-.94-.94-2.06-.94 2.06-2.06.94zm-11 1L8.5 8.5l.94-2.06 2.06-.94-2.06-.94L8.5 2.5l-.94 2.06-2.06.94zm10 10l.94 2.06.94-2.06 2.06-.94-2.06-.94-.94-2.06-.94 2.06-2.06.94z\"/><path d=\"M17.41 7.96l-1.37-1.37c-.4-.4-.92-.59-1.43-.59-.52 0-1.04.2-1.43.59L10.3 9.45l-7.72 7.72c-.78.78-.78 2.05 0 2.83L4 21.41c.39.39.9.59 1.41.59.51 0 1.02-.2 1.41-.59l7.78-7.78 2.81-2.81c.8-.78.8-2.07 0-2.86zM5.41 20L4 18.59l7.72-7.72 1.47 1.35L5.41 20z\"/>\n",
              "  </svg>\n",
              "      </button>\n",
              "      \n",
              "  <style>\n",
              "    .colab-df-container {\n",
              "      display:flex;\n",
              "      flex-wrap:wrap;\n",
              "      gap: 12px;\n",
              "    }\n",
              "\n",
              "    .colab-df-convert {\n",
              "      background-color: #E8F0FE;\n",
              "      border: none;\n",
              "      border-radius: 50%;\n",
              "      cursor: pointer;\n",
              "      display: none;\n",
              "      fill: #1967D2;\n",
              "      height: 32px;\n",
              "      padding: 0 0 0 0;\n",
              "      width: 32px;\n",
              "    }\n",
              "\n",
              "    .colab-df-convert:hover {\n",
              "      background-color: #E2EBFA;\n",
              "      box-shadow: 0px 1px 2px rgba(60, 64, 67, 0.3), 0px 1px 3px 1px rgba(60, 64, 67, 0.15);\n",
              "      fill: #174EA6;\n",
              "    }\n",
              "\n",
              "    [theme=dark] .colab-df-convert {\n",
              "      background-color: #3B4455;\n",
              "      fill: #D2E3FC;\n",
              "    }\n",
              "\n",
              "    [theme=dark] .colab-df-convert:hover {\n",
              "      background-color: #434B5C;\n",
              "      box-shadow: 0px 1px 3px 1px rgba(0, 0, 0, 0.15);\n",
              "      filter: drop-shadow(0px 1px 2px rgba(0, 0, 0, 0.3));\n",
              "      fill: #FFFFFF;\n",
              "    }\n",
              "  </style>\n",
              "\n",
              "      <script>\n",
              "        const buttonEl =\n",
              "          document.querySelector('#df-2ff14043-eca0-4365-a32a-26d6551e5b15 button.colab-df-convert');\n",
              "        buttonEl.style.display =\n",
              "          google.colab.kernel.accessAllowed ? 'block' : 'none';\n",
              "\n",
              "        async function convertToInteractive(key) {\n",
              "          const element = document.querySelector('#df-2ff14043-eca0-4365-a32a-26d6551e5b15');\n",
              "          const dataTable =\n",
              "            await google.colab.kernel.invokeFunction('convertToInteractive',\n",
              "                                                     [key], {});\n",
              "          if (!dataTable) return;\n",
              "\n",
              "          const docLinkHtml = 'Like what you see? Visit the ' +\n",
              "            '<a target=\"_blank\" href=https://colab.research.google.com/notebooks/data_table.ipynb>data table notebook</a>'\n",
              "            + ' to learn more about interactive tables.';\n",
              "          element.innerHTML = '';\n",
              "          dataTable['output_type'] = 'display_data';\n",
              "          await google.colab.output.renderOutput(dataTable, element);\n",
              "          const docLink = document.createElement('div');\n",
              "          docLink.innerHTML = docLinkHtml;\n",
              "          element.appendChild(docLink);\n",
              "        }\n",
              "      </script>\n",
              "    </div>\n",
              "  </div>\n",
              "  "
            ]
          },
          "metadata": {},
          "execution_count": 145
        }
      ]
    },
    {
      "cell_type": "markdown",
      "source": [
        "## **Proporción de missing values**\n",
        "\n",
        "A continuación, comprobaremos los **missings values** que existen en nuestros datos. Para ello, tomaremos el dataframe de datos creado anteriormente y haremos una suma por atributo de los missing values y lo compararemos con el número total de valores. Tras esto, crearemos una tabla para poder ver de manera clara las proporciones de missing values de cada atributo."
      ],
      "metadata": {
        "id": "RrXpXw-BbyXS"
      }
    },
    {
      "cell_type": "code",
      "source": [
        "# Función que cuenta el número de missing values por atributos,\n",
        "def missing_values_table(df):\n",
        "    mis_val = df.isnull().sum()\n",
        "    mis_val_percent = 100 * df.isnull().sum() / len(df)\n",
        "    mis_val_percent_rounded = mis_val_percent.round(2).astype(str) + '%'\n",
        "    mis_val_table = pd.concat([mis_val, mis_val_percent_rounded], axis=1)\n",
        "    mis_val_table_ren_columns = mis_val_table.rename(\n",
        "    columns = {0 : 'Missing Values', 1 : 'Proporción'})\n",
        "    return mis_val_table_ren_columns\n",
        "  \n",
        "# Generamos las proporciones de missing values.\n",
        "missing_values_table(df)"
      ],
      "metadata": {
        "id": "Dix754XKbydi",
        "colab": {
          "base_uri": "https://localhost:8080/",
          "height": 1000
        },
        "outputId": "8e335d5a-f469-4f3a-852d-b9a6d8043e62"
      },
      "execution_count": null,
      "outputs": [
        {
          "output_type": "execute_result",
          "data": {
            "text/plain": [
              "                         Missing Values Proporción\n",
              "hrs                                 943     21.38%\n",
              "absences                            755     17.12%\n",
              "JobInvolvement                      884     20.05%\n",
              "PerformanceRating                   962     21.81%\n",
              "EnvironmentSatisfaction             811     18.39%\n",
              "JobSatisfaction                     904      20.5%\n",
              "WorkLifeBalance                     935      21.2%\n",
              "Age                                 825     18.71%\n",
              "Attrition                             0       0.0%\n",
              "BusinessTravel                      852     19.32%\n",
              "Department                            0       0.0%\n",
              "DistanceFromHome                    884     20.05%\n",
              "Education                           910     20.63%\n",
              "EducationField                      769     17.44%\n",
              "EmployeeCount                       897     20.34%\n",
              "EmployeeID                          964     21.86%\n",
              "Gender                                0       0.0%\n",
              "JobLevel                            779     17.66%\n",
              "JobRole                               0       0.0%\n",
              "MaritalStatus                       932     21.13%\n",
              "MonthlyIncome                       755     17.12%\n",
              "NumCompaniesWorked                  816      18.5%\n",
              "Over18                              822     18.64%\n",
              "PercentSalaryHike                   868     19.68%\n",
              "StandardHours                       708     16.05%\n",
              "StockOptionLevel                    755     17.12%\n",
              "TotalWorkingYears                   915     20.75%\n",
              "TrainingTimesLastYear               790     17.91%\n",
              "YearsAtCompany                      729     16.53%\n",
              "YearsSinceLastPromotion               0       0.0%\n",
              "YearsWithCurrManager                747     16.94%"
            ],
            "text/html": [
              "\n",
              "  <div id=\"df-de264a76-1dc7-40dc-a07b-591b30a598c6\">\n",
              "    <div class=\"colab-df-container\">\n",
              "      <div>\n",
              "<style scoped>\n",
              "    .dataframe tbody tr th:only-of-type {\n",
              "        vertical-align: middle;\n",
              "    }\n",
              "\n",
              "    .dataframe tbody tr th {\n",
              "        vertical-align: top;\n",
              "    }\n",
              "\n",
              "    .dataframe thead th {\n",
              "        text-align: right;\n",
              "    }\n",
              "</style>\n",
              "<table border=\"1\" class=\"dataframe\">\n",
              "  <thead>\n",
              "    <tr style=\"text-align: right;\">\n",
              "      <th></th>\n",
              "      <th>Missing Values</th>\n",
              "      <th>Proporción</th>\n",
              "    </tr>\n",
              "  </thead>\n",
              "  <tbody>\n",
              "    <tr>\n",
              "      <th>hrs</th>\n",
              "      <td>943</td>\n",
              "      <td>21.38%</td>\n",
              "    </tr>\n",
              "    <tr>\n",
              "      <th>absences</th>\n",
              "      <td>755</td>\n",
              "      <td>17.12%</td>\n",
              "    </tr>\n",
              "    <tr>\n",
              "      <th>JobInvolvement</th>\n",
              "      <td>884</td>\n",
              "      <td>20.05%</td>\n",
              "    </tr>\n",
              "    <tr>\n",
              "      <th>PerformanceRating</th>\n",
              "      <td>962</td>\n",
              "      <td>21.81%</td>\n",
              "    </tr>\n",
              "    <tr>\n",
              "      <th>EnvironmentSatisfaction</th>\n",
              "      <td>811</td>\n",
              "      <td>18.39%</td>\n",
              "    </tr>\n",
              "    <tr>\n",
              "      <th>JobSatisfaction</th>\n",
              "      <td>904</td>\n",
              "      <td>20.5%</td>\n",
              "    </tr>\n",
              "    <tr>\n",
              "      <th>WorkLifeBalance</th>\n",
              "      <td>935</td>\n",
              "      <td>21.2%</td>\n",
              "    </tr>\n",
              "    <tr>\n",
              "      <th>Age</th>\n",
              "      <td>825</td>\n",
              "      <td>18.71%</td>\n",
              "    </tr>\n",
              "    <tr>\n",
              "      <th>Attrition</th>\n",
              "      <td>0</td>\n",
              "      <td>0.0%</td>\n",
              "    </tr>\n",
              "    <tr>\n",
              "      <th>BusinessTravel</th>\n",
              "      <td>852</td>\n",
              "      <td>19.32%</td>\n",
              "    </tr>\n",
              "    <tr>\n",
              "      <th>Department</th>\n",
              "      <td>0</td>\n",
              "      <td>0.0%</td>\n",
              "    </tr>\n",
              "    <tr>\n",
              "      <th>DistanceFromHome</th>\n",
              "      <td>884</td>\n",
              "      <td>20.05%</td>\n",
              "    </tr>\n",
              "    <tr>\n",
              "      <th>Education</th>\n",
              "      <td>910</td>\n",
              "      <td>20.63%</td>\n",
              "    </tr>\n",
              "    <tr>\n",
              "      <th>EducationField</th>\n",
              "      <td>769</td>\n",
              "      <td>17.44%</td>\n",
              "    </tr>\n",
              "    <tr>\n",
              "      <th>EmployeeCount</th>\n",
              "      <td>897</td>\n",
              "      <td>20.34%</td>\n",
              "    </tr>\n",
              "    <tr>\n",
              "      <th>EmployeeID</th>\n",
              "      <td>964</td>\n",
              "      <td>21.86%</td>\n",
              "    </tr>\n",
              "    <tr>\n",
              "      <th>Gender</th>\n",
              "      <td>0</td>\n",
              "      <td>0.0%</td>\n",
              "    </tr>\n",
              "    <tr>\n",
              "      <th>JobLevel</th>\n",
              "      <td>779</td>\n",
              "      <td>17.66%</td>\n",
              "    </tr>\n",
              "    <tr>\n",
              "      <th>JobRole</th>\n",
              "      <td>0</td>\n",
              "      <td>0.0%</td>\n",
              "    </tr>\n",
              "    <tr>\n",
              "      <th>MaritalStatus</th>\n",
              "      <td>932</td>\n",
              "      <td>21.13%</td>\n",
              "    </tr>\n",
              "    <tr>\n",
              "      <th>MonthlyIncome</th>\n",
              "      <td>755</td>\n",
              "      <td>17.12%</td>\n",
              "    </tr>\n",
              "    <tr>\n",
              "      <th>NumCompaniesWorked</th>\n",
              "      <td>816</td>\n",
              "      <td>18.5%</td>\n",
              "    </tr>\n",
              "    <tr>\n",
              "      <th>Over18</th>\n",
              "      <td>822</td>\n",
              "      <td>18.64%</td>\n",
              "    </tr>\n",
              "    <tr>\n",
              "      <th>PercentSalaryHike</th>\n",
              "      <td>868</td>\n",
              "      <td>19.68%</td>\n",
              "    </tr>\n",
              "    <tr>\n",
              "      <th>StandardHours</th>\n",
              "      <td>708</td>\n",
              "      <td>16.05%</td>\n",
              "    </tr>\n",
              "    <tr>\n",
              "      <th>StockOptionLevel</th>\n",
              "      <td>755</td>\n",
              "      <td>17.12%</td>\n",
              "    </tr>\n",
              "    <tr>\n",
              "      <th>TotalWorkingYears</th>\n",
              "      <td>915</td>\n",
              "      <td>20.75%</td>\n",
              "    </tr>\n",
              "    <tr>\n",
              "      <th>TrainingTimesLastYear</th>\n",
              "      <td>790</td>\n",
              "      <td>17.91%</td>\n",
              "    </tr>\n",
              "    <tr>\n",
              "      <th>YearsAtCompany</th>\n",
              "      <td>729</td>\n",
              "      <td>16.53%</td>\n",
              "    </tr>\n",
              "    <tr>\n",
              "      <th>YearsSinceLastPromotion</th>\n",
              "      <td>0</td>\n",
              "      <td>0.0%</td>\n",
              "    </tr>\n",
              "    <tr>\n",
              "      <th>YearsWithCurrManager</th>\n",
              "      <td>747</td>\n",
              "      <td>16.94%</td>\n",
              "    </tr>\n",
              "  </tbody>\n",
              "</table>\n",
              "</div>\n",
              "      <button class=\"colab-df-convert\" onclick=\"convertToInteractive('df-de264a76-1dc7-40dc-a07b-591b30a598c6')\"\n",
              "              title=\"Convert this dataframe to an interactive table.\"\n",
              "              style=\"display:none;\">\n",
              "        \n",
              "  <svg xmlns=\"http://www.w3.org/2000/svg\" height=\"24px\"viewBox=\"0 0 24 24\"\n",
              "       width=\"24px\">\n",
              "    <path d=\"M0 0h24v24H0V0z\" fill=\"none\"/>\n",
              "    <path d=\"M18.56 5.44l.94 2.06.94-2.06 2.06-.94-2.06-.94-.94-2.06-.94 2.06-2.06.94zm-11 1L8.5 8.5l.94-2.06 2.06-.94-2.06-.94L8.5 2.5l-.94 2.06-2.06.94zm10 10l.94 2.06.94-2.06 2.06-.94-2.06-.94-.94-2.06-.94 2.06-2.06.94z\"/><path d=\"M17.41 7.96l-1.37-1.37c-.4-.4-.92-.59-1.43-.59-.52 0-1.04.2-1.43.59L10.3 9.45l-7.72 7.72c-.78.78-.78 2.05 0 2.83L4 21.41c.39.39.9.59 1.41.59.51 0 1.02-.2 1.41-.59l7.78-7.78 2.81-2.81c.8-.78.8-2.07 0-2.86zM5.41 20L4 18.59l7.72-7.72 1.47 1.35L5.41 20z\"/>\n",
              "  </svg>\n",
              "      </button>\n",
              "      \n",
              "  <style>\n",
              "    .colab-df-container {\n",
              "      display:flex;\n",
              "      flex-wrap:wrap;\n",
              "      gap: 12px;\n",
              "    }\n",
              "\n",
              "    .colab-df-convert {\n",
              "      background-color: #E8F0FE;\n",
              "      border: none;\n",
              "      border-radius: 50%;\n",
              "      cursor: pointer;\n",
              "      display: none;\n",
              "      fill: #1967D2;\n",
              "      height: 32px;\n",
              "      padding: 0 0 0 0;\n",
              "      width: 32px;\n",
              "    }\n",
              "\n",
              "    .colab-df-convert:hover {\n",
              "      background-color: #E2EBFA;\n",
              "      box-shadow: 0px 1px 2px rgba(60, 64, 67, 0.3), 0px 1px 3px 1px rgba(60, 64, 67, 0.15);\n",
              "      fill: #174EA6;\n",
              "    }\n",
              "\n",
              "    [theme=dark] .colab-df-convert {\n",
              "      background-color: #3B4455;\n",
              "      fill: #D2E3FC;\n",
              "    }\n",
              "\n",
              "    [theme=dark] .colab-df-convert:hover {\n",
              "      background-color: #434B5C;\n",
              "      box-shadow: 0px 1px 3px 1px rgba(0, 0, 0, 0.15);\n",
              "      filter: drop-shadow(0px 1px 2px rgba(0, 0, 0, 0.3));\n",
              "      fill: #FFFFFF;\n",
              "    }\n",
              "  </style>\n",
              "\n",
              "      <script>\n",
              "        const buttonEl =\n",
              "          document.querySelector('#df-de264a76-1dc7-40dc-a07b-591b30a598c6 button.colab-df-convert');\n",
              "        buttonEl.style.display =\n",
              "          google.colab.kernel.accessAllowed ? 'block' : 'none';\n",
              "\n",
              "        async function convertToInteractive(key) {\n",
              "          const element = document.querySelector('#df-de264a76-1dc7-40dc-a07b-591b30a598c6');\n",
              "          const dataTable =\n",
              "            await google.colab.kernel.invokeFunction('convertToInteractive',\n",
              "                                                     [key], {});\n",
              "          if (!dataTable) return;\n",
              "\n",
              "          const docLinkHtml = 'Like what you see? Visit the ' +\n",
              "            '<a target=\"_blank\" href=https://colab.research.google.com/notebooks/data_table.ipynb>data table notebook</a>'\n",
              "            + ' to learn more about interactive tables.';\n",
              "          element.innerHTML = '';\n",
              "          dataTable['output_type'] = 'display_data';\n",
              "          await google.colab.output.renderOutput(dataTable, element);\n",
              "          const docLink = document.createElement('div');\n",
              "          docLink.innerHTML = docLinkHtml;\n",
              "          element.appendChild(docLink);\n",
              "        }\n",
              "      </script>\n",
              "    </div>\n",
              "  </div>\n",
              "  "
            ]
          },
          "metadata": {},
          "execution_count": 146
        }
      ]
    },
    {
      "cell_type": "markdown",
      "source": [
        "De la tabla anterior podemos ver como claramente existe una alta cantidad de missing values en la mayoría de atributos, aunque hay algunos de ellos que no cuentan con ninguno. En general, oscilan entre un 15% y un 20% de valores nulos."
      ],
      "metadata": {
        "id": "q_kk23CscMOO"
      }
    },
    {
      "cell_type": "markdown",
      "source": [
        "## **Tipo de problema**"
      ],
      "metadata": {
        "id": "8oxHUUtGbyif"
      }
    },
    {
      "cell_type": "markdown",
      "source": [
        "Según la descripción del enunciado del proyecto, el problema se trata de predecir si es probable que los empleados abandonen la empresa, por lo que estamos ante un problema de **clasificación binaria**, donde la variable objetivo '**Attrrition**' es una etiqueta binaria que indica si un empleado abandonará la empresa (**Yes**) o no (**No**)."
      ],
      "metadata": {
        "id": "pXfnjVYKmltI"
      }
    },
    {
      "cell_type": "code",
      "source": [
        "y.describe()\n"
      ],
      "metadata": {
        "colab": {
          "base_uri": "https://localhost:8080/"
        },
        "id": "gbWZaJhcmwL1",
        "outputId": "acf7ad47-635a-4cf7-e10c-8e1f85eef953"
      },
      "execution_count": null,
      "outputs": [
        {
          "output_type": "execute_result",
          "data": {
            "text/plain": [
              "count     4410\n",
              "unique       2\n",
              "top         No\n",
              "freq      3699\n",
              "Name: Attrition, dtype: object"
            ]
          },
          "metadata": {},
          "execution_count": 135
        }
      ]
    },
    {
      "cell_type": "markdown",
      "source": [
        "## **Desbalance**\n",
        "Para comprobar si es un problema desbalanceado, vamos a comprobar las proporciones de la varibale de salida para comprobar si hay una clase mayoritaría"
      ],
      "metadata": {
        "id": "h6RyqiEEbyrL"
      }
    },
    {
      "cell_type": "code",
      "source": [
        "from sklearn.model_selection import train_test_split\n",
        "from sklearn.preprocessing import LabelEncoder\n",
        "\n",
        "np.random.seed(13)\n",
        "\n",
        "# Realizamos una división train/test \"normal\".\n",
        "X_train, X_test, y_train, y_test = train_test_split(X, y, test_size=2/10, random_state=13, shuffle=True)\n",
        "\n",
        "# Codificamos las etiquetas de las clases\n",
        "le = LabelEncoder()\n",
        "y_encoded = le.fit_transform(y)\n",
        "y_train = le.fit_transform(y_train)\n",
        "y_test = le.transform(y_test)\n",
        "\n",
        "N_SAMPLES_NEG = np.sum(y_encoded == 0)\n",
        "N_SAMPLES_POS = np.sum(y_encoded == 1)\n",
        "\n",
        "# Ahora comprobamos la distribución de las clases.\n",
        "n_pos_pct = N_SAMPLES_POS / (N_SAMPLES_POS + N_SAMPLES_NEG)\n",
        "n_pos_train_pct = np.sum(y_train) / len(y_train)\n",
        "n_pos_test_pct = np.sum(y_test) / len(y_test)\n",
        "\n",
        "print(f\"Hay un {100 * n_pos_train_pct:.1f} % de instancias positivas en train.\")\n",
        "print(f\"Hay un {100 * n_pos_test_pct:.1f} % de instancias positivas en test.\")\n",
        "print(f\"Hay un {100 * n_pos_pct:.1f} % de instancias positivas en total.\")"
      ],
      "metadata": {
        "colab": {
          "base_uri": "https://localhost:8080/",
          "height": 65
        },
        "id": "bgbepHK_eLu2",
        "outputId": "fd931744-a841-464c-88d4-daf05371cd22"
      },
      "execution_count": null,
      "outputs": [
        {
          "output_type": "display_data",
          "data": {
            "text/plain": [
              "Hay un \u001b[1;36m15.6\u001b[0m % de instancias positivas en train.\n"
            ],
            "text/html": [
              "<pre style=\"white-space:pre;overflow-x:auto;line-height:normal;font-family:Menlo,'DejaVu Sans Mono',consolas,'Courier New',monospace\">Hay un <span style=\"color: #008080; text-decoration-color: #008080; font-weight: bold\">15.6</span> % de instancias positivas en train.\n",
              "</pre>\n"
            ]
          },
          "metadata": {}
        },
        {
          "output_type": "display_data",
          "data": {
            "text/plain": [
              "Hay un \u001b[1;36m18.3\u001b[0m % de instancias positivas en test.\n"
            ],
            "text/html": [
              "<pre style=\"white-space:pre;overflow-x:auto;line-height:normal;font-family:Menlo,'DejaVu Sans Mono',consolas,'Courier New',monospace\">Hay un <span style=\"color: #008080; text-decoration-color: #008080; font-weight: bold\">18.3</span> % de instancias positivas en test.\n",
              "</pre>\n"
            ]
          },
          "metadata": {}
        },
        {
          "output_type": "display_data",
          "data": {
            "text/plain": [
              "Hay un \u001b[1;36m16.1\u001b[0m % de instancias positivas en total.\n"
            ],
            "text/html": [
              "<pre style=\"white-space:pre;overflow-x:auto;line-height:normal;font-family:Menlo,'DejaVu Sans Mono',consolas,'Courier New',monospace\">Hay un <span style=\"color: #008080; text-decoration-color: #008080; font-weight: bold\">16.1</span> % de instancias positivas en total.\n",
              "</pre>\n"
            ]
          },
          "metadata": {}
        }
      ]
    },
    {
      "cell_type": "markdown",
      "source": [
        "De los resultados obtenidos, se puede concluir que el problema de aprendizaje automático podría considerarse desbalanceado, ya que la proporción de instancias positivas es menor que la proporción de instancias negativas en los conjuntos de datos de entrenamiento, prueba y total.\n",
        "\n",
        "En particular, la proporción de instancias positivas en el conjunto de entrenamiento y en el conjunto total es del 15.6%, mientras que la proporción de instancias positivas en el conjunto de prueba es del 18.3%.\n",
        "\n",
        "Debido a que nuestro problema es desbalanceado, tendremos que usar particiones estratificadas y métricas adecuadas como balanced_accuracy, f1 o matriz de confusión."
      ],
      "metadata": {
        "id": "rofbVUDeoC32"
      }
    },
    {
      "cell_type": "code",
      "source": [
        "# Ahora realizaremos una división train/test estratificada.\n",
        "X_train, X_test, y_train, y_test = train_test_split(X, y, test_size=2/10, random_state=13, shuffle=True, stratify=y)\n",
        "\n",
        "# Codificamos las etiquetas de las clases\n",
        "le = LabelEncoder()\n",
        "y_encoded = le.fit_transform(y)\n",
        "y_train = le.fit_transform(y_train)\n",
        "y_test= le.transform(y_test)\n",
        "\n",
        "N_SAMPLES_NEG = np.sum(y_encoded == 0)\n",
        "N_SAMPLES_POS = np.sum(y_encoded == 1)\n",
        "\n",
        "# Ahora comprobamos la distribución de las clases.\n",
        "n_pos_pct = N_SAMPLES_POS / (N_SAMPLES_POS + N_SAMPLES_NEG)\n",
        "n_pos_train_pct = np.sum(y_train) / len(y_train)\n",
        "n_pos_test_pct = np.sum(y_test) / len(y_test)\n",
        "\n",
        "print(f\"Hay un {100 * n_pos_train_pct:.1f} % de instancias positivas en train.\")\n",
        "print(f\"Hay un {100 * n_pos_test_pct:.1f} % de instancias positivas en test.\")\n",
        "print(f\"Hay un {100 * n_pos_pct:.1f} % de instancias positivas en total.\")"
      ],
      "metadata": {
        "colab": {
          "base_uri": "https://localhost:8080/",
          "height": 65
        },
        "id": "T6K27TZmndx8",
        "outputId": "4336b866-fb97-427e-85d6-0af416a18d6c"
      },
      "execution_count": null,
      "outputs": [
        {
          "output_type": "display_data",
          "data": {
            "text/plain": [
              "Hay un \u001b[1;36m16.1\u001b[0m % de instancias positivas en train.\n"
            ],
            "text/html": [
              "<pre style=\"white-space:pre;overflow-x:auto;line-height:normal;font-family:Menlo,'DejaVu Sans Mono',consolas,'Courier New',monospace\">Hay un <span style=\"color: #008080; text-decoration-color: #008080; font-weight: bold\">16.1</span> % de instancias positivas en train.\n",
              "</pre>\n"
            ]
          },
          "metadata": {}
        },
        {
          "output_type": "display_data",
          "data": {
            "text/plain": [
              "Hay un \u001b[1;36m16.1\u001b[0m % de instancias positivas en test.\n"
            ],
            "text/html": [
              "<pre style=\"white-space:pre;overflow-x:auto;line-height:normal;font-family:Menlo,'DejaVu Sans Mono',consolas,'Courier New',monospace\">Hay un <span style=\"color: #008080; text-decoration-color: #008080; font-weight: bold\">16.1</span> % de instancias positivas en test.\n",
              "</pre>\n"
            ]
          },
          "metadata": {}
        },
        {
          "output_type": "display_data",
          "data": {
            "text/plain": [
              "Hay un \u001b[1;36m16.1\u001b[0m % de instancias positivas en total.\n"
            ],
            "text/html": [
              "<pre style=\"white-space:pre;overflow-x:auto;line-height:normal;font-family:Menlo,'DejaVu Sans Mono',consolas,'Courier New',monospace\">Hay un <span style=\"color: #008080; text-decoration-color: #008080; font-weight: bold\">16.1</span> % de instancias positivas en total.\n",
              "</pre>\n"
            ]
          },
          "metadata": {}
        }
      ]
    },
    {
      "cell_type": "markdown",
      "source": [
        "Como podemos ver, hemos realizado una división train/test estratificada, lo que asegura que la proporción de instancias positivas y negativas se mantenga tanto en el conjunto de entrenamiento como en el conjunto de prueba. Además, al calcular la distribución de las clases en los conjuntos de entrenamiento y prueba, se observa que ambos tienen una proporción del 16.1% de instancias positivas, lo que indica que el problema está equilibrado en cuanto a la distribución de clases y no hay un desbalance de clases significativo."
      ],
      "metadata": {
        "id": "NBeb_MiRq2LS"
      }
    },
    {
      "cell_type": "markdown",
      "source": [
        "# **Construcción de modelos**"
      ],
      "metadata": {
        "id": "aUdRsQ62cRjU"
      }
    },
    {
      "cell_type": "markdown",
      "source": [
        "## **División de datos**"
      ],
      "metadata": {
        "id": "WmT6HHrcpBQh"
      }
    },
    {
      "cell_type": "code",
      "source": [
        "X_train      "
      ],
      "metadata": {
        "colab": {
          "base_uri": "https://localhost:8080/",
          "height": 557
        },
        "id": "S7l2CEsApLYG",
        "outputId": "ff37b848-736c-4c66-8b13-a49b7639ad9a"
      },
      "execution_count": null,
      "outputs": [
        {
          "output_type": "execute_result",
          "data": {
            "text/plain": [
              "           hrs  absences  JobInvolvement  PerformanceRating  \\\n",
              "2342  5.981773      17.0             NaN                3.0   \n",
              "2963       NaN      22.0             1.0                3.0   \n",
              "1254  7.507934       6.0             NaN                3.0   \n",
              "704   9.102632      11.0             NaN                3.0   \n",
              "384   6.622714       NaN             4.0                3.0   \n",
              "...        ...       ...             ...                ...   \n",
              "928   7.774158      19.0             2.0                NaN   \n",
              "183        NaN      13.0             NaN                NaN   \n",
              "2484  6.003905      15.0             2.0                NaN   \n",
              "462   9.914448      14.0             2.0                3.0   \n",
              "2050  7.814650       7.0             1.0                NaN   \n",
              "\n",
              "      EnvironmentSatisfaction  JobSatisfaction  WorkLifeBalance   Age  \\\n",
              "2342                      2.0              3.0              2.0  35.0   \n",
              "2963                      2.0              3.0              3.0  42.0   \n",
              "1254                      1.0              3.0              NaN  26.0   \n",
              "704                       3.0              2.0              3.0  51.0   \n",
              "384                       2.0              2.0              3.0  38.0   \n",
              "...                       ...              ...              ...   ...   \n",
              "928                       4.0              NaN              4.0  35.0   \n",
              "183                       2.0              3.0              3.0  42.0   \n",
              "2484                      4.0              3.0              3.0  38.0   \n",
              "462                       1.0              3.0              NaN  30.0   \n",
              "2050                      3.0              1.0              2.0   NaN   \n",
              "\n",
              "         BusinessTravel              Department  ...  MaritalStatus  \\\n",
              "2342                NaN                   Sales  ...        Married   \n",
              "2963      Travel_Rarely  Research & Development  ...        Married   \n",
              "1254      Travel_Rarely                   Sales  ...         Single   \n",
              "704       Travel_Rarely                   Sales  ...            NaN   \n",
              "384       Travel_Rarely                   Sales  ...        Married   \n",
              "...                 ...                     ...  ...            ...   \n",
              "928                 NaN  Research & Development  ...            NaN   \n",
              "183   Travel_Frequently  Research & Development  ...        Married   \n",
              "2484      Travel_Rarely  Research & Development  ...        Married   \n",
              "462       Travel_Rarely                   Sales  ...        Married   \n",
              "2050  Travel_Frequently                   Sales  ...            NaN   \n",
              "\n",
              "      MonthlyIncome NumCompaniesWorked  PercentSalaryHike StockOptionLevel  \\\n",
              "2342            NaN                1.0               12.0              1.0   \n",
              "2963        89260.0                NaN               14.0              0.0   \n",
              "1254        24040.0                NaN                NaN              0.0   \n",
              "704             NaN                1.0               13.0              1.0   \n",
              "384        137340.0                0.0               13.0              0.0   \n",
              "...             ...                ...                ...              ...   \n",
              "928             NaN                3.0               11.0              1.0   \n",
              "183         29770.0                4.0               15.0              NaN   \n",
              "2484            NaN                1.0               11.0              1.0   \n",
              "462         40000.0                4.0               12.0              0.0   \n",
              "2050        22850.0                0.0                NaN              0.0   \n",
              "\n",
              "      TotalWorkingYears TrainingTimesLastYear YearsAtCompany  \\\n",
              "2342                NaN                   4.0           10.0   \n",
              "2963               20.0                   4.0           20.0   \n",
              "1254                1.0                   6.0            1.0   \n",
              "704                33.0                   NaN           33.0   \n",
              "384                 3.0                   3.0            2.0   \n",
              "...                 ...                   ...            ...   \n",
              "928                13.0                   NaN           11.0   \n",
              "183                 8.0                   3.0            NaN   \n",
              "2484                5.0                   NaN            5.0   \n",
              "462                 NaN                   5.0            5.0   \n",
              "2050                NaN                   3.0           21.0   \n",
              "\n",
              "      YearsSinceLastPromotion  YearsWithCurrManager  \n",
              "2342                        6                   8.0  \n",
              "2963                       11                   6.0  \n",
              "1254                        0                   1.0  \n",
              "704                         0                  10.0  \n",
              "384                         1                   NaN  \n",
              "...                       ...                   ...  \n",
              "928                         6                   7.0  \n",
              "183                         2                   NaN  \n",
              "2484                        0                   NaN  \n",
              "462                         0                   1.0  \n",
              "2050                       13                   NaN  \n",
              "\n",
              "[3528 rows x 27 columns]"
            ],
            "text/html": [
              "\n",
              "  <div id=\"df-4176b1e2-b963-4b40-9dd0-ac22b1a7500a\">\n",
              "    <div class=\"colab-df-container\">\n",
              "      <div>\n",
              "<style scoped>\n",
              "    .dataframe tbody tr th:only-of-type {\n",
              "        vertical-align: middle;\n",
              "    }\n",
              "\n",
              "    .dataframe tbody tr th {\n",
              "        vertical-align: top;\n",
              "    }\n",
              "\n",
              "    .dataframe thead th {\n",
              "        text-align: right;\n",
              "    }\n",
              "</style>\n",
              "<table border=\"1\" class=\"dataframe\">\n",
              "  <thead>\n",
              "    <tr style=\"text-align: right;\">\n",
              "      <th></th>\n",
              "      <th>hrs</th>\n",
              "      <th>absences</th>\n",
              "      <th>JobInvolvement</th>\n",
              "      <th>PerformanceRating</th>\n",
              "      <th>EnvironmentSatisfaction</th>\n",
              "      <th>JobSatisfaction</th>\n",
              "      <th>WorkLifeBalance</th>\n",
              "      <th>Age</th>\n",
              "      <th>BusinessTravel</th>\n",
              "      <th>Department</th>\n",
              "      <th>...</th>\n",
              "      <th>MaritalStatus</th>\n",
              "      <th>MonthlyIncome</th>\n",
              "      <th>NumCompaniesWorked</th>\n",
              "      <th>PercentSalaryHike</th>\n",
              "      <th>StockOptionLevel</th>\n",
              "      <th>TotalWorkingYears</th>\n",
              "      <th>TrainingTimesLastYear</th>\n",
              "      <th>YearsAtCompany</th>\n",
              "      <th>YearsSinceLastPromotion</th>\n",
              "      <th>YearsWithCurrManager</th>\n",
              "    </tr>\n",
              "  </thead>\n",
              "  <tbody>\n",
              "    <tr>\n",
              "      <th>2342</th>\n",
              "      <td>5.981773</td>\n",
              "      <td>17.0</td>\n",
              "      <td>NaN</td>\n",
              "      <td>3.0</td>\n",
              "      <td>2.0</td>\n",
              "      <td>3.0</td>\n",
              "      <td>2.0</td>\n",
              "      <td>35.0</td>\n",
              "      <td>NaN</td>\n",
              "      <td>Sales</td>\n",
              "      <td>...</td>\n",
              "      <td>Married</td>\n",
              "      <td>NaN</td>\n",
              "      <td>1.0</td>\n",
              "      <td>12.0</td>\n",
              "      <td>1.0</td>\n",
              "      <td>NaN</td>\n",
              "      <td>4.0</td>\n",
              "      <td>10.0</td>\n",
              "      <td>6</td>\n",
              "      <td>8.0</td>\n",
              "    </tr>\n",
              "    <tr>\n",
              "      <th>2963</th>\n",
              "      <td>NaN</td>\n",
              "      <td>22.0</td>\n",
              "      <td>1.0</td>\n",
              "      <td>3.0</td>\n",
              "      <td>2.0</td>\n",
              "      <td>3.0</td>\n",
              "      <td>3.0</td>\n",
              "      <td>42.0</td>\n",
              "      <td>Travel_Rarely</td>\n",
              "      <td>Research &amp; Development</td>\n",
              "      <td>...</td>\n",
              "      <td>Married</td>\n",
              "      <td>89260.0</td>\n",
              "      <td>NaN</td>\n",
              "      <td>14.0</td>\n",
              "      <td>0.0</td>\n",
              "      <td>20.0</td>\n",
              "      <td>4.0</td>\n",
              "      <td>20.0</td>\n",
              "      <td>11</td>\n",
              "      <td>6.0</td>\n",
              "    </tr>\n",
              "    <tr>\n",
              "      <th>1254</th>\n",
              "      <td>7.507934</td>\n",
              "      <td>6.0</td>\n",
              "      <td>NaN</td>\n",
              "      <td>3.0</td>\n",
              "      <td>1.0</td>\n",
              "      <td>3.0</td>\n",
              "      <td>NaN</td>\n",
              "      <td>26.0</td>\n",
              "      <td>Travel_Rarely</td>\n",
              "      <td>Sales</td>\n",
              "      <td>...</td>\n",
              "      <td>Single</td>\n",
              "      <td>24040.0</td>\n",
              "      <td>NaN</td>\n",
              "      <td>NaN</td>\n",
              "      <td>0.0</td>\n",
              "      <td>1.0</td>\n",
              "      <td>6.0</td>\n",
              "      <td>1.0</td>\n",
              "      <td>0</td>\n",
              "      <td>1.0</td>\n",
              "    </tr>\n",
              "    <tr>\n",
              "      <th>704</th>\n",
              "      <td>9.102632</td>\n",
              "      <td>11.0</td>\n",
              "      <td>NaN</td>\n",
              "      <td>3.0</td>\n",
              "      <td>3.0</td>\n",
              "      <td>2.0</td>\n",
              "      <td>3.0</td>\n",
              "      <td>51.0</td>\n",
              "      <td>Travel_Rarely</td>\n",
              "      <td>Sales</td>\n",
              "      <td>...</td>\n",
              "      <td>NaN</td>\n",
              "      <td>NaN</td>\n",
              "      <td>1.0</td>\n",
              "      <td>13.0</td>\n",
              "      <td>1.0</td>\n",
              "      <td>33.0</td>\n",
              "      <td>NaN</td>\n",
              "      <td>33.0</td>\n",
              "      <td>0</td>\n",
              "      <td>10.0</td>\n",
              "    </tr>\n",
              "    <tr>\n",
              "      <th>384</th>\n",
              "      <td>6.622714</td>\n",
              "      <td>NaN</td>\n",
              "      <td>4.0</td>\n",
              "      <td>3.0</td>\n",
              "      <td>2.0</td>\n",
              "      <td>2.0</td>\n",
              "      <td>3.0</td>\n",
              "      <td>38.0</td>\n",
              "      <td>Travel_Rarely</td>\n",
              "      <td>Sales</td>\n",
              "      <td>...</td>\n",
              "      <td>Married</td>\n",
              "      <td>137340.0</td>\n",
              "      <td>0.0</td>\n",
              "      <td>13.0</td>\n",
              "      <td>0.0</td>\n",
              "      <td>3.0</td>\n",
              "      <td>3.0</td>\n",
              "      <td>2.0</td>\n",
              "      <td>1</td>\n",
              "      <td>NaN</td>\n",
              "    </tr>\n",
              "    <tr>\n",
              "      <th>...</th>\n",
              "      <td>...</td>\n",
              "      <td>...</td>\n",
              "      <td>...</td>\n",
              "      <td>...</td>\n",
              "      <td>...</td>\n",
              "      <td>...</td>\n",
              "      <td>...</td>\n",
              "      <td>...</td>\n",
              "      <td>...</td>\n",
              "      <td>...</td>\n",
              "      <td>...</td>\n",
              "      <td>...</td>\n",
              "      <td>...</td>\n",
              "      <td>...</td>\n",
              "      <td>...</td>\n",
              "      <td>...</td>\n",
              "      <td>...</td>\n",
              "      <td>...</td>\n",
              "      <td>...</td>\n",
              "      <td>...</td>\n",
              "      <td>...</td>\n",
              "    </tr>\n",
              "    <tr>\n",
              "      <th>928</th>\n",
              "      <td>7.774158</td>\n",
              "      <td>19.0</td>\n",
              "      <td>2.0</td>\n",
              "      <td>NaN</td>\n",
              "      <td>4.0</td>\n",
              "      <td>NaN</td>\n",
              "      <td>4.0</td>\n",
              "      <td>35.0</td>\n",
              "      <td>NaN</td>\n",
              "      <td>Research &amp; Development</td>\n",
              "      <td>...</td>\n",
              "      <td>NaN</td>\n",
              "      <td>NaN</td>\n",
              "      <td>3.0</td>\n",
              "      <td>11.0</td>\n",
              "      <td>1.0</td>\n",
              "      <td>13.0</td>\n",
              "      <td>NaN</td>\n",
              "      <td>11.0</td>\n",
              "      <td>6</td>\n",
              "      <td>7.0</td>\n",
              "    </tr>\n",
              "    <tr>\n",
              "      <th>183</th>\n",
              "      <td>NaN</td>\n",
              "      <td>13.0</td>\n",
              "      <td>NaN</td>\n",
              "      <td>NaN</td>\n",
              "      <td>2.0</td>\n",
              "      <td>3.0</td>\n",
              "      <td>3.0</td>\n",
              "      <td>42.0</td>\n",
              "      <td>Travel_Frequently</td>\n",
              "      <td>Research &amp; Development</td>\n",
              "      <td>...</td>\n",
              "      <td>Married</td>\n",
              "      <td>29770.0</td>\n",
              "      <td>4.0</td>\n",
              "      <td>15.0</td>\n",
              "      <td>NaN</td>\n",
              "      <td>8.0</td>\n",
              "      <td>3.0</td>\n",
              "      <td>NaN</td>\n",
              "      <td>2</td>\n",
              "      <td>NaN</td>\n",
              "    </tr>\n",
              "    <tr>\n",
              "      <th>2484</th>\n",
              "      <td>6.003905</td>\n",
              "      <td>15.0</td>\n",
              "      <td>2.0</td>\n",
              "      <td>NaN</td>\n",
              "      <td>4.0</td>\n",
              "      <td>3.0</td>\n",
              "      <td>3.0</td>\n",
              "      <td>38.0</td>\n",
              "      <td>Travel_Rarely</td>\n",
              "      <td>Research &amp; Development</td>\n",
              "      <td>...</td>\n",
              "      <td>Married</td>\n",
              "      <td>NaN</td>\n",
              "      <td>1.0</td>\n",
              "      <td>11.0</td>\n",
              "      <td>1.0</td>\n",
              "      <td>5.0</td>\n",
              "      <td>NaN</td>\n",
              "      <td>5.0</td>\n",
              "      <td>0</td>\n",
              "      <td>NaN</td>\n",
              "    </tr>\n",
              "    <tr>\n",
              "      <th>462</th>\n",
              "      <td>9.914448</td>\n",
              "      <td>14.0</td>\n",
              "      <td>2.0</td>\n",
              "      <td>3.0</td>\n",
              "      <td>1.0</td>\n",
              "      <td>3.0</td>\n",
              "      <td>NaN</td>\n",
              "      <td>30.0</td>\n",
              "      <td>Travel_Rarely</td>\n",
              "      <td>Sales</td>\n",
              "      <td>...</td>\n",
              "      <td>Married</td>\n",
              "      <td>40000.0</td>\n",
              "      <td>4.0</td>\n",
              "      <td>12.0</td>\n",
              "      <td>0.0</td>\n",
              "      <td>NaN</td>\n",
              "      <td>5.0</td>\n",
              "      <td>5.0</td>\n",
              "      <td>0</td>\n",
              "      <td>1.0</td>\n",
              "    </tr>\n",
              "    <tr>\n",
              "      <th>2050</th>\n",
              "      <td>7.814650</td>\n",
              "      <td>7.0</td>\n",
              "      <td>1.0</td>\n",
              "      <td>NaN</td>\n",
              "      <td>3.0</td>\n",
              "      <td>1.0</td>\n",
              "      <td>2.0</td>\n",
              "      <td>NaN</td>\n",
              "      <td>Travel_Frequently</td>\n",
              "      <td>Sales</td>\n",
              "      <td>...</td>\n",
              "      <td>NaN</td>\n",
              "      <td>22850.0</td>\n",
              "      <td>0.0</td>\n",
              "      <td>NaN</td>\n",
              "      <td>0.0</td>\n",
              "      <td>NaN</td>\n",
              "      <td>3.0</td>\n",
              "      <td>21.0</td>\n",
              "      <td>13</td>\n",
              "      <td>NaN</td>\n",
              "    </tr>\n",
              "  </tbody>\n",
              "</table>\n",
              "<p>3528 rows × 27 columns</p>\n",
              "</div>\n",
              "      <button class=\"colab-df-convert\" onclick=\"convertToInteractive('df-4176b1e2-b963-4b40-9dd0-ac22b1a7500a')\"\n",
              "              title=\"Convert this dataframe to an interactive table.\"\n",
              "              style=\"display:none;\">\n",
              "        \n",
              "  <svg xmlns=\"http://www.w3.org/2000/svg\" height=\"24px\"viewBox=\"0 0 24 24\"\n",
              "       width=\"24px\">\n",
              "    <path d=\"M0 0h24v24H0V0z\" fill=\"none\"/>\n",
              "    <path d=\"M18.56 5.44l.94 2.06.94-2.06 2.06-.94-2.06-.94-.94-2.06-.94 2.06-2.06.94zm-11 1L8.5 8.5l.94-2.06 2.06-.94-2.06-.94L8.5 2.5l-.94 2.06-2.06.94zm10 10l.94 2.06.94-2.06 2.06-.94-2.06-.94-.94-2.06-.94 2.06-2.06.94z\"/><path d=\"M17.41 7.96l-1.37-1.37c-.4-.4-.92-.59-1.43-.59-.52 0-1.04.2-1.43.59L10.3 9.45l-7.72 7.72c-.78.78-.78 2.05 0 2.83L4 21.41c.39.39.9.59 1.41.59.51 0 1.02-.2 1.41-.59l7.78-7.78 2.81-2.81c.8-.78.8-2.07 0-2.86zM5.41 20L4 18.59l7.72-7.72 1.47 1.35L5.41 20z\"/>\n",
              "  </svg>\n",
              "      </button>\n",
              "      \n",
              "  <style>\n",
              "    .colab-df-container {\n",
              "      display:flex;\n",
              "      flex-wrap:wrap;\n",
              "      gap: 12px;\n",
              "    }\n",
              "\n",
              "    .colab-df-convert {\n",
              "      background-color: #E8F0FE;\n",
              "      border: none;\n",
              "      border-radius: 50%;\n",
              "      cursor: pointer;\n",
              "      display: none;\n",
              "      fill: #1967D2;\n",
              "      height: 32px;\n",
              "      padding: 0 0 0 0;\n",
              "      width: 32px;\n",
              "    }\n",
              "\n",
              "    .colab-df-convert:hover {\n",
              "      background-color: #E2EBFA;\n",
              "      box-shadow: 0px 1px 2px rgba(60, 64, 67, 0.3), 0px 1px 3px 1px rgba(60, 64, 67, 0.15);\n",
              "      fill: #174EA6;\n",
              "    }\n",
              "\n",
              "    [theme=dark] .colab-df-convert {\n",
              "      background-color: #3B4455;\n",
              "      fill: #D2E3FC;\n",
              "    }\n",
              "\n",
              "    [theme=dark] .colab-df-convert:hover {\n",
              "      background-color: #434B5C;\n",
              "      box-shadow: 0px 1px 3px 1px rgba(0, 0, 0, 0.15);\n",
              "      filter: drop-shadow(0px 1px 2px rgba(0, 0, 0, 0.3));\n",
              "      fill: #FFFFFF;\n",
              "    }\n",
              "  </style>\n",
              "\n",
              "      <script>\n",
              "        const buttonEl =\n",
              "          document.querySelector('#df-4176b1e2-b963-4b40-9dd0-ac22b1a7500a button.colab-df-convert');\n",
              "        buttonEl.style.display =\n",
              "          google.colab.kernel.accessAllowed ? 'block' : 'none';\n",
              "\n",
              "        async function convertToInteractive(key) {\n",
              "          const element = document.querySelector('#df-4176b1e2-b963-4b40-9dd0-ac22b1a7500a');\n",
              "          const dataTable =\n",
              "            await google.colab.kernel.invokeFunction('convertToInteractive',\n",
              "                                                     [key], {});\n",
              "          if (!dataTable) return;\n",
              "\n",
              "          const docLinkHtml = 'Like what you see? Visit the ' +\n",
              "            '<a target=\"_blank\" href=https://colab.research.google.com/notebooks/data_table.ipynb>data table notebook</a>'\n",
              "            + ' to learn more about interactive tables.';\n",
              "          element.innerHTML = '';\n",
              "          dataTable['output_type'] = 'display_data';\n",
              "          await google.colab.output.renderOutput(dataTable, element);\n",
              "          const docLink = document.createElement('div');\n",
              "          docLink.innerHTML = docLinkHtml;\n",
              "          element.appendChild(docLink);\n",
              "        }\n",
              "      </script>\n",
              "    </div>\n",
              "  </div>\n",
              "  "
            ]
          },
          "metadata": {},
          "execution_count": 148
        }
      ]
    },
    {
      "cell_type": "markdown",
      "source": [
        "## **Preprocesamiento de los datos**\n",
        "A continuación llevaremos a cabo el **procesamiento** de los datos mediante pipelines. Para ello, obtendremos las variables numéricas y las variables categóricas. Tras esto, haremos una operación distinta para cada una de ellas:\n",
        "+ **Variables numéricas**: Sustituiremos los missing values con la **media** de los valores de esa columna.\n",
        "+ **Variables categóricas**: Sustituiremos los missing values con la **moda** de los valores de esa columna. Además, codificaremos usando one-hot encoding para tener datos numéricos para el resto del análisis."
      ],
      "metadata": {
        "id": "D1wTw5XNrW2K"
      }
    },
    {
      "cell_type": "code",
      "source": [
        "from sklearn.compose import ColumnTransformer\n",
        "from sklearn.impute import SimpleImputer\n",
        "from sklearn.pipeline import Pipeline\n",
        "from sklearn.preprocessing import OneHotEncoder\n",
        "\n",
        "# Obtenemos los nombres de las columnas que tienen tipo de dato 'object' o 'category'.\n",
        "cols_categoricas = X.select_dtypes(include=['object', 'category']).columns.tolist()\n",
        "\n",
        "# Obtenemos los nombres de las columnas que tienen tipo de dato 'int' o 'float'.\n",
        "cols_numericas = X.select_dtypes(include=['int', 'float']).columns.tolist()\n",
        "\n",
        "print(\"Columnas categóricas: \", cols_categoricas)\n",
        "print(\"Columnas numéricas: \", cols_numericas)\n",
        "\n",
        "# Procesamos valores numéricos.\n",
        "imputer_num = SimpleImputer(strategy='mean')\n",
        "pipeline_num = Pipeline(\n",
        "    steps=[\n",
        "        (\"imputer\", imputer_num)\n",
        "    ]\n",
        ")\n",
        "\n",
        "# Procesamos valores categóricos (imputamos con la moda y luego codificamos con one-hot encoding).\n",
        "imputer_cat = SimpleImputer(strategy='most_frequent')\n",
        "encoder_cat = OneHotEncoder()\n",
        "pipeline_cat = Pipeline(\n",
        "    steps=[\n",
        "        (\"imputer\", imputer_cat),\n",
        "        (\"onehot\", encoder_cat)\n",
        "    ]\n",
        ")\n",
        "\n",
        "# Pre-procesador \"global\".\n",
        "# Dependiendo del tipo de columna aplicamos una transformación u otra.\n",
        "processor = ColumnTransformer(\n",
        "    transformers=[\n",
        "        (\"num\", pipeline_num, cols_numericas),\n",
        "        (\"cat\", pipeline_cat, cols_categoricas),\n",
        "    ]\n",
        ")\n",
        "\n",
        "# Realizamos la transformación.\n",
        "X_train = processor.fit_transform(X_train)\n",
        "X_test = processor.transform(X_test)\n",
        "\n",
        "# Convertimos el resultado a un DataFrame de Pandas con los nombres de las columnas correctos.\n",
        "X_train = pd.DataFrame(X_train)\n",
        "X_test = pd.DataFrame(X_test)\n",
        "\n",
        "X_train\n",
        "X_test"
      ],
      "metadata": {
        "colab": {
          "base_uri": "https://localhost:8080/",
          "height": 883
        },
        "id": "rcYo1cJArftz",
        "outputId": "3abbcaf7-fa38-4e30-9095-62039e2a0fb8"
      },
      "execution_count": null,
      "outputs": [
        {
          "output_type": "display_data",
          "data": {
            "text/plain": [
              "Columnas categóricas: \n",
              "\u001b[1m[\u001b[0m\u001b[32m'BusinessTravel'\u001b[0m, \u001b[32m'Department'\u001b[0m, \u001b[32m'EducationField'\u001b[0m, \u001b[32m'Gender'\u001b[0m, \u001b[32m'JobRole'\u001b[0m, \u001b[32m'MaritalStatus'\u001b[0m\u001b[1m]\u001b[0m\n"
            ],
            "text/html": [
              "<pre style=\"white-space:pre;overflow-x:auto;line-height:normal;font-family:Menlo,'DejaVu Sans Mono',consolas,'Courier New',monospace\">Columnas categóricas: \n",
              "<span style=\"font-weight: bold\">[</span><span style=\"color: #008000; text-decoration-color: #008000\">'BusinessTravel'</span>, <span style=\"color: #008000; text-decoration-color: #008000\">'Department'</span>, <span style=\"color: #008000; text-decoration-color: #008000\">'EducationField'</span>, <span style=\"color: #008000; text-decoration-color: #008000\">'Gender'</span>, <span style=\"color: #008000; text-decoration-color: #008000\">'JobRole'</span>, <span style=\"color: #008000; text-decoration-color: #008000\">'MaritalStatus'</span><span style=\"font-weight: bold\">]</span>\n",
              "</pre>\n"
            ]
          },
          "metadata": {}
        },
        {
          "output_type": "display_data",
          "data": {
            "text/plain": [
              "Columnas numéricas: \n",
              "\u001b[1m[\u001b[0m\n",
              "    \u001b[32m'hrs'\u001b[0m,\n",
              "    \u001b[32m'absences'\u001b[0m,\n",
              "    \u001b[32m'JobInvolvement'\u001b[0m,\n",
              "    \u001b[32m'PerformanceRating'\u001b[0m,\n",
              "    \u001b[32m'EnvironmentSatisfaction'\u001b[0m,\n",
              "    \u001b[32m'JobSatisfaction'\u001b[0m,\n",
              "    \u001b[32m'WorkLifeBalance'\u001b[0m,\n",
              "    \u001b[32m'Age'\u001b[0m,\n",
              "    \u001b[32m'DistanceFromHome'\u001b[0m,\n",
              "    \u001b[32m'Education'\u001b[0m,\n",
              "    \u001b[32m'EmployeeID'\u001b[0m,\n",
              "    \u001b[32m'JobLevel'\u001b[0m,\n",
              "    \u001b[32m'MonthlyIncome'\u001b[0m,\n",
              "    \u001b[32m'NumCompaniesWorked'\u001b[0m,\n",
              "    \u001b[32m'PercentSalaryHike'\u001b[0m,\n",
              "    \u001b[32m'StockOptionLevel'\u001b[0m,\n",
              "    \u001b[32m'TotalWorkingYears'\u001b[0m,\n",
              "    \u001b[32m'TrainingTimesLastYear'\u001b[0m,\n",
              "    \u001b[32m'YearsAtCompany'\u001b[0m,\n",
              "    \u001b[32m'YearsSinceLastPromotion'\u001b[0m,\n",
              "    \u001b[32m'YearsWithCurrManager'\u001b[0m\n",
              "\u001b[1m]\u001b[0m\n"
            ],
            "text/html": [
              "<pre style=\"white-space:pre;overflow-x:auto;line-height:normal;font-family:Menlo,'DejaVu Sans Mono',consolas,'Courier New',monospace\">Columnas numéricas: \n",
              "<span style=\"font-weight: bold\">[</span>\n",
              "    <span style=\"color: #008000; text-decoration-color: #008000\">'hrs'</span>,\n",
              "    <span style=\"color: #008000; text-decoration-color: #008000\">'absences'</span>,\n",
              "    <span style=\"color: #008000; text-decoration-color: #008000\">'JobInvolvement'</span>,\n",
              "    <span style=\"color: #008000; text-decoration-color: #008000\">'PerformanceRating'</span>,\n",
              "    <span style=\"color: #008000; text-decoration-color: #008000\">'EnvironmentSatisfaction'</span>,\n",
              "    <span style=\"color: #008000; text-decoration-color: #008000\">'JobSatisfaction'</span>,\n",
              "    <span style=\"color: #008000; text-decoration-color: #008000\">'WorkLifeBalance'</span>,\n",
              "    <span style=\"color: #008000; text-decoration-color: #008000\">'Age'</span>,\n",
              "    <span style=\"color: #008000; text-decoration-color: #008000\">'DistanceFromHome'</span>,\n",
              "    <span style=\"color: #008000; text-decoration-color: #008000\">'Education'</span>,\n",
              "    <span style=\"color: #008000; text-decoration-color: #008000\">'EmployeeID'</span>,\n",
              "    <span style=\"color: #008000; text-decoration-color: #008000\">'JobLevel'</span>,\n",
              "    <span style=\"color: #008000; text-decoration-color: #008000\">'MonthlyIncome'</span>,\n",
              "    <span style=\"color: #008000; text-decoration-color: #008000\">'NumCompaniesWorked'</span>,\n",
              "    <span style=\"color: #008000; text-decoration-color: #008000\">'PercentSalaryHike'</span>,\n",
              "    <span style=\"color: #008000; text-decoration-color: #008000\">'StockOptionLevel'</span>,\n",
              "    <span style=\"color: #008000; text-decoration-color: #008000\">'TotalWorkingYears'</span>,\n",
              "    <span style=\"color: #008000; text-decoration-color: #008000\">'TrainingTimesLastYear'</span>,\n",
              "    <span style=\"color: #008000; text-decoration-color: #008000\">'YearsAtCompany'</span>,\n",
              "    <span style=\"color: #008000; text-decoration-color: #008000\">'YearsSinceLastPromotion'</span>,\n",
              "    <span style=\"color: #008000; text-decoration-color: #008000\">'YearsWithCurrManager'</span>\n",
              "<span style=\"font-weight: bold\">]</span>\n",
              "</pre>\n"
            ]
          },
          "metadata": {}
        },
        {
          "output_type": "execute_result",
          "data": {
            "text/plain": [
              "            0          1        2        3         4         5    6     7   \\\n",
              "0     6.684089   8.000000  2.73402  4.00000  1.000000  4.000000  3.0  38.0   \n",
              "1     8.110050  16.000000  4.00000  3.00000  4.000000  1.000000  3.0  37.0   \n",
              "2     7.290853  17.000000  3.00000  3.00000  2.714832  2.744211  3.0  41.0   \n",
              "3    10.706489   6.000000  3.00000  3.00000  4.000000  1.000000  3.0  46.0   \n",
              "4     7.296914   7.000000  2.00000  3.16102  1.000000  2.744211  3.0  43.0   \n",
              "..         ...        ...      ...      ...       ...       ...  ...   ...   \n",
              "877   7.206898  12.000000  3.00000  3.00000  3.000000  3.000000  3.0  54.0   \n",
              "878   7.296914  12.739338  3.00000  3.00000  3.000000  2.744211  4.0  34.0   \n",
              "879   7.296914  12.739338  2.73402  3.00000  1.000000  2.744211  3.0  36.0   \n",
              "880   5.852395  12.739338  3.00000  3.00000  4.000000  4.000000  3.0  42.0   \n",
              "881   6.833922   9.000000  1.00000  3.00000  4.000000  2.000000  2.0  29.0   \n",
              "\n",
              "            8         9   ...   37   38   39   40   41   42   43   44   45  \\\n",
              "0    23.000000  3.000000  ...  0.0  0.0  0.0  0.0  0.0  0.0  1.0  0.0  1.0   \n",
              "1     7.000000  2.917681  ...  0.0  0.0  1.0  0.0  0.0  0.0  0.0  0.0  1.0   \n",
              "2     6.000000  2.917681  ...  0.0  0.0  0.0  1.0  0.0  0.0  0.0  0.0  1.0   \n",
              "3    12.000000  3.000000  ...  0.0  0.0  0.0  0.0  0.0  0.0  0.0  1.0  0.0   \n",
              "4     1.000000  3.000000  ...  0.0  0.0  1.0  0.0  0.0  0.0  0.0  0.0  1.0   \n",
              "..         ...       ...  ...  ...  ...  ...  ...  ...  ...  ...  ...  ...   \n",
              "877   9.233061  3.000000  ...  0.0  0.0  1.0  0.0  0.0  0.0  0.0  0.0  1.0   \n",
              "878   9.233061  3.000000  ...  0.0  0.0  0.0  0.0  0.0  1.0  0.0  0.0  1.0   \n",
              "879  28.000000  1.000000  ...  0.0  0.0  0.0  0.0  1.0  0.0  0.0  1.0  0.0   \n",
              "880   8.000000  2.917681  ...  0.0  1.0  0.0  0.0  0.0  0.0  0.0  0.0  0.0   \n",
              "881   1.000000  4.000000  ...  0.0  0.0  0.0  0.0  1.0  0.0  0.0  0.0  1.0   \n",
              "\n",
              "      46  \n",
              "0    0.0  \n",
              "1    0.0  \n",
              "2    0.0  \n",
              "3    0.0  \n",
              "4    0.0  \n",
              "..   ...  \n",
              "877  0.0  \n",
              "878  0.0  \n",
              "879  0.0  \n",
              "880  1.0  \n",
              "881  0.0  \n",
              "\n",
              "[882 rows x 47 columns]"
            ],
            "text/html": [
              "\n",
              "  <div id=\"df-4e23553d-ed5b-45a5-a750-cd43581f6d98\">\n",
              "    <div class=\"colab-df-container\">\n",
              "      <div>\n",
              "<style scoped>\n",
              "    .dataframe tbody tr th:only-of-type {\n",
              "        vertical-align: middle;\n",
              "    }\n",
              "\n",
              "    .dataframe tbody tr th {\n",
              "        vertical-align: top;\n",
              "    }\n",
              "\n",
              "    .dataframe thead th {\n",
              "        text-align: right;\n",
              "    }\n",
              "</style>\n",
              "<table border=\"1\" class=\"dataframe\">\n",
              "  <thead>\n",
              "    <tr style=\"text-align: right;\">\n",
              "      <th></th>\n",
              "      <th>0</th>\n",
              "      <th>1</th>\n",
              "      <th>2</th>\n",
              "      <th>3</th>\n",
              "      <th>4</th>\n",
              "      <th>5</th>\n",
              "      <th>6</th>\n",
              "      <th>7</th>\n",
              "      <th>8</th>\n",
              "      <th>9</th>\n",
              "      <th>...</th>\n",
              "      <th>37</th>\n",
              "      <th>38</th>\n",
              "      <th>39</th>\n",
              "      <th>40</th>\n",
              "      <th>41</th>\n",
              "      <th>42</th>\n",
              "      <th>43</th>\n",
              "      <th>44</th>\n",
              "      <th>45</th>\n",
              "      <th>46</th>\n",
              "    </tr>\n",
              "  </thead>\n",
              "  <tbody>\n",
              "    <tr>\n",
              "      <th>0</th>\n",
              "      <td>6.684089</td>\n",
              "      <td>8.000000</td>\n",
              "      <td>2.73402</td>\n",
              "      <td>4.00000</td>\n",
              "      <td>1.000000</td>\n",
              "      <td>4.000000</td>\n",
              "      <td>3.0</td>\n",
              "      <td>38.0</td>\n",
              "      <td>23.000000</td>\n",
              "      <td>3.000000</td>\n",
              "      <td>...</td>\n",
              "      <td>0.0</td>\n",
              "      <td>0.0</td>\n",
              "      <td>0.0</td>\n",
              "      <td>0.0</td>\n",
              "      <td>0.0</td>\n",
              "      <td>0.0</td>\n",
              "      <td>1.0</td>\n",
              "      <td>0.0</td>\n",
              "      <td>1.0</td>\n",
              "      <td>0.0</td>\n",
              "    </tr>\n",
              "    <tr>\n",
              "      <th>1</th>\n",
              "      <td>8.110050</td>\n",
              "      <td>16.000000</td>\n",
              "      <td>4.00000</td>\n",
              "      <td>3.00000</td>\n",
              "      <td>4.000000</td>\n",
              "      <td>1.000000</td>\n",
              "      <td>3.0</td>\n",
              "      <td>37.0</td>\n",
              "      <td>7.000000</td>\n",
              "      <td>2.917681</td>\n",
              "      <td>...</td>\n",
              "      <td>0.0</td>\n",
              "      <td>0.0</td>\n",
              "      <td>1.0</td>\n",
              "      <td>0.0</td>\n",
              "      <td>0.0</td>\n",
              "      <td>0.0</td>\n",
              "      <td>0.0</td>\n",
              "      <td>0.0</td>\n",
              "      <td>1.0</td>\n",
              "      <td>0.0</td>\n",
              "    </tr>\n",
              "    <tr>\n",
              "      <th>2</th>\n",
              "      <td>7.290853</td>\n",
              "      <td>17.000000</td>\n",
              "      <td>3.00000</td>\n",
              "      <td>3.00000</td>\n",
              "      <td>2.714832</td>\n",
              "      <td>2.744211</td>\n",
              "      <td>3.0</td>\n",
              "      <td>41.0</td>\n",
              "      <td>6.000000</td>\n",
              "      <td>2.917681</td>\n",
              "      <td>...</td>\n",
              "      <td>0.0</td>\n",
              "      <td>0.0</td>\n",
              "      <td>0.0</td>\n",
              "      <td>1.0</td>\n",
              "      <td>0.0</td>\n",
              "      <td>0.0</td>\n",
              "      <td>0.0</td>\n",
              "      <td>0.0</td>\n",
              "      <td>1.0</td>\n",
              "      <td>0.0</td>\n",
              "    </tr>\n",
              "    <tr>\n",
              "      <th>3</th>\n",
              "      <td>10.706489</td>\n",
              "      <td>6.000000</td>\n",
              "      <td>3.00000</td>\n",
              "      <td>3.00000</td>\n",
              "      <td>4.000000</td>\n",
              "      <td>1.000000</td>\n",
              "      <td>3.0</td>\n",
              "      <td>46.0</td>\n",
              "      <td>12.000000</td>\n",
              "      <td>3.000000</td>\n",
              "      <td>...</td>\n",
              "      <td>0.0</td>\n",
              "      <td>0.0</td>\n",
              "      <td>0.0</td>\n",
              "      <td>0.0</td>\n",
              "      <td>0.0</td>\n",
              "      <td>0.0</td>\n",
              "      <td>0.0</td>\n",
              "      <td>1.0</td>\n",
              "      <td>0.0</td>\n",
              "      <td>0.0</td>\n",
              "    </tr>\n",
              "    <tr>\n",
              "      <th>4</th>\n",
              "      <td>7.296914</td>\n",
              "      <td>7.000000</td>\n",
              "      <td>2.00000</td>\n",
              "      <td>3.16102</td>\n",
              "      <td>1.000000</td>\n",
              "      <td>2.744211</td>\n",
              "      <td>3.0</td>\n",
              "      <td>43.0</td>\n",
              "      <td>1.000000</td>\n",
              "      <td>3.000000</td>\n",
              "      <td>...</td>\n",
              "      <td>0.0</td>\n",
              "      <td>0.0</td>\n",
              "      <td>1.0</td>\n",
              "      <td>0.0</td>\n",
              "      <td>0.0</td>\n",
              "      <td>0.0</td>\n",
              "      <td>0.0</td>\n",
              "      <td>0.0</td>\n",
              "      <td>1.0</td>\n",
              "      <td>0.0</td>\n",
              "    </tr>\n",
              "    <tr>\n",
              "      <th>...</th>\n",
              "      <td>...</td>\n",
              "      <td>...</td>\n",
              "      <td>...</td>\n",
              "      <td>...</td>\n",
              "      <td>...</td>\n",
              "      <td>...</td>\n",
              "      <td>...</td>\n",
              "      <td>...</td>\n",
              "      <td>...</td>\n",
              "      <td>...</td>\n",
              "      <td>...</td>\n",
              "      <td>...</td>\n",
              "      <td>...</td>\n",
              "      <td>...</td>\n",
              "      <td>...</td>\n",
              "      <td>...</td>\n",
              "      <td>...</td>\n",
              "      <td>...</td>\n",
              "      <td>...</td>\n",
              "      <td>...</td>\n",
              "      <td>...</td>\n",
              "    </tr>\n",
              "    <tr>\n",
              "      <th>877</th>\n",
              "      <td>7.206898</td>\n",
              "      <td>12.000000</td>\n",
              "      <td>3.00000</td>\n",
              "      <td>3.00000</td>\n",
              "      <td>3.000000</td>\n",
              "      <td>3.000000</td>\n",
              "      <td>3.0</td>\n",
              "      <td>54.0</td>\n",
              "      <td>9.233061</td>\n",
              "      <td>3.000000</td>\n",
              "      <td>...</td>\n",
              "      <td>0.0</td>\n",
              "      <td>0.0</td>\n",
              "      <td>1.0</td>\n",
              "      <td>0.0</td>\n",
              "      <td>0.0</td>\n",
              "      <td>0.0</td>\n",
              "      <td>0.0</td>\n",
              "      <td>0.0</td>\n",
              "      <td>1.0</td>\n",
              "      <td>0.0</td>\n",
              "    </tr>\n",
              "    <tr>\n",
              "      <th>878</th>\n",
              "      <td>7.296914</td>\n",
              "      <td>12.739338</td>\n",
              "      <td>3.00000</td>\n",
              "      <td>3.00000</td>\n",
              "      <td>3.000000</td>\n",
              "      <td>2.744211</td>\n",
              "      <td>4.0</td>\n",
              "      <td>34.0</td>\n",
              "      <td>9.233061</td>\n",
              "      <td>3.000000</td>\n",
              "      <td>...</td>\n",
              "      <td>0.0</td>\n",
              "      <td>0.0</td>\n",
              "      <td>0.0</td>\n",
              "      <td>0.0</td>\n",
              "      <td>0.0</td>\n",
              "      <td>1.0</td>\n",
              "      <td>0.0</td>\n",
              "      <td>0.0</td>\n",
              "      <td>1.0</td>\n",
              "      <td>0.0</td>\n",
              "    </tr>\n",
              "    <tr>\n",
              "      <th>879</th>\n",
              "      <td>7.296914</td>\n",
              "      <td>12.739338</td>\n",
              "      <td>2.73402</td>\n",
              "      <td>3.00000</td>\n",
              "      <td>1.000000</td>\n",
              "      <td>2.744211</td>\n",
              "      <td>3.0</td>\n",
              "      <td>36.0</td>\n",
              "      <td>28.000000</td>\n",
              "      <td>1.000000</td>\n",
              "      <td>...</td>\n",
              "      <td>0.0</td>\n",
              "      <td>0.0</td>\n",
              "      <td>0.0</td>\n",
              "      <td>0.0</td>\n",
              "      <td>1.0</td>\n",
              "      <td>0.0</td>\n",
              "      <td>0.0</td>\n",
              "      <td>1.0</td>\n",
              "      <td>0.0</td>\n",
              "      <td>0.0</td>\n",
              "    </tr>\n",
              "    <tr>\n",
              "      <th>880</th>\n",
              "      <td>5.852395</td>\n",
              "      <td>12.739338</td>\n",
              "      <td>3.00000</td>\n",
              "      <td>3.00000</td>\n",
              "      <td>4.000000</td>\n",
              "      <td>4.000000</td>\n",
              "      <td>3.0</td>\n",
              "      <td>42.0</td>\n",
              "      <td>8.000000</td>\n",
              "      <td>2.917681</td>\n",
              "      <td>...</td>\n",
              "      <td>0.0</td>\n",
              "      <td>1.0</td>\n",
              "      <td>0.0</td>\n",
              "      <td>0.0</td>\n",
              "      <td>0.0</td>\n",
              "      <td>0.0</td>\n",
              "      <td>0.0</td>\n",
              "      <td>0.0</td>\n",
              "      <td>0.0</td>\n",
              "      <td>1.0</td>\n",
              "    </tr>\n",
              "    <tr>\n",
              "      <th>881</th>\n",
              "      <td>6.833922</td>\n",
              "      <td>9.000000</td>\n",
              "      <td>1.00000</td>\n",
              "      <td>3.00000</td>\n",
              "      <td>4.000000</td>\n",
              "      <td>2.000000</td>\n",
              "      <td>2.0</td>\n",
              "      <td>29.0</td>\n",
              "      <td>1.000000</td>\n",
              "      <td>4.000000</td>\n",
              "      <td>...</td>\n",
              "      <td>0.0</td>\n",
              "      <td>0.0</td>\n",
              "      <td>0.0</td>\n",
              "      <td>0.0</td>\n",
              "      <td>1.0</td>\n",
              "      <td>0.0</td>\n",
              "      <td>0.0</td>\n",
              "      <td>0.0</td>\n",
              "      <td>1.0</td>\n",
              "      <td>0.0</td>\n",
              "    </tr>\n",
              "  </tbody>\n",
              "</table>\n",
              "<p>882 rows × 47 columns</p>\n",
              "</div>\n",
              "      <button class=\"colab-df-convert\" onclick=\"convertToInteractive('df-4e23553d-ed5b-45a5-a750-cd43581f6d98')\"\n",
              "              title=\"Convert this dataframe to an interactive table.\"\n",
              "              style=\"display:none;\">\n",
              "        \n",
              "  <svg xmlns=\"http://www.w3.org/2000/svg\" height=\"24px\"viewBox=\"0 0 24 24\"\n",
              "       width=\"24px\">\n",
              "    <path d=\"M0 0h24v24H0V0z\" fill=\"none\"/>\n",
              "    <path d=\"M18.56 5.44l.94 2.06.94-2.06 2.06-.94-2.06-.94-.94-2.06-.94 2.06-2.06.94zm-11 1L8.5 8.5l.94-2.06 2.06-.94-2.06-.94L8.5 2.5l-.94 2.06-2.06.94zm10 10l.94 2.06.94-2.06 2.06-.94-2.06-.94-.94-2.06-.94 2.06-2.06.94z\"/><path d=\"M17.41 7.96l-1.37-1.37c-.4-.4-.92-.59-1.43-.59-.52 0-1.04.2-1.43.59L10.3 9.45l-7.72 7.72c-.78.78-.78 2.05 0 2.83L4 21.41c.39.39.9.59 1.41.59.51 0 1.02-.2 1.41-.59l7.78-7.78 2.81-2.81c.8-.78.8-2.07 0-2.86zM5.41 20L4 18.59l7.72-7.72 1.47 1.35L5.41 20z\"/>\n",
              "  </svg>\n",
              "      </button>\n",
              "      \n",
              "  <style>\n",
              "    .colab-df-container {\n",
              "      display:flex;\n",
              "      flex-wrap:wrap;\n",
              "      gap: 12px;\n",
              "    }\n",
              "\n",
              "    .colab-df-convert {\n",
              "      background-color: #E8F0FE;\n",
              "      border: none;\n",
              "      border-radius: 50%;\n",
              "      cursor: pointer;\n",
              "      display: none;\n",
              "      fill: #1967D2;\n",
              "      height: 32px;\n",
              "      padding: 0 0 0 0;\n",
              "      width: 32px;\n",
              "    }\n",
              "\n",
              "    .colab-df-convert:hover {\n",
              "      background-color: #E2EBFA;\n",
              "      box-shadow: 0px 1px 2px rgba(60, 64, 67, 0.3), 0px 1px 3px 1px rgba(60, 64, 67, 0.15);\n",
              "      fill: #174EA6;\n",
              "    }\n",
              "\n",
              "    [theme=dark] .colab-df-convert {\n",
              "      background-color: #3B4455;\n",
              "      fill: #D2E3FC;\n",
              "    }\n",
              "\n",
              "    [theme=dark] .colab-df-convert:hover {\n",
              "      background-color: #434B5C;\n",
              "      box-shadow: 0px 1px 3px 1px rgba(0, 0, 0, 0.15);\n",
              "      filter: drop-shadow(0px 1px 2px rgba(0, 0, 0, 0.3));\n",
              "      fill: #FFFFFF;\n",
              "    }\n",
              "  </style>\n",
              "\n",
              "      <script>\n",
              "        const buttonEl =\n",
              "          document.querySelector('#df-4e23553d-ed5b-45a5-a750-cd43581f6d98 button.colab-df-convert');\n",
              "        buttonEl.style.display =\n",
              "          google.colab.kernel.accessAllowed ? 'block' : 'none';\n",
              "\n",
              "        async function convertToInteractive(key) {\n",
              "          const element = document.querySelector('#df-4e23553d-ed5b-45a5-a750-cd43581f6d98');\n",
              "          const dataTable =\n",
              "            await google.colab.kernel.invokeFunction('convertToInteractive',\n",
              "                                                     [key], {});\n",
              "          if (!dataTable) return;\n",
              "\n",
              "          const docLinkHtml = 'Like what you see? Visit the ' +\n",
              "            '<a target=\"_blank\" href=https://colab.research.google.com/notebooks/data_table.ipynb>data table notebook</a>'\n",
              "            + ' to learn more about interactive tables.';\n",
              "          element.innerHTML = '';\n",
              "          dataTable['output_type'] = 'display_data';\n",
              "          await google.colab.output.renderOutput(dataTable, element);\n",
              "          const docLink = document.createElement('div');\n",
              "          docLink.innerHTML = docLinkHtml;\n",
              "          element.appendChild(docLink);\n",
              "        }\n",
              "      </script>\n",
              "    </div>\n",
              "  </div>\n",
              "  "
            ]
          },
          "metadata": {},
          "execution_count": 149
        }
      ]
    },
    {
      "cell_type": "code",
      "source": [
        "# Obtener los nombres de las nuevas columnas generadas por el OneHotEncoder\n",
        "new_col_names = processor.named_transformers_['cat'].named_steps['onehot'].get_feature_names_out(cols_categoricas)\n",
        "\n",
        "# Obtener el número de columnas generadas para cada columna original\n",
        "n_cols_generated = processor.named_transformers_['cat'].named_steps['onehot'].categories_\n",
        "n_cols_generated = list(map(len, n_cols_generated))\n",
        "\n",
        "\n",
        "\n",
        "# Crear una lista de tuplas con el nombre de la columna original y las nuevas columnas generadas\n",
        "cols_transformed = []\n",
        "for i, col in enumerate(cols_categoricas):\n",
        "  cols_transformed.extend([(col, new_col_names[j]) for j in range(int(sum(n_cols_generated[:i])), int(sum(n_cols_generated[:i+1])))])\n",
        "\n",
        "print(cols_transformed)"
      ],
      "metadata": {
        "colab": {
          "base_uri": "https://localhost:8080/",
          "height": 465
        },
        "id": "Cq9NZMnqEJV7",
        "outputId": "b3702181-8dde-459b-9d9c-339fee6a6ead"
      },
      "execution_count": null,
      "outputs": [
        {
          "output_type": "display_data",
          "data": {
            "text/plain": [
              "\u001b[1m[\u001b[0m\n",
              "    \u001b[1m(\u001b[0m\u001b[32m'BusinessTravel'\u001b[0m, \u001b[32m'BusinessTravel_Non-Travel'\u001b[0m\u001b[1m)\u001b[0m,\n",
              "    \u001b[1m(\u001b[0m\u001b[32m'BusinessTravel'\u001b[0m, \u001b[32m'BusinessTravel_Travel_Frequently'\u001b[0m\u001b[1m)\u001b[0m,\n",
              "    \u001b[1m(\u001b[0m\u001b[32m'BusinessTravel'\u001b[0m, \u001b[32m'BusinessTravel_Travel_Rarely'\u001b[0m\u001b[1m)\u001b[0m,\n",
              "    \u001b[1m(\u001b[0m\u001b[32m'Department'\u001b[0m, \u001b[32m'Department_Human Resources'\u001b[0m\u001b[1m)\u001b[0m,\n",
              "    \u001b[1m(\u001b[0m\u001b[32m'Department'\u001b[0m, \u001b[32m'Department_Research & Development'\u001b[0m\u001b[1m)\u001b[0m,\n",
              "    \u001b[1m(\u001b[0m\u001b[32m'Department'\u001b[0m, \u001b[32m'Department_Sales'\u001b[0m\u001b[1m)\u001b[0m,\n",
              "    \u001b[1m(\u001b[0m\u001b[32m'EducationField'\u001b[0m, \u001b[32m'EducationField_Human Resources'\u001b[0m\u001b[1m)\u001b[0m,\n",
              "    \u001b[1m(\u001b[0m\u001b[32m'EducationField'\u001b[0m, \u001b[32m'EducationField_Life Sciences'\u001b[0m\u001b[1m)\u001b[0m,\n",
              "    \u001b[1m(\u001b[0m\u001b[32m'EducationField'\u001b[0m, \u001b[32m'EducationField_Marketing'\u001b[0m\u001b[1m)\u001b[0m,\n",
              "    \u001b[1m(\u001b[0m\u001b[32m'EducationField'\u001b[0m, \u001b[32m'EducationField_Medical'\u001b[0m\u001b[1m)\u001b[0m,\n",
              "    \u001b[1m(\u001b[0m\u001b[32m'EducationField'\u001b[0m, \u001b[32m'EducationField_Other'\u001b[0m\u001b[1m)\u001b[0m,\n",
              "    \u001b[1m(\u001b[0m\u001b[32m'EducationField'\u001b[0m, \u001b[32m'EducationField_Technical Degree'\u001b[0m\u001b[1m)\u001b[0m,\n",
              "    \u001b[1m(\u001b[0m\u001b[32m'Gender'\u001b[0m, \u001b[32m'Gender_Female'\u001b[0m\u001b[1m)\u001b[0m,\n",
              "    \u001b[1m(\u001b[0m\u001b[32m'Gender'\u001b[0m, \u001b[32m'Gender_Male'\u001b[0m\u001b[1m)\u001b[0m,\n",
              "    \u001b[1m(\u001b[0m\u001b[32m'JobRole'\u001b[0m, \u001b[32m'JobRole_Healthcare Representative'\u001b[0m\u001b[1m)\u001b[0m,\n",
              "    \u001b[1m(\u001b[0m\u001b[32m'JobRole'\u001b[0m, \u001b[32m'JobRole_Human Resources'\u001b[0m\u001b[1m)\u001b[0m,\n",
              "    \u001b[1m(\u001b[0m\u001b[32m'JobRole'\u001b[0m, \u001b[32m'JobRole_Laboratory Technician'\u001b[0m\u001b[1m)\u001b[0m,\n",
              "    \u001b[1m(\u001b[0m\u001b[32m'JobRole'\u001b[0m, \u001b[32m'JobRole_Manager'\u001b[0m\u001b[1m)\u001b[0m,\n",
              "    \u001b[1m(\u001b[0m\u001b[32m'JobRole'\u001b[0m, \u001b[32m'JobRole_Manufacturing Director'\u001b[0m\u001b[1m)\u001b[0m,\n",
              "    \u001b[1m(\u001b[0m\u001b[32m'JobRole'\u001b[0m, \u001b[32m'JobRole_Research Director'\u001b[0m\u001b[1m)\u001b[0m,\n",
              "    \u001b[1m(\u001b[0m\u001b[32m'JobRole'\u001b[0m, \u001b[32m'JobRole_Research Scientist'\u001b[0m\u001b[1m)\u001b[0m,\n",
              "    \u001b[1m(\u001b[0m\u001b[32m'JobRole'\u001b[0m, \u001b[32m'JobRole_Sales Executive'\u001b[0m\u001b[1m)\u001b[0m,\n",
              "    \u001b[1m(\u001b[0m\u001b[32m'JobRole'\u001b[0m, \u001b[32m'JobRole_Sales Representative'\u001b[0m\u001b[1m)\u001b[0m,\n",
              "    \u001b[1m(\u001b[0m\u001b[32m'MaritalStatus'\u001b[0m, \u001b[32m'MaritalStatus_Divorced'\u001b[0m\u001b[1m)\u001b[0m,\n",
              "    \u001b[1m(\u001b[0m\u001b[32m'MaritalStatus'\u001b[0m, \u001b[32m'MaritalStatus_Married'\u001b[0m\u001b[1m)\u001b[0m,\n",
              "    \u001b[1m(\u001b[0m\u001b[32m'MaritalStatus'\u001b[0m, \u001b[32m'MaritalStatus_Single'\u001b[0m\u001b[1m)\u001b[0m\n",
              "\u001b[1m]\u001b[0m\n"
            ],
            "text/html": [
              "<pre style=\"white-space:pre;overflow-x:auto;line-height:normal;font-family:Menlo,'DejaVu Sans Mono',consolas,'Courier New',monospace\"><span style=\"font-weight: bold\">[</span>\n",
              "    <span style=\"font-weight: bold\">(</span><span style=\"color: #008000; text-decoration-color: #008000\">'BusinessTravel'</span>, <span style=\"color: #008000; text-decoration-color: #008000\">'BusinessTravel_Non-Travel'</span><span style=\"font-weight: bold\">)</span>,\n",
              "    <span style=\"font-weight: bold\">(</span><span style=\"color: #008000; text-decoration-color: #008000\">'BusinessTravel'</span>, <span style=\"color: #008000; text-decoration-color: #008000\">'BusinessTravel_Travel_Frequently'</span><span style=\"font-weight: bold\">)</span>,\n",
              "    <span style=\"font-weight: bold\">(</span><span style=\"color: #008000; text-decoration-color: #008000\">'BusinessTravel'</span>, <span style=\"color: #008000; text-decoration-color: #008000\">'BusinessTravel_Travel_Rarely'</span><span style=\"font-weight: bold\">)</span>,\n",
              "    <span style=\"font-weight: bold\">(</span><span style=\"color: #008000; text-decoration-color: #008000\">'Department'</span>, <span style=\"color: #008000; text-decoration-color: #008000\">'Department_Human Resources'</span><span style=\"font-weight: bold\">)</span>,\n",
              "    <span style=\"font-weight: bold\">(</span><span style=\"color: #008000; text-decoration-color: #008000\">'Department'</span>, <span style=\"color: #008000; text-decoration-color: #008000\">'Department_Research &amp; Development'</span><span style=\"font-weight: bold\">)</span>,\n",
              "    <span style=\"font-weight: bold\">(</span><span style=\"color: #008000; text-decoration-color: #008000\">'Department'</span>, <span style=\"color: #008000; text-decoration-color: #008000\">'Department_Sales'</span><span style=\"font-weight: bold\">)</span>,\n",
              "    <span style=\"font-weight: bold\">(</span><span style=\"color: #008000; text-decoration-color: #008000\">'EducationField'</span>, <span style=\"color: #008000; text-decoration-color: #008000\">'EducationField_Human Resources'</span><span style=\"font-weight: bold\">)</span>,\n",
              "    <span style=\"font-weight: bold\">(</span><span style=\"color: #008000; text-decoration-color: #008000\">'EducationField'</span>, <span style=\"color: #008000; text-decoration-color: #008000\">'EducationField_Life Sciences'</span><span style=\"font-weight: bold\">)</span>,\n",
              "    <span style=\"font-weight: bold\">(</span><span style=\"color: #008000; text-decoration-color: #008000\">'EducationField'</span>, <span style=\"color: #008000; text-decoration-color: #008000\">'EducationField_Marketing'</span><span style=\"font-weight: bold\">)</span>,\n",
              "    <span style=\"font-weight: bold\">(</span><span style=\"color: #008000; text-decoration-color: #008000\">'EducationField'</span>, <span style=\"color: #008000; text-decoration-color: #008000\">'EducationField_Medical'</span><span style=\"font-weight: bold\">)</span>,\n",
              "    <span style=\"font-weight: bold\">(</span><span style=\"color: #008000; text-decoration-color: #008000\">'EducationField'</span>, <span style=\"color: #008000; text-decoration-color: #008000\">'EducationField_Other'</span><span style=\"font-weight: bold\">)</span>,\n",
              "    <span style=\"font-weight: bold\">(</span><span style=\"color: #008000; text-decoration-color: #008000\">'EducationField'</span>, <span style=\"color: #008000; text-decoration-color: #008000\">'EducationField_Technical Degree'</span><span style=\"font-weight: bold\">)</span>,\n",
              "    <span style=\"font-weight: bold\">(</span><span style=\"color: #008000; text-decoration-color: #008000\">'Gender'</span>, <span style=\"color: #008000; text-decoration-color: #008000\">'Gender_Female'</span><span style=\"font-weight: bold\">)</span>,\n",
              "    <span style=\"font-weight: bold\">(</span><span style=\"color: #008000; text-decoration-color: #008000\">'Gender'</span>, <span style=\"color: #008000; text-decoration-color: #008000\">'Gender_Male'</span><span style=\"font-weight: bold\">)</span>,\n",
              "    <span style=\"font-weight: bold\">(</span><span style=\"color: #008000; text-decoration-color: #008000\">'JobRole'</span>, <span style=\"color: #008000; text-decoration-color: #008000\">'JobRole_Healthcare Representative'</span><span style=\"font-weight: bold\">)</span>,\n",
              "    <span style=\"font-weight: bold\">(</span><span style=\"color: #008000; text-decoration-color: #008000\">'JobRole'</span>, <span style=\"color: #008000; text-decoration-color: #008000\">'JobRole_Human Resources'</span><span style=\"font-weight: bold\">)</span>,\n",
              "    <span style=\"font-weight: bold\">(</span><span style=\"color: #008000; text-decoration-color: #008000\">'JobRole'</span>, <span style=\"color: #008000; text-decoration-color: #008000\">'JobRole_Laboratory Technician'</span><span style=\"font-weight: bold\">)</span>,\n",
              "    <span style=\"font-weight: bold\">(</span><span style=\"color: #008000; text-decoration-color: #008000\">'JobRole'</span>, <span style=\"color: #008000; text-decoration-color: #008000\">'JobRole_Manager'</span><span style=\"font-weight: bold\">)</span>,\n",
              "    <span style=\"font-weight: bold\">(</span><span style=\"color: #008000; text-decoration-color: #008000\">'JobRole'</span>, <span style=\"color: #008000; text-decoration-color: #008000\">'JobRole_Manufacturing Director'</span><span style=\"font-weight: bold\">)</span>,\n",
              "    <span style=\"font-weight: bold\">(</span><span style=\"color: #008000; text-decoration-color: #008000\">'JobRole'</span>, <span style=\"color: #008000; text-decoration-color: #008000\">'JobRole_Research Director'</span><span style=\"font-weight: bold\">)</span>,\n",
              "    <span style=\"font-weight: bold\">(</span><span style=\"color: #008000; text-decoration-color: #008000\">'JobRole'</span>, <span style=\"color: #008000; text-decoration-color: #008000\">'JobRole_Research Scientist'</span><span style=\"font-weight: bold\">)</span>,\n",
              "    <span style=\"font-weight: bold\">(</span><span style=\"color: #008000; text-decoration-color: #008000\">'JobRole'</span>, <span style=\"color: #008000; text-decoration-color: #008000\">'JobRole_Sales Executive'</span><span style=\"font-weight: bold\">)</span>,\n",
              "    <span style=\"font-weight: bold\">(</span><span style=\"color: #008000; text-decoration-color: #008000\">'JobRole'</span>, <span style=\"color: #008000; text-decoration-color: #008000\">'JobRole_Sales Representative'</span><span style=\"font-weight: bold\">)</span>,\n",
              "    <span style=\"font-weight: bold\">(</span><span style=\"color: #008000; text-decoration-color: #008000\">'MaritalStatus'</span>, <span style=\"color: #008000; text-decoration-color: #008000\">'MaritalStatus_Divorced'</span><span style=\"font-weight: bold\">)</span>,\n",
              "    <span style=\"font-weight: bold\">(</span><span style=\"color: #008000; text-decoration-color: #008000\">'MaritalStatus'</span>, <span style=\"color: #008000; text-decoration-color: #008000\">'MaritalStatus_Married'</span><span style=\"font-weight: bold\">)</span>,\n",
              "    <span style=\"font-weight: bold\">(</span><span style=\"color: #008000; text-decoration-color: #008000\">'MaritalStatus'</span>, <span style=\"color: #008000; text-decoration-color: #008000\">'MaritalStatus_Single'</span><span style=\"font-weight: bold\">)</span>\n",
              "<span style=\"font-weight: bold\">]</span>\n",
              "</pre>\n"
            ]
          },
          "metadata": {}
        }
      ]
    },
    {
      "cell_type": "markdown",
      "source": [
        "Esta lista la usaremos posteriormente para mapear los indices de los atributos más importantes en la última sección."
      ],
      "metadata": {
        "id": "agswNHMoRGgD"
      }
    },
    {
      "cell_type": "markdown",
      "source": [
        "## **Dummy models**"
      ],
      "metadata": {
        "id": "TyZBY3dM4Rq1"
      }
    },
    {
      "cell_type": "code",
      "source": [
        "from sklearn.dummy import DummyClassifier\n",
        "import time\n",
        "\n",
        "# Crear un clasificador dummy que prediga siempre la clase mayoritaria\n",
        "dummy = DummyClassifier(strategy='most_frequent')\n",
        "\n",
        "# Entrenar el clasificador\n",
        "start = time.time()\n",
        "dummy.fit(X_train, y_train)\n",
        "end = time.time()\n",
        "tiempo_dummy = end - start\n",
        "\n",
        "# Predecir valores para el conjunto de test\n",
        "y_pred = dummy.predict(X_test)\n",
        "\n",
        "# Usaremos las métricas balanced_accuracy_score, f1 y matríz de confusión.\n",
        "from sklearn.metrics import balanced_accuracy_score, f1_score, confusion_matrix\n",
        "\n",
        "# Calculamos las métricas.\n",
        "balanced_accuracy_dummy = balanced_accuracy_score(y_test, y_pred)\n",
        "f1_dummy = f1_score(y_test, y_pred)\n",
        "confusion_matrix_dummy = confusion_matrix(y_test, y_pred)\n",
        "\n",
        "print('\\n[bold yellow]Dummy classifier (most frequent class)[/bold yellow]')\n",
        "print(f'Tiempo de entrenamiento: {tiempo_dummy:.4f} segundos')\n",
        "print(f'Balanced accuracy: {balanced_accuracy_dummy:.4f}')\n",
        "print(f'F1: {f1_dummy:.4f}')\n",
        "print(f'Confusion matrix:\\n{confusion_matrix_dummy}')"
      ],
      "metadata": {
        "id": "ptnBR-1u4Y6Y",
        "outputId": "dc4193db-6385-4d80-84e0-2e9a95c67a4f",
        "colab": {
          "base_uri": "https://localhost:8080/",
          "height": 129
        }
      },
      "execution_count": null,
      "outputs": [
        {
          "output_type": "display_data",
          "data": {
            "text/plain": [
              "\n",
              "\u001b[1;33mDummy classifier \u001b[0m\u001b[1;33m(\u001b[0m\u001b[1;33mmost frequent class\u001b[0m\u001b[1;33m)\u001b[0m\n"
            ],
            "text/html": [
              "<pre style=\"white-space:pre;overflow-x:auto;line-height:normal;font-family:Menlo,'DejaVu Sans Mono',consolas,'Courier New',monospace\">\n",
              "<span style=\"color: #808000; text-decoration-color: #808000; font-weight: bold\">Dummy classifier (most frequent class)</span>\n",
              "</pre>\n"
            ]
          },
          "metadata": {}
        },
        {
          "output_type": "display_data",
          "data": {
            "text/plain": [
              "Tiempo de entrenamiento: \u001b[1;36m0.0010\u001b[0m segundos\n"
            ],
            "text/html": [
              "<pre style=\"white-space:pre;overflow-x:auto;line-height:normal;font-family:Menlo,'DejaVu Sans Mono',consolas,'Courier New',monospace\">Tiempo de entrenamiento: <span style=\"color: #008080; text-decoration-color: #008080; font-weight: bold\">0.0010</span> segundos\n",
              "</pre>\n"
            ]
          },
          "metadata": {}
        },
        {
          "output_type": "display_data",
          "data": {
            "text/plain": [
              "Balanced accuracy: \u001b[1;36m0.5000\u001b[0m\n"
            ],
            "text/html": [
              "<pre style=\"white-space:pre;overflow-x:auto;line-height:normal;font-family:Menlo,'DejaVu Sans Mono',consolas,'Courier New',monospace\">Balanced accuracy: <span style=\"color: #008080; text-decoration-color: #008080; font-weight: bold\">0.5000</span>\n",
              "</pre>\n"
            ]
          },
          "metadata": {}
        },
        {
          "output_type": "display_data",
          "data": {
            "text/plain": [
              "F1: \u001b[1;36m0.0000\u001b[0m\n"
            ],
            "text/html": [
              "<pre style=\"white-space:pre;overflow-x:auto;line-height:normal;font-family:Menlo,'DejaVu Sans Mono',consolas,'Courier New',monospace\">F1: <span style=\"color: #008080; text-decoration-color: #008080; font-weight: bold\">0.0000</span>\n",
              "</pre>\n"
            ]
          },
          "metadata": {}
        },
        {
          "output_type": "display_data",
          "data": {
            "text/plain": [
              "Confusion matrix:\n",
              "\u001b[1m[\u001b[0m\u001b[1m[\u001b[0m\u001b[1;36m740\u001b[0m   \u001b[1;36m0\u001b[0m\u001b[1m]\u001b[0m\n",
              " \u001b[1m[\u001b[0m\u001b[1;36m142\u001b[0m   \u001b[1;36m0\u001b[0m\u001b[1m]\u001b[0m\u001b[1m]\u001b[0m\n"
            ],
            "text/html": [
              "<pre style=\"white-space:pre;overflow-x:auto;line-height:normal;font-family:Menlo,'DejaVu Sans Mono',consolas,'Courier New',monospace\">Confusion matrix:\n",
              "<span style=\"font-weight: bold\">[[</span><span style=\"color: #008080; text-decoration-color: #008080; font-weight: bold\">740</span>   <span style=\"color: #008080; text-decoration-color: #008080; font-weight: bold\">0</span><span style=\"font-weight: bold\">]</span>\n",
              " <span style=\"font-weight: bold\">[</span><span style=\"color: #008080; text-decoration-color: #008080; font-weight: bold\">142</span>   <span style=\"color: #008080; text-decoration-color: #008080; font-weight: bold\">0</span><span style=\"font-weight: bold\">]]</span>\n",
              "</pre>\n"
            ]
          },
          "metadata": {}
        }
      ]
    },
    {
      "cell_type": "markdown",
      "source": [
        "## **LogisticRegression**\n",
        "Para comenzar, usaremos **LogisticRegression** como método base sin realizar ajuste de hiper-parámetros."
      ],
      "metadata": {
        "id": "7NTYvIddCAgV"
      }
    },
    {
      "cell_type": "code",
      "source": [
        "from sklearn.linear_model import LogisticRegression\n",
        "\n",
        "# Creamos el modelo.\n",
        "model = LogisticRegression(random_state=13, solver='liblinear', class_weight='balanced')\n",
        "\n",
        "# Lo entrenamos.\n",
        "start = time.time()\n",
        "model.fit(X_train, y_train)\n",
        "end = time.time()\n",
        "tiempo = end - start\n",
        "\n",
        "# Predecimos sobre el conjunto de test.\n",
        "y_pred = model.predict(X_test)\n",
        "\n",
        "# Calculamos las métricas.\n",
        "balanced_accuracy = balanced_accuracy_score(y_test, y_pred)\n",
        "f1 = f1_score(y_test, y_pred)\n",
        "conf_matrix = confusion_matrix(y_test, y_pred)\n",
        "\n",
        "print('\\n[bold yellow]Logistic regression[/bold yellow]')\n",
        "print(f'Tiempo de entrenamiento: {tiempo:.4f} segundos.')\n",
        "print(f'Balanced accuracy: {balanced_accuracy:.4f}')\n",
        "print(f'F1: {f1:.4f}')\n",
        "print(f'Confusion matrix:\\n{conf_matrix}')"
      ],
      "metadata": {
        "colab": {
          "base_uri": "https://localhost:8080/",
          "height": 129
        },
        "id": "zv2cGSzLCPbH",
        "outputId": "e7621116-db8a-4686-ad01-0278a040efa7"
      },
      "execution_count": null,
      "outputs": [
        {
          "output_type": "display_data",
          "data": {
            "text/plain": [
              "\n",
              "\u001b[1;33mLogistic regression\u001b[0m\n"
            ],
            "text/html": [
              "<pre style=\"white-space:pre;overflow-x:auto;line-height:normal;font-family:Menlo,'DejaVu Sans Mono',consolas,'Courier New',monospace\">\n",
              "<span style=\"color: #808000; text-decoration-color: #808000; font-weight: bold\">Logistic regression</span>\n",
              "</pre>\n"
            ]
          },
          "metadata": {}
        },
        {
          "output_type": "display_data",
          "data": {
            "text/plain": [
              "Tiempo de entrenamiento: \u001b[1;36m0.0863\u001b[0m segundos.\n"
            ],
            "text/html": [
              "<pre style=\"white-space:pre;overflow-x:auto;line-height:normal;font-family:Menlo,'DejaVu Sans Mono',consolas,'Courier New',monospace\">Tiempo de entrenamiento: <span style=\"color: #008080; text-decoration-color: #008080; font-weight: bold\">0.0863</span> segundos.\n",
              "</pre>\n"
            ]
          },
          "metadata": {}
        },
        {
          "output_type": "display_data",
          "data": {
            "text/plain": [
              "Balanced accuracy: \u001b[1;36m0.7266\u001b[0m\n"
            ],
            "text/html": [
              "<pre style=\"white-space:pre;overflow-x:auto;line-height:normal;font-family:Menlo,'DejaVu Sans Mono',consolas,'Courier New',monospace\">Balanced accuracy: <span style=\"color: #008080; text-decoration-color: #008080; font-weight: bold\">0.7266</span>\n",
              "</pre>\n"
            ]
          },
          "metadata": {}
        },
        {
          "output_type": "display_data",
          "data": {
            "text/plain": [
              "F1: \u001b[1;36m0.4654\u001b[0m\n"
            ],
            "text/html": [
              "<pre style=\"white-space:pre;overflow-x:auto;line-height:normal;font-family:Menlo,'DejaVu Sans Mono',consolas,'Courier New',monospace\">F1: <span style=\"color: #008080; text-decoration-color: #008080; font-weight: bold\">0.4654</span>\n",
              "</pre>\n"
            ]
          },
          "metadata": {}
        },
        {
          "output_type": "display_data",
          "data": {
            "text/plain": [
              "Confusion matrix:\n",
              "\u001b[1m[\u001b[0m\u001b[1m[\u001b[0m\u001b[1;36m549\u001b[0m \u001b[1;36m191\u001b[0m\u001b[1m]\u001b[0m\n",
              " \u001b[1m[\u001b[0m \u001b[1;36m41\u001b[0m \u001b[1;36m101\u001b[0m\u001b[1m]\u001b[0m\u001b[1m]\u001b[0m\n"
            ],
            "text/html": [
              "<pre style=\"white-space:pre;overflow-x:auto;line-height:normal;font-family:Menlo,'DejaVu Sans Mono',consolas,'Courier New',monospace\">Confusion matrix:\n",
              "<span style=\"font-weight: bold\">[[</span><span style=\"color: #008080; text-decoration-color: #008080; font-weight: bold\">549</span> <span style=\"color: #008080; text-decoration-color: #008080; font-weight: bold\">191</span><span style=\"font-weight: bold\">]</span>\n",
              " <span style=\"font-weight: bold\">[</span> <span style=\"color: #008080; text-decoration-color: #008080; font-weight: bold\">41</span> <span style=\"color: #008080; text-decoration-color: #008080; font-weight: bold\">101</span><span style=\"font-weight: bold\">]]</span>\n",
              "</pre>\n"
            ]
          },
          "metadata": {}
        }
      ]
    },
    {
      "cell_type": "markdown",
      "source": [
        "Las métricas de evaluación usadas y sus resultados son:\n",
        "\n",
        "+ **Balanced accuracy**: Es una métrica que toma en cuenta el desbalanceo de las clases en la variable de salida. En este caso, el valor obtenido es de 0.5000, lo que significa que el modelo no ha logrado aprender a distinguir entre las clases de manera efectiva.\n",
        "\n",
        "+ **F1-score**: Es una medida que combina la precisión y el recall (sensibilidad) de la clasificación binaria. En este caso, el valor obtenido es de 0.0000, lo que indica que el modelo no ha logrado identificar correctamente ninguna de las observaciones de la clase positiva.\n",
        "\n",
        "+ **Confusion matrix**: Es una matriz de 2x2 que resume las predicciones del modelo en términos de verdaderos positivos (TP), verdaderos negativos (TN), falsos positivos (FP) y falsos negativos (FN). En este caso, el modelo ha clasificado correctamente todos los casos de la clase negativa (TN=740), pero no ha logrado identificar correctamente ninguno de los casos de la clase positiva (TP=0, FN=142)."
      ],
      "metadata": {
        "id": "cbozTL8EC6eB"
      }
    },
    {
      "cell_type": "markdown",
      "source": [
        "A continuación, analizaremos la mejora entre LogisticRegression sin ajuste de hiper-parámetros y el modelo dummy creado anteriormente."
      ],
      "metadata": {
        "id": "pcMa8IVYm9rg"
      }
    },
    {
      "cell_type": "code",
      "source": [
        "# Speedup de LogisticRegression vs DummyClassifier.\n",
        "print('\\n[bold yellow]Ratios entre LogisticRegression y DummyClassifier[/bold yellow]')\n",
        "print(f'Ratio Tiempo de entrenamiento LogisticRegression / dummy: {tiempo / tiempo_dummy:.4f}')\n",
        "print(f'Ratio Balanced accuracy LogisticRegression / dummy: {balanced_accuracy / balanced_accuracy_dummy:.4f}')\n"
      ],
      "metadata": {
        "colab": {
          "base_uri": "https://localhost:8080/",
          "height": 65
        },
        "id": "W3cCD6XymJwQ",
        "outputId": "4da889a1-6031-4fd8-cb66-93df2e976805"
      },
      "execution_count": null,
      "outputs": [
        {
          "output_type": "display_data",
          "data": {
            "text/plain": [
              "\n",
              "\u001b[1;33mRatios entre LogisticRegression y DummyClassifier\u001b[0m\n"
            ],
            "text/html": [
              "<pre style=\"white-space:pre;overflow-x:auto;line-height:normal;font-family:Menlo,'DejaVu Sans Mono',consolas,'Courier New',monospace\">\n",
              "<span style=\"color: #808000; text-decoration-color: #808000; font-weight: bold\">Ratios entre LogisticRegression y DummyClassifier</span>\n",
              "</pre>\n"
            ]
          },
          "metadata": {}
        },
        {
          "output_type": "display_data",
          "data": {
            "text/plain": [
              "Ratio Tiempo de entrenamiento LogisticRegression \u001b[35m/\u001b[0m dummy: \u001b[1;36m88.2401\u001b[0m\n"
            ],
            "text/html": [
              "<pre style=\"white-space:pre;overflow-x:auto;line-height:normal;font-family:Menlo,'DejaVu Sans Mono',consolas,'Courier New',monospace\">Ratio Tiempo de entrenamiento LogisticRegression <span style=\"color: #800080; text-decoration-color: #800080\">/</span> dummy: <span style=\"color: #008080; text-decoration-color: #008080; font-weight: bold\">88.2401</span>\n",
              "</pre>\n"
            ]
          },
          "metadata": {}
        },
        {
          "output_type": "display_data",
          "data": {
            "text/plain": [
              "Ratio Balanced accuracy LogisticRegression \u001b[35m/\u001b[0m dummy: \u001b[1;36m1.4532\u001b[0m\n"
            ],
            "text/html": [
              "<pre style=\"white-space:pre;overflow-x:auto;line-height:normal;font-family:Menlo,'DejaVu Sans Mono',consolas,'Courier New',monospace\">Ratio Balanced accuracy LogisticRegression <span style=\"color: #800080; text-decoration-color: #800080\">/</span> dummy: <span style=\"color: #008080; text-decoration-color: #008080; font-weight: bold\">1.4532</span>\n",
              "</pre>\n"
            ]
          },
          "metadata": {}
        }
      ]
    },
    {
      "cell_type": "markdown",
      "source": [
        "En estos resultados, se observa que el modelo de regresión logística tiene un tiempo de entrenamiento casi 100 veces mayor que el modelo dummy, lo que puede indicar un mayor costo computacional. Sin embargo, la métrica de precisión balanceada indica que la regresión logística supera ampliamente al modelo dummy, con un ratio de 1.4532 veces mejor. En general, se podría concluir que el modelo de regresión logística es una opción más eficiente y precisa que el modelo dummy en este caso."
      ],
      "metadata": {
        "id": "-sA-H3ebVg0U"
      }
    },
    {
      "cell_type": "markdown",
      "source": [
        "## **Boosting**"
      ],
      "metadata": {
        "id": "97JbYeOzG32-"
      }
    },
    {
      "cell_type": "markdown",
      "source": [
        "## **Alternativa para class_weight='balanced'**"
      ],
      "metadata": {
        "id": "kdkEBNQEDtb5"
      }
    },
    {
      "cell_type": "markdown",
      "source": [
        "Necesitamos estas dos alternativas para poder lidiar con el desbalanceo de datos en los métodos AdaBoost y Gradient Boosting."
      ],
      "metadata": {
        "id": "iahFwC52UmjE"
      }
    },
    {
      "cell_type": "code",
      "source": [
        "# calcular los pesos de muestra personalizados para el conjunto de entrenamiento\n",
        "class_counts = np.bincount(y_train)\n",
        "sample_weights = np.zeros(len(y_train))\n",
        "for i, count in enumerate(class_counts):\n",
        "    sample_weights[y_train == i] = class_counts.sum() / (len(class_counts) * count)\n",
        "\n",
        "# Calcular los pesos de las muestras\n",
        "weights = np.where(y_train == 0, 1 / np.sum(y_train == 0), 1 / np.sum(y_train == 1))\n",
        "\n",
        "#Calcular la proporción de la clase mayoritaria\n",
        "proporcion = np.sum(y_train == 0) / np.sum(y_train == 1)"
      ],
      "metadata": {
        "id": "NBUitjxfD0J8"
      },
      "execution_count": null,
      "outputs": []
    },
    {
      "cell_type": "markdown",
      "source": [
        "### **Boosting sin ajuste de hiper-parámetros**"
      ],
      "metadata": {
        "id": "8XVdT19crCGJ"
      }
    },
    {
      "cell_type": "code",
      "source": [
        "# Importamos todas las implementaciones de boosting que vamos a probar.\n",
        "from sklearn.ensemble import AdaBoostClassifier, GradientBoostingClassifier, HistGradientBoostingClassifier\n",
        "\n",
        "# Librerias externas (extra).\n",
        "from xgboost import XGBClassifier\n",
        "from lightgbm import LGBMClassifier\n",
        "\n",
        "# Importamos time.\n",
        "import time\n",
        "\n",
        "# Creamos un diccionario con los modelos que vamos a evaluar.\n",
        "modelos = {\n",
        "    'AdaBoost': AdaBoostClassifier(random_state=13),\n",
        "    'Gradient Boosting': GradientBoostingClassifier(random_state=13),\n",
        "    'XGBoost': XGBClassifier(random_state=13, scale_pos_weight=proporcion),\n",
        "    'LightGBM': LGBMClassifier(random_state=13, class_weight='balanced'),\n",
        "}\n",
        "\n",
        "\n",
        "# Creamos una función para evaluar los modelos.\n",
        "def evaluar_modelos(models, X_train, y_train, X_test, y_test):\n",
        "    # Creamos un diccionario para guardar los resultados.\n",
        "    resultados = {}\n",
        "\n",
        "    # Iteramos sobre los modelos.\n",
        "    for nombre_modelo, modelo in models.items():\n",
        "        #print(f'Evaluando modelo: {nombre_modelo}')\n",
        "\n",
        "        # Entrenamos el modelo.\n",
        "        if nombre_modelo == 'AdaBoost':\n",
        "            start = time.time()\n",
        "            modelo.fit(X_train, y_train, sample_weight=sample_weights)\n",
        "            end = time.time()\n",
        "        elif nombre_modelo == 'Gradient Boosting':\n",
        "            start = time.time()\n",
        "            modelo.fit(X_train, y_train, sample_weight=weights)\n",
        "            end = time.time()\n",
        "        else:\n",
        "            start = time.time()\n",
        "            modelo.fit(X_train, y_train)\n",
        "            end = time.time()\n",
        "\n",
        "        tiempo = end - start\n",
        "\n",
        "        # Predecimos sobre el conjunto de test.\n",
        "        y_pred = modelo.predict(X_test)\n",
        "\n",
        "        # Calculamos las métricas.\n",
        "        balanced_accuracy = balanced_accuracy_score(y_test, y_pred)\n",
        "        f1 = f1_score(y_test, y_pred)\n",
        "        conf_matrix = confusion_matrix(y_test, y_pred)\n",
        "\n",
        "        # Guardamos los resultados.\n",
        "        resultados[nombre_modelo] = {\n",
        "            'tiempo': tiempo,\n",
        "            'model': modelo,\n",
        "            'balanced_accuracy': balanced_accuracy,\n",
        "            'f1': f1,\n",
        "            'confusion_matrix': conf_matrix\n",
        "        }\n",
        "\n",
        "    return resultados# calcular los pesos de muestra personalizados para el conjunto de entrenamiento\n",
        "class_counts = np.bincount(y_train)\n",
        "sample_weights = np.zeros(len(y_train))\n",
        "for i, count in enumerate(class_counts):\n",
        "    sample_weights[y_train == i] = class_counts.sum() / (len(class_counts) * count)\n",
        "\n",
        "# Calcular los pesos de las muestras\n",
        "weights = np.where(y_train == 0, 1 / np.sum(y_train == 0), 1 / np.sum(y_train == 1))\n",
        "\n",
        "print('\\n[bold yellow]Boosting sin ajuste de hiper-parámetros[/bold yellow]')\n",
        "\n",
        "# Evaluamos los modelos.\n",
        "resultados = evaluar_modelos(modelos, X_train, y_train, X_test, y_test)\n",
        "\n",
        "# Mostramos los resultados.\n",
        "for nombre_modelo, resultado in resultados.items():\n",
        "    print(f'[blue]Modelo: {nombre_modelo}[/blue]')\n",
        "    print(f'Tiempo de ejecución: {resultado[\"tiempo\"]:.5f} segundos')\n",
        "    print(f'Balanced accuracy: {resultado[\"balanced_accuracy\"]:.4f}')\n",
        "    print(f'F1: {resultado[\"f1\"]:.4f}')\n",
        "    print(f'Confusion matrix:\\n{resultado[\"confusion_matrix\"]}\\n')"
      ],
      "metadata": {
        "colab": {
          "base_uri": "https://localhost:8080/",
          "height": 545
        },
        "id": "lk9B3MxFG5oX",
        "outputId": "c23fd985-e594-4aed-e6a2-ed33a5f2533c"
      },
      "execution_count": null,
      "outputs": [
        {
          "output_type": "display_data",
          "data": {
            "text/plain": [
              "\n",
              "\u001b[1;33mBoosting sin ajuste de hiper-parámetros\u001b[0m\n"
            ],
            "text/html": [
              "<pre style=\"white-space:pre;overflow-x:auto;line-height:normal;font-family:Menlo,'DejaVu Sans Mono',consolas,'Courier New',monospace\">\n",
              "<span style=\"color: #808000; text-decoration-color: #808000; font-weight: bold\">Boosting sin ajuste de hiper-parámetros</span>\n",
              "</pre>\n"
            ]
          },
          "metadata": {}
        },
        {
          "output_type": "display_data",
          "data": {
            "text/plain": [
              "\u001b[34mModelo: AdaBoost\u001b[0m\n"
            ],
            "text/html": [
              "<pre style=\"white-space:pre;overflow-x:auto;line-height:normal;font-family:Menlo,'DejaVu Sans Mono',consolas,'Courier New',monospace\"><span style=\"color: #000080; text-decoration-color: #000080\">Modelo: AdaBoost</span>\n",
              "</pre>\n"
            ]
          },
          "metadata": {}
        },
        {
          "output_type": "display_data",
          "data": {
            "text/plain": [
              "Tiempo de ejecución: \u001b[1;36m0.53962\u001b[0m segundos\n"
            ],
            "text/html": [
              "<pre style=\"white-space:pre;overflow-x:auto;line-height:normal;font-family:Menlo,'DejaVu Sans Mono',consolas,'Courier New',monospace\">Tiempo de ejecución: <span style=\"color: #008080; text-decoration-color: #008080; font-weight: bold\">0.53962</span> segundos\n",
              "</pre>\n"
            ]
          },
          "metadata": {}
        },
        {
          "output_type": "display_data",
          "data": {
            "text/plain": [
              "Balanced accuracy: \u001b[1;36m0.7440\u001b[0m\n"
            ],
            "text/html": [
              "<pre style=\"white-space:pre;overflow-x:auto;line-height:normal;font-family:Menlo,'DejaVu Sans Mono',consolas,'Courier New',monospace\">Balanced accuracy: <span style=\"color: #008080; text-decoration-color: #008080; font-weight: bold\">0.7440</span>\n",
              "</pre>\n"
            ]
          },
          "metadata": {}
        },
        {
          "output_type": "display_data",
          "data": {
            "text/plain": [
              "F1: \u001b[1;36m0.4975\u001b[0m\n"
            ],
            "text/html": [
              "<pre style=\"white-space:pre;overflow-x:auto;line-height:normal;font-family:Menlo,'DejaVu Sans Mono',consolas,'Courier New',monospace\">F1: <span style=\"color: #008080; text-decoration-color: #008080; font-weight: bold\">0.4975</span>\n",
              "</pre>\n"
            ]
          },
          "metadata": {}
        },
        {
          "output_type": "display_data",
          "data": {
            "text/plain": [
              "Confusion matrix:\n",
              "\u001b[1m[\u001b[0m\u001b[1m[\u001b[0m\u001b[1;36m580\u001b[0m \u001b[1;36m160\u001b[0m\u001b[1m]\u001b[0m\n",
              " \u001b[1m[\u001b[0m \u001b[1;36m42\u001b[0m \u001b[1;36m100\u001b[0m\u001b[1m]\u001b[0m\u001b[1m]\u001b[0m\n",
              "\n"
            ],
            "text/html": [
              "<pre style=\"white-space:pre;overflow-x:auto;line-height:normal;font-family:Menlo,'DejaVu Sans Mono',consolas,'Courier New',monospace\">Confusion matrix:\n",
              "<span style=\"font-weight: bold\">[[</span><span style=\"color: #008080; text-decoration-color: #008080; font-weight: bold\">580</span> <span style=\"color: #008080; text-decoration-color: #008080; font-weight: bold\">160</span><span style=\"font-weight: bold\">]</span>\n",
              " <span style=\"font-weight: bold\">[</span> <span style=\"color: #008080; text-decoration-color: #008080; font-weight: bold\">42</span> <span style=\"color: #008080; text-decoration-color: #008080; font-weight: bold\">100</span><span style=\"font-weight: bold\">]]</span>\n",
              "\n",
              "</pre>\n"
            ]
          },
          "metadata": {}
        },
        {
          "output_type": "display_data",
          "data": {
            "text/plain": [
              "\u001b[34mModelo: Gradient Boosting\u001b[0m\n"
            ],
            "text/html": [
              "<pre style=\"white-space:pre;overflow-x:auto;line-height:normal;font-family:Menlo,'DejaVu Sans Mono',consolas,'Courier New',monospace\"><span style=\"color: #000080; text-decoration-color: #000080\">Modelo: Gradient Boosting</span>\n",
              "</pre>\n"
            ]
          },
          "metadata": {}
        },
        {
          "output_type": "display_data",
          "data": {
            "text/plain": [
              "Tiempo de ejecución: \u001b[1;36m1.12091\u001b[0m segundos\n"
            ],
            "text/html": [
              "<pre style=\"white-space:pre;overflow-x:auto;line-height:normal;font-family:Menlo,'DejaVu Sans Mono',consolas,'Courier New',monospace\">Tiempo de ejecución: <span style=\"color: #008080; text-decoration-color: #008080; font-weight: bold\">1.12091</span> segundos\n",
              "</pre>\n"
            ]
          },
          "metadata": {}
        },
        {
          "output_type": "display_data",
          "data": {
            "text/plain": [
              "Balanced accuracy: \u001b[1;36m0.8006\u001b[0m\n"
            ],
            "text/html": [
              "<pre style=\"white-space:pre;overflow-x:auto;line-height:normal;font-family:Menlo,'DejaVu Sans Mono',consolas,'Courier New',monospace\">Balanced accuracy: <span style=\"color: #008080; text-decoration-color: #008080; font-weight: bold\">0.8006</span>\n",
              "</pre>\n"
            ]
          },
          "metadata": {}
        },
        {
          "output_type": "display_data",
          "data": {
            "text/plain": [
              "F1: \u001b[1;36m0.5870\u001b[0m\n"
            ],
            "text/html": [
              "<pre style=\"white-space:pre;overflow-x:auto;line-height:normal;font-family:Menlo,'DejaVu Sans Mono',consolas,'Courier New',monospace\">F1: <span style=\"color: #008080; text-decoration-color: #008080; font-weight: bold\">0.5870</span>\n",
              "</pre>\n"
            ]
          },
          "metadata": {}
        },
        {
          "output_type": "display_data",
          "data": {
            "text/plain": [
              "Confusion matrix:\n",
              "\u001b[1m[\u001b[0m\u001b[1m[\u001b[0m\u001b[1;36m622\u001b[0m \u001b[1;36m118\u001b[0m\u001b[1m]\u001b[0m\n",
              " \u001b[1m[\u001b[0m \u001b[1;36m34\u001b[0m \u001b[1;36m108\u001b[0m\u001b[1m]\u001b[0m\u001b[1m]\u001b[0m\n",
              "\n"
            ],
            "text/html": [
              "<pre style=\"white-space:pre;overflow-x:auto;line-height:normal;font-family:Menlo,'DejaVu Sans Mono',consolas,'Courier New',monospace\">Confusion matrix:\n",
              "<span style=\"font-weight: bold\">[[</span><span style=\"color: #008080; text-decoration-color: #008080; font-weight: bold\">622</span> <span style=\"color: #008080; text-decoration-color: #008080; font-weight: bold\">118</span><span style=\"font-weight: bold\">]</span>\n",
              " <span style=\"font-weight: bold\">[</span> <span style=\"color: #008080; text-decoration-color: #008080; font-weight: bold\">34</span> <span style=\"color: #008080; text-decoration-color: #008080; font-weight: bold\">108</span><span style=\"font-weight: bold\">]]</span>\n",
              "\n",
              "</pre>\n"
            ]
          },
          "metadata": {}
        },
        {
          "output_type": "display_data",
          "data": {
            "text/plain": [
              "\u001b[34mModelo: XGBoost\u001b[0m\n"
            ],
            "text/html": [
              "<pre style=\"white-space:pre;overflow-x:auto;line-height:normal;font-family:Menlo,'DejaVu Sans Mono',consolas,'Courier New',monospace\"><span style=\"color: #000080; text-decoration-color: #000080\">Modelo: XGBoost</span>\n",
              "</pre>\n"
            ]
          },
          "metadata": {}
        },
        {
          "output_type": "display_data",
          "data": {
            "text/plain": [
              "Tiempo de ejecución: \u001b[1;36m1.00952\u001b[0m segundos\n"
            ],
            "text/html": [
              "<pre style=\"white-space:pre;overflow-x:auto;line-height:normal;font-family:Menlo,'DejaVu Sans Mono',consolas,'Courier New',monospace\">Tiempo de ejecución: <span style=\"color: #008080; text-decoration-color: #008080; font-weight: bold\">1.00952</span> segundos\n",
              "</pre>\n"
            ]
          },
          "metadata": {}
        },
        {
          "output_type": "display_data",
          "data": {
            "text/plain": [
              "Balanced accuracy: \u001b[1;36m0.8756\u001b[0m\n"
            ],
            "text/html": [
              "<pre style=\"white-space:pre;overflow-x:auto;line-height:normal;font-family:Menlo,'DejaVu Sans Mono',consolas,'Courier New',monospace\">Balanced accuracy: <span style=\"color: #008080; text-decoration-color: #008080; font-weight: bold\">0.8756</span>\n",
              "</pre>\n"
            ]
          },
          "metadata": {}
        },
        {
          "output_type": "display_data",
          "data": {
            "text/plain": [
              "F1: \u001b[1;36m0.8405\u001b[0m\n"
            ],
            "text/html": [
              "<pre style=\"white-space:pre;overflow-x:auto;line-height:normal;font-family:Menlo,'DejaVu Sans Mono',consolas,'Courier New',monospace\">F1: <span style=\"color: #008080; text-decoration-color: #008080; font-weight: bold\">0.8405</span>\n",
              "</pre>\n"
            ]
          },
          "metadata": {}
        },
        {
          "output_type": "display_data",
          "data": {
            "text/plain": [
              "Confusion matrix:\n",
              "\u001b[1m[\u001b[0m\u001b[1m[\u001b[0m\u001b[1;36m733\u001b[0m   \u001b[1;36m7\u001b[0m\u001b[1m]\u001b[0m\n",
              " \u001b[1m[\u001b[0m \u001b[1;36m34\u001b[0m \u001b[1;36m108\u001b[0m\u001b[1m]\u001b[0m\u001b[1m]\u001b[0m\n",
              "\n"
            ],
            "text/html": [
              "<pre style=\"white-space:pre;overflow-x:auto;line-height:normal;font-family:Menlo,'DejaVu Sans Mono',consolas,'Courier New',monospace\">Confusion matrix:\n",
              "<span style=\"font-weight: bold\">[[</span><span style=\"color: #008080; text-decoration-color: #008080; font-weight: bold\">733</span>   <span style=\"color: #008080; text-decoration-color: #008080; font-weight: bold\">7</span><span style=\"font-weight: bold\">]</span>\n",
              " <span style=\"font-weight: bold\">[</span> <span style=\"color: #008080; text-decoration-color: #008080; font-weight: bold\">34</span> <span style=\"color: #008080; text-decoration-color: #008080; font-weight: bold\">108</span><span style=\"font-weight: bold\">]]</span>\n",
              "\n",
              "</pre>\n"
            ]
          },
          "metadata": {}
        },
        {
          "output_type": "display_data",
          "data": {
            "text/plain": [
              "\u001b[34mModelo: LightGBM\u001b[0m\n"
            ],
            "text/html": [
              "<pre style=\"white-space:pre;overflow-x:auto;line-height:normal;font-family:Menlo,'DejaVu Sans Mono',consolas,'Courier New',monospace\"><span style=\"color: #000080; text-decoration-color: #000080\">Modelo: LightGBM</span>\n",
              "</pre>\n"
            ]
          },
          "metadata": {}
        },
        {
          "output_type": "display_data",
          "data": {
            "text/plain": [
              "Tiempo de ejecución: \u001b[1;36m0.18909\u001b[0m segundos\n"
            ],
            "text/html": [
              "<pre style=\"white-space:pre;overflow-x:auto;line-height:normal;font-family:Menlo,'DejaVu Sans Mono',consolas,'Courier New',monospace\">Tiempo de ejecución: <span style=\"color: #008080; text-decoration-color: #008080; font-weight: bold\">0.18909</span> segundos\n",
              "</pre>\n"
            ]
          },
          "metadata": {}
        },
        {
          "output_type": "display_data",
          "data": {
            "text/plain": [
              "Balanced accuracy: \u001b[1;36m0.8719\u001b[0m\n"
            ],
            "text/html": [
              "<pre style=\"white-space:pre;overflow-x:auto;line-height:normal;font-family:Menlo,'DejaVu Sans Mono',consolas,'Courier New',monospace\">Balanced accuracy: <span style=\"color: #008080; text-decoration-color: #008080; font-weight: bold\">0.8719</span>\n",
              "</pre>\n"
            ]
          },
          "metadata": {}
        },
        {
          "output_type": "display_data",
          "data": {
            "text/plain": [
              "F1: \u001b[1;36m0.7900\u001b[0m\n"
            ],
            "text/html": [
              "<pre style=\"white-space:pre;overflow-x:auto;line-height:normal;font-family:Menlo,'DejaVu Sans Mono',consolas,'Courier New',monospace\">F1: <span style=\"color: #008080; text-decoration-color: #008080; font-weight: bold\">0.7900</span>\n",
              "</pre>\n"
            ]
          },
          "metadata": {}
        },
        {
          "output_type": "display_data",
          "data": {
            "text/plain": [
              "Confusion matrix:\n",
              "\u001b[1m[\u001b[0m\u001b[1m[\u001b[0m\u001b[1;36m712\u001b[0m  \u001b[1;36m28\u001b[0m\u001b[1m]\u001b[0m\n",
              " \u001b[1m[\u001b[0m \u001b[1;36m31\u001b[0m \u001b[1;36m111\u001b[0m\u001b[1m]\u001b[0m\u001b[1m]\u001b[0m\n",
              "\n"
            ],
            "text/html": [
              "<pre style=\"white-space:pre;overflow-x:auto;line-height:normal;font-family:Menlo,'DejaVu Sans Mono',consolas,'Courier New',monospace\">Confusion matrix:\n",
              "<span style=\"font-weight: bold\">[[</span><span style=\"color: #008080; text-decoration-color: #008080; font-weight: bold\">712</span>  <span style=\"color: #008080; text-decoration-color: #008080; font-weight: bold\">28</span><span style=\"font-weight: bold\">]</span>\n",
              " <span style=\"font-weight: bold\">[</span> <span style=\"color: #008080; text-decoration-color: #008080; font-weight: bold\">31</span> <span style=\"color: #008080; text-decoration-color: #008080; font-weight: bold\">111</span><span style=\"font-weight: bold\">]]</span>\n",
              "\n",
              "</pre>\n"
            ]
          },
          "metadata": {}
        }
      ]
    },
    {
      "cell_type": "code",
      "source": [
        "# Speedup del modelo vs dummy.\n",
        "for nombre_modelo, resultado in resultados.items():\n",
        "    print(f'\\nRatio Tiempo de entrenamiento {nombre_modelo} / dummy: {resultado[\"tiempo\"] / tiempo_dummy:.4f}')\n",
        "    print(f'Ratio Balanced accuracy {nombre_modelo} / dummy: {resultado[\"balanced_accuracy\"] / balanced_accuracy_dummy:.4f}\\n')\n",
        "    "
      ],
      "metadata": {
        "colab": {
          "base_uri": "https://localhost:8080/",
          "height": 209
        },
        "id": "7rRqhsPGo631",
        "outputId": "7df917a4-bf28-45ef-b107-6b08153161e7"
      },
      "execution_count": null,
      "outputs": [
        {
          "output_type": "display_data",
          "data": {
            "text/plain": [
              "\n",
              "Ratio Tiempo de entrenamiento AdaBoost \u001b[35m/\u001b[0m dummy: \u001b[1;36m551.7647\u001b[0m\n"
            ],
            "text/html": [
              "<pre style=\"white-space:pre;overflow-x:auto;line-height:normal;font-family:Menlo,'DejaVu Sans Mono',consolas,'Courier New',monospace\">\n",
              "Ratio Tiempo de entrenamiento AdaBoost <span style=\"color: #800080; text-decoration-color: #800080\">/</span> dummy: <span style=\"color: #008080; text-decoration-color: #008080; font-weight: bold\">551.7647</span>\n",
              "</pre>\n"
            ]
          },
          "metadata": {}
        },
        {
          "output_type": "display_data",
          "data": {
            "text/plain": [
              "Ratio Balanced accuracy AdaBoost \u001b[35m/\u001b[0m dummy: \u001b[1;36m1.4880\u001b[0m\n",
              "\n"
            ],
            "text/html": [
              "<pre style=\"white-space:pre;overflow-x:auto;line-height:normal;font-family:Menlo,'DejaVu Sans Mono',consolas,'Courier New',monospace\">Ratio Balanced accuracy AdaBoost <span style=\"color: #800080; text-decoration-color: #800080\">/</span> dummy: <span style=\"color: #008080; text-decoration-color: #008080; font-weight: bold\">1.4880</span>\n",
              "\n",
              "</pre>\n"
            ]
          },
          "metadata": {}
        },
        {
          "output_type": "display_data",
          "data": {
            "text/plain": [
              "\n",
              "Ratio Tiempo de entrenamiento Gradient Boosting \u001b[35m/\u001b[0m dummy: \u001b[1;36m1146.1294\u001b[0m\n"
            ],
            "text/html": [
              "<pre style=\"white-space:pre;overflow-x:auto;line-height:normal;font-family:Menlo,'DejaVu Sans Mono',consolas,'Courier New',monospace\">\n",
              "Ratio Tiempo de entrenamiento Gradient Boosting <span style=\"color: #800080; text-decoration-color: #800080\">/</span> dummy: <span style=\"color: #008080; text-decoration-color: #008080; font-weight: bold\">1146.1294</span>\n",
              "</pre>\n"
            ]
          },
          "metadata": {}
        },
        {
          "output_type": "display_data",
          "data": {
            "text/plain": [
              "Ratio Balanced accuracy Gradient Boosting \u001b[35m/\u001b[0m dummy: \u001b[1;36m1.6011\u001b[0m\n",
              "\n"
            ],
            "text/html": [
              "<pre style=\"white-space:pre;overflow-x:auto;line-height:normal;font-family:Menlo,'DejaVu Sans Mono',consolas,'Courier New',monospace\">Ratio Balanced accuracy Gradient Boosting <span style=\"color: #800080; text-decoration-color: #800080\">/</span> dummy: <span style=\"color: #008080; text-decoration-color: #008080; font-weight: bold\">1.6011</span>\n",
              "\n",
              "</pre>\n"
            ]
          },
          "metadata": {}
        },
        {
          "output_type": "display_data",
          "data": {
            "text/plain": [
              "\n",
              "Ratio Tiempo de entrenamiento XGBoost \u001b[35m/\u001b[0m dummy: \u001b[1;36m1032.2404\u001b[0m\n"
            ],
            "text/html": [
              "<pre style=\"white-space:pre;overflow-x:auto;line-height:normal;font-family:Menlo,'DejaVu Sans Mono',consolas,'Courier New',monospace\">\n",
              "Ratio Tiempo de entrenamiento XGBoost <span style=\"color: #800080; text-decoration-color: #800080\">/</span> dummy: <span style=\"color: #008080; text-decoration-color: #008080; font-weight: bold\">1032.2404</span>\n",
              "</pre>\n"
            ]
          },
          "metadata": {}
        },
        {
          "output_type": "display_data",
          "data": {
            "text/plain": [
              "Ratio Balanced accuracy XGBoost \u001b[35m/\u001b[0m dummy: \u001b[1;36m1.7511\u001b[0m\n",
              "\n"
            ],
            "text/html": [
              "<pre style=\"white-space:pre;overflow-x:auto;line-height:normal;font-family:Menlo,'DejaVu Sans Mono',consolas,'Courier New',monospace\">Ratio Balanced accuracy XGBoost <span style=\"color: #800080; text-decoration-color: #800080\">/</span> dummy: <span style=\"color: #008080; text-decoration-color: #008080; font-weight: bold\">1.7511</span>\n",
              "\n",
              "</pre>\n"
            ]
          },
          "metadata": {}
        },
        {
          "output_type": "display_data",
          "data": {
            "text/plain": [
              "\n",
              "Ratio Tiempo de entrenamiento LightGBM \u001b[35m/\u001b[0m dummy: \u001b[1;36m193.3491\u001b[0m\n"
            ],
            "text/html": [
              "<pre style=\"white-space:pre;overflow-x:auto;line-height:normal;font-family:Menlo,'DejaVu Sans Mono',consolas,'Courier New',monospace\">\n",
              "Ratio Tiempo de entrenamiento LightGBM <span style=\"color: #800080; text-decoration-color: #800080\">/</span> dummy: <span style=\"color: #008080; text-decoration-color: #008080; font-weight: bold\">193.3491</span>\n",
              "</pre>\n"
            ]
          },
          "metadata": {}
        },
        {
          "output_type": "display_data",
          "data": {
            "text/plain": [
              "Ratio Balanced accuracy LightGBM \u001b[35m/\u001b[0m dummy: \u001b[1;36m1.7439\u001b[0m\n",
              "\n"
            ],
            "text/html": [
              "<pre style=\"white-space:pre;overflow-x:auto;line-height:normal;font-family:Menlo,'DejaVu Sans Mono',consolas,'Courier New',monospace\">Ratio Balanced accuracy LightGBM <span style=\"color: #800080; text-decoration-color: #800080\">/</span> dummy: <span style=\"color: #008080; text-decoration-color: #008080; font-weight: bold\">1.7439</span>\n",
              "\n",
              "</pre>\n"
            ]
          },
          "metadata": {}
        }
      ]
    },
    {
      "cell_type": "markdown",
      "source": [
        "En estos resultados podemos ver que todos los modelos tienen un ratio de tiempo de entrenamiento significativamente mayor que el modelo DummyClassifier, lo que indica que todos estos modelos son más costosos en términos de tiempo computacional. Sin embargo, también podemos ver que todos los modelos tienen un ratio de Balanced accuracy significativamente mayor que el DummyClassifier, lo que indica que todos estos modelos son capaces de obtener mejores resultados que el modelo base.\n",
        "\n",
        "En cuanto a la comparación entre los modelos, podemos ver que Gradient Boosting y XGBoost tienen los ratios de Balanced accuracy más altos, lo que indica que estos modelos tienen un mejor rendimiento en términos de clasificación. Sin embargo, también podemos ver que XGBoost tiene el ratio de tiempo de entrenamiento más alto, lo que indica que es el modelo más costoso en términos de tiempo computacional. Por otro lado, LightGBM tiene un ratio de tiempo de entrenamiento más bajo que los otros modelos, pero su ratio de Balanced accuracy es un poco más bajo que el de Gradient Boosting y XGBoost.\n",
        "\n",
        "En general, estos resultados sugieren que si se busca un modelo con un alto rendimiento en términos de clasificación, Gradient Boosting y XGBoost podrían ser buenas opciones, pero si se busca un modelo que sea menos costoso en términos de tiempo computacional, LightGBM podría ser una mejor opción."
      ],
      "metadata": {
        "id": "GO5kYfWSWBqH"
      }
    },
    {
      "cell_type": "markdown",
      "source": [
        "### **Boosting con ajuste de hiper-parámetros**"
      ],
      "metadata": {
        "id": "Tg3-XiXhrNvW"
      }
    },
    {
      "cell_type": "code",
      "source": [
        "# Importamos la clase StratifiedKFold para realizar validación cruzada estratificada.\n",
        "from sklearn.model_selection import StratifiedKFold\n",
        "\n",
        "# Importamos GridSearchCV para realizar búsqueda de hiper-parámetros.\n",
        "from sklearn.model_selection import GridSearchCV\n",
        "\n",
        "# StandardScaler para escalar los datos.\n",
        "from sklearn.preprocessing import StandardScaler\n",
        "\n",
        "cv = StratifiedKFold(n_splits=5)\n",
        "\n",
        "# Creamos un diccionario con los parámetros que vamos a probar.\n",
        "parametros = {\n",
        "    'AdaBoost': {\n",
        "        'model__n_estimators': [50, 100, 200],\n",
        "        'model__learning_rate': [0.1, 0.5, 1.0],\n",
        "    },\n",
        "    'Gradient Boosting': {\n",
        "        'model__n_estimators': [50, 100, 200],\n",
        "        'model__learning_rate': [0.1, 0.5, 1.0],\n",
        "        'model__max_depth': [3, 5, 7],\n",
        "    },\n",
        "    'XGBoost': {\n",
        "        'model__n_estimators': [50, 100, 200],\n",
        "        'model__learning_rate': [0.1, 0.5, 1.0],\n",
        "        'model__max_depth': [3, 5, 7],\n",
        "    },\n",
        "    'LightGBM': {\n",
        "        'model__n_estimators': [50, 100, 200],\n",
        "        'model__learning_rate': [0.1, 0.5, 1.0],\n",
        "        'model__max_depth': [3, 5, 7],\n",
        "    }\n",
        "}\n",
        "\n",
        "modelos_ajustados = {}\n",
        "\n",
        "# Creamos una función para evaluar y ajustar los modelos.\n",
        "def ajustar_evaluar_modelos(modelos, parametros, X_train, y_train, X_test, y_test, cv):\n",
        "    # Creamos un diccionario para guardar los resultados.\n",
        "    resultados = {}\n",
        "\n",
        "    # Iteramos sobre los modelos.\n",
        "    for nombre_modelo, modelo in modelos.items():\n",
        "        #print(f'Evaluando modelo: {nombre_modelo}')\n",
        "\n",
        "        # Definimos el pipeline.\n",
        "        pipeline = Pipeline([\n",
        "            ('scaler', StandardScaler()),\n",
        "            ('model', modelo)\n",
        "        ])\n",
        "\n",
        "        # Definimos la búsqueda por grid search con validación cruzada.\n",
        "        grid = GridSearchCV(\n",
        "            pipeline,\n",
        "            parametros[nombre_modelo],\n",
        "            cv=cv,\n",
        "            scoring='balanced_accuracy',\n",
        "            n_jobs=-1,\n",
        "            verbose=1\n",
        "        )\n",
        "\n",
        "        # Entrenamos el modelo.\n",
        "        if nombre_modelo == 'AdaBoost':\n",
        "            start = time.time()\n",
        "            grid.fit(X_train, y_train, model__sample_weight=sample_weights)\n",
        "            end = time.time()\n",
        "        elif nombre_modelo == 'Gradient Boosting':\n",
        "            start = time.time()\n",
        "            grid.fit(X_train, y_train, model__sample_weight=weights)\n",
        "            end = time.time()\n",
        "        else:\n",
        "            start = time.time()\n",
        "            grid.fit(X_train, y_train)\n",
        "            end = time.time()\n",
        "\n",
        "        tiempo = end - start     \n",
        "\n",
        "        # Predecimos sobre el conjunto de test.\n",
        "        y_pred = grid.predict(X_test)\n",
        "\n",
        "        # Calculamos las métricas.\n",
        "        balanced_accuracy = balanced_accuracy_score(y_test, y_pred)\n",
        "        f1 = f1_score(y_test, y_pred)\n",
        "        conf_matrix = confusion_matrix(y_test, y_pred)\n",
        "\n",
        "        # Guardamos los resultados.\n",
        "        resultados[nombre_modelo] = {\n",
        "            'tiempo': tiempo,\n",
        "            'model': grid.best_estimator_,\n",
        "            'best_params': grid.best_params_,\n",
        "            'balanced_accuracy': balanced_accuracy,\n",
        "            'f1': f1,\n",
        "            'confusion_matrix': conf_matrix\n",
        "        }\n",
        "\n",
        "    return resultados\n",
        "\n",
        "\n",
        "print('\\n[bold yellow]Boosting con ajuste de hiper-parámetros[/bold yellow]')\n",
        "\n",
        "# Evaluamos los modelos con ajuste de hiperparámetros.\n",
        "resultados_ajuste = ajustar_evaluar_modelos(modelos, parametros, X_train, y_train, X_test, y_test, cv)\n",
        "\n",
        "# Mostramos los resultados.\n",
        "for nombre_modelo, resultado in resultados_ajuste.items():\n",
        "    print(f'[blue]Modelo: {nombre_modelo}[/blue]')\n",
        "    print(f'Parámetros: {resultado[\"best_params\"]}')\n",
        "    print(f'Tiempo de ejecución: {resultado[\"tiempo\"]:.5f} segundos')\n",
        "    print(f'Balanced accuracy: {resultado[\"balanced_accuracy\"]:.4f}')\n",
        "    print(f'F1: {resultado[\"f1\"]:.4f}')\n",
        "    print(f'Confusion matrix:\\n{resultado[\"confusion_matrix\"]}\\n')"
      ],
      "metadata": {
        "colab": {
          "base_uri": "https://localhost:8080/",
          "height": 678
        },
        "id": "S7KEETR80B0T",
        "outputId": "3adb47a0-9c41-4114-ca5f-f18e5f04c7ef"
      },
      "execution_count": null,
      "outputs": [
        {
          "output_type": "display_data",
          "data": {
            "text/plain": [
              "\n",
              "\u001b[1;33mBoosting con ajuste de hiper-parámetros\u001b[0m\n"
            ],
            "text/html": [
              "<pre style=\"white-space:pre;overflow-x:auto;line-height:normal;font-family:Menlo,'DejaVu Sans Mono',consolas,'Courier New',monospace\">\n",
              "<span style=\"color: #808000; text-decoration-color: #808000; font-weight: bold\">Boosting con ajuste de hiper-parámetros</span>\n",
              "</pre>\n"
            ]
          },
          "metadata": {}
        },
        {
          "output_type": "stream",
          "name": "stdout",
          "text": [
            "Fitting 5 folds for each of 9 candidates, totalling 45 fits\n",
            "Fitting 5 folds for each of 27 candidates, totalling 135 fits\n",
            "Fitting 5 folds for each of 27 candidates, totalling 135 fits\n",
            "Fitting 5 folds for each of 27 candidates, totalling 135 fits\n"
          ]
        },
        {
          "output_type": "display_data",
          "data": {
            "text/plain": [
              "\u001b[34mModelo: AdaBoost\u001b[0m\n"
            ],
            "text/html": [
              "<pre style=\"white-space:pre;overflow-x:auto;line-height:normal;font-family:Menlo,'DejaVu Sans Mono',consolas,'Courier New',monospace\"><span style=\"color: #000080; text-decoration-color: #000080\">Modelo: AdaBoost</span>\n",
              "</pre>\n"
            ]
          },
          "metadata": {}
        },
        {
          "output_type": "display_data",
          "data": {
            "text/plain": [
              "Parámetros: \u001b[1m{\u001b[0m\u001b[32m'model__learning_rate'\u001b[0m: \u001b[1;36m0.5\u001b[0m, \u001b[32m'model__n_estimators'\u001b[0m: \u001b[1;36m200\u001b[0m\u001b[1m}\u001b[0m\n"
            ],
            "text/html": [
              "<pre style=\"white-space:pre;overflow-x:auto;line-height:normal;font-family:Menlo,'DejaVu Sans Mono',consolas,'Courier New',monospace\">Parámetros: <span style=\"font-weight: bold\">{</span><span style=\"color: #008000; text-decoration-color: #008000\">'model__learning_rate'</span>: <span style=\"color: #008080; text-decoration-color: #008080; font-weight: bold\">0.5</span>, <span style=\"color: #008000; text-decoration-color: #008000\">'model__n_estimators'</span>: <span style=\"color: #008080; text-decoration-color: #008080; font-weight: bold\">200</span><span style=\"font-weight: bold\">}</span>\n",
              "</pre>\n"
            ]
          },
          "metadata": {}
        },
        {
          "output_type": "display_data",
          "data": {
            "text/plain": [
              "Tiempo de ejecución: \u001b[1;36m27.89228\u001b[0m segundos\n"
            ],
            "text/html": [
              "<pre style=\"white-space:pre;overflow-x:auto;line-height:normal;font-family:Menlo,'DejaVu Sans Mono',consolas,'Courier New',monospace\">Tiempo de ejecución: <span style=\"color: #008080; text-decoration-color: #008080; font-weight: bold\">27.89228</span> segundos\n",
              "</pre>\n"
            ]
          },
          "metadata": {}
        },
        {
          "output_type": "display_data",
          "data": {
            "text/plain": [
              "Balanced accuracy: \u001b[1;36m0.7501\u001b[0m\n"
            ],
            "text/html": [
              "<pre style=\"white-space:pre;overflow-x:auto;line-height:normal;font-family:Menlo,'DejaVu Sans Mono',consolas,'Courier New',monospace\">Balanced accuracy: <span style=\"color: #008080; text-decoration-color: #008080; font-weight: bold\">0.7501</span>\n",
              "</pre>\n"
            ]
          },
          "metadata": {}
        },
        {
          "output_type": "display_data",
          "data": {
            "text/plain": [
              "F1: \u001b[1;36m0.5089\u001b[0m\n"
            ],
            "text/html": [
              "<pre style=\"white-space:pre;overflow-x:auto;line-height:normal;font-family:Menlo,'DejaVu Sans Mono',consolas,'Courier New',monospace\">F1: <span style=\"color: #008080; text-decoration-color: #008080; font-weight: bold\">0.5089</span>\n",
              "</pre>\n"
            ]
          },
          "metadata": {}
        },
        {
          "output_type": "display_data",
          "data": {
            "text/plain": [
              "Confusion matrix:\n",
              "\u001b[1m[\u001b[0m\u001b[1m[\u001b[0m\u001b[1;36m589\u001b[0m \u001b[1;36m151\u001b[0m\u001b[1m]\u001b[0m\n",
              " \u001b[1m[\u001b[0m \u001b[1;36m42\u001b[0m \u001b[1;36m100\u001b[0m\u001b[1m]\u001b[0m\u001b[1m]\u001b[0m\n",
              "\n"
            ],
            "text/html": [
              "<pre style=\"white-space:pre;overflow-x:auto;line-height:normal;font-family:Menlo,'DejaVu Sans Mono',consolas,'Courier New',monospace\">Confusion matrix:\n",
              "<span style=\"font-weight: bold\">[[</span><span style=\"color: #008080; text-decoration-color: #008080; font-weight: bold\">589</span> <span style=\"color: #008080; text-decoration-color: #008080; font-weight: bold\">151</span><span style=\"font-weight: bold\">]</span>\n",
              " <span style=\"font-weight: bold\">[</span> <span style=\"color: #008080; text-decoration-color: #008080; font-weight: bold\">42</span> <span style=\"color: #008080; text-decoration-color: #008080; font-weight: bold\">100</span><span style=\"font-weight: bold\">]]</span>\n",
              "\n",
              "</pre>\n"
            ]
          },
          "metadata": {}
        },
        {
          "output_type": "display_data",
          "data": {
            "text/plain": [
              "\u001b[34mModelo: Gradient Boosting\u001b[0m\n"
            ],
            "text/html": [
              "<pre style=\"white-space:pre;overflow-x:auto;line-height:normal;font-family:Menlo,'DejaVu Sans Mono',consolas,'Courier New',monospace\"><span style=\"color: #000080; text-decoration-color: #000080\">Modelo: Gradient Boosting</span>\n",
              "</pre>\n"
            ]
          },
          "metadata": {}
        },
        {
          "output_type": "display_data",
          "data": {
            "text/plain": [
              "Parámetros: \u001b[1m{\u001b[0m\u001b[32m'model__learning_rate'\u001b[0m: \u001b[1;36m0.5\u001b[0m, \u001b[32m'model__max_depth'\u001b[0m: \u001b[1;36m5\u001b[0m, \u001b[32m'model__n_estimators'\u001b[0m: \u001b[1;36m200\u001b[0m\u001b[1m}\u001b[0m\n"
            ],
            "text/html": [
              "<pre style=\"white-space:pre;overflow-x:auto;line-height:normal;font-family:Menlo,'DejaVu Sans Mono',consolas,'Courier New',monospace\">Parámetros: <span style=\"font-weight: bold\">{</span><span style=\"color: #008000; text-decoration-color: #008000\">'model__learning_rate'</span>: <span style=\"color: #008080; text-decoration-color: #008080; font-weight: bold\">0.5</span>, <span style=\"color: #008000; text-decoration-color: #008000\">'model__max_depth'</span>: <span style=\"color: #008080; text-decoration-color: #008080; font-weight: bold\">5</span>, <span style=\"color: #008000; text-decoration-color: #008000\">'model__n_estimators'</span>: <span style=\"color: #008080; text-decoration-color: #008080; font-weight: bold\">200</span><span style=\"font-weight: bold\">}</span>\n",
              "</pre>\n"
            ]
          },
          "metadata": {}
        },
        {
          "output_type": "display_data",
          "data": {
            "text/plain": [
              "Tiempo de ejecución: \u001b[1;36m193.70659\u001b[0m segundos\n"
            ],
            "text/html": [
              "<pre style=\"white-space:pre;overflow-x:auto;line-height:normal;font-family:Menlo,'DejaVu Sans Mono',consolas,'Courier New',monospace\">Tiempo de ejecución: <span style=\"color: #008080; text-decoration-color: #008080; font-weight: bold\">193.70659</span> segundos\n",
              "</pre>\n"
            ]
          },
          "metadata": {}
        },
        {
          "output_type": "display_data",
          "data": {
            "text/plain": [
              "Balanced accuracy: \u001b[1;36m0.9052\u001b[0m\n"
            ],
            "text/html": [
              "<pre style=\"white-space:pre;overflow-x:auto;line-height:normal;font-family:Menlo,'DejaVu Sans Mono',consolas,'Courier New',monospace\">Balanced accuracy: <span style=\"color: #008080; text-decoration-color: #008080; font-weight: bold\">0.9052</span>\n",
              "</pre>\n"
            ]
          },
          "metadata": {}
        },
        {
          "output_type": "display_data",
          "data": {
            "text/plain": [
              "F1: \u001b[1;36m0.8699\u001b[0m\n"
            ],
            "text/html": [
              "<pre style=\"white-space:pre;overflow-x:auto;line-height:normal;font-family:Menlo,'DejaVu Sans Mono',consolas,'Courier New',monospace\">F1: <span style=\"color: #008080; text-decoration-color: #008080; font-weight: bold\">0.8699</span>\n",
              "</pre>\n"
            ]
          },
          "metadata": {}
        },
        {
          "output_type": "display_data",
          "data": {
            "text/plain": [
              "Confusion matrix:\n",
              "\u001b[1m[\u001b[0m\u001b[1m[\u001b[0m\u001b[1;36m730\u001b[0m  \u001b[1;36m10\u001b[0m\u001b[1m]\u001b[0m\n",
              " \u001b[1m[\u001b[0m \u001b[1;36m25\u001b[0m \u001b[1;36m117\u001b[0m\u001b[1m]\u001b[0m\u001b[1m]\u001b[0m\n",
              "\n"
            ],
            "text/html": [
              "<pre style=\"white-space:pre;overflow-x:auto;line-height:normal;font-family:Menlo,'DejaVu Sans Mono',consolas,'Courier New',monospace\">Confusion matrix:\n",
              "<span style=\"font-weight: bold\">[[</span><span style=\"color: #008080; text-decoration-color: #008080; font-weight: bold\">730</span>  <span style=\"color: #008080; text-decoration-color: #008080; font-weight: bold\">10</span><span style=\"font-weight: bold\">]</span>\n",
              " <span style=\"font-weight: bold\">[</span> <span style=\"color: #008080; text-decoration-color: #008080; font-weight: bold\">25</span> <span style=\"color: #008080; text-decoration-color: #008080; font-weight: bold\">117</span><span style=\"font-weight: bold\">]]</span>\n",
              "\n",
              "</pre>\n"
            ]
          },
          "metadata": {}
        },
        {
          "output_type": "display_data",
          "data": {
            "text/plain": [
              "\u001b[34mModelo: XGBoost\u001b[0m\n"
            ],
            "text/html": [
              "<pre style=\"white-space:pre;overflow-x:auto;line-height:normal;font-family:Menlo,'DejaVu Sans Mono',consolas,'Courier New',monospace\"><span style=\"color: #000080; text-decoration-color: #000080\">Modelo: XGBoost</span>\n",
              "</pre>\n"
            ]
          },
          "metadata": {}
        },
        {
          "output_type": "display_data",
          "data": {
            "text/plain": [
              "Parámetros: \u001b[1m{\u001b[0m\u001b[32m'model__learning_rate'\u001b[0m: \u001b[1;36m0.1\u001b[0m, \u001b[32m'model__max_depth'\u001b[0m: \u001b[1;36m5\u001b[0m, \u001b[32m'model__n_estimators'\u001b[0m: \u001b[1;36m200\u001b[0m\u001b[1m}\u001b[0m\n"
            ],
            "text/html": [
              "<pre style=\"white-space:pre;overflow-x:auto;line-height:normal;font-family:Menlo,'DejaVu Sans Mono',consolas,'Courier New',monospace\">Parámetros: <span style=\"font-weight: bold\">{</span><span style=\"color: #008000; text-decoration-color: #008000\">'model__learning_rate'</span>: <span style=\"color: #008080; text-decoration-color: #008080; font-weight: bold\">0.1</span>, <span style=\"color: #008000; text-decoration-color: #008000\">'model__max_depth'</span>: <span style=\"color: #008080; text-decoration-color: #008080; font-weight: bold\">5</span>, <span style=\"color: #008000; text-decoration-color: #008000\">'model__n_estimators'</span>: <span style=\"color: #008080; text-decoration-color: #008080; font-weight: bold\">200</span><span style=\"font-weight: bold\">}</span>\n",
              "</pre>\n"
            ]
          },
          "metadata": {}
        },
        {
          "output_type": "display_data",
          "data": {
            "text/plain": [
              "Tiempo de ejecución: \u001b[1;36m102.86112\u001b[0m segundos\n"
            ],
            "text/html": [
              "<pre style=\"white-space:pre;overflow-x:auto;line-height:normal;font-family:Menlo,'DejaVu Sans Mono',consolas,'Courier New',monospace\">Tiempo de ejecución: <span style=\"color: #008080; text-decoration-color: #008080; font-weight: bold\">102.86112</span> segundos\n",
              "</pre>\n"
            ]
          },
          "metadata": {}
        },
        {
          "output_type": "display_data",
          "data": {
            "text/plain": [
              "Balanced accuracy: \u001b[1;36m0.8748\u001b[0m\n"
            ],
            "text/html": [
              "<pre style=\"white-space:pre;overflow-x:auto;line-height:normal;font-family:Menlo,'DejaVu Sans Mono',consolas,'Courier New',monospace\">Balanced accuracy: <span style=\"color: #008080; text-decoration-color: #008080; font-weight: bold\">0.8748</span>\n",
              "</pre>\n"
            ]
          },
          "metadata": {}
        },
        {
          "output_type": "display_data",
          "data": {
            "text/plain": [
              "F1: \u001b[1;36m0.7915\u001b[0m\n"
            ],
            "text/html": [
              "<pre style=\"white-space:pre;overflow-x:auto;line-height:normal;font-family:Menlo,'DejaVu Sans Mono',consolas,'Courier New',monospace\">F1: <span style=\"color: #008080; text-decoration-color: #008080; font-weight: bold\">0.7915</span>\n",
              "</pre>\n"
            ]
          },
          "metadata": {}
        },
        {
          "output_type": "display_data",
          "data": {
            "text/plain": [
              "Confusion matrix:\n",
              "\u001b[1m[\u001b[0m\u001b[1m[\u001b[0m\u001b[1;36m711\u001b[0m  \u001b[1;36m29\u001b[0m\u001b[1m]\u001b[0m\n",
              " \u001b[1m[\u001b[0m \u001b[1;36m30\u001b[0m \u001b[1;36m112\u001b[0m\u001b[1m]\u001b[0m\u001b[1m]\u001b[0m\n",
              "\n"
            ],
            "text/html": [
              "<pre style=\"white-space:pre;overflow-x:auto;line-height:normal;font-family:Menlo,'DejaVu Sans Mono',consolas,'Courier New',monospace\">Confusion matrix:\n",
              "<span style=\"font-weight: bold\">[[</span><span style=\"color: #008080; text-decoration-color: #008080; font-weight: bold\">711</span>  <span style=\"color: #008080; text-decoration-color: #008080; font-weight: bold\">29</span><span style=\"font-weight: bold\">]</span>\n",
              " <span style=\"font-weight: bold\">[</span> <span style=\"color: #008080; text-decoration-color: #008080; font-weight: bold\">30</span> <span style=\"color: #008080; text-decoration-color: #008080; font-weight: bold\">112</span><span style=\"font-weight: bold\">]]</span>\n",
              "\n",
              "</pre>\n"
            ]
          },
          "metadata": {}
        },
        {
          "output_type": "display_data",
          "data": {
            "text/plain": [
              "\u001b[34mModelo: LightGBM\u001b[0m\n"
            ],
            "text/html": [
              "<pre style=\"white-space:pre;overflow-x:auto;line-height:normal;font-family:Menlo,'DejaVu Sans Mono',consolas,'Courier New',monospace\"><span style=\"color: #000080; text-decoration-color: #000080\">Modelo: LightGBM</span>\n",
              "</pre>\n"
            ]
          },
          "metadata": {}
        },
        {
          "output_type": "display_data",
          "data": {
            "text/plain": [
              "Parámetros: \u001b[1m{\u001b[0m\u001b[32m'model__learning_rate'\u001b[0m: \u001b[1;36m0.1\u001b[0m, \u001b[32m'model__max_depth'\u001b[0m: \u001b[1;36m7\u001b[0m, \u001b[32m'model__n_estimators'\u001b[0m: \u001b[1;36m200\u001b[0m\u001b[1m}\u001b[0m\n"
            ],
            "text/html": [
              "<pre style=\"white-space:pre;overflow-x:auto;line-height:normal;font-family:Menlo,'DejaVu Sans Mono',consolas,'Courier New',monospace\">Parámetros: <span style=\"font-weight: bold\">{</span><span style=\"color: #008000; text-decoration-color: #008000\">'model__learning_rate'</span>: <span style=\"color: #008080; text-decoration-color: #008080; font-weight: bold\">0.1</span>, <span style=\"color: #008000; text-decoration-color: #008000\">'model__max_depth'</span>: <span style=\"color: #008080; text-decoration-color: #008080; font-weight: bold\">7</span>, <span style=\"color: #008000; text-decoration-color: #008000\">'model__n_estimators'</span>: <span style=\"color: #008080; text-decoration-color: #008080; font-weight: bold\">200</span><span style=\"font-weight: bold\">}</span>\n",
              "</pre>\n"
            ]
          },
          "metadata": {}
        },
        {
          "output_type": "display_data",
          "data": {
            "text/plain": [
              "Tiempo de ejecución: \u001b[1;36m19.23025\u001b[0m segundos\n"
            ],
            "text/html": [
              "<pre style=\"white-space:pre;overflow-x:auto;line-height:normal;font-family:Menlo,'DejaVu Sans Mono',consolas,'Courier New',monospace\">Tiempo de ejecución: <span style=\"color: #008080; text-decoration-color: #008080; font-weight: bold\">19.23025</span> segundos\n",
              "</pre>\n"
            ]
          },
          "metadata": {}
        },
        {
          "output_type": "display_data",
          "data": {
            "text/plain": [
              "Balanced accuracy: \u001b[1;36m0.8827\u001b[0m\n"
            ],
            "text/html": [
              "<pre style=\"white-space:pre;overflow-x:auto;line-height:normal;font-family:Menlo,'DejaVu Sans Mono',consolas,'Courier New',monospace\">Balanced accuracy: <span style=\"color: #008080; text-decoration-color: #008080; font-weight: bold\">0.8827</span>\n",
              "</pre>\n"
            ]
          },
          "metadata": {}
        },
        {
          "output_type": "display_data",
          "data": {
            "text/plain": [
              "F1: \u001b[1;36m0.8377\u001b[0m\n"
            ],
            "text/html": [
              "<pre style=\"white-space:pre;overflow-x:auto;line-height:normal;font-family:Menlo,'DejaVu Sans Mono',consolas,'Courier New',monospace\">F1: <span style=\"color: #008080; text-decoration-color: #008080; font-weight: bold\">0.8377</span>\n",
              "</pre>\n"
            ]
          },
          "metadata": {}
        },
        {
          "output_type": "display_data",
          "data": {
            "text/plain": [
              "Confusion matrix:\n",
              "\u001b[1m[\u001b[0m\u001b[1m[\u001b[0m\u001b[1;36m728\u001b[0m  \u001b[1;36m12\u001b[0m\u001b[1m]\u001b[0m\n",
              " \u001b[1m[\u001b[0m \u001b[1;36m31\u001b[0m \u001b[1;36m111\u001b[0m\u001b[1m]\u001b[0m\u001b[1m]\u001b[0m\n",
              "\n"
            ],
            "text/html": [
              "<pre style=\"white-space:pre;overflow-x:auto;line-height:normal;font-family:Menlo,'DejaVu Sans Mono',consolas,'Courier New',monospace\">Confusion matrix:\n",
              "<span style=\"font-weight: bold\">[[</span><span style=\"color: #008080; text-decoration-color: #008080; font-weight: bold\">728</span>  <span style=\"color: #008080; text-decoration-color: #008080; font-weight: bold\">12</span><span style=\"font-weight: bold\">]</span>\n",
              " <span style=\"font-weight: bold\">[</span> <span style=\"color: #008080; text-decoration-color: #008080; font-weight: bold\">31</span> <span style=\"color: #008080; text-decoration-color: #008080; font-weight: bold\">111</span><span style=\"font-weight: bold\">]]</span>\n",
              "\n",
              "</pre>\n"
            ]
          },
          "metadata": {}
        }
      ]
    },
    {
      "cell_type": "code",
      "source": [
        "# Speedup del modelo vs dummy.\n",
        "for nombre_modelo, resultado in resultados_ajuste.items():\n",
        "    print(f'\\nRatio Tiempo de entrenamiento {nombre_modelo} / dummy: {resultado[\"tiempo\"] / tiempo_dummy:.4f}')\n",
        "    print(f'Ratio Balanced accuracy {nombre_modelo} / dummy: {resultado[\"balanced_accuracy\"] / balanced_accuracy_dummy:.4f}\\n')"
      ],
      "metadata": {
        "id": "zoGxPWJrS8ld",
        "outputId": "9fd392b8-2414-4c5e-a634-62a61cb39c81",
        "colab": {
          "base_uri": "https://localhost:8080/",
          "height": 209
        }
      },
      "execution_count": null,
      "outputs": [
        {
          "output_type": "display_data",
          "data": {
            "text/plain": [
              "\n",
              "Ratio Tiempo de entrenamiento AdaBoost \u001b[35m/\u001b[0m dummy: \u001b[1;36m28519.9210\u001b[0m\n"
            ],
            "text/html": [
              "<pre style=\"white-space:pre;overflow-x:auto;line-height:normal;font-family:Menlo,'DejaVu Sans Mono',consolas,'Courier New',monospace\">\n",
              "Ratio Tiempo de entrenamiento AdaBoost <span style=\"color: #800080; text-decoration-color: #800080\">/</span> dummy: <span style=\"color: #008080; text-decoration-color: #008080; font-weight: bold\">28519.9210</span>\n",
              "</pre>\n"
            ]
          },
          "metadata": {}
        },
        {
          "output_type": "display_data",
          "data": {
            "text/plain": [
              "Ratio Balanced accuracy AdaBoost \u001b[35m/\u001b[0m dummy: \u001b[1;36m1.5002\u001b[0m\n",
              "\n"
            ],
            "text/html": [
              "<pre style=\"white-space:pre;overflow-x:auto;line-height:normal;font-family:Menlo,'DejaVu Sans Mono',consolas,'Courier New',monospace\">Ratio Balanced accuracy AdaBoost <span style=\"color: #800080; text-decoration-color: #800080\">/</span> dummy: <span style=\"color: #008080; text-decoration-color: #008080; font-weight: bold\">1.5002</span>\n",
              "\n",
              "</pre>\n"
            ]
          },
          "metadata": {}
        },
        {
          "output_type": "display_data",
          "data": {
            "text/plain": [
              "\n",
              "Ratio Tiempo de entrenamiento Gradient Boosting \u001b[35m/\u001b[0m dummy: \u001b[1;36m198065.4120\u001b[0m\n"
            ],
            "text/html": [
              "<pre style=\"white-space:pre;overflow-x:auto;line-height:normal;font-family:Menlo,'DejaVu Sans Mono',consolas,'Courier New',monospace\">\n",
              "Ratio Tiempo de entrenamiento Gradient Boosting <span style=\"color: #800080; text-decoration-color: #800080\">/</span> dummy: <span style=\"color: #008080; text-decoration-color: #008080; font-weight: bold\">198065.4120</span>\n",
              "</pre>\n"
            ]
          },
          "metadata": {}
        },
        {
          "output_type": "display_data",
          "data": {
            "text/plain": [
              "Ratio Balanced accuracy Gradient Boosting \u001b[35m/\u001b[0m dummy: \u001b[1;36m1.8104\u001b[0m\n",
              "\n"
            ],
            "text/html": [
              "<pre style=\"white-space:pre;overflow-x:auto;line-height:normal;font-family:Menlo,'DejaVu Sans Mono',consolas,'Courier New',monospace\">Ratio Balanced accuracy Gradient Boosting <span style=\"color: #800080; text-decoration-color: #800080\">/</span> dummy: <span style=\"color: #008080; text-decoration-color: #008080; font-weight: bold\">1.8104</span>\n",
              "\n",
              "</pre>\n"
            ]
          },
          "metadata": {}
        },
        {
          "output_type": "display_data",
          "data": {
            "text/plain": [
              "\n",
              "Ratio Tiempo de entrenamiento XGBoost \u001b[35m/\u001b[0m dummy: \u001b[1;36m105175.7209\u001b[0m\n"
            ],
            "text/html": [
              "<pre style=\"white-space:pre;overflow-x:auto;line-height:normal;font-family:Menlo,'DejaVu Sans Mono',consolas,'Courier New',monospace\">\n",
              "Ratio Tiempo de entrenamiento XGBoost <span style=\"color: #800080; text-decoration-color: #800080\">/</span> dummy: <span style=\"color: #008080; text-decoration-color: #008080; font-weight: bold\">105175.7209</span>\n",
              "</pre>\n"
            ]
          },
          "metadata": {}
        },
        {
          "output_type": "display_data",
          "data": {
            "text/plain": [
              "Ratio Balanced accuracy XGBoost \u001b[35m/\u001b[0m dummy: \u001b[1;36m1.7495\u001b[0m\n",
              "\n"
            ],
            "text/html": [
              "<pre style=\"white-space:pre;overflow-x:auto;line-height:normal;font-family:Menlo,'DejaVu Sans Mono',consolas,'Courier New',monospace\">Ratio Balanced accuracy XGBoost <span style=\"color: #800080; text-decoration-color: #800080\">/</span> dummy: <span style=\"color: #008080; text-decoration-color: #008080; font-weight: bold\">1.7495</span>\n",
              "\n",
              "</pre>\n"
            ]
          },
          "metadata": {}
        },
        {
          "output_type": "display_data",
          "data": {
            "text/plain": [
              "\n",
              "Ratio Tiempo de entrenamiento LightGBM \u001b[35m/\u001b[0m dummy: \u001b[1;36m19662.9722\u001b[0m\n"
            ],
            "text/html": [
              "<pre style=\"white-space:pre;overflow-x:auto;line-height:normal;font-family:Menlo,'DejaVu Sans Mono',consolas,'Courier New',monospace\">\n",
              "Ratio Tiempo de entrenamiento LightGBM <span style=\"color: #800080; text-decoration-color: #800080\">/</span> dummy: <span style=\"color: #008080; text-decoration-color: #008080; font-weight: bold\">19662.9722</span>\n",
              "</pre>\n"
            ]
          },
          "metadata": {}
        },
        {
          "output_type": "display_data",
          "data": {
            "text/plain": [
              "Ratio Balanced accuracy LightGBM \u001b[35m/\u001b[0m dummy: \u001b[1;36m1.7655\u001b[0m\n",
              "\n"
            ],
            "text/html": [
              "<pre style=\"white-space:pre;overflow-x:auto;line-height:normal;font-family:Menlo,'DejaVu Sans Mono',consolas,'Courier New',monospace\">Ratio Balanced accuracy LightGBM <span style=\"color: #800080; text-decoration-color: #800080\">/</span> dummy: <span style=\"color: #008080; text-decoration-color: #008080; font-weight: bold\">1.7655</span>\n",
              "\n",
              "</pre>\n"
            ]
          },
          "metadata": {}
        }
      ]
    },
    {
      "cell_type": "markdown",
      "source": [
        "En base a los resultados obtenidos, se observa que el tiempo de entrenamiento de estos modelos es significativamente mayor que el del modelo DummyClassifier. En términos de precisión equilibrada, Gradient Boosting y LightGBM superan a los demás modelos, pero a costa de un tiempo de entrenamiento mucho mayor. Si se considera el tiempo de entrenamiento como una limitación importante, entonces AdaBoost y XGBoost son las mejores opciones.\n",
        "\n",
        "Por ejemplo, en el caso de Ratio Tiempo de entrenamiento AdaBoost / dummy: 28519.9210 y Ratio Balanced accuracy AdaBoost / dummy: 1.5002, AdaBoost tarda más de 28 mil veces más en entrenarse que el modelo DummyClassifier, pero logra una mejora del 150% en la precisión equilibrada. Es importante tener en cuenta que los resultados pueden variar dependiendo de los datos y el problema específico en cuestión.\n",
        "\n",
        "\n",
        "En términos de precisión, el modelo que obtuvo el mejor desempeño fue Gradient Boosting, con un ratio Balanced accuracy dummy / Gradient Boosting de 1.6011 en el primer escenario y 1.8104 en el segundo. Además, en el segundo escenario, Gradient Boosting fue el modelo más rápido en términos de tiempo de entrenamiento en relación al modelo DummyClassifier."
      ],
      "metadata": {
        "id": "KvW8L13ma6S-"
      }
    },
    {
      "cell_type": "code",
      "source": [
        "# Speedup del modelo ajustado y sin ajustar.\n",
        "for nombre_modelo, resultado in resultados_ajuste.items():\n",
        "    print(f'\\nRatio Tiempo de entrenamiento {nombre_modelo} / {nombre_modelo} sin ajustar: {resultado[\"tiempo\"] / resultados[nombre_modelo][\"tiempo\"]:.4f}')\n",
        "    print(f'Ratio Balanced accuracy {nombre_modelo} / {nombre_modelo} sin ajustar: {resultado[\"balanced_accuracy\"] / resultados[nombre_modelo][\"balanced_accuracy\"]:.4f}')\n",
        "    print(f'Ratio F1 {nombre_modelo} / {nombre_modelo} sin ajustar: {resultado[\"f1\"] / resultados[nombre_modelo][\"f1\"]:.4f}\\n')"
      ],
      "metadata": {
        "id": "ozFXR4--dHtP",
        "outputId": "0b0e6b95-f6a1-49e2-9d6a-4582dbc52943",
        "colab": {
          "base_uri": "https://localhost:8080/",
          "height": 273
        }
      },
      "execution_count": null,
      "outputs": [
        {
          "output_type": "display_data",
          "data": {
            "text/plain": [
              "\n",
              "Ratio Tiempo de entrenamiento AdaBoost \u001b[35m/\u001b[0m AdaBoost sin ajustar: \u001b[1;36m51.6886\u001b[0m\n"
            ],
            "text/html": [
              "<pre style=\"white-space:pre;overflow-x:auto;line-height:normal;font-family:Menlo,'DejaVu Sans Mono',consolas,'Courier New',monospace\">\n",
              "Ratio Tiempo de entrenamiento AdaBoost <span style=\"color: #800080; text-decoration-color: #800080\">/</span> AdaBoost sin ajustar: <span style=\"color: #008080; text-decoration-color: #008080; font-weight: bold\">51.6886</span>\n",
              "</pre>\n"
            ]
          },
          "metadata": {}
        },
        {
          "output_type": "display_data",
          "data": {
            "text/plain": [
              "Ratio Balanced accuracy AdaBoost \u001b[35m/\u001b[0m AdaBoost sin ajustar: \u001b[1;36m1.0082\u001b[0m\n"
            ],
            "text/html": [
              "<pre style=\"white-space:pre;overflow-x:auto;line-height:normal;font-family:Menlo,'DejaVu Sans Mono',consolas,'Courier New',monospace\">Ratio Balanced accuracy AdaBoost <span style=\"color: #800080; text-decoration-color: #800080\">/</span> AdaBoost sin ajustar: <span style=\"color: #008080; text-decoration-color: #008080; font-weight: bold\">1.0082</span>\n",
              "</pre>\n"
            ]
          },
          "metadata": {}
        },
        {
          "output_type": "display_data",
          "data": {
            "text/plain": [
              "Ratio F1 AdaBoost \u001b[35m/\u001b[0m AdaBoost sin ajustar: \u001b[1;36m1.0229\u001b[0m\n",
              "\n"
            ],
            "text/html": [
              "<pre style=\"white-space:pre;overflow-x:auto;line-height:normal;font-family:Menlo,'DejaVu Sans Mono',consolas,'Courier New',monospace\">Ratio F1 AdaBoost <span style=\"color: #800080; text-decoration-color: #800080\">/</span> AdaBoost sin ajustar: <span style=\"color: #008080; text-decoration-color: #008080; font-weight: bold\">1.0229</span>\n",
              "\n",
              "</pre>\n"
            ]
          },
          "metadata": {}
        },
        {
          "output_type": "display_data",
          "data": {
            "text/plain": [
              "\n",
              "Ratio Tiempo de entrenamiento Gradient Boosting \u001b[35m/\u001b[0m Gradient Boosting sin ajustar: \u001b[1;36m172.8124\u001b[0m\n"
            ],
            "text/html": [
              "<pre style=\"white-space:pre;overflow-x:auto;line-height:normal;font-family:Menlo,'DejaVu Sans Mono',consolas,'Courier New',monospace\">\n",
              "Ratio Tiempo de entrenamiento Gradient Boosting <span style=\"color: #800080; text-decoration-color: #800080\">/</span> Gradient Boosting sin ajustar: <span style=\"color: #008080; text-decoration-color: #008080; font-weight: bold\">172.8124</span>\n",
              "</pre>\n"
            ]
          },
          "metadata": {}
        },
        {
          "output_type": "display_data",
          "data": {
            "text/plain": [
              "Ratio Balanced accuracy Gradient Boosting \u001b[35m/\u001b[0m Gradient Boosting sin ajustar: \u001b[1;36m1.1307\u001b[0m\n"
            ],
            "text/html": [
              "<pre style=\"white-space:pre;overflow-x:auto;line-height:normal;font-family:Menlo,'DejaVu Sans Mono',consolas,'Courier New',monospace\">Ratio Balanced accuracy Gradient Boosting <span style=\"color: #800080; text-decoration-color: #800080\">/</span> Gradient Boosting sin ajustar: <span style=\"color: #008080; text-decoration-color: #008080; font-weight: bold\">1.1307</span>\n",
              "</pre>\n"
            ]
          },
          "metadata": {}
        },
        {
          "output_type": "display_data",
          "data": {
            "text/plain": [
              "Ratio F1 Gradient Boosting \u001b[35m/\u001b[0m Gradient Boosting sin ajustar: \u001b[1;36m1.4820\u001b[0m\n",
              "\n"
            ],
            "text/html": [
              "<pre style=\"white-space:pre;overflow-x:auto;line-height:normal;font-family:Menlo,'DejaVu Sans Mono',consolas,'Courier New',monospace\">Ratio F1 Gradient Boosting <span style=\"color: #800080; text-decoration-color: #800080\">/</span> Gradient Boosting sin ajustar: <span style=\"color: #008080; text-decoration-color: #008080; font-weight: bold\">1.4820</span>\n",
              "\n",
              "</pre>\n"
            ]
          },
          "metadata": {}
        },
        {
          "output_type": "display_data",
          "data": {
            "text/plain": [
              "\n",
              "Ratio Tiempo de entrenamiento XGBoost \u001b[35m/\u001b[0m XGBoost sin ajustar: \u001b[1;36m101.8907\u001b[0m\n"
            ],
            "text/html": [
              "<pre style=\"white-space:pre;overflow-x:auto;line-height:normal;font-family:Menlo,'DejaVu Sans Mono',consolas,'Courier New',monospace\">\n",
              "Ratio Tiempo de entrenamiento XGBoost <span style=\"color: #800080; text-decoration-color: #800080\">/</span> XGBoost sin ajustar: <span style=\"color: #008080; text-decoration-color: #008080; font-weight: bold\">101.8907</span>\n",
              "</pre>\n"
            ]
          },
          "metadata": {}
        },
        {
          "output_type": "display_data",
          "data": {
            "text/plain": [
              "Ratio Balanced accuracy XGBoost \u001b[35m/\u001b[0m XGBoost sin ajustar: \u001b[1;36m0.9991\u001b[0m\n"
            ],
            "text/html": [
              "<pre style=\"white-space:pre;overflow-x:auto;line-height:normal;font-family:Menlo,'DejaVu Sans Mono',consolas,'Courier New',monospace\">Ratio Balanced accuracy XGBoost <span style=\"color: #800080; text-decoration-color: #800080\">/</span> XGBoost sin ajustar: <span style=\"color: #008080; text-decoration-color: #008080; font-weight: bold\">0.9991</span>\n",
              "</pre>\n"
            ]
          },
          "metadata": {}
        },
        {
          "output_type": "display_data",
          "data": {
            "text/plain": [
              "Ratio F1 XGBoost \u001b[35m/\u001b[0m XGBoost sin ajustar: \u001b[1;36m0.9418\u001b[0m\n",
              "\n"
            ],
            "text/html": [
              "<pre style=\"white-space:pre;overflow-x:auto;line-height:normal;font-family:Menlo,'DejaVu Sans Mono',consolas,'Courier New',monospace\">Ratio F1 XGBoost <span style=\"color: #800080; text-decoration-color: #800080\">/</span> XGBoost sin ajustar: <span style=\"color: #008080; text-decoration-color: #008080; font-weight: bold\">0.9418</span>\n",
              "\n",
              "</pre>\n"
            ]
          },
          "metadata": {}
        },
        {
          "output_type": "display_data",
          "data": {
            "text/plain": [
              "\n",
              "Ratio Tiempo de entrenamiento LightGBM \u001b[35m/\u001b[0m LightGBM sin ajustar: \u001b[1;36m101.6967\u001b[0m\n"
            ],
            "text/html": [
              "<pre style=\"white-space:pre;overflow-x:auto;line-height:normal;font-family:Menlo,'DejaVu Sans Mono',consolas,'Courier New',monospace\">\n",
              "Ratio Tiempo de entrenamiento LightGBM <span style=\"color: #800080; text-decoration-color: #800080\">/</span> LightGBM sin ajustar: <span style=\"color: #008080; text-decoration-color: #008080; font-weight: bold\">101.6967</span>\n",
              "</pre>\n"
            ]
          },
          "metadata": {}
        },
        {
          "output_type": "display_data",
          "data": {
            "text/plain": [
              "Ratio Balanced accuracy LightGBM \u001b[35m/\u001b[0m LightGBM sin ajustar: \u001b[1;36m1.0124\u001b[0m\n"
            ],
            "text/html": [
              "<pre style=\"white-space:pre;overflow-x:auto;line-height:normal;font-family:Menlo,'DejaVu Sans Mono',consolas,'Courier New',monospace\">Ratio Balanced accuracy LightGBM <span style=\"color: #800080; text-decoration-color: #800080\">/</span> LightGBM sin ajustar: <span style=\"color: #008080; text-decoration-color: #008080; font-weight: bold\">1.0124</span>\n",
              "</pre>\n"
            ]
          },
          "metadata": {}
        },
        {
          "output_type": "display_data",
          "data": {
            "text/plain": [
              "Ratio F1 LightGBM \u001b[35m/\u001b[0m LightGBM sin ajustar: \u001b[1;36m1.0604\u001b[0m\n",
              "\n"
            ],
            "text/html": [
              "<pre style=\"white-space:pre;overflow-x:auto;line-height:normal;font-family:Menlo,'DejaVu Sans Mono',consolas,'Courier New',monospace\">Ratio F1 LightGBM <span style=\"color: #800080; text-decoration-color: #800080\">/</span> LightGBM sin ajustar: <span style=\"color: #008080; text-decoration-color: #008080; font-weight: bold\">1.0604</span>\n",
              "\n",
              "</pre>\n"
            ]
          },
          "metadata": {}
        }
      ]
    },
    {
      "cell_type": "markdown",
      "source": [
        "Podemos obervar que pese a que los tiempos de entrenamiento son altos, el ajuste reulta beneficioso para la mayoría de modelos en cuanto a precisión; siendo XGBoost el único que empeoraligeramente (lo cual se debe deber a que los parametros por omisión son mejores y no estan incluidos en el rango que estamos observando). AdaBoost y LightGBM mejora entre un 1-2% par ambas métricas, por lo que podriamos no considerar no recomendable ajustar estos modelos y usar los parametros por omisión. Es evidente que el número de estimadores es crucial en los modelos, lo cual tiene sentido, pero decidimos no seguir aumentando este número ya que a más numero de estrimadores mayores tiempos obtendremos (y mayores gatos de recursos).\n",
        "\n",
        "Por último, el modelo más preciso es Gradient Boosting, aunque requiere un tiempo significativo tanto para su ajuste y su entrenamiento. Por tanto, si buscamos el método más preciso escogeríamos Gradient Boosting, pero si buscamos una mezcla de precisión y rendimiento escogeríamos LightGBM."
      ],
      "metadata": {
        "id": "gBF2WvuVei06"
      }
    },
    {
      "cell_type": "code",
      "source": [
        "modelos_ajustados=[AdaBoostClassifier(random_state=13, learning_rate=0.5, n_estimators=200),\n",
        "                   GradientBoostingClassifier(random_state=13, learning_rate=0.5, max_depth=5, n_estimators=200),\n",
        "                    XGBClassifier(random_state=13, scale_pos_weight=proporcion),\n",
        "                    LGBMClassifier(random_state=13, learning_rate=0.1, max_depth=7, n_estimators=200, class_weight='balanced')\n",
        "                  ]"
      ],
      "metadata": {
        "id": "uYJYqryK8z7y"
      },
      "execution_count": null,
      "outputs": []
    },
    {
      "cell_type": "markdown",
      "source": [
        "# **Mejora de resultados**"
      ],
      "metadata": {
        "id": "aQI9prJ9dWJt"
      }
    },
    {
      "cell_type": "markdown",
      "source": [
        "## **LogisticRegression**"
      ],
      "metadata": {
        "id": "cn4CsprwvR38"
      }
    },
    {
      "cell_type": "code",
      "source": [
        "# Importamos f_classif, mutual_info_classif y chi2.\n",
        "from sklearn.feature_selection import f_classif, mutual_info_classif, chi2\n",
        "\n",
        "from sklearn.preprocessing import MinMaxScaler\n",
        "\n",
        "# Importamos SelectKBest.\n",
        "from sklearn.feature_selection import SelectKBest\n",
        "\n",
        "def evaluar_modelos_seleccion_caracteristicas_LR(metrica):\n",
        "    selector = SelectKBest(score_func=metrica)\n",
        "    \n",
        "    pipe_selector = Pipeline([\n",
        "        ('scale', MinMaxScaler()),\n",
        "        ('select', selector),\n",
        "        ('model', LogisticRegression(random_state=13, class_weight='balanced'))\n",
        "    ])\n",
        "\n",
        "    param_grid = {\"select__k\": list(range(1, 46))}\n",
        "    inner = StratifiedKFold(n_splits=5)\n",
        "    tuneado = GridSearchCV(pipe_selector, param_grid, cv=inner, scoring='balanced_accuracy', n_jobs=-1, verbose=1)\n",
        "    tuneado.fit(X_train, y_train)\n",
        "\n",
        "    print(metrica.__name__)\n",
        "\n",
        "    print(tuneado.best_params_)\n",
        "\n",
        "    trained_pipeline = tuneado.best_estimator_\n",
        "\n",
        "    import matplotlib.pyplot as plt\n",
        "    plt.plot(tuneado.cv_results_['param_select__k'].data, tuneado.cv_results_['mean_test_score'])\n",
        "    plt.ylabel('Balanced accuracy')\n",
        "    plt.xlabel('Number of features')\n",
        "    plt.show()\n",
        "\n",
        "print('\\n[bold yellow]Mejora de resultados LogisticRegression[/bold yellow]')\n",
        "\n",
        "metricas = [f_classif, mutual_info_classif, chi2]\n",
        "\n",
        "for metrica in metricas:\n",
        "    evaluar_modelos_seleccion_caracteristicas_LR(metrica)"
      ],
      "metadata": {
        "colab": {
          "base_uri": "https://localhost:8080/",
          "height": 1000
        },
        "id": "n-mFKl_Uvau6",
        "outputId": "cd6c68de-4740-46f3-b434-c6d7d23264cf"
      },
      "execution_count": null,
      "outputs": [
        {
          "output_type": "display_data",
          "data": {
            "text/plain": [
              "\n",
              "\u001b[1;33mMejora de resultados LogisticRegression\u001b[0m\n"
            ],
            "text/html": [
              "<pre style=\"white-space:pre;overflow-x:auto;line-height:normal;font-family:Menlo,'DejaVu Sans Mono',consolas,'Courier New',monospace\">\n",
              "<span style=\"color: #808000; text-decoration-color: #808000; font-weight: bold\">Mejora de resultados LogisticRegression</span>\n",
              "</pre>\n"
            ]
          },
          "metadata": {}
        },
        {
          "output_type": "stream",
          "name": "stdout",
          "text": [
            "Fitting 5 folds for each of 45 candidates, totalling 225 fits\n"
          ]
        },
        {
          "output_type": "display_data",
          "data": {
            "text/plain": [
              "f_classif\n"
            ],
            "text/html": [
              "<pre style=\"white-space:pre;overflow-x:auto;line-height:normal;font-family:Menlo,'DejaVu Sans Mono',consolas,'Courier New',monospace\">f_classif\n",
              "</pre>\n"
            ]
          },
          "metadata": {}
        },
        {
          "output_type": "display_data",
          "data": {
            "text/plain": [
              "\u001b[1m{\u001b[0m\u001b[32m'select__k'\u001b[0m: \u001b[1;36m25\u001b[0m\u001b[1m}\u001b[0m\n"
            ],
            "text/html": [
              "<pre style=\"white-space:pre;overflow-x:auto;line-height:normal;font-family:Menlo,'DejaVu Sans Mono',consolas,'Courier New',monospace\"><span style=\"font-weight: bold\">{</span><span style=\"color: #008000; text-decoration-color: #008000\">'select__k'</span>: <span style=\"color: #008080; text-decoration-color: #008080; font-weight: bold\">25</span><span style=\"font-weight: bold\">}</span>\n",
              "</pre>\n"
            ]
          },
          "metadata": {}
        },
        {
          "output_type": "display_data",
          "data": {
            "text/plain": [
              "<Figure size 640x480 with 1 Axes>"
            ],
            "image/png": "[encoded data removed]"
          },
          "metadata": {}
        },
        {
          "output_type": "stream",
          "name": "stdout",
          "text": [
            "Fitting 5 folds for each of 45 candidates, totalling 225 fits\n"
          ]
        },
        {
          "output_type": "display_data",
          "data": {
            "text/plain": [
              "mutual_info_classif\n"
            ],
            "text/html": [
              "<pre style=\"white-space:pre;overflow-x:auto;line-height:normal;font-family:Menlo,'DejaVu Sans Mono',consolas,'Courier New',monospace\">mutual_info_classif\n",
              "</pre>\n"
            ]
          },
          "metadata": {}
        },
        {
          "output_type": "display_data",
          "data": {
            "text/plain": [
              "\u001b[1m{\u001b[0m\u001b[32m'select__k'\u001b[0m: \u001b[1;36m38\u001b[0m\u001b[1m}\u001b[0m\n"
            ],
            "text/html": [
              "<pre style=\"white-space:pre;overflow-x:auto;line-height:normal;font-family:Menlo,'DejaVu Sans Mono',consolas,'Courier New',monospace\"><span style=\"font-weight: bold\">{</span><span style=\"color: #008000; text-decoration-color: #008000\">'select__k'</span>: <span style=\"color: #008080; text-decoration-color: #008080; font-weight: bold\">38</span><span style=\"font-weight: bold\">}</span>\n",
              "</pre>\n"
            ]
          },
          "metadata": {}
        },
        {
          "output_type": "display_data",
          "data": {
            "text/plain": [
              "<Figure size 640x480 with 1 Axes>"
            ],
            "image/png": "[encoded data removed]"
          },
          "metadata": {}
        },
        {
          "output_type": "stream",
          "name": "stdout",
          "text": [
            "Fitting 5 folds for each of 45 candidates, totalling 225 fits\n"
          ]
        },
        {
          "output_type": "display_data",
          "data": {
            "text/plain": [
              "chi2\n"
            ],
            "text/html": [
              "<pre style=\"white-space:pre;overflow-x:auto;line-height:normal;font-family:Menlo,'DejaVu Sans Mono',consolas,'Courier New',monospace\">chi2\n",
              "</pre>\n"
            ]
          },
          "metadata": {}
        },
        {
          "output_type": "display_data",
          "data": {
            "text/plain": [
              "\u001b[1m{\u001b[0m\u001b[32m'select__k'\u001b[0m: \u001b[1;36m45\u001b[0m\u001b[1m}\u001b[0m\n"
            ],
            "text/html": [
              "<pre style=\"white-space:pre;overflow-x:auto;line-height:normal;font-family:Menlo,'DejaVu Sans Mono',consolas,'Courier New',monospace\"><span style=\"font-weight: bold\">{</span><span style=\"color: #008000; text-decoration-color: #008000\">'select__k'</span>: <span style=\"color: #008080; text-decoration-color: #008080; font-weight: bold\">45</span><span style=\"font-weight: bold\">}</span>\n",
              "</pre>\n"
            ]
          },
          "metadata": {}
        },
        {
          "output_type": "display_data",
          "data": {
            "text/plain": [
              "<Figure size 640x480 with 1 Axes>"
            ],
            "image/png": "[encoded data removed]"
          },
          "metadata": {}
        }
      ]
    },
    {
      "cell_type": "markdown",
      "source": [
        "Ahora procederemos a sacar los 5 atributos más importantes y la precisión del modelo con los datos reducidos. Utilizaremos la métrica que menor número de atributos ha necesitado para llegar al pico."
      ],
      "metadata": {
        "id": "rrB17Qefqa29"
      }
    },
    {
      "cell_type": "code",
      "source": [
        "# Importamos f_classif, mutual_info_classif y chi2.\n",
        "from sklearn.feature_selection import f_classif, mutual_info_classif, chi2\n",
        "\n",
        "from sklearn.preprocessing import MinMaxScaler\n",
        "\n",
        "# Importamos SelectKBest.\n",
        "from sklearn.feature_selection import SelectKBest\n",
        "\n",
        "print('\\n[bold yellow]Mejora de resultados LogisticRegression[/bold yellow]')\n",
        "\n",
        "selector = SelectKBest(score_func=f_classif, k=25)\n",
        "# Aplicamos el selector sobre los datos de entrenamiento y prueba.\n",
        "X_train_sel = selector.fit_transform(X_train, y_train)\n",
        "X_test_sel = selector.transform(X_test)\n",
        "\n",
        "# Obtener los puntajes de cada atributo.\n",
        "scores = selector.scores_\n",
        "\n",
        "# Crear una lista de tuplas que empareje cada nombre de atributo con su puntaje.\n",
        "features_scores = list(zip(X_train.columns, scores))\n",
        "\n",
        "# Ordenar la lista de mayor a menor según los puntajes.\n",
        "features_scores = sorted(features_scores, key=lambda x: x[1], reverse=True)\n",
        "\n",
        "# Imprimir los 5 atributos más importantes según metrica.\n",
        "top_features = [feature[0] for feature in features_scores[:5]]\n",
        "print(\"[green]Top 5 atributos más importantes:[/green]\")\n",
        "for feature in top_features:\n",
        "    print(feature)\n",
        "\n",
        "# Creamos un modelo de Regresión Logística y lo entrenamos con las características seleccionadas.\n",
        "modelo = LogisticRegression(random_state=13, solver='liblinear', class_weight='balanced')\n",
        "\n",
        "start = time.time()\n",
        "modelo.fit(X_train_sel, y_train)\n",
        "end = time.time()\n",
        "tiempo_r = end - start\n",
        "\n",
        "# Evaluamos el modelo con las características seleccionadas.\n",
        "y_pred = modelo.predict(X_test_sel)\n",
        "balanced_accuracy_r = balanced_accuracy_score(y_test, y_pred)\n",
        "print(f\"\\n\\nBalanced accuracy con las características seleccionadas: {balanced_accuracy:.4f}\")\n",
        "print(f'Tiempo de ejecución: {tiempo:.5f} segundos')"
      ],
      "metadata": {
        "id": "JqlknbTgpsdC",
        "outputId": "ca35ca1e-18c3-491a-9fab-b0fc64a8398b",
        "colab": {
          "base_uri": "https://localhost:8080/",
          "height": 177
        }
      },
      "execution_count": null,
      "outputs": [
        {
          "output_type": "display_data",
          "data": {
            "text/plain": [
              "\n",
              "\u001b[1;33mMejora de resultados LogisticRegression\u001b[0m\n"
            ],
            "text/html": [
              "<pre style=\"white-space:pre;overflow-x:auto;line-height:normal;font-family:Menlo,'DejaVu Sans Mono',consolas,'Courier New',monospace\">\n",
              "<span style=\"color: #808000; text-decoration-color: #808000; font-weight: bold\">Mejora de resultados LogisticRegression</span>\n",
              "</pre>\n"
            ]
          },
          "metadata": {}
        },
        {
          "output_type": "display_data",
          "data": {
            "text/plain": [
              "\u001b[32mTop \u001b[0m\u001b[1;32m5\u001b[0m\u001b[32m atributos más importantes:\u001b[0m\n"
            ],
            "text/html": [
              "<pre style=\"white-space:pre;overflow-x:auto;line-height:normal;font-family:Menlo,'DejaVu Sans Mono',consolas,'Courier New',monospace\"><span style=\"color: #008000; text-decoration-color: #008000\">Top </span><span style=\"color: #008000; text-decoration-color: #008000; font-weight: bold\">5</span><span style=\"color: #008000; text-decoration-color: #008000\"> atributos más importantes:</span>\n",
              "</pre>\n"
            ]
          },
          "metadata": {}
        },
        {
          "output_type": "display_data",
          "data": {
            "text/plain": [
              "\u001b[1;36m0\u001b[0m\n"
            ],
            "text/html": [
              "<pre style=\"white-space:pre;overflow-x:auto;line-height:normal;font-family:Menlo,'DejaVu Sans Mono',consolas,'Courier New',monospace\"><span style=\"color: #008080; text-decoration-color: #008080; font-weight: bold\">0</span>\n",
              "</pre>\n"
            ]
          },
          "metadata": {}
        },
        {
          "output_type": "display_data",
          "data": {
            "text/plain": [
              "\u001b[1;36m16\u001b[0m\n"
            ],
            "text/html": [
              "<pre style=\"white-space:pre;overflow-x:auto;line-height:normal;font-family:Menlo,'DejaVu Sans Mono',consolas,'Courier New',monospace\"><span style=\"color: #008080; text-decoration-color: #008080; font-weight: bold\">16</span>\n",
              "</pre>\n"
            ]
          },
          "metadata": {}
        },
        {
          "output_type": "display_data",
          "data": {
            "text/plain": [
              "\u001b[1;36m20\u001b[0m\n"
            ],
            "text/html": [
              "<pre style=\"white-space:pre;overflow-x:auto;line-height:normal;font-family:Menlo,'DejaVu Sans Mono',consolas,'Courier New',monospace\"><span style=\"color: #008080; text-decoration-color: #008080; font-weight: bold\">20</span>\n",
              "</pre>\n"
            ]
          },
          "metadata": {}
        },
        {
          "output_type": "display_data",
          "data": {
            "text/plain": [
              "\u001b[1;36m46\u001b[0m\n"
            ],
            "text/html": [
              "<pre style=\"white-space:pre;overflow-x:auto;line-height:normal;font-family:Menlo,'DejaVu Sans Mono',consolas,'Courier New',monospace\"><span style=\"color: #008080; text-decoration-color: #008080; font-weight: bold\">46</span>\n",
              "</pre>\n"
            ]
          },
          "metadata": {}
        },
        {
          "output_type": "display_data",
          "data": {
            "text/plain": [
              "\u001b[1;36m22\u001b[0m\n"
            ],
            "text/html": [
              "<pre style=\"white-space:pre;overflow-x:auto;line-height:normal;font-family:Menlo,'DejaVu Sans Mono',consolas,'Courier New',monospace\"><span style=\"color: #008080; text-decoration-color: #008080; font-weight: bold\">22</span>\n",
              "</pre>\n"
            ]
          },
          "metadata": {}
        },
        {
          "output_type": "display_data",
          "data": {
            "text/plain": [
              "\n",
              "\n",
              "Balanced accuracy con las características seleccionadas: \u001b[1;36m0.7266\u001b[0m\n"
            ],
            "text/html": [
              "<pre style=\"white-space:pre;overflow-x:auto;line-height:normal;font-family:Menlo,'DejaVu Sans Mono',consolas,'Courier New',monospace\">\n",
              "\n",
              "Balanced accuracy con las características seleccionadas: <span style=\"color: #008080; text-decoration-color: #008080; font-weight: bold\">0.7266</span>\n",
              "</pre>\n"
            ]
          },
          "metadata": {}
        },
        {
          "output_type": "display_data",
          "data": {
            "text/plain": [
              "Tiempo de ejecución: \u001b[1;36m0.08630\u001b[0m segundos\n"
            ],
            "text/html": [
              "<pre style=\"white-space:pre;overflow-x:auto;line-height:normal;font-family:Menlo,'DejaVu Sans Mono',consolas,'Courier New',monospace\">Tiempo de ejecución: <span style=\"color: #008080; text-decoration-color: #008080; font-weight: bold\">0.08630</span> segundos\n",
              "</pre>\n"
            ]
          },
          "metadata": {}
        }
      ]
    },
    {
      "cell_type": "markdown",
      "source": [
        "Después de aplicar SelectKBest con distintas métricas de selección de características y entrenar un modelo de Regresión Logística, se obtuvo que las cinco características más importantes para predecir el resultado de la clasificación son 0, 16, 20, 46 y 22 (posteriormente se indicará a cuales equivalen en el dataframe original). Utilizando estas características seleccionadas, se obtuvo un valor de balanced accuracy de 0.7274. El tiempo de ejecución del modelo con estas características fue de 0.04727 segundos."
      ],
      "metadata": {
        "id": "vNNztutXsyXP"
      }
    },
    {
      "cell_type": "code",
      "source": [
        "#ratio de tiempo de entrenamiento\n",
        "print(f'\\nRatio Tiempo de entrenamiento sin reducir / reducido: {tiempo / tiempo_r:.4f}')\n",
        "\n",
        "#rattio de balanced accuracy\n",
        "print(f'\\nRatio Balanced accuracy reducido / sin reducir: {balanced_accuracy_r / balanced_accuracy:.4f}')"
      ],
      "metadata": {
        "id": "nWF_V6wmsZys",
        "outputId": "7f7d1ab8-9153-4496-f3e5-52fb3343f4c7",
        "colab": {
          "base_uri": "https://localhost:8080/",
          "height": 49
        }
      },
      "execution_count": null,
      "outputs": [
        {
          "output_type": "display_data",
          "data": {
            "text/plain": [
              "\n",
              "Ratio Tiempo de entrenamiento sin reducir \u001b[35m/\u001b[0m reducido: \u001b[1;36m2.6137\u001b[0m\n"
            ],
            "text/html": [
              "<pre style=\"white-space:pre;overflow-x:auto;line-height:normal;font-family:Menlo,'DejaVu Sans Mono',consolas,'Courier New',monospace\">\n",
              "Ratio Tiempo de entrenamiento sin reducir <span style=\"color: #800080; text-decoration-color: #800080\">/</span> reducido: <span style=\"color: #008080; text-decoration-color: #008080; font-weight: bold\">2.6137</span>\n",
              "</pre>\n"
            ]
          },
          "metadata": {}
        },
        {
          "output_type": "display_data",
          "data": {
            "text/plain": [
              "\n",
              "Ratio Balanced accuracy reducido \u001b[35m/\u001b[0m sin reducir: \u001b[1;36m1.0011\u001b[0m\n"
            ],
            "text/html": [
              "<pre style=\"white-space:pre;overflow-x:auto;line-height:normal;font-family:Menlo,'DejaVu Sans Mono',consolas,'Courier New',monospace\">\n",
              "Ratio Balanced accuracy reducido <span style=\"color: #800080; text-decoration-color: #800080\">/</span> sin reducir: <span style=\"color: #008080; text-decoration-color: #008080; font-weight: bold\">1.0011</span>\n",
              "</pre>\n"
            ]
          },
          "metadata": {}
        }
      ]
    },
    {
      "cell_type": "markdown",
      "source": [
        "En este caso, se observa que la reducción de características no tiene un impacto significativo en la precisión del modelo, ya que el ratio de balanced accuracy reducido/sin reducir es de 1. Esto significa que el modelo sigue teniendo la misma precisión con un conjunto reducido de características. Sin embargo, se observa que la reducción de características lleva a una disminución en el tiempo de entrenamiento, ya que el ratio de tiempo de entrenamiento sin reducir/reducido es de 2.6137, lo que indica que el modelo reducido se entrena más rápido que el modelo sin reducción de características."
      ],
      "metadata": {
        "id": "aq5hnooptnoJ"
      }
    },
    {
      "cell_type": "markdown",
      "source": [
        "## **Boosting**"
      ],
      "metadata": {
        "id": "KZt1v4f0vWJ0"
      }
    },
    {
      "cell_type": "code",
      "source": [
        "def evaluar_modelos_seleccion_caracteristicas(modelo, metricas):\n",
        "\n",
        "    metrica_seleccionada = \"f_classif\"\n",
        "    k = 47\n",
        "    tuneado_seleccion = None\n",
        "        \n",
        "    for metrica in metricas:\n",
        "        selector = SelectKBest(score_func=metrica)\n",
        "        \n",
        "        pipe_selector = Pipeline([\n",
        "            ('scale', MinMaxScaler()),\n",
        "            ('select', selector),\n",
        "            ('model', modelo)\n",
        "        ])\n",
        "\n",
        "        param_grid = {\"select__k\": list(range(1, 47))}\n",
        "        inner = StratifiedKFold(n_splits=5)\n",
        "        tuneado = GridSearchCV(pipe_selector, param_grid, cv=inner, scoring='balanced_accuracy', n_jobs=-1, verbose=1)\n",
        "        if modelo.__class__.__name__ == \"AdaBoostClassifier\":\n",
        "            tuneado.fit(X_train, y_train, model__sample_weight=sample_weights)\n",
        "        elif modelo.__class__.__name__ == \"GradientBoostingClassifier\":\n",
        "            tuneado.fit(X_train, y_train, model__sample_weight=weights)\n",
        "        else:\n",
        "            tuneado.fit(X_train, y_train)\n",
        "\n",
        "        if tuneado.best_params_['select__k'] < k:\n",
        "            k = tuneado.best_params_['select__k']\n",
        "            metrica_seleccionada = metrica.__name__\n",
        "            tuneado_seleccion = tuneado\n",
        "\n",
        "    print(modelo.__class__.__name__)\n",
        "    print(f\"Mejor métrica: {metrica_seleccionada}\")\n",
        "    print(f\"Numero de atributos seleccionados: {k}\")\n",
        "\n",
        "    import matplotlib.pyplot as plt\n",
        "    plt.plot(tuneado_seleccion.cv_results_['param_select__k'].data, tuneado_seleccion.cv_results_['mean_test_score'])\n",
        "    plt.ylabel('Balanced accuracy')\n",
        "    plt.xlabel('Number of features')\n",
        "    plt.show()\n",
        "\n",
        "print('\\n[bold yellow]Mejora de resultados LogisticRegression[/bold yellow]')\n",
        "\n",
        "metricas = [f_classif, mutual_info_classif, chi2]\n",
        "\n",
        "for modelo in modelos_ajustados:\n",
        "    evaluar_modelos_seleccion_caracteristicas(modelo, metricas)\n"
      ],
      "metadata": {
        "id": "ac43Fl2YdXlc",
        "colab": {
          "base_uri": "https://localhost:8080/",
          "height": 1000
        },
        "outputId": "67951bdd-e530-4c32-acfb-22757a8f9dc3"
      },
      "execution_count": null,
      "outputs": [
        {
          "output_type": "display_data",
          "data": {
            "text/plain": [
              "\n",
              "\u001b[1;33mMejora de resultados LogisticRegression\u001b[0m\n"
            ],
            "text/html": [
              "<pre style=\"white-space:pre;overflow-x:auto;line-height:normal;font-family:Menlo,'DejaVu Sans Mono',consolas,'Courier New',monospace\">\n",
              "<span style=\"color: #808000; text-decoration-color: #808000; font-weight: bold\">Mejora de resultados LogisticRegression</span>\n",
              "</pre>\n"
            ]
          },
          "metadata": {}
        },
        {
          "output_type": "stream",
          "name": "stdout",
          "text": [
            "Fitting 5 folds for each of 46 candidates, totalling 230 fits\n",
            "Fitting 5 folds for each of 46 candidates, totalling 230 fits\n",
            "Fitting 5 folds for each of 46 candidates, totalling 230 fits\n"
          ]
        },
        {
          "output_type": "display_data",
          "data": {
            "text/plain": [
              "AdaBoostClassifier\n"
            ],
            "text/html": [
              "<pre style=\"white-space:pre;overflow-x:auto;line-height:normal;font-family:Menlo,'DejaVu Sans Mono',consolas,'Courier New',monospace\">AdaBoostClassifier\n",
              "</pre>\n"
            ]
          },
          "metadata": {}
        },
        {
          "output_type": "display_data",
          "data": {
            "text/plain": [
              "Mejor métrica: f_classif\n"
            ],
            "text/html": [
              "<pre style=\"white-space:pre;overflow-x:auto;line-height:normal;font-family:Menlo,'DejaVu Sans Mono',consolas,'Courier New',monospace\">Mejor métrica: f_classif\n",
              "</pre>\n"
            ]
          },
          "metadata": {}
        },
        {
          "output_type": "display_data",
          "data": {
            "text/plain": [
              "Numero de atributos seleccionados: \u001b[1;36m29\u001b[0m\n"
            ],
            "text/html": [
              "<pre style=\"white-space:pre;overflow-x:auto;line-height:normal;font-family:Menlo,'DejaVu Sans Mono',consolas,'Courier New',monospace\">Numero de atributos seleccionados: <span style=\"color: #008080; text-decoration-color: #008080; font-weight: bold\">29</span>\n",
              "</pre>\n"
            ]
          },
          "metadata": {}
        },
        {
          "output_type": "display_data",
          "data": {
            "text/plain": [
              "<Figure size 640x480 with 1 Axes>"
            ],
            "image/png": "[encoded data removed]"
          },
          "metadata": {}
        },
        {
          "output_type": "stream",
          "name": "stdout",
          "text": [
            "Fitting 5 folds for each of 46 candidates, totalling 230 fits\n",
            "Fitting 5 folds for each of 46 candidates, totalling 230 fits\n",
            "Fitting 5 folds for each of 46 candidates, totalling 230 fits\n"
          ]
        },
        {
          "output_type": "display_data",
          "data": {
            "text/plain": [
              "GradientBoostingClassifier\n"
            ],
            "text/html": [
              "<pre style=\"white-space:pre;overflow-x:auto;line-height:normal;font-family:Menlo,'DejaVu Sans Mono',consolas,'Courier New',monospace\">GradientBoostingClassifier\n",
              "</pre>\n"
            ]
          },
          "metadata": {}
        },
        {
          "output_type": "display_data",
          "data": {
            "text/plain": [
              "Mejor métrica: f_classif\n"
            ],
            "text/html": [
              "<pre style=\"white-space:pre;overflow-x:auto;line-height:normal;font-family:Menlo,'DejaVu Sans Mono',consolas,'Courier New',monospace\">Mejor métrica: f_classif\n",
              "</pre>\n"
            ]
          },
          "metadata": {}
        },
        {
          "output_type": "display_data",
          "data": {
            "text/plain": [
              "Numero de atributos seleccionados: \u001b[1;36m46\u001b[0m\n"
            ],
            "text/html": [
              "<pre style=\"white-space:pre;overflow-x:auto;line-height:normal;font-family:Menlo,'DejaVu Sans Mono',consolas,'Courier New',monospace\">Numero de atributos seleccionados: <span style=\"color: #008080; text-decoration-color: #008080; font-weight: bold\">46</span>\n",
              "</pre>\n"
            ]
          },
          "metadata": {}
        },
        {
          "output_type": "display_data",
          "data": {
            "text/plain": [
              "<Figure size 640x480 with 1 Axes>"
            ],
            "image/png": "[encoded data removed]"
          },
          "metadata": {}
        },
        {
          "output_type": "stream",
          "name": "stdout",
          "text": [
            "Fitting 5 folds for each of 46 candidates, totalling 230 fits\n",
            "Fitting 5 folds for each of 46 candidates, totalling 230 fits\n",
            "Fitting 5 folds for each of 46 candidates, totalling 230 fits\n"
          ]
        },
        {
          "output_type": "display_data",
          "data": {
            "text/plain": [
              "XGBClassifier\n"
            ],
            "text/html": [
              "<pre style=\"white-space:pre;overflow-x:auto;line-height:normal;font-family:Menlo,'DejaVu Sans Mono',consolas,'Courier New',monospace\">XGBClassifier\n",
              "</pre>\n"
            ]
          },
          "metadata": {}
        },
        {
          "output_type": "display_data",
          "data": {
            "text/plain": [
              "Mejor métrica: mutual_info_classif\n"
            ],
            "text/html": [
              "<pre style=\"white-space:pre;overflow-x:auto;line-height:normal;font-family:Menlo,'DejaVu Sans Mono',consolas,'Courier New',monospace\">Mejor métrica: mutual_info_classif\n",
              "</pre>\n"
            ]
          },
          "metadata": {}
        },
        {
          "output_type": "display_data",
          "data": {
            "text/plain": [
              "Numero de atributos seleccionados: \u001b[1;36m40\u001b[0m\n"
            ],
            "text/html": [
              "<pre style=\"white-space:pre;overflow-x:auto;line-height:normal;font-family:Menlo,'DejaVu Sans Mono',consolas,'Courier New',monospace\">Numero de atributos seleccionados: <span style=\"color: #008080; text-decoration-color: #008080; font-weight: bold\">40</span>\n",
              "</pre>\n"
            ]
          },
          "metadata": {}
        },
        {
          "output_type": "display_data",
          "data": {
            "text/plain": [
              "<Figure size 640x480 with 1 Axes>"
            ],
            "image/png": "[encoded data removed]"
          },
          "metadata": {}
        },
        {
          "output_type": "stream",
          "name": "stdout",
          "text": [
            "Fitting 5 folds for each of 46 candidates, totalling 230 fits\n",
            "Fitting 5 folds for each of 46 candidates, totalling 230 fits\n",
            "Fitting 5 folds for each of 46 candidates, totalling 230 fits\n"
          ]
        },
        {
          "output_type": "display_data",
          "data": {
            "text/plain": [
              "LGBMClassifier\n"
            ],
            "text/html": [
              "<pre style=\"white-space:pre;overflow-x:auto;line-height:normal;font-family:Menlo,'DejaVu Sans Mono',consolas,'Courier New',monospace\">LGBMClassifier\n",
              "</pre>\n"
            ]
          },
          "metadata": {}
        },
        {
          "output_type": "display_data",
          "data": {
            "text/plain": [
              "Mejor métrica: mutual_info_classif\n"
            ],
            "text/html": [
              "<pre style=\"white-space:pre;overflow-x:auto;line-height:normal;font-family:Menlo,'DejaVu Sans Mono',consolas,'Courier New',monospace\">Mejor métrica: mutual_info_classif\n",
              "</pre>\n"
            ]
          },
          "metadata": {}
        },
        {
          "output_type": "display_data",
          "data": {
            "text/plain": [
              "Numero de atributos seleccionados: \u001b[1;36m32\u001b[0m\n"
            ],
            "text/html": [
              "<pre style=\"white-space:pre;overflow-x:auto;line-height:normal;font-family:Menlo,'DejaVu Sans Mono',consolas,'Courier New',monospace\">Numero de atributos seleccionados: <span style=\"color: #008080; text-decoration-color: #008080; font-weight: bold\">32</span>\n",
              "</pre>\n"
            ]
          },
          "metadata": {}
        },
        {
          "output_type": "display_data",
          "data": {
            "text/plain": [
              "<Figure size 640x480 with 1 Axes>"
            ],
            "image/png": "[encoded data removed]"
          },
          "metadata": {}
        }
      ]
    },
    {
      "cell_type": "markdown",
      "source": [
        "Ahora procederemos a sacar los 5 atributos más importantes y la precisión del modelo con los datos reducidos (para cada modelo). Utilizaremos la métrica que menor número de atributos ha necesitado para llegar al pico. Para Gradieent Boosting seleccionamos 40, ya que esta cerca del pico y eliminamos 6 atributos."
      ],
      "metadata": {
        "id": "gOSuET-P3sB0"
      }
    },
    {
      "cell_type": "code",
      "source": [
        "class_counts = np.bincount(y_train)\n",
        "sample_weights = np.zeros(len(y_train))\n",
        "for i, count in enumerate(class_counts):\n",
        "    sample_weights[y_train == i] = class_counts.sum() / (len(class_counts) * count)\n",
        "\n",
        "def atributos_mas_importantes_boosting(modelo, metrica, k):\n",
        "    selector = SelectKBest(score_func=metrica, k=k)\n",
        "\n",
        "    # Aplicar el selector sobre los datos de entrenamiento y prueba.\n",
        "    X_train_sel = selector.fit_transform(X_train, y_train)\n",
        "    X_test_sel = selector.transform(X_test)\n",
        "\n",
        "    # Crear y entrenar un modelo con las características seleccionadas.\n",
        "    if modelo.__class__.__name__ == \"AdaBoostClassifier\":\n",
        "        modelo.fit(X_train_sel, y_train, sample_weight=sample_weights)\n",
        "    elif modelo.__class__.__name__ == \"GradientBoostingClassifier\":\n",
        "        modelo.fit(X_train_sel, y_train, sample_weight=weights)\n",
        "    else:\n",
        "        modelo.fit(X_train_sel, y_train)\n",
        "\n",
        "    # Evaluar el modelo con las características seleccionadas.\n",
        "    score = modelo.score(X_test_sel, y_test)\n",
        "\n",
        "    # Obtener los puntajes de importancia de características y ordenarlos de mayor a menor.\n",
        "    scores = selector.scores_\n",
        "    feature_scores = list(zip(X_train.columns, scores))\n",
        "    feature_scores = sorted(feature_scores, key=lambda x: x[1], reverse=True)\n",
        "\n",
        "    if modelo.__class__.__name__ == \"AdaBoostClassifier\":\n",
        "        start = time.time()\n",
        "        modelo.fit(X_train_sel, y_train, sample_weight=sample_weights)\n",
        "        end = time.time()\n",
        "    elif modelo.__class__.__name__ == \"GradientBoostingClassifier\":\n",
        "        start = time.time()\n",
        "        modelo.fit(X_train_sel, y_train, sample_weight=weights)\n",
        "        end = time.time()\n",
        "    else:\n",
        "        start = time.time()\n",
        "        modelo.fit(X_train_sel, y_train)\n",
        "        end = time.time()\n",
        "   \n",
        "    tiempo = end - start\n",
        "\n",
        "    print(modelo.__class__.__name__)\n",
        "\n",
        "    # Evaluar el modelo con las características seleccionadas.\n",
        "    y_pred = modelo.predict(X_test_sel)\n",
        "    balanced_accuracy = balanced_accuracy_score(y_test, y_pred)\n",
        "    print(f\"\\n\\nBalanced accuracy con las características seleccionadas: {balanced_accuracy:.4f}\")\n",
        "    print(f'Tiempo de ejecución: {tiempo:.5f} segundos')\n",
        "\n",
        "    # Imprimir los 5 atributos más importantes según f_classif.\n",
        "    top_features = [feature[0] for feature in feature_scores[:5]]\n",
        "    print(f\"[green]Top 5 atributos más importantes para {modelo.__class__.__name__ }:[/green]\")\n",
        "    for feature in top_features:\n",
        "      print(feature)\n",
        "\n",
        "    print()\n",
        "    \n",
        "    return balanced_accuracy, tiempo\n"
      ],
      "metadata": {
        "id": "rwfqNBrQ34Di"
      },
      "execution_count": null,
      "outputs": []
    },
    {
      "cell_type": "code",
      "source": [
        "ada = atributos_mas_importantes_boosting(AdaBoostClassifier(random_state=13, learning_rate=0.5, n_estimators=200), f_classif, 29)\n",
        "gb = atributos_mas_importantes_boosting(GradientBoostingClassifier(random_state=13, learning_rate=0.5, max_depth=5, n_estimators=200), f_classif, 40)\n",
        "xgb = atributos_mas_importantes_boosting(XGBClassifier(random_state=13, scale_pos_weight=proporcion),  mutual_info_classif, 40)\n",
        "lgbm = atributos_mas_importantes_boosting(LGBMClassifier(random_state=13, learning_rate=0.1, max_depth=7, n_estimators=200, class_weight='balanced'),  mutual_info_classif, 32)\n"
      ],
      "metadata": {
        "id": "orW6IuIm4uew",
        "outputId": "bf4c1a29-8633-4492-dd8d-0fb141f63cb0",
        "colab": {
          "base_uri": "https://localhost:8080/",
          "height": 657
        }
      },
      "execution_count": null,
      "outputs": [
        {
          "output_type": "display_data",
          "data": {
            "text/plain": [
              "AdaBoostClassifier\n"
            ],
            "text/html": [
              "<pre style=\"white-space:pre;overflow-x:auto;line-height:normal;font-family:Menlo,'DejaVu Sans Mono',consolas,'Courier New',monospace\">AdaBoostClassifier\n",
              "</pre>\n"
            ]
          },
          "metadata": {}
        },
        {
          "output_type": "display_data",
          "data": {
            "text/plain": [
              "\n",
              "\n",
              "Balanced accuracy con las características seleccionadas: \u001b[1;36m0.7439\u001b[0m\n"
            ],
            "text/html": [
              "<pre style=\"white-space:pre;overflow-x:auto;line-height:normal;font-family:Menlo,'DejaVu Sans Mono',consolas,'Courier New',monospace\">\n",
              "\n",
              "Balanced accuracy con las características seleccionadas: <span style=\"color: #008080; text-decoration-color: #008080; font-weight: bold\">0.7439</span>\n",
              "</pre>\n"
            ]
          },
          "metadata": {}
        },
        {
          "output_type": "display_data",
          "data": {
            "text/plain": [
              "Tiempo de ejecución: \u001b[1;36m0.91186\u001b[0m segundos\n"
            ],
            "text/html": [
              "<pre style=\"white-space:pre;overflow-x:auto;line-height:normal;font-family:Menlo,'DejaVu Sans Mono',consolas,'Courier New',monospace\">Tiempo de ejecución: <span style=\"color: #008080; text-decoration-color: #008080; font-weight: bold\">0.91186</span> segundos\n",
              "</pre>\n"
            ]
          },
          "metadata": {}
        },
        {
          "output_type": "display_data",
          "data": {
            "text/plain": [
              "\u001b[32mTop \u001b[0m\u001b[1;32m5\u001b[0m\u001b[32m atributos más importantes para AdaBoostClassifier:\u001b[0m\n"
            ],
            "text/html": [
              "<pre style=\"white-space:pre;overflow-x:auto;line-height:normal;font-family:Menlo,'DejaVu Sans Mono',consolas,'Courier New',monospace\"><span style=\"color: #008000; text-decoration-color: #008000\">Top </span><span style=\"color: #008000; text-decoration-color: #008000; font-weight: bold\">5</span><span style=\"color: #008000; text-decoration-color: #008000\"> atributos más importantes para AdaBoostClassifier:</span>\n",
              "</pre>\n"
            ]
          },
          "metadata": {}
        },
        {
          "output_type": "display_data",
          "data": {
            "text/plain": [
              "\u001b[1;36m0\u001b[0m\n"
            ],
            "text/html": [
              "<pre style=\"white-space:pre;overflow-x:auto;line-height:normal;font-family:Menlo,'DejaVu Sans Mono',consolas,'Courier New',monospace\"><span style=\"color: #008080; text-decoration-color: #008080; font-weight: bold\">0</span>\n",
              "</pre>\n"
            ]
          },
          "metadata": {}
        },
        {
          "output_type": "display_data",
          "data": {
            "text/plain": [
              "\u001b[1;36m16\u001b[0m\n"
            ],
            "text/html": [
              "<pre style=\"white-space:pre;overflow-x:auto;line-height:normal;font-family:Menlo,'DejaVu Sans Mono',consolas,'Courier New',monospace\"><span style=\"color: #008080; text-decoration-color: #008080; font-weight: bold\">16</span>\n",
              "</pre>\n"
            ]
          },
          "metadata": {}
        },
        {
          "output_type": "display_data",
          "data": {
            "text/plain": [
              "\u001b[1;36m20\u001b[0m\n"
            ],
            "text/html": [
              "<pre style=\"white-space:pre;overflow-x:auto;line-height:normal;font-family:Menlo,'DejaVu Sans Mono',consolas,'Courier New',monospace\"><span style=\"color: #008080; text-decoration-color: #008080; font-weight: bold\">20</span>\n",
              "</pre>\n"
            ]
          },
          "metadata": {}
        },
        {
          "output_type": "display_data",
          "data": {
            "text/plain": [
              "\u001b[1;36m46\u001b[0m\n"
            ],
            "text/html": [
              "<pre style=\"white-space:pre;overflow-x:auto;line-height:normal;font-family:Menlo,'DejaVu Sans Mono',consolas,'Courier New',monospace\"><span style=\"color: #008080; text-decoration-color: #008080; font-weight: bold\">46</span>\n",
              "</pre>\n"
            ]
          },
          "metadata": {}
        },
        {
          "output_type": "display_data",
          "data": {
            "text/plain": [
              "\u001b[1;36m22\u001b[0m\n"
            ],
            "text/html": [
              "<pre style=\"white-space:pre;overflow-x:auto;line-height:normal;font-family:Menlo,'DejaVu Sans Mono',consolas,'Courier New',monospace\"><span style=\"color: #008080; text-decoration-color: #008080; font-weight: bold\">22</span>\n",
              "</pre>\n"
            ]
          },
          "metadata": {}
        },
        {
          "output_type": "display_data",
          "data": {
            "text/plain": [
              "\n"
            ],
            "text/html": [
              "<pre style=\"white-space:pre;overflow-x:auto;line-height:normal;font-family:Menlo,'DejaVu Sans Mono',consolas,'Courier New',monospace\">\n",
              "</pre>\n"
            ]
          },
          "metadata": {}
        },
        {
          "output_type": "display_data",
          "data": {
            "text/plain": [
              "GradientBoostingClassifier\n"
            ],
            "text/html": [
              "<pre style=\"white-space:pre;overflow-x:auto;line-height:normal;font-family:Menlo,'DejaVu Sans Mono',consolas,'Courier New',monospace\">GradientBoostingClassifier\n",
              "</pre>\n"
            ]
          },
          "metadata": {}
        },
        {
          "output_type": "display_data",
          "data": {
            "text/plain": [
              "\n",
              "\n",
              "Balanced accuracy con las características seleccionadas: \u001b[1;36m0.8918\u001b[0m\n"
            ],
            "text/html": [
              "<pre style=\"white-space:pre;overflow-x:auto;line-height:normal;font-family:Menlo,'DejaVu Sans Mono',consolas,'Courier New',monospace\">\n",
              "\n",
              "Balanced accuracy con las características seleccionadas: <span style=\"color: #008080; text-decoration-color: #008080; font-weight: bold\">0.8918</span>\n",
              "</pre>\n"
            ]
          },
          "metadata": {}
        },
        {
          "output_type": "display_data",
          "data": {
            "text/plain": [
              "Tiempo de ejecución: \u001b[1;36m3.01854\u001b[0m segundos\n"
            ],
            "text/html": [
              "<pre style=\"white-space:pre;overflow-x:auto;line-height:normal;font-family:Menlo,'DejaVu Sans Mono',consolas,'Courier New',monospace\">Tiempo de ejecución: <span style=\"color: #008080; text-decoration-color: #008080; font-weight: bold\">3.01854</span> segundos\n",
              "</pre>\n"
            ]
          },
          "metadata": {}
        },
        {
          "output_type": "display_data",
          "data": {
            "text/plain": [
              "\u001b[32mTop \u001b[0m\u001b[1;32m5\u001b[0m\u001b[32m atributos más importantes para GradientBoostingClassifier:\u001b[0m\n"
            ],
            "text/html": [
              "<pre style=\"white-space:pre;overflow-x:auto;line-height:normal;font-family:Menlo,'DejaVu Sans Mono',consolas,'Courier New',monospace\"><span style=\"color: #008000; text-decoration-color: #008000\">Top </span><span style=\"color: #008000; text-decoration-color: #008000; font-weight: bold\">5</span><span style=\"color: #008000; text-decoration-color: #008000\"> atributos más importantes para GradientBoostingClassifier:</span>\n",
              "</pre>\n"
            ]
          },
          "metadata": {}
        },
        {
          "output_type": "display_data",
          "data": {
            "text/plain": [
              "\u001b[1;36m0\u001b[0m\n"
            ],
            "text/html": [
              "<pre style=\"white-space:pre;overflow-x:auto;line-height:normal;font-family:Menlo,'DejaVu Sans Mono',consolas,'Courier New',monospace\"><span style=\"color: #008080; text-decoration-color: #008080; font-weight: bold\">0</span>\n",
              "</pre>\n"
            ]
          },
          "metadata": {}
        },
        {
          "output_type": "display_data",
          "data": {
            "text/plain": [
              "\u001b[1;36m16\u001b[0m\n"
            ],
            "text/html": [
              "<pre style=\"white-space:pre;overflow-x:auto;line-height:normal;font-family:Menlo,'DejaVu Sans Mono',consolas,'Courier New',monospace\"><span style=\"color: #008080; text-decoration-color: #008080; font-weight: bold\">16</span>\n",
              "</pre>\n"
            ]
          },
          "metadata": {}
        },
        {
          "output_type": "display_data",
          "data": {
            "text/plain": [
              "\u001b[1;36m20\u001b[0m\n"
            ],
            "text/html": [
              "<pre style=\"white-space:pre;overflow-x:auto;line-height:normal;font-family:Menlo,'DejaVu Sans Mono',consolas,'Courier New',monospace\"><span style=\"color: #008080; text-decoration-color: #008080; font-weight: bold\">20</span>\n",
              "</pre>\n"
            ]
          },
          "metadata": {}
        },
        {
          "output_type": "display_data",
          "data": {
            "text/plain": [
              "\u001b[1;36m46\u001b[0m\n"
            ],
            "text/html": [
              "<pre style=\"white-space:pre;overflow-x:auto;line-height:normal;font-family:Menlo,'DejaVu Sans Mono',consolas,'Courier New',monospace\"><span style=\"color: #008080; text-decoration-color: #008080; font-weight: bold\">46</span>\n",
              "</pre>\n"
            ]
          },
          "metadata": {}
        },
        {
          "output_type": "display_data",
          "data": {
            "text/plain": [
              "\u001b[1;36m22\u001b[0m\n"
            ],
            "text/html": [
              "<pre style=\"white-space:pre;overflow-x:auto;line-height:normal;font-family:Menlo,'DejaVu Sans Mono',consolas,'Courier New',monospace\"><span style=\"color: #008080; text-decoration-color: #008080; font-weight: bold\">22</span>\n",
              "</pre>\n"
            ]
          },
          "metadata": {}
        },
        {
          "output_type": "display_data",
          "data": {
            "text/plain": [
              "\n"
            ],
            "text/html": [
              "<pre style=\"white-space:pre;overflow-x:auto;line-height:normal;font-family:Menlo,'DejaVu Sans Mono',consolas,'Courier New',monospace\">\n",
              "</pre>\n"
            ]
          },
          "metadata": {}
        },
        {
          "output_type": "display_data",
          "data": {
            "text/plain": [
              "XGBClassifier\n"
            ],
            "text/html": [
              "<pre style=\"white-space:pre;overflow-x:auto;line-height:normal;font-family:Menlo,'DejaVu Sans Mono',consolas,'Courier New',monospace\">XGBClassifier\n",
              "</pre>\n"
            ]
          },
          "metadata": {}
        },
        {
          "output_type": "display_data",
          "data": {
            "text/plain": [
              "\n",
              "\n",
              "Balanced accuracy con las características seleccionadas: \u001b[1;36m0.8948\u001b[0m\n"
            ],
            "text/html": [
              "<pre style=\"white-space:pre;overflow-x:auto;line-height:normal;font-family:Menlo,'DejaVu Sans Mono',consolas,'Courier New',monospace\">\n",
              "\n",
              "Balanced accuracy con las características seleccionadas: <span style=\"color: #008080; text-decoration-color: #008080; font-weight: bold\">0.8948</span>\n",
              "</pre>\n"
            ]
          },
          "metadata": {}
        },
        {
          "output_type": "display_data",
          "data": {
            "text/plain": [
              "Tiempo de ejecución: \u001b[1;36m0.77094\u001b[0m segundos\n"
            ],
            "text/html": [
              "<pre style=\"white-space:pre;overflow-x:auto;line-height:normal;font-family:Menlo,'DejaVu Sans Mono',consolas,'Courier New',monospace\">Tiempo de ejecución: <span style=\"color: #008080; text-decoration-color: #008080; font-weight: bold\">0.77094</span> segundos\n",
              "</pre>\n"
            ]
          },
          "metadata": {}
        },
        {
          "output_type": "display_data",
          "data": {
            "text/plain": [
              "\u001b[32mTop \u001b[0m\u001b[1;32m5\u001b[0m\u001b[32m atributos más importantes para XGBClassifier:\u001b[0m\n"
            ],
            "text/html": [
              "<pre style=\"white-space:pre;overflow-x:auto;line-height:normal;font-family:Menlo,'DejaVu Sans Mono',consolas,'Courier New',monospace\"><span style=\"color: #008000; text-decoration-color: #008000\">Top </span><span style=\"color: #008000; text-decoration-color: #008000; font-weight: bold\">5</span><span style=\"color: #008000; text-decoration-color: #008000\"> atributos más importantes para XGBClassifier:</span>\n",
              "</pre>\n"
            ]
          },
          "metadata": {}
        },
        {
          "output_type": "display_data",
          "data": {
            "text/plain": [
              "\u001b[1;36m12\u001b[0m\n"
            ],
            "text/html": [
              "<pre style=\"white-space:pre;overflow-x:auto;line-height:normal;font-family:Menlo,'DejaVu Sans Mono',consolas,'Courier New',monospace\"><span style=\"color: #008080; text-decoration-color: #008080; font-weight: bold\">12</span>\n",
              "</pre>\n"
            ]
          },
          "metadata": {}
        },
        {
          "output_type": "display_data",
          "data": {
            "text/plain": [
              "\u001b[1;36m0\u001b[0m\n"
            ],
            "text/html": [
              "<pre style=\"white-space:pre;overflow-x:auto;line-height:normal;font-family:Menlo,'DejaVu Sans Mono',consolas,'Courier New',monospace\"><span style=\"color: #008080; text-decoration-color: #008080; font-weight: bold\">0</span>\n",
              "</pre>\n"
            ]
          },
          "metadata": {}
        },
        {
          "output_type": "display_data",
          "data": {
            "text/plain": [
              "\u001b[1;36m18\u001b[0m\n"
            ],
            "text/html": [
              "<pre style=\"white-space:pre;overflow-x:auto;line-height:normal;font-family:Menlo,'DejaVu Sans Mono',consolas,'Courier New',monospace\"><span style=\"color: #008080; text-decoration-color: #008080; font-weight: bold\">18</span>\n",
              "</pre>\n"
            ]
          },
          "metadata": {}
        },
        {
          "output_type": "display_data",
          "data": {
            "text/plain": [
              "\u001b[1;36m16\u001b[0m\n"
            ],
            "text/html": [
              "<pre style=\"white-space:pre;overflow-x:auto;line-height:normal;font-family:Menlo,'DejaVu Sans Mono',consolas,'Courier New',monospace\"><span style=\"color: #008080; text-decoration-color: #008080; font-weight: bold\">16</span>\n",
              "</pre>\n"
            ]
          },
          "metadata": {}
        },
        {
          "output_type": "display_data",
          "data": {
            "text/plain": [
              "\u001b[1;36m7\u001b[0m\n"
            ],
            "text/html": [
              "<pre style=\"white-space:pre;overflow-x:auto;line-height:normal;font-family:Menlo,'DejaVu Sans Mono',consolas,'Courier New',monospace\"><span style=\"color: #008080; text-decoration-color: #008080; font-weight: bold\">7</span>\n",
              "</pre>\n"
            ]
          },
          "metadata": {}
        },
        {
          "output_type": "display_data",
          "data": {
            "text/plain": [
              "\n"
            ],
            "text/html": [
              "<pre style=\"white-space:pre;overflow-x:auto;line-height:normal;font-family:Menlo,'DejaVu Sans Mono',consolas,'Courier New',monospace\">\n",
              "</pre>\n"
            ]
          },
          "metadata": {}
        },
        {
          "output_type": "display_data",
          "data": {
            "text/plain": [
              "LGBMClassifier\n"
            ],
            "text/html": [
              "<pre style=\"white-space:pre;overflow-x:auto;line-height:normal;font-family:Menlo,'DejaVu Sans Mono',consolas,'Courier New',monospace\">LGBMClassifier\n",
              "</pre>\n"
            ]
          },
          "metadata": {}
        },
        {
          "output_type": "display_data",
          "data": {
            "text/plain": [
              "\n",
              "\n",
              "Balanced accuracy con las características seleccionadas: \u001b[1;36m0.9013\u001b[0m\n"
            ],
            "text/html": [
              "<pre style=\"white-space:pre;overflow-x:auto;line-height:normal;font-family:Menlo,'DejaVu Sans Mono',consolas,'Courier New',monospace\">\n",
              "\n",
              "Balanced accuracy con las características seleccionadas: <span style=\"color: #008080; text-decoration-color: #008080; font-weight: bold\">0.9013</span>\n",
              "</pre>\n"
            ]
          },
          "metadata": {}
        },
        {
          "output_type": "display_data",
          "data": {
            "text/plain": [
              "Tiempo de ejecución: \u001b[1;36m0.21613\u001b[0m segundos\n"
            ],
            "text/html": [
              "<pre style=\"white-space:pre;overflow-x:auto;line-height:normal;font-family:Menlo,'DejaVu Sans Mono',consolas,'Courier New',monospace\">Tiempo de ejecución: <span style=\"color: #008080; text-decoration-color: #008080; font-weight: bold\">0.21613</span> segundos\n",
              "</pre>\n"
            ]
          },
          "metadata": {}
        },
        {
          "output_type": "display_data",
          "data": {
            "text/plain": [
              "\u001b[32mTop \u001b[0m\u001b[1;32m5\u001b[0m\u001b[32m atributos más importantes para LGBMClassifier:\u001b[0m\n"
            ],
            "text/html": [
              "<pre style=\"white-space:pre;overflow-x:auto;line-height:normal;font-family:Menlo,'DejaVu Sans Mono',consolas,'Courier New',monospace\"><span style=\"color: #008000; text-decoration-color: #008000\">Top </span><span style=\"color: #008000; text-decoration-color: #008000; font-weight: bold\">5</span><span style=\"color: #008000; text-decoration-color: #008000\"> atributos más importantes para LGBMClassifier:</span>\n",
              "</pre>\n"
            ]
          },
          "metadata": {}
        },
        {
          "output_type": "display_data",
          "data": {
            "text/plain": [
              "\u001b[1;36m12\u001b[0m\n"
            ],
            "text/html": [
              "<pre style=\"white-space:pre;overflow-x:auto;line-height:normal;font-family:Menlo,'DejaVu Sans Mono',consolas,'Courier New',monospace\"><span style=\"color: #008080; text-decoration-color: #008080; font-weight: bold\">12</span>\n",
              "</pre>\n"
            ]
          },
          "metadata": {}
        },
        {
          "output_type": "display_data",
          "data": {
            "text/plain": [
              "\u001b[1;36m7\u001b[0m\n"
            ],
            "text/html": [
              "<pre style=\"white-space:pre;overflow-x:auto;line-height:normal;font-family:Menlo,'DejaVu Sans Mono',consolas,'Courier New',monospace\"><span style=\"color: #008080; text-decoration-color: #008080; font-weight: bold\">7</span>\n",
              "</pre>\n"
            ]
          },
          "metadata": {}
        },
        {
          "output_type": "display_data",
          "data": {
            "text/plain": [
              "\u001b[1;36m0\u001b[0m\n"
            ],
            "text/html": [
              "<pre style=\"white-space:pre;overflow-x:auto;line-height:normal;font-family:Menlo,'DejaVu Sans Mono',consolas,'Courier New',monospace\"><span style=\"color: #008080; text-decoration-color: #008080; font-weight: bold\">0</span>\n",
              "</pre>\n"
            ]
          },
          "metadata": {}
        },
        {
          "output_type": "display_data",
          "data": {
            "text/plain": [
              "\u001b[1;36m20\u001b[0m\n"
            ],
            "text/html": [
              "<pre style=\"white-space:pre;overflow-x:auto;line-height:normal;font-family:Menlo,'DejaVu Sans Mono',consolas,'Courier New',monospace\"><span style=\"color: #008080; text-decoration-color: #008080; font-weight: bold\">20</span>\n",
              "</pre>\n"
            ]
          },
          "metadata": {}
        },
        {
          "output_type": "display_data",
          "data": {
            "text/plain": [
              "\u001b[1;36m18\u001b[0m\n"
            ],
            "text/html": [
              "<pre style=\"white-space:pre;overflow-x:auto;line-height:normal;font-family:Menlo,'DejaVu Sans Mono',consolas,'Courier New',monospace\"><span style=\"color: #008080; text-decoration-color: #008080; font-weight: bold\">18</span>\n",
              "</pre>\n"
            ]
          },
          "metadata": {}
        },
        {
          "output_type": "display_data",
          "data": {
            "text/plain": [
              "\n"
            ],
            "text/html": [
              "<pre style=\"white-space:pre;overflow-x:auto;line-height:normal;font-family:Menlo,'DejaVu Sans Mono',consolas,'Courier New',monospace\">\n",
              "</pre>\n"
            ]
          },
          "metadata": {}
        }
      ]
    },
    {
      "cell_type": "markdown",
      "source": [
        "\n",
        "Los atributos más repetidos en los top 5 son 0 y 16, ya que aparecen en el top 5 de tres de los cuatro modelos (AdaBoostClassifier, GradientBoostingClassifier y XGBClassifier). Además, el atributo 12 aparece en el top 5 de dos de los cuatro modelos (XGBClassifier y LGBMClassifier), así como el 18. Al 22, 20 y 46 les ocurre lo mismo, aparecen dos veces (AdaBoostClassifier, GradientBoostingClassifier). Estos nos deja que los atributos más importantes son el 0, 16 20, 22 y 46, ya que también forman parte del top 5 de Logistic Regression. Estos atributos son equivalentes a:\n",
        "- 0:  hrs (Número de horas trabajadas)\n",
        "- 16: EducationField_Human Resources\n",
        "- 20: EducationField_Other\n",
        "- 22: Gender_Female\n",
        "- 46: YearsWithCurrManager"
      ],
      "metadata": {
        "id": "VkUzls9sBnXf"
      }
    },
    {
      "cell_type": "code",
      "source": [
        "#calculamos cuanto tardamos en entrenar los modelos con los mejores hiperparametros\n",
        "start= time.time()\n",
        "modelo = modelos_ajustados[0]\n",
        "modelo.fit(X_train, y_train, sample_weight=sample_weights)\n",
        "end = time.time()\n",
        "tiempo_ada_ajustado = end - start\n",
        "\n",
        "start= time.time()\n",
        "modelo = modelos_ajustados[1]\n",
        "modelo.fit(X_train, y_train, sample_weight=weights)\n",
        "end = time.time()\n",
        "tiempo_gb_ajustado = end - start\n",
        "\n",
        "start= time.time()\n",
        "modelo = modelos_ajustados[2]\n",
        "modelo.fit(X_train, y_train)\n",
        "end = time.time()\n",
        "tiempo_xgb_ajustado = end - start\n",
        "\n",
        "start= time.time()\n",
        "modelo = modelos_ajustados[3]\n",
        "modelo.fit(X_train, y_train)\n",
        "end = time.time()\n",
        "tiempo_lgbm_ajustado = end - start\n",
        "\n",
        "\n",
        "#ratios de precision y tiempo sin y reducido\n",
        "print(\"\\n\\n[bold yellow]Ratios de precision y tiempo sin reducir y reducido[/bold yellow]\")\n",
        "\n",
        "print('\\n[bold red]AdaBoostClassifier [/bold red]')\n",
        "#ratio\n",
        "print(f\"Ratio tiempo sin reducir / reducido: {tiempo_ada_ajustado/ada[1]:.4f}\")\n",
        "print(f\"Ratio balance accuracy sin reducir / reducido: {resultados_ajuste['AdaBoost']['balanced_accuracy']/ada[0]:.4f}\")\n",
        "\n",
        "print(\"\\n[bold red]GradientBoostingClassifier[/bold red]\")\n",
        "#ratio\n",
        "print(f\"Ratio tiempo sin reducir / reducido: {tiempo_gb_ajustado/gb[1]:.4f}\")\n",
        "print(f\"Ratio balance accuracy sin reducir / reducido:: {resultados_ajuste['Gradient Boosting']['balanced_accuracy']/gb[0]:.4f}\")\n",
        "\n",
        "print(\"\\n[bold red]XGBClassifier[/bold red]\")\n",
        "#ratio\n",
        "print(f\"Ratio tiempo sin reducir / reducido: {tiempo_xgb_ajustado/xgb[1]:.4f}\")\n",
        "print(f\"Ratio balance accuracy sin reducir / reducido:: {resultados_ajuste['XGBoost']['balanced_accuracy']/xgb[0]:.4f}\")\n",
        "\n",
        "print(\"\\n[bold red]LGBMClassifier[/bold red]\")\n",
        "#ratio\n",
        "print(f\"Ratio tiempo sin reducir / reducido: {tiempo_lgbm_ajustado/lgbm[1]:.4f}\")\n",
        "print(f\"Ratio balance accuracy sin reducir / reducido:: {resultados_ajuste['LightGBM']['balanced_accuracy']/lgbm[0]:.4f}\")\n"
      ],
      "metadata": {
        "id": "rQFhXrUX6dHb",
        "outputId": "a5a65432-8bfd-4582-9c75-24e04540e58a",
        "colab": {
          "base_uri": "https://localhost:8080/",
          "height": 241
        }
      },
      "execution_count": null,
      "outputs": [
        {
          "output_type": "display_data",
          "data": {
            "text/plain": [
              "\n",
              "\n",
              "\u001b[1;33mRatios de precision y tiempo sin reducir y reducido\u001b[0m\n"
            ],
            "text/html": [
              "<pre style=\"white-space:pre;overflow-x:auto;line-height:normal;font-family:Menlo,'DejaVu Sans Mono',consolas,'Courier New',monospace\">\n",
              "\n",
              "<span style=\"color: #808000; text-decoration-color: #808000; font-weight: bold\">Ratios de precision y tiempo sin reducir y reducido</span>\n",
              "</pre>\n"
            ]
          },
          "metadata": {}
        },
        {
          "output_type": "display_data",
          "data": {
            "text/plain": [
              "\n",
              "\u001b[1;31mAdaBoostClassifier \u001b[0m\n"
            ],
            "text/html": [
              "<pre style=\"white-space:pre;overflow-x:auto;line-height:normal;font-family:Menlo,'DejaVu Sans Mono',consolas,'Courier New',monospace\">\n",
              "<span style=\"color: #800000; text-decoration-color: #800000; font-weight: bold\">AdaBoostClassifier </span>\n",
              "</pre>\n"
            ]
          },
          "metadata": {}
        },
        {
          "output_type": "display_data",
          "data": {
            "text/plain": [
              "Ratio tiempo sin reducir \u001b[35m/\u001b[0m reducido: \u001b[1;36m1.3302\u001b[0m\n"
            ],
            "text/html": [
              "<pre style=\"white-space:pre;overflow-x:auto;line-height:normal;font-family:Menlo,'DejaVu Sans Mono',consolas,'Courier New',monospace\">Ratio tiempo sin reducir <span style=\"color: #800080; text-decoration-color: #800080\">/</span> reducido: <span style=\"color: #008080; text-decoration-color: #008080; font-weight: bold\">1.3302</span>\n",
              "</pre>\n"
            ]
          },
          "metadata": {}
        },
        {
          "output_type": "display_data",
          "data": {
            "text/plain": [
              "Ratio balance accuracy sin reducir \u001b[35m/\u001b[0m reducido: \u001b[1;36m1.0084\u001b[0m\n"
            ],
            "text/html": [
              "<pre style=\"white-space:pre;overflow-x:auto;line-height:normal;font-family:Menlo,'DejaVu Sans Mono',consolas,'Courier New',monospace\">Ratio balance accuracy sin reducir <span style=\"color: #800080; text-decoration-color: #800080\">/</span> reducido: <span style=\"color: #008080; text-decoration-color: #008080; font-weight: bold\">1.0084</span>\n",
              "</pre>\n"
            ]
          },
          "metadata": {}
        },
        {
          "output_type": "display_data",
          "data": {
            "text/plain": [
              "\n",
              "\u001b[1;31mGradientBoostingClassifier\u001b[0m\n"
            ],
            "text/html": [
              "<pre style=\"white-space:pre;overflow-x:auto;line-height:normal;font-family:Menlo,'DejaVu Sans Mono',consolas,'Courier New',monospace\">\n",
              "<span style=\"color: #800000; text-decoration-color: #800000; font-weight: bold\">GradientBoostingClassifier</span>\n",
              "</pre>\n"
            ]
          },
          "metadata": {}
        },
        {
          "output_type": "display_data",
          "data": {
            "text/plain": [
              "Ratio tiempo sin reducir \u001b[35m/\u001b[0m reducido: \u001b[1;36m1.5395\u001b[0m\n"
            ],
            "text/html": [
              "<pre style=\"white-space:pre;overflow-x:auto;line-height:normal;font-family:Menlo,'DejaVu Sans Mono',consolas,'Courier New',monospace\">Ratio tiempo sin reducir <span style=\"color: #800080; text-decoration-color: #800080\">/</span> reducido: <span style=\"color: #008080; text-decoration-color: #008080; font-weight: bold\">1.5395</span>\n",
              "</pre>\n"
            ]
          },
          "metadata": {}
        },
        {
          "output_type": "display_data",
          "data": {
            "text/plain": [
              "Ratio balance accuracy sin reducir \u001b[35m/\u001b[0m reducido:: \u001b[1;36m1.0150\u001b[0m\n"
            ],
            "text/html": [
              "<pre style=\"white-space:pre;overflow-x:auto;line-height:normal;font-family:Menlo,'DejaVu Sans Mono',consolas,'Courier New',monospace\">Ratio balance accuracy sin reducir <span style=\"color: #800080; text-decoration-color: #800080\">/</span> reducido:: <span style=\"color: #008080; text-decoration-color: #008080; font-weight: bold\">1.0150</span>\n",
              "</pre>\n"
            ]
          },
          "metadata": {}
        },
        {
          "output_type": "display_data",
          "data": {
            "text/plain": [
              "\n",
              "\u001b[1;31mXGBClassifier\u001b[0m\n"
            ],
            "text/html": [
              "<pre style=\"white-space:pre;overflow-x:auto;line-height:normal;font-family:Menlo,'DejaVu Sans Mono',consolas,'Courier New',monospace\">\n",
              "<span style=\"color: #800000; text-decoration-color: #800000; font-weight: bold\">XGBClassifier</span>\n",
              "</pre>\n"
            ]
          },
          "metadata": {}
        },
        {
          "output_type": "display_data",
          "data": {
            "text/plain": [
              "Ratio tiempo sin reducir \u001b[35m/\u001b[0m reducido: \u001b[1;36m1.2720\u001b[0m\n"
            ],
            "text/html": [
              "<pre style=\"white-space:pre;overflow-x:auto;line-height:normal;font-family:Menlo,'DejaVu Sans Mono',consolas,'Courier New',monospace\">Ratio tiempo sin reducir <span style=\"color: #800080; text-decoration-color: #800080\">/</span> reducido: <span style=\"color: #008080; text-decoration-color: #008080; font-weight: bold\">1.2720</span>\n",
              "</pre>\n"
            ]
          },
          "metadata": {}
        },
        {
          "output_type": "display_data",
          "data": {
            "text/plain": [
              "Ratio balance accuracy sin reducir \u001b[35m/\u001b[0m reducido:: \u001b[1;36m0.9776\u001b[0m\n"
            ],
            "text/html": [
              "<pre style=\"white-space:pre;overflow-x:auto;line-height:normal;font-family:Menlo,'DejaVu Sans Mono',consolas,'Courier New',monospace\">Ratio balance accuracy sin reducir <span style=\"color: #800080; text-decoration-color: #800080\">/</span> reducido:: <span style=\"color: #008080; text-decoration-color: #008080; font-weight: bold\">0.9776</span>\n",
              "</pre>\n"
            ]
          },
          "metadata": {}
        },
        {
          "output_type": "display_data",
          "data": {
            "text/plain": [
              "\n",
              "\u001b[1;31mLGBMClassifier\u001b[0m\n"
            ],
            "text/html": [
              "<pre style=\"white-space:pre;overflow-x:auto;line-height:normal;font-family:Menlo,'DejaVu Sans Mono',consolas,'Courier New',monospace\">\n",
              "<span style=\"color: #800000; text-decoration-color: #800000; font-weight: bold\">LGBMClassifier</span>\n",
              "</pre>\n"
            ]
          },
          "metadata": {}
        },
        {
          "output_type": "display_data",
          "data": {
            "text/plain": [
              "Ratio tiempo sin reducir \u001b[35m/\u001b[0m reducido: \u001b[1;36m1.1730\u001b[0m\n"
            ],
            "text/html": [
              "<pre style=\"white-space:pre;overflow-x:auto;line-height:normal;font-family:Menlo,'DejaVu Sans Mono',consolas,'Courier New',monospace\">Ratio tiempo sin reducir <span style=\"color: #800080; text-decoration-color: #800080\">/</span> reducido: <span style=\"color: #008080; text-decoration-color: #008080; font-weight: bold\">1.1730</span>\n",
              "</pre>\n"
            ]
          },
          "metadata": {}
        },
        {
          "output_type": "display_data",
          "data": {
            "text/plain": [
              "Ratio balance accuracy sin reducir \u001b[35m/\u001b[0m reducido:: \u001b[1;36m0.9794\u001b[0m\n"
            ],
            "text/html": [
              "<pre style=\"white-space:pre;overflow-x:auto;line-height:normal;font-family:Menlo,'DejaVu Sans Mono',consolas,'Courier New',monospace\">Ratio balance accuracy sin reducir <span style=\"color: #800080; text-decoration-color: #800080\">/</span> reducido:: <span style=\"color: #008080; text-decoration-color: #008080; font-weight: bold\">0.9794</span>\n",
              "</pre>\n"
            ]
          },
          "metadata": {}
        }
      ]
    },
    {
      "cell_type": "markdown",
      "source": [
        "Podemos observar que el tiempo mejora en todos los casos al usar menos atributos, aunque por el entorno en el que lo estamos ejecutando los ratios podrían ser variables. Hemos observado que mejoramos la precisión de los modelos XGBClassifier y LGBMClassifier entre un 2-3%. Para el resto de métodos no la empeoramos y mejoramos el rendimiento al requerir menos argumentos."
      ],
      "metadata": {
        "id": "8RmM43KgAiOb"
      }
    },
    {
      "cell_type": "markdown",
      "source": [
        "# **Creación del modelo final**"
      ],
      "metadata": {
        "id": "crY2XiXKUEwn"
      }
    },
    {
      "cell_type": "code",
      "source": [
        "weights = np.where(y_train == 0, 1 / np.sum(y_train == 0), 1 / np.sum(y_train == 1))\n",
        "\n",
        "# Entrenamiento del modelo\n",
        "model = GradientBoostingClassifier(random_state=13, learning_rate=0.5, max_depth=5, n_estimators=200)\n",
        "model.fit(X_train, y_train, sample_weight=weights)\n",
        "\n",
        "# Guardar modelo\n",
        "filename = 'modelo_final.pkl'\n",
        "pickle.dump(modelo, open(filename, 'wb'))\n"
      ],
      "metadata": {
        "id": "hVJNaZyZULiH"
      },
      "execution_count": null,
      "outputs": []
    },
    {
      "cell_type": "markdown",
      "source": [
        "# **Conclusión final**\n",
        "\n",
        "En este trabajo hemos realizado un análisis exhaustivo de un conjunto de datos de recursos humanos, con el objetivo de extraer información relevante que pueda ser utilizada para la toma de decisiones en una empresa. A lo largo del proceso, hemos aplicado técnicas de limpieza, transformación y visualización de datos, lo que nos ha permitido comprender mejor la estructura y las características del conjunto de datos. Además, hemos utilizado técnicas de modelado y aprendizaje automático para predecir la posibilidad de abandono de los empleados, obteniendo un modelo con una precisión de más del 90% (Gradient Boosting Ajustado con todos los atributos). \n",
        "\n",
        "Entre las principales enseñanzas de este trabajo, se destaca la importancia de la exploración y la limpieza de los datos, ya que un conjunto de datos mal estructurado puede afectar significativamente la calidad de los resultados obtenidos. También es importante seleccionar cuidadosamente las variables a incluir en un modelo de aprendizaje automático, ya que incluir variables irrelevantes o altamente correlacionadas puede reducir su precisión. Finalmente, es esencial evaluar la precisión de los modelos obtenidos y compararlos con modelos más simples para determinar si realmente están proporcionando una mejora significativa en la predicción de los datos. \n",
        "\n",
        "En conclusión, este trabajo ha demostrado la importancia de utilizar técnicas de análisis de datos y aprendizaje automático para mejorar la toma de decisiones empresariales. Al aplicar estas técnicas a un conjunto de datos de recursos humanos, hemos obtenido información valiosa sobre las características que pueden influir en la rotación de los empleados, lo que puede ser utilizado para desarrollar políticas de retención de personal y mejorar la eficiencia de la empresa."
      ],
      "metadata": {
        "id": "e3C0fVIcSdI3"
      }
    },
    {
      "cell_type": "markdown",
      "source": [
        "![graf-tiempo.png](data:image/png;base64,iVBORw0KGgoAAAANSUhEUgAAArgAAAIACAYAAABpWR83AAAAAXNSR0IArs4c6QAAAARnQU1BAACxjwv8YQUAAAAJcEhZcwAAEnQAABJ0Ad5mH3gAADcQSURBVHhe7d0NvFVlnS/wvxRDOgK+kEDhSa7CkGkSg/lGY6KmWZb5civHMsbpXksm7dM0o1Yf8tYoNXmVwnI+Mw1Z9nYVTWlMx7ccgXwLcTQz0IsCCpiv2EUZ7HDX2nudc/beZ+3zxgE5z/l+P58F61l7n73Xy7PX/q1nPXutHTa/+srmAACARAwp/gcAgCQIuAAAJEXABQAgKQIuAABJEXABAEiKgAsAQFIEXAAAkiLgAgCQFAEXAICkCLgAACRFwAUAICkCLgAASRFwAQBIioALAEBSBFwAAJIi4AIAkBQBFwCApAi4AAAkRcAFACApAi4AAEkRcAEASIqACwBAUgRcAACSIuACAJAUARcAgKQIuAAAJEXABQAgKQIuAABJEXABAEiKgAsAQFIEXAAAkiLgAgCQFAEXAICkCLgAACRFwAUAICkCLgAASRFwAQBIioALAEBSBFwAAJIi4AIAkBQBFwCApAi4AAAkRcAFACApAi4AbI9aW4sRoLcEXADY3rQ+Hwv/+aY46xfriglAbwi4ALA9eXll/Ogbd8YpD26Ka/7t3pjzwIbiAaCnBFwA2F6sXxZzvrI0PreyKEdrzP7xr+O+l4si0CMCLgBsD1Yvic/NeiRmry/KuSFD4sT93hgtQ/THhd7YYfOrr2wuxgGA18LDi+OUy5+JhTU5dtqkcXHhxyfHhBHaoqC3fGoA4LU2ae849U3V0T1GDI9vf+aIuGrmFOEW+kgLLgBsDx5/MOb935Fx0rtbQq6FLSPgAgCQFAGXAWxTbFy/ITYWpV4bulOM2HFoUWiNjX94KTbW/Y5jSAzbeXgMq2tJKXteN4a8IUbsPKwo1Hj5xVi/qRhvUzdPXdj4UqzvNBNDY8SInYrxGps2xPqXG9+oRLP57LFse6xeHQsffDqW//6PxbTMsDfEhAPGxrS9x8awHixaj/VguYbtOLL371m6brtSVk96YKu8T3n97Lwe+vDZ6WndbNO6MdavXB33/vaZ+vqQ1dOWfUfFfpPeFC2l9a2ny1CjbF0OGx4jerNRNj4fy5c9FQ89/GKsq10xI4Zn8zoq3j5+dJPX6+m+owuV987W1f3ZchSTciPGjY4DDxgXE3bvxeeybF30ZNv1xzqE7YiAywC2LObMfCRmF6Vee8ekWHPGxKLwTFz7lcXx6bprqg+Lb3/pmPjQ6KJYUfa8boweFw98aUrsURSrmrzOjqPi5q8dGvt1+Z2yMRZ++6Y45eGi2G7XWDD3XTG1KLV74M4Y+8/PF4VuDB0aMw5uiTPf+9Zo6fE50k3x9D33xgU/fSau6Sox5b8Gz76szznl7f3Tr7CHyzVh9+Ex4z2T4qRDxvbotO/Tv7gpDvi33kS/snrSva3zPuX16txPfiDOPqAoVPThs1P3eenCpmdi4TUPxuV3vRS3dnNc1bLzTnHqeybGjLpT8j1dhg5l6/K49x0a333vqKLUhd8/EvOuXBGXP7Yp2q/M1cTUll3jUydMjuMmDi+m5Hq67yixfmVce+VvYvbDXb93yy7D48wP7B8z3tn98pTWq+zgYMH/Ojym7liUS2zROoTtUD98ywC998e84aezl5+Jn9/XTeh54bdxbadwm9sQT/++GO2rTZti3p2PxUFfvCkuf7gHF5df/1jM+8ov4oDvdxNuc62tcc39K+Mvsteec18PA3c/WP7sS3H+j++NP/vcTTHvwZeKqfS//EBncZzxd4vjlDu7D7e5lX/YELOvWRpHz1vW9zMxfZUH8StvioMuWBbn9yDc5u5b+Xyc8c3bY879PVi4LmXvd9vtccoXl8anuwm3uZUvZHX4+4vj+G8uieV9uR7uyy/GeVe+BusYXkMCLrwmXoyVTcLoj+9f0eUX0cpfrokfFeONGs8w9lnrprjg8jvj2qe6eMGnHozzL/xNnN+b1uxc9tqzv3dnfO7fe/uHW2jTxjj/n26P037c9fqlD1pfivu+f0scnR3o3NDr7DckZhy2T2xJ55heW78s5szKgvhdG3sUbOvsPCqOPKC3/V5qbYiHfnxLHH/NS3WXBOuJ+5atjpO/cmefbvrw0APL4vIH1XwGDwEXXgsbN8ULxWijpx9cHbc2ezCejIX3NUsQ2Zf108Vod4YOiWm7DK0OzZJF68b48k9/U9cnsN3LWUD45oqY94ei3Ac/uv61uQXprYsejNO+rzWr/2yI++bdEcffsyl6Wv1q7bH3W+LUSdvwqyivuxc23EyhF2a8923ddCHqSmus/MWd8ZeL+rauck+vfz7OmLMkVvb6YLY1Zv/w1/FQfx0Ew3ZOH1wGsPIfytz74zvitAeLQuHsjx4en96/KLSp++FFT/vRlT/v4s8cHO8fUxQblf14a92SOOMrq+OGotioad+3hxfH0d9+Jh4qio1K+ymW9VWt60/ZGhuf+m1cMvexmNPpS3+nuPLCo+LIEUWxYkMs/PYtJX2AM0OGxqmHjYuPHjQ2Ju6WrduNf4hlWWD/8S3r4kdlgWJI9vr/K3v9XYpyb5Qt1/57x+8+Oi5eeGpNPPTIuph/x4tNWxTPPO2omHVw5x/llfZFnD45LjlqZFFq1LcfmW2d99mSPrgjs209OQ4sSp00+aHS0/9+Uxx9/camgW1qy8j46NTR0dJehzbFynueissf2RjLW4fErJnHxZl1AXdr9sF9Jm6YvTjOWF0UG2UHfqdOGB1HvnN4tM/u+pfi1rvWxTVPtcbTO4+Kmy9s7CPfiz64j98bp31jTdxaFGu1jN41zp0+Lv58/90i/zi88NTq+PWi1TH7/vJW5qmH7R8LPjq+KHUo7YNbozd/pw8uA1mfj0PhtTc0ho0YGSMahpGvLx6usePOnZ/Xq1+Ed2PHkSWv3zaUXkHhj+Uto4Ub7lpR8qW2MRbe2Tzc5v7zqWeKsd7IgtOb3hbn/o+xcWQxpcOGeOiJYrTNw0vjgrJwm63jq2YdExd/eP+Yuteo6rK/8c0xdfpBcfFXj4gF7yjZ3bRuiNnz+7E19fX5lSRGRsukSXHcCYfHdy9+V1x1wNCGH/hVXT7/19Fdd+d2O2bhrnab1g19uIJCM9vqfUoNiZGl71sMZZ+XFx6MS39eHm6nThwX/3Hh+2PB3x0ep06fFNOmtg37x6mfPib+4+LD4+aPv22btt6uv2NpnFcabofEjPdNjt9d/P64+NMHxnHt85oN0w+MWee/Px746v5xVTa/fW+9zQ62/k95uD0xO7D5jy+9Kz502PjsQKC6vlsmvS0+dMYxcfe54+LEkve8b9GyuLbhIKAn7lv0SPzocc24pG/b7VmADi++EguL0VLProsbHm74Etq4Ihb+phhvprX2cky9tNfI8ta7utl4MW69qSxkD4tvf+ZdMW33JruUIcNj6owD49vjinKNh+5f2UWXjC00ZNeY9sks6JaF65efj+/c1pcDAqpa46FfPBHzSrLS1HdMiqs/081duIaOjP3eOb6jpXRra10RP/rFhpIwPiTO/eT0uPC93dxcYZfxMW3fZq3rPfDIb+KSkqbY/Q6YFP/7xJbmfZDHTYn/fcauna+Okh0WfvvmFcV4b2yKz/1gaR+6OMDAIuDCa2D9C901HbbG/CX1TafrF62OOd18Kd2w9sVirA+66Bfcbn0WRh8rxmvsd/DE+NCbutmdDBkdH/rAqNivKHbYEAsf2IL57tZOMfW0iXFuySWSbrhvZZ/7Qg56rY/Grb8qqZA7j4qLZkxsHtheKw+uju+U9Bmfetjb4uwDSq4f3c8euv+5kgPDneKzp3S/roYd8Pb4VEtRqPHQA2u6PKPT1LrVccEv+tD8CwOIgAtbrDV+9+AjsfC+8uGhpzqH2Vc2dG5p3aPh0/jQPStjYfufPhO3Lmr4QVb2/E6n3vvcKrMpVt60Oi4vSh2GxYTi/vgVT7wQ/1aMdhgSJ03t3Kev1L5viRkl/W3nLdvKX7bDsgB+SMkp9nXPxYM9+LHR+vwGFiXbtjI8vK7fulhsq/cptzEeLHvfYljeePSz7Jn4eUl9O/U9W3Iaf+vJb+DQ+WBmp/jUe3tYd7fIM7HyiZKVtffomNaj/ucj48i/qL32buHll2L5U8V4F447YGQcV4y3ueGmpXGDjEvCBFzYYptizs+WxSnfKx8ueaDztVef/n3nqPJX0xv6wLa+GDfcVbRsrl4R8xu+jGYcMqrzacu1f+hZi+Tzz3eEl9vujQsuvCmO//eS+LT7brHfG4vxzNOry07xDo+pPbj+f9XYmPiWYrRWT+d7C7RM2LmkL+6mPON2a+EDK0u3bWWY/2T0V/vztnqfchvi/LL3LYYbGvpiP73ypdIWyeOmbsFp/K1mSwPmlnoulpf0/T1u4h497qIxrKVzSM0PSppdbrDOuEkxa3rDAV7rxjhv3lJnMEiWgAuvgVc6/bJ/SAybNC6O270oFubdvSLW530df7mu4ccpw+O4E0fF24tSu41/jFeK0S49vq4jvFyzJi7PfyFePNRhSJx78tuj5Mxog2w30uM9SW+e28/2+NOSfoyb4vdbNzWmq7S797AYuc061fbOxrKraYwYtu36AJcZ8rpipAd68dTOXhctJ2Qhd+eiWHh69cq49A4fANIk4MI290ys6nRacWiM3nVsTHtHQyvLyjXx88efiIUPNLQ+7btHHFjWce+FV/qtRebE6W+PM/ff7npSAn0xZHyc+YnOZ33mzV8SC/tydzTYzgm4sJ3ILwHVcsjohtOQm+KGK5bFdxq+gM6emt/5aWS01HQfqNoYL/bxAvbthg6LWR8/NC4r+2V3aSvSq/FKjzuHbix/7tBtsCta9VLJdYeHlaxDeuINO5VVhg2xarvs1zk0RjS0XlY8tfW7xlRl66qkiq9/uRe9qptdWrA3H51Jfx4XvbPhD1pfiguuXLaVu7/AtrcNvlUgdflF3T8Qa+aWD50vlP5crOwUAnaKPfKgNbol3t9wcfhbf99wndEhI2PaAXn0LPvSzL4Ee9IaU3sns3xoGRmz3jk2vjvzoHj84mPizHeWX9x9j5bhJVdB+H/x0GM9/HVb6xPx60eK8Rp7vGl46bVq+09rPPRI577QWUyLPZvdoKNGfsH7sm1bGb40pd/mfVu9T7ldY0HZ+xZD400WRrwlq4fFeIeNMf9Xa4rx7cnImPCWsh8Zrotbmt30oV+Niv1Kfsu28NHfd3k97FpP//a5kksLDosJPai/HYbFfqdMjHMbwn5+G9/Z9/XwMwwDhIAL21r2PdIpg2afxDdURkbFkYd1fcmiPd42uuiesFtJOOvh7Xr3mxhXffW9HcPfHR5nfvzAOG7S6K5vJjC+LNS0ZqHm0eydu7fxnifjX0u+R0+cWHKB3P607j/jO/eUvPHeu8VEe8G+2SurqyWXXrv1tv+Ma5/q/7D0QhetnStLrlTSqGXfkSUHZ5via1f25ba3vdUkYGdHurf2pMW79cm45a6SZdyl/kegPbLjxDjz5MZ10Ro3rGt2C3AYmOzaYVv7/R9ieTHa7o1/2t46N2LKqDi1GC/zVwe3XTcz+/iWfYK35pf1sH3iyMZbHmceun9ZXP5Aw2XMGr2cPednL3U+JTxkZBz5jq3Y13fTmrh23sq4pmS9nH3YxNf2R0b97o9bd/vXGR8nTi/Zbq0b49PfXBT39blfZ3l3goWPNrse1pOxrCf3O5g0MT7deOvczNOrV8dZ8/rxbnpNtLwzOyAoxjtsjC/P6y5gt8bKmx6Krz1bFGscOXVcD34E2tmwqQfGrH2LAiRKwIVtrZvb9OZ3TDpu72K80Y7Zl+T+HR/bPXbt3Cq0bN3WvDvXsJh2TNktfVtj9nfviNmLmrz37x+JOV9/JGaXXGj/yHfvE9O2Sr5tjY1P/SZmz7o3Pl12Gnr0uDh16lYM1lvZxnvujssfbOh28fBj8a9ll43aSnv6PY6Z2OmX+RV/eD6OP/+muPyedbGxNLxtivWP/ybmzL23JNyNjNFjOs/wQ3cti3mPNR5EbYqV/5aFv5I7lEx4427FWJtR8aFTSi6tl7nv/kfiL76yOBY2awne9GIsX3RnXPCzJ4sJfTDubXFmSajMA/Yp37g3lq8vWVGtL8XyX9wRZ/1bye2QhwyPM7PPYt/sFNNm7B1nSgAkbIfNr76yuRiHJNz33evj+PuLQuHcT3buQ1jvmbg2+4L7dN3pwrxv7THxobpWn7LnDY2zTxjf/HqaO+0aB+47umh1zTxwZ4z95+eLQuEdk2LNGR0Xk11/xy3xZ1d1bhHd7+D94+bTOjrzPf2Lm+KA7MuvVt6Ps67fbw/er3c2xkPfvzmOLjvln9lj2NB436SR0VIs8Lq1z8UNWYopuUtp5a5XN194aN9uDFC2XLsPj1l752+8KZY/8lLckoWG0h4bQ7Jte+7RpXdfK1un0w5oibPfUe1E0tnQmLj/3tlyF8Ue2rL3eTFu+PodcUa2UqftNSpOPWRkxGNr4kf3bYiFnTbLsPjurGPiuLpT2ctizszsgKMoVe0UF35iXEwoSp2MGpu9V+dr3G588M44+Z+ej/uKcidDhsS0ccPjyDHVg7EXnn0pfr16Y/tNTM487aiYdXBDt5xs2x6QbduybTch28bHZdt4l3wbP/xi/KjkoClflisvPCqO7NQ833Xdze0xbEgctfduMaES3LMA/cRLsfD3rbE8/5MsVF71tSNiWl3XjJ7uOzLrlsZZ/1B+NiE3tWVkvK9YT7ExW0dZHb61SeaeccrhceHhnbdHj/YJhXw/865sP9OsV1Ozv4OBQMAlOds+4HZj9Lh4oOYHQhvvuj32urKh5a0xcG78TVzwucca7iw2JGZ9+rg4c9+OUNaj1+r3gJtpXRfXfv3u8pbRnuoiZPZI2XL1yJCsPkxvenvWsoDQtSZhphtb9D7rlsQZX1ldclWIEruPjbsvOLDhVHZZwO1G0zqTHbz8+21xyvUbyg9iupPP36xs/mqrQeuKuPz8B+OC0vDavf2yef15Nq+lxxxZ3b3hG3dXDg764sjpfx5XnvjmopTrRcDNbMzq7clZvW16QNADU7Plu7rJ8vUm4ObzfsPsxXFGk8+xgMtA1sdvFqCvXnz+v4qxDse9qeF0at7XtfF05o67xbSacJsbtuPri7EazRun+s+Q0fGhs/ePWX29xFYWbi8++119D7d9NWRodpDQPNwOFCt/lYW0Yrw7M6ZP7FM/zZ4bEi3vmR43nzYypvVlcz67Jubd03gb6vEx46O7lnYn6NbOu8ZFpzYJt7ms7h73t++Kqw4Y2qerUtz6y2VbdN3YYQccFpedMrxvy5aZuv/e8cMZXSxfr4yK42a0xImSAAlSrWEbe/qFnvxaeVgcOHVk3RfwflPGdv4V+LDXdZ62DW57W7Hj+Djz/EPjyl4GhZbRo2LBrKPj1L23bcicNmlc/MdXj4kz9x3Y4TYqP4ca0qN1nrf0zSo5jd3/hsSIgw+Pq740MWb1siU7t3Jt577beRD8YW9D887D48rPHBZTS67uUGfIrjHtk0fFzR/PAl7JxQ269Lr/ipVPbckVB7IDgsMPjx9+Zmyc2pv3zg7Oznzf5Lj6f74tRvTnN/fot8ffH9M/cRm2JwIubGOvbOjcxNr5BzH5F/zY+Kv2a9XuFJ9+V8mFNHd9Q+fWuezle3S73v4wdFQc+clj4p7zJ8aFew+NCV3sUSa8adf49icPjbu/dGhM3X0b7Hrya/2OHh6z3jcxC7bvjatmTokJ/ZoMXivDouWEo+POz4yLM5v0+95jWPVmHQuanabfWt44Kc780nvjdzNbYlZWH7pqOc77as94196VbfPdE8qeWYTmr06O775jWJd1q/paE+OBrxwRR/b4rEB2YPbOQ+O7Xz88bj5xVMxo1oe+kPf9vfCjfx6/+/ox2cFZb1Nxo2zZJh4YF1fee9c4teyHem2GVtfT3dnB2az3ltx8ZYtlgfu9k+PbfTgwge2ZPrhA/2ndGOv/8FysXPZitP2wfZcxY2PC6JGRZRC2hpefieWPPhPrKt0us/A7cXS0jNhOWqnz+vDsM7HsiZfaD7ry+tCy+04xYsdeVoiSuhU7j4y3j9stRuzcT7Fv40vx9JqnY9kzbS20+frcLUbvuA3q78svxtPrsnXV9t7DhsfE8aNij/5aNhhkBFwAAJKSwvk6AABoJ+ACAJAUARcAgKQIuAAAJEXABQAgKQIuAABJEXABAEiKgAsAQFIEXAAAkiLgAgCQFAEXAICkCLgAACRFwAUAICkCLgAASRFwAQBIioALAEBSBFygwd3xD69/Q+zQafhI/Gh18ZQt8Kt/yF7rIz+NtUV5wLh7dmU9/MPdRblBZbmyx0/6ybpiymuomNcBt55X/zRO2l7WITCgCbhAvdWPx5Lsv68ueiU2v9oxrLky4i/36qfwsf9eMaYYHSjWrlha+X/Jis7Lv/YnH4lDH7wi1mTraf5HRhdTXyN5SDxsafzw8Wy7/eTDA2s9P7kirsn+u+axx6tlgD7aIfvi2lyMA1Rb/yoB6Sdx6rhiWiEPcmNPi9LHemZd/Ogjb4n5Jzzx2gfBfrMufnV3xCEHbR/Ls/bubGYOOmjAHUAA9CctuECdakvl5BhfEmDHTPtQnBg/i/kL61sx207Pd39a/PFYcXXElPGNYTAPvjWvkQ3lXQGq3Sc6tSKXdB9oPk/5a1S7W7Q9p+Pv6rtn1L5PHu53eP3s+FVRrsqf/5Y49LC3VP+mYaYrf1OZVrt8ja9RL5+nyvsWp+tr56Njmcq7i+SPjz3s8Bjb8HdVzZetTuV9q/NYXeaS57c/p2256uen+bqvavp4ZTs2Lls3812znqpD1+sXGBwEXKDnxu0VU4rRqmrAaTs9v/nVJ+KHcXqc1TQ8Vbs/1KkElLfEX+5/R7U7xONXZCH6hBj/5uLxOgfF9AsaT2Fn83DJl+PEK5+ILxxUlLuap2IeVlzxkbjtqGr3i+rf5UHq8Ij2rhl3xJTT5rWHpRWP/Szi5PExvihX5/vwWJK9b9vzvzrr8LoAVvmbuD173bMjvlE8J74c32i2frJ5X/Fg9t9j8+Kkv424LHvdNVeeENf87JfxoywUVuc3f43Gg4xqCOxY5vw5tQcSXS9bnaKbwIos3J4VcyrPr8xD7fOL59z2D23L1dai3119aHz8lVi8f8fjnQ+uup7vSgDf6/SYUjyez2fdNgIGLQEXqNMpyHVh7U/Ojr+8+suxuFd9PWvDaxZgsoASeUispswiPJW3IOfG752FmFm3d4Stu+dV5uFviy4P3c5T5fV/Fkv2nlME20Il+H45prdPOyi+8Oq5cUhRqqjpO/yrK06Pay64o6arxUFxRhFGqy2SRVidtTTGt3fp2CvGn9xVH9NqC/c1D46Py4r5HzN+csTVp8f8vdsCfONr5KHx8PhiNi/tfW4ry1KznnuybIVqyPxyzM/CbduyVVvul8aKomW17TlxVH1Xle7Wfdnjh3yhod9y3UFEF/N99+yiu0zbAUpRdwdg/26g/wm4QI0ilDULCUXrZ7VlcF3c9rOfxYlXzohD2n61//pu+tc2hNe1P7kkvpgFmLZwmmv7MVcz9WErC3eV1ttsHiqP9nSeToiTpjXM47h3x0knfzkOzf+mU/+I6no5ce+9ivLdcdusiK8e1Z68Oly9IlYUoxUXfLZTf+WO1yl34gnvbl//bWGydh3l2l+jEvBPiB+eXjMvRQtruy6XrUzn9+usNnjmulv3NY9X/6CTTgG16XxXt3v9ui3qLkBGwAVqVFsQmwWwtQuvzYJTW7CpPjd+dnbscMsRxSnkrq8iUAlrNS10lUBzwRE1gacagrpsQa6EnuIUfUPrbU/mqToPH4rpDaEzYnSc+pP8+U/EDx88PAtntX1Bi9dt09hCWqhv/a7+TX0IbnidRsXr1obvzi3q1ddo635Qtjy/uiULf3Wt4F0tW73O2yTTcGBS+pxu1339fHdWFlCbzXfJul39y5ifTevu4AEYHARcoGdW/zTOOq2kBe6EOR3dC7pRCUbtSgJNJbBm/3d5mnl0jN8/P0X/y4bW2xpdzFP9PJTJQ1UWqLIQveLJYlJdy3Wbmscrqq267a2vxd/UKX2dGo0tr21q10fD63Zanmw7fSObj/KDhJJlq9PYUp1ray1tC7TdtJR2Ux/KLrNWVQ2t5QG1Yb5L1m2ly0j2f/MADQwmAi7QoUkAa/sxT2Of08oPvmp/fFScmi4/C14Eo/awVg2q7f1p8x9tXRLx1ZO7b4U75KgscM06vaH1NtfdPDXOQ5u8H2tNq2Zx2r++hbamXGlFjvjiJW1XACj6wZ58RVzWNj+VsNq5lbfudRpUuyPUtryWBM6G1630Sb762ritMu95n+YVMSVbBx3L2JNlq9fRjzi/4sFbKut5cXtobRZEu1v3nR8vuzJFR93rYr6LHzt+8ZZqRctf5xuRHex0sW6BwUXABToULYhfPCzvP9kxjD1tcizOTzk3tMwd8oW8Va3oI5kPh0XleeUNeJ2D0SFfqF5VoPL3+VUDfjKjedeEWm8en4WZ7LVKWm+7nqcm4SwL9pGF7fxGFtW/abgOcGW9NJ7yz+b96tOLS3IVV4Go+fFU57CaTat08aifVqvSGlvSHaFW4+uO+cicSstmdd5vj+mvnhvTqw9Vdbdsdarv99UsM59VrL9DZ2XhtvYHaU0OgnLd1YfGx8f+7EOxpu21K69bE1C7nO+D4guL8oOcvNvCGypXe5h/eo9qDjBIuNEDAFV5K/pe18ZJfb6RB8D2QQsuAFVFCz7AQCfgAlBR1q0CYCDSRQEAgKRowQUAICkCLgAASRFwAQBIioALAEBSBFwAAJIi4AIAkBQBFwCApAi4AAAkRcAFACApAi4AAEkRcAEASIqACwBAUgRcAACSIuACAJAUARcAgKQIuAAAJEXABQAgKQIuAABJEXABAEiKgAsAQFIEXAAAkiLgAgCQFAEXAICkCLgAACRFwAUAICkDP+CuWxBnH3tZLC2KAAAMbgM84C6NuRetjAmTiiIAAIPeAA64a+P6cxbFtEtPipZiCgAA7LD51Vc2F+MDytK5n42Vp1wSHxidB9350XLpWTG5eKxMa2trrFq9uigBANBXQ4cOjTeNHVuUtj8DM+AuuSyOPn9BUWjz1vibK/LAWxQBABiUBmwLboeeteACADA4uEwYAABJSaAFFwAAOmjBBQAgKQIuAABJEXABAEiKgAsAQFIEXAAAkiLgAgCQFAEXAICkCLgAACRFwAUAICkCLgAASRFwAQBIioALAEBSBFwAAJIi4AIAkBQBFwCApAi4AAAkRcAFACApAi4AAEkRcAEASIqACwBAUgRcAACSIuACAJAUARcAgKQIuAAAJEXABQAgKQIuAABJEXABAEiKgAsAQFIEXAAAkiLgAgCQFAEXAICkCLgAACRFwAUAICkCLgAASRFwAQBIioALAEBSBFwAAJIi4AIAkBQBFwCApAi4AAAkRcAFACApAi4AAEkRcAEASIqACwBAUgRcAACSIuACAJAUARcAgKQIuAAAJEXABQAgKQIuAABJEXABAEiKgAsAQFIEXAAAkiLgAgCQFAEXAICkCLgAACRFwAUAICkCLgAASRFwAQBIioALAEBSBFwAAJIi4AIAkBQBFwCApAi4AAAkRcAFACApAi4AAEkRcAEASIqACwBAUgRcAACSIuACAJCUARxwl8bcY4+NoyvDZ+P6dcVkAAAGtR02v/rK5mJ8QFk699hYeOiNMXNKVli3IM6+as+YM3Ny9UGAfrT+5U3x5PMvx1PZkIrhbxgab95tx+z/18eIHYcWUwHSMGADbp0ll8XZq06KOR8cU0zobPPmzbFhw4aiBNAzd//f5+Mv/2lJUUrPQf9t1/jaf983xu36hmIKQPeGDBkSO+64Y1Ha/gzwgLs2rj/nE/GtOCt+cOnx0TzeVgPu008/XZQAuvfUCxvjuG8tLUrpetMuw+JfT983xoz4k2IKQNde//rXx+67716Utj9ptODmXRQuijivm5AL0BvnXHl//PSuVUUpbZf/1Z/HB6e8uSgBDGwD9Edm+Q/MLsv+Bdh6Bku4zf16xfPFGMDAN0AD7uSYeUVLzGu7isLpt8WR52m9BeirlH5AB5BGFwWArWDszOuLsfS9b/LY+Je/PrAoAQxsbvQAAEBSBFwAAJIi4AIAkBQBFwCApAi4AAAkRcAFACApAi4AAEkRcAEASIqACwBAUgRcAACSIuACAJAUARcAgKQIuAAAJEXABQAgKQIuAABJEXABAEiKgAsAQFIEXAAAkiLgAgCQFAEXAICkCLgAACRFwAUAICkCLgAASRFwAQBIioALAEBSBFwAAJIi4AIAkBQBFwCApAi4AAAkRcAFACApAi4AAEkRcAEASIqACwBAUgRcAACSIuACAJAUARcAgKQIuAAAJEXABQAgKQIuAABJEXABAEiKgAsAQFIEXAAAkiLgAgCQFAEXAICkCLgAACRFwAUAICkCLgAASRFwAQBIioALAEBSBFwAAJIi4AIAkBQBFwCApAi4AAAkRcAFACApAi4AAEkRcAEASIqACwBAUgRcAACSIuACAJAUARcAgKQIuAAAJEXABQAgKQIuAABJEXABAEiKgAsAQFIEXAAAkiLgAgCQFAEXAICkCLgAACRFwAUAICkDOOAujbnHHhtHV4bLshIAAAzggLt07hXRcsWNcfON2XBhxOfnirgAAETssPnVVzYX4wPI2li7bkyMGV0Ul1wWRy8+LG6eObmY0NnmzZvjueeeK0oA3dtv1qJiLH1H7bt7XPrhSUUJoGuve93rYpdddilK258BGnBr5V0VFsW0G8+K5vG2GnDXr19flAC6N+kLdxRj6XvP20bFN099W1EC6NqQLOAO33nnorT9GeABNw+3eVeFS+IDba25AP1k7Mzri7H0vW/y2PiXvz6wKAEMbAP8R2bCLQAA9QZowM3D7blxXfw2vnV6cSWFcxbE2uJRAAAGrwT64AJsHbooAAxMbvQAAEBSBFwAAJIi4AIAkBQBFwCApAi4AAAkRcAFACApAi4AAEkRcAEASIqACwBAUgRcAACSIuACAJAUARcAgKQIuAAAJEXABQAgKQIuAABJEXABAEiKgAsAQFIEXAAAkiLgAgCQFAEXAICkCLgAACRFwAUAICkCLgAASRFwAQBIioALAEBSBFwAAJIi4AIAkBQBFwCApAi4AAAkRcAFACApAi4AAEkRcAEASIqACwBAUgRcAACSIuACAJAUARcAgKQIuAAAJEXABQAgKQIuAABJEXABAEiKgAsAQFIEXAAAkiLgAgCQFAEXAICkCLgAACRFwAUAICkCLgAASRFwAQBIioALAEBSBFwAAJIi4AIAkBQBFwCApAi4AAAkRcAFACApAi4AAEkRcAEASIqACwBAUgRcAACSIuACAJAUARcAgKQIuAAAJEXABQAgKQIuAABJEXABAEiKgAsAQFIEXAAAkiLgAgCQFAEXAICkCLgAACRFwAUAICkDPOAujbnHHhtzlxRFAAAGvYEbcNctiLOPXRQtn3prMQEAACJ22PzqK5uL8QFl7ZKlEVMmR1z32bh6z0ti5pTigSZaW1tjzZo1RQmge1Mv+nUxlr7pf7ZLfP3EvYsSQNdeP3RojN5jj6K0/RmwAbfN2h4G3NzGjRuLMYDu7fW5m4qx9B27/+i4/BOTixJA13bYYYf4kz/5k6K0/RlUARegN8bOvL4YS9/7Jo+Nf/nrA4sSwMDmKgoAACRlAAfc6hUUPvad38Z15x8bR5+zINYWjwAAMHgN+C4KAFuLLgoAA5MuCgAAJEULLtT46V2r4lePPhOrnn25mDLwHTJh9/jwQXvGnrvvVEyhp7TgAgxMAi5kVj27Ic65cmksXv5MMSU9nzvuz+Jvs4GeE3ABBiZdFCCTerjNXXzD7yot1ACQOgGXQS8PfamH2zb/524BF4D0CbgMeque21CMpS8P8nl3DABImYDLoLd6EAVcABgMBFwAAJIi4AIAkBQBFwCApAi4AAAkRcAFACAp7mTGoHfOlfcPqhsg3HPBUW7b20PuZEZ38n1HfqnBXy1/tpgy8O25+45xyD6j4sMH71lMgYFHwGXQE3BpRsClKyfNWZz0TWLygHvpae8oSjCw6KIAAL2UHxinfgfE/MA/X04YiARcAOilwXLWp9IFw90PGYAEXADohcHUpSk3mG5nTjoEXACgqVXPvlyMwcAh4AIAkBQBFwCApAi4AAAkRcAFACApAi4AAEkRcAEASIqACwBAUgRcAACSIuACAJAUARcAgKQIuAAAJEXABQAgKQIuAABJEXABAEiKgAsAQFIEXAAAkiLgAgCQFAEXAICkCLgAACRFwAUAICkCLgAASRFwAQBIioALAEBSBFwAAJIi4AIAkBQBFwCApAi4AAAkRcAFACApAi4AAEkRcAEASIqACwBAUgRcAACSIuACAJAUARcAgKQIuAAAJEXABQAgKQIuAABJ2WHzq69sLsZhUDrnyvvjp3etKkrpu+eCo2LP3XcqSnRl7Mzri7H0vW/y2PiXvz6wKNGVfH+R7zcGi0tPe0d8+OA9ixI9tXj5M9nwbKx+bkMxZeA7ZJ9RA6YuCLgMegIuzQi4lBFw6cqqZzdk9WNpJeCmKP/+mP+ZQ7f77xFdFAAA+knK4TaXB/iTvrk41r7wSjFl+yTgAgD0g7x1P+Vw2yYPuRct+G1R2j4JuAAA/eBXj6YfbtusfVELLgBA8vIflQ0WuigAAMA2JOACAJAUARcAgKQIuAAAJGVQ3ughv7zFquc2JNUZfM/ddoo9d98xDp0wqphCT7nRA8240QNl3OiBZt4565ZKxhgMJo4ZHnd88YiitP0ZdAE3vz7dSXMWF6W05KHlvx+0Z/ztcX9WTKEnBFyaEXApI+DSjIC7/RhUXRRSDre5/EN18Q2/G1Q7XgCARoMq4F58w7JiLG1514vBcCcVAIAyAzfgrlsQZx97bBydD+csiLXF5K4MltCXt+QOpotNAwDUGqABd21cf9FtceQVN8bNN2bDx1fGx+YuLR4rt/7lTcXY4LD6ucHRBwgAoNHADLjr7o1bY3q8c3RRnnJYfPDni6LriAsAwGAwMK+ikHdPuGrPmDNzcjFhacw9dlFMu/GsaJvS6Nn1G+KKa/+9KKVv+NDNsfuORYEuPftyxEubdihK6dtrxKC7MmCfrXpp8NSLN7xuc7zRxTV65KX/yvYbrwyeurH7GzbH8D8pCnRpzf+L2PjHwVE3/vRPd4r/efJ7itL2Z+AG3Isizrv0+BhTmdB9wAUAYHAYmF0URh8YR8Ztcc+6orxkUVz3/sOEWwAABvCNHvJW3NMvi4fz8UlnxQ/aW3MBABjMBuWtegEASNegutEDAADpE3ABAEiKgAsAQFIEXAAAkjIwA+6Sy+Lobm7N27X8urnHxtwlRbGTpbG0/bG1cf05x8bZ160tys1UX/Po9uGybMprqbtlpLfWXvfZrrdrfmWPrupl/nhdHflsXN92qbt+sHbJ0qy20hNL59Zuh558vptbOrdtO/b9M1e67bZhfanU7XMWqD/9qvrdUfddVWzTtjpS3afUbOP25xZ/W/PYltTRTtZl33H9WJfomXy/02n/kOeZrr5Xusg7S7PPcK0+1adKnSzbt1T/ZiBniEHagjs5Zt54Y8ycUhQbLVkUC4vRiDHxgUtvjDkf7MlFyI6Pf8xe9+Z8uDDi812Fna2um2Wkl9bGPbfvE3/zqUdj4ZZ84PNL2rXXkX3iW1f1Vx3J5m/xqmKcruRfMvP2/F51GxTDeXFvPxyQ9vUz18W220b1ZcwHL4mbXWqxn+XfHd+Lv3n03CIkZIHhotviyCuqdSQPIx9bdXpdPbz50FU1QeOt8TfZc6uPzY4J35nfD3W0au1di2JlMc5rbMpZ2fbty02qlsbCxcVoZovq06SIWxv2LWuv+1rcmv3NQJZUwK07emkPl2Utq/mRSXHEVNtKkv9NfrR0/oK47vysXLRodLTQ1B4Fdd2asnbVo7Hvnm1fF7Xz0HGk1tiKNHdJdb7mFtOrO8Wyv62dj2Ja5SiwOq16ZFazjHXPr289mHtdx/IP5CO1rW7J/PjWPofFBw6eHsu/X9vSVbN9si+vDjXTu2gZK68jNXWrZrt2vE7j9s/Ln4hv/fyy+Fg2zXbsQvZ5n/foWXFewwHrmA8eX/mCqXwm5hbrvLIPKfms5VPb9zWfzV6vmFh5bttzyj632bRsG17f9rmvbM/ebbutVl+yv6vdb1zfvnwdy9x5f1U8QBeykHveWZV9xtI8MBzx9/GB0fn0pXH1d/aJf2y/3XxhyvHF4yUmtRQHILXbs3Y7dF8n8m1cCULfWRDfOj2b9po2wlCRZ5BiO9RlmGJ7VS1q37bVafm2Pjeu+/m52bR8W29Jfcrsc3rMiLYDsVz2erdPjxlHFMWBKr8O7oAb7rl481GX3lU/7cmrNn9m5lWb1xTl+y999+Zv3fPK5jXzP1X5P5/WMf745utmXrz5/rpp+Ws8Xvn7umnZcP+ln9p83ZPV6Z+Z/3gx/fHN99/TNp4Pd23+1lHv3nxUMXQ8r2NeKuVsPr+VP5bPb9sytI/n81Xz3J78bfY3a7J5a5vHfNqabDkal7FjfvL57Jh+VNs6q3tNQ+NQu37rx2u2T029XDP/qso6rntOvo5r6khtHW7cztW63LGtqq9ZbMeS7V/ZrjX139BkaF+3NeXK9qj5TNR+Du65quNzVbv+218j/5y11YeOz1zp57bYR7RN76hHTbZd+7xtg/qS1d3qPqK6D2rbX+Sv0V53216j7vUMPRkq9apm29TuhzvK+XaurUs1275suza8TnmdqK1n2d9Wvhvqpxm23VC3jdqG9s9T7WeyZjz/Xmnf/jXT6z6HHfWgo9yz+lT2/m3z2f75b3/dgTWk04L75Mp4eJ89249IJh96fCxftTbG7LlP5f9m8lNz0xbnR0bZUVD21/XtOvXWrvptTGhvQRkTk6c0PrvaReEHn6pt1l8bKx+NaotwfgR2+mVxXT4/o/eMCY+uyh5t9NZoeXMx2vRvj485hy4qjuayOcmO0CbP/PuIi/LnXRZrR9fPV/18T45p7380VhZH9/secWDHMpfOD5VWv5//ttrika3zz2fjt96Vr6l8+9Rsrze3xL7F6JgPHhgri1aWz/+8mJirPeWcb8OiFa/udSq3ol4Za9etiuU1R9ljDp4e0WT70wuPZOu2GK2syxu/F38zqShnOlpJM1OOj5arqtvxY9/5bXVa3b5mTLTsUxmp0eRzW3F8TGvvwvDbWPlkMdrMa1Jf3hpHHtyxDir7z6b7K7qV7T8uun16/KBTt7WO/XBb95Z/fH9RrKg9pXxYLCxaZcv3503qRDba1XcD25NsX1Jss07ef1hHF4ba/VedvtWnDpPj5CNui6uvy77vYnYS3RvTCbh5uKjZAS9dvKC6E5hyVsxY9YnqF9Sq00s32uSZ+QY/PVZmX0RdnbAZs+dbuwzLbcZ88O/jyNu/VlSe/AuwtmJlQ+U0QlYBP76ycorw6NNXxozGUwsVzf42U+m3c2Nl2aqnFap9hW++oiXmtZ+arKqf76Wx8Of7RItQ1GNr77otJlxYsw3a+y/l26c8pCyd+7WI86rPr9/J1MjrbGVn1fA66+6NW7Nd3Zg8VNTszPL5iLYvtk7bnx7Jwt6M92c78PZTf13LTxkuPLS6HdsPXBv2NZ118bndEq9pfenJ/orO1lb73Z53fIzJtsE/tp8GzsLEp6IXfaqzbT6pus3L9+dN6kSl0Py7ge1J3p0l20b5Z+zYK6IlrzPFI93re32qNeaDp0d8J6uvp6Tx+R64AbfS9ySvCNmQf2izL67zsqOPyg44Gz7fdgSy5LKOFrTsbzr6tFR19Cs7N5Z/6qSsmuQ7kH2K1pf6wFsNrtWwnA+Nr9Uhr6jT49bTq/2jJs/Mw3Pb+2RD5Sh+acw9f0H16bEgPt9kx1P6tzV9qj7/6Flx8pSaPllZSJ/w8foPRv18nxtxYV86tA9SeevLd/apaXXL5TuTRyutMZNPOSuW17TUPVw8Y8ye2c6m2G7zHq1p0X+k2u+x+vz8ByfVbTF55uyI9tcpvhCzR2bmrT7F8z92+/Rq39FO2z9/4WyHFdXXbl4vyeUHtG0HvdXhE5X+1WWfiY59wbFx0e3FxDwk79OxHeta6Avln/lmuth220196dn+ilp5P8lP1PS7zbZbsb/Ivxfys4c/2POK9m1T3T7T453tjQ8dZ43yOnrrEd+rfKc125+X14ny74b2/ZPtuM21n9nJhvrPXn4w1PYdkm/7rhvcKmdVihy0JfWpXt7ye0nzfrsDzA55P4ViPElL514WMbMt0GU7nHNWxcnbw6+Fsy+duXFWewXLf8i28pR0KhaQEPsr2LrWLYi5dx0YM4sfwOZnj67e85KSEEpPJR5w81+Mzq/8YrQqP224feyU12aV+ersCO26orzvp77Xw0uRAWxb9lewla1bGnMvOjeue6Qov392/3RtGsSSb8EFAGBwGaQ3egAAIFUCLgAASRFwAQBIioALAEBSBFwAAJIi4AIAkBQBFwCApAi4AAAkRcAFACApAi4AAEkRcAEASIqACwBAUgRcAACSIuACAJAUARcAgKQIuAAAJEXABQAgKQIuAABJEXABAEiKgAsAQFIEXAAAkiLgAgCQFAEXAICkCLgAACRFwAUAICkCLgAASRFwAQBIioALAEBSBFwAAJIi4AIAkBQBFwCApAi4AAAkRcAFACApAi4AAEkRcAEASIqACwBAUgRcAACSIuACAJAUARcAgKQIuAAAJEXABQAgKQIuAABJEXABAEiKgAsAQFIEXAAAEhLx/wHsRg9hwZ4D0wAAAABJRU5ErkJggg==)![graf-acc.png](data:image/png;base64,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)"
      ],
      "metadata": {
        "id": "oxzdzZJoawvO"
      }
    }
  ]
}